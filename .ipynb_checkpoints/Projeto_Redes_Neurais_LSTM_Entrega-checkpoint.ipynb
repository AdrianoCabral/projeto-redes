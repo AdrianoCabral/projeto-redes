{
 "cells": [
  {
   "cell_type": "markdown",
   "metadata": {
    "id": "2VnJfNuIWJB0"
   },
   "source": [
    "## IF702 - REDES NEURAIS\n",
    "\n",
    "**Grupo:**\n",
    "- Adriano Felipe Cabral Filho (afcf)\n",
    "- Felipe Rodrigues de Souza (frs3)\n",
    "- Lucas Vinícius José da Silva (lvjs)\n",
    "- Pedro José Carneiro de Souza (pjcs) \n",
    "- Vitor Sousa Silva (vss2)\n",
    "\n",
    "\n",
    "Obs: por alguma razão os gráficos do optuna não apareceram no arquivo, mas são tecidos comentários sobre os mesmos na última seção do documento."
   ]
  },
  {
   "cell_type": "code",
   "execution_count": null,
   "metadata": {
    "colab": {
     "base_uri": "https://localhost:8080/"
    },
    "id": "aA8EhILHB2dP",
    "outputId": "f31da54b-3dd8-46ca-dc59-14e2b64a8fac"
   },
   "outputs": [
    {
     "name": "stdout",
     "output_type": "stream",
     "text": [
      "fatal: destination path 'predicting-bitcoin-prices-using-LSTM' already exists and is not an empty directory.\n",
      "WARNING:tensorflow:From /home/vitor/.local/lib/python3.8/site-packages/tensorflow/python/compat/v2_compat.py:101: disable_resource_variables (from tensorflow.python.ops.variable_scope) is deprecated and will be removed in a future version.\n",
      "Instructions for updating:\n",
      "non-resource variables are not supported in the long term\n",
      "Tamanho do X treino (1018, 7, 1)\n",
      "Tamanho do y treino (1018, 1)\n",
      "Tamanho do X teste  (248, 7, 1)\n",
      "Tamanho do y teste  (248, 1)\n",
      "[]\n"
     ]
    }
   ],
   "source": [
    "!git clone https://github.com/brynmwangy/predicting-bitcoin-prices-using-LSTM/\n",
    "!pip3 install tensorflow --quiet\n",
    "!pip3 install numpy --quiet\n",
    "!pip3 install scikit-learn --quiet\n",
    "!pip3 install pandas --quiet\n",
    "!pip3 install matplotlib --quiet\n",
    "!pip3 install optuna --quiet\n",
    "!pip3 install plotly --quiet\n",
    "!pip3 install nbformat --quiet\n",
    "\n",
    "import tensorflow as tf\n",
    "import tensorflow.compat.v1 as tf\n",
    "tf.disable_v2_behavior()\n",
    "import numpy as np\n",
    "import pandas as pd\n",
    "from sklearn.preprocessing import StandardScaler\n",
    "from sklearn.model_selection import train_test_split\n",
    "scaler = StandardScaler()\n",
    "\n",
    "dados = pd.read_csv('./predicting-bitcoin-prices-using-LSTM/btc.csv')\n",
    "dados = dados[::-1]\n",
    "dados.reset_index()\n",
    "\n",
    "dados = scaler.fit_transform(dados['Close'].to_numpy().reshape(-1,1))\n",
    "\n",
    "def window_data(data, window_size):\n",
    "    X = []\n",
    "    y = []\n",
    "    \n",
    "    i = 0\n",
    "    while (i + window_size) <= len(data) - 1:\n",
    "        X.append(data[i:i+window_size])\n",
    "        y.append(data[i+window_size])\n",
    "        \n",
    "        i += 1\n",
    "    assert len(X) ==  len(y)\n",
    "    return X, y\n",
    "X, y = window_data(dados, 7)\n",
    "\n",
    "X_treino = np.array(X[:1018])\n",
    "y_treino = np.array(y[:1018])\n",
    "X_teste  = np.array(X[1018:])\n",
    "y_teste  = np.array(y[1018:])\n",
    "\n",
    "print(\"Tamanho do X treino {}\".format(X_treino.shape))\n",
    "print(\"Tamanho do y treino {}\".format(y_treino.shape))\n",
    "print(\"Tamanho do X teste  {}\".format(X_teste.shape))\n",
    "print(\"Tamanho do y teste  {}\".format(y_teste.shape))\n",
    "\n",
    "gpus = tf.config.list_physical_devices('GPU')\n",
    "if gpus:\n",
    "  try:\n",
    "    for gpu in gpus:\n",
    "      tf.config.experimental.set_memory_growth(gpu, True)\n",
    "    logical_gpus = tf.config.list_logical_devices('GPU')\n",
    "    print(len(gpus), \"Physical GPUs,\", len(logical_gpus), \"Logical GPUs\")\n",
    "  except RuntimeError as e:\n",
    "    print(e)\n",
    "print(gpus)"
   ]
  },
  {
   "cell_type": "code",
   "execution_count": null,
   "metadata": {
    "id": "l5kVXTk_Ou_x"
   },
   "outputs": [],
   "source": [
    "configs = {\n",
    "  \"batch_size\"   : 7,\n",
    "  \"window_size\"  : 7,\n",
    "  \"hidden_layer\" : 32,\n",
    "  \"clip_margin\"  : 20,\n",
    "  \"learning_rate\": 0.001,\n",
    "  \"epochs\"       : 60,\n",
    "  \"stddev\"       : 0.05,\n",
    "  \"epochs_print\" : 10\n",
    "}"
   ]
  },
  {
   "cell_type": "markdown",
   "metadata": {
    "id": "6lxBlbfCWJB6"
   },
   "source": [
    "### Parâmetros\n",
    "Tamanho do batch/janela: 7\n",
    "Hidden layer: 32\n",
    "Margem de clip: 20\n",
    "Taxa de aprendizado: 0.001"
   ]
  },
  {
   "cell_type": "code",
   "execution_count": null,
   "metadata": {
    "id": "E7TtNMjuYmIb"
   },
   "outputs": [],
   "source": [
    "# Pesos da via de entrada, inputs, objetivos, camada oculta e viés\n",
    "\n",
    "inputs = tf.placeholder( tf.float32, [ configs[\"batch_size\"], configs[\"window_size\"], 1 ] )\n",
    "targets = tf.placeholder( tf.float32, [ configs[\"batch_size\"], 1 ] )\n",
    "\n",
    "weights_input_gate = tf.Variable( tf.truncated_normal([ 1, configs[\"hidden_layer\"] ], stddev=0.05) )\n",
    "weights_input_hidden = tf.Variable( tf.truncated_normal( [ configs[\"hidden_layer\"], configs[\"hidden_layer\"] ], stddev=0.05) )\n",
    "bias_input = tf.Variable( tf.zeros( [ configs[\"hidden_layer\"] ] ) )\n"
   ]
  },
  {
   "cell_type": "code",
   "execution_count": null,
   "metadata": {
    "id": "MuqhkS_mamaN"
   },
   "outputs": [],
   "source": [
    "# Pesos da via do esquecimento, camada oculta e viés\n",
    "\n",
    "weights_forget_gate = tf.Variable( tf.truncated_normal( [1, configs[\"hidden_layer\"]], stddev=0.05) )\n",
    "weights_forget_hidden = tf.Variable( tf.truncated_normal( [ configs[\"hidden_layer\"], configs[\"hidden_layer\"] ], stddev = configs[\"stddev\"] ) )\n",
    "bias_forget = tf.Variable( tf.zeros( configs[\"hidden_layer\"] ) )\n"
   ]
  },
  {
   "cell_type": "code",
   "execution_count": null,
   "metadata": {
    "id": "45-vNPNIbaKi"
   },
   "outputs": [],
   "source": [
    "# Pesos da via de saída, camada oculta e viés\n",
    "\n",
    "weights_output_gate = tf.Variable( tf.truncated_normal( [1, configs[\"hidden_layer\"]], configs[\"hidden_layer\"] ) )\n",
    "weights_output_hidden = tf.Variable( tf.truncated_normal( [ configs[\"hidden_layer\"], configs[\"hidden_layer\"] ], stddev = configs[\"stddev\"] ) )\n",
    "bias_output = tf.Variable( tf.zeros( configs[\"hidden_layer\"] ) )\n"
   ]
  },
  {
   "cell_type": "code",
   "execution_count": null,
   "metadata": {
    "id": "PBWFgXd052yx"
   },
   "outputs": [],
   "source": [
    "# Pesos da célula de memória, camada oculta e viés\n",
    "\n",
    "weights_memory_cell = tf.Variable( tf.truncated_normal( [1, configs[\"hidden_layer\"]], stddev=0.05 ) )\n",
    "weights_memory_cell_hidden = tf.Variable( tf.truncated_normal( [configs[\"hidden_layer\"], configs[\"hidden_layer\"]], stddev = configs[\"stddev\"] ) )\n",
    "bias_memory_cell = tf.Variable( tf.zeros( [configs[\"hidden_layer\"] ] ) )\n"
   ]
  },
  {
   "cell_type": "code",
   "execution_count": null,
   "metadata": {
    "id": "n3DeL7Za6QCd"
   },
   "outputs": [],
   "source": [
    "# Pesos da camada de saída (e viés)\n",
    "\n",
    "weights_output = tf.Variable( tf.truncated_normal( [configs[\"hidden_layer\"], 1], stddev = configs[\"stddev\"] ) )\n",
    "bias_output_layer = tf.Variable( tf.zeros([1]) )\n"
   ]
  },
  {
   "cell_type": "code",
   "execution_count": null,
   "metadata": {
    "id": "CL8S_BWr6gsg"
   },
   "outputs": [],
   "source": [
    "# Montando nossa célula LSTM\n",
    "\n",
    "def LSTM_cell(input, output, state):\n",
    "    # Via de entrada\n",
    "    input_gate = tf.sigmoid(tf.matmul(input, weights_input_gate) + tf.matmul(output, weights_input_hidden) + bias_input)\n",
    "    \n",
    "    # Via do esquecimento\n",
    "    forget_gate = tf.sigmoid(tf.matmul(input, weights_forget_gate) + tf.matmul(output, weights_forget_hidden) + bias_forget)\n",
    "        \n",
    "    # Célula de memória\n",
    "    memory_cell = tf.tanh(tf.matmul(input, weights_memory_cell) + tf.matmul(output, weights_memory_cell_hidden) + bias_memory_cell)\n",
    "    \n",
    "    # Estado (combinação dos anteriores)\n",
    "    state = state * forget_gate + input_gate * memory_cell\n",
    "\n",
    "    # Via de saída\n",
    "    output_gate = tf.sigmoid(tf.matmul(input, weights_output_gate) + tf.matmul(output, weights_output_hidden) + bias_output)\n",
    "    \n",
    "    # Saída (aplicação de função tangente à via de saída)\n",
    "    output = output_gate * tf.tanh(state)\n",
    "    return state, output\n"
   ]
  },
  {
   "cell_type": "code",
   "execution_count": null,
   "metadata": {
    "id": "Ax6uW6pz7l_E"
   },
   "outputs": [],
   "source": [
    "# Percorrendo janela de dados e salvando resultados\n",
    "\n",
    "outputs = []\n",
    "for bs in range(configs[\"batch_size\"]):\n",
    "    batch_state  = np.zeros([1, configs[\"hidden_layer\"]], dtype=np.float32)\n",
    "    batch_output = np.zeros([1, configs[\"hidden_layer\"]], dtype=np.float32)\n",
    "\n",
    "    for ws in range(configs[\"window_size\"]):\n",
    "        batch_state, batch_output = LSTM_cell( tf.reshape( inputs[bs][ws], (-1, 1) ), batch_state, batch_output )\n",
    "\n",
    "    outputs.append( tf.matmul( batch_output, weights_output ) + bias_output_layer )\n"
   ]
  },
  {
   "cell_type": "code",
   "execution_count": null,
   "metadata": {
    "colab": {
     "base_uri": "https://localhost:8080/",
     "height": 1000
    },
    "id": "xvEBRO9b8owK",
    "outputId": "b4bf3c21-6e7f-4e56-b7ee-7d4950bd89f9"
   },
   "outputs": [
    {
     "name": "stdout",
     "output_type": "stream",
     "text": [
      "Epoch 0/60  LOSS: 0.2114369124174118\n",
      "Epoch 10/60  LOSS: 0.012839341536164284\n",
      "Epoch 20/60  LOSS: 0.012306488119065762\n",
      "Epoch 30/60  LOSS: 0.009708047844469547\n",
      "Epoch 40/60  LOSS: 0.0033579072915017605\n",
      "Epoch 50/60  LOSS: 0.0004409407847560942\n"
     ]
    }
   ],
   "source": [
    "# Definindo perda\n",
    "\n",
    "losses = []\n",
    "\n",
    "for o in range(len(outputs)):\n",
    "    losses.append( tf.losses.mean_squared_error( tf.reshape( targets[o], (-1, 1) ), outputs[o] ) )\n",
    "\n",
    "loss = tf.reduce_mean(losses)\n",
    "\n",
    "# Definindo o otimizador com o gradiente de clipagem (?)\n",
    "gradients   = tf.gradients( loss, tf.trainable_variables() )\n",
    "clipped, _  = tf.clip_by_global_norm( gradients, configs[\"clip_margin\"] )\n",
    "optimizer   = tf.train.AdamOptimizer( configs[\"learning_rate\"] )\n",
    "trained_opt = optimizer.apply_gradients( zip( gradients, tf.trainable_variables() ) )\n",
    "\n",
    "session = tf.Session()\n",
    "session.run( tf.global_variables_initializer() )\n",
    "\n",
    "for e in range(configs[\"epochs\"]):\n",
    "    trained_scores = []\n",
    "    ee = 0\n",
    "    epoch_loss = []\n",
    "    while(ee + configs[\"batch_size\"]) <= len(X_treino): \n",
    "        X_batch = X_treino[ee:ee+configs[\"batch_size\"]]\n",
    "        y_batch = y_treino[ee:ee+configs[\"batch_size\"]]\n",
    "\n",
    "        o, c, _ = session.run( [outputs, loss, trained_opt], feed_dict={inputs:X_batch, targets: y_batch} )\n",
    "\n",
    "        epoch_loss.append(c)\n",
    "        trained_scores.append(o)\n",
    "        ee += configs[\"batch_size\"]\n",
    "\n",
    "    if(e % configs[\"epochs_print\"]) == 0:\n",
    "        print( 'Epoch {}/{}'.format(e, configs[\"epochs\"]), ' LOSS: {}'.format( np.mean( epoch_loss ) ) )"
   ]
  },
  {
   "cell_type": "code",
   "execution_count": null,
   "metadata": {
    "id": "HuRwrn5dBOKj"
   },
   "outputs": [],
   "source": [
    "\n",
    "sup = []\n",
    "for ts in range(len(trained_scores)):\n",
    "    for tsr in range(len( trained_scores[ts] )):\n",
    "        sup.append( trained_scores[ts][tsr][0] )\n",
    "\n",
    "tests = []\n",
    "t = 0\n",
    "while( t + configs[\"batch_size\"] <= len(X_teste) ):\n",
    "    o = session.run( [outputs], feed_dict = { inputs: X_teste[t:t+configs[\"batch_size\"]] } )\n",
    "    t += configs[\"batch_size\"]\n",
    "    tests.append(o)\n",
    "\n",
    "novos_tests = []\n",
    "for ts in range(len(tests)):\n",
    "    for tsr in range(len( tests[ts][0] )):\n",
    "        novos_tests.append( tests[ts][0][tsr] )\n",
    "\n",
    "resultados_tests = []\n",
    "for r in range(1264):\n",
    "    if r >= 1019:\n",
    "        resultados_tests.append(novos_tests[r-1019])\n",
    "    else:\n",
    "        resultados_tests.append(None)\n"
   ]
  },
  {
   "cell_type": "code",
   "execution_count": null,
   "metadata": {
    "id": "9n1nqCQPHcNJ",
    "outputId": "8a00f514-51a2-4808-c9cb-148056850a8c"
   },
   "outputs": [
    {
     "name": "stderr",
     "output_type": "stream",
     "text": [
      "/home/vitor/.local/lib/python3.8/site-packages/numpy/core/_asarray.py:136: VisibleDeprecationWarning: Creating an ndarray from ragged nested sequences (which is a list-or-tuple of lists-or-tuples-or ndarrays with different lengths or shapes) is deprecated. If you meant to do this, you must specify 'dtype=object' when creating the ndarray\n",
      "  return array(a, dtype, copy=False, order=order, subok=True)\n"
     ]
    },
    {
     "data": {
      "image/png": "[encoded data removed]",
      "text/plain": [
       "<Figure size 1152x504 with 1 Axes>"
      ]
     },
     "metadata": {
      "needs_background": "light"
     },
     "output_type": "display_data"
    }
   ],
   "source": [
    "%matplotlib inline\n",
    "import matplotlib.pyplot as plt\n",
    "plt.figure(figsize=(16, 7))\n",
    "plt.title('Bitcoin prices from December 2014 to May 2018')\n",
    "plt.xlabel('Days')\n",
    "plt.ylabel('Scaled Price of Bitcoin')\n",
    "plt.plot(dados, label='Original data')\n",
    "plt.plot(sup, label='Training data')\n",
    "plt.plot(resultados_tests, label='Testing data')\n",
    "plt.legend()\n",
    "plt.show()"
   ]
  },
  {
   "cell_type": "markdown",
   "metadata": {
    "id": "8zXWTWuOWJB_"
   },
   "source": [
    "### Parâmetros do Estudo 1\n",
    "Trials: 16 <br>\n",
    "Tamanho do batch/janela: 7 <br>\n",
    "Hidden layer: 32 à 128 <br>\n",
    "Margem de clip: 4 à 64 <br>\n",
    "Taxa de aprendizado: 0.05 à 0.15 <br>"
   ]
  },
  {
   "cell_type": "code",
   "execution_count": null,
   "metadata": {
    "colab": {
     "base_uri": "https://localhost:8080/"
    },
    "id": "DolrC2_Do7OH",
    "outputId": "4db90357-3386-457d-e960-7f76f106291a"
   },
   "outputs": [
    {
     "name": "stderr",
     "output_type": "stream",
     "text": [
      "\u001b[32m[I 2021-11-16 02:34:43,781]\u001b[0m A new study created in memory with name: no-name-59a039c6-5c2c-4259-b3a1-4db85caf2e61\u001b[0m\n"
     ]
    },
    {
     "name": "stdout",
     "output_type": "stream",
     "text": [
      "\n",
      "Configs {'batch_size': 7, 'window_size': 7, 'hidden_layer': 71, 'clip_margin': 14, 'learning_rate': 0.0633319318479532, 'epochs': 60, 'stddev': 0.12933382482918607, 'epochs_print': 10} \n",
      "\n",
      "Epoch  0/60  LOSS: 0.24634768068790436\n",
      "Epoch 10/60  LOSS: 0.42830589413642883\n",
      "Epoch 20/60  LOSS: 0.006934761069715023\n",
      "Epoch 30/60  LOSS: 0.014057870022952557\n",
      "Epoch 40/60  LOSS: 0.006995856296271086\n",
      "Epoch 50/60  LOSS: 0.007985973730683327\n"
     ]
    },
    {
     "name": "stderr",
     "output_type": "stream",
     "text": [
      "\u001b[32m[I 2021-11-16 02:35:31,800]\u001b[0m Trial 0 finished with value: 0.015463595697359217 and parameters: {'hidden_layer': 71, 'clip_margin': 14, 'learning_rate': 0.0633319318479532, 'stddev': 0.12933382482918607}. Best is trial 0 with value: 0.015463595697359217.\u001b[0m\n"
     ]
    },
    {
     "name": "stdout",
     "output_type": "stream",
     "text": [
      "\n",
      "Configs {'batch_size': 7, 'window_size': 7, 'hidden_layer': 35, 'clip_margin': 48, 'learning_rate': 0.040600832440222806, 'epochs': 60, 'stddev': 0.06186367460250364, 'epochs_print': 10} \n",
      "\n",
      "Epoch  0/60  LOSS: 0.07793401926755905\n",
      "Epoch 10/60  LOSS: 0.06869269162416458\n",
      "Epoch 20/60  LOSS: 0.004831113386899233\n",
      "Epoch 30/60  LOSS: 0.025925491005182266\n",
      "Epoch 40/60  LOSS: 0.011901136487722397\n",
      "Epoch 50/60  LOSS: 0.011899720877408981\n"
     ]
    },
    {
     "name": "stderr",
     "output_type": "stream",
     "text": [
      "\u001b[32m[I 2021-11-16 02:36:11,226]\u001b[0m Trial 1 finished with value: 0.10919421006841856 and parameters: {'hidden_layer': 35, 'clip_margin': 48, 'learning_rate': 0.040600832440222806, 'stddev': 0.06186367460250364}. Best is trial 0 with value: 0.015463595697359217.\u001b[0m\n"
     ]
    },
    {
     "name": "stdout",
     "output_type": "stream",
     "text": [
      "\n",
      "Configs {'batch_size': 7, 'window_size': 7, 'hidden_layer': 68, 'clip_margin': 33, 'learning_rate': 0.027684182198906518, 'epochs': 60, 'stddev': 0.10167581247726706, 'epochs_print': 10} \n",
      "\n",
      "Epoch  0/60  LOSS: 0.04525112360715866\n",
      "Epoch 10/60  LOSS: 0.009183439426124096\n",
      "Epoch 20/60  LOSS: 0.08996368199586868\n",
      "Epoch 30/60  LOSS: 0.006026847753673792\n",
      "Epoch 40/60  LOSS: 0.0035885737743228674\n",
      "Epoch 50/60  LOSS: 0.01802368275821209\n"
     ]
    },
    {
     "name": "stderr",
     "output_type": "stream",
     "text": [
      "\u001b[32m[I 2021-11-16 02:37:05,005]\u001b[0m Trial 2 finished with value: 0.01911936511345755 and parameters: {'hidden_layer': 68, 'clip_margin': 33, 'learning_rate': 0.027684182198906518, 'stddev': 0.10167581247726706}. Best is trial 0 with value: 0.015463595697359217.\u001b[0m\n"
     ]
    },
    {
     "name": "stdout",
     "output_type": "stream",
     "text": [
      "\n",
      "Configs {'batch_size': 7, 'window_size': 7, 'hidden_layer': 81, 'clip_margin': 6, 'learning_rate': 0.034666614115877646, 'epochs': 60, 'stddev': 0.10058708121365512, 'epochs_print': 10} \n",
      "\n",
      "Epoch  0/60  LOSS: 0.09068140387535095\n",
      "Epoch 10/60  LOSS: 0.007022745907306671\n",
      "Epoch 20/60  LOSS: 0.005236579105257988\n",
      "Epoch 30/60  LOSS: 0.01195207517594099\n",
      "Epoch 40/60  LOSS: 0.01938570663332939\n",
      "Epoch 50/60  LOSS: 0.1386166512966156\n"
     ]
    },
    {
     "name": "stderr",
     "output_type": "stream",
     "text": [
      "\u001b[32m[I 2021-11-16 02:37:59,172]\u001b[0m Trial 3 finished with value: 0.023053284938131236 and parameters: {'hidden_layer': 81, 'clip_margin': 6, 'learning_rate': 0.034666614115877646, 'stddev': 0.10058708121365512}. Best is trial 0 with value: 0.015463595697359217.\u001b[0m\n"
     ]
    },
    {
     "name": "stdout",
     "output_type": "stream",
     "text": [
      "\n",
      "Configs {'batch_size': 7, 'window_size': 7, 'hidden_layer': 124, 'clip_margin': 6, 'learning_rate': 0.036836180955451665, 'epochs': 60, 'stddev': 0.07123679781276535, 'epochs_print': 10} \n",
      "\n",
      "Epoch  0/60  LOSS: 1.0196027755737305\n",
      "Epoch 10/60  LOSS: 0.09389112144708633\n",
      "Epoch 20/60  LOSS: 0.01529747061431408\n",
      "Epoch 30/60  LOSS: 0.015114999376237392\n",
      "Epoch 40/60  LOSS: 0.013435245491564274\n",
      "Epoch 50/60  LOSS: 0.011418633162975311\n"
     ]
    },
    {
     "name": "stderr",
     "output_type": "stream",
     "text": [
      "\u001b[32m[I 2021-11-16 02:38:55,237]\u001b[0m Trial 4 finished with value: 0.005761461484676852 and parameters: {'hidden_layer': 124, 'clip_margin': 6, 'learning_rate': 0.036836180955451665, 'stddev': 0.07123679781276535}. Best is trial 4 with value: 0.005761461484676852.\u001b[0m\n"
     ]
    },
    {
     "name": "stdout",
     "output_type": "stream",
     "text": [
      "\n",
      "Configs {'batch_size': 7, 'window_size': 7, 'hidden_layer': 50, 'clip_margin': 32, 'learning_rate': 0.05657534665892468, 'epochs': 60, 'stddev': 0.10152453377377922, 'epochs_print': 10} \n",
      "\n",
      "Epoch  0/60  LOSS: 0.027741944417357445\n",
      "Epoch 10/60  LOSS: 0.012591270729899406\n",
      "Epoch 20/60  LOSS: 0.00860643107444048\n",
      "Epoch 30/60  LOSS: 0.004774277564138174\n",
      "Epoch 40/60  LOSS: 0.02148338221013546\n",
      "Epoch 50/60  LOSS: 0.0023393852170556784\n"
     ]
    },
    {
     "name": "stderr",
     "output_type": "stream",
     "text": [
      "\u001b[32m[I 2021-11-16 02:39:46,447]\u001b[0m Trial 5 finished with value: 0.005365704418303768 and parameters: {'hidden_layer': 50, 'clip_margin': 32, 'learning_rate': 0.05657534665892468, 'stddev': 0.10152453377377922}. Best is trial 5 with value: 0.005365704418303768.\u001b[0m\n"
     ]
    },
    {
     "name": "stdout",
     "output_type": "stream",
     "text": [
      "\n",
      "Configs {'batch_size': 7, 'window_size': 7, 'hidden_layer': 125, 'clip_margin': 50, 'learning_rate': 0.09895332669439717, 'epochs': 60, 'stddev': 0.09590280597657397, 'epochs_print': 10} \n",
      "\n",
      "Epoch  0/60  LOSS: 1.0036219358444214\n",
      "Epoch 10/60  LOSS: 0.01969262771308422\n",
      "Epoch 20/60  LOSS: 0.00839470699429512\n",
      "Epoch 30/60  LOSS: 0.018914133310317993\n",
      "Epoch 40/60  LOSS: 0.04784975200891495\n",
      "Epoch 50/60  LOSS: 0.035986728966236115\n"
     ]
    },
    {
     "name": "stderr",
     "output_type": "stream",
     "text": [
      "\u001b[32m[I 2021-11-16 02:40:41,718]\u001b[0m Trial 6 finished with value: 0.03267629125666488 and parameters: {'hidden_layer': 125, 'clip_margin': 50, 'learning_rate': 0.09895332669439717, 'stddev': 0.09590280597657397}. Best is trial 5 with value: 0.005365704418303768.\u001b[0m\n"
     ]
    },
    {
     "name": "stdout",
     "output_type": "stream",
     "text": [
      "\n",
      "Configs {'batch_size': 7, 'window_size': 7, 'hidden_layer': 39, 'clip_margin': 45, 'learning_rate': 0.07764038042649608, 'epochs': 60, 'stddev': 0.07979700376619127, 'epochs_print': 10} \n",
      "\n",
      "Epoch  0/60  LOSS: 0.2186170518398285\n",
      "Epoch 10/60  LOSS: 0.02035936340689659\n",
      "Epoch 20/60  LOSS: 0.020047931000590324\n",
      "Epoch 30/60  LOSS: 0.04344770312309265\n",
      "Epoch 40/60  LOSS: 0.019691869616508484\n",
      "Epoch 50/60  LOSS: 0.02671739086508751\n"
     ]
    },
    {
     "name": "stderr",
     "output_type": "stream",
     "text": [
      "\u001b[32m[I 2021-11-16 02:41:30,677]\u001b[0m Trial 7 finished with value: 0.023230003413726958 and parameters: {'hidden_layer': 39, 'clip_margin': 45, 'learning_rate': 0.07764038042649608, 'stddev': 0.07979700376619127}. Best is trial 5 with value: 0.005365704418303768.\u001b[0m\n"
     ]
    },
    {
     "name": "stdout",
     "output_type": "stream",
     "text": [
      "\n",
      "Configs {'batch_size': 7, 'window_size': 7, 'hidden_layer': 71, 'clip_margin': 56, 'learning_rate': 0.04094016257400482, 'epochs': 60, 'stddev': 0.059985094814200515, 'epochs_print': 10} \n",
      "\n",
      "Epoch  0/60  LOSS: 0.060604508966207504\n",
      "Epoch 10/60  LOSS: 0.013889957219362259\n",
      "Epoch 20/60  LOSS: 0.010826966725289822\n",
      "Epoch 30/60  LOSS: 0.009556318633258343\n",
      "Epoch 40/60  LOSS: 0.00945307593792677\n",
      "Epoch 50/60  LOSS: 0.0277418065816164\n"
     ]
    },
    {
     "name": "stderr",
     "output_type": "stream",
     "text": [
      "\u001b[32m[I 2021-11-16 02:42:20,352]\u001b[0m Trial 8 finished with value: 0.017076246655018435 and parameters: {'hidden_layer': 71, 'clip_margin': 56, 'learning_rate': 0.04094016257400482, 'stddev': 0.059985094814200515}. Best is trial 5 with value: 0.005365704418303768.\u001b[0m\n"
     ]
    },
    {
     "name": "stdout",
     "output_type": "stream",
     "text": [
      "\n",
      "Configs {'batch_size': 7, 'window_size': 7, 'hidden_layer': 53, 'clip_margin': 63, 'learning_rate': 0.08822946005987356, 'epochs': 60, 'stddev': 0.11519463172441914, 'epochs_print': 10} \n",
      "\n",
      "Epoch  0/60  LOSS: 0.028217285871505737\n",
      "Epoch 10/60  LOSS: 0.19234664738178253\n",
      "Epoch 20/60  LOSS: 0.04247713461518288\n",
      "Epoch 30/60  LOSS: 0.013777139596641064\n",
      "Epoch 40/60  LOSS: 0.0024612327106297016\n",
      "Epoch 50/60  LOSS: 0.06594859808683395\n"
     ]
    },
    {
     "name": "stderr",
     "output_type": "stream",
     "text": [
      "\u001b[32m[I 2021-11-16 02:43:01,555]\u001b[0m Trial 9 finished with value: 0.008818625053248949 and parameters: {'hidden_layer': 53, 'clip_margin': 63, 'learning_rate': 0.08822946005987356, 'stddev': 0.11519463172441914}. Best is trial 5 with value: 0.005365704418303768.\u001b[0m\n"
     ]
    },
    {
     "name": "stdout",
     "output_type": "stream",
     "text": [
      "\n",
      "Configs {'batch_size': 7, 'window_size': 7, 'hidden_layer': 97, 'clip_margin': 27, 'learning_rate': 0.011666642412384555, 'epochs': 60, 'stddev': 0.1386461365656535, 'epochs_print': 10} \n",
      "\n",
      "Epoch  0/60  LOSS: 0.2219933271408081\n",
      "Epoch 10/60  LOSS: 0.007945024408400059\n",
      "Epoch 20/60  LOSS: 0.003504543099552393\n",
      "Epoch 30/60  LOSS: 0.006697486154735088\n",
      "Epoch 40/60  LOSS: 0.003918299917131662\n",
      "Epoch 50/60  LOSS: 0.008770763874053955\n"
     ]
    },
    {
     "name": "stderr",
     "output_type": "stream",
     "text": [
      "\u001b[32m[I 2021-11-16 02:43:57,264]\u001b[0m Trial 10 finished with value: 0.014287055238849556 and parameters: {'hidden_layer': 97, 'clip_margin': 27, 'learning_rate': 0.011666642412384555, 'stddev': 0.1386461365656535}. Best is trial 5 with value: 0.005365704418303768.\u001b[0m\n"
     ]
    },
    {
     "name": "stdout",
     "output_type": "stream",
     "text": [
      "\n",
      "Configs {'batch_size': 7, 'window_size': 7, 'hidden_layer': 125, 'clip_margin': 20, 'learning_rate': 0.05977132500452518, 'epochs': 60, 'stddev': 0.07806664466493624, 'epochs_print': 10} \n",
      "\n",
      "Epoch  0/60  LOSS: 0.37427809834480286\n",
      "Epoch 10/60  LOSS: 0.06734833121299744\n",
      "Epoch 20/60  LOSS: 0.005465580150485039\n",
      "Epoch 30/60  LOSS: 0.006255015265196562\n",
      "Epoch 40/60  LOSS: 0.005888625048100948\n",
      "Epoch 50/60  LOSS: 0.03961179405450821\n"
     ]
    },
    {
     "name": "stderr",
     "output_type": "stream",
     "text": [
      "\u001b[32m[I 2021-11-16 02:44:50,831]\u001b[0m Trial 11 finished with value: 0.02200287514004795 and parameters: {'hidden_layer': 125, 'clip_margin': 20, 'learning_rate': 0.05977132500452518, 'stddev': 0.07806664466493624}. Best is trial 5 with value: 0.005365704418303768.\u001b[0m\n"
     ]
    },
    {
     "name": "stdout",
     "output_type": "stream",
     "text": [
      "\n",
      "Configs {'batch_size': 7, 'window_size': 7, 'hidden_layer': 105, 'clip_margin': 4, 'learning_rate': 0.014604565345756368, 'epochs': 60, 'stddev': 0.07968879257407203, 'epochs_print': 10} \n",
      "\n",
      "Epoch  0/60  LOSS: 0.1366111934185028\n",
      "Epoch 10/60  LOSS: 0.0026706361677497625\n",
      "Epoch 20/60  LOSS: 0.00672927126288414\n",
      "Epoch 30/60  LOSS: 0.006328681483864784\n",
      "Epoch 40/60  LOSS: 0.06800814718008041\n",
      "Epoch 50/60  LOSS: 0.14811848104000092\n"
     ]
    },
    {
     "name": "stderr",
     "output_type": "stream",
     "text": [
      "\u001b[32m[I 2021-11-16 02:45:38,821]\u001b[0m Trial 12 finished with value: 0.006055218872586857 and parameters: {'hidden_layer': 105, 'clip_margin': 4, 'learning_rate': 0.014604565345756368, 'stddev': 0.07968879257407203}. Best is trial 5 with value: 0.005365704418303768.\u001b[0m\n"
     ]
    },
    {
     "name": "stdout",
     "output_type": "stream",
     "text": [
      "\n",
      "Configs {'batch_size': 7, 'window_size': 7, 'hidden_layer': 48, 'clip_margin': 38, 'learning_rate': 0.051191575402560564, 'epochs': 60, 'stddev': 0.11740063446692542, 'epochs_print': 10} \n",
      "\n",
      "Epoch  0/60  LOSS: 0.01984240487217903\n",
      "Epoch 10/60  LOSS: 0.018642157316207886\n",
      "Epoch 20/60  LOSS: 0.010722176171839237\n",
      "Epoch 30/60  LOSS: 0.017138483002781868\n",
      "Epoch 40/60  LOSS: 0.029165877029299736\n",
      "Epoch 50/60  LOSS: 0.014209786430001259\n"
     ]
    },
    {
     "name": "stderr",
     "output_type": "stream",
     "text": [
      "\u001b[32m[I 2021-11-16 02:46:07,739]\u001b[0m Trial 13 finished with value: 0.011112098819351025 and parameters: {'hidden_layer': 48, 'clip_margin': 38, 'learning_rate': 0.051191575402560564, 'stddev': 0.11740063446692542}. Best is trial 5 with value: 0.005365704418303768.\u001b[0m\n"
     ]
    },
    {
     "name": "stdout",
     "output_type": "stream",
     "text": [
      "\n",
      "Configs {'batch_size': 7, 'window_size': 7, 'hidden_layer': 105, 'clip_margin': 15, 'learning_rate': 0.0723551271722748, 'epochs': 60, 'stddev': 0.05180155951874785, 'epochs_print': 10} \n",
      "\n",
      "Epoch  0/60  LOSS: 0.14075283706188202\n",
      "Epoch 10/60  LOSS: 0.01780426874756813\n",
      "Epoch 20/60  LOSS: 0.008228941820561886\n",
      "Epoch 30/60  LOSS: 0.0036683904472738504\n",
      "Epoch 40/60  LOSS: 0.060153473168611526\n",
      "Epoch 50/60  LOSS: 0.034152351319789886\n"
     ]
    },
    {
     "name": "stderr",
     "output_type": "stream",
     "text": [
      "\u001b[32m[I 2021-11-16 02:47:03,776]\u001b[0m Trial 14 finished with value: 0.05931481265958829 and parameters: {'hidden_layer': 105, 'clip_margin': 15, 'learning_rate': 0.0723551271722748, 'stddev': 0.05180155951874785}. Best is trial 5 with value: 0.005365704418303768.\u001b[0m\n"
     ]
    },
    {
     "name": "stdout",
     "output_type": "stream",
     "text": [
      "\n",
      "Configs {'batch_size': 7, 'window_size': 7, 'hidden_layer': 92, 'clip_margin': 26, 'learning_rate': 0.050000640106874, 'epochs': 60, 'stddev': 0.08939693540768119, 'epochs_print': 10} \n",
      "\n",
      "Epoch  0/60  LOSS: 0.4528822898864746\n",
      "Epoch 10/60  LOSS: 0.03881917521357536\n",
      "Epoch 20/60  LOSS: 0.01317871268838644\n",
      "Epoch 30/60  LOSS: 0.038725025951862335\n",
      "Epoch 40/60  LOSS: 0.035278867930173874\n",
      "Epoch 50/60  LOSS: 0.0555773563683033\n"
     ]
    },
    {
     "name": "stderr",
     "output_type": "stream",
     "text": [
      "\u001b[32m[I 2021-11-16 02:47:51,336]\u001b[0m Trial 15 finished with value: 0.05780296813058597 and parameters: {'hidden_layer': 92, 'clip_margin': 26, 'learning_rate': 0.050000640106874, 'stddev': 0.08939693540768119}. Best is trial 5 with value: 0.005365704418303768.\u001b[0m\n"
     ]
    }
   ],
   "source": [
    "import optuna\n",
    "\n",
    "configs = {\n",
    "  \"batch_size\"   : 7,\n",
    "  \"window_size\"  : 7,\n",
    "  \"hidden_layer\" : 32,\n",
    "  \"clip_margin\"  : 32,\n",
    "  \"learning_rate\": 0.01,\n",
    "  \"epochs\"       : 60,\n",
    "  \"stddev\"       : 0.05,\n",
    "  \"epochs_print\" : 10\n",
    "}\n",
    "bestCase = {\n",
    "   \"batch_size\": 0,\n",
    "   \"outputs\": [],\n",
    "   \"loss\": 1000000\n",
    "}\n",
    "bestTrial = 0\n",
    "\n",
    "def perda1(trial):\n",
    "    \n",
    "    configs[\"batch_size\"] = configs[\"window_size\"] = 7 #trial.suggest_int(\"batch_size\", 3, 31)\n",
    "    configs[\"hidden_layer\"] = trial.suggest_int(\"hidden_layer\", 32, 128)\n",
    "    configs[\"clip_margin\"] = trial.suggest_int(\"clip_margin\", 4, 64)\n",
    "    configs[\"learning_rate\"] = trial.suggest_float(\"learning_rate\", 0.01, 0.1)\n",
    "    configs[\"stddev\"] = trial.suggest_float(\"stddev\", 0.05, 0.15)\n",
    "\n",
    "    print(\"\\nConfigs\", configs, \"\\n\")\n",
    "\n",
    "    # Pesos da via de entrada, inputs, objetivos, camada oculta e viés\n",
    "    inputs = tf.placeholder( tf.float32, [ configs[\"batch_size\"], configs[\"window_size\"], 1 ] )\n",
    "    targets = tf.placeholder( tf.float32, [ configs[\"batch_size\"], 1 ] )\n",
    "\n",
    "    weights_input_gate = tf.Variable( tf.truncated_normal([ 1, configs[\"hidden_layer\"] ], stddev=0.05) )\n",
    "    weights_input_hidden = tf.Variable( tf.truncated_normal( [ configs[\"hidden_layer\"], configs[\"hidden_layer\"] ], stddev=0.05) )\n",
    "    bias_input = tf.Variable( tf.zeros( [ configs[\"hidden_layer\"] ] ) )\n",
    "\n",
    "    # Pesos da via do esquecimento, camada oculta e viés\n",
    "    weights_forget_gate = tf.Variable( tf.truncated_normal( [1, configs[\"hidden_layer\"]], stddev=0.05) )\n",
    "    weights_forget_hidden = tf.Variable( tf.truncated_normal( [ configs[\"hidden_layer\"], configs[\"hidden_layer\"] ], stddev = configs[\"stddev\"] ) )\n",
    "    bias_forget = tf.Variable( tf.zeros( configs[\"hidden_layer\"] ) )\n",
    "\n",
    "    # Pesos da via de saída, camada oculta e viés\n",
    "    weights_output_gate = tf.Variable( tf.truncated_normal( [1, configs[\"hidden_layer\"]], configs[\"hidden_layer\"] ) )\n",
    "    weights_output_hidden = tf.Variable( tf.truncated_normal( [ configs[\"hidden_layer\"], configs[\"hidden_layer\"] ], stddev = configs[\"stddev\"] ) )\n",
    "    bias_output = tf.Variable( tf.zeros( configs[\"hidden_layer\"] ) )\n",
    "\n",
    "    # Pesos da célula de memória, camada oculta e viés\n",
    "    weights_memory_cell = tf.Variable( tf.truncated_normal( [1, configs[\"hidden_layer\"]], stddev=0.05 ) )\n",
    "    weights_memory_cell_hidden = tf.Variable( tf.truncated_normal( [configs[\"hidden_layer\"], configs[\"hidden_layer\"]], stddev = configs[\"stddev\"] ) )\n",
    "    bias_memory_cell = tf.Variable( tf.zeros( [configs[\"hidden_layer\"] ] ) )\n",
    "\n",
    "    # Pesos da camada de saída (e viés)\n",
    "    weights_output = tf.Variable( tf.truncated_normal( [configs[\"hidden_layer\"], 1], stddev = configs[\"stddev\"] ) )\n",
    "    bias_output_layer = tf.Variable( tf.zeros([1]) )\n",
    "\n",
    "\n",
    "    # Montando nossa célula LSTM\n",
    "    def LSTM_cell(input, output, state):\n",
    "        # Via de entrada\n",
    "        input_gate = tf.sigmoid(tf.matmul(input, weights_input_gate) + tf.matmul(output, weights_input_hidden) + bias_input)\n",
    "        \n",
    "        # Via do esquecimento\n",
    "        forget_gate = tf.sigmoid(tf.matmul(input, weights_forget_gate) + tf.matmul(output, weights_forget_hidden) + bias_forget)\n",
    "            \n",
    "        # Célula de memória\n",
    "        memory_cell = tf.tanh(tf.matmul(input, weights_memory_cell) + tf.matmul(output, weights_memory_cell_hidden) + bias_memory_cell)\n",
    "        \n",
    "        # Estado (combinação dos anteriores)\n",
    "        state = state * forget_gate + input_gate * memory_cell\n",
    "\n",
    "        # Via de saída\n",
    "        output_gate = tf.sigmoid(tf.matmul(input, weights_output_gate) + tf.matmul(output, weights_output_hidden) + bias_output)\n",
    "        \n",
    "        # Saída (aplicação de função tangente à via de saída)\n",
    "        output = output_gate * tf.tanh(state)\n",
    "        return state, output\n",
    "\n",
    "    \n",
    "    outputs = []\n",
    "    for bs in range(configs[\"batch_size\"]):\n",
    "        batch_state  = np.zeros([1, configs[\"hidden_layer\"]], dtype=np.float32)\n",
    "        batch_output = np.zeros([1, configs[\"hidden_layer\"]], dtype=np.float32)\n",
    "\n",
    "        for ws in range(configs[\"window_size\"]):\n",
    "            batch_state, batch_output = LSTM_cell( tf.reshape( inputs[bs][ws], (-1, 1) ), batch_state, batch_output )\n",
    "\n",
    "        outputs.append( tf.matmul( batch_output, weights_output ) + bias_output_layer )\n",
    "\n",
    "    # Definindo perda\n",
    "\n",
    "    losses = []\n",
    "\n",
    "    for o in range(len(outputs)):\n",
    "        losses.append( tf.losses.mean_squared_error( tf.reshape( targets[o], (-1, 1) ), outputs[o] ) )\n",
    "\n",
    "    loss = tf.reduce_mean(losses)\n",
    "\n",
    "    # Definindo o otimizador com o gradiente de clipagem (?)\n",
    "    gradients   = tf.gradients( loss, tf.trainable_variables() )\n",
    "    clipped, _  = tf.clip_by_global_norm( gradients, configs[\"clip_margin\"] )\n",
    "    optimizer   = tf.train.AdamOptimizer( configs[\"learning_rate\"] )\n",
    "    trained_opt = optimizer.apply_gradients( zip( gradients, tf.trainable_variables() ) )\n",
    "\n",
    "    session = tf.Session()\n",
    "    session.run( tf.global_variables_initializer() )\n",
    "\n",
    "    best_epochs = [10.0]\n",
    "\n",
    "    for e in range(configs[\"epochs\"]):\n",
    "        trained_scores = []\n",
    "        ee = 0\n",
    "        epoch_loss = []\n",
    "        while(ee + configs[\"batch_size\"]) <= len(X_treino): \n",
    "            X_batch = X_treino[ee:ee+configs[\"batch_size\"]]\n",
    "            y_batch = y_treino[ee:ee+configs[\"batch_size\"]]\n",
    "\n",
    "            o, c, _ = session.run( [outputs, loss, trained_opt], feed_dict={inputs:X_batch, targets: y_batch} )\n",
    "\n",
    "            epoch_loss.append(c)\n",
    "            trained_scores.append(o)\n",
    "            ee += configs[\"batch_size\"]\n",
    "\n",
    "        if(e % configs[\"epochs_print\"]) == 0:\n",
    "            if e == 0:\n",
    "                print( 'Epoch  {}/{}'.format(e, configs[\"epochs\"]), ' LOSS: {}'.format( np.mean( epoch_loss ) ) )\n",
    "            else: \n",
    "                print( 'Epoch {}/{}'.format(e, configs[\"epochs\"]), ' LOSS: {}'.format( np.mean( epoch_loss ) ) )\n",
    "    \n",
    "    loss = sum(epoch_loss)/len(epoch_loss)\n",
    "    if loss < bestCase[\"loss\"]:\n",
    "        bestCase[\"loss\"] = loss\n",
    "        global sup\n",
    "        sup = []\n",
    "        for ts in range(len(trained_scores)):\n",
    "            for tsr in range(len( trained_scores[ts] )):\n",
    "                sup.append( trained_scores[ts][tsr][0] )\n",
    "\n",
    "        tests = []\n",
    "        t = 0\n",
    "        while( t + configs[\"batch_size\"] <= len(X_teste) ):\n",
    "            o = session.run( [outputs], feed_dict = { inputs: X_teste[t:t+configs[\"batch_size\"]] } )\n",
    "            t += configs[\"batch_size\"]\n",
    "            tests.append(o)\n",
    "\n",
    "        novos_tests = []\n",
    "        for ts in range(len(tests)):\n",
    "            for tsr in range(len( tests[ts][0] )):\n",
    "                novos_tests.append( tests[ts][0][tsr] )\n",
    "\n",
    "        global resultados_tests \n",
    "        resultados_tests = []\n",
    "        for r in range(1264):\n",
    "            if r >= 1019:\n",
    "                resultados_tests.append(novos_tests[r-1019])\n",
    "            else:\n",
    "                resultados_tests.append(None)\n",
    "\n",
    "    # Retornando a média de LOSS\n",
    "    return loss\n",
    "\n",
    "study_1 = optuna.create_study(direction='minimize')\n",
    "study_1.optimize(perda1, n_trials=16)"
   ]
  },
  {
   "cell_type": "code",
   "execution_count": null,
   "metadata": {
    "colab": {
     "base_uri": "https://localhost:8080/",
     "height": 546
    },
    "id": "egql70IQ88bV",
    "outputId": "71f2729d-969d-4fe1-c20e-9a5e4d81640d"
   },
   "outputs": [
    {
     "name": "stderr",
     "output_type": "stream",
     "text": [
      "/home/vitor/.local/lib/python3.8/site-packages/numpy/core/_asarray.py:136: VisibleDeprecationWarning:\n",
      "\n",
      "Creating an ndarray from ragged nested sequences (which is a list-or-tuple of lists-or-tuples-or ndarrays with different lengths or shapes) is deprecated. If you meant to do this, you must specify 'dtype=object' when creating the ndarray\n",
      "\n"
     ]
    },
    {
     "data": {
      "image/png": "[encoded data removed]",
      "text/plain": [
       "<Figure size 1152x504 with 1 Axes>"
      ]
     },
     "metadata": {
      "needs_background": "light"
     },
     "output_type": "display_data"
    }
   ],
   "source": [
    "%matplotlib inline\n",
    "import matplotlib.pyplot as plt\n",
    "plt.figure(figsize=(16, 7))\n",
    "plt.title('Study 1: Last 20% data prediction using LSTM')\n",
    "plt.xlabel('Days')\n",
    "plt.ylabel('Scaled Price of Bitcoin')\n",
    "plt.plot(dados, label='Original data')\n",
    "plt.plot(sup, label=\"Training data\")\n",
    "plt.plot(resultados_tests, label='Testing data')\n",
    "plt.legend()\n",
    "plt.show()"
   ]
  },
  {
   "cell_type": "code",
   "execution_count": null,
   "metadata": {
    "id": "BEAb8NPh_iJN",
    "outputId": "30494487-ade6-445c-cb27-f6e27442caa3"
   },
   "outputs": [
    {
     "data": {
      "application/vnd.plotly.v1+json": {
       "config": {
        "plotlyServerURL": "https://plot.ly"
       },
       "data": [
        {
         "mode": "markers",
         "name": "Objective Value",
         "type": "scatter",
         "x": [
          0,
          1,
          2,
          3,
          4,
          5,
          6,
          7,
          8,
          9,
          10,
          11,
          12,
          13,
          14,
          15
         ],
         "y": [
          0.015463595697359217,
          0.10919421006841856,
          0.01911936511345755,
          0.023053284938131236,
          0.005761461484676852,
          0.005365704418303768,
          0.03267629125666488,
          0.023230003413726958,
          0.017076246655018435,
          0.008818625053248949,
          0.014287055238849556,
          0.02200287514004795,
          0.006055218872586857,
          0.011112098819351025,
          0.05931481265958829,
          0.05780296813058597
         ]
        },
        {
         "name": "Best Value",
         "type": "scatter",
         "x": [
          0,
          1,
          2,
          3,
          4,
          5,
          6,
          7,
          8,
          9,
          10,
          11,
          12,
          13,
          14,
          15
         ],
         "y": [
          0.015463595697359217,
          0.015463595697359217,
          0.015463595697359217,
          0.015463595697359217,
          0.005761461484676852,
          0.005365704418303768,
          0.005365704418303768,
          0.005365704418303768,
          0.005365704418303768,
          0.005365704418303768,
          0.005365704418303768,
          0.005365704418303768,
          0.005365704418303768,
          0.005365704418303768,
          0.005365704418303768,
          0.005365704418303768
         ]
        }
       ],
       "layout": {
        "template": {
         "data": {
          "bar": [
           {
            "error_x": {
             "color": "#2a3f5f"
            },
            "error_y": {
             "color": "#2a3f5f"
            },
            "marker": {
             "line": {
              "color": "#E5ECF6",
              "width": 0.5
             },
             "pattern": {
              "fillmode": "overlay",
              "size": 10,
              "solidity": 0.2
             }
            },
            "type": "bar"
           }
          ],
          "barpolar": [
           {
            "marker": {
             "line": {
              "color": "#E5ECF6",
              "width": 0.5
             },
             "pattern": {
              "fillmode": "overlay",
              "size": 10,
              "solidity": 0.2
             }
            },
            "type": "barpolar"
           }
          ],
          "carpet": [
           {
            "aaxis": {
             "endlinecolor": "#2a3f5f",
             "gridcolor": "white",
             "linecolor": "white",
             "minorgridcolor": "white",
             "startlinecolor": "#2a3f5f"
            },
            "baxis": {
             "endlinecolor": "#2a3f5f",
             "gridcolor": "white",
             "linecolor": "white",
             "minorgridcolor": "white",
             "startlinecolor": "#2a3f5f"
            },
            "type": "carpet"
           }
          ],
          "choropleth": [
           {
            "colorbar": {
             "outlinewidth": 0,
             "ticks": ""
            },
            "type": "choropleth"
           }
          ],
          "contour": [
           {
            "colorbar": {
             "outlinewidth": 0,
             "ticks": ""
            },
            "colorscale": [
             [
              0,
              "#0d0887"
             ],
             [
              0.1111111111111111,
              "#46039f"
             ],
             [
              0.2222222222222222,
              "#7201a8"
             ],
             [
              0.3333333333333333,
              "#9c179e"
             ],
             [
              0.4444444444444444,
              "#bd3786"
             ],
             [
              0.5555555555555556,
              "#d8576b"
             ],
             [
              0.6666666666666666,
              "#ed7953"
             ],
             [
              0.7777777777777778,
              "#fb9f3a"
             ],
             [
              0.8888888888888888,
              "#fdca26"
             ],
             [
              1,
              "#f0f921"
             ]
            ],
            "type": "contour"
           }
          ],
          "contourcarpet": [
           {
            "colorbar": {
             "outlinewidth": 0,
             "ticks": ""
            },
            "type": "contourcarpet"
           }
          ],
          "heatmap": [
           {
            "colorbar": {
             "outlinewidth": 0,
             "ticks": ""
            },
            "colorscale": [
             [
              0,
              "#0d0887"
             ],
             [
              0.1111111111111111,
              "#46039f"
             ],
             [
              0.2222222222222222,
              "#7201a8"
             ],
             [
              0.3333333333333333,
              "#9c179e"
             ],
             [
              0.4444444444444444,
              "#bd3786"
             ],
             [
              0.5555555555555556,
              "#d8576b"
             ],
             [
              0.6666666666666666,
              "#ed7953"
             ],
             [
              0.7777777777777778,
              "#fb9f3a"
             ],
             [
              0.8888888888888888,
              "#fdca26"
             ],
             [
              1,
              "#f0f921"
             ]
            ],
            "type": "heatmap"
           }
          ],
          "heatmapgl": [
           {
            "colorbar": {
             "outlinewidth": 0,
             "ticks": ""
            },
            "colorscale": [
             [
              0,
              "#0d0887"
             ],
             [
              0.1111111111111111,
              "#46039f"
             ],
             [
              0.2222222222222222,
              "#7201a8"
             ],
             [
              0.3333333333333333,
              "#9c179e"
             ],
             [
              0.4444444444444444,
              "#bd3786"
             ],
             [
              0.5555555555555556,
              "#d8576b"
             ],
             [
              0.6666666666666666,
              "#ed7953"
             ],
             [
              0.7777777777777778,
              "#fb9f3a"
             ],
             [
              0.8888888888888888,
              "#fdca26"
             ],
             [
              1,
              "#f0f921"
             ]
            ],
            "type": "heatmapgl"
           }
          ],
          "histogram": [
           {
            "marker": {
             "pattern": {
              "fillmode": "overlay",
              "size": 10,
              "solidity": 0.2
             }
            },
            "type": "histogram"
           }
          ],
          "histogram2d": [
           {
            "colorbar": {
             "outlinewidth": 0,
             "ticks": ""
            },
            "colorscale": [
             [
              0,
              "#0d0887"
             ],
             [
              0.1111111111111111,
              "#46039f"
             ],
             [
              0.2222222222222222,
              "#7201a8"
             ],
             [
              0.3333333333333333,
              "#9c179e"
             ],
             [
              0.4444444444444444,
              "#bd3786"
             ],
             [
              0.5555555555555556,
              "#d8576b"
             ],
             [
              0.6666666666666666,
              "#ed7953"
             ],
             [
              0.7777777777777778,
              "#fb9f3a"
             ],
             [
              0.8888888888888888,
              "#fdca26"
             ],
             [
              1,
              "#f0f921"
             ]
            ],
            "type": "histogram2d"
           }
          ],
          "histogram2dcontour": [
           {
            "colorbar": {
             "outlinewidth": 0,
             "ticks": ""
            },
            "colorscale": [
             [
              0,
              "#0d0887"
             ],
             [
              0.1111111111111111,
              "#46039f"
             ],
             [
              0.2222222222222222,
              "#7201a8"
             ],
             [
              0.3333333333333333,
              "#9c179e"
             ],
             [
              0.4444444444444444,
              "#bd3786"
             ],
             [
              0.5555555555555556,
              "#d8576b"
             ],
             [
              0.6666666666666666,
              "#ed7953"
             ],
             [
              0.7777777777777778,
              "#fb9f3a"
             ],
             [
              0.8888888888888888,
              "#fdca26"
             ],
             [
              1,
              "#f0f921"
             ]
            ],
            "type": "histogram2dcontour"
           }
          ],
          "mesh3d": [
           {
            "colorbar": {
             "outlinewidth": 0,
             "ticks": ""
            },
            "type": "mesh3d"
           }
          ],
          "parcoords": [
           {
            "line": {
             "colorbar": {
              "outlinewidth": 0,
              "ticks": ""
             }
            },
            "type": "parcoords"
           }
          ],
          "pie": [
           {
            "automargin": true,
            "type": "pie"
           }
          ],
          "scatter": [
           {
            "marker": {
             "colorbar": {
              "outlinewidth": 0,
              "ticks": ""
             }
            },
            "type": "scatter"
           }
          ],
          "scatter3d": [
           {
            "line": {
             "colorbar": {
              "outlinewidth": 0,
              "ticks": ""
             }
            },
            "marker": {
             "colorbar": {
              "outlinewidth": 0,
              "ticks": ""
             }
            },
            "type": "scatter3d"
           }
          ],
          "scattercarpet": [
           {
            "marker": {
             "colorbar": {
              "outlinewidth": 0,
              "ticks": ""
             }
            },
            "type": "scattercarpet"
           }
          ],
          "scattergeo": [
           {
            "marker": {
             "colorbar": {
              "outlinewidth": 0,
              "ticks": ""
             }
            },
            "type": "scattergeo"
           }
          ],
          "scattergl": [
           {
            "marker": {
             "colorbar": {
              "outlinewidth": 0,
              "ticks": ""
             }
            },
            "type": "scattergl"
           }
          ],
          "scattermapbox": [
           {
            "marker": {
             "colorbar": {
              "outlinewidth": 0,
              "ticks": ""
             }
            },
            "type": "scattermapbox"
           }
          ],
          "scatterpolar": [
           {
            "marker": {
             "colorbar": {
              "outlinewidth": 0,
              "ticks": ""
             }
            },
            "type": "scatterpolar"
           }
          ],
          "scatterpolargl": [
           {
            "marker": {
             "colorbar": {
              "outlinewidth": 0,
              "ticks": ""
             }
            },
            "type": "scatterpolargl"
           }
          ],
          "scatterternary": [
           {
            "marker": {
             "colorbar": {
              "outlinewidth": 0,
              "ticks": ""
             }
            },
            "type": "scatterternary"
           }
          ],
          "surface": [
           {
            "colorbar": {
             "outlinewidth": 0,
             "ticks": ""
            },
            "colorscale": [
             [
              0,
              "#0d0887"
             ],
             [
              0.1111111111111111,
              "#46039f"
             ],
             [
              0.2222222222222222,
              "#7201a8"
             ],
             [
              0.3333333333333333,
              "#9c179e"
             ],
             [
              0.4444444444444444,
              "#bd3786"
             ],
             [
              0.5555555555555556,
              "#d8576b"
             ],
             [
              0.6666666666666666,
              "#ed7953"
             ],
             [
              0.7777777777777778,
              "#fb9f3a"
             ],
             [
              0.8888888888888888,
              "#fdca26"
             ],
             [
              1,
              "#f0f921"
             ]
            ],
            "type": "surface"
           }
          ],
          "table": [
           {
            "cells": {
             "fill": {
              "color": "#EBF0F8"
             },
             "line": {
              "color": "white"
             }
            },
            "header": {
             "fill": {
              "color": "#C8D4E3"
             },
             "line": {
              "color": "white"
             }
            },
            "type": "table"
           }
          ]
         },
         "layout": {
          "annotationdefaults": {
           "arrowcolor": "#2a3f5f",
           "arrowhead": 0,
           "arrowwidth": 1
          },
          "autotypenumbers": "strict",
          "coloraxis": {
           "colorbar": {
            "outlinewidth": 0,
            "ticks": ""
           }
          },
          "colorscale": {
           "diverging": [
            [
             0,
             "#8e0152"
            ],
            [
             0.1,
             "#c51b7d"
            ],
            [
             0.2,
             "#de77ae"
            ],
            [
             0.3,
             "#f1b6da"
            ],
            [
             0.4,
             "#fde0ef"
            ],
            [
             0.5,
             "#f7f7f7"
            ],
            [
             0.6,
             "#e6f5d0"
            ],
            [
             0.7,
             "#b8e186"
            ],
            [
             0.8,
             "#7fbc41"
            ],
            [
             0.9,
             "#4d9221"
            ],
            [
             1,
             "#276419"
            ]
           ],
           "sequential": [
            [
             0,
             "#0d0887"
            ],
            [
             0.1111111111111111,
             "#46039f"
            ],
            [
             0.2222222222222222,
             "#7201a8"
            ],
            [
             0.3333333333333333,
             "#9c179e"
            ],
            [
             0.4444444444444444,
             "#bd3786"
            ],
            [
             0.5555555555555556,
             "#d8576b"
            ],
            [
             0.6666666666666666,
             "#ed7953"
            ],
            [
             0.7777777777777778,
             "#fb9f3a"
            ],
            [
             0.8888888888888888,
             "#fdca26"
            ],
            [
             1,
             "#f0f921"
            ]
           ],
           "sequentialminus": [
            [
             0,
             "#0d0887"
            ],
            [
             0.1111111111111111,
             "#46039f"
            ],
            [
             0.2222222222222222,
             "#7201a8"
            ],
            [
             0.3333333333333333,
             "#9c179e"
            ],
            [
             0.4444444444444444,
             "#bd3786"
            ],
            [
             0.5555555555555556,
             "#d8576b"
            ],
            [
             0.6666666666666666,
             "#ed7953"
            ],
            [
             0.7777777777777778,
             "#fb9f3a"
            ],
            [
             0.8888888888888888,
             "#fdca26"
            ],
            [
             1,
             "#f0f921"
            ]
           ]
          },
          "colorway": [
           "#636efa",
           "#EF553B",
           "#00cc96",
           "#ab63fa",
           "#FFA15A",
           "#19d3f3",
           "#FF6692",
           "#B6E880",
           "#FF97FF",
           "#FECB52"
          ],
          "font": {
           "color": "#2a3f5f"
          },
          "geo": {
           "bgcolor": "white",
           "lakecolor": "white",
           "landcolor": "#E5ECF6",
           "showlakes": true,
           "showland": true,
           "subunitcolor": "white"
          },
          "hoverlabel": {
           "align": "left"
          },
          "hovermode": "closest",
          "mapbox": {
           "style": "light"
          },
          "paper_bgcolor": "white",
          "plot_bgcolor": "#E5ECF6",
          "polar": {
           "angularaxis": {
            "gridcolor": "white",
            "linecolor": "white",
            "ticks": ""
           },
           "bgcolor": "#E5ECF6",
           "radialaxis": {
            "gridcolor": "white",
            "linecolor": "white",
            "ticks": ""
           }
          },
          "scene": {
           "xaxis": {
            "backgroundcolor": "#E5ECF6",
            "gridcolor": "white",
            "gridwidth": 2,
            "linecolor": "white",
            "showbackground": true,
            "ticks": "",
            "zerolinecolor": "white"
           },
           "yaxis": {
            "backgroundcolor": "#E5ECF6",
            "gridcolor": "white",
            "gridwidth": 2,
            "linecolor": "white",
            "showbackground": true,
            "ticks": "",
            "zerolinecolor": "white"
           },
           "zaxis": {
            "backgroundcolor": "#E5ECF6",
            "gridcolor": "white",
            "gridwidth": 2,
            "linecolor": "white",
            "showbackground": true,
            "ticks": "",
            "zerolinecolor": "white"
           }
          },
          "shapedefaults": {
           "line": {
            "color": "#2a3f5f"
           }
          },
          "ternary": {
           "aaxis": {
            "gridcolor": "white",
            "linecolor": "white",
            "ticks": ""
           },
           "baxis": {
            "gridcolor": "white",
            "linecolor": "white",
            "ticks": ""
           },
           "bgcolor": "#E5ECF6",
           "caxis": {
            "gridcolor": "white",
            "linecolor": "white",
            "ticks": ""
           }
          },
          "title": {
           "x": 0.05
          },
          "xaxis": {
           "automargin": true,
           "gridcolor": "white",
           "linecolor": "white",
           "ticks": "",
           "title": {
            "standoff": 15
           },
           "zerolinecolor": "white",
           "zerolinewidth": 2
          },
          "yaxis": {
           "automargin": true,
           "gridcolor": "white",
           "linecolor": "white",
           "ticks": "",
           "title": {
            "standoff": 15
           },
           "zerolinecolor": "white",
           "zerolinewidth": 2
          }
         }
        },
        "title": {
         "text": "Optimization History Plot"
        },
        "xaxis": {
         "title": {
          "text": "#Trials"
         }
        },
        "yaxis": {
         "title": {
          "text": "Objective Value"
         }
        }
       }
      }
     },
     "metadata": {},
     "output_type": "display_data"
    }
   ],
   "source": [
    "optuna.visualization.plot_optimization_history(study_1)"
   ]
  },
  {
   "cell_type": "code",
   "execution_count": null,
   "metadata": {
    "id": "ejdI865M_kzs",
    "outputId": "a52ab5e1-f8e1-4570-9388-766c23c4399d"
   },
   "outputs": [
    {
     "data": {
      "application/vnd.plotly.v1+json": {
       "config": {
        "plotlyServerURL": "https://plot.ly"
       },
       "data": [
        {
         "marker": {
          "color": [
           0,
           1,
           2,
           3,
           4,
           5,
           6,
           7,
           8,
           9,
           10,
           11,
           12,
           13,
           14,
           15
          ],
          "colorbar": {
           "title": {
            "text": "#Trials"
           },
           "x": 1,
           "xpad": 40
          },
          "colorscale": [
           [
            0,
            "rgb(247,251,255)"
           ],
           [
            0.125,
            "rgb(222,235,247)"
           ],
           [
            0.25,
            "rgb(198,219,239)"
           ],
           [
            0.375,
            "rgb(158,202,225)"
           ],
           [
            0.5,
            "rgb(107,174,214)"
           ],
           [
            0.625,
            "rgb(66,146,198)"
           ],
           [
            0.75,
            "rgb(33,113,181)"
           ],
           [
            0.875,
            "rgb(8,81,156)"
           ],
           [
            1,
            "rgb(8,48,107)"
           ]
          ],
          "line": {
           "color": "Grey",
           "width": 0.5
          },
          "showscale": true
         },
         "mode": "markers",
         "showlegend": false,
         "type": "scatter",
         "x": [
          14,
          48,
          33,
          6,
          6,
          32,
          50,
          45,
          56,
          63,
          27,
          20,
          4,
          38,
          15,
          26
         ],
         "xaxis": "x",
         "y": [
          0.015463595697359217,
          0.10919421006841856,
          0.01911936511345755,
          0.023053284938131236,
          0.005761461484676852,
          0.005365704418303768,
          0.03267629125666488,
          0.023230003413726958,
          0.017076246655018435,
          0.008818625053248949,
          0.014287055238849556,
          0.02200287514004795,
          0.006055218872586857,
          0.011112098819351025,
          0.05931481265958829,
          0.05780296813058597
         ],
         "yaxis": "y"
        },
        {
         "marker": {
          "color": [
           0,
           1,
           2,
           3,
           4,
           5,
           6,
           7,
           8,
           9,
           10,
           11,
           12,
           13,
           14,
           15
          ],
          "colorbar": {
           "title": {
            "text": "#Trials"
           },
           "x": 1,
           "xpad": 40
          },
          "colorscale": [
           [
            0,
            "rgb(247,251,255)"
           ],
           [
            0.125,
            "rgb(222,235,247)"
           ],
           [
            0.25,
            "rgb(198,219,239)"
           ],
           [
            0.375,
            "rgb(158,202,225)"
           ],
           [
            0.5,
            "rgb(107,174,214)"
           ],
           [
            0.625,
            "rgb(66,146,198)"
           ],
           [
            0.75,
            "rgb(33,113,181)"
           ],
           [
            0.875,
            "rgb(8,81,156)"
           ],
           [
            1,
            "rgb(8,48,107)"
           ]
          ],
          "line": {
           "color": "Grey",
           "width": 0.5
          },
          "showscale": false
         },
         "mode": "markers",
         "showlegend": false,
         "type": "scatter",
         "x": [
          71,
          35,
          68,
          81,
          124,
          50,
          125,
          39,
          71,
          53,
          97,
          125,
          105,
          48,
          105,
          92
         ],
         "xaxis": "x2",
         "y": [
          0.015463595697359217,
          0.10919421006841856,
          0.01911936511345755,
          0.023053284938131236,
          0.005761461484676852,
          0.005365704418303768,
          0.03267629125666488,
          0.023230003413726958,
          0.017076246655018435,
          0.008818625053248949,
          0.014287055238849556,
          0.02200287514004795,
          0.006055218872586857,
          0.011112098819351025,
          0.05931481265958829,
          0.05780296813058597
         ],
         "yaxis": "y2"
        },
        {
         "marker": {
          "color": [
           0,
           1,
           2,
           3,
           4,
           5,
           6,
           7,
           8,
           9,
           10,
           11,
           12,
           13,
           14,
           15
          ],
          "colorbar": {
           "title": {
            "text": "#Trials"
           },
           "x": 1,
           "xpad": 40
          },
          "colorscale": [
           [
            0,
            "rgb(247,251,255)"
           ],
           [
            0.125,
            "rgb(222,235,247)"
           ],
           [
            0.25,
            "rgb(198,219,239)"
           ],
           [
            0.375,
            "rgb(158,202,225)"
           ],
           [
            0.5,
            "rgb(107,174,214)"
           ],
           [
            0.625,
            "rgb(66,146,198)"
           ],
           [
            0.75,
            "rgb(33,113,181)"
           ],
           [
            0.875,
            "rgb(8,81,156)"
           ],
           [
            1,
            "rgb(8,48,107)"
           ]
          ],
          "line": {
           "color": "Grey",
           "width": 0.5
          },
          "showscale": false
         },
         "mode": "markers",
         "showlegend": false,
         "type": "scatter",
         "x": [
          0.0633319318479532,
          0.040600832440222806,
          0.027684182198906518,
          0.034666614115877646,
          0.036836180955451665,
          0.05657534665892468,
          0.09895332669439717,
          0.07764038042649608,
          0.04094016257400482,
          0.08822946005987356,
          0.011666642412384555,
          0.05977132500452518,
          0.014604565345756368,
          0.051191575402560564,
          0.0723551271722748,
          0.050000640106874
         ],
         "xaxis": "x3",
         "y": [
          0.015463595697359217,
          0.10919421006841856,
          0.01911936511345755,
          0.023053284938131236,
          0.005761461484676852,
          0.005365704418303768,
          0.03267629125666488,
          0.023230003413726958,
          0.017076246655018435,
          0.008818625053248949,
          0.014287055238849556,
          0.02200287514004795,
          0.006055218872586857,
          0.011112098819351025,
          0.05931481265958829,
          0.05780296813058597
         ],
         "yaxis": "y3"
        },
        {
         "marker": {
          "color": [
           0,
           1,
           2,
           3,
           4,
           5,
           6,
           7,
           8,
           9,
           10,
           11,
           12,
           13,
           14,
           15
          ],
          "colorbar": {
           "title": {
            "text": "#Trials"
           },
           "x": 1,
           "xpad": 40
          },
          "colorscale": [
           [
            0,
            "rgb(247,251,255)"
           ],
           [
            0.125,
            "rgb(222,235,247)"
           ],
           [
            0.25,
            "rgb(198,219,239)"
           ],
           [
            0.375,
            "rgb(158,202,225)"
           ],
           [
            0.5,
            "rgb(107,174,214)"
           ],
           [
            0.625,
            "rgb(66,146,198)"
           ],
           [
            0.75,
            "rgb(33,113,181)"
           ],
           [
            0.875,
            "rgb(8,81,156)"
           ],
           [
            1,
            "rgb(8,48,107)"
           ]
          ],
          "line": {
           "color": "Grey",
           "width": 0.5
          },
          "showscale": false
         },
         "mode": "markers",
         "showlegend": false,
         "type": "scatter",
         "x": [
          0.12933382482918607,
          0.06186367460250364,
          0.10167581247726706,
          0.10058708121365512,
          0.07123679781276535,
          0.10152453377377922,
          0.09590280597657397,
          0.07979700376619127,
          0.059985094814200515,
          0.11519463172441914,
          0.1386461365656535,
          0.07806664466493624,
          0.07968879257407203,
          0.11740063446692542,
          0.05180155951874785,
          0.08939693540768119
         ],
         "xaxis": "x4",
         "y": [
          0.015463595697359217,
          0.10919421006841856,
          0.01911936511345755,
          0.023053284938131236,
          0.005761461484676852,
          0.005365704418303768,
          0.03267629125666488,
          0.023230003413726958,
          0.017076246655018435,
          0.008818625053248949,
          0.014287055238849556,
          0.02200287514004795,
          0.006055218872586857,
          0.011112098819351025,
          0.05931481265958829,
          0.05780296813058597
         ],
         "yaxis": "y4"
        }
       ],
       "layout": {
        "template": {
         "data": {
          "bar": [
           {
            "error_x": {
             "color": "#2a3f5f"
            },
            "error_y": {
             "color": "#2a3f5f"
            },
            "marker": {
             "line": {
              "color": "#E5ECF6",
              "width": 0.5
             },
             "pattern": {
              "fillmode": "overlay",
              "size": 10,
              "solidity": 0.2
             }
            },
            "type": "bar"
           }
          ],
          "barpolar": [
           {
            "marker": {
             "line": {
              "color": "#E5ECF6",
              "width": 0.5
             },
             "pattern": {
              "fillmode": "overlay",
              "size": 10,
              "solidity": 0.2
             }
            },
            "type": "barpolar"
           }
          ],
          "carpet": [
           {
            "aaxis": {
             "endlinecolor": "#2a3f5f",
             "gridcolor": "white",
             "linecolor": "white",
             "minorgridcolor": "white",
             "startlinecolor": "#2a3f5f"
            },
            "baxis": {
             "endlinecolor": "#2a3f5f",
             "gridcolor": "white",
             "linecolor": "white",
             "minorgridcolor": "white",
             "startlinecolor": "#2a3f5f"
            },
            "type": "carpet"
           }
          ],
          "choropleth": [
           {
            "colorbar": {
             "outlinewidth": 0,
             "ticks": ""
            },
            "type": "choropleth"
           }
          ],
          "contour": [
           {
            "colorbar": {
             "outlinewidth": 0,
             "ticks": ""
            },
            "colorscale": [
             [
              0,
              "#0d0887"
             ],
             [
              0.1111111111111111,
              "#46039f"
             ],
             [
              0.2222222222222222,
              "#7201a8"
             ],
             [
              0.3333333333333333,
              "#9c179e"
             ],
             [
              0.4444444444444444,
              "#bd3786"
             ],
             [
              0.5555555555555556,
              "#d8576b"
             ],
             [
              0.6666666666666666,
              "#ed7953"
             ],
             [
              0.7777777777777778,
              "#fb9f3a"
             ],
             [
              0.8888888888888888,
              "#fdca26"
             ],
             [
              1,
              "#f0f921"
             ]
            ],
            "type": "contour"
           }
          ],
          "contourcarpet": [
           {
            "colorbar": {
             "outlinewidth": 0,
             "ticks": ""
            },
            "type": "contourcarpet"
           }
          ],
          "heatmap": [
           {
            "colorbar": {
             "outlinewidth": 0,
             "ticks": ""
            },
            "colorscale": [
             [
              0,
              "#0d0887"
             ],
             [
              0.1111111111111111,
              "#46039f"
             ],
             [
              0.2222222222222222,
              "#7201a8"
             ],
             [
              0.3333333333333333,
              "#9c179e"
             ],
             [
              0.4444444444444444,
              "#bd3786"
             ],
             [
              0.5555555555555556,
              "#d8576b"
             ],
             [
              0.6666666666666666,
              "#ed7953"
             ],
             [
              0.7777777777777778,
              "#fb9f3a"
             ],
             [
              0.8888888888888888,
              "#fdca26"
             ],
             [
              1,
              "#f0f921"
             ]
            ],
            "type": "heatmap"
           }
          ],
          "heatmapgl": [
           {
            "colorbar": {
             "outlinewidth": 0,
             "ticks": ""
            },
            "colorscale": [
             [
              0,
              "#0d0887"
             ],
             [
              0.1111111111111111,
              "#46039f"
             ],
             [
              0.2222222222222222,
              "#7201a8"
             ],
             [
              0.3333333333333333,
              "#9c179e"
             ],
             [
              0.4444444444444444,
              "#bd3786"
             ],
             [
              0.5555555555555556,
              "#d8576b"
             ],
             [
              0.6666666666666666,
              "#ed7953"
             ],
             [
              0.7777777777777778,
              "#fb9f3a"
             ],
             [
              0.8888888888888888,
              "#fdca26"
             ],
             [
              1,
              "#f0f921"
             ]
            ],
            "type": "heatmapgl"
           }
          ],
          "histogram": [
           {
            "marker": {
             "pattern": {
              "fillmode": "overlay",
              "size": 10,
              "solidity": 0.2
             }
            },
            "type": "histogram"
           }
          ],
          "histogram2d": [
           {
            "colorbar": {
             "outlinewidth": 0,
             "ticks": ""
            },
            "colorscale": [
             [
              0,
              "#0d0887"
             ],
             [
              0.1111111111111111,
              "#46039f"
             ],
             [
              0.2222222222222222,
              "#7201a8"
             ],
             [
              0.3333333333333333,
              "#9c179e"
             ],
             [
              0.4444444444444444,
              "#bd3786"
             ],
             [
              0.5555555555555556,
              "#d8576b"
             ],
             [
              0.6666666666666666,
              "#ed7953"
             ],
             [
              0.7777777777777778,
              "#fb9f3a"
             ],
             [
              0.8888888888888888,
              "#fdca26"
             ],
             [
              1,
              "#f0f921"
             ]
            ],
            "type": "histogram2d"
           }
          ],
          "histogram2dcontour": [
           {
            "colorbar": {
             "outlinewidth": 0,
             "ticks": ""
            },
            "colorscale": [
             [
              0,
              "#0d0887"
             ],
             [
              0.1111111111111111,
              "#46039f"
             ],
             [
              0.2222222222222222,
              "#7201a8"
             ],
             [
              0.3333333333333333,
              "#9c179e"
             ],
             [
              0.4444444444444444,
              "#bd3786"
             ],
             [
              0.5555555555555556,
              "#d8576b"
             ],
             [
              0.6666666666666666,
              "#ed7953"
             ],
             [
              0.7777777777777778,
              "#fb9f3a"
             ],
             [
              0.8888888888888888,
              "#fdca26"
             ],
             [
              1,
              "#f0f921"
             ]
            ],
            "type": "histogram2dcontour"
           }
          ],
          "mesh3d": [
           {
            "colorbar": {
             "outlinewidth": 0,
             "ticks": ""
            },
            "type": "mesh3d"
           }
          ],
          "parcoords": [
           {
            "line": {
             "colorbar": {
              "outlinewidth": 0,
              "ticks": ""
             }
            },
            "type": "parcoords"
           }
          ],
          "pie": [
           {
            "automargin": true,
            "type": "pie"
           }
          ],
          "scatter": [
           {
            "marker": {
             "colorbar": {
              "outlinewidth": 0,
              "ticks": ""
             }
            },
            "type": "scatter"
           }
          ],
          "scatter3d": [
           {
            "line": {
             "colorbar": {
              "outlinewidth": 0,
              "ticks": ""
             }
            },
            "marker": {
             "colorbar": {
              "outlinewidth": 0,
              "ticks": ""
             }
            },
            "type": "scatter3d"
           }
          ],
          "scattercarpet": [
           {
            "marker": {
             "colorbar": {
              "outlinewidth": 0,
              "ticks": ""
             }
            },
            "type": "scattercarpet"
           }
          ],
          "scattergeo": [
           {
            "marker": {
             "colorbar": {
              "outlinewidth": 0,
              "ticks": ""
             }
            },
            "type": "scattergeo"
           }
          ],
          "scattergl": [
           {
            "marker": {
             "colorbar": {
              "outlinewidth": 0,
              "ticks": ""
             }
            },
            "type": "scattergl"
           }
          ],
          "scattermapbox": [
           {
            "marker": {
             "colorbar": {
              "outlinewidth": 0,
              "ticks": ""
             }
            },
            "type": "scattermapbox"
           }
          ],
          "scatterpolar": [
           {
            "marker": {
             "colorbar": {
              "outlinewidth": 0,
              "ticks": ""
             }
            },
            "type": "scatterpolar"
           }
          ],
          "scatterpolargl": [
           {
            "marker": {
             "colorbar": {
              "outlinewidth": 0,
              "ticks": ""
             }
            },
            "type": "scatterpolargl"
           }
          ],
          "scatterternary": [
           {
            "marker": {
             "colorbar": {
              "outlinewidth": 0,
              "ticks": ""
             }
            },
            "type": "scatterternary"
           }
          ],
          "surface": [
           {
            "colorbar": {
             "outlinewidth": 0,
             "ticks": ""
            },
            "colorscale": [
             [
              0,
              "#0d0887"
             ],
             [
              0.1111111111111111,
              "#46039f"
             ],
             [
              0.2222222222222222,
              "#7201a8"
             ],
             [
              0.3333333333333333,
              "#9c179e"
             ],
             [
              0.4444444444444444,
              "#bd3786"
             ],
             [
              0.5555555555555556,
              "#d8576b"
             ],
             [
              0.6666666666666666,
              "#ed7953"
             ],
             [
              0.7777777777777778,
              "#fb9f3a"
             ],
             [
              0.8888888888888888,
              "#fdca26"
             ],
             [
              1,
              "#f0f921"
             ]
            ],
            "type": "surface"
           }
          ],
          "table": [
           {
            "cells": {
             "fill": {
              "color": "#EBF0F8"
             },
             "line": {
              "color": "white"
             }
            },
            "header": {
             "fill": {
              "color": "#C8D4E3"
             },
             "line": {
              "color": "white"
             }
            },
            "type": "table"
           }
          ]
         },
         "layout": {
          "annotationdefaults": {
           "arrowcolor": "#2a3f5f",
           "arrowhead": 0,
           "arrowwidth": 1
          },
          "autotypenumbers": "strict",
          "coloraxis": {
           "colorbar": {
            "outlinewidth": 0,
            "ticks": ""
           }
          },
          "colorscale": {
           "diverging": [
            [
             0,
             "#8e0152"
            ],
            [
             0.1,
             "#c51b7d"
            ],
            [
             0.2,
             "#de77ae"
            ],
            [
             0.3,
             "#f1b6da"
            ],
            [
             0.4,
             "#fde0ef"
            ],
            [
             0.5,
             "#f7f7f7"
            ],
            [
             0.6,
             "#e6f5d0"
            ],
            [
             0.7,
             "#b8e186"
            ],
            [
             0.8,
             "#7fbc41"
            ],
            [
             0.9,
             "#4d9221"
            ],
            [
             1,
             "#276419"
            ]
           ],
           "sequential": [
            [
             0,
             "#0d0887"
            ],
            [
             0.1111111111111111,
             "#46039f"
            ],
            [
             0.2222222222222222,
             "#7201a8"
            ],
            [
             0.3333333333333333,
             "#9c179e"
            ],
            [
             0.4444444444444444,
             "#bd3786"
            ],
            [
             0.5555555555555556,
             "#d8576b"
            ],
            [
             0.6666666666666666,
             "#ed7953"
            ],
            [
             0.7777777777777778,
             "#fb9f3a"
            ],
            [
             0.8888888888888888,
             "#fdca26"
            ],
            [
             1,
             "#f0f921"
            ]
           ],
           "sequentialminus": [
            [
             0,
             "#0d0887"
            ],
            [
             0.1111111111111111,
             "#46039f"
            ],
            [
             0.2222222222222222,
             "#7201a8"
            ],
            [
             0.3333333333333333,
             "#9c179e"
            ],
            [
             0.4444444444444444,
             "#bd3786"
            ],
            [
             0.5555555555555556,
             "#d8576b"
            ],
            [
             0.6666666666666666,
             "#ed7953"
            ],
            [
             0.7777777777777778,
             "#fb9f3a"
            ],
            [
             0.8888888888888888,
             "#fdca26"
            ],
            [
             1,
             "#f0f921"
            ]
           ]
          },
          "colorway": [
           "#636efa",
           "#EF553B",
           "#00cc96",
           "#ab63fa",
           "#FFA15A",
           "#19d3f3",
           "#FF6692",
           "#B6E880",
           "#FF97FF",
           "#FECB52"
          ],
          "font": {
           "color": "#2a3f5f"
          },
          "geo": {
           "bgcolor": "white",
           "lakecolor": "white",
           "landcolor": "#E5ECF6",
           "showlakes": true,
           "showland": true,
           "subunitcolor": "white"
          },
          "hoverlabel": {
           "align": "left"
          },
          "hovermode": "closest",
          "mapbox": {
           "style": "light"
          },
          "paper_bgcolor": "white",
          "plot_bgcolor": "#E5ECF6",
          "polar": {
           "angularaxis": {
            "gridcolor": "white",
            "linecolor": "white",
            "ticks": ""
           },
           "bgcolor": "#E5ECF6",
           "radialaxis": {
            "gridcolor": "white",
            "linecolor": "white",
            "ticks": ""
           }
          },
          "scene": {
           "xaxis": {
            "backgroundcolor": "#E5ECF6",
            "gridcolor": "white",
            "gridwidth": 2,
            "linecolor": "white",
            "showbackground": true,
            "ticks": "",
            "zerolinecolor": "white"
           },
           "yaxis": {
            "backgroundcolor": "#E5ECF6",
            "gridcolor": "white",
            "gridwidth": 2,
            "linecolor": "white",
            "showbackground": true,
            "ticks": "",
            "zerolinecolor": "white"
           },
           "zaxis": {
            "backgroundcolor": "#E5ECF6",
            "gridcolor": "white",
            "gridwidth": 2,
            "linecolor": "white",
            "showbackground": true,
            "ticks": "",
            "zerolinecolor": "white"
           }
          },
          "shapedefaults": {
           "line": {
            "color": "#2a3f5f"
           }
          },
          "ternary": {
           "aaxis": {
            "gridcolor": "white",
            "linecolor": "white",
            "ticks": ""
           },
           "baxis": {
            "gridcolor": "white",
            "linecolor": "white",
            "ticks": ""
           },
           "bgcolor": "#E5ECF6",
           "caxis": {
            "gridcolor": "white",
            "linecolor": "white",
            "ticks": ""
           }
          },
          "title": {
           "x": 0.05
          },
          "xaxis": {
           "automargin": true,
           "gridcolor": "white",
           "linecolor": "white",
           "ticks": "",
           "title": {
            "standoff": 15
           },
           "zerolinecolor": "white",
           "zerolinewidth": 2
          },
          "yaxis": {
           "automargin": true,
           "gridcolor": "white",
           "linecolor": "white",
           "ticks": "",
           "title": {
            "standoff": 15
           },
           "zerolinecolor": "white",
           "zerolinewidth": 2
          }
         }
        },
        "title": {
         "text": "Slice Plot"
        },
        "width": 1200,
        "xaxis": {
         "anchor": "y",
         "domain": [
          0,
          0.2125
         ],
         "title": {
          "text": "clip_margin"
         }
        },
        "xaxis2": {
         "anchor": "y2",
         "domain": [
          0.2625,
          0.475
         ],
         "title": {
          "text": "hidden_layer"
         }
        },
        "xaxis3": {
         "anchor": "y3",
         "domain": [
          0.525,
          0.7375
         ],
         "title": {
          "text": "learning_rate"
         }
        },
        "xaxis4": {
         "anchor": "y4",
         "domain": [
          0.7875,
          1
         ],
         "title": {
          "text": "stddev"
         }
        },
        "yaxis": {
         "anchor": "x",
         "domain": [
          0,
          1
         ],
         "title": {
          "text": "Objective Value"
         }
        },
        "yaxis2": {
         "anchor": "x2",
         "domain": [
          0,
          1
         ],
         "matches": "y",
         "showticklabels": false
        },
        "yaxis3": {
         "anchor": "x3",
         "domain": [
          0,
          1
         ],
         "matches": "y",
         "showticklabels": false
        },
        "yaxis4": {
         "anchor": "x4",
         "domain": [
          0,
          1
         ],
         "matches": "y",
         "showticklabels": false
        }
       }
      }
     },
     "metadata": {},
     "output_type": "display_data"
    }
   ],
   "source": [
    "optuna.visualization.plot_slice(study_1)"
   ]
  },
  {
   "cell_type": "code",
   "execution_count": null,
   "metadata": {
    "id": "_654btRqWJCD",
    "outputId": "58a7ad2f-6ff9-431e-ad21-28e5bdc04ecf"
   },
   "outputs": [
    {
     "data": {
      "application/vnd.plotly.v1+json": {
       "config": {
        "plotlyServerURL": "https://plot.ly"
       },
       "data": [
        {
         "cliponaxis": false,
         "hovertemplate": [
          "clip_margin (IntUniformDistribution): 0.04751511331405367<extra></extra>",
          "learning_rate (UniformDistribution): 0.1189467887034442<extra></extra>",
          "stddev (UniformDistribution): 0.30973946449391426<extra></extra>",
          "hidden_layer (IntUniformDistribution): 0.5237986334885879<extra></extra>"
         ],
         "marker": {
          "color": [
           "rgb(8,81,156)",
           "rgb(8,48,107)",
           "rgb(8,48,107)",
           "rgb(8,81,156)"
          ]
         },
         "orientation": "h",
         "text": [
          "0.04751511331405367",
          "0.1189467887034442",
          "0.30973946449391426",
          "0.5237986334885879"
         ],
         "textposition": "outside",
         "texttemplate": "%{text:.2f}",
         "type": "bar",
         "x": [
          0.04751511331405367,
          0.1189467887034442,
          0.30973946449391426,
          0.5237986334885879
         ],
         "y": [
          "clip_margin",
          "learning_rate",
          "stddev",
          "hidden_layer"
         ]
        }
       ],
       "layout": {
        "showlegend": false,
        "template": {
         "data": {
          "bar": [
           {
            "error_x": {
             "color": "#2a3f5f"
            },
            "error_y": {
             "color": "#2a3f5f"
            },
            "marker": {
             "line": {
              "color": "#E5ECF6",
              "width": 0.5
             },
             "pattern": {
              "fillmode": "overlay",
              "size": 10,
              "solidity": 0.2
             }
            },
            "type": "bar"
           }
          ],
          "barpolar": [
           {
            "marker": {
             "line": {
              "color": "#E5ECF6",
              "width": 0.5
             },
             "pattern": {
              "fillmode": "overlay",
              "size": 10,
              "solidity": 0.2
             }
            },
            "type": "barpolar"
           }
          ],
          "carpet": [
           {
            "aaxis": {
             "endlinecolor": "#2a3f5f",
             "gridcolor": "white",
             "linecolor": "white",
             "minorgridcolor": "white",
             "startlinecolor": "#2a3f5f"
            },
            "baxis": {
             "endlinecolor": "#2a3f5f",
             "gridcolor": "white",
             "linecolor": "white",
             "minorgridcolor": "white",
             "startlinecolor": "#2a3f5f"
            },
            "type": "carpet"
           }
          ],
          "choropleth": [
           {
            "colorbar": {
             "outlinewidth": 0,
             "ticks": ""
            },
            "type": "choropleth"
           }
          ],
          "contour": [
           {
            "colorbar": {
             "outlinewidth": 0,
             "ticks": ""
            },
            "colorscale": [
             [
              0,
              "#0d0887"
             ],
             [
              0.1111111111111111,
              "#46039f"
             ],
             [
              0.2222222222222222,
              "#7201a8"
             ],
             [
              0.3333333333333333,
              "#9c179e"
             ],
             [
              0.4444444444444444,
              "#bd3786"
             ],
             [
              0.5555555555555556,
              "#d8576b"
             ],
             [
              0.6666666666666666,
              "#ed7953"
             ],
             [
              0.7777777777777778,
              "#fb9f3a"
             ],
             [
              0.8888888888888888,
              "#fdca26"
             ],
             [
              1,
              "#f0f921"
             ]
            ],
            "type": "contour"
           }
          ],
          "contourcarpet": [
           {
            "colorbar": {
             "outlinewidth": 0,
             "ticks": ""
            },
            "type": "contourcarpet"
           }
          ],
          "heatmap": [
           {
            "colorbar": {
             "outlinewidth": 0,
             "ticks": ""
            },
            "colorscale": [
             [
              0,
              "#0d0887"
             ],
             [
              0.1111111111111111,
              "#46039f"
             ],
             [
              0.2222222222222222,
              "#7201a8"
             ],
             [
              0.3333333333333333,
              "#9c179e"
             ],
             [
              0.4444444444444444,
              "#bd3786"
             ],
             [
              0.5555555555555556,
              "#d8576b"
             ],
             [
              0.6666666666666666,
              "#ed7953"
             ],
             [
              0.7777777777777778,
              "#fb9f3a"
             ],
             [
              0.8888888888888888,
              "#fdca26"
             ],
             [
              1,
              "#f0f921"
             ]
            ],
            "type": "heatmap"
           }
          ],
          "heatmapgl": [
           {
            "colorbar": {
             "outlinewidth": 0,
             "ticks": ""
            },
            "colorscale": [
             [
              0,
              "#0d0887"
             ],
             [
              0.1111111111111111,
              "#46039f"
             ],
             [
              0.2222222222222222,
              "#7201a8"
             ],
             [
              0.3333333333333333,
              "#9c179e"
             ],
             [
              0.4444444444444444,
              "#bd3786"
             ],
             [
              0.5555555555555556,
              "#d8576b"
             ],
             [
              0.6666666666666666,
              "#ed7953"
             ],
             [
              0.7777777777777778,
              "#fb9f3a"
             ],
             [
              0.8888888888888888,
              "#fdca26"
             ],
             [
              1,
              "#f0f921"
             ]
            ],
            "type": "heatmapgl"
           }
          ],
          "histogram": [
           {
            "marker": {
             "pattern": {
              "fillmode": "overlay",
              "size": 10,
              "solidity": 0.2
             }
            },
            "type": "histogram"
           }
          ],
          "histogram2d": [
           {
            "colorbar": {
             "outlinewidth": 0,
             "ticks": ""
            },
            "colorscale": [
             [
              0,
              "#0d0887"
             ],
             [
              0.1111111111111111,
              "#46039f"
             ],
             [
              0.2222222222222222,
              "#7201a8"
             ],
             [
              0.3333333333333333,
              "#9c179e"
             ],
             [
              0.4444444444444444,
              "#bd3786"
             ],
             [
              0.5555555555555556,
              "#d8576b"
             ],
             [
              0.6666666666666666,
              "#ed7953"
             ],
             [
              0.7777777777777778,
              "#fb9f3a"
             ],
             [
              0.8888888888888888,
              "#fdca26"
             ],
             [
              1,
              "#f0f921"
             ]
            ],
            "type": "histogram2d"
           }
          ],
          "histogram2dcontour": [
           {
            "colorbar": {
             "outlinewidth": 0,
             "ticks": ""
            },
            "colorscale": [
             [
              0,
              "#0d0887"
             ],
             [
              0.1111111111111111,
              "#46039f"
             ],
             [
              0.2222222222222222,
              "#7201a8"
             ],
             [
              0.3333333333333333,
              "#9c179e"
             ],
             [
              0.4444444444444444,
              "#bd3786"
             ],
             [
              0.5555555555555556,
              "#d8576b"
             ],
             [
              0.6666666666666666,
              "#ed7953"
             ],
             [
              0.7777777777777778,
              "#fb9f3a"
             ],
             [
              0.8888888888888888,
              "#fdca26"
             ],
             [
              1,
              "#f0f921"
             ]
            ],
            "type": "histogram2dcontour"
           }
          ],
          "mesh3d": [
           {
            "colorbar": {
             "outlinewidth": 0,
             "ticks": ""
            },
            "type": "mesh3d"
           }
          ],
          "parcoords": [
           {
            "line": {
             "colorbar": {
              "outlinewidth": 0,
              "ticks": ""
             }
            },
            "type": "parcoords"
           }
          ],
          "pie": [
           {
            "automargin": true,
            "type": "pie"
           }
          ],
          "scatter": [
           {
            "marker": {
             "colorbar": {
              "outlinewidth": 0,
              "ticks": ""
             }
            },
            "type": "scatter"
           }
          ],
          "scatter3d": [
           {
            "line": {
             "colorbar": {
              "outlinewidth": 0,
              "ticks": ""
             }
            },
            "marker": {
             "colorbar": {
              "outlinewidth": 0,
              "ticks": ""
             }
            },
            "type": "scatter3d"
           }
          ],
          "scattercarpet": [
           {
            "marker": {
             "colorbar": {
              "outlinewidth": 0,
              "ticks": ""
             }
            },
            "type": "scattercarpet"
           }
          ],
          "scattergeo": [
           {
            "marker": {
             "colorbar": {
              "outlinewidth": 0,
              "ticks": ""
             }
            },
            "type": "scattergeo"
           }
          ],
          "scattergl": [
           {
            "marker": {
             "colorbar": {
              "outlinewidth": 0,
              "ticks": ""
             }
            },
            "type": "scattergl"
           }
          ],
          "scattermapbox": [
           {
            "marker": {
             "colorbar": {
              "outlinewidth": 0,
              "ticks": ""
             }
            },
            "type": "scattermapbox"
           }
          ],
          "scatterpolar": [
           {
            "marker": {
             "colorbar": {
              "outlinewidth": 0,
              "ticks": ""
             }
            },
            "type": "scatterpolar"
           }
          ],
          "scatterpolargl": [
           {
            "marker": {
             "colorbar": {
              "outlinewidth": 0,
              "ticks": ""
             }
            },
            "type": "scatterpolargl"
           }
          ],
          "scatterternary": [
           {
            "marker": {
             "colorbar": {
              "outlinewidth": 0,
              "ticks": ""
             }
            },
            "type": "scatterternary"
           }
          ],
          "surface": [
           {
            "colorbar": {
             "outlinewidth": 0,
             "ticks": ""
            },
            "colorscale": [
             [
              0,
              "#0d0887"
             ],
             [
              0.1111111111111111,
              "#46039f"
             ],
             [
              0.2222222222222222,
              "#7201a8"
             ],
             [
              0.3333333333333333,
              "#9c179e"
             ],
             [
              0.4444444444444444,
              "#bd3786"
             ],
             [
              0.5555555555555556,
              "#d8576b"
             ],
             [
              0.6666666666666666,
              "#ed7953"
             ],
             [
              0.7777777777777778,
              "#fb9f3a"
             ],
             [
              0.8888888888888888,
              "#fdca26"
             ],
             [
              1,
              "#f0f921"
             ]
            ],
            "type": "surface"
           }
          ],
          "table": [
           {
            "cells": {
             "fill": {
              "color": "#EBF0F8"
             },
             "line": {
              "color": "white"
             }
            },
            "header": {
             "fill": {
              "color": "#C8D4E3"
             },
             "line": {
              "color": "white"
             }
            },
            "type": "table"
           }
          ]
         },
         "layout": {
          "annotationdefaults": {
           "arrowcolor": "#2a3f5f",
           "arrowhead": 0,
           "arrowwidth": 1
          },
          "autotypenumbers": "strict",
          "coloraxis": {
           "colorbar": {
            "outlinewidth": 0,
            "ticks": ""
           }
          },
          "colorscale": {
           "diverging": [
            [
             0,
             "#8e0152"
            ],
            [
             0.1,
             "#c51b7d"
            ],
            [
             0.2,
             "#de77ae"
            ],
            [
             0.3,
             "#f1b6da"
            ],
            [
             0.4,
             "#fde0ef"
            ],
            [
             0.5,
             "#f7f7f7"
            ],
            [
             0.6,
             "#e6f5d0"
            ],
            [
             0.7,
             "#b8e186"
            ],
            [
             0.8,
             "#7fbc41"
            ],
            [
             0.9,
             "#4d9221"
            ],
            [
             1,
             "#276419"
            ]
           ],
           "sequential": [
            [
             0,
             "#0d0887"
            ],
            [
             0.1111111111111111,
             "#46039f"
            ],
            [
             0.2222222222222222,
             "#7201a8"
            ],
            [
             0.3333333333333333,
             "#9c179e"
            ],
            [
             0.4444444444444444,
             "#bd3786"
            ],
            [
             0.5555555555555556,
             "#d8576b"
            ],
            [
             0.6666666666666666,
             "#ed7953"
            ],
            [
             0.7777777777777778,
             "#fb9f3a"
            ],
            [
             0.8888888888888888,
             "#fdca26"
            ],
            [
             1,
             "#f0f921"
            ]
           ],
           "sequentialminus": [
            [
             0,
             "#0d0887"
            ],
            [
             0.1111111111111111,
             "#46039f"
            ],
            [
             0.2222222222222222,
             "#7201a8"
            ],
            [
             0.3333333333333333,
             "#9c179e"
            ],
            [
             0.4444444444444444,
             "#bd3786"
            ],
            [
             0.5555555555555556,
             "#d8576b"
            ],
            [
             0.6666666666666666,
             "#ed7953"
            ],
            [
             0.7777777777777778,
             "#fb9f3a"
            ],
            [
             0.8888888888888888,
             "#fdca26"
            ],
            [
             1,
             "#f0f921"
            ]
           ]
          },
          "colorway": [
           "#636efa",
           "#EF553B",
           "#00cc96",
           "#ab63fa",
           "#FFA15A",
           "#19d3f3",
           "#FF6692",
           "#B6E880",
           "#FF97FF",
           "#FECB52"
          ],
          "font": {
           "color": "#2a3f5f"
          },
          "geo": {
           "bgcolor": "white",
           "lakecolor": "white",
           "landcolor": "#E5ECF6",
           "showlakes": true,
           "showland": true,
           "subunitcolor": "white"
          },
          "hoverlabel": {
           "align": "left"
          },
          "hovermode": "closest",
          "mapbox": {
           "style": "light"
          },
          "paper_bgcolor": "white",
          "plot_bgcolor": "#E5ECF6",
          "polar": {
           "angularaxis": {
            "gridcolor": "white",
            "linecolor": "white",
            "ticks": ""
           },
           "bgcolor": "#E5ECF6",
           "radialaxis": {
            "gridcolor": "white",
            "linecolor": "white",
            "ticks": ""
           }
          },
          "scene": {
           "xaxis": {
            "backgroundcolor": "#E5ECF6",
            "gridcolor": "white",
            "gridwidth": 2,
            "linecolor": "white",
            "showbackground": true,
            "ticks": "",
            "zerolinecolor": "white"
           },
           "yaxis": {
            "backgroundcolor": "#E5ECF6",
            "gridcolor": "white",
            "gridwidth": 2,
            "linecolor": "white",
            "showbackground": true,
            "ticks": "",
            "zerolinecolor": "white"
           },
           "zaxis": {
            "backgroundcolor": "#E5ECF6",
            "gridcolor": "white",
            "gridwidth": 2,
            "linecolor": "white",
            "showbackground": true,
            "ticks": "",
            "zerolinecolor": "white"
           }
          },
          "shapedefaults": {
           "line": {
            "color": "#2a3f5f"
           }
          },
          "ternary": {
           "aaxis": {
            "gridcolor": "white",
            "linecolor": "white",
            "ticks": ""
           },
           "baxis": {
            "gridcolor": "white",
            "linecolor": "white",
            "ticks": ""
           },
           "bgcolor": "#E5ECF6",
           "caxis": {
            "gridcolor": "white",
            "linecolor": "white",
            "ticks": ""
           }
          },
          "title": {
           "x": 0.05
          },
          "xaxis": {
           "automargin": true,
           "gridcolor": "white",
           "linecolor": "white",
           "ticks": "",
           "title": {
            "standoff": 15
           },
           "zerolinecolor": "white",
           "zerolinewidth": 2
          },
          "yaxis": {
           "automargin": true,
           "gridcolor": "white",
           "linecolor": "white",
           "ticks": "",
           "title": {
            "standoff": 15
           },
           "zerolinecolor": "white",
           "zerolinewidth": 2
          }
         }
        },
        "title": {
         "text": "Hyperparameter Importances"
        },
        "xaxis": {
         "title": {
          "text": "Importance for Objective Value"
         }
        },
        "yaxis": {
         "title": {
          "text": "Hyperparameter"
         }
        }
       }
      }
     },
     "metadata": {},
     "output_type": "display_data"
    }
   ],
   "source": [
    "optuna.visualization.plot_param_importances(study_1)"
   ]
  },
  {
   "cell_type": "markdown",
   "metadata": {
    "id": "KP_uZBgEWJCD"
   },
   "source": [
    "### Parâmetros do Estudo 2\n",
    "Trials: 16 <br>\n",
    "Tamanho do batch/janela: 7 <br>\n",
    "Hidden layer: 64 à 256 <br>\n",
    "Margem de clip: 64 à 128 <br>\n",
    "Taxa de aprendizado: 0.1 à 0.5 <br>"
   ]
  },
  {
   "cell_type": "code",
   "execution_count": null,
   "metadata": {
    "id": "6A8SExqubSx_",
    "outputId": "a2029dd2-a379-42e6-b71b-bba5b41b9b0d"
   },
   "outputs": [
    {
     "name": "stderr",
     "output_type": "stream",
     "text": [
      "\u001b[32m[I 2021-11-16 01:39:29,770]\u001b[0m A new study created in memory with name: no-name-9c8c7dca-7a8c-495c-a2a7-29db1d73ff24\u001b[0m\n"
     ]
    },
    {
     "name": "stdout",
     "output_type": "stream",
     "text": [
      "\n",
      "Configs {'batch_size': 7, 'window_size': 7, 'hidden_layer': 197, 'clip_margin': 87, 'learning_rate': 0.28731147414473723, 'epochs': 60, 'stddev': 0.10892521047779707, 'epochs_print': 10} \n",
      "\n",
      "Epoch  0/60  LOSS: 23.786651611328125\n",
      "Epoch 10/60  LOSS: 0.24432078003883362\n",
      "Epoch 20/60  LOSS: 0.41070613265037537\n",
      "Epoch 30/60  LOSS: 0.3337078094482422\n",
      "Epoch 40/60  LOSS: 0.3942481279373169\n",
      "Epoch 50/60  LOSS: 0.39073801040649414\n"
     ]
    },
    {
     "name": "stderr",
     "output_type": "stream",
     "text": [
      "\u001b[32m[I 2021-11-16 01:40:37,928]\u001b[0m Trial 0 finished with value: 0.4070438464828103 and parameters: {'hidden_layer': 197, 'clip_margin': 87, 'learning_rate': 0.28731147414473723, 'stddev': 0.10892521047779707}. Best is trial 0 with value: 0.4070438464828103.\u001b[0m\n"
     ]
    },
    {
     "name": "stdout",
     "output_type": "stream",
     "text": [
      "\n",
      "Configs {'batch_size': 7, 'window_size': 7, 'hidden_layer': 170, 'clip_margin': 114, 'learning_rate': 0.4523912711864134, 'epochs': 60, 'stddev': 0.08878662748097808, 'epochs_print': 10} \n",
      "\n",
      "Epoch  0/60  LOSS: 49.38376998901367\n",
      "Epoch 10/60  LOSS: 1.1461553573608398\n",
      "Epoch 20/60  LOSS: 0.7815670371055603\n",
      "Epoch 30/60  LOSS: 1.511423945426941\n",
      "Epoch 40/60  LOSS: 1.233652949333191\n",
      "Epoch 50/60  LOSS: 0.8182525038719177\n"
     ]
    },
    {
     "name": "stderr",
     "output_type": "stream",
     "text": [
      "\u001b[32m[I 2021-11-16 01:41:30,868]\u001b[0m Trial 1 finished with value: 0.8176512446790278 and parameters: {'hidden_layer': 170, 'clip_margin': 114, 'learning_rate': 0.4523912711864134, 'stddev': 0.08878662748097808}. Best is trial 0 with value: 0.4070438464828103.\u001b[0m\n"
     ]
    },
    {
     "name": "stdout",
     "output_type": "stream",
     "text": [
      "\n",
      "Configs {'batch_size': 7, 'window_size': 7, 'hidden_layer': 256, 'clip_margin': 64, 'learning_rate': 0.3996040075301285, 'epochs': 60, 'stddev': 0.14158656955436272, 'epochs_print': 10} \n",
      "\n",
      "Epoch  0/60  LOSS: 20.84975242614746\n",
      "Epoch 10/60  LOSS: 0.11732295900583267\n",
      "Epoch 20/60  LOSS: 0.721122145652771\n",
      "Epoch 30/60  LOSS: 0.13634297251701355\n",
      "Epoch 40/60  LOSS: 0.5880559086799622\n",
      "Epoch 50/60  LOSS: 0.5027512907981873\n"
     ]
    },
    {
     "name": "stderr",
     "output_type": "stream",
     "text": [
      "\u001b[32m[I 2021-11-16 01:43:23,077]\u001b[0m Trial 2 finished with value: 3.2326829405936475 and parameters: {'hidden_layer': 256, 'clip_margin': 64, 'learning_rate': 0.3996040075301285, 'stddev': 0.14158656955436272}. Best is trial 0 with value: 0.4070438464828103.\u001b[0m\n"
     ]
    },
    {
     "name": "stdout",
     "output_type": "stream",
     "text": [
      "\n",
      "Configs {'batch_size': 7, 'window_size': 7, 'hidden_layer': 188, 'clip_margin': 101, 'learning_rate': 0.3315468413796342, 'epochs': 60, 'stddev': 0.0858313948787198, 'epochs_print': 10} \n",
      "\n",
      "Epoch  0/60  LOSS: 27.547929763793945\n",
      "Epoch 10/60  LOSS: 0.059783220291137695\n",
      "Epoch 20/60  LOSS: 0.2501884996891022\n",
      "Epoch 30/60  LOSS: 0.3942742645740509\n",
      "Epoch 40/60  LOSS: 0.39415571093559265\n",
      "Epoch 50/60  LOSS: 0.394089937210083\n"
     ]
    },
    {
     "name": "stderr",
     "output_type": "stream",
     "text": [
      "\u001b[32m[I 2021-11-16 01:44:27,054]\u001b[0m Trial 3 finished with value: 0.394061185141298 and parameters: {'hidden_layer': 188, 'clip_margin': 101, 'learning_rate': 0.3315468413796342, 'stddev': 0.0858313948787198}. Best is trial 3 with value: 0.394061185141298.\u001b[0m\n"
     ]
    },
    {
     "name": "stdout",
     "output_type": "stream",
     "text": [
      "\n",
      "Configs {'batch_size': 7, 'window_size': 7, 'hidden_layer': 222, 'clip_margin': 128, 'learning_rate': 0.34958082828225423, 'epochs': 60, 'stddev': 0.08335425296033779, 'epochs_print': 10} \n",
      "\n",
      "Epoch  0/60  LOSS: 36.842529296875\n",
      "Epoch 10/60  LOSS: 0.3151966631412506\n",
      "Epoch 20/60  LOSS: 0.5250840187072754\n",
      "Epoch 30/60  LOSS: 0.4146926999092102\n",
      "Epoch 40/60  LOSS: 0.611014187335968\n",
      "Epoch 50/60  LOSS: 0.6533364057540894\n"
     ]
    },
    {
     "name": "stderr",
     "output_type": "stream",
     "text": [
      "\u001b[32m[I 2021-11-16 01:45:59,566]\u001b[0m Trial 4 finished with value: 0.7215765356500422 and parameters: {'hidden_layer': 222, 'clip_margin': 128, 'learning_rate': 0.34958082828225423, 'stddev': 0.08335425296033779}. Best is trial 3 with value: 0.394061185141298.\u001b[0m\n"
     ]
    },
    {
     "name": "stdout",
     "output_type": "stream",
     "text": [
      "\n",
      "Configs {'batch_size': 7, 'window_size': 7, 'hidden_layer': 150, 'clip_margin': 89, 'learning_rate': 0.4352354648278759, 'epochs': 60, 'stddev': 0.05471615975105827, 'epochs_print': 10} \n",
      "\n",
      "Epoch  0/60  LOSS: 34.289833068847656\n",
      "Epoch 10/60  LOSS: 0.05729949474334717\n",
      "Epoch 20/60  LOSS: 0.4459030032157898\n",
      "Epoch 30/60  LOSS: 0.5124076008796692\n",
      "Epoch 40/60  LOSS: 0.5124531984329224\n",
      "Epoch 50/60  LOSS: 0.5288580060005188\n"
     ]
    },
    {
     "name": "stderr",
     "output_type": "stream",
     "text": [
      "\u001b[32m[I 2021-11-16 01:46:47,212]\u001b[0m Trial 5 finished with value: 0.5112410216228329 and parameters: {'hidden_layer': 150, 'clip_margin': 89, 'learning_rate': 0.4352354648278759, 'stddev': 0.05471615975105827}. Best is trial 3 with value: 0.394061185141298.\u001b[0m\n"
     ]
    },
    {
     "name": "stdout",
     "output_type": "stream",
     "text": [
      "\n",
      "Configs {'batch_size': 7, 'window_size': 7, 'hidden_layer': 256, 'clip_margin': 116, 'learning_rate': 0.1403621396559157, 'epochs': 60, 'stddev': 0.13264440905635375, 'epochs_print': 10} \n",
      "\n",
      "Epoch  0/60  LOSS: 8.117172241210938\n",
      "Epoch 10/60  LOSS: 1.3416537046432495\n",
      "Epoch 20/60  LOSS: 0.021451493725180626\n",
      "Epoch 30/60  LOSS: 0.11527025699615479\n",
      "Epoch 40/60  LOSS: 0.5566946864128113\n",
      "Epoch 50/60  LOSS: 0.046272534877061844\n"
     ]
    },
    {
     "name": "stderr",
     "output_type": "stream",
     "text": [
      "\u001b[32m[I 2021-11-16 01:48:27,664]\u001b[0m Trial 6 finished with value: 0.037891683366636494 and parameters: {'hidden_layer': 256, 'clip_margin': 116, 'learning_rate': 0.1403621396559157, 'stddev': 0.13264440905635375}. Best is trial 6 with value: 0.037891683366636494.\u001b[0m\n"
     ]
    },
    {
     "name": "stdout",
     "output_type": "stream",
     "text": [
      "\n",
      "Configs {'batch_size': 7, 'window_size': 7, 'hidden_layer': 145, 'clip_margin': 70, 'learning_rate': 0.17547804684358953, 'epochs': 60, 'stddev': 0.09628385490397316, 'epochs_print': 10} \n",
      "\n",
      "Epoch  0/60  LOSS: 5.875904083251953\n",
      "Epoch 10/60  LOSS: 0.0733150988817215\n",
      "Epoch 20/60  LOSS: 0.09903957694768906\n",
      "Epoch 30/60  LOSS: 0.12582091987133026\n",
      "Epoch 40/60  LOSS: 0.12872925400733948\n",
      "Epoch 50/60  LOSS: 0.1298445761203766\n"
     ]
    },
    {
     "name": "stderr",
     "output_type": "stream",
     "text": [
      "\u001b[32m[I 2021-11-16 01:49:20,112]\u001b[0m Trial 7 finished with value: 0.1305868434950063 and parameters: {'hidden_layer': 145, 'clip_margin': 70, 'learning_rate': 0.17547804684358953, 'stddev': 0.09628385490397316}. Best is trial 6 with value: 0.037891683366636494.\u001b[0m\n"
     ]
    },
    {
     "name": "stdout",
     "output_type": "stream",
     "text": [
      "\n",
      "Configs {'batch_size': 7, 'window_size': 7, 'hidden_layer': 148, 'clip_margin': 79, 'learning_rate': 0.4852534232031165, 'epochs': 60, 'stddev': 0.05696840617526562, 'epochs_print': 10} \n",
      "\n",
      "Epoch  0/60  LOSS: 71.16302490234375\n",
      "Epoch 10/60  LOSS: 0.05358676239848137\n",
      "Epoch 20/60  LOSS: 0.1727895587682724\n",
      "Epoch 30/60  LOSS: 0.8098796010017395\n",
      "Epoch 40/60  LOSS: 0.7553268074989319\n",
      "Epoch 50/60  LOSS: 0.5882998704910278\n"
     ]
    },
    {
     "name": "stderr",
     "output_type": "stream",
     "text": [
      "\u001b[32m[I 2021-11-16 01:50:03,662]\u001b[0m Trial 8 finished with value: 0.6990398244007745 and parameters: {'hidden_layer': 148, 'clip_margin': 79, 'learning_rate': 0.4852534232031165, 'stddev': 0.05696840617526562}. Best is trial 6 with value: 0.037891683366636494.\u001b[0m\n"
     ]
    },
    {
     "name": "stdout",
     "output_type": "stream",
     "text": [
      "\n",
      "Configs {'batch_size': 7, 'window_size': 7, 'hidden_layer': 137, 'clip_margin': 94, 'learning_rate': 0.17033627126963374, 'epochs': 60, 'stddev': 0.14136041009600375, 'epochs_print': 10} \n",
      "\n",
      "Epoch  0/60  LOSS: 1.870864748954773\n",
      "Epoch 10/60  LOSS: 0.7280149459838867\n",
      "Epoch 20/60  LOSS: 0.04417095333337784\n",
      "Epoch 30/60  LOSS: 0.040284786373376846\n",
      "Epoch 40/60  LOSS: 0.04415031149983406\n",
      "Epoch 50/60  LOSS: 0.04367367923259735\n"
     ]
    },
    {
     "name": "stderr",
     "output_type": "stream",
     "text": [
      "\u001b[32m[I 2021-11-16 01:50:48,375]\u001b[0m Trial 9 finished with value: 0.044185904561928856 and parameters: {'hidden_layer': 137, 'clip_margin': 94, 'learning_rate': 0.17033627126963374, 'stddev': 0.14136041009600375}. Best is trial 6 with value: 0.037891683366636494.\u001b[0m\n"
     ]
    },
    {
     "name": "stdout",
     "output_type": "stream",
     "text": [
      "\n",
      "Configs {'batch_size': 7, 'window_size': 7, 'hidden_layer': 255, 'clip_margin': 128, 'learning_rate': 0.1037578631718944, 'epochs': 60, 'stddev': 0.12284902845629478, 'epochs_print': 10} \n",
      "\n",
      "Epoch  0/60  LOSS: 1.0462384223937988\n",
      "Epoch 10/60  LOSS: 0.11001550406217575\n",
      "Epoch 20/60  LOSS: 0.030465254560112953\n",
      "Epoch 30/60  LOSS: 0.42259588837623596\n",
      "Epoch 40/60  LOSS: 0.069508858025074\n",
      "Epoch 50/60  LOSS: 0.059178173542022705\n"
     ]
    },
    {
     "name": "stderr",
     "output_type": "stream",
     "text": [
      "\u001b[32m[I 2021-11-16 01:52:44,870]\u001b[0m Trial 10 finished with value: 0.056302929960008505 and parameters: {'hidden_layer': 255, 'clip_margin': 128, 'learning_rate': 0.1037578631718944, 'stddev': 0.12284902845629478}. Best is trial 6 with value: 0.037891683366636494.\u001b[0m\n"
     ]
    },
    {
     "name": "stdout",
     "output_type": "stream",
     "text": [
      "\n",
      "Configs {'batch_size': 7, 'window_size': 7, 'hidden_layer': 228, 'clip_margin': 107, 'learning_rate': 0.18723507680238366, 'epochs': 60, 'stddev': 0.14822330642526704, 'epochs_print': 10} \n",
      "\n",
      "Epoch  0/60  LOSS: 2.756204843521118\n",
      "Epoch 10/60  LOSS: 0.11442955583333969\n",
      "Epoch 20/60  LOSS: 0.23447415232658386\n",
      "Epoch 30/60  LOSS: 0.2346375286579132\n",
      "Epoch 40/60  LOSS: 0.2365354597568512\n",
      "Epoch 50/60  LOSS: 0.2856990396976471\n"
     ]
    },
    {
     "name": "stderr",
     "output_type": "stream",
     "text": [
      "\u001b[32m[I 2021-11-16 01:54:19,352]\u001b[0m Trial 11 finished with value: 0.05776479966226706 and parameters: {'hidden_layer': 228, 'clip_margin': 107, 'learning_rate': 0.18723507680238366, 'stddev': 0.14822330642526704}. Best is trial 6 with value: 0.037891683366636494.\u001b[0m\n"
     ]
    },
    {
     "name": "stdout",
     "output_type": "stream",
     "text": [
      "\n",
      "Configs {'batch_size': 7, 'window_size': 7, 'hidden_layer': 129, 'clip_margin': 113, 'learning_rate': 0.10347124612018005, 'epochs': 60, 'stddev': 0.13281001080714921, 'epochs_print': 10} \n",
      "\n",
      "Epoch  0/60  LOSS: 1.0992286205291748\n",
      "Epoch 10/60  LOSS: 0.06571561843156815\n",
      "Epoch 20/60  LOSS: 0.005645844619721174\n",
      "Epoch 30/60  LOSS: 0.008067562244832516\n",
      "Epoch 40/60  LOSS: 0.08349921554327011\n",
      "Epoch 50/60  LOSS: 0.049387332051992416\n"
     ]
    },
    {
     "name": "stderr",
     "output_type": "stream",
     "text": [
      "\u001b[32m[I 2021-11-16 01:55:08,521]\u001b[0m Trial 12 finished with value: 0.060676627478727006 and parameters: {'hidden_layer': 129, 'clip_margin': 113, 'learning_rate': 0.10347124612018005, 'stddev': 0.13281001080714921}. Best is trial 6 with value: 0.037891683366636494.\u001b[0m\n"
     ]
    },
    {
     "name": "stdout",
     "output_type": "stream",
     "text": [
      "\n",
      "Configs {'batch_size': 7, 'window_size': 7, 'hidden_layer': 231, 'clip_margin': 96, 'learning_rate': 0.20224390082039828, 'epochs': 60, 'stddev': 0.11954527905283105, 'epochs_print': 10} \n",
      "\n",
      "Epoch  0/60  LOSS: 15.236525535583496\n",
      "Epoch 10/60  LOSS: 0.05388883128762245\n",
      "Epoch 20/60  LOSS: 0.20344148576259613\n",
      "Epoch 30/60  LOSS: 0.24556398391723633\n",
      "Epoch 40/60  LOSS: 0.24551323056221008\n",
      "Epoch 50/60  LOSS: 0.24550965428352356\n"
     ]
    },
    {
     "name": "stderr",
     "output_type": "stream",
     "text": [
      "\u001b[32m[I 2021-11-16 01:56:43,754]\u001b[0m Trial 13 finished with value: 0.24551581033257866 and parameters: {'hidden_layer': 231, 'clip_margin': 96, 'learning_rate': 0.20224390082039828, 'stddev': 0.11954527905283105}. Best is trial 6 with value: 0.037891683366636494.\u001b[0m\n"
     ]
    },
    {
     "name": "stdout",
     "output_type": "stream",
     "text": [
      "\n",
      "Configs {'batch_size': 7, 'window_size': 7, 'hidden_layer': 200, 'clip_margin': 118, 'learning_rate': 0.25292799781418357, 'epochs': 60, 'stddev': 0.14813715053669255, 'epochs_print': 10} \n",
      "\n",
      "Epoch  0/60  LOSS: 21.37560272216797\n",
      "Epoch 10/60  LOSS: 0.05967293307185173\n",
      "Epoch 20/60  LOSS: 0.1526317596435547\n",
      "Epoch 30/60  LOSS: 0.29312822222709656\n",
      "Epoch 40/60  LOSS: 0.29295840859413147\n",
      "Epoch 50/60  LOSS: 0.2928783595561981\n"
     ]
    },
    {
     "name": "stderr",
     "output_type": "stream",
     "text": [
      "\u001b[32m[I 2021-11-16 01:57:59,679]\u001b[0m Trial 14 finished with value: 0.29284612049501324 and parameters: {'hidden_layer': 200, 'clip_margin': 118, 'learning_rate': 0.25292799781418357, 'stddev': 0.14813715053669255}. Best is trial 6 with value: 0.037891683366636494.\u001b[0m\n"
     ]
    },
    {
     "name": "stdout",
     "output_type": "stream",
     "text": [
      "\n",
      "Configs {'batch_size': 7, 'window_size': 7, 'hidden_layer': 172, 'clip_margin': 103, 'learning_rate': 0.1451839422241405, 'epochs': 60, 'stddev': 0.13346136615009427, 'epochs_print': 10} \n",
      "\n",
      "Epoch  0/60  LOSS: 1.589428424835205\n",
      "Epoch 10/60  LOSS: 0.17467264831066132\n",
      "Epoch 20/60  LOSS: 0.1492558717727661\n",
      "Epoch 30/60  LOSS: 0.22260628640651703\n",
      "Epoch 40/60  LOSS: 0.20385459065437317\n",
      "Epoch 50/60  LOSS: 0.2078532874584198\n"
     ]
    },
    {
     "name": "stderr",
     "output_type": "stream",
     "text": [
      "\u001b[32m[I 2021-11-16 01:59:00,455]\u001b[0m Trial 15 finished with value: 0.3299177016489482 and parameters: {'hidden_layer': 172, 'clip_margin': 103, 'learning_rate': 0.1451839422241405, 'stddev': 0.13346136615009427}. Best is trial 6 with value: 0.037891683366636494.\u001b[0m\n"
     ]
    }
   ],
   "source": [
    "configs = {\n",
    "  \"batch_size\"   : 7,\n",
    "  \"window_size\"  : 7,\n",
    "  \"hidden_layer\" : 32,\n",
    "  \"clip_margin\"  : 32,\n",
    "  \"learning_rate\": 0.01,\n",
    "  \"epochs\"       : 60,\n",
    "  \"stddev\"       : 0.05,\n",
    "  \"epochs_print\" : 10\n",
    "}\n",
    "bestCase = {\n",
    "   \"batch_size\": 0,\n",
    "   \"outputs\": [],\n",
    "   \"loss\": 1000000\n",
    "}\n",
    "bestTrial = 0\n",
    "\n",
    "def perda2(trial):\n",
    "    \n",
    "    configs[\"batch_size\"] = configs[\"window_size\"] = 7 #trial.suggest_int(\"batch_size\", 3, 31)\n",
    "    configs[\"hidden_layer\"] = trial.suggest_int(\"hidden_layer\", 128, 256)\n",
    "    configs[\"clip_margin\"] = trial.suggest_int(\"clip_margin\", 64, 128)\n",
    "    configs[\"learning_rate\"] = trial.suggest_float(\"learning_rate\", 0.1, 0.5)\n",
    "    configs[\"stddev\"] = trial.suggest_float(\"stddev\", 0.05, 0.15)\n",
    "\n",
    "    print(\"\\nConfigs\", configs, \"\\n\")\n",
    "\n",
    "    # Pesos da via de entrada, inputs, objetivos, camada oculta e viés\n",
    "    inputs = tf.placeholder( tf.float32, [ configs[\"batch_size\"], configs[\"window_size\"], 1 ] )\n",
    "    targets = tf.placeholder( tf.float32, [ configs[\"batch_size\"], 1 ] )\n",
    "\n",
    "    weights_input_gate = tf.Variable( tf.truncated_normal([ 1, configs[\"hidden_layer\"] ], stddev=0.05) )\n",
    "    weights_input_hidden = tf.Variable( tf.truncated_normal( [ configs[\"hidden_layer\"], configs[\"hidden_layer\"] ], stddev=0.05) )\n",
    "    bias_input = tf.Variable( tf.zeros( [ configs[\"hidden_layer\"] ] ) )\n",
    "\n",
    "    # Pesos da via do esquecimento, camada oculta e viés\n",
    "    weights_forget_gate = tf.Variable( tf.truncated_normal( [1, configs[\"hidden_layer\"]], stddev=0.05) )\n",
    "    weights_forget_hidden = tf.Variable( tf.truncated_normal( [ configs[\"hidden_layer\"], configs[\"hidden_layer\"] ], stddev = configs[\"stddev\"] ) )\n",
    "    bias_forget = tf.Variable( tf.zeros( configs[\"hidden_layer\"] ) )\n",
    "\n",
    "    # Pesos da via de saída, camada oculta e viés\n",
    "    weights_output_gate = tf.Variable( tf.truncated_normal( [1, configs[\"hidden_layer\"]], configs[\"hidden_layer\"] ) )\n",
    "    weights_output_hidden = tf.Variable( tf.truncated_normal( [ configs[\"hidden_layer\"], configs[\"hidden_layer\"] ], stddev = configs[\"stddev\"] ) )\n",
    "    bias_output = tf.Variable( tf.zeros( configs[\"hidden_layer\"] ) )\n",
    "\n",
    "    # Pesos da célula de memória, camada oculta e viés\n",
    "    weights_memory_cell = tf.Variable( tf.truncated_normal( [1, configs[\"hidden_layer\"]], stddev=0.05 ) )\n",
    "    weights_memory_cell_hidden = tf.Variable( tf.truncated_normal( [configs[\"hidden_layer\"], configs[\"hidden_layer\"]], stddev = configs[\"stddev\"] ) )\n",
    "    bias_memory_cell = tf.Variable( tf.zeros( [configs[\"hidden_layer\"] ] ) )\n",
    "\n",
    "    # Pesos da camada de saída (e viés)\n",
    "    weights_output = tf.Variable( tf.truncated_normal( [configs[\"hidden_layer\"], 1], stddev = configs[\"stddev\"] ) )\n",
    "    bias_output_layer = tf.Variable( tf.zeros([1]) )\n",
    "\n",
    "\n",
    "    # Montando nossa célula LSTM\n",
    "    def LSTM_cell(input, output, state):\n",
    "        # Via de entrada\n",
    "        input_gate = tf.sigmoid(tf.matmul(input, weights_input_gate) + tf.matmul(output, weights_input_hidden) + bias_input)\n",
    "        \n",
    "        # Via do esquecimento\n",
    "        forget_gate = tf.sigmoid(tf.matmul(input, weights_forget_gate) + tf.matmul(output, weights_forget_hidden) + bias_forget)\n",
    "            \n",
    "        # Célula de memória\n",
    "        memory_cell = tf.tanh(tf.matmul(input, weights_memory_cell) + tf.matmul(output, weights_memory_cell_hidden) + bias_memory_cell)\n",
    "        \n",
    "        # Estado (combinação dos anteriores)\n",
    "        state = state * forget_gate + input_gate * memory_cell\n",
    "\n",
    "        # Via de saída\n",
    "        output_gate = tf.sigmoid(tf.matmul(input, weights_output_gate) + tf.matmul(output, weights_output_hidden) + bias_output)\n",
    "        \n",
    "        # Saída (aplicação de função tangente à via de saída)\n",
    "        output = output_gate * tf.tanh(state)\n",
    "        return state, output\n",
    "\n",
    "    \n",
    "    outputs = []\n",
    "    for bs in range(configs[\"batch_size\"]):\n",
    "        batch_state  = np.zeros([1, configs[\"hidden_layer\"]], dtype=np.float32)\n",
    "        batch_output = np.zeros([1, configs[\"hidden_layer\"]], dtype=np.float32)\n",
    "\n",
    "        for ws in range(configs[\"window_size\"]):\n",
    "            batch_state, batch_output = LSTM_cell( tf.reshape( inputs[bs][ws], (-1, 1) ), batch_state, batch_output )\n",
    "\n",
    "        outputs.append( tf.matmul( batch_output, weights_output ) + bias_output_layer )\n",
    "\n",
    "    # Definindo perda\n",
    "\n",
    "    losses = []\n",
    "\n",
    "    for o in range(len(outputs)):\n",
    "        losses.append( tf.losses.mean_squared_error( tf.reshape( targets[o], (-1, 1) ), outputs[o] ) )\n",
    "\n",
    "    loss = tf.reduce_mean(losses)\n",
    "\n",
    "    # Definindo o otimizador com o gradiente de clipagem (?)\n",
    "    gradients   = tf.gradients( loss, tf.trainable_variables() )\n",
    "    clipped, _  = tf.clip_by_global_norm( gradients, configs[\"clip_margin\"] )\n",
    "    optimizer   = tf.train.AdamOptimizer( configs[\"learning_rate\"] )\n",
    "    trained_opt = optimizer.apply_gradients( zip( gradients, tf.trainable_variables() ) )\n",
    "\n",
    "    session = tf.Session()\n",
    "    session.run( tf.global_variables_initializer() )\n",
    "\n",
    "    best_epochs = [10.0]\n",
    "\n",
    "    for e in range(configs[\"epochs\"]):\n",
    "        trained_scores = []\n",
    "        ee = 0\n",
    "        epoch_loss = []\n",
    "        while(ee + configs[\"batch_size\"]) <= len(X_treino): \n",
    "            X_batch = X_treino[ee:ee+configs[\"batch_size\"]]\n",
    "            y_batch = y_treino[ee:ee+configs[\"batch_size\"]]\n",
    "\n",
    "            o, c, _ = session.run( [outputs, loss, trained_opt], feed_dict={inputs:X_batch, targets: y_batch} )\n",
    "\n",
    "            epoch_loss.append(c)\n",
    "            trained_scores.append(o)\n",
    "            ee += configs[\"batch_size\"]\n",
    "\n",
    "        if(e % configs[\"epochs_print\"]) == 0:\n",
    "            if e == 0:\n",
    "                print( 'Epoch  {}/{}'.format(e, configs[\"epochs\"]), ' LOSS: {}'.format( np.mean( epoch_loss ) ) )\n",
    "            else:\n",
    "                print( 'Epoch {}/{}'.format(e, configs[\"epochs\"]), ' LOSS: {}'.format( np.mean( epoch_loss ) ) )\n",
    "    \n",
    "    loss = sum(epoch_loss)/len(epoch_loss)\n",
    "    if loss < bestCase[\"loss\"]:\n",
    "        bestCase[\"loss\"] = loss\n",
    "        global sup\n",
    "        sup = []\n",
    "        for ts in range(len(trained_scores)):\n",
    "            for tsr in range(len( trained_scores[ts] )):\n",
    "                sup.append( trained_scores[ts][tsr][0] )\n",
    "\n",
    "        tests = []\n",
    "        t = 0\n",
    "        while( t + configs[\"batch_size\"] <= len(X_teste) ):\n",
    "            o = session.run( [outputs], feed_dict = { inputs: X_teste[t:t+configs[\"batch_size\"]] } )\n",
    "            t += configs[\"batch_size\"]\n",
    "            tests.append(o)\n",
    "\n",
    "        novos_tests = []\n",
    "        for ts in range(len(tests)):\n",
    "            for tsr in range(len( tests[ts][0] )):\n",
    "                novos_tests.append( tests[ts][0][tsr] )\n",
    "\n",
    "        global resultados_tests \n",
    "        resultados_tests = []\n",
    "        for r in range(1264):\n",
    "            if r >= 1019:\n",
    "                resultados_tests.append(novos_tests[r-1019])\n",
    "            else:\n",
    "                resultados_tests.append(None)\n",
    "\n",
    "    # Retornando a média de LOSS\n",
    "    return loss\n",
    "\n",
    "study_2 = optuna.create_study(direction='minimize')\n",
    "study_2.optimize(perda2, n_trials=16)"
   ]
  },
  {
   "cell_type": "code",
   "execution_count": null,
   "metadata": {
    "id": "_OX6U9iObj9w",
    "outputId": "f7160a48-211a-4b16-a6d2-ae8f8151e2bf"
   },
   "outputs": [
    {
     "name": "stderr",
     "output_type": "stream",
     "text": [
      "/home/vitor/.local/lib/python3.8/site-packages/numpy/core/_asarray.py:136: VisibleDeprecationWarning:\n",
      "\n",
      "Creating an ndarray from ragged nested sequences (which is a list-or-tuple of lists-or-tuples-or ndarrays with different lengths or shapes) is deprecated. If you meant to do this, you must specify 'dtype=object' when creating the ndarray\n",
      "\n"
     ]
    },
    {
     "data": {
      "image/png": "[encoded data removed]",
      "text/plain": [
       "<Figure size 1152x504 with 1 Axes>"
      ]
     },
     "metadata": {
      "needs_background": "light"
     },
     "output_type": "display_data"
    }
   ],
   "source": [
    "%matplotlib inline\n",
    "import matplotlib.pyplot as plt\n",
    "plt.figure(figsize=(16, 7))\n",
    "plt.title('Study 2: Last 20% data prediction using LSTM')\n",
    "plt.xlabel('Days')\n",
    "plt.ylabel('Scaled Price of Bitcoin')\n",
    "plt.plot(dados, label='Original data')\n",
    "plt.plot(dados[:int((len(dados)/5)*4)], label=\"Training data\")\n",
    "plt.plot(resultados_tests, label='Testing data')\n",
    "plt.legend()\n",
    "plt.show()"
   ]
  },
  {
   "cell_type": "code",
   "execution_count": null,
   "metadata": {
    "id": "ZpD5Cpz7bo8M",
    "outputId": "8367a932-ae34-432a-cda7-8128e908017e"
   },
   "outputs": [
    {
     "data": {
      "application/vnd.plotly.v1+json": {
       "config": {
        "plotlyServerURL": "https://plot.ly"
       },
       "data": [
        {
         "mode": "markers",
         "name": "Objective Value",
         "type": "scatter",
         "x": [
          0,
          1,
          2,
          3,
          4,
          5,
          6,
          7,
          8,
          9,
          10,
          11,
          12,
          13,
          14,
          15
         ],
         "y": [
          0.4070438464828103,
          0.8176512446790278,
          3.2326829405936475,
          0.394061185141298,
          0.7215765356500422,
          0.5112410216228329,
          0.037891683366636494,
          0.1305868434950063,
          0.6990398244007745,
          0.044185904561928856,
          0.056302929960008505,
          0.05776479966226706,
          0.060676627478727006,
          0.24551581033257866,
          0.29284612049501324,
          0.3299177016489482
         ]
        },
        {
         "name": "Best Value",
         "type": "scatter",
         "x": [
          0,
          1,
          2,
          3,
          4,
          5,
          6,
          7,
          8,
          9,
          10,
          11,
          12,
          13,
          14,
          15
         ],
         "y": [
          0.4070438464828103,
          0.4070438464828103,
          0.4070438464828103,
          0.394061185141298,
          0.394061185141298,
          0.394061185141298,
          0.037891683366636494,
          0.037891683366636494,
          0.037891683366636494,
          0.037891683366636494,
          0.037891683366636494,
          0.037891683366636494,
          0.037891683366636494,
          0.037891683366636494,
          0.037891683366636494,
          0.037891683366636494
         ]
        }
       ],
       "layout": {
        "template": {
         "data": {
          "bar": [
           {
            "error_x": {
             "color": "#2a3f5f"
            },
            "error_y": {
             "color": "#2a3f5f"
            },
            "marker": {
             "line": {
              "color": "#E5ECF6",
              "width": 0.5
             },
             "pattern": {
              "fillmode": "overlay",
              "size": 10,
              "solidity": 0.2
             }
            },
            "type": "bar"
           }
          ],
          "barpolar": [
           {
            "marker": {
             "line": {
              "color": "#E5ECF6",
              "width": 0.5
             },
             "pattern": {
              "fillmode": "overlay",
              "size": 10,
              "solidity": 0.2
             }
            },
            "type": "barpolar"
           }
          ],
          "carpet": [
           {
            "aaxis": {
             "endlinecolor": "#2a3f5f",
             "gridcolor": "white",
             "linecolor": "white",
             "minorgridcolor": "white",
             "startlinecolor": "#2a3f5f"
            },
            "baxis": {
             "endlinecolor": "#2a3f5f",
             "gridcolor": "white",
             "linecolor": "white",
             "minorgridcolor": "white",
             "startlinecolor": "#2a3f5f"
            },
            "type": "carpet"
           }
          ],
          "choropleth": [
           {
            "colorbar": {
             "outlinewidth": 0,
             "ticks": ""
            },
            "type": "choropleth"
           }
          ],
          "contour": [
           {
            "colorbar": {
             "outlinewidth": 0,
             "ticks": ""
            },
            "colorscale": [
             [
              0,
              "#0d0887"
             ],
             [
              0.1111111111111111,
              "#46039f"
             ],
             [
              0.2222222222222222,
              "#7201a8"
             ],
             [
              0.3333333333333333,
              "#9c179e"
             ],
             [
              0.4444444444444444,
              "#bd3786"
             ],
             [
              0.5555555555555556,
              "#d8576b"
             ],
             [
              0.6666666666666666,
              "#ed7953"
             ],
             [
              0.7777777777777778,
              "#fb9f3a"
             ],
             [
              0.8888888888888888,
              "#fdca26"
             ],
             [
              1,
              "#f0f921"
             ]
            ],
            "type": "contour"
           }
          ],
          "contourcarpet": [
           {
            "colorbar": {
             "outlinewidth": 0,
             "ticks": ""
            },
            "type": "contourcarpet"
           }
          ],
          "heatmap": [
           {
            "colorbar": {
             "outlinewidth": 0,
             "ticks": ""
            },
            "colorscale": [
             [
              0,
              "#0d0887"
             ],
             [
              0.1111111111111111,
              "#46039f"
             ],
             [
              0.2222222222222222,
              "#7201a8"
             ],
             [
              0.3333333333333333,
              "#9c179e"
             ],
             [
              0.4444444444444444,
              "#bd3786"
             ],
             [
              0.5555555555555556,
              "#d8576b"
             ],
             [
              0.6666666666666666,
              "#ed7953"
             ],
             [
              0.7777777777777778,
              "#fb9f3a"
             ],
             [
              0.8888888888888888,
              "#fdca26"
             ],
             [
              1,
              "#f0f921"
             ]
            ],
            "type": "heatmap"
           }
          ],
          "heatmapgl": [
           {
            "colorbar": {
             "outlinewidth": 0,
             "ticks": ""
            },
            "colorscale": [
             [
              0,
              "#0d0887"
             ],
             [
              0.1111111111111111,
              "#46039f"
             ],
             [
              0.2222222222222222,
              "#7201a8"
             ],
             [
              0.3333333333333333,
              "#9c179e"
             ],
             [
              0.4444444444444444,
              "#bd3786"
             ],
             [
              0.5555555555555556,
              "#d8576b"
             ],
             [
              0.6666666666666666,
              "#ed7953"
             ],
             [
              0.7777777777777778,
              "#fb9f3a"
             ],
             [
              0.8888888888888888,
              "#fdca26"
             ],
             [
              1,
              "#f0f921"
             ]
            ],
            "type": "heatmapgl"
           }
          ],
          "histogram": [
           {
            "marker": {
             "pattern": {
              "fillmode": "overlay",
              "size": 10,
              "solidity": 0.2
             }
            },
            "type": "histogram"
           }
          ],
          "histogram2d": [
           {
            "colorbar": {
             "outlinewidth": 0,
             "ticks": ""
            },
            "colorscale": [
             [
              0,
              "#0d0887"
             ],
             [
              0.1111111111111111,
              "#46039f"
             ],
             [
              0.2222222222222222,
              "#7201a8"
             ],
             [
              0.3333333333333333,
              "#9c179e"
             ],
             [
              0.4444444444444444,
              "#bd3786"
             ],
             [
              0.5555555555555556,
              "#d8576b"
             ],
             [
              0.6666666666666666,
              "#ed7953"
             ],
             [
              0.7777777777777778,
              "#fb9f3a"
             ],
             [
              0.8888888888888888,
              "#fdca26"
             ],
             [
              1,
              "#f0f921"
             ]
            ],
            "type": "histogram2d"
           }
          ],
          "histogram2dcontour": [
           {
            "colorbar": {
             "outlinewidth": 0,
             "ticks": ""
            },
            "colorscale": [
             [
              0,
              "#0d0887"
             ],
             [
              0.1111111111111111,
              "#46039f"
             ],
             [
              0.2222222222222222,
              "#7201a8"
             ],
             [
              0.3333333333333333,
              "#9c179e"
             ],
             [
              0.4444444444444444,
              "#bd3786"
             ],
             [
              0.5555555555555556,
              "#d8576b"
             ],
             [
              0.6666666666666666,
              "#ed7953"
             ],
             [
              0.7777777777777778,
              "#fb9f3a"
             ],
             [
              0.8888888888888888,
              "#fdca26"
             ],
             [
              1,
              "#f0f921"
             ]
            ],
            "type": "histogram2dcontour"
           }
          ],
          "mesh3d": [
           {
            "colorbar": {
             "outlinewidth": 0,
             "ticks": ""
            },
            "type": "mesh3d"
           }
          ],
          "parcoords": [
           {
            "line": {
             "colorbar": {
              "outlinewidth": 0,
              "ticks": ""
             }
            },
            "type": "parcoords"
           }
          ],
          "pie": [
           {
            "automargin": true,
            "type": "pie"
           }
          ],
          "scatter": [
           {
            "marker": {
             "colorbar": {
              "outlinewidth": 0,
              "ticks": ""
             }
            },
            "type": "scatter"
           }
          ],
          "scatter3d": [
           {
            "line": {
             "colorbar": {
              "outlinewidth": 0,
              "ticks": ""
             }
            },
            "marker": {
             "colorbar": {
              "outlinewidth": 0,
              "ticks": ""
             }
            },
            "type": "scatter3d"
           }
          ],
          "scattercarpet": [
           {
            "marker": {
             "colorbar": {
              "outlinewidth": 0,
              "ticks": ""
             }
            },
            "type": "scattercarpet"
           }
          ],
          "scattergeo": [
           {
            "marker": {
             "colorbar": {
              "outlinewidth": 0,
              "ticks": ""
             }
            },
            "type": "scattergeo"
           }
          ],
          "scattergl": [
           {
            "marker": {
             "colorbar": {
              "outlinewidth": 0,
              "ticks": ""
             }
            },
            "type": "scattergl"
           }
          ],
          "scattermapbox": [
           {
            "marker": {
             "colorbar": {
              "outlinewidth": 0,
              "ticks": ""
             }
            },
            "type": "scattermapbox"
           }
          ],
          "scatterpolar": [
           {
            "marker": {
             "colorbar": {
              "outlinewidth": 0,
              "ticks": ""
             }
            },
            "type": "scatterpolar"
           }
          ],
          "scatterpolargl": [
           {
            "marker": {
             "colorbar": {
              "outlinewidth": 0,
              "ticks": ""
             }
            },
            "type": "scatterpolargl"
           }
          ],
          "scatterternary": [
           {
            "marker": {
             "colorbar": {
              "outlinewidth": 0,
              "ticks": ""
             }
            },
            "type": "scatterternary"
           }
          ],
          "surface": [
           {
            "colorbar": {
             "outlinewidth": 0,
             "ticks": ""
            },
            "colorscale": [
             [
              0,
              "#0d0887"
             ],
             [
              0.1111111111111111,
              "#46039f"
             ],
             [
              0.2222222222222222,
              "#7201a8"
             ],
             [
              0.3333333333333333,
              "#9c179e"
             ],
             [
              0.4444444444444444,
              "#bd3786"
             ],
             [
              0.5555555555555556,
              "#d8576b"
             ],
             [
              0.6666666666666666,
              "#ed7953"
             ],
             [
              0.7777777777777778,
              "#fb9f3a"
             ],
             [
              0.8888888888888888,
              "#fdca26"
             ],
             [
              1,
              "#f0f921"
             ]
            ],
            "type": "surface"
           }
          ],
          "table": [
           {
            "cells": {
             "fill": {
              "color": "#EBF0F8"
             },
             "line": {
              "color": "white"
             }
            },
            "header": {
             "fill": {
              "color": "#C8D4E3"
             },
             "line": {
              "color": "white"
             }
            },
            "type": "table"
           }
          ]
         },
         "layout": {
          "annotationdefaults": {
           "arrowcolor": "#2a3f5f",
           "arrowhead": 0,
           "arrowwidth": 1
          },
          "autotypenumbers": "strict",
          "coloraxis": {
           "colorbar": {
            "outlinewidth": 0,
            "ticks": ""
           }
          },
          "colorscale": {
           "diverging": [
            [
             0,
             "#8e0152"
            ],
            [
             0.1,
             "#c51b7d"
            ],
            [
             0.2,
             "#de77ae"
            ],
            [
             0.3,
             "#f1b6da"
            ],
            [
             0.4,
             "#fde0ef"
            ],
            [
             0.5,
             "#f7f7f7"
            ],
            [
             0.6,
             "#e6f5d0"
            ],
            [
             0.7,
             "#b8e186"
            ],
            [
             0.8,
             "#7fbc41"
            ],
            [
             0.9,
             "#4d9221"
            ],
            [
             1,
             "#276419"
            ]
           ],
           "sequential": [
            [
             0,
             "#0d0887"
            ],
            [
             0.1111111111111111,
             "#46039f"
            ],
            [
             0.2222222222222222,
             "#7201a8"
            ],
            [
             0.3333333333333333,
             "#9c179e"
            ],
            [
             0.4444444444444444,
             "#bd3786"
            ],
            [
             0.5555555555555556,
             "#d8576b"
            ],
            [
             0.6666666666666666,
             "#ed7953"
            ],
            [
             0.7777777777777778,
             "#fb9f3a"
            ],
            [
             0.8888888888888888,
             "#fdca26"
            ],
            [
             1,
             "#f0f921"
            ]
           ],
           "sequentialminus": [
            [
             0,
             "#0d0887"
            ],
            [
             0.1111111111111111,
             "#46039f"
            ],
            [
             0.2222222222222222,
             "#7201a8"
            ],
            [
             0.3333333333333333,
             "#9c179e"
            ],
            [
             0.4444444444444444,
             "#bd3786"
            ],
            [
             0.5555555555555556,
             "#d8576b"
            ],
            [
             0.6666666666666666,
             "#ed7953"
            ],
            [
             0.7777777777777778,
             "#fb9f3a"
            ],
            [
             0.8888888888888888,
             "#fdca26"
            ],
            [
             1,
             "#f0f921"
            ]
           ]
          },
          "colorway": [
           "#636efa",
           "#EF553B",
           "#00cc96",
           "#ab63fa",
           "#FFA15A",
           "#19d3f3",
           "#FF6692",
           "#B6E880",
           "#FF97FF",
           "#FECB52"
          ],
          "font": {
           "color": "#2a3f5f"
          },
          "geo": {
           "bgcolor": "white",
           "lakecolor": "white",
           "landcolor": "#E5ECF6",
           "showlakes": true,
           "showland": true,
           "subunitcolor": "white"
          },
          "hoverlabel": {
           "align": "left"
          },
          "hovermode": "closest",
          "mapbox": {
           "style": "light"
          },
          "paper_bgcolor": "white",
          "plot_bgcolor": "#E5ECF6",
          "polar": {
           "angularaxis": {
            "gridcolor": "white",
            "linecolor": "white",
            "ticks": ""
           },
           "bgcolor": "#E5ECF6",
           "radialaxis": {
            "gridcolor": "white",
            "linecolor": "white",
            "ticks": ""
           }
          },
          "scene": {
           "xaxis": {
            "backgroundcolor": "#E5ECF6",
            "gridcolor": "white",
            "gridwidth": 2,
            "linecolor": "white",
            "showbackground": true,
            "ticks": "",
            "zerolinecolor": "white"
           },
           "yaxis": {
            "backgroundcolor": "#E5ECF6",
            "gridcolor": "white",
            "gridwidth": 2,
            "linecolor": "white",
            "showbackground": true,
            "ticks": "",
            "zerolinecolor": "white"
           },
           "zaxis": {
            "backgroundcolor": "#E5ECF6",
            "gridcolor": "white",
            "gridwidth": 2,
            "linecolor": "white",
            "showbackground": true,
            "ticks": "",
            "zerolinecolor": "white"
           }
          },
          "shapedefaults": {
           "line": {
            "color": "#2a3f5f"
           }
          },
          "ternary": {
           "aaxis": {
            "gridcolor": "white",
            "linecolor": "white",
            "ticks": ""
           },
           "baxis": {
            "gridcolor": "white",
            "linecolor": "white",
            "ticks": ""
           },
           "bgcolor": "#E5ECF6",
           "caxis": {
            "gridcolor": "white",
            "linecolor": "white",
            "ticks": ""
           }
          },
          "title": {
           "x": 0.05
          },
          "xaxis": {
           "automargin": true,
           "gridcolor": "white",
           "linecolor": "white",
           "ticks": "",
           "title": {
            "standoff": 15
           },
           "zerolinecolor": "white",
           "zerolinewidth": 2
          },
          "yaxis": {
           "automargin": true,
           "gridcolor": "white",
           "linecolor": "white",
           "ticks": "",
           "title": {
            "standoff": 15
           },
           "zerolinecolor": "white",
           "zerolinewidth": 2
          }
         }
        },
        "title": {
         "text": "Optimization History Plot"
        },
        "xaxis": {
         "title": {
          "text": "#Trials"
         }
        },
        "yaxis": {
         "title": {
          "text": "Objective Value"
         }
        }
       }
      }
     },
     "metadata": {},
     "output_type": "display_data"
    }
   ],
   "source": [
    "optuna.visualization.plot_optimization_history(study_2)"
   ]
  },
  {
   "cell_type": "code",
   "execution_count": null,
   "metadata": {
    "id": "Mn5lzi8pbrRr",
    "outputId": "ada2d96e-920b-4418-b967-e75829cd9c1b"
   },
   "outputs": [
    {
     "data": {
      "application/vnd.plotly.v1+json": {
       "config": {
        "plotlyServerURL": "https://plot.ly"
       },
       "data": [
        {
         "marker": {
          "color": [
           0,
           1,
           2,
           3,
           4,
           5,
           6,
           7,
           8,
           9,
           10,
           11,
           12,
           13,
           14,
           15
          ],
          "colorbar": {
           "title": {
            "text": "#Trials"
           },
           "x": 1,
           "xpad": 40
          },
          "colorscale": [
           [
            0,
            "rgb(247,251,255)"
           ],
           [
            0.125,
            "rgb(222,235,247)"
           ],
           [
            0.25,
            "rgb(198,219,239)"
           ],
           [
            0.375,
            "rgb(158,202,225)"
           ],
           [
            0.5,
            "rgb(107,174,214)"
           ],
           [
            0.625,
            "rgb(66,146,198)"
           ],
           [
            0.75,
            "rgb(33,113,181)"
           ],
           [
            0.875,
            "rgb(8,81,156)"
           ],
           [
            1,
            "rgb(8,48,107)"
           ]
          ],
          "line": {
           "color": "Grey",
           "width": 0.5
          },
          "showscale": true
         },
         "mode": "markers",
         "showlegend": false,
         "type": "scatter",
         "x": [
          87,
          114,
          64,
          101,
          128,
          89,
          116,
          70,
          79,
          94,
          128,
          107,
          113,
          96,
          118,
          103
         ],
         "xaxis": "x",
         "y": [
          0.4070438464828103,
          0.8176512446790278,
          3.2326829405936475,
          0.394061185141298,
          0.7215765356500422,
          0.5112410216228329,
          0.037891683366636494,
          0.1305868434950063,
          0.6990398244007745,
          0.044185904561928856,
          0.056302929960008505,
          0.05776479966226706,
          0.060676627478727006,
          0.24551581033257866,
          0.29284612049501324,
          0.3299177016489482
         ],
         "yaxis": "y"
        },
        {
         "marker": {
          "color": [
           0,
           1,
           2,
           3,
           4,
           5,
           6,
           7,
           8,
           9,
           10,
           11,
           12,
           13,
           14,
           15
          ],
          "colorbar": {
           "title": {
            "text": "#Trials"
           },
           "x": 1,
           "xpad": 40
          },
          "colorscale": [
           [
            0,
            "rgb(247,251,255)"
           ],
           [
            0.125,
            "rgb(222,235,247)"
           ],
           [
            0.25,
            "rgb(198,219,239)"
           ],
           [
            0.375,
            "rgb(158,202,225)"
           ],
           [
            0.5,
            "rgb(107,174,214)"
           ],
           [
            0.625,
            "rgb(66,146,198)"
           ],
           [
            0.75,
            "rgb(33,113,181)"
           ],
           [
            0.875,
            "rgb(8,81,156)"
           ],
           [
            1,
            "rgb(8,48,107)"
           ]
          ],
          "line": {
           "color": "Grey",
           "width": 0.5
          },
          "showscale": false
         },
         "mode": "markers",
         "showlegend": false,
         "type": "scatter",
         "x": [
          197,
          170,
          256,
          188,
          222,
          150,
          256,
          145,
          148,
          137,
          255,
          228,
          129,
          231,
          200,
          172
         ],
         "xaxis": "x2",
         "y": [
          0.4070438464828103,
          0.8176512446790278,
          3.2326829405936475,
          0.394061185141298,
          0.7215765356500422,
          0.5112410216228329,
          0.037891683366636494,
          0.1305868434950063,
          0.6990398244007745,
          0.044185904561928856,
          0.056302929960008505,
          0.05776479966226706,
          0.060676627478727006,
          0.24551581033257866,
          0.29284612049501324,
          0.3299177016489482
         ],
         "yaxis": "y2"
        },
        {
         "marker": {
          "color": [
           0,
           1,
           2,
           3,
           4,
           5,
           6,
           7,
           8,
           9,
           10,
           11,
           12,
           13,
           14,
           15
          ],
          "colorbar": {
           "title": {
            "text": "#Trials"
           },
           "x": 1,
           "xpad": 40
          },
          "colorscale": [
           [
            0,
            "rgb(247,251,255)"
           ],
           [
            0.125,
            "rgb(222,235,247)"
           ],
           [
            0.25,
            "rgb(198,219,239)"
           ],
           [
            0.375,
            "rgb(158,202,225)"
           ],
           [
            0.5,
            "rgb(107,174,214)"
           ],
           [
            0.625,
            "rgb(66,146,198)"
           ],
           [
            0.75,
            "rgb(33,113,181)"
           ],
           [
            0.875,
            "rgb(8,81,156)"
           ],
           [
            1,
            "rgb(8,48,107)"
           ]
          ],
          "line": {
           "color": "Grey",
           "width": 0.5
          },
          "showscale": false
         },
         "mode": "markers",
         "showlegend": false,
         "type": "scatter",
         "x": [
          0.28731147414473723,
          0.4523912711864134,
          0.3996040075301285,
          0.3315468413796342,
          0.34958082828225423,
          0.4352354648278759,
          0.1403621396559157,
          0.17547804684358953,
          0.4852534232031165,
          0.17033627126963374,
          0.1037578631718944,
          0.18723507680238366,
          0.10347124612018005,
          0.20224390082039828,
          0.25292799781418357,
          0.1451839422241405
         ],
         "xaxis": "x3",
         "y": [
          0.4070438464828103,
          0.8176512446790278,
          3.2326829405936475,
          0.394061185141298,
          0.7215765356500422,
          0.5112410216228329,
          0.037891683366636494,
          0.1305868434950063,
          0.6990398244007745,
          0.044185904561928856,
          0.056302929960008505,
          0.05776479966226706,
          0.060676627478727006,
          0.24551581033257866,
          0.29284612049501324,
          0.3299177016489482
         ],
         "yaxis": "y3"
        },
        {
         "marker": {
          "color": [
           0,
           1,
           2,
           3,
           4,
           5,
           6,
           7,
           8,
           9,
           10,
           11,
           12,
           13,
           14,
           15
          ],
          "colorbar": {
           "title": {
            "text": "#Trials"
           },
           "x": 1,
           "xpad": 40
          },
          "colorscale": [
           [
            0,
            "rgb(247,251,255)"
           ],
           [
            0.125,
            "rgb(222,235,247)"
           ],
           [
            0.25,
            "rgb(198,219,239)"
           ],
           [
            0.375,
            "rgb(158,202,225)"
           ],
           [
            0.5,
            "rgb(107,174,214)"
           ],
           [
            0.625,
            "rgb(66,146,198)"
           ],
           [
            0.75,
            "rgb(33,113,181)"
           ],
           [
            0.875,
            "rgb(8,81,156)"
           ],
           [
            1,
            "rgb(8,48,107)"
           ]
          ],
          "line": {
           "color": "Grey",
           "width": 0.5
          },
          "showscale": false
         },
         "mode": "markers",
         "showlegend": false,
         "type": "scatter",
         "x": [
          0.10892521047779707,
          0.08878662748097808,
          0.14158656955436272,
          0.0858313948787198,
          0.08335425296033779,
          0.05471615975105827,
          0.13264440905635375,
          0.09628385490397316,
          0.05696840617526562,
          0.14136041009600375,
          0.12284902845629478,
          0.14822330642526704,
          0.13281001080714921,
          0.11954527905283105,
          0.14813715053669255,
          0.13346136615009427
         ],
         "xaxis": "x4",
         "y": [
          0.4070438464828103,
          0.8176512446790278,
          3.2326829405936475,
          0.394061185141298,
          0.7215765356500422,
          0.5112410216228329,
          0.037891683366636494,
          0.1305868434950063,
          0.6990398244007745,
          0.044185904561928856,
          0.056302929960008505,
          0.05776479966226706,
          0.060676627478727006,
          0.24551581033257866,
          0.29284612049501324,
          0.3299177016489482
         ],
         "yaxis": "y4"
        }
       ],
       "layout": {
        "template": {
         "data": {
          "bar": [
           {
            "error_x": {
             "color": "#2a3f5f"
            },
            "error_y": {
             "color": "#2a3f5f"
            },
            "marker": {
             "line": {
              "color": "#E5ECF6",
              "width": 0.5
             },
             "pattern": {
              "fillmode": "overlay",
              "size": 10,
              "solidity": 0.2
             }
            },
            "type": "bar"
           }
          ],
          "barpolar": [
           {
            "marker": {
             "line": {
              "color": "#E5ECF6",
              "width": 0.5
             },
             "pattern": {
              "fillmode": "overlay",
              "size": 10,
              "solidity": 0.2
             }
            },
            "type": "barpolar"
           }
          ],
          "carpet": [
           {
            "aaxis": {
             "endlinecolor": "#2a3f5f",
             "gridcolor": "white",
             "linecolor": "white",
             "minorgridcolor": "white",
             "startlinecolor": "#2a3f5f"
            },
            "baxis": {
             "endlinecolor": "#2a3f5f",
             "gridcolor": "white",
             "linecolor": "white",
             "minorgridcolor": "white",
             "startlinecolor": "#2a3f5f"
            },
            "type": "carpet"
           }
          ],
          "choropleth": [
           {
            "colorbar": {
             "outlinewidth": 0,
             "ticks": ""
            },
            "type": "choropleth"
           }
          ],
          "contour": [
           {
            "colorbar": {
             "outlinewidth": 0,
             "ticks": ""
            },
            "colorscale": [
             [
              0,
              "#0d0887"
             ],
             [
              0.1111111111111111,
              "#46039f"
             ],
             [
              0.2222222222222222,
              "#7201a8"
             ],
             [
              0.3333333333333333,
              "#9c179e"
             ],
             [
              0.4444444444444444,
              "#bd3786"
             ],
             [
              0.5555555555555556,
              "#d8576b"
             ],
             [
              0.6666666666666666,
              "#ed7953"
             ],
             [
              0.7777777777777778,
              "#fb9f3a"
             ],
             [
              0.8888888888888888,
              "#fdca26"
             ],
             [
              1,
              "#f0f921"
             ]
            ],
            "type": "contour"
           }
          ],
          "contourcarpet": [
           {
            "colorbar": {
             "outlinewidth": 0,
             "ticks": ""
            },
            "type": "contourcarpet"
           }
          ],
          "heatmap": [
           {
            "colorbar": {
             "outlinewidth": 0,
             "ticks": ""
            },
            "colorscale": [
             [
              0,
              "#0d0887"
             ],
             [
              0.1111111111111111,
              "#46039f"
             ],
             [
              0.2222222222222222,
              "#7201a8"
             ],
             [
              0.3333333333333333,
              "#9c179e"
             ],
             [
              0.4444444444444444,
              "#bd3786"
             ],
             [
              0.5555555555555556,
              "#d8576b"
             ],
             [
              0.6666666666666666,
              "#ed7953"
             ],
             [
              0.7777777777777778,
              "#fb9f3a"
             ],
             [
              0.8888888888888888,
              "#fdca26"
             ],
             [
              1,
              "#f0f921"
             ]
            ],
            "type": "heatmap"
           }
          ],
          "heatmapgl": [
           {
            "colorbar": {
             "outlinewidth": 0,
             "ticks": ""
            },
            "colorscale": [
             [
              0,
              "#0d0887"
             ],
             [
              0.1111111111111111,
              "#46039f"
             ],
             [
              0.2222222222222222,
              "#7201a8"
             ],
             [
              0.3333333333333333,
              "#9c179e"
             ],
             [
              0.4444444444444444,
              "#bd3786"
             ],
             [
              0.5555555555555556,
              "#d8576b"
             ],
             [
              0.6666666666666666,
              "#ed7953"
             ],
             [
              0.7777777777777778,
              "#fb9f3a"
             ],
             [
              0.8888888888888888,
              "#fdca26"
             ],
             [
              1,
              "#f0f921"
             ]
            ],
            "type": "heatmapgl"
           }
          ],
          "histogram": [
           {
            "marker": {
             "pattern": {
              "fillmode": "overlay",
              "size": 10,
              "solidity": 0.2
             }
            },
            "type": "histogram"
           }
          ],
          "histogram2d": [
           {
            "colorbar": {
             "outlinewidth": 0,
             "ticks": ""
            },
            "colorscale": [
             [
              0,
              "#0d0887"
             ],
             [
              0.1111111111111111,
              "#46039f"
             ],
             [
              0.2222222222222222,
              "#7201a8"
             ],
             [
              0.3333333333333333,
              "#9c179e"
             ],
             [
              0.4444444444444444,
              "#bd3786"
             ],
             [
              0.5555555555555556,
              "#d8576b"
             ],
             [
              0.6666666666666666,
              "#ed7953"
             ],
             [
              0.7777777777777778,
              "#fb9f3a"
             ],
             [
              0.8888888888888888,
              "#fdca26"
             ],
             [
              1,
              "#f0f921"
             ]
            ],
            "type": "histogram2d"
           }
          ],
          "histogram2dcontour": [
           {
            "colorbar": {
             "outlinewidth": 0,
             "ticks": ""
            },
            "colorscale": [
             [
              0,
              "#0d0887"
             ],
             [
              0.1111111111111111,
              "#46039f"
             ],
             [
              0.2222222222222222,
              "#7201a8"
             ],
             [
              0.3333333333333333,
              "#9c179e"
             ],
             [
              0.4444444444444444,
              "#bd3786"
             ],
             [
              0.5555555555555556,
              "#d8576b"
             ],
             [
              0.6666666666666666,
              "#ed7953"
             ],
             [
              0.7777777777777778,
              "#fb9f3a"
             ],
             [
              0.8888888888888888,
              "#fdca26"
             ],
             [
              1,
              "#f0f921"
             ]
            ],
            "type": "histogram2dcontour"
           }
          ],
          "mesh3d": [
           {
            "colorbar": {
             "outlinewidth": 0,
             "ticks": ""
            },
            "type": "mesh3d"
           }
          ],
          "parcoords": [
           {
            "line": {
             "colorbar": {
              "outlinewidth": 0,
              "ticks": ""
             }
            },
            "type": "parcoords"
           }
          ],
          "pie": [
           {
            "automargin": true,
            "type": "pie"
           }
          ],
          "scatter": [
           {
            "marker": {
             "colorbar": {
              "outlinewidth": 0,
              "ticks": ""
             }
            },
            "type": "scatter"
           }
          ],
          "scatter3d": [
           {
            "line": {
             "colorbar": {
              "outlinewidth": 0,
              "ticks": ""
             }
            },
            "marker": {
             "colorbar": {
              "outlinewidth": 0,
              "ticks": ""
             }
            },
            "type": "scatter3d"
           }
          ],
          "scattercarpet": [
           {
            "marker": {
             "colorbar": {
              "outlinewidth": 0,
              "ticks": ""
             }
            },
            "type": "scattercarpet"
           }
          ],
          "scattergeo": [
           {
            "marker": {
             "colorbar": {
              "outlinewidth": 0,
              "ticks": ""
             }
            },
            "type": "scattergeo"
           }
          ],
          "scattergl": [
           {
            "marker": {
             "colorbar": {
              "outlinewidth": 0,
              "ticks": ""
             }
            },
            "type": "scattergl"
           }
          ],
          "scattermapbox": [
           {
            "marker": {
             "colorbar": {
              "outlinewidth": 0,
              "ticks": ""
             }
            },
            "type": "scattermapbox"
           }
          ],
          "scatterpolar": [
           {
            "marker": {
             "colorbar": {
              "outlinewidth": 0,
              "ticks": ""
             }
            },
            "type": "scatterpolar"
           }
          ],
          "scatterpolargl": [
           {
            "marker": {
             "colorbar": {
              "outlinewidth": 0,
              "ticks": ""
             }
            },
            "type": "scatterpolargl"
           }
          ],
          "scatterternary": [
           {
            "marker": {
             "colorbar": {
              "outlinewidth": 0,
              "ticks": ""
             }
            },
            "type": "scatterternary"
           }
          ],
          "surface": [
           {
            "colorbar": {
             "outlinewidth": 0,
             "ticks": ""
            },
            "colorscale": [
             [
              0,
              "#0d0887"
             ],
             [
              0.1111111111111111,
              "#46039f"
             ],
             [
              0.2222222222222222,
              "#7201a8"
             ],
             [
              0.3333333333333333,
              "#9c179e"
             ],
             [
              0.4444444444444444,
              "#bd3786"
             ],
             [
              0.5555555555555556,
              "#d8576b"
             ],
             [
              0.6666666666666666,
              "#ed7953"
             ],
             [
              0.7777777777777778,
              "#fb9f3a"
             ],
             [
              0.8888888888888888,
              "#fdca26"
             ],
             [
              1,
              "#f0f921"
             ]
            ],
            "type": "surface"
           }
          ],
          "table": [
           {
            "cells": {
             "fill": {
              "color": "#EBF0F8"
             },
             "line": {
              "color": "white"
             }
            },
            "header": {
             "fill": {
              "color": "#C8D4E3"
             },
             "line": {
              "color": "white"
             }
            },
            "type": "table"
           }
          ]
         },
         "layout": {
          "annotationdefaults": {
           "arrowcolor": "#2a3f5f",
           "arrowhead": 0,
           "arrowwidth": 1
          },
          "autotypenumbers": "strict",
          "coloraxis": {
           "colorbar": {
            "outlinewidth": 0,
            "ticks": ""
           }
          },
          "colorscale": {
           "diverging": [
            [
             0,
             "#8e0152"
            ],
            [
             0.1,
             "#c51b7d"
            ],
            [
             0.2,
             "#de77ae"
            ],
            [
             0.3,
             "#f1b6da"
            ],
            [
             0.4,
             "#fde0ef"
            ],
            [
             0.5,
             "#f7f7f7"
            ],
            [
             0.6,
             "#e6f5d0"
            ],
            [
             0.7,
             "#b8e186"
            ],
            [
             0.8,
             "#7fbc41"
            ],
            [
             0.9,
             "#4d9221"
            ],
            [
             1,
             "#276419"
            ]
           ],
           "sequential": [
            [
             0,
             "#0d0887"
            ],
            [
             0.1111111111111111,
             "#46039f"
            ],
            [
             0.2222222222222222,
             "#7201a8"
            ],
            [
             0.3333333333333333,
             "#9c179e"
            ],
            [
             0.4444444444444444,
             "#bd3786"
            ],
            [
             0.5555555555555556,
             "#d8576b"
            ],
            [
             0.6666666666666666,
             "#ed7953"
            ],
            [
             0.7777777777777778,
             "#fb9f3a"
            ],
            [
             0.8888888888888888,
             "#fdca26"
            ],
            [
             1,
             "#f0f921"
            ]
           ],
           "sequentialminus": [
            [
             0,
             "#0d0887"
            ],
            [
             0.1111111111111111,
             "#46039f"
            ],
            [
             0.2222222222222222,
             "#7201a8"
            ],
            [
             0.3333333333333333,
             "#9c179e"
            ],
            [
             0.4444444444444444,
             "#bd3786"
            ],
            [
             0.5555555555555556,
             "#d8576b"
            ],
            [
             0.6666666666666666,
             "#ed7953"
            ],
            [
             0.7777777777777778,
             "#fb9f3a"
            ],
            [
             0.8888888888888888,
             "#fdca26"
            ],
            [
             1,
             "#f0f921"
            ]
           ]
          },
          "colorway": [
           "#636efa",
           "#EF553B",
           "#00cc96",
           "#ab63fa",
           "#FFA15A",
           "#19d3f3",
           "#FF6692",
           "#B6E880",
           "#FF97FF",
           "#FECB52"
          ],
          "font": {
           "color": "#2a3f5f"
          },
          "geo": {
           "bgcolor": "white",
           "lakecolor": "white",
           "landcolor": "#E5ECF6",
           "showlakes": true,
           "showland": true,
           "subunitcolor": "white"
          },
          "hoverlabel": {
           "align": "left"
          },
          "hovermode": "closest",
          "mapbox": {
           "style": "light"
          },
          "paper_bgcolor": "white",
          "plot_bgcolor": "#E5ECF6",
          "polar": {
           "angularaxis": {
            "gridcolor": "white",
            "linecolor": "white",
            "ticks": ""
           },
           "bgcolor": "#E5ECF6",
           "radialaxis": {
            "gridcolor": "white",
            "linecolor": "white",
            "ticks": ""
           }
          },
          "scene": {
           "xaxis": {
            "backgroundcolor": "#E5ECF6",
            "gridcolor": "white",
            "gridwidth": 2,
            "linecolor": "white",
            "showbackground": true,
            "ticks": "",
            "zerolinecolor": "white"
           },
           "yaxis": {
            "backgroundcolor": "#E5ECF6",
            "gridcolor": "white",
            "gridwidth": 2,
            "linecolor": "white",
            "showbackground": true,
            "ticks": "",
            "zerolinecolor": "white"
           },
           "zaxis": {
            "backgroundcolor": "#E5ECF6",
            "gridcolor": "white",
            "gridwidth": 2,
            "linecolor": "white",
            "showbackground": true,
            "ticks": "",
            "zerolinecolor": "white"
           }
          },
          "shapedefaults": {
           "line": {
            "color": "#2a3f5f"
           }
          },
          "ternary": {
           "aaxis": {
            "gridcolor": "white",
            "linecolor": "white",
            "ticks": ""
           },
           "baxis": {
            "gridcolor": "white",
            "linecolor": "white",
            "ticks": ""
           },
           "bgcolor": "#E5ECF6",
           "caxis": {
            "gridcolor": "white",
            "linecolor": "white",
            "ticks": ""
           }
          },
          "title": {
           "x": 0.05
          },
          "xaxis": {
           "automargin": true,
           "gridcolor": "white",
           "linecolor": "white",
           "ticks": "",
           "title": {
            "standoff": 15
           },
           "zerolinecolor": "white",
           "zerolinewidth": 2
          },
          "yaxis": {
           "automargin": true,
           "gridcolor": "white",
           "linecolor": "white",
           "ticks": "",
           "title": {
            "standoff": 15
           },
           "zerolinecolor": "white",
           "zerolinewidth": 2
          }
         }
        },
        "title": {
         "text": "Slice Plot"
        },
        "width": 1200,
        "xaxis": {
         "anchor": "y",
         "domain": [
          0,
          0.2125
         ],
         "title": {
          "text": "clip_margin"
         }
        },
        "xaxis2": {
         "anchor": "y2",
         "domain": [
          0.2625,
          0.475
         ],
         "title": {
          "text": "hidden_layer"
         }
        },
        "xaxis3": {
         "anchor": "y3",
         "domain": [
          0.525,
          0.7375
         ],
         "title": {
          "text": "learning_rate"
         }
        },
        "xaxis4": {
         "anchor": "y4",
         "domain": [
          0.7875,
          1
         ],
         "title": {
          "text": "stddev"
         }
        },
        "yaxis": {
         "anchor": "x",
         "domain": [
          0,
          1
         ],
         "title": {
          "text": "Objective Value"
         }
        },
        "yaxis2": {
         "anchor": "x2",
         "domain": [
          0,
          1
         ],
         "matches": "y",
         "showticklabels": false
        },
        "yaxis3": {
         "anchor": "x3",
         "domain": [
          0,
          1
         ],
         "matches": "y",
         "showticklabels": false
        },
        "yaxis4": {
         "anchor": "x4",
         "domain": [
          0,
          1
         ],
         "matches": "y",
         "showticklabels": false
        }
       }
      }
     },
     "metadata": {},
     "output_type": "display_data"
    }
   ],
   "source": [
    "optuna.visualization.plot_slice(study_2)"
   ]
  },
  {
   "cell_type": "code",
   "execution_count": null,
   "metadata": {
    "id": "SiW23Q0JWJCE",
    "outputId": "8b879a15-a486-4f61-c83f-d781452f1df2"
   },
   "outputs": [
    {
     "data": {
      "application/vnd.plotly.v1+json": {
       "config": {
        "plotlyServerURL": "https://plot.ly"
       },
       "data": [
        {
         "cliponaxis": false,
         "hovertemplate": [
          "hidden_layer (IntUniformDistribution): 0.0703741123425194<extra></extra>",
          "stddev (UniformDistribution): 0.14505768628503404<extra></extra>",
          "learning_rate (UniformDistribution): 0.3335860555462762<extra></extra>",
          "clip_margin (IntUniformDistribution): 0.4509821458261703<extra></extra>"
         ],
         "marker": {
          "color": [
           "rgb(8,81,156)",
           "rgb(8,48,107)",
           "rgb(8,48,107)",
           "rgb(8,81,156)"
          ]
         },
         "orientation": "h",
         "text": [
          "0.0703741123425194",
          "0.14505768628503404",
          "0.3335860555462762",
          "0.4509821458261703"
         ],
         "textposition": "outside",
         "texttemplate": "%{text:.2f}",
         "type": "bar",
         "x": [
          0.0703741123425194,
          0.14505768628503404,
          0.3335860555462762,
          0.4509821458261703
         ],
         "y": [
          "hidden_layer",
          "stddev",
          "learning_rate",
          "clip_margin"
         ]
        }
       ],
       "layout": {
        "showlegend": false,
        "template": {
         "data": {
          "bar": [
           {
            "error_x": {
             "color": "#2a3f5f"
            },
            "error_y": {
             "color": "#2a3f5f"
            },
            "marker": {
             "line": {
              "color": "#E5ECF6",
              "width": 0.5
             },
             "pattern": {
              "fillmode": "overlay",
              "size": 10,
              "solidity": 0.2
             }
            },
            "type": "bar"
           }
          ],
          "barpolar": [
           {
            "marker": {
             "line": {
              "color": "#E5ECF6",
              "width": 0.5
             },
             "pattern": {
              "fillmode": "overlay",
              "size": 10,
              "solidity": 0.2
             }
            },
            "type": "barpolar"
           }
          ],
          "carpet": [
           {
            "aaxis": {
             "endlinecolor": "#2a3f5f",
             "gridcolor": "white",
             "linecolor": "white",
             "minorgridcolor": "white",
             "startlinecolor": "#2a3f5f"
            },
            "baxis": {
             "endlinecolor": "#2a3f5f",
             "gridcolor": "white",
             "linecolor": "white",
             "minorgridcolor": "white",
             "startlinecolor": "#2a3f5f"
            },
            "type": "carpet"
           }
          ],
          "choropleth": [
           {
            "colorbar": {
             "outlinewidth": 0,
             "ticks": ""
            },
            "type": "choropleth"
           }
          ],
          "contour": [
           {
            "colorbar": {
             "outlinewidth": 0,
             "ticks": ""
            },
            "colorscale": [
             [
              0,
              "#0d0887"
             ],
             [
              0.1111111111111111,
              "#46039f"
             ],
             [
              0.2222222222222222,
              "#7201a8"
             ],
             [
              0.3333333333333333,
              "#9c179e"
             ],
             [
              0.4444444444444444,
              "#bd3786"
             ],
             [
              0.5555555555555556,
              "#d8576b"
             ],
             [
              0.6666666666666666,
              "#ed7953"
             ],
             [
              0.7777777777777778,
              "#fb9f3a"
             ],
             [
              0.8888888888888888,
              "#fdca26"
             ],
             [
              1,
              "#f0f921"
             ]
            ],
            "type": "contour"
           }
          ],
          "contourcarpet": [
           {
            "colorbar": {
             "outlinewidth": 0,
             "ticks": ""
            },
            "type": "contourcarpet"
           }
          ],
          "heatmap": [
           {
            "colorbar": {
             "outlinewidth": 0,
             "ticks": ""
            },
            "colorscale": [
             [
              0,
              "#0d0887"
             ],
             [
              0.1111111111111111,
              "#46039f"
             ],
             [
              0.2222222222222222,
              "#7201a8"
             ],
             [
              0.3333333333333333,
              "#9c179e"
             ],
             [
              0.4444444444444444,
              "#bd3786"
             ],
             [
              0.5555555555555556,
              "#d8576b"
             ],
             [
              0.6666666666666666,
              "#ed7953"
             ],
             [
              0.7777777777777778,
              "#fb9f3a"
             ],
             [
              0.8888888888888888,
              "#fdca26"
             ],
             [
              1,
              "#f0f921"
             ]
            ],
            "type": "heatmap"
           }
          ],
          "heatmapgl": [
           {
            "colorbar": {
             "outlinewidth": 0,
             "ticks": ""
            },
            "colorscale": [
             [
              0,
              "#0d0887"
             ],
             [
              0.1111111111111111,
              "#46039f"
             ],
             [
              0.2222222222222222,
              "#7201a8"
             ],
             [
              0.3333333333333333,
              "#9c179e"
             ],
             [
              0.4444444444444444,
              "#bd3786"
             ],
             [
              0.5555555555555556,
              "#d8576b"
             ],
             [
              0.6666666666666666,
              "#ed7953"
             ],
             [
              0.7777777777777778,
              "#fb9f3a"
             ],
             [
              0.8888888888888888,
              "#fdca26"
             ],
             [
              1,
              "#f0f921"
             ]
            ],
            "type": "heatmapgl"
           }
          ],
          "histogram": [
           {
            "marker": {
             "pattern": {
              "fillmode": "overlay",
              "size": 10,
              "solidity": 0.2
             }
            },
            "type": "histogram"
           }
          ],
          "histogram2d": [
           {
            "colorbar": {
             "outlinewidth": 0,
             "ticks": ""
            },
            "colorscale": [
             [
              0,
              "#0d0887"
             ],
             [
              0.1111111111111111,
              "#46039f"
             ],
             [
              0.2222222222222222,
              "#7201a8"
             ],
             [
              0.3333333333333333,
              "#9c179e"
             ],
             [
              0.4444444444444444,
              "#bd3786"
             ],
             [
              0.5555555555555556,
              "#d8576b"
             ],
             [
              0.6666666666666666,
              "#ed7953"
             ],
             [
              0.7777777777777778,
              "#fb9f3a"
             ],
             [
              0.8888888888888888,
              "#fdca26"
             ],
             [
              1,
              "#f0f921"
             ]
            ],
            "type": "histogram2d"
           }
          ],
          "histogram2dcontour": [
           {
            "colorbar": {
             "outlinewidth": 0,
             "ticks": ""
            },
            "colorscale": [
             [
              0,
              "#0d0887"
             ],
             [
              0.1111111111111111,
              "#46039f"
             ],
             [
              0.2222222222222222,
              "#7201a8"
             ],
             [
              0.3333333333333333,
              "#9c179e"
             ],
             [
              0.4444444444444444,
              "#bd3786"
             ],
             [
              0.5555555555555556,
              "#d8576b"
             ],
             [
              0.6666666666666666,
              "#ed7953"
             ],
             [
              0.7777777777777778,
              "#fb9f3a"
             ],
             [
              0.8888888888888888,
              "#fdca26"
             ],
             [
              1,
              "#f0f921"
             ]
            ],
            "type": "histogram2dcontour"
           }
          ],
          "mesh3d": [
           {
            "colorbar": {
             "outlinewidth": 0,
             "ticks": ""
            },
            "type": "mesh3d"
           }
          ],
          "parcoords": [
           {
            "line": {
             "colorbar": {
              "outlinewidth": 0,
              "ticks": ""
             }
            },
            "type": "parcoords"
           }
          ],
          "pie": [
           {
            "automargin": true,
            "type": "pie"
           }
          ],
          "scatter": [
           {
            "marker": {
             "colorbar": {
              "outlinewidth": 0,
              "ticks": ""
             }
            },
            "type": "scatter"
           }
          ],
          "scatter3d": [
           {
            "line": {
             "colorbar": {
              "outlinewidth": 0,
              "ticks": ""
             }
            },
            "marker": {
             "colorbar": {
              "outlinewidth": 0,
              "ticks": ""
             }
            },
            "type": "scatter3d"
           }
          ],
          "scattercarpet": [
           {
            "marker": {
             "colorbar": {
              "outlinewidth": 0,
              "ticks": ""
             }
            },
            "type": "scattercarpet"
           }
          ],
          "scattergeo": [
           {
            "marker": {
             "colorbar": {
              "outlinewidth": 0,
              "ticks": ""
             }
            },
            "type": "scattergeo"
           }
          ],
          "scattergl": [
           {
            "marker": {
             "colorbar": {
              "outlinewidth": 0,
              "ticks": ""
             }
            },
            "type": "scattergl"
           }
          ],
          "scattermapbox": [
           {
            "marker": {
             "colorbar": {
              "outlinewidth": 0,
              "ticks": ""
             }
            },
            "type": "scattermapbox"
           }
          ],
          "scatterpolar": [
           {
            "marker": {
             "colorbar": {
              "outlinewidth": 0,
              "ticks": ""
             }
            },
            "type": "scatterpolar"
           }
          ],
          "scatterpolargl": [
           {
            "marker": {
             "colorbar": {
              "outlinewidth": 0,
              "ticks": ""
             }
            },
            "type": "scatterpolargl"
           }
          ],
          "scatterternary": [
           {
            "marker": {
             "colorbar": {
              "outlinewidth": 0,
              "ticks": ""
             }
            },
            "type": "scatterternary"
           }
          ],
          "surface": [
           {
            "colorbar": {
             "outlinewidth": 0,
             "ticks": ""
            },
            "colorscale": [
             [
              0,
              "#0d0887"
             ],
             [
              0.1111111111111111,
              "#46039f"
             ],
             [
              0.2222222222222222,
              "#7201a8"
             ],
             [
              0.3333333333333333,
              "#9c179e"
             ],
             [
              0.4444444444444444,
              "#bd3786"
             ],
             [
              0.5555555555555556,
              "#d8576b"
             ],
             [
              0.6666666666666666,
              "#ed7953"
             ],
             [
              0.7777777777777778,
              "#fb9f3a"
             ],
             [
              0.8888888888888888,
              "#fdca26"
             ],
             [
              1,
              "#f0f921"
             ]
            ],
            "type": "surface"
           }
          ],
          "table": [
           {
            "cells": {
             "fill": {
              "color": "#EBF0F8"
             },
             "line": {
              "color": "white"
             }
            },
            "header": {
             "fill": {
              "color": "#C8D4E3"
             },
             "line": {
              "color": "white"
             }
            },
            "type": "table"
           }
          ]
         },
         "layout": {
          "annotationdefaults": {
           "arrowcolor": "#2a3f5f",
           "arrowhead": 0,
           "arrowwidth": 1
          },
          "autotypenumbers": "strict",
          "coloraxis": {
           "colorbar": {
            "outlinewidth": 0,
            "ticks": ""
           }
          },
          "colorscale": {
           "diverging": [
            [
             0,
             "#8e0152"
            ],
            [
             0.1,
             "#c51b7d"
            ],
            [
             0.2,
             "#de77ae"
            ],
            [
             0.3,
             "#f1b6da"
            ],
            [
             0.4,
             "#fde0ef"
            ],
            [
             0.5,
             "#f7f7f7"
            ],
            [
             0.6,
             "#e6f5d0"
            ],
            [
             0.7,
             "#b8e186"
            ],
            [
             0.8,
             "#7fbc41"
            ],
            [
             0.9,
             "#4d9221"
            ],
            [
             1,
             "#276419"
            ]
           ],
           "sequential": [
            [
             0,
             "#0d0887"
            ],
            [
             0.1111111111111111,
             "#46039f"
            ],
            [
             0.2222222222222222,
             "#7201a8"
            ],
            [
             0.3333333333333333,
             "#9c179e"
            ],
            [
             0.4444444444444444,
             "#bd3786"
            ],
            [
             0.5555555555555556,
             "#d8576b"
            ],
            [
             0.6666666666666666,
             "#ed7953"
            ],
            [
             0.7777777777777778,
             "#fb9f3a"
            ],
            [
             0.8888888888888888,
             "#fdca26"
            ],
            [
             1,
             "#f0f921"
            ]
           ],
           "sequentialminus": [
            [
             0,
             "#0d0887"
            ],
            [
             0.1111111111111111,
             "#46039f"
            ],
            [
             0.2222222222222222,
             "#7201a8"
            ],
            [
             0.3333333333333333,
             "#9c179e"
            ],
            [
             0.4444444444444444,
             "#bd3786"
            ],
            [
             0.5555555555555556,
             "#d8576b"
            ],
            [
             0.6666666666666666,
             "#ed7953"
            ],
            [
             0.7777777777777778,
             "#fb9f3a"
            ],
            [
             0.8888888888888888,
             "#fdca26"
            ],
            [
             1,
             "#f0f921"
            ]
           ]
          },
          "colorway": [
           "#636efa",
           "#EF553B",
           "#00cc96",
           "#ab63fa",
           "#FFA15A",
           "#19d3f3",
           "#FF6692",
           "#B6E880",
           "#FF97FF",
           "#FECB52"
          ],
          "font": {
           "color": "#2a3f5f"
          },
          "geo": {
           "bgcolor": "white",
           "lakecolor": "white",
           "landcolor": "#E5ECF6",
           "showlakes": true,
           "showland": true,
           "subunitcolor": "white"
          },
          "hoverlabel": {
           "align": "left"
          },
          "hovermode": "closest",
          "mapbox": {
           "style": "light"
          },
          "paper_bgcolor": "white",
          "plot_bgcolor": "#E5ECF6",
          "polar": {
           "angularaxis": {
            "gridcolor": "white",
            "linecolor": "white",
            "ticks": ""
           },
           "bgcolor": "#E5ECF6",
           "radialaxis": {
            "gridcolor": "white",
            "linecolor": "white",
            "ticks": ""
           }
          },
          "scene": {
           "xaxis": {
            "backgroundcolor": "#E5ECF6",
            "gridcolor": "white",
            "gridwidth": 2,
            "linecolor": "white",
            "showbackground": true,
            "ticks": "",
            "zerolinecolor": "white"
           },
           "yaxis": {
            "backgroundcolor": "#E5ECF6",
            "gridcolor": "white",
            "gridwidth": 2,
            "linecolor": "white",
            "showbackground": true,
            "ticks": "",
            "zerolinecolor": "white"
           },
           "zaxis": {
            "backgroundcolor": "#E5ECF6",
            "gridcolor": "white",
            "gridwidth": 2,
            "linecolor": "white",
            "showbackground": true,
            "ticks": "",
            "zerolinecolor": "white"
           }
          },
          "shapedefaults": {
           "line": {
            "color": "#2a3f5f"
           }
          },
          "ternary": {
           "aaxis": {
            "gridcolor": "white",
            "linecolor": "white",
            "ticks": ""
           },
           "baxis": {
            "gridcolor": "white",
            "linecolor": "white",
            "ticks": ""
           },
           "bgcolor": "#E5ECF6",
           "caxis": {
            "gridcolor": "white",
            "linecolor": "white",
            "ticks": ""
           }
          },
          "title": {
           "x": 0.05
          },
          "xaxis": {
           "automargin": true,
           "gridcolor": "white",
           "linecolor": "white",
           "ticks": "",
           "title": {
            "standoff": 15
           },
           "zerolinecolor": "white",
           "zerolinewidth": 2
          },
          "yaxis": {
           "automargin": true,
           "gridcolor": "white",
           "linecolor": "white",
           "ticks": "",
           "title": {
            "standoff": 15
           },
           "zerolinecolor": "white",
           "zerolinewidth": 2
          }
         }
        },
        "title": {
         "text": "Hyperparameter Importances"
        },
        "xaxis": {
         "title": {
          "text": "Importance for Objective Value"
         }
        },
        "yaxis": {
         "title": {
          "text": "Hyperparameter"
         }
        }
       }
      }
     },
     "metadata": {},
     "output_type": "display_data"
    }
   ],
   "source": [
    "optuna.visualization.plot_param_importances(study_2)"
   ]
  },
  {
   "cell_type": "markdown",
   "metadata": {
    "id": "tET7cz7bWJCE"
   },
   "source": [
    "### Parâmetros do Estudo 3\n",
    "Trials: 16 <br>\n",
    "Tamanho do batch/janela: 7 <br>\n",
    "Hidden layer: 256 à 512 <br>\n",
    "Margem de clip: 128 à 256 <br>\n",
    "Taxa de aprendizado: 0.3 à 0.7 <br>"
   ]
  },
  {
   "cell_type": "code",
   "execution_count": null,
   "metadata": {
    "id": "b22mk8iLbtvG",
    "outputId": "b33593db-b3a2-43ec-8cb0-b05eb4010e5f"
   },
   "outputs": [
    {
     "name": "stderr",
     "output_type": "stream",
     "text": [
      "\u001b[32m[I 2021-11-16 02:20:28,338]\u001b[0m A new study created in memory with name: no-name-beff6c9a-658c-42ac-870a-1735035dc870\u001b[0m\n"
     ]
    },
    {
     "name": "stdout",
     "output_type": "stream",
     "text": [
      "\n",
      "Configs {'batch_size': 7, 'window_size': 7, 'hidden_layer': 30, 'clip_margin': 22, 'learning_rate': 0.0037347286149582125, 'epochs': 60, 'stddev': 0.10553049163883402, 'epochs_print': 10} \n",
      "\n",
      "Epoch  0/60  LOSS: 0.12742051482200623\n",
      "Epoch 10/60  LOSS: 0.012536275200545788\n",
      "Epoch 20/60  LOSS: 0.006031524855643511\n",
      "Epoch 30/60  LOSS: 0.0007955959299579263\n",
      "Epoch 40/60  LOSS: 0.000582517241127789\n",
      "Epoch 50/60  LOSS: 0.0005526210879907012\n"
     ]
    },
    {
     "name": "stderr",
     "output_type": "stream",
     "text": [
      "\u001b[32m[I 2021-11-16 02:21:12,211]\u001b[0m Trial 0 finished with value: 0.00048017606419652393 and parameters: {'hidden_layer': 30, 'clip_margin': 22, 'learning_rate': 0.0037347286149582125, 'stddev': 0.10553049163883402}. Best is trial 0 with value: 0.00048017606419652393.\u001b[0m\n"
     ]
    },
    {
     "name": "stdout",
     "output_type": "stream",
     "text": [
      "\n",
      "Configs {'batch_size': 7, 'window_size': 7, 'hidden_layer': 20, 'clip_margin': 16, 'learning_rate': 0.002206639599309111, 'epochs': 60, 'stddev': 0.13337702038120913, 'epochs_print': 10} \n",
      "\n",
      "Epoch  0/60  LOSS: 3.8276615142822266\n",
      "Epoch 10/60  LOSS: 0.014626799151301384\n",
      "Epoch 20/60  LOSS: 0.011472244746983051\n",
      "Epoch 30/60  LOSS: 0.011270339600741863\n",
      "Epoch 40/60  LOSS: 0.010271896608173847\n",
      "Epoch 50/60  LOSS: 0.00484803831204772\n"
     ]
    },
    {
     "name": "stderr",
     "output_type": "stream",
     "text": [
      "\u001b[32m[I 2021-11-16 02:21:55,501]\u001b[0m Trial 1 finished with value: 0.0013894868760589503 and parameters: {'hidden_layer': 20, 'clip_margin': 16, 'learning_rate': 0.002206639599309111, 'stddev': 0.13337702038120913}. Best is trial 0 with value: 0.00048017606419652393.\u001b[0m\n"
     ]
    },
    {
     "name": "stdout",
     "output_type": "stream",
     "text": [
      "\n",
      "Configs {'batch_size': 7, 'window_size': 7, 'hidden_layer': 11, 'clip_margin': 26, 'learning_rate': 0.004227672658599115, 'epochs': 60, 'stddev': 0.05890245612756484, 'epochs_print': 10} \n",
      "\n",
      "Epoch  0/60  LOSS: 0.1708863228559494\n",
      "Epoch 10/60  LOSS: 0.008308297954499722\n",
      "Epoch 20/60  LOSS: 0.004092466551810503\n",
      "Epoch 30/60  LOSS: 0.002523035043850541\n",
      "Epoch 40/60  LOSS: 0.0011005369015038013\n",
      "Epoch 50/60  LOSS: 0.0011642819736152887\n"
     ]
    },
    {
     "name": "stderr",
     "output_type": "stream",
     "text": [
      "\u001b[32m[I 2021-11-16 02:22:40,207]\u001b[0m Trial 2 finished with value: 0.0011698623783621739 and parameters: {'hidden_layer': 11, 'clip_margin': 26, 'learning_rate': 0.004227672658599115, 'stddev': 0.05890245612756484}. Best is trial 0 with value: 0.00048017606419652393.\u001b[0m\n"
     ]
    },
    {
     "name": "stdout",
     "output_type": "stream",
     "text": [
      "\n",
      "Configs {'batch_size': 7, 'window_size': 7, 'hidden_layer': 14, 'clip_margin': 19, 'learning_rate': 0.003377067548621225, 'epochs': 60, 'stddev': 0.07679359438819774, 'epochs_print': 10} \n",
      "\n",
      "Epoch  0/60  LOSS: 0.2637307643890381\n",
      "Epoch 10/60  LOSS: 0.018171796575188637\n",
      "Epoch 20/60  LOSS: 0.009936193004250526\n",
      "Epoch 30/60  LOSS: 0.007227221038192511\n",
      "Epoch 40/60  LOSS: 0.0010843881173059344\n",
      "Epoch 50/60  LOSS: 0.0006544325733557343\n"
     ]
    },
    {
     "name": "stderr",
     "output_type": "stream",
     "text": [
      "\u001b[32m[I 2021-11-16 02:23:20,744]\u001b[0m Trial 3 finished with value: 0.0006450670262454189 and parameters: {'hidden_layer': 14, 'clip_margin': 19, 'learning_rate': 0.003377067548621225, 'stddev': 0.07679359438819774}. Best is trial 0 with value: 0.00048017606419652393.\u001b[0m\n"
     ]
    },
    {
     "name": "stdout",
     "output_type": "stream",
     "text": [
      "\n",
      "Configs {'batch_size': 7, 'window_size': 7, 'hidden_layer': 31, 'clip_margin': 22, 'learning_rate': 0.0011244264980527455, 'epochs': 60, 'stddev': 0.07698484217075284, 'epochs_print': 10} \n",
      "\n",
      "Epoch  0/60  LOSS: 0.2072707861661911\n",
      "Epoch 10/60  LOSS: 0.013411223888397217\n",
      "Epoch 20/60  LOSS: 0.011885814368724823\n",
      "Epoch 30/60  LOSS: 0.006627291440963745\n",
      "Epoch 40/60  LOSS: 0.0006833273801021278\n",
      "Epoch 50/60  LOSS: 0.00045638190931640565\n"
     ]
    },
    {
     "name": "stderr",
     "output_type": "stream",
     "text": [
      "\u001b[32m[I 2021-11-16 02:24:04,538]\u001b[0m Trial 4 finished with value: 0.0004387548195379936 and parameters: {'hidden_layer': 31, 'clip_margin': 22, 'learning_rate': 0.0011244264980527455, 'stddev': 0.07698484217075284}. Best is trial 4 with value: 0.0004387548195379936.\u001b[0m\n"
     ]
    },
    {
     "name": "stdout",
     "output_type": "stream",
     "text": [
      "\n",
      "Configs {'batch_size': 7, 'window_size': 7, 'hidden_layer': 18, 'clip_margin': 31, 'learning_rate': 0.003329377747437302, 'epochs': 60, 'stddev': 0.10821253658754612, 'epochs_print': 10} \n",
      "\n",
      "Epoch  0/60  LOSS: 0.808253288269043\n",
      "Epoch 10/60  LOSS: 0.01880737580358982\n",
      "Epoch 20/60  LOSS: 0.012180887162685394\n",
      "Epoch 30/60  LOSS: 0.008943503722548485\n",
      "Epoch 40/60  LOSS: 0.006223150063306093\n",
      "Epoch 50/60  LOSS: 0.0013978707138448954\n"
     ]
    },
    {
     "name": "stderr",
     "output_type": "stream",
     "text": [
      "\u001b[32m[I 2021-11-16 02:24:47,960]\u001b[0m Trial 5 finished with value: 0.0011916806593286185 and parameters: {'hidden_layer': 18, 'clip_margin': 31, 'learning_rate': 0.003329377747437302, 'stddev': 0.10821253658754612}. Best is trial 4 with value: 0.0004387548195379936.\u001b[0m\n"
     ]
    },
    {
     "name": "stdout",
     "output_type": "stream",
     "text": [
      "\n",
      "Configs {'batch_size': 7, 'window_size': 7, 'hidden_layer': 23, 'clip_margin': 27, 'learning_rate': 0.0030071545557830153, 'epochs': 60, 'stddev': 0.054742582731521654, 'epochs_print': 10} \n",
      "\n",
      "Epoch  0/60  LOSS: 3.029115915298462\n",
      "Epoch 10/60  LOSS: 0.015111998654901981\n",
      "Epoch 20/60  LOSS: 0.0119004612788558\n",
      "Epoch 30/60  LOSS: 0.009546173736453056\n",
      "Epoch 40/60  LOSS: 0.008808310143649578\n",
      "Epoch 50/60  LOSS: 0.0065819378942251205\n"
     ]
    },
    {
     "name": "stderr",
     "output_type": "stream",
     "text": [
      "\u001b[32m[I 2021-11-16 02:25:24,399]\u001b[0m Trial 6 finished with value: 0.0008531552140891955 and parameters: {'hidden_layer': 23, 'clip_margin': 27, 'learning_rate': 0.0030071545557830153, 'stddev': 0.054742582731521654}. Best is trial 4 with value: 0.0004387548195379936.\u001b[0m\n"
     ]
    },
    {
     "name": "stdout",
     "output_type": "stream",
     "text": [
      "\n",
      "Configs {'batch_size': 7, 'window_size': 7, 'hidden_layer': 8, 'clip_margin': 27, 'learning_rate': 0.001231174400482109, 'epochs': 60, 'stddev': 0.14094330501950722, 'epochs_print': 10} \n",
      "\n",
      "Epoch  0/60  LOSS: 0.3934575319290161\n",
      "Epoch 10/60  LOSS: 0.011271101422607899\n",
      "Epoch 20/60  LOSS: 0.0017917088698595762\n",
      "Epoch 30/60  LOSS: 0.0005708968383260071\n",
      "Epoch 40/60  LOSS: 0.00047031629947014153\n",
      "Epoch 50/60  LOSS: 0.00043338947580195963\n"
     ]
    },
    {
     "name": "stderr",
     "output_type": "stream",
     "text": [
      "\u001b[32m[I 2021-11-16 02:26:06,656]\u001b[0m Trial 7 finished with value: 0.00043607260116098993 and parameters: {'hidden_layer': 8, 'clip_margin': 27, 'learning_rate': 0.001231174400482109, 'stddev': 0.14094330501950722}. Best is trial 7 with value: 0.00043607260116098993.\u001b[0m\n"
     ]
    },
    {
     "name": "stdout",
     "output_type": "stream",
     "text": [
      "\n",
      "Configs {'batch_size': 7, 'window_size': 7, 'hidden_layer': 24, 'clip_margin': 27, 'learning_rate': 0.0026469178069660902, 'epochs': 60, 'stddev': 0.06063117870609974, 'epochs_print': 10} \n",
      "\n",
      "Epoch  0/60  LOSS: 2.3672053813934326\n",
      "Epoch 10/60  LOSS: 0.018493549898266792\n",
      "Epoch 20/60  LOSS: 0.011574538424611092\n",
      "Epoch 30/60  LOSS: 0.010370494797825813\n",
      "Epoch 40/60  LOSS: 0.008938018232584\n",
      "Epoch 50/60  LOSS: 0.00445427093654871\n"
     ]
    },
    {
     "name": "stderr",
     "output_type": "stream",
     "text": [
      "\u001b[32m[I 2021-11-16 02:26:47,408]\u001b[0m Trial 8 finished with value: 0.002078600580459571 and parameters: {'hidden_layer': 24, 'clip_margin': 27, 'learning_rate': 0.0026469178069660902, 'stddev': 0.06063117870609974}. Best is trial 7 with value: 0.00043607260116098993.\u001b[0m\n"
     ]
    },
    {
     "name": "stdout",
     "output_type": "stream",
     "text": [
      "\n",
      "Configs {'batch_size': 7, 'window_size': 7, 'hidden_layer': 23, 'clip_margin': 21, 'learning_rate': 0.003122987425426211, 'epochs': 60, 'stddev': 0.06153782807391946, 'epochs_print': 10} \n",
      "\n",
      "Epoch  0/60  LOSS: 3.0468831062316895\n",
      "Epoch 10/60  LOSS: 0.018257133662700653\n",
      "Epoch 20/60  LOSS: 0.012274855747818947\n",
      "Epoch 30/60  LOSS: 0.010673454031348228\n",
      "Epoch 40/60  LOSS: 0.009268088266253471\n",
      "Epoch 50/60  LOSS: 0.001639710390008986\n"
     ]
    },
    {
     "name": "stderr",
     "output_type": "stream",
     "text": [
      "\u001b[32m[I 2021-11-16 02:27:18,532]\u001b[0m Trial 9 finished with value: 0.0016898407357718403 and parameters: {'hidden_layer': 23, 'clip_margin': 21, 'learning_rate': 0.003122987425426211, 'stddev': 0.06153782807391946}. Best is trial 7 with value: 0.00043607260116098993.\u001b[0m\n"
     ]
    },
    {
     "name": "stdout",
     "output_type": "stream",
     "text": [
      "\n",
      "Configs {'batch_size': 7, 'window_size': 7, 'hidden_layer': 8, 'clip_margin': 31, 'learning_rate': 0.0012914884095612668, 'epochs': 60, 'stddev': 0.1484905195053996, 'epochs_print': 10} \n",
      "\n",
      "Epoch  0/60  LOSS: 0.4017440378665924\n",
      "Epoch 10/60  LOSS: 0.015868326649069786\n",
      "Epoch 20/60  LOSS: 0.00542991841211915\n",
      "Epoch 30/60  LOSS: 0.0015131945256143808\n",
      "Epoch 40/60  LOSS: 0.0007766035269014537\n",
      "Epoch 50/60  LOSS: 0.0009121187031269073\n"
     ]
    },
    {
     "name": "stderr",
     "output_type": "stream",
     "text": [
      "\u001b[32m[I 2021-11-16 02:27:55,680]\u001b[0m Trial 10 finished with value: 0.001072110742205919 and parameters: {'hidden_layer': 8, 'clip_margin': 31, 'learning_rate': 0.0012914884095612668, 'stddev': 0.1484905195053996}. Best is trial 7 with value: 0.00043607260116098993.\u001b[0m\n"
     ]
    },
    {
     "name": "stdout",
     "output_type": "stream",
     "text": [
      "\n",
      "Configs {'batch_size': 7, 'window_size': 7, 'hidden_layer': 32, 'clip_margin': 24, 'learning_rate': 0.0010899252712851255, 'epochs': 60, 'stddev': 0.0853726522904534, 'epochs_print': 10} \n",
      "\n",
      "Epoch  0/60  LOSS: 0.20904411375522614\n",
      "Epoch 10/60  LOSS: 0.012366831302642822\n",
      "Epoch 20/60  LOSS: 0.01079853530973196\n",
      "Epoch 30/60  LOSS: 0.00799987930804491\n",
      "Epoch 40/60  LOSS: 0.0005992865771986544\n",
      "Epoch 50/60  LOSS: 0.00042068568291142583\n"
     ]
    },
    {
     "name": "stderr",
     "output_type": "stream",
     "text": [
      "\u001b[32m[I 2021-11-16 02:28:39,780]\u001b[0m Trial 11 finished with value: 0.000456215770326441 and parameters: {'hidden_layer': 32, 'clip_margin': 24, 'learning_rate': 0.0010899252712851255, 'stddev': 0.0853726522904534}. Best is trial 7 with value: 0.00043607260116098993.\u001b[0m\n"
     ]
    },
    {
     "name": "stdout",
     "output_type": "stream",
     "text": [
      "\n",
      "Configs {'batch_size': 7, 'window_size': 7, 'hidden_layer': 28, 'clip_margin': 29, 'learning_rate': 0.0017920075740621118, 'epochs': 60, 'stddev': 0.12802238957680404, 'epochs_print': 10} \n",
      "\n",
      "Epoch  0/60  LOSS: 0.2187896966934204\n",
      "Epoch 10/60  LOSS: 0.012097591534256935\n",
      "Epoch 20/60  LOSS: 0.005702266003936529\n",
      "Epoch 30/60  LOSS: 0.0004958926583640277\n",
      "Epoch 40/60  LOSS: 0.000359265977749601\n",
      "Epoch 50/60  LOSS: 0.0002908901951741427\n"
     ]
    },
    {
     "name": "stderr",
     "output_type": "stream",
     "text": [
      "\u001b[32m[I 2021-11-16 02:29:25,913]\u001b[0m Trial 12 finished with value: 0.0003548882499517531 and parameters: {'hidden_layer': 28, 'clip_margin': 29, 'learning_rate': 0.0017920075740621118, 'stddev': 0.12802238957680404}. Best is trial 12 with value: 0.0003548882499517531.\u001b[0m\n"
     ]
    },
    {
     "name": "stdout",
     "output_type": "stream",
     "text": [
      "\n",
      "Configs {'batch_size': 7, 'window_size': 7, 'hidden_layer': 26, 'clip_margin': 29, 'learning_rate': 0.0018417951021639603, 'epochs': 60, 'stddev': 0.12806204320697395, 'epochs_print': 10} \n",
      "\n",
      "Epoch  0/60  LOSS: 0.3499254882335663\n",
      "Epoch 10/60  LOSS: 0.010308372788131237\n",
      "Epoch 20/60  LOSS: 0.0035767140798270702\n",
      "Epoch 30/60  LOSS: 0.006851503625512123\n",
      "Epoch 40/60  LOSS: 0.0030439298134297132\n",
      "Epoch 50/60  LOSS: 0.002161358715966344\n"
     ]
    },
    {
     "name": "stderr",
     "output_type": "stream",
     "text": [
      "\u001b[32m[I 2021-11-16 02:30:05,012]\u001b[0m Trial 13 finished with value: 0.0023967705187182033 and parameters: {'hidden_layer': 26, 'clip_margin': 29, 'learning_rate': 0.0018417951021639603, 'stddev': 0.12806204320697395}. Best is trial 12 with value: 0.0003548882499517531.\u001b[0m\n"
     ]
    },
    {
     "name": "stdout",
     "output_type": "stream",
     "text": [
      "\n",
      "Configs {'batch_size': 7, 'window_size': 7, 'hidden_layer': 27, 'clip_margin': 29, 'learning_rate': 0.0018183981182289845, 'epochs': 60, 'stddev': 0.14930431145435258, 'epochs_print': 10} \n",
      "\n",
      "Epoch  0/60  LOSS: 0.29849743843078613\n",
      "Epoch 10/60  LOSS: 0.011748317629098892\n",
      "Epoch 20/60  LOSS: 0.004437736701220274\n",
      "Epoch 30/60  LOSS: 0.0026547126471996307\n",
      "Epoch 40/60  LOSS: 0.00284851947799325\n",
      "Epoch 50/60  LOSS: 0.001782021252438426\n"
     ]
    },
    {
     "name": "stderr",
     "output_type": "stream",
     "text": [
      "\u001b[32m[I 2021-11-16 02:30:51,679]\u001b[0m Trial 14 finished with value: 0.0023361934949426887 and parameters: {'hidden_layer': 27, 'clip_margin': 29, 'learning_rate': 0.0018183981182289845, 'stddev': 0.14930431145435258}. Best is trial 12 with value: 0.0003548882499517531.\u001b[0m\n"
     ]
    },
    {
     "name": "stdout",
     "output_type": "stream",
     "text": [
      "\n",
      "Configs {'batch_size': 7, 'window_size': 7, 'hidden_layer': 14, 'clip_margin': 32, 'learning_rate': 0.0016600287562503746, 'epochs': 60, 'stddev': 0.1261890471167614, 'epochs_print': 10} \n",
      "\n",
      "Epoch  0/60  LOSS: 1.624199390411377\n",
      "Epoch 10/60  LOSS: 0.0257050059735775\n",
      "Epoch 20/60  LOSS: 0.013584212400019169\n",
      "Epoch 30/60  LOSS: 0.00990284699946642\n",
      "Epoch 40/60  LOSS: 0.00888871680945158\n",
      "Epoch 50/60  LOSS: 0.007261344697326422\n"
     ]
    },
    {
     "name": "stderr",
     "output_type": "stream",
     "text": [
      "\u001b[32m[I 2021-11-16 02:31:36,613]\u001b[0m Trial 15 finished with value: 0.0008607498633644919 and parameters: {'hidden_layer': 14, 'clip_margin': 32, 'learning_rate': 0.0016600287562503746, 'stddev': 0.1261890471167614}. Best is trial 12 with value: 0.0003548882499517531.\u001b[0m\n"
     ]
    }
   ],
   "source": [
    "configs = {\n",
    "  \"batch_size\"   : 7,\n",
    "  \"window_size\"  : 7,\n",
    "  \"hidden_layer\" : 32,\n",
    "  \"clip_margin\"  : 32,\n",
    "  \"learning_rate\": 0.01,\n",
    "  \"epochs\"       : 60,\n",
    "  \"stddev\"       : 0.05,\n",
    "  \"epochs_print\" : 10\n",
    "}\n",
    "bestCase = {\n",
    "   \"batch_size\": 0,\n",
    "   \"outputs\": [],\n",
    "   \"loss\": 1000000\n",
    "}\n",
    "bestTrial = 0\n",
    "\n",
    "def perda3(trial):\n",
    "    \n",
    "    configs[\"batch_size\"] = configs[\"window_size\"] = 7 #trial.suggest_int(\"batch_size\", 3, 31)\n",
    "    configs[\"hidden_layer\"] = trial.suggest_int(\"hidden_layer\", 8, 32)\n",
    "    configs[\"clip_margin\"] = trial.suggest_int(\"clip_margin\", 16, 32)\n",
    "    configs[\"learning_rate\"] = trial.suggest_float(\"learning_rate\", 0.001, 0.005)\n",
    "    configs[\"stddev\"] = trial.suggest_float(\"stddev\", 0.05, 0.15)\n",
    "\n",
    "    print(\"\\nConfigs\", configs, \"\\n\")\n",
    "\n",
    "    # Pesos da via de entrada, inputs, objetivos, camada oculta e viés\n",
    "    inputs = tf.placeholder( tf.float32, [ configs[\"batch_size\"], configs[\"window_size\"], 1 ] )\n",
    "    targets = tf.placeholder( tf.float32, [ configs[\"batch_size\"], 1 ] )\n",
    "\n",
    "    weights_input_gate = tf.Variable( tf.truncated_normal([ 1, configs[\"hidden_layer\"] ], stddev=0.05) )\n",
    "    weights_input_hidden = tf.Variable( tf.truncated_normal( [ configs[\"hidden_layer\"], configs[\"hidden_layer\"] ], stddev=0.05) )\n",
    "    bias_input = tf.Variable( tf.zeros( [ configs[\"hidden_layer\"] ] ) )\n",
    "\n",
    "    # Pesos da via do esquecimento, camada oculta e viés\n",
    "    weights_forget_gate = tf.Variable( tf.truncated_normal( [1, configs[\"hidden_layer\"]], stddev=0.05) )\n",
    "    weights_forget_hidden = tf.Variable( tf.truncated_normal( [ configs[\"hidden_layer\"], configs[\"hidden_layer\"] ], stddev = configs[\"stddev\"] ) )\n",
    "    bias_forget = tf.Variable( tf.zeros( configs[\"hidden_layer\"] ) )\n",
    "\n",
    "    # Pesos da via de saída, camada oculta e viés\n",
    "    weights_output_gate = tf.Variable( tf.truncated_normal( [1, configs[\"hidden_layer\"]], configs[\"hidden_layer\"] ) )\n",
    "    weights_output_hidden = tf.Variable( tf.truncated_normal( [ configs[\"hidden_layer\"], configs[\"hidden_layer\"] ], stddev = configs[\"stddev\"] ) )\n",
    "    bias_output = tf.Variable( tf.zeros( configs[\"hidden_layer\"] ) )\n",
    "\n",
    "    # Pesos da célula de memória, camada oculta e viés\n",
    "    weights_memory_cell = tf.Variable( tf.truncated_normal( [1, configs[\"hidden_layer\"]], stddev=0.05 ) )\n",
    "    weights_memory_cell_hidden = tf.Variable( tf.truncated_normal( [configs[\"hidden_layer\"], configs[\"hidden_layer\"]], stddev = configs[\"stddev\"] ) )\n",
    "    bias_memory_cell = tf.Variable( tf.zeros( [configs[\"hidden_layer\"] ] ) )\n",
    "\n",
    "    # Pesos da camada de saída (e viés)\n",
    "    weights_output = tf.Variable( tf.truncated_normal( [configs[\"hidden_layer\"], 1], stddev = configs[\"stddev\"] ) )\n",
    "    bias_output_layer = tf.Variable( tf.zeros([1]) )\n",
    "\n",
    "\n",
    "    # Montando nossa célula LSTM\n",
    "    def LSTM_cell(input, output, state):\n",
    "        # Via de entrada\n",
    "        input_gate = tf.sigmoid(tf.matmul(input, weights_input_gate) + tf.matmul(output, weights_input_hidden) + bias_input)\n",
    "        \n",
    "        # Via do esquecimento\n",
    "        forget_gate = tf.sigmoid(tf.matmul(input, weights_forget_gate) + tf.matmul(output, weights_forget_hidden) + bias_forget)\n",
    "            \n",
    "        # Célula de memória\n",
    "        memory_cell = tf.tanh(tf.matmul(input, weights_memory_cell) + tf.matmul(output, weights_memory_cell_hidden) + bias_memory_cell)\n",
    "        \n",
    "        # Estado (combinação dos anteriores)\n",
    "        state = state * forget_gate + input_gate * memory_cell\n",
    "\n",
    "        # Via de saída\n",
    "        output_gate = tf.sigmoid(tf.matmul(input, weights_output_gate) + tf.matmul(output, weights_output_hidden) + bias_output)\n",
    "        \n",
    "        # Saída (aplicação de função tangente à via de saída)\n",
    "        output = output_gate * tf.tanh(state)\n",
    "        return state, output\n",
    "\n",
    "    \n",
    "    outputs = []\n",
    "    for bs in range(configs[\"batch_size\"]):\n",
    "        batch_state  = np.zeros([1, configs[\"hidden_layer\"]], dtype=np.float32)\n",
    "        batch_output = np.zeros([1, configs[\"hidden_layer\"]], dtype=np.float32)\n",
    "\n",
    "        for ws in range(configs[\"window_size\"]):\n",
    "            batch_state, batch_output = LSTM_cell( tf.reshape( inputs[bs][ws], (-1, 1) ), batch_state, batch_output )\n",
    "\n",
    "        outputs.append( tf.matmul( batch_output, weights_output ) + bias_output_layer )\n",
    "\n",
    "    # Definindo perda\n",
    "\n",
    "    losses = []\n",
    "\n",
    "    for o in range(len(outputs)):\n",
    "        losses.append( tf.losses.mean_squared_error( tf.reshape( targets[o], (-1, 1) ), outputs[o] ) )\n",
    "\n",
    "    loss = tf.reduce_mean(losses)\n",
    "\n",
    "    # Definindo o otimizador com o gradiente de clipagem (?)\n",
    "    gradients   = tf.gradients( loss, tf.trainable_variables() )\n",
    "    clipped, _  = tf.clip_by_global_norm( gradients, configs[\"clip_margin\"] )\n",
    "    optimizer   = tf.train.AdamOptimizer( configs[\"learning_rate\"] )\n",
    "    trained_opt = optimizer.apply_gradients( zip( gradients, tf.trainable_variables() ) )\n",
    "\n",
    "    session = tf.Session()\n",
    "    session.run( tf.global_variables_initializer() )\n",
    "\n",
    "    best_epochs = [10.0]\n",
    "\n",
    "    for e in range(configs[\"epochs\"]):\n",
    "        trained_scores = []\n",
    "        ee = 0\n",
    "        epoch_loss = []\n",
    "        while(ee + configs[\"batch_size\"]) <= len(X_treino): \n",
    "            X_batch = X_treino[ee:ee+configs[\"batch_size\"]]\n",
    "            y_batch = y_treino[ee:ee+configs[\"batch_size\"]]\n",
    "\n",
    "            o, c, _ = session.run( [outputs, loss, trained_opt], feed_dict={inputs:X_batch, targets: y_batch} )\n",
    "\n",
    "            epoch_loss.append(c)\n",
    "            trained_scores.append(o)\n",
    "            ee += configs[\"batch_size\"]\n",
    "\n",
    "        if(e % configs[\"epochs_print\"]) == 0:\n",
    "            if e == 0:\n",
    "                print( 'Epoch  {}/{}'.format(e, configs[\"epochs\"]), ' LOSS: {}'.format( np.mean( epoch_loss ) ) )\n",
    "            else:\n",
    "                print( 'Epoch {}/{}'.format(e, configs[\"epochs\"]), ' LOSS: {}'.format( np.mean( epoch_loss ) ) )\n",
    "    \n",
    "    loss = sum(epoch_loss)/len(epoch_loss)\n",
    "    if loss < bestCase[\"loss\"]:\n",
    "        bestCase[\"loss\"] = loss\n",
    "        global sup\n",
    "        sup = []\n",
    "        for ts in range(len(trained_scores)):\n",
    "            for tsr in range(len( trained_scores[ts] )):\n",
    "                sup.append( trained_scores[ts][tsr][0] )\n",
    "\n",
    "        tests = []\n",
    "        t = 0\n",
    "        while( t + configs[\"batch_size\"] <= len(X_teste) ):\n",
    "            o = session.run( [outputs], feed_dict = { inputs: X_teste[t:t+configs[\"batch_size\"]] } )\n",
    "            t += configs[\"batch_size\"]\n",
    "            tests.append(o)\n",
    "\n",
    "        novos_tests = []\n",
    "        for ts in range(len(tests)):\n",
    "            for tsr in range(len( tests[ts][0] )):\n",
    "                novos_tests.append( tests[ts][0][tsr] )\n",
    "\n",
    "        global resultados_tests \n",
    "        resultados_tests = []\n",
    "        for r in range(1264):\n",
    "            if r >= 1019:\n",
    "                resultados_tests.append(novos_tests[r-1019])\n",
    "            else:\n",
    "                resultados_tests.append(None)\n",
    "\n",
    "    # Retornando a média de LOSS\n",
    "    return loss\n",
    "\n",
    "study_3 = optuna.create_study(direction='minimize')\n",
    "study_3.optimize(perda3, n_trials=16)"
   ]
  },
  {
   "cell_type": "code",
   "execution_count": null,
   "metadata": {
    "id": "wQL6JaEPb0E2",
    "outputId": "a2adda29-1a1b-476c-90f9-2b38716d2c71"
   },
   "outputs": [
    {
     "name": "stderr",
     "output_type": "stream",
     "text": [
      "/home/vitor/.local/lib/python3.8/site-packages/numpy/core/_asarray.py:136: VisibleDeprecationWarning:\n",
      "\n",
      "Creating an ndarray from ragged nested sequences (which is a list-or-tuple of lists-or-tuples-or ndarrays with different lengths or shapes) is deprecated. If you meant to do this, you must specify 'dtype=object' when creating the ndarray\n",
      "\n"
     ]
    },
    {
     "data": {
      "image/png": "[encoded data removed]",
      "text/plain": [
       "<Figure size 1152x504 with 1 Axes>"
      ]
     },
     "metadata": {
      "needs_background": "light"
     },
     "output_type": "display_data"
    }
   ],
   "source": [
    "%matplotlib inline\n",
    "import matplotlib.pyplot as plt\n",
    "plt.figure(figsize=(16, 7))\n",
    "plt.title('Study 3: Last 20% data prediction using LSTM')\n",
    "plt.xlabel('Days')\n",
    "plt.ylabel('Scaled Price of Bitcoin')\n",
    "plt.plot(dados, label='Original data')\n",
    "plt.plot(dados[:int((len(dados)/5)*4)], label=\"Training data\")\n",
    "plt.plot(resultados_tests, label='Testing data')\n",
    "plt.legend()\n",
    "plt.show()"
   ]
  },
  {
   "cell_type": "code",
   "execution_count": null,
   "metadata": {
    "id": "8xpdrq0cb1z0",
    "outputId": "c3411b7a-94c3-489b-b5c9-6fbf15aed896"
   },
   "outputs": [
    {
     "data": {
      "application/vnd.plotly.v1+json": {
       "config": {
        "plotlyServerURL": "https://plot.ly"
       },
       "data": [
        {
         "mode": "markers",
         "name": "Objective Value",
         "type": "scatter",
         "x": [
          0,
          1,
          2,
          3,
          4,
          5,
          6,
          7,
          8,
          9,
          10,
          11,
          12,
          13,
          14,
          15
         ],
         "y": [
          0.00048017606419652393,
          0.0013894868760589503,
          0.0011698623783621739,
          0.0006450670262454189,
          0.0004387548195379936,
          0.0011916806593286185,
          0.0008531552140891955,
          0.00043607260116098993,
          0.002078600580459571,
          0.0016898407357718403,
          0.001072110742205919,
          0.000456215770326441,
          0.0003548882499517531,
          0.0023967705187182033,
          0.0023361934949426887,
          0.0008607498633644919
         ]
        },
        {
         "name": "Best Value",
         "type": "scatter",
         "x": [
          0,
          1,
          2,
          3,
          4,
          5,
          6,
          7,
          8,
          9,
          10,
          11,
          12,
          13,
          14,
          15
         ],
         "y": [
          0.00048017606419652393,
          0.00048017606419652393,
          0.00048017606419652393,
          0.00048017606419652393,
          0.0004387548195379936,
          0.0004387548195379936,
          0.0004387548195379936,
          0.00043607260116098993,
          0.00043607260116098993,
          0.00043607260116098993,
          0.00043607260116098993,
          0.00043607260116098993,
          0.0003548882499517531,
          0.0003548882499517531,
          0.0003548882499517531,
          0.0003548882499517531
         ]
        }
       ],
       "layout": {
        "template": {
         "data": {
          "bar": [
           {
            "error_x": {
             "color": "#2a3f5f"
            },
            "error_y": {
             "color": "#2a3f5f"
            },
            "marker": {
             "line": {
              "color": "#E5ECF6",
              "width": 0.5
             },
             "pattern": {
              "fillmode": "overlay",
              "size": 10,
              "solidity": 0.2
             }
            },
            "type": "bar"
           }
          ],
          "barpolar": [
           {
            "marker": {
             "line": {
              "color": "#E5ECF6",
              "width": 0.5
             },
             "pattern": {
              "fillmode": "overlay",
              "size": 10,
              "solidity": 0.2
             }
            },
            "type": "barpolar"
           }
          ],
          "carpet": [
           {
            "aaxis": {
             "endlinecolor": "#2a3f5f",
             "gridcolor": "white",
             "linecolor": "white",
             "minorgridcolor": "white",
             "startlinecolor": "#2a3f5f"
            },
            "baxis": {
             "endlinecolor": "#2a3f5f",
             "gridcolor": "white",
             "linecolor": "white",
             "minorgridcolor": "white",
             "startlinecolor": "#2a3f5f"
            },
            "type": "carpet"
           }
          ],
          "choropleth": [
           {
            "colorbar": {
             "outlinewidth": 0,
             "ticks": ""
            },
            "type": "choropleth"
           }
          ],
          "contour": [
           {
            "colorbar": {
             "outlinewidth": 0,
             "ticks": ""
            },
            "colorscale": [
             [
              0,
              "#0d0887"
             ],
             [
              0.1111111111111111,
              "#46039f"
             ],
             [
              0.2222222222222222,
              "#7201a8"
             ],
             [
              0.3333333333333333,
              "#9c179e"
             ],
             [
              0.4444444444444444,
              "#bd3786"
             ],
             [
              0.5555555555555556,
              "#d8576b"
             ],
             [
              0.6666666666666666,
              "#ed7953"
             ],
             [
              0.7777777777777778,
              "#fb9f3a"
             ],
             [
              0.8888888888888888,
              "#fdca26"
             ],
             [
              1,
              "#f0f921"
             ]
            ],
            "type": "contour"
           }
          ],
          "contourcarpet": [
           {
            "colorbar": {
             "outlinewidth": 0,
             "ticks": ""
            },
            "type": "contourcarpet"
           }
          ],
          "heatmap": [
           {
            "colorbar": {
             "outlinewidth": 0,
             "ticks": ""
            },
            "colorscale": [
             [
              0,
              "#0d0887"
             ],
             [
              0.1111111111111111,
              "#46039f"
             ],
             [
              0.2222222222222222,
              "#7201a8"
             ],
             [
              0.3333333333333333,
              "#9c179e"
             ],
             [
              0.4444444444444444,
              "#bd3786"
             ],
             [
              0.5555555555555556,
              "#d8576b"
             ],
             [
              0.6666666666666666,
              "#ed7953"
             ],
             [
              0.7777777777777778,
              "#fb9f3a"
             ],
             [
              0.8888888888888888,
              "#fdca26"
             ],
             [
              1,
              "#f0f921"
             ]
            ],
            "type": "heatmap"
           }
          ],
          "heatmapgl": [
           {
            "colorbar": {
             "outlinewidth": 0,
             "ticks": ""
            },
            "colorscale": [
             [
              0,
              "#0d0887"
             ],
             [
              0.1111111111111111,
              "#46039f"
             ],
             [
              0.2222222222222222,
              "#7201a8"
             ],
             [
              0.3333333333333333,
              "#9c179e"
             ],
             [
              0.4444444444444444,
              "#bd3786"
             ],
             [
              0.5555555555555556,
              "#d8576b"
             ],
             [
              0.6666666666666666,
              "#ed7953"
             ],
             [
              0.7777777777777778,
              "#fb9f3a"
             ],
             [
              0.8888888888888888,
              "#fdca26"
             ],
             [
              1,
              "#f0f921"
             ]
            ],
            "type": "heatmapgl"
           }
          ],
          "histogram": [
           {
            "marker": {
             "pattern": {
              "fillmode": "overlay",
              "size": 10,
              "solidity": 0.2
             }
            },
            "type": "histogram"
           }
          ],
          "histogram2d": [
           {
            "colorbar": {
             "outlinewidth": 0,
             "ticks": ""
            },
            "colorscale": [
             [
              0,
              "#0d0887"
             ],
             [
              0.1111111111111111,
              "#46039f"
             ],
             [
              0.2222222222222222,
              "#7201a8"
             ],
             [
              0.3333333333333333,
              "#9c179e"
             ],
             [
              0.4444444444444444,
              "#bd3786"
             ],
             [
              0.5555555555555556,
              "#d8576b"
             ],
             [
              0.6666666666666666,
              "#ed7953"
             ],
             [
              0.7777777777777778,
              "#fb9f3a"
             ],
             [
              0.8888888888888888,
              "#fdca26"
             ],
             [
              1,
              "#f0f921"
             ]
            ],
            "type": "histogram2d"
           }
          ],
          "histogram2dcontour": [
           {
            "colorbar": {
             "outlinewidth": 0,
             "ticks": ""
            },
            "colorscale": [
             [
              0,
              "#0d0887"
             ],
             [
              0.1111111111111111,
              "#46039f"
             ],
             [
              0.2222222222222222,
              "#7201a8"
             ],
             [
              0.3333333333333333,
              "#9c179e"
             ],
             [
              0.4444444444444444,
              "#bd3786"
             ],
             [
              0.5555555555555556,
              "#d8576b"
             ],
             [
              0.6666666666666666,
              "#ed7953"
             ],
             [
              0.7777777777777778,
              "#fb9f3a"
             ],
             [
              0.8888888888888888,
              "#fdca26"
             ],
             [
              1,
              "#f0f921"
             ]
            ],
            "type": "histogram2dcontour"
           }
          ],
          "mesh3d": [
           {
            "colorbar": {
             "outlinewidth": 0,
             "ticks": ""
            },
            "type": "mesh3d"
           }
          ],
          "parcoords": [
           {
            "line": {
             "colorbar": {
              "outlinewidth": 0,
              "ticks": ""
             }
            },
            "type": "parcoords"
           }
          ],
          "pie": [
           {
            "automargin": true,
            "type": "pie"
           }
          ],
          "scatter": [
           {
            "marker": {
             "colorbar": {
              "outlinewidth": 0,
              "ticks": ""
             }
            },
            "type": "scatter"
           }
          ],
          "scatter3d": [
           {
            "line": {
             "colorbar": {
              "outlinewidth": 0,
              "ticks": ""
             }
            },
            "marker": {
             "colorbar": {
              "outlinewidth": 0,
              "ticks": ""
             }
            },
            "type": "scatter3d"
           }
          ],
          "scattercarpet": [
           {
            "marker": {
             "colorbar": {
              "outlinewidth": 0,
              "ticks": ""
             }
            },
            "type": "scattercarpet"
           }
          ],
          "scattergeo": [
           {
            "marker": {
             "colorbar": {
              "outlinewidth": 0,
              "ticks": ""
             }
            },
            "type": "scattergeo"
           }
          ],
          "scattergl": [
           {
            "marker": {
             "colorbar": {
              "outlinewidth": 0,
              "ticks": ""
             }
            },
            "type": "scattergl"
           }
          ],
          "scattermapbox": [
           {
            "marker": {
             "colorbar": {
              "outlinewidth": 0,
              "ticks": ""
             }
            },
            "type": "scattermapbox"
           }
          ],
          "scatterpolar": [
           {
            "marker": {
             "colorbar": {
              "outlinewidth": 0,
              "ticks": ""
             }
            },
            "type": "scatterpolar"
           }
          ],
          "scatterpolargl": [
           {
            "marker": {
             "colorbar": {
              "outlinewidth": 0,
              "ticks": ""
             }
            },
            "type": "scatterpolargl"
           }
          ],
          "scatterternary": [
           {
            "marker": {
             "colorbar": {
              "outlinewidth": 0,
              "ticks": ""
             }
            },
            "type": "scatterternary"
           }
          ],
          "surface": [
           {
            "colorbar": {
             "outlinewidth": 0,
             "ticks": ""
            },
            "colorscale": [
             [
              0,
              "#0d0887"
             ],
             [
              0.1111111111111111,
              "#46039f"
             ],
             [
              0.2222222222222222,
              "#7201a8"
             ],
             [
              0.3333333333333333,
              "#9c179e"
             ],
             [
              0.4444444444444444,
              "#bd3786"
             ],
             [
              0.5555555555555556,
              "#d8576b"
             ],
             [
              0.6666666666666666,
              "#ed7953"
             ],
             [
              0.7777777777777778,
              "#fb9f3a"
             ],
             [
              0.8888888888888888,
              "#fdca26"
             ],
             [
              1,
              "#f0f921"
             ]
            ],
            "type": "surface"
           }
          ],
          "table": [
           {
            "cells": {
             "fill": {
              "color": "#EBF0F8"
             },
             "line": {
              "color": "white"
             }
            },
            "header": {
             "fill": {
              "color": "#C8D4E3"
             },
             "line": {
              "color": "white"
             }
            },
            "type": "table"
           }
          ]
         },
         "layout": {
          "annotationdefaults": {
           "arrowcolor": "#2a3f5f",
           "arrowhead": 0,
           "arrowwidth": 1
          },
          "autotypenumbers": "strict",
          "coloraxis": {
           "colorbar": {
            "outlinewidth": 0,
            "ticks": ""
           }
          },
          "colorscale": {
           "diverging": [
            [
             0,
             "#8e0152"
            ],
            [
             0.1,
             "#c51b7d"
            ],
            [
             0.2,
             "#de77ae"
            ],
            [
             0.3,
             "#f1b6da"
            ],
            [
             0.4,
             "#fde0ef"
            ],
            [
             0.5,
             "#f7f7f7"
            ],
            [
             0.6,
             "#e6f5d0"
            ],
            [
             0.7,
             "#b8e186"
            ],
            [
             0.8,
             "#7fbc41"
            ],
            [
             0.9,
             "#4d9221"
            ],
            [
             1,
             "#276419"
            ]
           ],
           "sequential": [
            [
             0,
             "#0d0887"
            ],
            [
             0.1111111111111111,
             "#46039f"
            ],
            [
             0.2222222222222222,
             "#7201a8"
            ],
            [
             0.3333333333333333,
             "#9c179e"
            ],
            [
             0.4444444444444444,
             "#bd3786"
            ],
            [
             0.5555555555555556,
             "#d8576b"
            ],
            [
             0.6666666666666666,
             "#ed7953"
            ],
            [
             0.7777777777777778,
             "#fb9f3a"
            ],
            [
             0.8888888888888888,
             "#fdca26"
            ],
            [
             1,
             "#f0f921"
            ]
           ],
           "sequentialminus": [
            [
             0,
             "#0d0887"
            ],
            [
             0.1111111111111111,
             "#46039f"
            ],
            [
             0.2222222222222222,
             "#7201a8"
            ],
            [
             0.3333333333333333,
             "#9c179e"
            ],
            [
             0.4444444444444444,
             "#bd3786"
            ],
            [
             0.5555555555555556,
             "#d8576b"
            ],
            [
             0.6666666666666666,
             "#ed7953"
            ],
            [
             0.7777777777777778,
             "#fb9f3a"
            ],
            [
             0.8888888888888888,
             "#fdca26"
            ],
            [
             1,
             "#f0f921"
            ]
           ]
          },
          "colorway": [
           "#636efa",
           "#EF553B",
           "#00cc96",
           "#ab63fa",
           "#FFA15A",
           "#19d3f3",
           "#FF6692",
           "#B6E880",
           "#FF97FF",
           "#FECB52"
          ],
          "font": {
           "color": "#2a3f5f"
          },
          "geo": {
           "bgcolor": "white",
           "lakecolor": "white",
           "landcolor": "#E5ECF6",
           "showlakes": true,
           "showland": true,
           "subunitcolor": "white"
          },
          "hoverlabel": {
           "align": "left"
          },
          "hovermode": "closest",
          "mapbox": {
           "style": "light"
          },
          "paper_bgcolor": "white",
          "plot_bgcolor": "#E5ECF6",
          "polar": {
           "angularaxis": {
            "gridcolor": "white",
            "linecolor": "white",
            "ticks": ""
           },
           "bgcolor": "#E5ECF6",
           "radialaxis": {
            "gridcolor": "white",
            "linecolor": "white",
            "ticks": ""
           }
          },
          "scene": {
           "xaxis": {
            "backgroundcolor": "#E5ECF6",
            "gridcolor": "white",
            "gridwidth": 2,
            "linecolor": "white",
            "showbackground": true,
            "ticks": "",
            "zerolinecolor": "white"
           },
           "yaxis": {
            "backgroundcolor": "#E5ECF6",
            "gridcolor": "white",
            "gridwidth": 2,
            "linecolor": "white",
            "showbackground": true,
            "ticks": "",
            "zerolinecolor": "white"
           },
           "zaxis": {
            "backgroundcolor": "#E5ECF6",
            "gridcolor": "white",
            "gridwidth": 2,
            "linecolor": "white",
            "showbackground": true,
            "ticks": "",
            "zerolinecolor": "white"
           }
          },
          "shapedefaults": {
           "line": {
            "color": "#2a3f5f"
           }
          },
          "ternary": {
           "aaxis": {
            "gridcolor": "white",
            "linecolor": "white",
            "ticks": ""
           },
           "baxis": {
            "gridcolor": "white",
            "linecolor": "white",
            "ticks": ""
           },
           "bgcolor": "#E5ECF6",
           "caxis": {
            "gridcolor": "white",
            "linecolor": "white",
            "ticks": ""
           }
          },
          "title": {
           "x": 0.05
          },
          "xaxis": {
           "automargin": true,
           "gridcolor": "white",
           "linecolor": "white",
           "ticks": "",
           "title": {
            "standoff": 15
           },
           "zerolinecolor": "white",
           "zerolinewidth": 2
          },
          "yaxis": {
           "automargin": true,
           "gridcolor": "white",
           "linecolor": "white",
           "ticks": "",
           "title": {
            "standoff": 15
           },
           "zerolinecolor": "white",
           "zerolinewidth": 2
          }
         }
        },
        "title": {
         "text": "Optimization History Plot"
        },
        "xaxis": {
         "title": {
          "text": "#Trials"
         }
        },
        "yaxis": {
         "title": {
          "text": "Objective Value"
         }
        }
       }
      }
     },
     "metadata": {},
     "output_type": "display_data"
    }
   ],
   "source": [
    "optuna.visualization.plot_optimization_history(study_3)"
   ]
  },
  {
   "cell_type": "code",
   "execution_count": null,
   "metadata": {
    "id": "acLJgVhtb3X_",
    "outputId": "9409dcb8-3d2d-4cdf-982e-4774c244dfdc"
   },
   "outputs": [
    {
     "data": {
      "application/vnd.plotly.v1+json": {
       "config": {
        "plotlyServerURL": "https://plot.ly"
       },
       "data": [
        {
         "marker": {
          "color": [
           0,
           1,
           2,
           3,
           4,
           5,
           6,
           7,
           8,
           9,
           10,
           11,
           12,
           13,
           14,
           15
          ],
          "colorbar": {
           "title": {
            "text": "#Trials"
           },
           "x": 1,
           "xpad": 40
          },
          "colorscale": [
           [
            0,
            "rgb(247,251,255)"
           ],
           [
            0.125,
            "rgb(222,235,247)"
           ],
           [
            0.25,
            "rgb(198,219,239)"
           ],
           [
            0.375,
            "rgb(158,202,225)"
           ],
           [
            0.5,
            "rgb(107,174,214)"
           ],
           [
            0.625,
            "rgb(66,146,198)"
           ],
           [
            0.75,
            "rgb(33,113,181)"
           ],
           [
            0.875,
            "rgb(8,81,156)"
           ],
           [
            1,
            "rgb(8,48,107)"
           ]
          ],
          "line": {
           "color": "Grey",
           "width": 0.5
          },
          "showscale": true
         },
         "mode": "markers",
         "showlegend": false,
         "type": "scatter",
         "x": [
          22,
          16,
          26,
          19,
          22,
          31,
          27,
          27,
          27,
          21,
          31,
          24,
          29,
          29,
          29,
          32
         ],
         "xaxis": "x",
         "y": [
          0.00048017606419652393,
          0.0013894868760589503,
          0.0011698623783621739,
          0.0006450670262454189,
          0.0004387548195379936,
          0.0011916806593286185,
          0.0008531552140891955,
          0.00043607260116098993,
          0.002078600580459571,
          0.0016898407357718403,
          0.001072110742205919,
          0.000456215770326441,
          0.0003548882499517531,
          0.0023967705187182033,
          0.0023361934949426887,
          0.0008607498633644919
         ],
         "yaxis": "y"
        },
        {
         "marker": {
          "color": [
           0,
           1,
           2,
           3,
           4,
           5,
           6,
           7,
           8,
           9,
           10,
           11,
           12,
           13,
           14,
           15
          ],
          "colorbar": {
           "title": {
            "text": "#Trials"
           },
           "x": 1,
           "xpad": 40
          },
          "colorscale": [
           [
            0,
            "rgb(247,251,255)"
           ],
           [
            0.125,
            "rgb(222,235,247)"
           ],
           [
            0.25,
            "rgb(198,219,239)"
           ],
           [
            0.375,
            "rgb(158,202,225)"
           ],
           [
            0.5,
            "rgb(107,174,214)"
           ],
           [
            0.625,
            "rgb(66,146,198)"
           ],
           [
            0.75,
            "rgb(33,113,181)"
           ],
           [
            0.875,
            "rgb(8,81,156)"
           ],
           [
            1,
            "rgb(8,48,107)"
           ]
          ],
          "line": {
           "color": "Grey",
           "width": 0.5
          },
          "showscale": false
         },
         "mode": "markers",
         "showlegend": false,
         "type": "scatter",
         "x": [
          30,
          20,
          11,
          14,
          31,
          18,
          23,
          8,
          24,
          23,
          8,
          32,
          28,
          26,
          27,
          14
         ],
         "xaxis": "x2",
         "y": [
          0.00048017606419652393,
          0.0013894868760589503,
          0.0011698623783621739,
          0.0006450670262454189,
          0.0004387548195379936,
          0.0011916806593286185,
          0.0008531552140891955,
          0.00043607260116098993,
          0.002078600580459571,
          0.0016898407357718403,
          0.001072110742205919,
          0.000456215770326441,
          0.0003548882499517531,
          0.0023967705187182033,
          0.0023361934949426887,
          0.0008607498633644919
         ],
         "yaxis": "y2"
        },
        {
         "marker": {
          "color": [
           0,
           1,
           2,
           3,
           4,
           5,
           6,
           7,
           8,
           9,
           10,
           11,
           12,
           13,
           14,
           15
          ],
          "colorbar": {
           "title": {
            "text": "#Trials"
           },
           "x": 1,
           "xpad": 40
          },
          "colorscale": [
           [
            0,
            "rgb(247,251,255)"
           ],
           [
            0.125,
            "rgb(222,235,247)"
           ],
           [
            0.25,
            "rgb(198,219,239)"
           ],
           [
            0.375,
            "rgb(158,202,225)"
           ],
           [
            0.5,
            "rgb(107,174,214)"
           ],
           [
            0.625,
            "rgb(66,146,198)"
           ],
           [
            0.75,
            "rgb(33,113,181)"
           ],
           [
            0.875,
            "rgb(8,81,156)"
           ],
           [
            1,
            "rgb(8,48,107)"
           ]
          ],
          "line": {
           "color": "Grey",
           "width": 0.5
          },
          "showscale": false
         },
         "mode": "markers",
         "showlegend": false,
         "type": "scatter",
         "x": [
          0.0037347286149582125,
          0.002206639599309111,
          0.004227672658599115,
          0.003377067548621225,
          0.0011244264980527455,
          0.003329377747437302,
          0.0030071545557830153,
          0.001231174400482109,
          0.0026469178069660902,
          0.003122987425426211,
          0.0012914884095612668,
          0.0010899252712851255,
          0.0017920075740621118,
          0.0018417951021639603,
          0.0018183981182289845,
          0.0016600287562503746
         ],
         "xaxis": "x3",
         "y": [
          0.00048017606419652393,
          0.0013894868760589503,
          0.0011698623783621739,
          0.0006450670262454189,
          0.0004387548195379936,
          0.0011916806593286185,
          0.0008531552140891955,
          0.00043607260116098993,
          0.002078600580459571,
          0.0016898407357718403,
          0.001072110742205919,
          0.000456215770326441,
          0.0003548882499517531,
          0.0023967705187182033,
          0.0023361934949426887,
          0.0008607498633644919
         ],
         "yaxis": "y3"
        },
        {
         "marker": {
          "color": [
           0,
           1,
           2,
           3,
           4,
           5,
           6,
           7,
           8,
           9,
           10,
           11,
           12,
           13,
           14,
           15
          ],
          "colorbar": {
           "title": {
            "text": "#Trials"
           },
           "x": 1,
           "xpad": 40
          },
          "colorscale": [
           [
            0,
            "rgb(247,251,255)"
           ],
           [
            0.125,
            "rgb(222,235,247)"
           ],
           [
            0.25,
            "rgb(198,219,239)"
           ],
           [
            0.375,
            "rgb(158,202,225)"
           ],
           [
            0.5,
            "rgb(107,174,214)"
           ],
           [
            0.625,
            "rgb(66,146,198)"
           ],
           [
            0.75,
            "rgb(33,113,181)"
           ],
           [
            0.875,
            "rgb(8,81,156)"
           ],
           [
            1,
            "rgb(8,48,107)"
           ]
          ],
          "line": {
           "color": "Grey",
           "width": 0.5
          },
          "showscale": false
         },
         "mode": "markers",
         "showlegend": false,
         "type": "scatter",
         "x": [
          0.10553049163883402,
          0.13337702038120913,
          0.05890245612756484,
          0.07679359438819774,
          0.07698484217075284,
          0.10821253658754612,
          0.054742582731521654,
          0.14094330501950722,
          0.06063117870609974,
          0.06153782807391946,
          0.1484905195053996,
          0.0853726522904534,
          0.12802238957680404,
          0.12806204320697395,
          0.14930431145435258,
          0.1261890471167614
         ],
         "xaxis": "x4",
         "y": [
          0.00048017606419652393,
          0.0013894868760589503,
          0.0011698623783621739,
          0.0006450670262454189,
          0.0004387548195379936,
          0.0011916806593286185,
          0.0008531552140891955,
          0.00043607260116098993,
          0.002078600580459571,
          0.0016898407357718403,
          0.001072110742205919,
          0.000456215770326441,
          0.0003548882499517531,
          0.0023967705187182033,
          0.0023361934949426887,
          0.0008607498633644919
         ],
         "yaxis": "y4"
        }
       ],
       "layout": {
        "template": {
         "data": {
          "bar": [
           {
            "error_x": {
             "color": "#2a3f5f"
            },
            "error_y": {
             "color": "#2a3f5f"
            },
            "marker": {
             "line": {
              "color": "#E5ECF6",
              "width": 0.5
             },
             "pattern": {
              "fillmode": "overlay",
              "size": 10,
              "solidity": 0.2
             }
            },
            "type": "bar"
           }
          ],
          "barpolar": [
           {
            "marker": {
             "line": {
              "color": "#E5ECF6",
              "width": 0.5
             },
             "pattern": {
              "fillmode": "overlay",
              "size": 10,
              "solidity": 0.2
             }
            },
            "type": "barpolar"
           }
          ],
          "carpet": [
           {
            "aaxis": {
             "endlinecolor": "#2a3f5f",
             "gridcolor": "white",
             "linecolor": "white",
             "minorgridcolor": "white",
             "startlinecolor": "#2a3f5f"
            },
            "baxis": {
             "endlinecolor": "#2a3f5f",
             "gridcolor": "white",
             "linecolor": "white",
             "minorgridcolor": "white",
             "startlinecolor": "#2a3f5f"
            },
            "type": "carpet"
           }
          ],
          "choropleth": [
           {
            "colorbar": {
             "outlinewidth": 0,
             "ticks": ""
            },
            "type": "choropleth"
           }
          ],
          "contour": [
           {
            "colorbar": {
             "outlinewidth": 0,
             "ticks": ""
            },
            "colorscale": [
             [
              0,
              "#0d0887"
             ],
             [
              0.1111111111111111,
              "#46039f"
             ],
             [
              0.2222222222222222,
              "#7201a8"
             ],
             [
              0.3333333333333333,
              "#9c179e"
             ],
             [
              0.4444444444444444,
              "#bd3786"
             ],
             [
              0.5555555555555556,
              "#d8576b"
             ],
             [
              0.6666666666666666,
              "#ed7953"
             ],
             [
              0.7777777777777778,
              "#fb9f3a"
             ],
             [
              0.8888888888888888,
              "#fdca26"
             ],
             [
              1,
              "#f0f921"
             ]
            ],
            "type": "contour"
           }
          ],
          "contourcarpet": [
           {
            "colorbar": {
             "outlinewidth": 0,
             "ticks": ""
            },
            "type": "contourcarpet"
           }
          ],
          "heatmap": [
           {
            "colorbar": {
             "outlinewidth": 0,
             "ticks": ""
            },
            "colorscale": [
             [
              0,
              "#0d0887"
             ],
             [
              0.1111111111111111,
              "#46039f"
             ],
             [
              0.2222222222222222,
              "#7201a8"
             ],
             [
              0.3333333333333333,
              "#9c179e"
             ],
             [
              0.4444444444444444,
              "#bd3786"
             ],
             [
              0.5555555555555556,
              "#d8576b"
             ],
             [
              0.6666666666666666,
              "#ed7953"
             ],
             [
              0.7777777777777778,
              "#fb9f3a"
             ],
             [
              0.8888888888888888,
              "#fdca26"
             ],
             [
              1,
              "#f0f921"
             ]
            ],
            "type": "heatmap"
           }
          ],
          "heatmapgl": [
           {
            "colorbar": {
             "outlinewidth": 0,
             "ticks": ""
            },
            "colorscale": [
             [
              0,
              "#0d0887"
             ],
             [
              0.1111111111111111,
              "#46039f"
             ],
             [
              0.2222222222222222,
              "#7201a8"
             ],
             [
              0.3333333333333333,
              "#9c179e"
             ],
             [
              0.4444444444444444,
              "#bd3786"
             ],
             [
              0.5555555555555556,
              "#d8576b"
             ],
             [
              0.6666666666666666,
              "#ed7953"
             ],
             [
              0.7777777777777778,
              "#fb9f3a"
             ],
             [
              0.8888888888888888,
              "#fdca26"
             ],
             [
              1,
              "#f0f921"
             ]
            ],
            "type": "heatmapgl"
           }
          ],
          "histogram": [
           {
            "marker": {
             "pattern": {
              "fillmode": "overlay",
              "size": 10,
              "solidity": 0.2
             }
            },
            "type": "histogram"
           }
          ],
          "histogram2d": [
           {
            "colorbar": {
             "outlinewidth": 0,
             "ticks": ""
            },
            "colorscale": [
             [
              0,
              "#0d0887"
             ],
             [
              0.1111111111111111,
              "#46039f"
             ],
             [
              0.2222222222222222,
              "#7201a8"
             ],
             [
              0.3333333333333333,
              "#9c179e"
             ],
             [
              0.4444444444444444,
              "#bd3786"
             ],
             [
              0.5555555555555556,
              "#d8576b"
             ],
             [
              0.6666666666666666,
              "#ed7953"
             ],
             [
              0.7777777777777778,
              "#fb9f3a"
             ],
             [
              0.8888888888888888,
              "#fdca26"
             ],
             [
              1,
              "#f0f921"
             ]
            ],
            "type": "histogram2d"
           }
          ],
          "histogram2dcontour": [
           {
            "colorbar": {
             "outlinewidth": 0,
             "ticks": ""
            },
            "colorscale": [
             [
              0,
              "#0d0887"
             ],
             [
              0.1111111111111111,
              "#46039f"
             ],
             [
              0.2222222222222222,
              "#7201a8"
             ],
             [
              0.3333333333333333,
              "#9c179e"
             ],
             [
              0.4444444444444444,
              "#bd3786"
             ],
             [
              0.5555555555555556,
              "#d8576b"
             ],
             [
              0.6666666666666666,
              "#ed7953"
             ],
             [
              0.7777777777777778,
              "#fb9f3a"
             ],
             [
              0.8888888888888888,
              "#fdca26"
             ],
             [
              1,
              "#f0f921"
             ]
            ],
            "type": "histogram2dcontour"
           }
          ],
          "mesh3d": [
           {
            "colorbar": {
             "outlinewidth": 0,
             "ticks": ""
            },
            "type": "mesh3d"
           }
          ],
          "parcoords": [
           {
            "line": {
             "colorbar": {
              "outlinewidth": 0,
              "ticks": ""
             }
            },
            "type": "parcoords"
           }
          ],
          "pie": [
           {
            "automargin": true,
            "type": "pie"
           }
          ],
          "scatter": [
           {
            "marker": {
             "colorbar": {
              "outlinewidth": 0,
              "ticks": ""
             }
            },
            "type": "scatter"
           }
          ],
          "scatter3d": [
           {
            "line": {
             "colorbar": {
              "outlinewidth": 0,
              "ticks": ""
             }
            },
            "marker": {
             "colorbar": {
              "outlinewidth": 0,
              "ticks": ""
             }
            },
            "type": "scatter3d"
           }
          ],
          "scattercarpet": [
           {
            "marker": {
             "colorbar": {
              "outlinewidth": 0,
              "ticks": ""
             }
            },
            "type": "scattercarpet"
           }
          ],
          "scattergeo": [
           {
            "marker": {
             "colorbar": {
              "outlinewidth": 0,
              "ticks": ""
             }
            },
            "type": "scattergeo"
           }
          ],
          "scattergl": [
           {
            "marker": {
             "colorbar": {
              "outlinewidth": 0,
              "ticks": ""
             }
            },
            "type": "scattergl"
           }
          ],
          "scattermapbox": [
           {
            "marker": {
             "colorbar": {
              "outlinewidth": 0,
              "ticks": ""
             }
            },
            "type": "scattermapbox"
           }
          ],
          "scatterpolar": [
           {
            "marker": {
             "colorbar": {
              "outlinewidth": 0,
              "ticks": ""
             }
            },
            "type": "scatterpolar"
           }
          ],
          "scatterpolargl": [
           {
            "marker": {
             "colorbar": {
              "outlinewidth": 0,
              "ticks": ""
             }
            },
            "type": "scatterpolargl"
           }
          ],
          "scatterternary": [
           {
            "marker": {
             "colorbar": {
              "outlinewidth": 0,
              "ticks": ""
             }
            },
            "type": "scatterternary"
           }
          ],
          "surface": [
           {
            "colorbar": {
             "outlinewidth": 0,
             "ticks": ""
            },
            "colorscale": [
             [
              0,
              "#0d0887"
             ],
             [
              0.1111111111111111,
              "#46039f"
             ],
             [
              0.2222222222222222,
              "#7201a8"
             ],
             [
              0.3333333333333333,
              "#9c179e"
             ],
             [
              0.4444444444444444,
              "#bd3786"
             ],
             [
              0.5555555555555556,
              "#d8576b"
             ],
             [
              0.6666666666666666,
              "#ed7953"
             ],
             [
              0.7777777777777778,
              "#fb9f3a"
             ],
             [
              0.8888888888888888,
              "#fdca26"
             ],
             [
              1,
              "#f0f921"
             ]
            ],
            "type": "surface"
           }
          ],
          "table": [
           {
            "cells": {
             "fill": {
              "color": "#EBF0F8"
             },
             "line": {
              "color": "white"
             }
            },
            "header": {
             "fill": {
              "color": "#C8D4E3"
             },
             "line": {
              "color": "white"
             }
            },
            "type": "table"
           }
          ]
         },
         "layout": {
          "annotationdefaults": {
           "arrowcolor": "#2a3f5f",
           "arrowhead": 0,
           "arrowwidth": 1
          },
          "autotypenumbers": "strict",
          "coloraxis": {
           "colorbar": {
            "outlinewidth": 0,
            "ticks": ""
           }
          },
          "colorscale": {
           "diverging": [
            [
             0,
             "#8e0152"
            ],
            [
             0.1,
             "#c51b7d"
            ],
            [
             0.2,
             "#de77ae"
            ],
            [
             0.3,
             "#f1b6da"
            ],
            [
             0.4,
             "#fde0ef"
            ],
            [
             0.5,
             "#f7f7f7"
            ],
            [
             0.6,
             "#e6f5d0"
            ],
            [
             0.7,
             "#b8e186"
            ],
            [
             0.8,
             "#7fbc41"
            ],
            [
             0.9,
             "#4d9221"
            ],
            [
             1,
             "#276419"
            ]
           ],
           "sequential": [
            [
             0,
             "#0d0887"
            ],
            [
             0.1111111111111111,
             "#46039f"
            ],
            [
             0.2222222222222222,
             "#7201a8"
            ],
            [
             0.3333333333333333,
             "#9c179e"
            ],
            [
             0.4444444444444444,
             "#bd3786"
            ],
            [
             0.5555555555555556,
             "#d8576b"
            ],
            [
             0.6666666666666666,
             "#ed7953"
            ],
            [
             0.7777777777777778,
             "#fb9f3a"
            ],
            [
             0.8888888888888888,
             "#fdca26"
            ],
            [
             1,
             "#f0f921"
            ]
           ],
           "sequentialminus": [
            [
             0,
             "#0d0887"
            ],
            [
             0.1111111111111111,
             "#46039f"
            ],
            [
             0.2222222222222222,
             "#7201a8"
            ],
            [
             0.3333333333333333,
             "#9c179e"
            ],
            [
             0.4444444444444444,
             "#bd3786"
            ],
            [
             0.5555555555555556,
             "#d8576b"
            ],
            [
             0.6666666666666666,
             "#ed7953"
            ],
            [
             0.7777777777777778,
             "#fb9f3a"
            ],
            [
             0.8888888888888888,
             "#fdca26"
            ],
            [
             1,
             "#f0f921"
            ]
           ]
          },
          "colorway": [
           "#636efa",
           "#EF553B",
           "#00cc96",
           "#ab63fa",
           "#FFA15A",
           "#19d3f3",
           "#FF6692",
           "#B6E880",
           "#FF97FF",
           "#FECB52"
          ],
          "font": {
           "color": "#2a3f5f"
          },
          "geo": {
           "bgcolor": "white",
           "lakecolor": "white",
           "landcolor": "#E5ECF6",
           "showlakes": true,
           "showland": true,
           "subunitcolor": "white"
          },
          "hoverlabel": {
           "align": "left"
          },
          "hovermode": "closest",
          "mapbox": {
           "style": "light"
          },
          "paper_bgcolor": "white",
          "plot_bgcolor": "#E5ECF6",
          "polar": {
           "angularaxis": {
            "gridcolor": "white",
            "linecolor": "white",
            "ticks": ""
           },
           "bgcolor": "#E5ECF6",
           "radialaxis": {
            "gridcolor": "white",
            "linecolor": "white",
            "ticks": ""
           }
          },
          "scene": {
           "xaxis": {
            "backgroundcolor": "#E5ECF6",
            "gridcolor": "white",
            "gridwidth": 2,
            "linecolor": "white",
            "showbackground": true,
            "ticks": "",
            "zerolinecolor": "white"
           },
           "yaxis": {
            "backgroundcolor": "#E5ECF6",
            "gridcolor": "white",
            "gridwidth": 2,
            "linecolor": "white",
            "showbackground": true,
            "ticks": "",
            "zerolinecolor": "white"
           },
           "zaxis": {
            "backgroundcolor": "#E5ECF6",
            "gridcolor": "white",
            "gridwidth": 2,
            "linecolor": "white",
            "showbackground": true,
            "ticks": "",
            "zerolinecolor": "white"
           }
          },
          "shapedefaults": {
           "line": {
            "color": "#2a3f5f"
           }
          },
          "ternary": {
           "aaxis": {
            "gridcolor": "white",
            "linecolor": "white",
            "ticks": ""
           },
           "baxis": {
            "gridcolor": "white",
            "linecolor": "white",
            "ticks": ""
           },
           "bgcolor": "#E5ECF6",
           "caxis": {
            "gridcolor": "white",
            "linecolor": "white",
            "ticks": ""
           }
          },
          "title": {
           "x": 0.05
          },
          "xaxis": {
           "automargin": true,
           "gridcolor": "white",
           "linecolor": "white",
           "ticks": "",
           "title": {
            "standoff": 15
           },
           "zerolinecolor": "white",
           "zerolinewidth": 2
          },
          "yaxis": {
           "automargin": true,
           "gridcolor": "white",
           "linecolor": "white",
           "ticks": "",
           "title": {
            "standoff": 15
           },
           "zerolinecolor": "white",
           "zerolinewidth": 2
          }
         }
        },
        "title": {
         "text": "Slice Plot"
        },
        "width": 1200,
        "xaxis": {
         "anchor": "y",
         "domain": [
          0,
          0.2125
         ],
         "title": {
          "text": "clip_margin"
         }
        },
        "xaxis2": {
         "anchor": "y2",
         "domain": [
          0.2625,
          0.475
         ],
         "title": {
          "text": "hidden_layer"
         }
        },
        "xaxis3": {
         "anchor": "y3",
         "domain": [
          0.525,
          0.7375
         ],
         "title": {
          "text": "learning_rate"
         }
        },
        "xaxis4": {
         "anchor": "y4",
         "domain": [
          0.7875,
          1
         ],
         "title": {
          "text": "stddev"
         }
        },
        "yaxis": {
         "anchor": "x",
         "domain": [
          0,
          1
         ],
         "title": {
          "text": "Objective Value"
         }
        },
        "yaxis2": {
         "anchor": "x2",
         "domain": [
          0,
          1
         ],
         "matches": "y",
         "showticklabels": false
        },
        "yaxis3": {
         "anchor": "x3",
         "domain": [
          0,
          1
         ],
         "matches": "y",
         "showticklabels": false
        },
        "yaxis4": {
         "anchor": "x4",
         "domain": [
          0,
          1
         ],
         "matches": "y",
         "showticklabels": false
        }
       }
      }
     },
     "metadata": {},
     "output_type": "display_data"
    }
   ],
   "source": [
    "optuna.visualization.plot_slice(study_3)"
   ]
  },
  {
   "cell_type": "code",
   "execution_count": null,
   "metadata": {
    "id": "MzAEfamSWJCF",
    "outputId": "0bf90f44-95b9-4ce3-c82b-3310182a0b7b"
   },
   "outputs": [
    {
     "data": {
      "application/vnd.plotly.v1+json": {
       "config": {
        "plotlyServerURL": "https://plot.ly"
       },
       "data": [
        {
         "cliponaxis": false,
         "hovertemplate": [
          "clip_margin (IntUniformDistribution): 0.11294769660968174<extra></extra>",
          "stddev (UniformDistribution): 0.2500839642667676<extra></extra>",
          "learning_rate (UniformDistribution): 0.26709902059431845<extra></extra>",
          "hidden_layer (IntUniformDistribution): 0.3698693185292321<extra></extra>"
         ],
         "marker": {
          "color": [
           "rgb(8,81,156)",
           "rgb(8,48,107)",
           "rgb(8,48,107)",
           "rgb(8,81,156)"
          ]
         },
         "orientation": "h",
         "text": [
          "0.11294769660968174",
          "0.2500839642667676",
          "0.26709902059431845",
          "0.3698693185292321"
         ],
         "textposition": "outside",
         "texttemplate": "%{text:.2f}",
         "type": "bar",
         "x": [
          0.11294769660968174,
          0.2500839642667676,
          0.26709902059431845,
          0.3698693185292321
         ],
         "y": [
          "clip_margin",
          "stddev",
          "learning_rate",
          "hidden_layer"
         ]
        }
       ],
       "layout": {
        "showlegend": false,
        "template": {
         "data": {
          "bar": [
           {
            "error_x": {
             "color": "#2a3f5f"
            },
            "error_y": {
             "color": "#2a3f5f"
            },
            "marker": {
             "line": {
              "color": "#E5ECF6",
              "width": 0.5
             },
             "pattern": {
              "fillmode": "overlay",
              "size": 10,
              "solidity": 0.2
             }
            },
            "type": "bar"
           }
          ],
          "barpolar": [
           {
            "marker": {
             "line": {
              "color": "#E5ECF6",
              "width": 0.5
             },
             "pattern": {
              "fillmode": "overlay",
              "size": 10,
              "solidity": 0.2
             }
            },
            "type": "barpolar"
           }
          ],
          "carpet": [
           {
            "aaxis": {
             "endlinecolor": "#2a3f5f",
             "gridcolor": "white",
             "linecolor": "white",
             "minorgridcolor": "white",
             "startlinecolor": "#2a3f5f"
            },
            "baxis": {
             "endlinecolor": "#2a3f5f",
             "gridcolor": "white",
             "linecolor": "white",
             "minorgridcolor": "white",
             "startlinecolor": "#2a3f5f"
            },
            "type": "carpet"
           }
          ],
          "choropleth": [
           {
            "colorbar": {
             "outlinewidth": 0,
             "ticks": ""
            },
            "type": "choropleth"
           }
          ],
          "contour": [
           {
            "colorbar": {
             "outlinewidth": 0,
             "ticks": ""
            },
            "colorscale": [
             [
              0,
              "#0d0887"
             ],
             [
              0.1111111111111111,
              "#46039f"
             ],
             [
              0.2222222222222222,
              "#7201a8"
             ],
             [
              0.3333333333333333,
              "#9c179e"
             ],
             [
              0.4444444444444444,
              "#bd3786"
             ],
             [
              0.5555555555555556,
              "#d8576b"
             ],
             [
              0.6666666666666666,
              "#ed7953"
             ],
             [
              0.7777777777777778,
              "#fb9f3a"
             ],
             [
              0.8888888888888888,
              "#fdca26"
             ],
             [
              1,
              "#f0f921"
             ]
            ],
            "type": "contour"
           }
          ],
          "contourcarpet": [
           {
            "colorbar": {
             "outlinewidth": 0,
             "ticks": ""
            },
            "type": "contourcarpet"
           }
          ],
          "heatmap": [
           {
            "colorbar": {
             "outlinewidth": 0,
             "ticks": ""
            },
            "colorscale": [
             [
              0,
              "#0d0887"
             ],
             [
              0.1111111111111111,
              "#46039f"
             ],
             [
              0.2222222222222222,
              "#7201a8"
             ],
             [
              0.3333333333333333,
              "#9c179e"
             ],
             [
              0.4444444444444444,
              "#bd3786"
             ],
             [
              0.5555555555555556,
              "#d8576b"
             ],
             [
              0.6666666666666666,
              "#ed7953"
             ],
             [
              0.7777777777777778,
              "#fb9f3a"
             ],
             [
              0.8888888888888888,
              "#fdca26"
             ],
             [
              1,
              "#f0f921"
             ]
            ],
            "type": "heatmap"
           }
          ],
          "heatmapgl": [
           {
            "colorbar": {
             "outlinewidth": 0,
             "ticks": ""
            },
            "colorscale": [
             [
              0,
              "#0d0887"
             ],
             [
              0.1111111111111111,
              "#46039f"
             ],
             [
              0.2222222222222222,
              "#7201a8"
             ],
             [
              0.3333333333333333,
              "#9c179e"
             ],
             [
              0.4444444444444444,
              "#bd3786"
             ],
             [
              0.5555555555555556,
              "#d8576b"
             ],
             [
              0.6666666666666666,
              "#ed7953"
             ],
             [
              0.7777777777777778,
              "#fb9f3a"
             ],
             [
              0.8888888888888888,
              "#fdca26"
             ],
             [
              1,
              "#f0f921"
             ]
            ],
            "type": "heatmapgl"
           }
          ],
          "histogram": [
           {
            "marker": {
             "pattern": {
              "fillmode": "overlay",
              "size": 10,
              "solidity": 0.2
             }
            },
            "type": "histogram"
           }
          ],
          "histogram2d": [
           {
            "colorbar": {
             "outlinewidth": 0,
             "ticks": ""
            },
            "colorscale": [
             [
              0,
              "#0d0887"
             ],
             [
              0.1111111111111111,
              "#46039f"
             ],
             [
              0.2222222222222222,
              "#7201a8"
             ],
             [
              0.3333333333333333,
              "#9c179e"
             ],
             [
              0.4444444444444444,
              "#bd3786"
             ],
             [
              0.5555555555555556,
              "#d8576b"
             ],
             [
              0.6666666666666666,
              "#ed7953"
             ],
             [
              0.7777777777777778,
              "#fb9f3a"
             ],
             [
              0.8888888888888888,
              "#fdca26"
             ],
             [
              1,
              "#f0f921"
             ]
            ],
            "type": "histogram2d"
           }
          ],
          "histogram2dcontour": [
           {
            "colorbar": {
             "outlinewidth": 0,
             "ticks": ""
            },
            "colorscale": [
             [
              0,
              "#0d0887"
             ],
             [
              0.1111111111111111,
              "#46039f"
             ],
             [
              0.2222222222222222,
              "#7201a8"
             ],
             [
              0.3333333333333333,
              "#9c179e"
             ],
             [
              0.4444444444444444,
              "#bd3786"
             ],
             [
              0.5555555555555556,
              "#d8576b"
             ],
             [
              0.6666666666666666,
              "#ed7953"
             ],
             [
              0.7777777777777778,
              "#fb9f3a"
             ],
             [
              0.8888888888888888,
              "#fdca26"
             ],
             [
              1,
              "#f0f921"
             ]
            ],
            "type": "histogram2dcontour"
           }
          ],
          "mesh3d": [
           {
            "colorbar": {
             "outlinewidth": 0,
             "ticks": ""
            },
            "type": "mesh3d"
           }
          ],
          "parcoords": [
           {
            "line": {
             "colorbar": {
              "outlinewidth": 0,
              "ticks": ""
             }
            },
            "type": "parcoords"
           }
          ],
          "pie": [
           {
            "automargin": true,
            "type": "pie"
           }
          ],
          "scatter": [
           {
            "marker": {
             "colorbar": {
              "outlinewidth": 0,
              "ticks": ""
             }
            },
            "type": "scatter"
           }
          ],
          "scatter3d": [
           {
            "line": {
             "colorbar": {
              "outlinewidth": 0,
              "ticks": ""
             }
            },
            "marker": {
             "colorbar": {
              "outlinewidth": 0,
              "ticks": ""
             }
            },
            "type": "scatter3d"
           }
          ],
          "scattercarpet": [
           {
            "marker": {
             "colorbar": {
              "outlinewidth": 0,
              "ticks": ""
             }
            },
            "type": "scattercarpet"
           }
          ],
          "scattergeo": [
           {
            "marker": {
             "colorbar": {
              "outlinewidth": 0,
              "ticks": ""
             }
            },
            "type": "scattergeo"
           }
          ],
          "scattergl": [
           {
            "marker": {
             "colorbar": {
              "outlinewidth": 0,
              "ticks": ""
             }
            },
            "type": "scattergl"
           }
          ],
          "scattermapbox": [
           {
            "marker": {
             "colorbar": {
              "outlinewidth": 0,
              "ticks": ""
             }
            },
            "type": "scattermapbox"
           }
          ],
          "scatterpolar": [
           {
            "marker": {
             "colorbar": {
              "outlinewidth": 0,
              "ticks": ""
             }
            },
            "type": "scatterpolar"
           }
          ],
          "scatterpolargl": [
           {
            "marker": {
             "colorbar": {
              "outlinewidth": 0,
              "ticks": ""
             }
            },
            "type": "scatterpolargl"
           }
          ],
          "scatterternary": [
           {
            "marker": {
             "colorbar": {
              "outlinewidth": 0,
              "ticks": ""
             }
            },
            "type": "scatterternary"
           }
          ],
          "surface": [
           {
            "colorbar": {
             "outlinewidth": 0,
             "ticks": ""
            },
            "colorscale": [
             [
              0,
              "#0d0887"
             ],
             [
              0.1111111111111111,
              "#46039f"
             ],
             [
              0.2222222222222222,
              "#7201a8"
             ],
             [
              0.3333333333333333,
              "#9c179e"
             ],
             [
              0.4444444444444444,
              "#bd3786"
             ],
             [
              0.5555555555555556,
              "#d8576b"
             ],
             [
              0.6666666666666666,
              "#ed7953"
             ],
             [
              0.7777777777777778,
              "#fb9f3a"
             ],
             [
              0.8888888888888888,
              "#fdca26"
             ],
             [
              1,
              "#f0f921"
             ]
            ],
            "type": "surface"
           }
          ],
          "table": [
           {
            "cells": {
             "fill": {
              "color": "#EBF0F8"
             },
             "line": {
              "color": "white"
             }
            },
            "header": {
             "fill": {
              "color": "#C8D4E3"
             },
             "line": {
              "color": "white"
             }
            },
            "type": "table"
           }
          ]
         },
         "layout": {
          "annotationdefaults": {
           "arrowcolor": "#2a3f5f",
           "arrowhead": 0,
           "arrowwidth": 1
          },
          "autotypenumbers": "strict",
          "coloraxis": {
           "colorbar": {
            "outlinewidth": 0,
            "ticks": ""
           }
          },
          "colorscale": {
           "diverging": [
            [
             0,
             "#8e0152"
            ],
            [
             0.1,
             "#c51b7d"
            ],
            [
             0.2,
             "#de77ae"
            ],
            [
             0.3,
             "#f1b6da"
            ],
            [
             0.4,
             "#fde0ef"
            ],
            [
             0.5,
             "#f7f7f7"
            ],
            [
             0.6,
             "#e6f5d0"
            ],
            [
             0.7,
             "#b8e186"
            ],
            [
             0.8,
             "#7fbc41"
            ],
            [
             0.9,
             "#4d9221"
            ],
            [
             1,
             "#276419"
            ]
           ],
           "sequential": [
            [
             0,
             "#0d0887"
            ],
            [
             0.1111111111111111,
             "#46039f"
            ],
            [
             0.2222222222222222,
             "#7201a8"
            ],
            [
             0.3333333333333333,
             "#9c179e"
            ],
            [
             0.4444444444444444,
             "#bd3786"
            ],
            [
             0.5555555555555556,
             "#d8576b"
            ],
            [
             0.6666666666666666,
             "#ed7953"
            ],
            [
             0.7777777777777778,
             "#fb9f3a"
            ],
            [
             0.8888888888888888,
             "#fdca26"
            ],
            [
             1,
             "#f0f921"
            ]
           ],
           "sequentialminus": [
            [
             0,
             "#0d0887"
            ],
            [
             0.1111111111111111,
             "#46039f"
            ],
            [
             0.2222222222222222,
             "#7201a8"
            ],
            [
             0.3333333333333333,
             "#9c179e"
            ],
            [
             0.4444444444444444,
             "#bd3786"
            ],
            [
             0.5555555555555556,
             "#d8576b"
            ],
            [
             0.6666666666666666,
             "#ed7953"
            ],
            [
             0.7777777777777778,
             "#fb9f3a"
            ],
            [
             0.8888888888888888,
             "#fdca26"
            ],
            [
             1,
             "#f0f921"
            ]
           ]
          },
          "colorway": [
           "#636efa",
           "#EF553B",
           "#00cc96",
           "#ab63fa",
           "#FFA15A",
           "#19d3f3",
           "#FF6692",
           "#B6E880",
           "#FF97FF",
           "#FECB52"
          ],
          "font": {
           "color": "#2a3f5f"
          },
          "geo": {
           "bgcolor": "white",
           "lakecolor": "white",
           "landcolor": "#E5ECF6",
           "showlakes": true,
           "showland": true,
           "subunitcolor": "white"
          },
          "hoverlabel": {
           "align": "left"
          },
          "hovermode": "closest",
          "mapbox": {
           "style": "light"
          },
          "paper_bgcolor": "white",
          "plot_bgcolor": "#E5ECF6",
          "polar": {
           "angularaxis": {
            "gridcolor": "white",
            "linecolor": "white",
            "ticks": ""
           },
           "bgcolor": "#E5ECF6",
           "radialaxis": {
            "gridcolor": "white",
            "linecolor": "white",
            "ticks": ""
           }
          },
          "scene": {
           "xaxis": {
            "backgroundcolor": "#E5ECF6",
            "gridcolor": "white",
            "gridwidth": 2,
            "linecolor": "white",
            "showbackground": true,
            "ticks": "",
            "zerolinecolor": "white"
           },
           "yaxis": {
            "backgroundcolor": "#E5ECF6",
            "gridcolor": "white",
            "gridwidth": 2,
            "linecolor": "white",
            "showbackground": true,
            "ticks": "",
            "zerolinecolor": "white"
           },
           "zaxis": {
            "backgroundcolor": "#E5ECF6",
            "gridcolor": "white",
            "gridwidth": 2,
            "linecolor": "white",
            "showbackground": true,
            "ticks": "",
            "zerolinecolor": "white"
           }
          },
          "shapedefaults": {
           "line": {
            "color": "#2a3f5f"
           }
          },
          "ternary": {
           "aaxis": {
            "gridcolor": "white",
            "linecolor": "white",
            "ticks": ""
           },
           "baxis": {
            "gridcolor": "white",
            "linecolor": "white",
            "ticks": ""
           },
           "bgcolor": "#E5ECF6",
           "caxis": {
            "gridcolor": "white",
            "linecolor": "white",
            "ticks": ""
           }
          },
          "title": {
           "x": 0.05
          },
          "xaxis": {
           "automargin": true,
           "gridcolor": "white",
           "linecolor": "white",
           "ticks": "",
           "title": {
            "standoff": 15
           },
           "zerolinecolor": "white",
           "zerolinewidth": 2
          },
          "yaxis": {
           "automargin": true,
           "gridcolor": "white",
           "linecolor": "white",
           "ticks": "",
           "title": {
            "standoff": 15
           },
           "zerolinecolor": "white",
           "zerolinewidth": 2
          }
         }
        },
        "title": {
         "text": "Hyperparameter Importances"
        },
        "xaxis": {
         "title": {
          "text": "Importance for Objective Value"
         }
        },
        "yaxis": {
         "title": {
          "text": "Hyperparameter"
         }
        }
       }
      }
     },
     "metadata": {},
     "output_type": "display_data"
    }
   ],
   "source": [
    "optuna.visualization.plot_param_importances(study_3)"
   ]
  },
  {
   "cell_type": "markdown",
   "metadata": {
    "id": "40l_RX8GWJCF"
   },
   "source": [
    "# Resultados\n",
    "\n",
    "Utilizamos para todos os testes o mesmo tamanho de batch size e window size por acreditarmos ser uma boa configuração padrão.\n",
    "Isto posto, alteramos apenas as quantidades de hidden layer, taxa de aprendizagem, desvio padrão e margem de clip.\n",
    "Podemos ver a partir dos gráficos que o primeiro estudo foi o que obteve melhor resultado.\n",
    "No segundo estudo, ao tentarmos otimizar os parâmetros acabamos por exagerar e a predição saiu muito errada para cima, bastante distante do objetivo.\n",
    "No terceiro estudo, tentamos reduzir o problema do segundo estudo, e acabamos por encontrar a situação inversa, nossa predição errou os valores para baixo, ainda assim, foi melhor que a do segundo estudo.\n",
    "Quanto a importância dos parâmetros, observados o do primeiro, vemos que o tamanho da camada oculta é a que mais impactou no desempenho de nossa rede LSTM; em segundo lugar, temos o desvio padrão como fator importante ao primeiro estudo e a taxa de aprendizagem em terceiro. De acordo com o primeiro estudo, a melhor configuração seria algo em torno de 100 neurônios, uma taxa de clipagem em torno de 20, com taxa de aprendizado de 5% e desvio padrão indiferente."
   ]
  }
 ],
 "metadata": {
  "accelerator": "GPU",
  "colab": {
   "machine_shape": "hm",
   "name": "Projeto_Redes_Neurais_LSTM.ipynb",
   "provenance": []
  },
  "kernelspec": {
   "display_name": "Python 3",
   "language": "python",
   "name": "python3"
  },
  "language_info": {
   "codemirror_mode": {
    "name": "ipython",
    "version": 3
   },
   "file_extension": ".py",
   "mimetype": "text/x-python",
   "name": "python",
   "nbconvert_exporter": "python",
   "pygments_lexer": "ipython3",
   "version": "3.8.10"
  }
 },
 "nbformat": 4,
 "nbformat_minor": 1
}

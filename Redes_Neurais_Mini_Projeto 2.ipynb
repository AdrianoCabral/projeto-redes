{
 "cells": [
  {
   "cell_type": "markdown",
   "metadata": {
    "id": "eLpeTjalKY0O"
   },
   "source": [
    "## IF702 - REDES NEURAIS\n",
    "\n",
    "**Grupo:**\n",
    "- Adriano Felipe Cabral Filho (afcf)\n",
    "- Felipe Rodrigues de Souza (frs3)\n",
    "- Lucas Vinícius José da Silva (lvjs)\n",
    "- Pedro José Carneiro de Souza (pjcs) \n",
    "- Vitor Sousa Silva (vss2)\n"
   ]
  },
  {
   "cell_type": "markdown",
   "metadata": {
    "id": "vvKzsWFyttnd"
   },
   "source": [
    "# Reconhecimento de Dígitos com CNN"
   ]
  },
  {
   "cell_type": "markdown",
   "metadata": {
    "id": "S1BzDG9xK572"
   },
   "source": [
    "##Importação de datasets e tratamento dos dados"
   ]
  },
  {
   "cell_type": "code",
   "execution_count": null,
   "metadata": {
    "id": "e9B2D8d0LeiW"
   },
   "outputs": [],
   "source": [
    "!pip install keras-tuner --quiet\n",
    "!pip install optuna --quiet\n",
    "!pip install ipython-autotime --quiet\n",
    "from keras_tuner import RandomSearch\n",
    "import matplotlib.pyplot as plt\n",
    "import numpy as np\n",
    "import tensorflow as tf\n",
    "import keras\n",
    "import optuna\n",
    "\n",
    "#Loading Data\n",
    "(train_images,train_labels),(test_images,test_labels)=tf.keras.datasets.mnist.load_data()\n",
    "\n",
    "#Reshape data\n",
    "train_images=train_images.reshape((60000,28,28,1))\n",
    "test_images=test_images.reshape((10000,28,28,1))\n",
    "\n",
    "#Normalize\n",
    "train_images,test_images=train_images/255.0 ,test_images/255.0"
   ]
  },
  {
   "cell_type": "markdown",
   "metadata": {
    "id": "4LCkaTc1Lr4z"
   },
   "source": [
    "## Construindo a CNN"
   ]
  },
  {
   "cell_type": "code",
   "execution_count": null,
   "metadata": {
    "colab": {
     "base_uri": "https://localhost:8080/"
    },
    "id": "EIUE565V8mOz",
    "outputId": "6d0c8fc2-7750-49ec-a9ff-76ddcd665027"
   },
   "outputs": [
    {
     "name": "stdout",
     "output_type": "stream",
     "text": [
      "Model: \"sequential\"\n",
      "_________________________________________________________________\n",
      "Layer (type)                 Output Shape              Param #   \n",
      "=================================================================\n",
      "conv2d (Conv2D)              (None, 26, 26, 32)        320       \n",
      "_________________________________________________________________\n",
      "max_pooling2d (MaxPooling2D) (None, 13, 13, 32)        0         \n",
      "_________________________________________________________________\n",
      "conv2d_1 (Conv2D)            (None, 11, 11, 64)        18496     \n",
      "_________________________________________________________________\n",
      "max_pooling2d_1 (MaxPooling2 (None, 5, 5, 64)          0         \n",
      "_________________________________________________________________\n",
      "conv2d_2 (Conv2D)            (None, 3, 3, 64)          36928     \n",
      "_________________________________________________________________\n",
      "flatten (Flatten)            (None, 576)               0         \n",
      "_________________________________________________________________\n",
      "dense (Dense)                (None, 64)                36928     \n",
      "_________________________________________________________________\n",
      "dense_1 (Dense)              (None, 10)                650       \n",
      "=================================================================\n",
      "Total params: 93,322\n",
      "Trainable params: 93,322\n",
      "Non-trainable params: 0\n",
      "_________________________________________________________________\n"
     ]
    }
   ],
   "source": [
    "#Building a CNN Model\n",
    "model=tf.keras.models.Sequential()\n",
    "model.add(tf.keras.layers.Conv2D(32, (3,3),activation='relu',input_shape=(28,28,1)))\n",
    "model.add(tf.keras.layers.MaxPooling2D((2,2)))\n",
    "model.add(tf.keras.layers.Conv2D(64, (3,3),activation='relu'))\n",
    "model.add(tf.keras.layers.MaxPooling2D((2,2)))\n",
    "model.add(tf.keras.layers.Conv2D(64,(3,3),activation='relu'))\n",
    "model.add(tf.keras.layers.Flatten())\n",
    "model.add(tf.keras.layers.Dense(64, activation='relu'))\n",
    "model.add(tf.keras.layers.Dense(10, activation='softmax'))\n",
    "\n",
    "model.summary()\n",
    "model.compile(optimizer='adam',loss='sparse_categorical_crossentropy',metrics='accuracy')"
   ]
  },
  {
   "cell_type": "code",
   "execution_count": null,
   "metadata": {
    "colab": {
     "base_uri": "https://localhost:8080/"
    },
    "id": "L0yvwniM2GDs",
    "outputId": "8c65afd0-8516-467a-b28d-f7a9bba799ca"
   },
   "outputs": [
    {
     "name": "stdout",
     "output_type": "stream",
     "text": [
      "6000/6000 [==============================] - 16s 2ms/step - loss: 0.1172 - accuracy: 0.9637\n"
     ]
    }
   ],
   "source": [
    "model.fit(train_images,train_labels,epochs=1,batch_size=10)\n",
    "scores = model.evaluate(test_images,test_labels, verbose=0)"
   ]
  },
  {
   "cell_type": "code",
   "execution_count": null,
   "metadata": {
    "id": "d5F0Mkma-kaq"
   },
   "outputs": [],
   "source": [
    "def build_model(hp):\n",
    "    # create model object\n",
    "    model=tf.keras.models.Sequential()\n",
    "    model.add(tf.keras.layers.Conv2D(32, (3,3),activation='relu',input_shape=(28,28,1)))\n",
    "    model.add(tf.keras.layers.MaxPooling2D((2,2)))\n",
    "    model.add(tf.keras.layers.Conv2D(64, (3,3),activation='relu'))\n",
    "    model.add(tf.keras.layers.MaxPooling2D((2,2)))\n",
    "    model.add(tf.keras.layers.Conv2D(64,(3,3),activation='relu'))\n",
    "    model.add(tf.keras.layers.Flatten())\n",
    "    model.add(tf.keras.layers.Dense(64, activation='relu'))\n",
    "    model.add(tf.keras.layers.Dense(10, activation='softmax'))\n",
    "\n",
    "    model.summary()\n",
    "    model.compile(optimizer='adam',loss='sparse_categorical_crossentropy',metrics='accuracy')\n",
    "    return model"
   ]
  },
  {
   "cell_type": "code",
   "execution_count": null,
   "metadata": {
    "colab": {
     "base_uri": "https://localhost:8080/"
    },
    "id": "lgiIPkbq-mXA",
    "outputId": "5c8dd7ff-827c-415f-e74c-8efea03fff53"
   },
   "outputs": [
    {
     "name": "stdout",
     "output_type": "stream",
     "text": [
      "INFO:tensorflow:Reloading Oracle from existing project ./untitled_project/trial/untitled_project/oracle.json\n",
      "Model: \"sequential\"\n",
      "_________________________________________________________________\n",
      "Layer (type)                 Output Shape              Param #   \n",
      "=================================================================\n",
      "conv2d (Conv2D)              (None, 26, 26, 32)        320       \n",
      "_________________________________________________________________\n",
      "max_pooling2d (MaxPooling2D) (None, 13, 13, 32)        0         \n",
      "_________________________________________________________________\n",
      "conv2d_1 (Conv2D)            (None, 11, 11, 64)        18496     \n",
      "_________________________________________________________________\n",
      "max_pooling2d_1 (MaxPooling2 (None, 5, 5, 64)          0         \n",
      "_________________________________________________________________\n",
      "conv2d_2 (Conv2D)            (None, 3, 3, 64)          36928     \n",
      "_________________________________________________________________\n",
      "flatten (Flatten)            (None, 576)               0         \n",
      "_________________________________________________________________\n",
      "dense (Dense)                (None, 64)                36928     \n",
      "_________________________________________________________________\n",
      "dense_1 (Dense)              (None, 10)                650       \n",
      "=================================================================\n",
      "Total params: 93,322\n",
      "Trainable params: 93,322\n",
      "Non-trainable params: 0\n",
      "_________________________________________________________________\n",
      "INFO:tensorflow:Reloading Tuner from ./untitled_project/trial/untitled_project/tuner0.json\n",
      "INFO:tensorflow:Oracle triggered exit\n"
     ]
    }
   ],
   "source": [
    "#creating randomsearch object\n",
    "tuner = RandomSearch(build_model,\n",
    "                    objective='val_accuracy',\n",
    "                    max_trials = 5, directory='./untitled_project/trial/')\n",
    "# search best parameter\n",
    "tuner.search(train_images,train_labels,epochs=3,validation_data=(train_images,train_labels))"
   ]
  },
  {
   "cell_type": "code",
   "execution_count": null,
   "metadata": {
    "id": "gYj97807VRWO"
   },
   "outputs": [],
   "source": [
    "best_hps=tuner.get_best_hyperparameters(num_trials=1)[0]\n",
    "best_hps.values"
   ]
  },
  {
   "cell_type": "code",
   "execution_count": null,
   "metadata": {
    "colab": {
     "base_uri": "https://localhost:8080/"
    },
    "id": "QXdyYnkg1tIx",
    "outputId": "c52d6056-b96b-413c-bd77-233773e9c535"
   },
   "outputs": [
    {
     "name": "stdout",
     "output_type": "stream",
     "text": [
      "INFO:tensorflow:Reloading Oracle from existing project ./untitled_project/trial2/untitled_project/oracle.json\n",
      "Model: \"sequential\"\n",
      "_________________________________________________________________\n",
      "Layer (type)                 Output Shape              Param #   \n",
      "=================================================================\n",
      "conv2d (Conv2D)              (None, 26, 26, 32)        320       \n",
      "_________________________________________________________________\n",
      "max_pooling2d (MaxPooling2D) (None, 13, 13, 32)        0         \n",
      "_________________________________________________________________\n",
      "conv2d_1 (Conv2D)            (None, 11, 11, 64)        18496     \n",
      "_________________________________________________________________\n",
      "max_pooling2d_1 (MaxPooling2 (None, 5, 5, 64)          0         \n",
      "_________________________________________________________________\n",
      "conv2d_2 (Conv2D)            (None, 3, 3, 128)         73856     \n",
      "_________________________________________________________________\n",
      "flatten (Flatten)            (None, 1152)              0         \n",
      "_________________________________________________________________\n",
      "dense (Dense)                (None, 128)               147584    \n",
      "_________________________________________________________________\n",
      "dense_1 (Dense)              (None, 10)                1290      \n",
      "=================================================================\n",
      "Total params: 241,546\n",
      "Trainable params: 241,546\n",
      "Non-trainable params: 0\n",
      "_________________________________________________________________\n",
      "INFO:tensorflow:Reloading Tuner from ./untitled_project/trial2/untitled_project/tuner0.json\n",
      "INFO:tensorflow:Oracle triggered exit\n"
     ]
    }
   ],
   "source": [
    "# Sugestão de Adriano (128 layers na 3a CNN)\n",
    "def build_model2(hp):\n",
    "    # create model object\n",
    "    model=tf.keras.models.Sequential()\n",
    "    model.add(tf.keras.layers.Conv2D(32, (3,3),activation='relu',input_shape=(28,28,1)))\n",
    "    model.add(tf.keras.layers.MaxPooling2D((2,2)))\n",
    "    model.add(tf.keras.layers.Conv2D(64, (3,3),activation='relu'))\n",
    "    model.add(tf.keras.layers.MaxPooling2D((2,2)))\n",
    "    model.add(tf.keras.layers.Conv2D(128,(3,3),activation='relu'))\n",
    "    model.add(tf.keras.layers.Flatten())\n",
    "    model.add(tf.keras.layers.Dense(128, activation='relu'))\n",
    "    model.add(tf.keras.layers.Dense(10, activation='softmax'))\n",
    "\n",
    "    model.summary()\n",
    "    model.compile(optimizer='adam',loss='sparse_categorical_crossentropy',metrics='accuracy')\n",
    "    return model\n",
    "\n",
    "tuner2 = RandomSearch(build_model2,\n",
    "                    objective='val_accuracy',\n",
    "                    max_trials = 5,directory='./untitled_project/trial2/')\n",
    "\n",
    "tuner2.search(train_images,train_labels,epochs=3,validation_data=(train_images,train_labels))"
   ]
  },
  {
   "cell_type": "code",
   "execution_count": null,
   "metadata": {
    "colab": {
     "base_uri": "https://localhost:8080/"
    },
    "id": "ycnJu_q46qPc",
    "outputId": "07f69063-4048-4adf-b443-aca0489091c7"
   },
   "outputs": [
    {
     "name": "stdout",
     "output_type": "stream",
     "text": [
      "INFO:tensorflow:Reloading Oracle from existing project ./untitled_project/trial3/untitled_project/oracle.json\n",
      "Model: \"sequential\"\n",
      "_________________________________________________________________\n",
      "Layer (type)                 Output Shape              Param #   \n",
      "=================================================================\n",
      "conv2d (Conv2D)              (None, 27, 27, 32)        160       \n",
      "_________________________________________________________________\n",
      "max_pooling2d (MaxPooling2D) (None, 13, 13, 32)        0         \n",
      "_________________________________________________________________\n",
      "conv2d_1 (Conv2D)            (None, 12, 12, 64)        8256      \n",
      "_________________________________________________________________\n",
      "max_pooling2d_1 (MaxPooling2 (None, 6, 6, 64)          0         \n",
      "_________________________________________________________________\n",
      "conv2d_2 (Conv2D)            (None, 5, 5, 128)         32896     \n",
      "_________________________________________________________________\n",
      "flatten (Flatten)            (None, 3200)              0         \n",
      "_________________________________________________________________\n",
      "dense (Dense)                (None, 128)               409728    \n",
      "_________________________________________________________________\n",
      "dense_1 (Dense)              (None, 10)                1290      \n",
      "=================================================================\n",
      "Total params: 452,330\n",
      "Trainable params: 452,330\n",
      "Non-trainable params: 0\n",
      "_________________________________________________________________\n",
      "INFO:tensorflow:Reloading Tuner from ./untitled_project/trial3/untitled_project/tuner0.json\n",
      "INFO:tensorflow:Oracle triggered exit\n"
     ]
    }
   ],
   "source": [
    "# Sugestão de Adriano (128 layers na 3a CNN com dilation_rate menor=2)\n",
    "def build_model3(hp):\n",
    "    # create model object\n",
    "    model=tf.keras.models.Sequential()\n",
    "    model.add(tf.keras.layers.Conv2D(32, (2,2),activation='relu',input_shape=(28,28,1)))\n",
    "    model.add(tf.keras.layers.MaxPooling2D((2,2)))\n",
    "    model.add(tf.keras.layers.Conv2D(64, (2,2),activation='relu'))\n",
    "    model.add(tf.keras.layers.MaxPooling2D((2,2)))\n",
    "    model.add(tf.keras.layers.Conv2D(128,(2,2),activation='relu'))\n",
    "    model.add(tf.keras.layers.Flatten())\n",
    "    model.add(tf.keras.layers.Dense(128, activation='relu'))\n",
    "    model.add(tf.keras.layers.Dense(10, activation='softmax'))\n",
    "\n",
    "    model.summary()\n",
    "    model.compile(optimizer='adam',loss='sparse_categorical_crossentropy',metrics='accuracy')\n",
    "    return model\n",
    "\n",
    "tuner3 = RandomSearch(build_model3,\n",
    "                    objective='val_accuracy',\n",
    "                    max_trials = 5, directory='./untitled_project/trial3/')\n",
    "\n",
    "tuner3.search(train_images,train_labels,epochs=3,validation_data=(train_images,train_labels))"
   ]
  },
  {
   "cell_type": "code",
   "execution_count": null,
   "metadata": {
    "id": "9pMW85Er4L7b"
   },
   "outputs": [],
   "source": [
    "from keras.layers import LSTM\n",
    "from sklearn.metrics import accuracy_score, plot_confusion_matrix, confusion_matrix, classification_report\n",
    "\n",
    "(train_images,train_labels),(test_images,test_labels)=tf.keras.datasets.mnist.load_data()\n",
    "\n",
    "#Reshape data\n",
    "train_images=train_images.reshape((60000,28,28,1))\n",
    "test_images=test_images.reshape((10000,28,28,1))\n",
    "\n",
    "#Normalize\n",
    "train_images,test_images=train_images/255.0 ,test_images/255.0\n"
   ]
  },
  {
   "cell_type": "markdown",
   "metadata": {
    "id": "RWh03yw8KDjc"
   },
   "source": [
    "## Redes utilizadas\n",
    "\n",
    "- Camadas finais de adensamento com função de ativação 'relu' e de categorização com função de ativação 'softmax'.\n",
    "\n",
    "### CNN1:\n",
    "- Neurônios: 32 à 128\n",
    "- Dilatação: 1 ou 2\n",
    "- Camadas CNN: 2\n",
    "\n",
    "### CNN2:\n",
    "- Neurônios: 32 à 128\n",
    "- Dilatação: 1 ou 2\n",
    "- Camadas CNN: 3\n",
    "\n",
    "### CNN3:\n",
    "- Neurônios: 32 à 128\n",
    "- Dilatação: 1\n",
    "- Camadas CNN: 5"
   ]
  },
  {
   "cell_type": "code",
   "execution_count": null,
   "metadata": {
    "id": "pu1tgIQ0Jj6a"
   },
   "outputs": [],
   "source": [
    "def cnn(trial):\n",
    "  (x_train, y_train), (x_test, y_test) = (train_images,train_labels),(test_images,test_labels)\n",
    "  \n",
    "  activation = trial.suggest_categorical('activation', ['sigmoid', 'softmax', 'tanh', 'relu','softplus','softsign','selu','elu','exponential'])\n",
    "  \n",
    "  n_neurons = trial.suggest_int('n_neurons', 16, 64)\n",
    "  dilation = trial.suggest_int('dilation', 1, 2)\n",
    "  loss = trial.suggest_categorical('loss', ['sparse_categorical_crossentropy'])\n",
    "  optimizer = trial.suggest_categorical('optimizer', ['sgd', 'adam','rmsprop','adamax'])\n",
    "  \n",
    "  print(\"Função de ativação: {}\\nNúmero de neurônios: {}\\nOtimizador: {}\".format(activation,n_neurons,optimizer))\n",
    "  model = keras.models.Sequential()\n",
    "\n",
    "  model.add(tf.keras.layers.Conv2D(n_neurons, (dilation,dilation),activation=activation,input_shape=(28,28,1)))\n",
    "  model.add(tf.keras.layers.MaxPooling2D((dilation,dilation)))\n",
    "  model.add(tf.keras.layers.Conv2D(n_neurons*2, (dilation,dilation),activation=activation))\n",
    "  model.add(tf.keras.layers.Flatten())\n",
    "  model.add(tf.keras.layers.Dense(n_neurons*2, activation='relu'))\n",
    "  model.add(tf.keras.layers.Dense(10, activation='softmax'))\n",
    "  model.compile(loss=loss,optimizer=optimizer,metrics=[\"accuracy\"])\n",
    "\n",
    "  history = model.fit(x_train, y_train, epochs=8, verbose=1)\n",
    "  y_pred = np.argmax(model.predict(x_test), axis=-1)\n",
    "  y_true = y_test\n",
    "  return accuracy_score(y_true, y_pred)"
   ]
  },
  {
   "cell_type": "code",
   "execution_count": null,
   "metadata": {
    "colab": {
     "base_uri": "https://localhost:8080/"
    },
    "id": "bUdiNEiPKy6O",
    "outputId": "5a33d9b9-79df-41d5-cb1d-db9293be6e6e"
   },
   "outputs": [
    {
     "name": "stderr",
     "output_type": "stream",
     "text": [
      "\u001b[32m[I 2021-11-05 13:13:11,446]\u001b[0m A new study created in memory with name: no-name-0212a617-dc7d-4797-b20d-8c84dd82265d\u001b[0m\n"
     ]
    },
    {
     "name": "stdout",
     "output_type": "stream",
     "text": [
      "Função de ativação: selu\n",
      "Número de neurônios: 32\n",
      "Otimizador: sgd\n",
      "Epoch 1/8\n",
      "1875/1875 [==============================] - 5s 3ms/step - loss: 0.3251 - accuracy: 0.9087\n",
      "Epoch 2/8\n",
      "1875/1875 [==============================] - 5s 2ms/step - loss: 0.1599 - accuracy: 0.9535\n",
      "Epoch 3/8\n",
      "1875/1875 [==============================] - 5s 2ms/step - loss: 0.1184 - accuracy: 0.9643\n",
      "Epoch 4/8\n",
      "1875/1875 [==============================] - 5s 2ms/step - loss: 0.0939 - accuracy: 0.9720\n",
      "Epoch 5/8\n",
      "1875/1875 [==============================] - 5s 2ms/step - loss: 0.0782 - accuracy: 0.9766\n",
      "Epoch 6/8\n",
      "1875/1875 [==============================] - 5s 2ms/step - loss: 0.0670 - accuracy: 0.9797\n",
      "Epoch 7/8\n",
      "1875/1875 [==============================] - 5s 2ms/step - loss: 0.0577 - accuracy: 0.9825\n",
      "Epoch 8/8\n",
      "1875/1875 [==============================] - 5s 2ms/step - loss: 0.0505 - accuracy: 0.9842\n"
     ]
    },
    {
     "name": "stderr",
     "output_type": "stream",
     "text": [
      "\u001b[32m[I 2021-11-05 13:13:49,505]\u001b[0m Trial 0 finished with value: 0.9729 and parameters: {'activation': 'selu', 'n_neurons': 32, 'dilation': 1, 'loss': 'sparse_categorical_crossentropy', 'optimizer': 'sgd'}. Best is trial 0 with value: 0.9729.\u001b[0m\n"
     ]
    },
    {
     "name": "stdout",
     "output_type": "stream",
     "text": [
      "Função de ativação: softplus\n",
      "Número de neurônios: 24\n",
      "Otimizador: rmsprop\n",
      "Epoch 1/8\n",
      "1875/1875 [==============================] - 6s 3ms/step - loss: 2.4701 - accuracy: 0.1115\n",
      "Epoch 2/8\n",
      "1875/1875 [==============================] - 5s 3ms/step - loss: 2.3013 - accuracy: 0.1124\n",
      "Epoch 3/8\n",
      "1875/1875 [==============================] - 5s 3ms/step - loss: 2.3014 - accuracy: 0.1124\n",
      "Epoch 4/8\n",
      "1875/1875 [==============================] - 5s 3ms/step - loss: 2.3013 - accuracy: 0.1124\n",
      "Epoch 5/8\n",
      "1875/1875 [==============================] - 5s 3ms/step - loss: 2.3013 - accuracy: 0.1124\n",
      "Epoch 6/8\n",
      "1875/1875 [==============================] - 5s 3ms/step - loss: 2.3013 - accuracy: 0.1124\n",
      "Epoch 7/8\n",
      "1875/1875 [==============================] - 5s 3ms/step - loss: 2.3014 - accuracy: 0.1124\n",
      "Epoch 8/8\n",
      "1875/1875 [==============================] - 5s 3ms/step - loss: 2.3013 - accuracy: 0.1124\n"
     ]
    },
    {
     "name": "stderr",
     "output_type": "stream",
     "text": [
      "\u001b[32m[I 2021-11-05 13:14:32,475]\u001b[0m Trial 1 finished with value: 0.1135 and parameters: {'activation': 'softplus', 'n_neurons': 24, 'dilation': 1, 'loss': 'sparse_categorical_crossentropy', 'optimizer': 'rmsprop'}. Best is trial 0 with value: 0.9729.\u001b[0m\n"
     ]
    },
    {
     "name": "stdout",
     "output_type": "stream",
     "text": [
      "Função de ativação: selu\n",
      "Número de neurônios: 20\n",
      "Otimizador: adamax\n",
      "Epoch 1/8\n",
      "1875/1875 [==============================] - 4s 2ms/step - loss: 0.2900 - accuracy: 0.9158\n",
      "Epoch 2/8\n",
      "1875/1875 [==============================] - 4s 2ms/step - loss: 0.1507 - accuracy: 0.9556\n",
      "Epoch 3/8\n",
      "1875/1875 [==============================] - 4s 2ms/step - loss: 0.1080 - accuracy: 0.9675\n",
      "Epoch 4/8\n",
      "1875/1875 [==============================] - 4s 2ms/step - loss: 0.0821 - accuracy: 0.9762\n",
      "Epoch 5/8\n",
      "1875/1875 [==============================] - 4s 2ms/step - loss: 0.0661 - accuracy: 0.9802\n",
      "Epoch 6/8\n",
      "1875/1875 [==============================] - 4s 2ms/step - loss: 0.0534 - accuracy: 0.9839\n",
      "Epoch 7/8\n",
      "1875/1875 [==============================] - 4s 2ms/step - loss: 0.0443 - accuracy: 0.9865\n",
      "Epoch 8/8\n",
      "1875/1875 [==============================] - 4s 2ms/step - loss: 0.0360 - accuracy: 0.9891\n"
     ]
    },
    {
     "name": "stderr",
     "output_type": "stream",
     "text": [
      "\u001b[32m[I 2021-11-05 13:15:04,483]\u001b[0m Trial 2 finished with value: 0.9794 and parameters: {'activation': 'selu', 'n_neurons': 20, 'dilation': 2, 'loss': 'sparse_categorical_crossentropy', 'optimizer': 'adamax'}. Best is trial 2 with value: 0.9794.\u001b[0m\n"
     ]
    },
    {
     "name": "stdout",
     "output_type": "stream",
     "text": [
      "Função de ativação: softplus\n",
      "Número de neurônios: 61\n",
      "Otimizador: adamax\n",
      "Epoch 1/8\n",
      "1875/1875 [==============================] - 10s 5ms/step - loss: 2.6075 - accuracy: 0.1106\n",
      "Epoch 2/8\n",
      "1875/1875 [==============================] - 9s 5ms/step - loss: 2.3014 - accuracy: 0.1124\n",
      "Epoch 3/8\n",
      "1875/1875 [==============================] - 9s 5ms/step - loss: 2.3012 - accuracy: 0.1124\n",
      "Epoch 4/8\n",
      "1875/1875 [==============================] - 9s 5ms/step - loss: 2.3012 - accuracy: 0.1124\n",
      "Epoch 5/8\n",
      "1875/1875 [==============================] - 9s 5ms/step - loss: 2.3012 - accuracy: 0.1124\n",
      "Epoch 6/8\n",
      "1875/1875 [==============================] - 9s 5ms/step - loss: 2.3012 - accuracy: 0.1124\n",
      "Epoch 7/8\n",
      "1875/1875 [==============================] - 9s 5ms/step - loss: 2.3012 - accuracy: 0.1124\n",
      "Epoch 8/8\n",
      "1875/1875 [==============================] - 9s 5ms/step - loss: 2.3012 - accuracy: 0.1124\n"
     ]
    },
    {
     "name": "stderr",
     "output_type": "stream",
     "text": [
      "\u001b[32m[I 2021-11-05 13:16:19,574]\u001b[0m Trial 3 finished with value: 0.1135 and parameters: {'activation': 'softplus', 'n_neurons': 61, 'dilation': 1, 'loss': 'sparse_categorical_crossentropy', 'optimizer': 'adamax'}. Best is trial 2 with value: 0.9794.\u001b[0m\n"
     ]
    },
    {
     "name": "stdout",
     "output_type": "stream",
     "text": [
      "Função de ativação: softsign\n",
      "Número de neurônios: 39\n",
      "Otimizador: sgd\n",
      "Epoch 1/8\n",
      "1875/1875 [==============================] - 4s 2ms/step - loss: 0.5266 - accuracy: 0.8632\n",
      "Epoch 2/8\n",
      "1875/1875 [==============================] - 4s 2ms/step - loss: 0.2326 - accuracy: 0.9309\n",
      "Epoch 3/8\n",
      "1875/1875 [==============================] - 4s 2ms/step - loss: 0.1798 - accuracy: 0.9467\n",
      "Epoch 4/8\n",
      "1875/1875 [==============================] - 4s 2ms/step - loss: 0.1489 - accuracy: 0.9560\n",
      "Epoch 5/8\n",
      "1875/1875 [==============================] - 4s 2ms/step - loss: 0.1286 - accuracy: 0.9615\n",
      "Epoch 6/8\n",
      "1875/1875 [==============================] - 4s 2ms/step - loss: 0.1136 - accuracy: 0.9665\n",
      "Epoch 7/8\n",
      "1875/1875 [==============================] - 4s 2ms/step - loss: 0.1025 - accuracy: 0.9700\n",
      "Epoch 8/8\n",
      "1875/1875 [==============================] - 4s 2ms/step - loss: 0.0937 - accuracy: 0.9723\n"
     ]
    },
    {
     "name": "stderr",
     "output_type": "stream",
     "text": [
      "\u001b[32m[I 2021-11-05 13:16:51,268]\u001b[0m Trial 4 finished with value: 0.9689 and parameters: {'activation': 'softsign', 'n_neurons': 39, 'dilation': 2, 'loss': 'sparse_categorical_crossentropy', 'optimizer': 'sgd'}. Best is trial 2 with value: 0.9794.\u001b[0m\n"
     ]
    },
    {
     "name": "stdout",
     "output_type": "stream",
     "text": [
      "Função de ativação: softsign\n",
      "Número de neurônios: 39\n",
      "Otimizador: adam\n",
      "Epoch 1/8\n",
      "1875/1875 [==============================] - 4s 2ms/step - loss: 0.1654 - accuracy: 0.9506\n",
      "Epoch 2/8\n",
      "1875/1875 [==============================] - 4s 2ms/step - loss: 0.0634 - accuracy: 0.9801\n",
      "Epoch 3/8\n",
      "1875/1875 [==============================] - 4s 2ms/step - loss: 0.0464 - accuracy: 0.9858\n",
      "Epoch 4/8\n",
      "1875/1875 [==============================] - 4s 2ms/step - loss: 0.0346 - accuracy: 0.9889\n",
      "Epoch 5/8\n",
      "1875/1875 [==============================] - 4s 2ms/step - loss: 0.0272 - accuracy: 0.9908\n",
      "Epoch 6/8\n",
      "1875/1875 [==============================] - 4s 2ms/step - loss: 0.0220 - accuracy: 0.9931\n",
      "Epoch 7/8\n",
      "1875/1875 [==============================] - 4s 2ms/step - loss: 0.0193 - accuracy: 0.9935\n",
      "Epoch 8/8\n",
      "1875/1875 [==============================] - 4s 2ms/step - loss: 0.0175 - accuracy: 0.9942\n"
     ]
    },
    {
     "name": "stderr",
     "output_type": "stream",
     "text": [
      "\u001b[32m[I 2021-11-05 13:17:24,593]\u001b[0m Trial 5 finished with value: 0.9823 and parameters: {'activation': 'softsign', 'n_neurons': 39, 'dilation': 2, 'loss': 'sparse_categorical_crossentropy', 'optimizer': 'adam'}. Best is trial 5 with value: 0.9823.\u001b[0m\n"
     ]
    },
    {
     "name": "stdout",
     "output_type": "stream",
     "text": [
      "Função de ativação: relu\n",
      "Número de neurônios: 21\n",
      "Otimizador: rmsprop\n",
      "Epoch 1/8\n",
      "1875/1875 [==============================] - 5s 2ms/step - loss: 0.1621 - accuracy: 0.9503\n",
      "Epoch 2/8\n",
      "1875/1875 [==============================] - 4s 2ms/step - loss: 0.0589 - accuracy: 0.9821\n",
      "Epoch 3/8\n",
      "1875/1875 [==============================] - 4s 2ms/step - loss: 0.0427 - accuracy: 0.9874\n",
      "Epoch 4/8\n",
      "1875/1875 [==============================] - 4s 2ms/step - loss: 0.0349 - accuracy: 0.9892\n",
      "Epoch 5/8\n",
      "1875/1875 [==============================] - 4s 2ms/step - loss: 0.0289 - accuracy: 0.9915\n",
      "Epoch 6/8\n",
      "1875/1875 [==============================] - 4s 2ms/step - loss: 0.0258 - accuracy: 0.9925\n",
      "Epoch 7/8\n",
      "1875/1875 [==============================] - 4s 2ms/step - loss: 0.0224 - accuracy: 0.9938\n",
      "Epoch 8/8\n",
      "1875/1875 [==============================] - 4s 2ms/step - loss: 0.0197 - accuracy: 0.9940\n"
     ]
    },
    {
     "name": "stderr",
     "output_type": "stream",
     "text": [
      "\u001b[32m[I 2021-11-05 13:18:00,618]\u001b[0m Trial 6 finished with value: 0.987 and parameters: {'activation': 'relu', 'n_neurons': 21, 'dilation': 2, 'loss': 'sparse_categorical_crossentropy', 'optimizer': 'rmsprop'}. Best is trial 6 with value: 0.987.\u001b[0m\n"
     ]
    },
    {
     "name": "stdout",
     "output_type": "stream",
     "text": [
      "Função de ativação: softsign\n",
      "Número de neurônios: 42\n",
      "Otimizador: rmsprop\n",
      "Epoch 1/8\n",
      "1875/1875 [==============================] - 8s 4ms/step - loss: 0.2303 - accuracy: 0.9307\n",
      "Epoch 2/8\n",
      "1875/1875 [==============================] - 8s 4ms/step - loss: 0.1269 - accuracy: 0.9637\n",
      "Epoch 3/8\n",
      "1875/1875 [==============================] - 8s 4ms/step - loss: 0.1018 - accuracy: 0.9710\n",
      "Epoch 4/8\n",
      "1875/1875 [==============================] - 8s 4ms/step - loss: 0.0848 - accuracy: 0.9756\n",
      "Epoch 5/8\n",
      "1875/1875 [==============================] - 8s 4ms/step - loss: 0.0757 - accuracy: 0.9779\n",
      "Epoch 6/8\n",
      "1875/1875 [==============================] - 8s 4ms/step - loss: 0.0679 - accuracy: 0.9804\n",
      "Epoch 7/8\n",
      "1875/1875 [==============================] - 8s 4ms/step - loss: 0.0633 - accuracy: 0.9819\n",
      "Epoch 8/8\n",
      "1875/1875 [==============================] - 8s 4ms/step - loss: 0.0595 - accuracy: 0.9838\n"
     ]
    },
    {
     "name": "stderr",
     "output_type": "stream",
     "text": [
      "\u001b[32m[I 2021-11-05 13:19:04,305]\u001b[0m Trial 7 finished with value: 0.9704 and parameters: {'activation': 'softsign', 'n_neurons': 42, 'dilation': 1, 'loss': 'sparse_categorical_crossentropy', 'optimizer': 'rmsprop'}. Best is trial 6 with value: 0.987.\u001b[0m\n"
     ]
    },
    {
     "name": "stdout",
     "output_type": "stream",
     "text": [
      "Função de ativação: selu\n",
      "Número de neurônios: 17\n",
      "Otimizador: adamax\n",
      "Epoch 1/8\n",
      "1875/1875 [==============================] - 5s 2ms/step - loss: 0.2846 - accuracy: 0.9161\n",
      "Epoch 2/8\n",
      "1875/1875 [==============================] - 4s 2ms/step - loss: 0.1798 - accuracy: 0.9464\n",
      "Epoch 3/8\n",
      "1875/1875 [==============================] - 4s 2ms/step - loss: 0.1489 - accuracy: 0.9559\n",
      "Epoch 4/8\n",
      "1875/1875 [==============================] - 4s 2ms/step - loss: 0.1279 - accuracy: 0.9622\n",
      "Epoch 5/8\n",
      "1875/1875 [==============================] - 4s 2ms/step - loss: 0.1163 - accuracy: 0.9648\n",
      "Epoch 6/8\n",
      "1875/1875 [==============================] - 4s 2ms/step - loss: 0.1066 - accuracy: 0.9677\n",
      "Epoch 7/8\n",
      "1875/1875 [==============================] - 4s 2ms/step - loss: 0.0976 - accuracy: 0.9704\n",
      "Epoch 8/8\n",
      "1875/1875 [==============================] - 4s 2ms/step - loss: 0.0898 - accuracy: 0.9722\n"
     ]
    },
    {
     "name": "stderr",
     "output_type": "stream",
     "text": [
      "\u001b[32m[I 2021-11-05 13:19:39,487]\u001b[0m Trial 8 finished with value: 0.9591 and parameters: {'activation': 'selu', 'n_neurons': 17, 'dilation': 1, 'loss': 'sparse_categorical_crossentropy', 'optimizer': 'adamax'}. Best is trial 6 with value: 0.987.\u001b[0m\n"
     ]
    },
    {
     "name": "stdout",
     "output_type": "stream",
     "text": [
      "Função de ativação: exponential\n",
      "Número de neurônios: 34\n",
      "Otimizador: rmsprop\n",
      "Epoch 1/8\n",
      "1875/1875 [==============================] - 5s 2ms/step - loss: 0.5519 - accuracy: 0.8497\n",
      "Epoch 2/8\n",
      "1875/1875 [==============================] - 4s 2ms/step - loss: 0.1497 - accuracy: 0.9552\n",
      "Epoch 3/8\n",
      "1875/1875 [==============================] - 4s 2ms/step - loss: 0.1068 - accuracy: 0.9675\n",
      "Epoch 4/8\n",
      "1875/1875 [==============================] - 4s 2ms/step - loss: 0.0886 - accuracy: 0.9735\n",
      "Epoch 5/8\n",
      "1875/1875 [==============================] - 4s 2ms/step - loss: 0.0768 - accuracy: 0.9769\n",
      "Epoch 6/8\n",
      "1875/1875 [==============================] - 4s 2ms/step - loss: 0.0700 - accuracy: 0.9790\n",
      "Epoch 7/8\n",
      "1875/1875 [==============================] - 4s 2ms/step - loss: 0.0641 - accuracy: 0.9809\n",
      "Epoch 8/8\n",
      "1875/1875 [==============================] - 4s 2ms/step - loss: 0.0601 - accuracy: 0.9825\n"
     ]
    },
    {
     "name": "stderr",
     "output_type": "stream",
     "text": [
      "\u001b[32m[I 2021-11-05 13:20:15,531]\u001b[0m Trial 9 finished with value: 0.9809 and parameters: {'activation': 'exponential', 'n_neurons': 34, 'dilation': 2, 'loss': 'sparse_categorical_crossentropy', 'optimizer': 'rmsprop'}. Best is trial 6 with value: 0.987.\u001b[0m\n"
     ]
    },
    {
     "name": "stdout",
     "output_type": "stream",
     "text": [
      "Função de ativação: relu\n",
      "Número de neurônios: 51\n",
      "Otimizador: adam\n",
      "Epoch 1/8\n",
      "1875/1875 [==============================] - 5s 2ms/step - loss: 0.1215 - accuracy: 0.9631\n",
      "Epoch 2/8\n",
      "1875/1875 [==============================] - 4s 2ms/step - loss: 0.0409 - accuracy: 0.9875\n",
      "Epoch 3/8\n",
      "1875/1875 [==============================] - 4s 2ms/step - loss: 0.0242 - accuracy: 0.9921\n",
      "Epoch 4/8\n",
      "1875/1875 [==============================] - 4s 2ms/step - loss: 0.0168 - accuracy: 0.9944\n",
      "Epoch 5/8\n",
      "1875/1875 [==============================] - 4s 2ms/step - loss: 0.0120 - accuracy: 0.9962\n",
      "Epoch 6/8\n",
      "1875/1875 [==============================] - 4s 2ms/step - loss: 0.0095 - accuracy: 0.9968\n",
      "Epoch 7/8\n",
      "1875/1875 [==============================] - 4s 2ms/step - loss: 0.0070 - accuracy: 0.9976\n",
      "Epoch 8/8\n",
      "1875/1875 [==============================] - 4s 2ms/step - loss: 0.0060 - accuracy: 0.9979\n"
     ]
    },
    {
     "name": "stderr",
     "output_type": "stream",
     "text": [
      "\u001b[32m[I 2021-11-05 13:20:51,066]\u001b[0m Trial 10 finished with value: 0.9882 and parameters: {'activation': 'relu', 'n_neurons': 51, 'dilation': 2, 'loss': 'sparse_categorical_crossentropy', 'optimizer': 'adam'}. Best is trial 10 with value: 0.9882.\u001b[0m\n"
     ]
    },
    {
     "name": "stdout",
     "output_type": "stream",
     "text": [
      "Função de ativação: relu\n",
      "Número de neurônios: 53\n",
      "Otimizador: adam\n",
      "Epoch 1/8\n",
      "1875/1875 [==============================] - 5s 2ms/step - loss: 0.1203 - accuracy: 0.9638\n",
      "Epoch 2/8\n",
      "1875/1875 [==============================] - 4s 2ms/step - loss: 0.0412 - accuracy: 0.9872\n",
      "Epoch 3/8\n",
      "1875/1875 [==============================] - 4s 2ms/step - loss: 0.0228 - accuracy: 0.9926\n",
      "Epoch 4/8\n",
      "1875/1875 [==============================] - 4s 2ms/step - loss: 0.0158 - accuracy: 0.9948\n",
      "Epoch 5/8\n",
      "1875/1875 [==============================] - 4s 2ms/step - loss: 0.0116 - accuracy: 0.9962\n",
      "Epoch 6/8\n",
      "1875/1875 [==============================] - 4s 2ms/step - loss: 0.0092 - accuracy: 0.9970\n",
      "Epoch 7/8\n",
      "1875/1875 [==============================] - 4s 2ms/step - loss: 0.0066 - accuracy: 0.9980\n",
      "Epoch 8/8\n",
      "1875/1875 [==============================] - 4s 2ms/step - loss: 0.0054 - accuracy: 0.9981\n"
     ]
    },
    {
     "name": "stderr",
     "output_type": "stream",
     "text": [
      "\u001b[32m[I 2021-11-05 13:21:26,741]\u001b[0m Trial 11 finished with value: 0.9886 and parameters: {'activation': 'relu', 'n_neurons': 53, 'dilation': 2, 'loss': 'sparse_categorical_crossentropy', 'optimizer': 'adam'}. Best is trial 11 with value: 0.9886.\u001b[0m\n"
     ]
    },
    {
     "name": "stdout",
     "output_type": "stream",
     "text": [
      "Função de ativação: relu\n",
      "Número de neurônios: 56\n",
      "Otimizador: adam\n",
      "Epoch 1/8\n",
      "1875/1875 [==============================] - 5s 2ms/step - loss: 0.1241 - accuracy: 0.9613\n",
      "Epoch 2/8\n",
      "1875/1875 [==============================] - 4s 2ms/step - loss: 0.0410 - accuracy: 0.9875\n",
      "Epoch 3/8\n",
      "1875/1875 [==============================] - 4s 2ms/step - loss: 0.0250 - accuracy: 0.9919\n",
      "Epoch 4/8\n",
      "1875/1875 [==============================] - 4s 2ms/step - loss: 0.0175 - accuracy: 0.9944\n",
      "Epoch 5/8\n",
      "1875/1875 [==============================] - 4s 2ms/step - loss: 0.0123 - accuracy: 0.9961\n",
      "Epoch 6/8\n",
      "1875/1875 [==============================] - 4s 2ms/step - loss: 0.0088 - accuracy: 0.9972\n",
      "Epoch 7/8\n",
      "1875/1875 [==============================] - 4s 2ms/step - loss: 0.0081 - accuracy: 0.9972\n",
      "Epoch 8/8\n",
      "1875/1875 [==============================] - 4s 2ms/step - loss: 0.0061 - accuracy: 0.9981\n"
     ]
    },
    {
     "name": "stderr",
     "output_type": "stream",
     "text": [
      "\u001b[32m[I 2021-11-05 13:22:03,102]\u001b[0m Trial 12 finished with value: 0.9893 and parameters: {'activation': 'relu', 'n_neurons': 56, 'dilation': 2, 'loss': 'sparse_categorical_crossentropy', 'optimizer': 'adam'}. Best is trial 12 with value: 0.9893.\u001b[0m\n"
     ]
    },
    {
     "name": "stdout",
     "output_type": "stream",
     "text": [
      "Função de ativação: relu\n",
      "Número de neurônios: 62\n",
      "Otimizador: adam\n",
      "Epoch 1/8\n",
      "1875/1875 [==============================] - 5s 2ms/step - loss: 0.1140 - accuracy: 0.9655\n",
      "Epoch 2/8\n",
      "1875/1875 [==============================] - 4s 2ms/step - loss: 0.0387 - accuracy: 0.9877\n",
      "Epoch 3/8\n",
      "1875/1875 [==============================] - 5s 2ms/step - loss: 0.0228 - accuracy: 0.9927\n",
      "Epoch 4/8\n",
      "1875/1875 [==============================] - 5s 2ms/step - loss: 0.0157 - accuracy: 0.9946\n",
      "Epoch 5/8\n",
      "1875/1875 [==============================] - 4s 2ms/step - loss: 0.0112 - accuracy: 0.9962\n",
      "Epoch 6/8\n",
      "1875/1875 [==============================] - 4s 2ms/step - loss: 0.0095 - accuracy: 0.9969\n",
      "Epoch 7/8\n",
      "1875/1875 [==============================] - 4s 2ms/step - loss: 0.0074 - accuracy: 0.9972\n",
      "Epoch 8/8\n",
      "1875/1875 [==============================] - 4s 2ms/step - loss: 0.0057 - accuracy: 0.9983\n"
     ]
    },
    {
     "name": "stderr",
     "output_type": "stream",
     "text": [
      "\u001b[32m[I 2021-11-05 13:22:39,955]\u001b[0m Trial 13 finished with value: 0.9862 and parameters: {'activation': 'relu', 'n_neurons': 62, 'dilation': 2, 'loss': 'sparse_categorical_crossentropy', 'optimizer': 'adam'}. Best is trial 12 with value: 0.9893.\u001b[0m\n"
     ]
    },
    {
     "name": "stdout",
     "output_type": "stream",
     "text": [
      "Função de ativação: elu\n",
      "Número de neurônios: 52\n",
      "Otimizador: adam\n",
      "Epoch 1/8\n",
      "1875/1875 [==============================] - 5s 2ms/step - loss: 0.1505 - accuracy: 0.9547\n",
      "Epoch 2/8\n",
      "1875/1875 [==============================] - 4s 2ms/step - loss: 0.0621 - accuracy: 0.9810\n",
      "Epoch 3/8\n",
      "1875/1875 [==============================] - 4s 2ms/step - loss: 0.0421 - accuracy: 0.9866\n",
      "Epoch 4/8\n",
      "1875/1875 [==============================] - 4s 2ms/step - loss: 0.0361 - accuracy: 0.9883\n",
      "Epoch 5/8\n",
      "1875/1875 [==============================] - 4s 2ms/step - loss: 0.0280 - accuracy: 0.9911\n",
      "Epoch 6/8\n",
      "1875/1875 [==============================] - 4s 2ms/step - loss: 0.0227 - accuracy: 0.9926\n",
      "Epoch 7/8\n",
      "1875/1875 [==============================] - 4s 2ms/step - loss: 0.0220 - accuracy: 0.9928\n",
      "Epoch 8/8\n",
      "1875/1875 [==============================] - 4s 2ms/step - loss: 0.0185 - accuracy: 0.9941\n"
     ]
    },
    {
     "name": "stderr",
     "output_type": "stream",
     "text": [
      "\u001b[32m[I 2021-11-05 13:23:14,891]\u001b[0m Trial 14 finished with value: 0.9822 and parameters: {'activation': 'elu', 'n_neurons': 52, 'dilation': 2, 'loss': 'sparse_categorical_crossentropy', 'optimizer': 'adam'}. Best is trial 12 with value: 0.9893.\u001b[0m\n"
     ]
    },
    {
     "name": "stdout",
     "output_type": "stream",
     "text": [
      "Função de ativação: tanh\n",
      "Número de neurônios: 53\n",
      "Otimizador: adam\n",
      "Epoch 1/8\n",
      "1875/1875 [==============================] - 5s 2ms/step - loss: 0.1474 - accuracy: 0.9549\n",
      "Epoch 2/8\n",
      "1875/1875 [==============================] - 4s 2ms/step - loss: 0.0628 - accuracy: 0.9804\n",
      "Epoch 3/8\n",
      "1875/1875 [==============================] - 5s 2ms/step - loss: 0.0419 - accuracy: 0.9865\n",
      "Epoch 4/8\n",
      "1875/1875 [==============================] - 4s 2ms/step - loss: 0.0340 - accuracy: 0.9890\n",
      "Epoch 5/8\n",
      "1875/1875 [==============================] - 4s 2ms/step - loss: 0.0287 - accuracy: 0.9908\n",
      "Epoch 6/8\n",
      "1875/1875 [==============================] - 4s 2ms/step - loss: 0.0219 - accuracy: 0.9927\n",
      "Epoch 7/8\n",
      "1875/1875 [==============================] - 4s 2ms/step - loss: 0.0205 - accuracy: 0.9934\n",
      "Epoch 8/8\n",
      "1875/1875 [==============================] - 4s 2ms/step - loss: 0.0166 - accuracy: 0.9949\n"
     ]
    },
    {
     "name": "stderr",
     "output_type": "stream",
     "text": [
      "\u001b[32m[I 2021-11-05 13:23:50,908]\u001b[0m Trial 15 finished with value: 0.9828 and parameters: {'activation': 'tanh', 'n_neurons': 53, 'dilation': 2, 'loss': 'sparse_categorical_crossentropy', 'optimizer': 'adam'}. Best is trial 12 with value: 0.9893.\u001b[0m\n"
     ]
    }
   ],
   "source": [
    "study_1 = optuna.create_study(direction='maximize')\n",
    "study_1.optimize(cnn, n_trials=16)"
   ]
  },
  {
   "cell_type": "code",
   "execution_count": null,
   "metadata": {
    "id": "uLT_drmGJjtA"
   },
   "outputs": [],
   "source": [
    "def cnn2(trial):\n",
    "  (x_train, y_train), (x_test, y_test) = (train_images,train_labels),(test_images,test_labels)\n",
    "  \n",
    "  activation = trial.suggest_categorical('activation', ['sigmoid', 'softmax', 'tanh', 'relu','softplus','softsign','selu','elu','exponential'])\n",
    "  \n",
    "  n_neurons = trial.suggest_int('n_neurons', 16, 64)\n",
    "  dilation = trial.suggest_int('dilation', 1, 2)\n",
    "  loss = trial.suggest_categorical('loss', ['sparse_categorical_crossentropy'])\n",
    "  optimizer = trial.suggest_categorical('optimizer', ['sgd', 'adam','rmsprop','adamax'])\n",
    "  \n",
    "  print(\"Função de ativação: {}\\nNúmero de neurônios: {}\\nOtimizador: {}\".format(activation,n_neurons,optimizer))\n",
    "  model = keras.models.Sequential()\n",
    "\n",
    "  model.add(tf.keras.layers.Conv2D(n_neurons, (dilation,dilation),activation=activation,input_shape=(28,28,1)))\n",
    "  model.add(tf.keras.layers.MaxPooling2D((dilation,dilation)))\n",
    "\n",
    "  # ----------------- ADICIONAMOS MAIS UMA CAMADA CNN ----------------- #\n",
    "  model.add(tf.keras.layers.Conv2D(n_neurons*2, (dilation,dilation),activation=activation))\n",
    "  model.add(tf.keras.layers.MaxPooling2D((dilation,dilation)))\n",
    "  # ----------------- ADICIONAMOS MAIS UMA CAMADA CNN ----------------- #\n",
    "\n",
    "  model.add(tf.keras.layers.Conv2D(n_neurons*2, (dilation,dilation),activation=activation))\n",
    "  model.add(tf.keras.layers.Flatten())\n",
    "  model.add(tf.keras.layers.Dense(n_neurons*2, activation='relu'))\n",
    "  model.add(tf.keras.layers.Dense(10, activation='softmax'))\n",
    "  model.compile(loss=loss,optimizer=optimizer,metrics=[\"accuracy\"])\n",
    "\n",
    "  history = model.fit(x_train, y_train, epochs=8, verbose=1)\n",
    "  y_pred = np.argmax(model.predict(x_test), axis=-1)\n",
    "  y_true = y_test\n",
    "  return accuracy_score(y_true, y_pred)"
   ]
  },
  {
   "cell_type": "code",
   "execution_count": null,
   "metadata": {
    "colab": {
     "base_uri": "https://localhost:8080/"
    },
    "id": "QemAZJPJKxOv",
    "outputId": "34e3354e-a322-4e14-ec37-94ace2e102c0"
   },
   "outputs": [
    {
     "name": "stderr",
     "output_type": "stream",
     "text": [
      "\u001b[32m[I 2021-11-05 13:23:50,941]\u001b[0m A new study created in memory with name: no-name-fd4b0ef8-84d3-496c-9361-d91ac0a9eb1f\u001b[0m\n"
     ]
    },
    {
     "name": "stdout",
     "output_type": "stream",
     "text": [
      "Função de ativação: softmax\n",
      "Número de neurônios: 20\n",
      "Otimizador: rmsprop\n",
      "Epoch 1/8\n",
      "1875/1875 [==============================] - 7s 4ms/step - loss: 2.3023 - accuracy: 0.1119\n",
      "Epoch 2/8\n",
      "1875/1875 [==============================] - 7s 4ms/step - loss: 2.3014 - accuracy: 0.1124\n",
      "Epoch 3/8\n",
      "1875/1875 [==============================] - 7s 4ms/step - loss: 2.3014 - accuracy: 0.1124\n",
      "Epoch 4/8\n",
      "1875/1875 [==============================] - 7s 4ms/step - loss: 2.3013 - accuracy: 0.1124\n",
      "Epoch 5/8\n",
      "1875/1875 [==============================] - 7s 4ms/step - loss: 2.3014 - accuracy: 0.1124\n",
      "Epoch 6/8\n",
      "1875/1875 [==============================] - 7s 4ms/step - loss: 2.3013 - accuracy: 0.1124\n",
      "Epoch 7/8\n",
      "1875/1875 [==============================] - 7s 4ms/step - loss: 2.3014 - accuracy: 0.1124\n",
      "Epoch 8/8\n",
      "1875/1875 [==============================] - 7s 4ms/step - loss: 2.3014 - accuracy: 0.1124\n"
     ]
    },
    {
     "name": "stderr",
     "output_type": "stream",
     "text": [
      "\u001b[32m[I 2021-11-05 13:24:45,081]\u001b[0m Trial 0 finished with value: 0.1135 and parameters: {'activation': 'softmax', 'n_neurons': 20, 'dilation': 1, 'loss': 'sparse_categorical_crossentropy', 'optimizer': 'rmsprop'}. Best is trial 0 with value: 0.1135.\u001b[0m\n"
     ]
    },
    {
     "name": "stdout",
     "output_type": "stream",
     "text": [
      "Função de ativação: selu\n",
      "Número de neurônios: 36\n",
      "Otimizador: adamax\n",
      "Epoch 1/8\n",
      "1875/1875 [==============================] - 8s 4ms/step - loss: 0.2375 - accuracy: 0.9299\n",
      "Epoch 2/8\n",
      "1875/1875 [==============================] - 7s 4ms/step - loss: 0.1321 - accuracy: 0.9595\n",
      "Epoch 3/8\n",
      "1875/1875 [==============================] - 8s 4ms/step - loss: 0.0994 - accuracy: 0.9701\n",
      "Epoch 4/8\n",
      "1875/1875 [==============================] - 8s 4ms/step - loss: 0.0822 - accuracy: 0.9750\n",
      "Epoch 5/8\n",
      "1875/1875 [==============================] - 7s 4ms/step - loss: 0.0676 - accuracy: 0.9788\n",
      "Epoch 6/8\n",
      "1875/1875 [==============================] - 7s 4ms/step - loss: 0.0559 - accuracy: 0.9821\n",
      "Epoch 7/8\n",
      "1875/1875 [==============================] - 7s 4ms/step - loss: 0.0483 - accuracy: 0.9845\n",
      "Epoch 8/8\n",
      "1875/1875 [==============================] - 8s 4ms/step - loss: 0.0416 - accuracy: 0.9865\n"
     ]
    },
    {
     "name": "stderr",
     "output_type": "stream",
     "text": [
      "\u001b[32m[I 2021-11-05 13:25:46,116]\u001b[0m Trial 1 finished with value: 0.9689 and parameters: {'activation': 'selu', 'n_neurons': 36, 'dilation': 1, 'loss': 'sparse_categorical_crossentropy', 'optimizer': 'adamax'}. Best is trial 1 with value: 0.9689.\u001b[0m\n"
     ]
    },
    {
     "name": "stdout",
     "output_type": "stream",
     "text": [
      "Função de ativação: softplus\n",
      "Número de neurônios: 45\n",
      "Otimizador: rmsprop\n",
      "Epoch 1/8\n",
      "1875/1875 [==============================] - 11s 6ms/step - loss: 1.4710 - accuracy: 0.6766\n",
      "Epoch 2/8\n",
      "1875/1875 [==============================] - 11s 6ms/step - loss: 0.3919 - accuracy: 0.8848\n",
      "Epoch 3/8\n",
      "1875/1875 [==============================] - 11s 6ms/step - loss: 0.3430 - accuracy: 0.8993\n",
      "Epoch 4/8\n",
      "1875/1875 [==============================] - 11s 6ms/step - loss: 0.3180 - accuracy: 0.9072\n",
      "Epoch 5/8\n",
      "1875/1875 [==============================] - 11s 6ms/step - loss: 0.3034 - accuracy: 0.9124\n",
      "Epoch 6/8\n",
      "1875/1875 [==============================] - 11s 6ms/step - loss: 0.2923 - accuracy: 0.9146\n",
      "Epoch 7/8\n",
      "1875/1875 [==============================] - 11s 6ms/step - loss: 0.2843 - accuracy: 0.9153\n",
      "Epoch 8/8\n",
      "1875/1875 [==============================] - 11s 6ms/step - loss: 0.2780 - accuracy: 0.9183\n"
     ]
    },
    {
     "name": "stderr",
     "output_type": "stream",
     "text": [
      "\u001b[32m[I 2021-11-05 13:27:13,336]\u001b[0m Trial 2 finished with value: 0.9213 and parameters: {'activation': 'softplus', 'n_neurons': 45, 'dilation': 1, 'loss': 'sparse_categorical_crossentropy', 'optimizer': 'rmsprop'}. Best is trial 1 with value: 0.9689.\u001b[0m\n"
     ]
    },
    {
     "name": "stdout",
     "output_type": "stream",
     "text": [
      "Função de ativação: exponential\n",
      "Número de neurônios: 16\n",
      "Otimizador: adamax\n",
      "Epoch 1/8\n",
      "1875/1875 [==============================] - 5s 2ms/step - loss: 1.0665 - accuracy: 0.6704\n",
      "Epoch 2/8\n",
      "1875/1875 [==============================] - 4s 2ms/step - loss: 0.3611 - accuracy: 0.8900\n",
      "Epoch 3/8\n",
      "1875/1875 [==============================] - 4s 2ms/step - loss: 0.2351 - accuracy: 0.9291\n",
      "Epoch 4/8\n",
      "1875/1875 [==============================] - 4s 2ms/step - loss: 0.1743 - accuracy: 0.9471\n",
      "Epoch 5/8\n",
      "1875/1875 [==============================] - 4s 2ms/step - loss: 0.1379 - accuracy: 0.9580\n",
      "Epoch 6/8\n",
      "1875/1875 [==============================] - 4s 2ms/step - loss: 0.1161 - accuracy: 0.9638\n",
      "Epoch 7/8\n",
      "1875/1875 [==============================] - 4s 2ms/step - loss: 0.1019 - accuracy: 0.9689\n",
      "Epoch 8/8\n",
      "1875/1875 [==============================] - 4s 2ms/step - loss: 0.0904 - accuracy: 0.9724\n"
     ]
    },
    {
     "name": "stderr",
     "output_type": "stream",
     "text": [
      "\u001b[32m[I 2021-11-05 13:27:49,889]\u001b[0m Trial 3 finished with value: 0.9751 and parameters: {'activation': 'exponential', 'n_neurons': 16, 'dilation': 2, 'loss': 'sparse_categorical_crossentropy', 'optimizer': 'adamax'}. Best is trial 3 with value: 0.9751.\u001b[0m\n"
     ]
    },
    {
     "name": "stdout",
     "output_type": "stream",
     "text": [
      "Função de ativação: selu\n",
      "Número de neurônios: 41\n",
      "Otimizador: adamax\n",
      "Epoch 1/8\n",
      "1875/1875 [==============================] - 5s 2ms/step - loss: 0.1678 - accuracy: 0.9504\n",
      "Epoch 2/8\n",
      "1875/1875 [==============================] - 5s 2ms/step - loss: 0.0572 - accuracy: 0.9830\n",
      "Epoch 3/8\n",
      "1875/1875 [==============================] - 5s 3ms/step - loss: 0.0401 - accuracy: 0.9877\n",
      "Epoch 4/8\n",
      "1875/1875 [==============================] - 5s 2ms/step - loss: 0.0299 - accuracy: 0.9911\n",
      "Epoch 5/8\n",
      "1875/1875 [==============================] - 5s 2ms/step - loss: 0.0234 - accuracy: 0.9927\n",
      "Epoch 6/8\n",
      "1875/1875 [==============================] - 5s 2ms/step - loss: 0.0183 - accuracy: 0.9945\n",
      "Epoch 7/8\n",
      "1875/1875 [==============================] - 5s 3ms/step - loss: 0.0142 - accuracy: 0.9958\n",
      "Epoch 8/8\n",
      "1875/1875 [==============================] - 5s 2ms/step - loss: 0.0111 - accuracy: 0.9966\n"
     ]
    },
    {
     "name": "stderr",
     "output_type": "stream",
     "text": [
      "\u001b[32m[I 2021-11-05 13:28:28,012]\u001b[0m Trial 4 finished with value: 0.9893 and parameters: {'activation': 'selu', 'n_neurons': 41, 'dilation': 2, 'loss': 'sparse_categorical_crossentropy', 'optimizer': 'adamax'}. Best is trial 4 with value: 0.9893.\u001b[0m\n"
     ]
    },
    {
     "name": "stdout",
     "output_type": "stream",
     "text": [
      "Função de ativação: tanh\n",
      "Número de neurônios: 20\n",
      "Otimizador: rmsprop\n",
      "Epoch 1/8\n",
      "1875/1875 [==============================] - 7s 3ms/step - loss: 0.2742 - accuracy: 0.9190\n",
      "Epoch 2/8\n",
      "1875/1875 [==============================] - 6s 3ms/step - loss: 0.1547 - accuracy: 0.9554\n",
      "Epoch 3/8\n",
      "1875/1875 [==============================] - 6s 3ms/step - loss: 0.1275 - accuracy: 0.9624\n",
      "Epoch 4/8\n",
      "1875/1875 [==============================] - 6s 3ms/step - loss: 0.1114 - accuracy: 0.9679\n",
      "Epoch 5/8\n",
      "1875/1875 [==============================] - 6s 3ms/step - loss: 0.0990 - accuracy: 0.9707\n",
      "Epoch 6/8\n",
      "1875/1875 [==============================] - 6s 3ms/step - loss: 0.0908 - accuracy: 0.9742\n",
      "Epoch 7/8\n",
      "1875/1875 [==============================] - 6s 3ms/step - loss: 0.0836 - accuracy: 0.9758\n",
      "Epoch 8/8\n",
      "1875/1875 [==============================] - 6s 3ms/step - loss: 0.0775 - accuracy: 0.9780\n"
     ]
    },
    {
     "name": "stderr",
     "output_type": "stream",
     "text": [
      "\u001b[32m[I 2021-11-05 13:29:16,820]\u001b[0m Trial 5 finished with value: 0.9695 and parameters: {'activation': 'tanh', 'n_neurons': 20, 'dilation': 1, 'loss': 'sparse_categorical_crossentropy', 'optimizer': 'rmsprop'}. Best is trial 4 with value: 0.9893.\u001b[0m\n"
     ]
    },
    {
     "name": "stdout",
     "output_type": "stream",
     "text": [
      "Função de ativação: softplus\n",
      "Número de neurônios: 53\n",
      "Otimizador: adamax\n",
      "Epoch 1/8\n",
      "1875/1875 [==============================] - 5s 3ms/step - loss: 1.2615 - accuracy: 0.5430\n",
      "Epoch 2/8\n",
      "1875/1875 [==============================] - 5s 3ms/step - loss: 0.1927 - accuracy: 0.9420\n",
      "Epoch 3/8\n",
      "1875/1875 [==============================] - 5s 3ms/step - loss: 0.1027 - accuracy: 0.9682\n",
      "Epoch 4/8\n",
      "1875/1875 [==============================] - 5s 3ms/step - loss: 0.0716 - accuracy: 0.9783\n",
      "Epoch 5/8\n",
      "1875/1875 [==============================] - 5s 3ms/step - loss: 0.0562 - accuracy: 0.9833\n",
      "Epoch 6/8\n",
      "1875/1875 [==============================] - 5s 3ms/step - loss: 0.0443 - accuracy: 0.9857\n",
      "Epoch 7/8\n",
      "1875/1875 [==============================] - 5s 3ms/step - loss: 0.0356 - accuracy: 0.9888\n",
      "Epoch 8/8\n",
      "1875/1875 [==============================] - 5s 3ms/step - loss: 0.0302 - accuracy: 0.9899\n"
     ]
    },
    {
     "name": "stderr",
     "output_type": "stream",
     "text": [
      "\u001b[32m[I 2021-11-05 13:29:58,533]\u001b[0m Trial 6 finished with value: 0.9879 and parameters: {'activation': 'softplus', 'n_neurons': 53, 'dilation': 2, 'loss': 'sparse_categorical_crossentropy', 'optimizer': 'adamax'}. Best is trial 4 with value: 0.9893.\u001b[0m\n"
     ]
    },
    {
     "name": "stdout",
     "output_type": "stream",
     "text": [
      "Função de ativação: sigmoid\n",
      "Número de neurônios: 63\n",
      "Otimizador: sgd\n",
      "Epoch 1/8\n",
      "1875/1875 [==============================] - 10s 5ms/step - loss: 2.3220 - accuracy: 0.1121\n",
      "Epoch 2/8\n",
      "1875/1875 [==============================] - 10s 5ms/step - loss: 2.3013 - accuracy: 0.1124\n",
      "Epoch 3/8\n",
      "1875/1875 [==============================] - 10s 5ms/step - loss: 2.3013 - accuracy: 0.1124\n",
      "Epoch 4/8\n",
      "1875/1875 [==============================] - 10s 5ms/step - loss: 2.3013 - accuracy: 0.1124\n",
      "Epoch 5/8\n",
      "1875/1875 [==============================] - 10s 5ms/step - loss: 2.3013 - accuracy: 0.1124\n",
      "Epoch 6/8\n",
      "1875/1875 [==============================] - 10s 5ms/step - loss: 2.3013 - accuracy: 0.1124\n",
      "Epoch 7/8\n",
      "1875/1875 [==============================] - 10s 5ms/step - loss: 2.3012 - accuracy: 0.1124\n",
      "Epoch 8/8\n",
      "1875/1875 [==============================] - 10s 5ms/step - loss: 2.3013 - accuracy: 0.1124\n"
     ]
    },
    {
     "name": "stderr",
     "output_type": "stream",
     "text": [
      "\u001b[32m[I 2021-11-05 13:31:18,595]\u001b[0m Trial 7 finished with value: 0.1135 and parameters: {'activation': 'sigmoid', 'n_neurons': 63, 'dilation': 1, 'loss': 'sparse_categorical_crossentropy', 'optimizer': 'sgd'}. Best is trial 4 with value: 0.9893.\u001b[0m\n"
     ]
    },
    {
     "name": "stdout",
     "output_type": "stream",
     "text": [
      "Função de ativação: exponential\n",
      "Número de neurônios: 63\n",
      "Otimizador: adam\n",
      "Epoch 1/8\n",
      "1875/1875 [==============================] - 12s 6ms/step - loss: 2.2449 - accuracy: 0.8125\n",
      "Epoch 2/8\n",
      "1875/1875 [==============================] - 11s 6ms/step - loss: 0.2702 - accuracy: 0.9238\n",
      "Epoch 3/8\n",
      "1875/1875 [==============================] - 11s 6ms/step - loss: 0.2185 - accuracy: 0.9388\n",
      "Epoch 4/8\n",
      "1875/1875 [==============================] - 11s 6ms/step - loss: 0.1784 - accuracy: 0.9499\n",
      "Epoch 5/8\n",
      "1875/1875 [==============================] - 11s 6ms/step - loss: 0.1528 - accuracy: 0.9570\n",
      "Epoch 6/8\n",
      "1875/1875 [==============================] - 11s 6ms/step - loss: 0.1329 - accuracy: 0.9614\n",
      "Epoch 7/8\n",
      "1875/1875 [==============================] - 11s 6ms/step - loss: 0.1188 - accuracy: 0.9653\n",
      "Epoch 8/8\n",
      "1875/1875 [==============================] - 11s 6ms/step - loss: 0.1057 - accuracy: 0.9687\n"
     ]
    },
    {
     "name": "stderr",
     "output_type": "stream",
     "text": [
      "\u001b[32m[I 2021-11-05 13:32:47,390]\u001b[0m Trial 8 finished with value: 0.961 and parameters: {'activation': 'exponential', 'n_neurons': 63, 'dilation': 1, 'loss': 'sparse_categorical_crossentropy', 'optimizer': 'adam'}. Best is trial 4 with value: 0.9893.\u001b[0m\n"
     ]
    },
    {
     "name": "stdout",
     "output_type": "stream",
     "text": [
      "Função de ativação: elu\n",
      "Número de neurônios: 19\n",
      "Otimizador: adamax\n",
      "Epoch 1/8\n",
      "1875/1875 [==============================] - 5s 2ms/step - loss: 0.3001 - accuracy: 0.9099\n",
      "Epoch 2/8\n",
      "1875/1875 [==============================] - 4s 2ms/step - loss: 0.1013 - accuracy: 0.9699\n",
      "Epoch 3/8\n",
      "1875/1875 [==============================] - 4s 2ms/step - loss: 0.0705 - accuracy: 0.9783\n",
      "Epoch 4/8\n",
      "1875/1875 [==============================] - 4s 2ms/step - loss: 0.0550 - accuracy: 0.9830\n",
      "Epoch 5/8\n",
      "1875/1875 [==============================] - 4s 2ms/step - loss: 0.0465 - accuracy: 0.9859\n",
      "Epoch 6/8\n",
      "1875/1875 [==============================] - 4s 2ms/step - loss: 0.0403 - accuracy: 0.9878\n",
      "Epoch 7/8\n",
      "1875/1875 [==============================] - 5s 2ms/step - loss: 0.0354 - accuracy: 0.9892\n",
      "Epoch 8/8\n",
      "1875/1875 [==============================] - 4s 2ms/step - loss: 0.0307 - accuracy: 0.9906\n"
     ]
    },
    {
     "name": "stderr",
     "output_type": "stream",
     "text": [
      "\u001b[32m[I 2021-11-05 13:33:23,811]\u001b[0m Trial 9 finished with value: 0.9878 and parameters: {'activation': 'elu', 'n_neurons': 19, 'dilation': 2, 'loss': 'sparse_categorical_crossentropy', 'optimizer': 'adamax'}. Best is trial 4 with value: 0.9893.\u001b[0m\n"
     ]
    },
    {
     "name": "stdout",
     "output_type": "stream",
     "text": [
      "Função de ativação: selu\n",
      "Número de neurônios: 35\n",
      "Otimizador: sgd\n",
      "Epoch 1/8\n",
      "1875/1875 [==============================] - 4s 2ms/step - loss: 0.4111 - accuracy: 0.8804\n",
      "Epoch 2/8\n",
      "1875/1875 [==============================] - 4s 2ms/step - loss: 0.1319 - accuracy: 0.9608\n",
      "Epoch 3/8\n",
      "1875/1875 [==============================] - 4s 2ms/step - loss: 0.0902 - accuracy: 0.9733\n",
      "Epoch 4/8\n",
      "1875/1875 [==============================] - 4s 2ms/step - loss: 0.0707 - accuracy: 0.9790\n",
      "Epoch 5/8\n",
      "1875/1875 [==============================] - 4s 2ms/step - loss: 0.0587 - accuracy: 0.9826\n",
      "Epoch 6/8\n",
      "1875/1875 [==============================] - 4s 2ms/step - loss: 0.0508 - accuracy: 0.9844\n",
      "Epoch 7/8\n",
      "1875/1875 [==============================] - 4s 2ms/step - loss: 0.0448 - accuracy: 0.9863\n",
      "Epoch 8/8\n",
      "1875/1875 [==============================] - 4s 2ms/step - loss: 0.0397 - accuracy: 0.9879\n"
     ]
    },
    {
     "name": "stderr",
     "output_type": "stream",
     "text": [
      "\u001b[32m[I 2021-11-05 13:33:57,578]\u001b[0m Trial 10 finished with value: 0.9843 and parameters: {'activation': 'selu', 'n_neurons': 35, 'dilation': 2, 'loss': 'sparse_categorical_crossentropy', 'optimizer': 'sgd'}. Best is trial 4 with value: 0.9893.\u001b[0m\n"
     ]
    },
    {
     "name": "stdout",
     "output_type": "stream",
     "text": [
      "Função de ativação: softplus\n",
      "Número de neurônios: 49\n",
      "Otimizador: adamax\n",
      "Epoch 1/8\n",
      "1875/1875 [==============================] - 5s 3ms/step - loss: 2.3054 - accuracy: 0.1103\n",
      "Epoch 2/8\n",
      "1875/1875 [==============================] - 5s 3ms/step - loss: 2.3013 - accuracy: 0.1124\n",
      "Epoch 3/8\n",
      "1875/1875 [==============================] - 5s 3ms/step - loss: 2.3012 - accuracy: 0.1124\n",
      "Epoch 4/8\n",
      "1875/1875 [==============================] - 5s 3ms/step - loss: 2.3012 - accuracy: 0.1124\n",
      "Epoch 5/8\n",
      "1875/1875 [==============================] - 5s 3ms/step - loss: 2.3012 - accuracy: 0.1124\n",
      "Epoch 6/8\n",
      "1875/1875 [==============================] - 5s 3ms/step - loss: 2.3012 - accuracy: 0.1124\n",
      "Epoch 7/8\n",
      "1875/1875 [==============================] - 5s 3ms/step - loss: 2.3012 - accuracy: 0.1124\n",
      "Epoch 8/8\n",
      "1875/1875 [==============================] - 5s 3ms/step - loss: 2.3012 - accuracy: 0.1124\n"
     ]
    },
    {
     "name": "stderr",
     "output_type": "stream",
     "text": [
      "\u001b[32m[I 2021-11-05 13:34:38,332]\u001b[0m Trial 11 finished with value: 0.1135 and parameters: {'activation': 'softplus', 'n_neurons': 49, 'dilation': 2, 'loss': 'sparse_categorical_crossentropy', 'optimizer': 'adamax'}. Best is trial 4 with value: 0.9893.\u001b[0m\n"
     ]
    },
    {
     "name": "stdout",
     "output_type": "stream",
     "text": [
      "Função de ativação: softsign\n",
      "Número de neurônios: 53\n",
      "Otimizador: adamax\n",
      "Epoch 1/8\n",
      "1875/1875 [==============================] - 5s 3ms/step - loss: 0.2033 - accuracy: 0.9384\n",
      "Epoch 2/8\n",
      "1875/1875 [==============================] - 5s 3ms/step - loss: 0.0616 - accuracy: 0.9813\n",
      "Epoch 3/8\n",
      "1875/1875 [==============================] - 5s 3ms/step - loss: 0.0401 - accuracy: 0.9879\n",
      "Epoch 4/8\n",
      "1875/1875 [==============================] - 5s 3ms/step - loss: 0.0304 - accuracy: 0.9908\n",
      "Epoch 5/8\n",
      "1875/1875 [==============================] - 5s 3ms/step - loss: 0.0242 - accuracy: 0.9927\n",
      "Epoch 6/8\n",
      "1875/1875 [==============================] - 5s 3ms/step - loss: 0.0190 - accuracy: 0.9942\n",
      "Epoch 7/8\n",
      "1875/1875 [==============================] - 5s 3ms/step - loss: 0.0154 - accuracy: 0.9952\n",
      "Epoch 8/8\n",
      "1875/1875 [==============================] - 5s 3ms/step - loss: 0.0127 - accuracy: 0.9961\n"
     ]
    },
    {
     "name": "stderr",
     "output_type": "stream",
     "text": [
      "\u001b[32m[I 2021-11-05 13:35:20,639]\u001b[0m Trial 12 finished with value: 0.9917 and parameters: {'activation': 'softsign', 'n_neurons': 53, 'dilation': 2, 'loss': 'sparse_categorical_crossentropy', 'optimizer': 'adamax'}. Best is trial 12 with value: 0.9917.\u001b[0m\n"
     ]
    },
    {
     "name": "stdout",
     "output_type": "stream",
     "text": [
      "Função de ativação: softsign\n",
      "Número de neurônios: 55\n",
      "Otimizador: adam\n",
      "Epoch 1/8\n",
      "1875/1875 [==============================] - 5s 3ms/step - loss: 0.1319 - accuracy: 0.9592\n",
      "Epoch 2/8\n",
      "1875/1875 [==============================] - 5s 3ms/step - loss: 0.0500 - accuracy: 0.9847\n",
      "Epoch 3/8\n",
      "1875/1875 [==============================] - 5s 3ms/step - loss: 0.0400 - accuracy: 0.9873\n",
      "Epoch 4/8\n",
      "1875/1875 [==============================] - 5s 3ms/step - loss: 0.0314 - accuracy: 0.9898\n",
      "Epoch 5/8\n",
      "1875/1875 [==============================] - 5s 3ms/step - loss: 0.0273 - accuracy: 0.9915\n",
      "Epoch 6/8\n",
      "1875/1875 [==============================] - 5s 3ms/step - loss: 0.0243 - accuracy: 0.9925\n",
      "Epoch 7/8\n",
      "1875/1875 [==============================] - 5s 3ms/step - loss: 0.0224 - accuracy: 0.9933\n",
      "Epoch 8/8\n",
      "1875/1875 [==============================] - 5s 3ms/step - loss: 0.0198 - accuracy: 0.9937\n"
     ]
    },
    {
     "name": "stderr",
     "output_type": "stream",
     "text": [
      "\u001b[32m[I 2021-11-05 13:36:01,848]\u001b[0m Trial 13 finished with value: 0.9813 and parameters: {'activation': 'softsign', 'n_neurons': 55, 'dilation': 2, 'loss': 'sparse_categorical_crossentropy', 'optimizer': 'adam'}. Best is trial 12 with value: 0.9917.\u001b[0m\n"
     ]
    },
    {
     "name": "stdout",
     "output_type": "stream",
     "text": [
      "Função de ativação: softsign\n",
      "Número de neurônios: 31\n",
      "Otimizador: adamax\n",
      "Epoch 1/8\n",
      "1875/1875 [==============================] - 5s 2ms/step - loss: 0.2554 - accuracy: 0.9264\n",
      "Epoch 2/8\n",
      "1875/1875 [==============================] - 4s 2ms/step - loss: 0.0827 - accuracy: 0.9759\n",
      "Epoch 3/8\n",
      "1875/1875 [==============================] - 4s 2ms/step - loss: 0.0575 - accuracy: 0.9829\n",
      "Epoch 4/8\n",
      "1875/1875 [==============================] - 4s 2ms/step - loss: 0.0450 - accuracy: 0.9864\n",
      "Epoch 5/8\n",
      "1875/1875 [==============================] - 4s 2ms/step - loss: 0.0370 - accuracy: 0.9889\n",
      "Epoch 6/8\n",
      "1875/1875 [==============================] - 4s 2ms/step - loss: 0.0315 - accuracy: 0.9906\n",
      "Epoch 7/8\n",
      "1875/1875 [==============================] - 4s 2ms/step - loss: 0.0274 - accuracy: 0.9917\n",
      "Epoch 8/8\n",
      "1875/1875 [==============================] - 4s 2ms/step - loss: 0.0238 - accuracy: 0.9930\n"
     ]
    },
    {
     "name": "stderr",
     "output_type": "stream",
     "text": [
      "\u001b[32m[I 2021-11-05 13:36:43,751]\u001b[0m Trial 14 finished with value: 0.99 and parameters: {'activation': 'softsign', 'n_neurons': 31, 'dilation': 2, 'loss': 'sparse_categorical_crossentropy', 'optimizer': 'adamax'}. Best is trial 12 with value: 0.9917.\u001b[0m\n"
     ]
    },
    {
     "name": "stdout",
     "output_type": "stream",
     "text": [
      "Função de ativação: softsign\n",
      "Número de neurônios: 29\n",
      "Otimizador: adamax\n",
      "Epoch 1/8\n",
      "1875/1875 [==============================] - 5s 3ms/step - loss: 0.2614 - accuracy: 0.9236\n",
      "Epoch 2/8\n",
      "1875/1875 [==============================] - 5s 3ms/step - loss: 0.0841 - accuracy: 0.9745\n",
      "Epoch 3/8\n",
      "1875/1875 [==============================] - 5s 3ms/step - loss: 0.0599 - accuracy: 0.9824\n",
      "Epoch 4/8\n",
      "1875/1875 [==============================] - 5s 3ms/step - loss: 0.0471 - accuracy: 0.9858\n",
      "Epoch 5/8\n",
      "1875/1875 [==============================] - 5s 3ms/step - loss: 0.0388 - accuracy: 0.9882\n",
      "Epoch 6/8\n",
      "1875/1875 [==============================] - 5s 3ms/step - loss: 0.0328 - accuracy: 0.9902\n",
      "Epoch 7/8\n",
      "1875/1875 [==============================] - 5s 3ms/step - loss: 0.0283 - accuracy: 0.9914\n",
      "Epoch 8/8\n",
      "1875/1875 [==============================] - 5s 2ms/step - loss: 0.0246 - accuracy: 0.9924\n"
     ]
    },
    {
     "name": "stderr",
     "output_type": "stream",
     "text": [
      "\u001b[32m[I 2021-11-05 13:37:22,545]\u001b[0m Trial 15 finished with value: 0.9886 and parameters: {'activation': 'softsign', 'n_neurons': 29, 'dilation': 2, 'loss': 'sparse_categorical_crossentropy', 'optimizer': 'adamax'}. Best is trial 12 with value: 0.9917.\u001b[0m\n"
     ]
    }
   ],
   "source": [
    "study_2 = optuna.create_study(direction='maximize')\n",
    "study_2.optimize(cnn2, n_trials=16)"
   ]
  },
  {
   "cell_type": "code",
   "execution_count": null,
   "metadata": {
    "id": "aQWlb8cv8qXX"
   },
   "outputs": [],
   "source": [
    "def cnn3(trial):\n",
    "  (x_train, y_train), (x_test, y_test) = (train_images,train_labels),(test_images,test_labels)\n",
    "  \n",
    "  activation = trial.suggest_categorical('activation', ['sigmoid', 'softmax', 'tanh', 'relu','softplus','softsign','selu','elu','exponential'])\n",
    "  \n",
    "  n_neurons = trial.suggest_int('n_neurons', 16, 64)\n",
    "  # Redução de dilation\n",
    "  dilation = trial.suggest_int('dilation', 1, 1)\n",
    "  loss = trial.suggest_categorical('loss', ['sparse_categorical_crossentropy'])\n",
    "  optimizer = trial.suggest_categorical('optimizer', ['sgd', 'adam','rmsprop','adamax'])\n",
    "  \n",
    "  print(\"Função de ativação: {}\\nNúmero de neurônios: {}\\nOtimizador: {}\".format(activation,n_neurons,optimizer))\n",
    "  model = keras.models.Sequential()\n",
    "\n",
    "  model.add(tf.keras.layers.Conv2D(n_neurons, (dilation,dilation),activation=activation,input_shape=(28,28,1)))\n",
    "  model.add(tf.keras.layers.MaxPooling2D((dilation,dilation)))\n",
    "  \n",
    "  # ----------------- ADICIONAMOS MAIS TRÊS CAMADA CNN ----------------- #\n",
    "  model.add(tf.keras.layers.Conv2D(n_neurons*2, (dilation,dilation),activation=activation))\n",
    "  model.add(tf.keras.layers.MaxPooling2D((dilation,dilation)))\n",
    "  model.add(tf.keras.layers.Conv2D(n_neurons*2, (dilation,dilation),activation=activation))\n",
    "  model.add(tf.keras.layers.MaxPooling2D((dilation,dilation)))\n",
    "  model.add(tf.keras.layers.Conv2D(n_neurons*2, (dilation,dilation),activation=activation))\n",
    "  model.add(tf.keras.layers.MaxPooling2D((dilation,dilation)))\n",
    "  # ----------------- ADICIONAMOS MAIS TRÊS CAMADA CNN ----------------- #\n",
    "\n",
    "  model.add(tf.keras.layers.Conv2D(n_neurons*2, (dilation,dilation),activation=activation))\n",
    "  model.add(tf.keras.layers.Flatten())\n",
    "  model.add(tf.keras.layers.Dense(n_neurons*2, activation='relu'))\n",
    "  model.add(tf.keras.layers.Dense(10, activation='softmax'))\n",
    "  model.compile(loss=loss,optimizer=optimizer,metrics=[\"accuracy\"])\n",
    "\n",
    "  history = model.fit(x_train, y_train, epochs=8, verbose=1)\n",
    "  y_pred = np.argmax(model.predict(x_test), axis=-1)\n",
    "  y_true = y_test\n",
    "  return accuracy_score(y_true, y_pred)"
   ]
  },
  {
   "cell_type": "code",
   "execution_count": null,
   "metadata": {
    "colab": {
     "base_uri": "https://localhost:8080/"
    },
    "id": "UPBYNgTv8k3i",
    "outputId": "1090d1c7-c7b0-416d-c4c1-39086486a673"
   },
   "outputs": [
    {
     "name": "stderr",
     "output_type": "stream",
     "text": [
      "\u001b[32m[I 2021-11-05 13:37:22,583]\u001b[0m A new study created in memory with name: no-name-bb39e995-7f55-4052-b3f5-188b7096ee06\u001b[0m\n"
     ]
    },
    {
     "name": "stdout",
     "output_type": "stream",
     "text": [
      "Função de ativação: sigmoid\n",
      "Número de neurônios: 43\n",
      "Otimizador: adamax\n",
      "Epoch 1/8\n",
      "1875/1875 [==============================] - 14s 7ms/step - loss: 2.3924 - accuracy: 0.1113\n",
      "Epoch 2/8\n",
      "1875/1875 [==============================] - 13s 7ms/step - loss: 2.3013 - accuracy: 0.1124\n",
      "Epoch 3/8\n",
      "1875/1875 [==============================] - 13s 7ms/step - loss: 2.3012 - accuracy: 0.1124\n",
      "Epoch 4/8\n",
      "1875/1875 [==============================] - 13s 7ms/step - loss: 2.3012 - accuracy: 0.1124\n",
      "Epoch 5/8\n",
      "1875/1875 [==============================] - 13s 7ms/step - loss: 2.3012 - accuracy: 0.1124\n",
      "Epoch 6/8\n",
      "1875/1875 [==============================] - 13s 7ms/step - loss: 2.3012 - accuracy: 0.1124\n",
      "Epoch 7/8\n",
      "1875/1875 [==============================] - 13s 7ms/step - loss: 2.3012 - accuracy: 0.1124\n",
      "Epoch 8/8\n",
      "1875/1875 [==============================] - 13s 7ms/step - loss: 2.3012 - accuracy: 0.1124\n"
     ]
    },
    {
     "name": "stderr",
     "output_type": "stream",
     "text": [
      "\u001b[32m[I 2021-11-05 13:39:08,714]\u001b[0m Trial 0 finished with value: 0.1135 and parameters: {'activation': 'sigmoid', 'n_neurons': 43, 'dilation': 1, 'loss': 'sparse_categorical_crossentropy', 'optimizer': 'adamax'}. Best is trial 0 with value: 0.1135.\u001b[0m\n"
     ]
    },
    {
     "name": "stdout",
     "output_type": "stream",
     "text": [
      "Função de ativação: softsign\n",
      "Número de neurônios: 32\n",
      "Otimizador: rmsprop\n",
      "Epoch 1/8\n",
      "1875/1875 [==============================] - 11s 5ms/step - loss: 0.2440 - accuracy: 0.9276\n",
      "Epoch 2/8\n",
      "1875/1875 [==============================] - 10s 6ms/step - loss: 0.1273 - accuracy: 0.9620\n",
      "Epoch 3/8\n",
      "1875/1875 [==============================] - 10s 5ms/step - loss: 0.1019 - accuracy: 0.9704\n",
      "Epoch 4/8\n",
      "1875/1875 [==============================] - 10s 5ms/step - loss: 0.0877 - accuracy: 0.9744\n",
      "Epoch 5/8\n",
      "1875/1875 [==============================] - 10s 5ms/step - loss: 0.0781 - accuracy: 0.9776\n",
      "Epoch 6/8\n",
      "1875/1875 [==============================] - 10s 5ms/step - loss: 0.0697 - accuracy: 0.9795\n",
      "Epoch 7/8\n",
      "1875/1875 [==============================] - 10s 5ms/step - loss: 0.0646 - accuracy: 0.9809\n",
      "Epoch 8/8\n",
      "1875/1875 [==============================] - 10s 5ms/step - loss: 0.0596 - accuracy: 0.9834\n"
     ]
    },
    {
     "name": "stderr",
     "output_type": "stream",
     "text": [
      "\u001b[32m[I 2021-11-05 13:40:32,414]\u001b[0m Trial 1 finished with value: 0.9725 and parameters: {'activation': 'softsign', 'n_neurons': 32, 'dilation': 1, 'loss': 'sparse_categorical_crossentropy', 'optimizer': 'rmsprop'}. Best is trial 1 with value: 0.9725.\u001b[0m\n"
     ]
    },
    {
     "name": "stdout",
     "output_type": "stream",
     "text": [
      "Função de ativação: tanh\n",
      "Número de neurônios: 37\n",
      "Otimizador: rmsprop\n",
      "Epoch 1/8\n",
      "1875/1875 [==============================] - 13s 6ms/step - loss: 0.2619 - accuracy: 0.9236\n",
      "Epoch 2/8\n",
      "1875/1875 [==============================] - 12s 6ms/step - loss: 0.1307 - accuracy: 0.9622\n",
      "Epoch 3/8\n",
      "1875/1875 [==============================] - 12s 6ms/step - loss: 0.1046 - accuracy: 0.9690\n",
      "Epoch 4/8\n",
      "1875/1875 [==============================] - 12s 6ms/step - loss: 0.0871 - accuracy: 0.9748\n",
      "Epoch 5/8\n",
      "1875/1875 [==============================] - 12s 6ms/step - loss: 0.0779 - accuracy: 0.9776\n",
      "Epoch 6/8\n",
      "1875/1875 [==============================] - 12s 6ms/step - loss: 0.0694 - accuracy: 0.9804\n",
      "Epoch 7/8\n",
      "1875/1875 [==============================] - 12s 6ms/step - loss: 0.0642 - accuracy: 0.9819\n",
      "Epoch 8/8\n",
      "1875/1875 [==============================] - 12s 6ms/step - loss: 0.0610 - accuracy: 0.9833\n"
     ]
    },
    {
     "name": "stderr",
     "output_type": "stream",
     "text": [
      "\u001b[32m[I 2021-11-05 13:42:10,612]\u001b[0m Trial 2 finished with value: 0.9713 and parameters: {'activation': 'tanh', 'n_neurons': 37, 'dilation': 1, 'loss': 'sparse_categorical_crossentropy', 'optimizer': 'rmsprop'}. Best is trial 1 with value: 0.9725.\u001b[0m\n"
     ]
    },
    {
     "name": "stdout",
     "output_type": "stream",
     "text": [
      "Função de ativação: softmax\n",
      "Número de neurônios: 42\n",
      "Otimizador: rmsprop\n",
      "Epoch 1/8\n",
      "1875/1875 [==============================] - 18s 9ms/step - loss: 2.3041 - accuracy: 0.1110\n",
      "Epoch 2/8\n",
      "1875/1875 [==============================] - 17s 9ms/step - loss: 2.3014 - accuracy: 0.1124\n",
      "Epoch 3/8\n",
      "1875/1875 [==============================] - 17s 9ms/step - loss: 2.3013 - accuracy: 0.1124\n",
      "Epoch 4/8\n",
      "1875/1875 [==============================] - 17s 9ms/step - loss: 2.3013 - accuracy: 0.1124\n",
      "Epoch 5/8\n",
      "1875/1875 [==============================] - 17s 9ms/step - loss: 2.3014 - accuracy: 0.1124\n",
      "Epoch 6/8\n",
      "1875/1875 [==============================] - 17s 9ms/step - loss: 2.3014 - accuracy: 0.1124\n",
      "Epoch 7/8\n",
      "1875/1875 [==============================] - 17s 9ms/step - loss: 2.3013 - accuracy: 0.1124\n",
      "Epoch 8/8\n",
      "1875/1875 [==============================] - 17s 9ms/step - loss: 2.3014 - accuracy: 0.1124\n"
     ]
    },
    {
     "name": "stderr",
     "output_type": "stream",
     "text": [
      "\u001b[32m[I 2021-11-05 13:44:34,662]\u001b[0m Trial 3 finished with value: 0.1135 and parameters: {'activation': 'softmax', 'n_neurons': 42, 'dilation': 1, 'loss': 'sparse_categorical_crossentropy', 'optimizer': 'rmsprop'}. Best is trial 1 with value: 0.9725.\u001b[0m\n"
     ]
    },
    {
     "name": "stdout",
     "output_type": "stream",
     "text": [
      "Função de ativação: elu\n",
      "Número de neurônios: 41\n",
      "Otimizador: sgd\n",
      "Epoch 1/8\n",
      "1875/1875 [==============================] - 12s 6ms/step - loss: 0.2901 - accuracy: 0.9162\n",
      "Epoch 2/8\n",
      "1875/1875 [==============================] - 12s 6ms/step - loss: 0.1269 - accuracy: 0.9626\n",
      "Epoch 3/8\n",
      "1875/1875 [==============================] - 12s 6ms/step - loss: 0.0892 - accuracy: 0.9730\n",
      "Epoch 4/8\n",
      "1875/1875 [==============================] - 12s 6ms/step - loss: 0.0702 - accuracy: 0.9783\n",
      "Epoch 5/8\n",
      "1875/1875 [==============================] - 12s 6ms/step - loss: 0.0539 - accuracy: 0.9832\n",
      "Epoch 6/8\n",
      "1875/1875 [==============================] - 12s 6ms/step - loss: 0.0453 - accuracy: 0.9853\n",
      "Epoch 7/8\n",
      "1875/1875 [==============================] - 12s 6ms/step - loss: 0.0375 - accuracy: 0.9878\n",
      "Epoch 8/8\n",
      "1875/1875 [==============================] - 12s 6ms/step - loss: 0.0297 - accuracy: 0.9903\n"
     ]
    },
    {
     "name": "stderr",
     "output_type": "stream",
     "text": [
      "\u001b[32m[I 2021-11-05 13:46:57,749]\u001b[0m Trial 4 finished with value: 0.9704 and parameters: {'activation': 'elu', 'n_neurons': 41, 'dilation': 1, 'loss': 'sparse_categorical_crossentropy', 'optimizer': 'sgd'}. Best is trial 1 with value: 0.9725.\u001b[0m\n"
     ]
    },
    {
     "name": "stdout",
     "output_type": "stream",
     "text": [
      "Função de ativação: elu\n",
      "Número de neurônios: 60\n",
      "Otimizador: rmsprop\n",
      "Epoch 1/8\n",
      "1875/1875 [==============================] - 18s 9ms/step - loss: 0.2762 - accuracy: 0.9220\n",
      "Epoch 2/8\n",
      "1875/1875 [==============================] - 17s 9ms/step - loss: 0.1356 - accuracy: 0.9622\n",
      "Epoch 3/8\n",
      "1875/1875 [==============================] - 17s 9ms/step - loss: 0.1099 - accuracy: 0.9700\n",
      "Epoch 4/8\n",
      "1875/1875 [==============================] - 17s 9ms/step - loss: 0.0954 - accuracy: 0.9747\n",
      "Epoch 5/8\n",
      "1875/1875 [==============================] - 17s 9ms/step - loss: 0.0876 - accuracy: 0.9774\n",
      "Epoch 6/8\n",
      "1875/1875 [==============================] - 17s 9ms/step - loss: 0.0799 - accuracy: 0.9791\n",
      "Epoch 7/8\n",
      "1875/1875 [==============================] - 17s 9ms/step - loss: 0.0765 - accuracy: 0.9816\n",
      "Epoch 8/8\n",
      "1875/1875 [==============================] - 17s 9ms/step - loss: 0.0732 - accuracy: 0.9816\n"
     ]
    },
    {
     "name": "stderr",
     "output_type": "stream",
     "text": [
      "\u001b[32m[I 2021-11-05 13:49:17,789]\u001b[0m Trial 5 finished with value: 0.9647 and parameters: {'activation': 'elu', 'n_neurons': 60, 'dilation': 1, 'loss': 'sparse_categorical_crossentropy', 'optimizer': 'rmsprop'}. Best is trial 1 with value: 0.9725.\u001b[0m\n"
     ]
    },
    {
     "name": "stdout",
     "output_type": "stream",
     "text": [
      "Função de ativação: relu\n",
      "Número de neurônios: 38\n",
      "Otimizador: sgd\n",
      "Epoch 1/8\n",
      "1875/1875 [==============================] - 11s 5ms/step - loss: 0.4595 - accuracy: 0.8709\n",
      "Epoch 2/8\n",
      "1875/1875 [==============================] - 10s 5ms/step - loss: 0.1462 - accuracy: 0.9557\n",
      "Epoch 3/8\n",
      "1875/1875 [==============================] - 10s 5ms/step - loss: 0.1027 - accuracy: 0.9687\n",
      "Epoch 4/8\n",
      "1875/1875 [==============================] - 10s 5ms/step - loss: 0.0822 - accuracy: 0.9745\n",
      "Epoch 5/8\n",
      "1875/1875 [==============================] - 10s 5ms/step - loss: 0.0660 - accuracy: 0.9801\n",
      "Epoch 6/8\n",
      "1875/1875 [==============================] - 10s 5ms/step - loss: 0.0554 - accuracy: 0.9827\n",
      "Epoch 7/8\n",
      "1875/1875 [==============================] - 10s 5ms/step - loss: 0.0487 - accuracy: 0.9848\n",
      "Epoch 8/8\n",
      "1875/1875 [==============================] - 10s 5ms/step - loss: 0.0410 - accuracy: 0.9872\n"
     ]
    },
    {
     "name": "stderr",
     "output_type": "stream",
     "text": [
      "\u001b[32m[I 2021-11-05 13:50:39,762]\u001b[0m Trial 6 finished with value: 0.9744 and parameters: {'activation': 'relu', 'n_neurons': 38, 'dilation': 1, 'loss': 'sparse_categorical_crossentropy', 'optimizer': 'sgd'}. Best is trial 6 with value: 0.9744.\u001b[0m\n"
     ]
    },
    {
     "name": "stdout",
     "output_type": "stream",
     "text": [
      "Função de ativação: softmax\n",
      "Número de neurônios: 64\n",
      "Otimizador: rmsprop\n",
      "Epoch 1/8\n",
      "1875/1875 [==============================] - 22s 11ms/step - loss: 2.3059 - accuracy: 0.1114\n",
      "Epoch 2/8\n",
      "1875/1875 [==============================] - 21s 11ms/step - loss: 2.3014 - accuracy: 0.1124\n",
      "Epoch 3/8\n",
      "1875/1875 [==============================] - 21s 11ms/step - loss: 2.3014 - accuracy: 0.1124\n",
      "Epoch 4/8\n",
      "1875/1875 [==============================] - 21s 11ms/step - loss: 2.3013 - accuracy: 0.1124\n",
      "Epoch 5/8\n",
      "1875/1875 [==============================] - 21s 11ms/step - loss: 2.3014 - accuracy: 0.1124\n",
      "Epoch 6/8\n",
      "1875/1875 [==============================] - 21s 11ms/step - loss: 2.3014 - accuracy: 0.1124\n",
      "Epoch 7/8\n",
      "1875/1875 [==============================] - 21s 11ms/step - loss: 2.3014 - accuracy: 0.1124\n",
      "Epoch 8/8\n",
      "1875/1875 [==============================] - 21s 11ms/step - loss: 2.3013 - accuracy: 0.1124\n"
     ]
    },
    {
     "name": "stderr",
     "output_type": "stream",
     "text": [
      "\u001b[32m[I 2021-11-05 13:53:32,748]\u001b[0m Trial 7 finished with value: 0.1135 and parameters: {'activation': 'softmax', 'n_neurons': 64, 'dilation': 1, 'loss': 'sparse_categorical_crossentropy', 'optimizer': 'rmsprop'}. Best is trial 6 with value: 0.9744.\u001b[0m\n"
     ]
    },
    {
     "name": "stdout",
     "output_type": "stream",
     "text": [
      "Função de ativação: exponential\n",
      "Número de neurônios: 19\n",
      "Otimizador: rmsprop\n",
      "Epoch 1/8\n",
      "1875/1875 [==============================] - 9s 4ms/step - loss: nan - accuracy: 0.0987\n",
      "Epoch 2/8\n",
      "1875/1875 [==============================] - 8s 4ms/step - loss: nan - accuracy: 0.0987\n",
      "Epoch 3/8\n",
      "1875/1875 [==============================] - 8s 4ms/step - loss: nan - accuracy: 0.0987\n",
      "Epoch 4/8\n",
      "1875/1875 [==============================] - 8s 4ms/step - loss: nan - accuracy: 0.0987\n",
      "Epoch 5/8\n",
      "1875/1875 [==============================] - 8s 4ms/step - loss: nan - accuracy: 0.0987\n",
      "Epoch 6/8\n",
      "1875/1875 [==============================] - 8s 4ms/step - loss: nan - accuracy: 0.0987\n",
      "Epoch 7/8\n",
      "1875/1875 [==============================] - 8s 4ms/step - loss: nan - accuracy: 0.0987\n",
      "Epoch 8/8\n",
      "1875/1875 [==============================] - 8s 4ms/step - loss: nan - accuracy: 0.0987\n"
     ]
    },
    {
     "name": "stderr",
     "output_type": "stream",
     "text": [
      "\u001b[32m[I 2021-11-05 13:54:38,064]\u001b[0m Trial 8 finished with value: 0.098 and parameters: {'activation': 'exponential', 'n_neurons': 19, 'dilation': 1, 'loss': 'sparse_categorical_crossentropy', 'optimizer': 'rmsprop'}. Best is trial 6 with value: 0.9744.\u001b[0m\n"
     ]
    },
    {
     "name": "stdout",
     "output_type": "stream",
     "text": [
      "Função de ativação: selu\n",
      "Número de neurônios: 41\n",
      "Otimizador: sgd\n",
      "Epoch 1/8\n",
      "1875/1875 [==============================] - 12s 6ms/step - loss: 0.2199 - accuracy: 0.9355\n",
      "Epoch 2/8\n",
      "1875/1875 [==============================] - 12s 6ms/step - loss: 0.1050 - accuracy: 0.9680\n",
      "Epoch 3/8\n",
      "1875/1875 [==============================] - 12s 6ms/step - loss: 0.0762 - accuracy: 0.9767\n",
      "Epoch 4/8\n",
      "1875/1875 [==============================] - 12s 6ms/step - loss: 0.0595 - accuracy: 0.9809\n",
      "Epoch 5/8\n",
      "1875/1875 [==============================] - 12s 6ms/step - loss: 0.0476 - accuracy: 0.9846\n",
      "Epoch 6/8\n",
      "1875/1875 [==============================] - 12s 6ms/step - loss: 0.0388 - accuracy: 0.9877\n",
      "Epoch 7/8\n",
      "1875/1875 [==============================] - 12s 6ms/step - loss: 0.0320 - accuracy: 0.9900\n",
      "Epoch 8/8\n",
      "1875/1875 [==============================] - 12s 6ms/step - loss: 0.0254 - accuracy: 0.9921\n"
     ]
    },
    {
     "name": "stderr",
     "output_type": "stream",
     "text": [
      "\u001b[32m[I 2021-11-05 13:56:14,523]\u001b[0m Trial 9 finished with value: 0.9758 and parameters: {'activation': 'selu', 'n_neurons': 41, 'dilation': 1, 'loss': 'sparse_categorical_crossentropy', 'optimizer': 'sgd'}. Best is trial 9 with value: 0.9758.\u001b[0m\n"
     ]
    },
    {
     "name": "stdout",
     "output_type": "stream",
     "text": [
      "Função de ativação: selu\n",
      "Número de neurônios: 52\n",
      "Otimizador: adam\n",
      "Epoch 1/8\n",
      "1875/1875 [==============================] - 14s 7ms/step - loss: 0.2547 - accuracy: 0.9246\n",
      "Epoch 2/8\n",
      "1875/1875 [==============================] - 13s 7ms/step - loss: 0.1457 - accuracy: 0.9568\n",
      "Epoch 3/8\n",
      "1875/1875 [==============================] - 13s 7ms/step - loss: 0.1187 - accuracy: 0.9653\n",
      "Epoch 4/8\n",
      "1875/1875 [==============================] - 13s 7ms/step - loss: 0.1009 - accuracy: 0.9703\n",
      "Epoch 5/8\n",
      "1875/1875 [==============================] - 13s 7ms/step - loss: 0.0822 - accuracy: 0.9748\n",
      "Epoch 6/8\n",
      "1875/1875 [==============================] - 13s 7ms/step - loss: 0.0780 - accuracy: 0.9765\n",
      "Epoch 7/8\n",
      "1875/1875 [==============================] - 13s 7ms/step - loss: 0.0675 - accuracy: 0.9796\n",
      "Epoch 8/8\n",
      "1875/1875 [==============================] - 13s 7ms/step - loss: 0.0662 - accuracy: 0.9797\n"
     ]
    },
    {
     "name": "stderr",
     "output_type": "stream",
     "text": [
      "\u001b[32m[I 2021-11-05 13:58:03,140]\u001b[0m Trial 10 finished with value: 0.9691 and parameters: {'activation': 'selu', 'n_neurons': 52, 'dilation': 1, 'loss': 'sparse_categorical_crossentropy', 'optimizer': 'adam'}. Best is trial 9 with value: 0.9758.\u001b[0m\n"
     ]
    },
    {
     "name": "stdout",
     "output_type": "stream",
     "text": [
      "Função de ativação: relu\n",
      "Número de neurônios: 27\n",
      "Otimizador: sgd\n",
      "Epoch 1/8\n",
      "1875/1875 [==============================] - 8s 4ms/step - loss: 0.4663 - accuracy: 0.8668\n",
      "Epoch 2/8\n",
      "1875/1875 [==============================] - 8s 4ms/step - loss: 0.1615 - accuracy: 0.9533\n",
      "Epoch 3/8\n",
      "1875/1875 [==============================] - 8s 4ms/step - loss: 0.1166 - accuracy: 0.9649\n",
      "Epoch 4/8\n",
      "1875/1875 [==============================] - 8s 4ms/step - loss: 0.0932 - accuracy: 0.9715\n",
      "Epoch 5/8\n",
      "1875/1875 [==============================] - 8s 4ms/step - loss: 0.0801 - accuracy: 0.9749\n",
      "Epoch 6/8\n",
      "1875/1875 [==============================] - 8s 4ms/step - loss: 0.0678 - accuracy: 0.9791\n",
      "Epoch 7/8\n",
      "1875/1875 [==============================] - 8s 4ms/step - loss: 0.0599 - accuracy: 0.9813\n",
      "Epoch 8/8\n",
      "1875/1875 [==============================] - 8s 4ms/step - loss: 0.0528 - accuracy: 0.9833\n"
     ]
    },
    {
     "name": "stderr",
     "output_type": "stream",
     "text": [
      "\u001b[32m[I 2021-11-05 13:59:04,956]\u001b[0m Trial 11 finished with value: 0.9747 and parameters: {'activation': 'relu', 'n_neurons': 27, 'dilation': 1, 'loss': 'sparse_categorical_crossentropy', 'optimizer': 'sgd'}. Best is trial 9 with value: 0.9758.\u001b[0m\n"
     ]
    },
    {
     "name": "stdout",
     "output_type": "stream",
     "text": [
      "Função de ativação: relu\n",
      "Número de neurônios: 23\n",
      "Otimizador: sgd\n",
      "Epoch 1/8\n",
      "1875/1875 [==============================] - 8s 4ms/step - loss: 0.5265 - accuracy: 0.8563\n",
      "Epoch 2/8\n",
      "1875/1875 [==============================] - 7s 4ms/step - loss: 0.1801 - accuracy: 0.9474\n",
      "Epoch 3/8\n",
      "1875/1875 [==============================] - 7s 4ms/step - loss: 0.1340 - accuracy: 0.9602\n",
      "Epoch 4/8\n",
      "1875/1875 [==============================] - 7s 4ms/step - loss: 0.1083 - accuracy: 0.9672\n",
      "Epoch 5/8\n",
      "1875/1875 [==============================] - 7s 4ms/step - loss: 0.0931 - accuracy: 0.9714\n",
      "Epoch 6/8\n",
      "1875/1875 [==============================] - 7s 4ms/step - loss: 0.0809 - accuracy: 0.9750\n",
      "Epoch 7/8\n",
      "1875/1875 [==============================] - 7s 4ms/step - loss: 0.0732 - accuracy: 0.9773\n",
      "Epoch 8/8\n",
      "1875/1875 [==============================] - 7s 4ms/step - loss: 0.0645 - accuracy: 0.9804\n"
     ]
    },
    {
     "name": "stderr",
     "output_type": "stream",
     "text": [
      "\u001b[32m[I 2021-11-05 14:00:03,935]\u001b[0m Trial 12 finished with value: 0.9698 and parameters: {'activation': 'relu', 'n_neurons': 23, 'dilation': 1, 'loss': 'sparse_categorical_crossentropy', 'optimizer': 'sgd'}. Best is trial 9 with value: 0.9758.\u001b[0m\n"
     ]
    },
    {
     "name": "stdout",
     "output_type": "stream",
     "text": [
      "Função de ativação: softplus\n",
      "Número de neurônios: 27\n",
      "Otimizador: sgd\n",
      "Epoch 1/8\n",
      "1875/1875 [==============================] - 8s 4ms/step - loss: 2.3300 - accuracy: 0.1117\n",
      "Epoch 2/8\n",
      "1875/1875 [==============================] - 8s 4ms/step - loss: 2.3013 - accuracy: 0.1124\n",
      "Epoch 3/8\n",
      "1875/1875 [==============================] - 8s 4ms/step - loss: 2.3013 - accuracy: 0.1124\n",
      "Epoch 4/8\n",
      "1875/1875 [==============================] - 8s 4ms/step - loss: 2.3013 - accuracy: 0.1124\n",
      "Epoch 5/8\n",
      "1875/1875 [==============================] - 8s 4ms/step - loss: 2.3013 - accuracy: 0.1124\n",
      "Epoch 6/8\n",
      "1875/1875 [==============================] - 8s 4ms/step - loss: 2.3012 - accuracy: 0.1124\n",
      "Epoch 7/8\n",
      "1875/1875 [==============================] - 8s 4ms/step - loss: 2.3013 - accuracy: 0.1124\n",
      "Epoch 8/8\n",
      "1875/1875 [==============================] - 8s 4ms/step - loss: 2.3013 - accuracy: 0.1124\n"
     ]
    },
    {
     "name": "stderr",
     "output_type": "stream",
     "text": [
      "\u001b[32m[I 2021-11-05 14:01:07,859]\u001b[0m Trial 13 finished with value: 0.1135 and parameters: {'activation': 'softplus', 'n_neurons': 27, 'dilation': 1, 'loss': 'sparse_categorical_crossentropy', 'optimizer': 'sgd'}. Best is trial 9 with value: 0.9758.\u001b[0m\n"
     ]
    },
    {
     "name": "stdout",
     "output_type": "stream",
     "text": [
      "Função de ativação: selu\n",
      "Número de neurônios: 16\n",
      "Otimizador: sgd\n",
      "Epoch 1/8\n",
      "1875/1875 [==============================] - 6s 3ms/step - loss: 0.2681 - accuracy: 0.9192\n",
      "Epoch 2/8\n",
      "1875/1875 [==============================] - 6s 3ms/step - loss: 0.1500 - accuracy: 0.9547\n",
      "Epoch 3/8\n",
      "1875/1875 [==============================] - 6s 3ms/step - loss: 0.1193 - accuracy: 0.9638\n",
      "Epoch 4/8\n",
      "1875/1875 [==============================] - 6s 3ms/step - loss: 0.1042 - accuracy: 0.9685\n",
      "Epoch 5/8\n",
      "1875/1875 [==============================] - 6s 3ms/step - loss: 0.0915 - accuracy: 0.9719\n",
      "Epoch 6/8\n",
      "1875/1875 [==============================] - 6s 3ms/step - loss: 0.0842 - accuracy: 0.9745\n",
      "Epoch 7/8\n",
      "1875/1875 [==============================] - 6s 3ms/step - loss: 0.0756 - accuracy: 0.9763\n",
      "Epoch 8/8\n",
      "1875/1875 [==============================] - 6s 3ms/step - loss: 0.0708 - accuracy: 0.9783\n"
     ]
    },
    {
     "name": "stderr",
     "output_type": "stream",
     "text": [
      "\u001b[32m[I 2021-11-05 14:01:55,763]\u001b[0m Trial 14 finished with value: 0.9657 and parameters: {'activation': 'selu', 'n_neurons': 16, 'dilation': 1, 'loss': 'sparse_categorical_crossentropy', 'optimizer': 'sgd'}. Best is trial 9 with value: 0.9758.\u001b[0m\n"
     ]
    },
    {
     "name": "stdout",
     "output_type": "stream",
     "text": [
      "Função de ativação: selu\n",
      "Número de neurônios: 49\n",
      "Otimizador: adam\n",
      "Epoch 1/8\n",
      "1875/1875 [==============================] - 13s 7ms/step - loss: 0.2563 - accuracy: 0.9254\n",
      "Epoch 2/8\n",
      "1875/1875 [==============================] - 13s 7ms/step - loss: 0.1484 - accuracy: 0.9554\n",
      "Epoch 3/8\n",
      "1875/1875 [==============================] - 13s 7ms/step - loss: 0.1156 - accuracy: 0.9656\n",
      "Epoch 4/8\n",
      "1875/1875 [==============================] - 13s 7ms/step - loss: 0.0980 - accuracy: 0.9706\n",
      "Epoch 5/8\n",
      "1875/1875 [==============================] - 13s 7ms/step - loss: 0.0896 - accuracy: 0.9720\n",
      "Epoch 6/8\n",
      "1875/1875 [==============================] - 13s 7ms/step - loss: 0.0717 - accuracy: 0.9774\n",
      "Epoch 7/8\n",
      "1875/1875 [==============================] - 13s 7ms/step - loss: 0.0668 - accuracy: 0.9790\n",
      "Epoch 8/8\n",
      "1875/1875 [==============================] - 13s 7ms/step - loss: 0.0588 - accuracy: 0.9815\n"
     ]
    },
    {
     "name": "stderr",
     "output_type": "stream",
     "text": [
      "\u001b[32m[I 2021-11-05 14:03:41,345]\u001b[0m Trial 15 finished with value: 0.9717 and parameters: {'activation': 'selu', 'n_neurons': 49, 'dilation': 1, 'loss': 'sparse_categorical_crossentropy', 'optimizer': 'adam'}. Best is trial 9 with value: 0.9758.\u001b[0m\n"
     ]
    }
   ],
   "source": [
    "study_3 = optuna.create_study(direction='maximize')\n",
    "study_3.optimize(cnn3, n_trials=16)"
   ]
  },
  {
   "cell_type": "markdown",
   "metadata": {
    "id": "gTREgJ3DMLQx"
   },
   "source": [
    "##Gráficos de resultados do processo de otimização"
   ]
  },
  {
   "cell_type": "code",
   "execution_count": null,
   "metadata": {
    "colab": {
     "base_uri": "https://localhost:8080/",
     "height": 542
    },
    "id": "Sl9Lw4NpMc79",
    "outputId": "1c786b4c-40a9-4a8b-b1e8-b84068c95195"
   },
   "outputs": [
    {
     "data": {
      "text/html": [
       "<html>\n",
       "<head><meta charset=\"utf-8\" /></head>\n",
       "<body>\n",
       "    <div>\n",
       "            <script src=\"https://cdnjs.cloudflare.com/ajax/libs/mathjax/2.7.5/MathJax.js?config=TeX-AMS-MML_SVG\"></script><script type=\"text/javascript\">if (window.MathJax) {MathJax.Hub.Config({SVG: {font: \"STIX-Web\"}});}</script>\n",
       "                <script type=\"text/javascript\">window.PlotlyConfig = {MathJaxConfig: 'local'};</script>\n",
       "        <script src=\"https://cdn.plot.ly/plotly-latest.min.js\"></script>    \n",
       "            <div id=\"91cd50c8-42a2-4807-a0bd-976e5c1e8c0e\" class=\"plotly-graph-div\" style=\"height:525px; width:100%;\"></div>\n",
       "            <script type=\"text/javascript\">\n",
       "                \n",
       "                    window.PLOTLYENV=window.PLOTLYENV || {};\n",
       "                    \n",
       "                if (document.getElementById(\"91cd50c8-42a2-4807-a0bd-976e5c1e8c0e\")) {\n",
       "                    Plotly.newPlot(\n",
       "                        '91cd50c8-42a2-4807-a0bd-976e5c1e8c0e',\n",
       "                        [{\"mode\": \"markers\", \"name\": \"Objective Value\", \"type\": \"scatter\", \"x\": [0, 1, 2, 3, 4, 5, 6, 7, 8, 9, 10, 11, 12, 13, 14, 15], \"y\": [0.9729, 0.1135, 0.9794, 0.1135, 0.9689, 0.9823, 0.987, 0.9704, 0.9591, 0.9809, 0.9882, 0.9886, 0.9893, 0.9862, 0.9822, 0.9828]}, {\"name\": \"Best Value\", \"type\": \"scatter\", \"x\": [0, 1, 2, 3, 4, 5, 6, 7, 8, 9, 10, 11, 12, 13, 14, 15], \"y\": [0.9729, 0.9729, 0.9794, 0.9794, 0.9794, 0.9823, 0.987, 0.987, 0.987, 0.987, 0.9882, 0.9886, 0.9893, 0.9893, 0.9893, 0.9893]}],\n",
       "                        {\"template\": {\"data\": {\"bar\": [{\"error_x\": {\"color\": \"#2a3f5f\"}, \"error_y\": {\"color\": \"#2a3f5f\"}, \"marker\": {\"line\": {\"color\": \"#E5ECF6\", \"width\": 0.5}}, \"type\": \"bar\"}], \"barpolar\": [{\"marker\": {\"line\": {\"color\": \"#E5ECF6\", \"width\": 0.5}}, \"type\": \"barpolar\"}], \"carpet\": [{\"aaxis\": {\"endlinecolor\": \"#2a3f5f\", \"gridcolor\": \"white\", \"linecolor\": \"white\", \"minorgridcolor\": \"white\", \"startlinecolor\": \"#2a3f5f\"}, \"baxis\": {\"endlinecolor\": \"#2a3f5f\", \"gridcolor\": \"white\", \"linecolor\": \"white\", \"minorgridcolor\": \"white\", \"startlinecolor\": \"#2a3f5f\"}, \"type\": \"carpet\"}], \"choropleth\": [{\"colorbar\": {\"outlinewidth\": 0, \"ticks\": \"\"}, \"type\": \"choropleth\"}], \"contour\": [{\"colorbar\": {\"outlinewidth\": 0, \"ticks\": \"\"}, \"colorscale\": [[0.0, \"#0d0887\"], [0.1111111111111111, \"#46039f\"], [0.2222222222222222, \"#7201a8\"], [0.3333333333333333, \"#9c179e\"], [0.4444444444444444, \"#bd3786\"], [0.5555555555555556, \"#d8576b\"], [0.6666666666666666, \"#ed7953\"], [0.7777777777777778, \"#fb9f3a\"], [0.8888888888888888, \"#fdca26\"], [1.0, \"#f0f921\"]], \"type\": \"contour\"}], \"contourcarpet\": [{\"colorbar\": {\"outlinewidth\": 0, \"ticks\": \"\"}, \"type\": \"contourcarpet\"}], \"heatmap\": [{\"colorbar\": {\"outlinewidth\": 0, \"ticks\": \"\"}, \"colorscale\": [[0.0, \"#0d0887\"], [0.1111111111111111, \"#46039f\"], [0.2222222222222222, \"#7201a8\"], [0.3333333333333333, \"#9c179e\"], [0.4444444444444444, \"#bd3786\"], [0.5555555555555556, \"#d8576b\"], [0.6666666666666666, \"#ed7953\"], [0.7777777777777778, \"#fb9f3a\"], [0.8888888888888888, \"#fdca26\"], [1.0, \"#f0f921\"]], \"type\": \"heatmap\"}], \"heatmapgl\": [{\"colorbar\": {\"outlinewidth\": 0, \"ticks\": \"\"}, \"colorscale\": [[0.0, \"#0d0887\"], [0.1111111111111111, \"#46039f\"], [0.2222222222222222, \"#7201a8\"], [0.3333333333333333, \"#9c179e\"], [0.4444444444444444, \"#bd3786\"], [0.5555555555555556, \"#d8576b\"], [0.6666666666666666, \"#ed7953\"], [0.7777777777777778, \"#fb9f3a\"], [0.8888888888888888, \"#fdca26\"], [1.0, \"#f0f921\"]], \"type\": \"heatmapgl\"}], \"histogram\": [{\"marker\": {\"colorbar\": {\"outlinewidth\": 0, \"ticks\": \"\"}}, \"type\": \"histogram\"}], \"histogram2d\": [{\"colorbar\": {\"outlinewidth\": 0, \"ticks\": \"\"}, \"colorscale\": [[0.0, \"#0d0887\"], [0.1111111111111111, \"#46039f\"], [0.2222222222222222, \"#7201a8\"], [0.3333333333333333, \"#9c179e\"], [0.4444444444444444, \"#bd3786\"], [0.5555555555555556, \"#d8576b\"], [0.6666666666666666, \"#ed7953\"], [0.7777777777777778, \"#fb9f3a\"], [0.8888888888888888, \"#fdca26\"], [1.0, \"#f0f921\"]], \"type\": \"histogram2d\"}], \"histogram2dcontour\": [{\"colorbar\": {\"outlinewidth\": 0, \"ticks\": \"\"}, \"colorscale\": [[0.0, \"#0d0887\"], [0.1111111111111111, \"#46039f\"], [0.2222222222222222, \"#7201a8\"], [0.3333333333333333, \"#9c179e\"], [0.4444444444444444, \"#bd3786\"], [0.5555555555555556, \"#d8576b\"], [0.6666666666666666, \"#ed7953\"], [0.7777777777777778, \"#fb9f3a\"], [0.8888888888888888, \"#fdca26\"], [1.0, \"#f0f921\"]], \"type\": \"histogram2dcontour\"}], \"mesh3d\": [{\"colorbar\": {\"outlinewidth\": 0, \"ticks\": \"\"}, \"type\": \"mesh3d\"}], \"parcoords\": [{\"line\": {\"colorbar\": {\"outlinewidth\": 0, \"ticks\": \"\"}}, \"type\": \"parcoords\"}], \"pie\": [{\"automargin\": true, \"type\": \"pie\"}], \"scatter\": [{\"marker\": {\"colorbar\": {\"outlinewidth\": 0, \"ticks\": \"\"}}, \"type\": \"scatter\"}], \"scatter3d\": [{\"line\": {\"colorbar\": {\"outlinewidth\": 0, \"ticks\": \"\"}}, \"marker\": {\"colorbar\": {\"outlinewidth\": 0, \"ticks\": \"\"}}, \"type\": \"scatter3d\"}], \"scattercarpet\": [{\"marker\": {\"colorbar\": {\"outlinewidth\": 0, \"ticks\": \"\"}}, \"type\": \"scattercarpet\"}], \"scattergeo\": [{\"marker\": {\"colorbar\": {\"outlinewidth\": 0, \"ticks\": \"\"}}, \"type\": \"scattergeo\"}], \"scattergl\": [{\"marker\": {\"colorbar\": {\"outlinewidth\": 0, \"ticks\": \"\"}}, \"type\": \"scattergl\"}], \"scattermapbox\": [{\"marker\": {\"colorbar\": {\"outlinewidth\": 0, \"ticks\": \"\"}}, \"type\": \"scattermapbox\"}], \"scatterpolar\": [{\"marker\": {\"colorbar\": {\"outlinewidth\": 0, \"ticks\": \"\"}}, \"type\": \"scatterpolar\"}], \"scatterpolargl\": [{\"marker\": {\"colorbar\": {\"outlinewidth\": 0, \"ticks\": \"\"}}, \"type\": \"scatterpolargl\"}], \"scatterternary\": [{\"marker\": {\"colorbar\": {\"outlinewidth\": 0, \"ticks\": \"\"}}, \"type\": \"scatterternary\"}], \"surface\": [{\"colorbar\": {\"outlinewidth\": 0, \"ticks\": \"\"}, \"colorscale\": [[0.0, \"#0d0887\"], [0.1111111111111111, \"#46039f\"], [0.2222222222222222, \"#7201a8\"], [0.3333333333333333, \"#9c179e\"], [0.4444444444444444, \"#bd3786\"], [0.5555555555555556, \"#d8576b\"], [0.6666666666666666, \"#ed7953\"], [0.7777777777777778, \"#fb9f3a\"], [0.8888888888888888, \"#fdca26\"], [1.0, \"#f0f921\"]], \"type\": \"surface\"}], \"table\": [{\"cells\": {\"fill\": {\"color\": \"#EBF0F8\"}, \"line\": {\"color\": \"white\"}}, \"header\": {\"fill\": {\"color\": \"#C8D4E3\"}, \"line\": {\"color\": \"white\"}}, \"type\": \"table\"}]}, \"layout\": {\"annotationdefaults\": {\"arrowcolor\": \"#2a3f5f\", \"arrowhead\": 0, \"arrowwidth\": 1}, \"coloraxis\": {\"colorbar\": {\"outlinewidth\": 0, \"ticks\": \"\"}}, \"colorscale\": {\"diverging\": [[0, \"#8e0152\"], [0.1, \"#c51b7d\"], [0.2, \"#de77ae\"], [0.3, \"#f1b6da\"], [0.4, \"#fde0ef\"], [0.5, \"#f7f7f7\"], [0.6, \"#e6f5d0\"], [0.7, \"#b8e186\"], [0.8, \"#7fbc41\"], [0.9, \"#4d9221\"], [1, \"#276419\"]], \"sequential\": [[0.0, \"#0d0887\"], [0.1111111111111111, \"#46039f\"], [0.2222222222222222, \"#7201a8\"], [0.3333333333333333, \"#9c179e\"], [0.4444444444444444, \"#bd3786\"], [0.5555555555555556, \"#d8576b\"], [0.6666666666666666, \"#ed7953\"], [0.7777777777777778, \"#fb9f3a\"], [0.8888888888888888, \"#fdca26\"], [1.0, \"#f0f921\"]], \"sequentialminus\": [[0.0, \"#0d0887\"], [0.1111111111111111, \"#46039f\"], [0.2222222222222222, \"#7201a8\"], [0.3333333333333333, \"#9c179e\"], [0.4444444444444444, \"#bd3786\"], [0.5555555555555556, \"#d8576b\"], [0.6666666666666666, \"#ed7953\"], [0.7777777777777778, \"#fb9f3a\"], [0.8888888888888888, \"#fdca26\"], [1.0, \"#f0f921\"]]}, \"colorway\": [\"#636efa\", \"#EF553B\", \"#00cc96\", \"#ab63fa\", \"#FFA15A\", \"#19d3f3\", \"#FF6692\", \"#B6E880\", \"#FF97FF\", \"#FECB52\"], \"font\": {\"color\": \"#2a3f5f\"}, \"geo\": {\"bgcolor\": \"white\", \"lakecolor\": \"white\", \"landcolor\": \"#E5ECF6\", \"showlakes\": true, \"showland\": true, \"subunitcolor\": \"white\"}, \"hoverlabel\": {\"align\": \"left\"}, \"hovermode\": \"closest\", \"mapbox\": {\"style\": \"light\"}, \"paper_bgcolor\": \"white\", \"plot_bgcolor\": \"#E5ECF6\", \"polar\": {\"angularaxis\": {\"gridcolor\": \"white\", \"linecolor\": \"white\", \"ticks\": \"\"}, \"bgcolor\": \"#E5ECF6\", \"radialaxis\": {\"gridcolor\": \"white\", \"linecolor\": \"white\", \"ticks\": \"\"}}, \"scene\": {\"xaxis\": {\"backgroundcolor\": \"#E5ECF6\", \"gridcolor\": \"white\", \"gridwidth\": 2, \"linecolor\": \"white\", \"showbackground\": true, \"ticks\": \"\", \"zerolinecolor\": \"white\"}, \"yaxis\": {\"backgroundcolor\": \"#E5ECF6\", \"gridcolor\": \"white\", \"gridwidth\": 2, \"linecolor\": \"white\", \"showbackground\": true, \"ticks\": \"\", \"zerolinecolor\": \"white\"}, \"zaxis\": {\"backgroundcolor\": \"#E5ECF6\", \"gridcolor\": \"white\", \"gridwidth\": 2, \"linecolor\": \"white\", \"showbackground\": true, \"ticks\": \"\", \"zerolinecolor\": \"white\"}}, \"shapedefaults\": {\"line\": {\"color\": \"#2a3f5f\"}}, \"ternary\": {\"aaxis\": {\"gridcolor\": \"white\", \"linecolor\": \"white\", \"ticks\": \"\"}, \"baxis\": {\"gridcolor\": \"white\", \"linecolor\": \"white\", \"ticks\": \"\"}, \"bgcolor\": \"#E5ECF6\", \"caxis\": {\"gridcolor\": \"white\", \"linecolor\": \"white\", \"ticks\": \"\"}}, \"title\": {\"x\": 0.05}, \"xaxis\": {\"automargin\": true, \"gridcolor\": \"white\", \"linecolor\": \"white\", \"ticks\": \"\", \"title\": {\"standoff\": 15}, \"zerolinecolor\": \"white\", \"zerolinewidth\": 2}, \"yaxis\": {\"automargin\": true, \"gridcolor\": \"white\", \"linecolor\": \"white\", \"ticks\": \"\", \"title\": {\"standoff\": 15}, \"zerolinecolor\": \"white\", \"zerolinewidth\": 2}}}, \"title\": {\"text\": \"Optimization History Plot\"}, \"xaxis\": {\"title\": {\"text\": \"#Trials\"}}, \"yaxis\": {\"title\": {\"text\": \"Objective Value\"}}},\n",
       "                        {\"responsive\": true}\n",
       "                    ).then(function(){\n",
       "                            \n",
       "var gd = document.getElementById('91cd50c8-42a2-4807-a0bd-976e5c1e8c0e');\n",
       "var x = new MutationObserver(function (mutations, observer) {{\n",
       "        var display = window.getComputedStyle(gd).display;\n",
       "        if (!display || display === 'none') {{\n",
       "            console.log([gd, 'removed!']);\n",
       "            Plotly.purge(gd);\n",
       "            observer.disconnect();\n",
       "        }}\n",
       "}});\n",
       "\n",
       "// Listen for the removal of the full notebook cells\n",
       "var notebookContainer = gd.closest('#notebook-container');\n",
       "if (notebookContainer) {{\n",
       "    x.observe(notebookContainer, {childList: true});\n",
       "}}\n",
       "\n",
       "// Listen for the clearing of the current output cell\n",
       "var outputEl = gd.closest('.output');\n",
       "if (outputEl) {{\n",
       "    x.observe(outputEl, {childList: true});\n",
       "}}\n",
       "\n",
       "                        })\n",
       "                };\n",
       "                \n",
       "            </script>\n",
       "        </div>\n",
       "</body>\n",
       "</html>"
      ]
     },
     "metadata": {},
     "output_type": "display_data"
    }
   ],
   "source": [
    "optuna.visualization.plot_optimization_history(study_1)"
   ]
  },
  {
   "cell_type": "code",
   "execution_count": null,
   "metadata": {
    "colab": {
     "base_uri": "https://localhost:8080/",
     "height": 542
    },
    "id": "DHdkay5tMdYL",
    "outputId": "eea5780b-307c-4d9e-e721-831fb8939617"
   },
   "outputs": [
    {
     "data": {
      "text/html": [
       "<html>\n",
       "<head><meta charset=\"utf-8\" /></head>\n",
       "<body>\n",
       "    <div>\n",
       "            <script src=\"https://cdnjs.cloudflare.com/ajax/libs/mathjax/2.7.5/MathJax.js?config=TeX-AMS-MML_SVG\"></script><script type=\"text/javascript\">if (window.MathJax) {MathJax.Hub.Config({SVG: {font: \"STIX-Web\"}});}</script>\n",
       "                <script type=\"text/javascript\">window.PlotlyConfig = {MathJaxConfig: 'local'};</script>\n",
       "        <script src=\"https://cdn.plot.ly/plotly-latest.min.js\"></script>    \n",
       "            <div id=\"334f6697-6333-4266-8756-18c6a46ce7ee\" class=\"plotly-graph-div\" style=\"height:525px; width:100%;\"></div>\n",
       "            <script type=\"text/javascript\">\n",
       "                \n",
       "                    window.PLOTLYENV=window.PLOTLYENV || {};\n",
       "                    \n",
       "                if (document.getElementById(\"334f6697-6333-4266-8756-18c6a46ce7ee\")) {\n",
       "                    Plotly.newPlot(\n",
       "                        '334f6697-6333-4266-8756-18c6a46ce7ee',\n",
       "                        [{\"mode\": \"markers\", \"name\": \"Objective Value\", \"type\": \"scatter\", \"x\": [0, 1, 2, 3, 4, 5, 6, 7, 8, 9, 10, 11, 12, 13, 14, 15], \"y\": [0.1135, 0.9689, 0.9213, 0.9751, 0.9893, 0.9695, 0.9879, 0.1135, 0.961, 0.9878, 0.9843, 0.1135, 0.9917, 0.9813, 0.99, 0.9886]}, {\"name\": \"Best Value\", \"type\": \"scatter\", \"x\": [0, 1, 2, 3, 4, 5, 6, 7, 8, 9, 10, 11, 12, 13, 14, 15], \"y\": [0.1135, 0.9689, 0.9689, 0.9751, 0.9893, 0.9893, 0.9893, 0.9893, 0.9893, 0.9893, 0.9893, 0.9893, 0.9917, 0.9917, 0.9917, 0.9917]}],\n",
       "                        {\"template\": {\"data\": {\"bar\": [{\"error_x\": {\"color\": \"#2a3f5f\"}, \"error_y\": {\"color\": \"#2a3f5f\"}, \"marker\": {\"line\": {\"color\": \"#E5ECF6\", \"width\": 0.5}}, \"type\": \"bar\"}], \"barpolar\": [{\"marker\": {\"line\": {\"color\": \"#E5ECF6\", \"width\": 0.5}}, \"type\": \"barpolar\"}], \"carpet\": [{\"aaxis\": {\"endlinecolor\": \"#2a3f5f\", \"gridcolor\": \"white\", \"linecolor\": \"white\", \"minorgridcolor\": \"white\", \"startlinecolor\": \"#2a3f5f\"}, \"baxis\": {\"endlinecolor\": \"#2a3f5f\", \"gridcolor\": \"white\", \"linecolor\": \"white\", \"minorgridcolor\": \"white\", \"startlinecolor\": \"#2a3f5f\"}, \"type\": \"carpet\"}], \"choropleth\": [{\"colorbar\": {\"outlinewidth\": 0, \"ticks\": \"\"}, \"type\": \"choropleth\"}], \"contour\": [{\"colorbar\": {\"outlinewidth\": 0, \"ticks\": \"\"}, \"colorscale\": [[0.0, \"#0d0887\"], [0.1111111111111111, \"#46039f\"], [0.2222222222222222, \"#7201a8\"], [0.3333333333333333, \"#9c179e\"], [0.4444444444444444, \"#bd3786\"], [0.5555555555555556, \"#d8576b\"], [0.6666666666666666, \"#ed7953\"], [0.7777777777777778, \"#fb9f3a\"], [0.8888888888888888, \"#fdca26\"], [1.0, \"#f0f921\"]], \"type\": \"contour\"}], \"contourcarpet\": [{\"colorbar\": {\"outlinewidth\": 0, \"ticks\": \"\"}, \"type\": \"contourcarpet\"}], \"heatmap\": [{\"colorbar\": {\"outlinewidth\": 0, \"ticks\": \"\"}, \"colorscale\": [[0.0, \"#0d0887\"], [0.1111111111111111, \"#46039f\"], [0.2222222222222222, \"#7201a8\"], [0.3333333333333333, \"#9c179e\"], [0.4444444444444444, \"#bd3786\"], [0.5555555555555556, \"#d8576b\"], [0.6666666666666666, \"#ed7953\"], [0.7777777777777778, \"#fb9f3a\"], [0.8888888888888888, \"#fdca26\"], [1.0, \"#f0f921\"]], \"type\": \"heatmap\"}], \"heatmapgl\": [{\"colorbar\": {\"outlinewidth\": 0, \"ticks\": \"\"}, \"colorscale\": [[0.0, \"#0d0887\"], [0.1111111111111111, \"#46039f\"], [0.2222222222222222, \"#7201a8\"], [0.3333333333333333, \"#9c179e\"], [0.4444444444444444, \"#bd3786\"], [0.5555555555555556, \"#d8576b\"], [0.6666666666666666, \"#ed7953\"], [0.7777777777777778, \"#fb9f3a\"], [0.8888888888888888, \"#fdca26\"], [1.0, \"#f0f921\"]], \"type\": \"heatmapgl\"}], \"histogram\": [{\"marker\": {\"colorbar\": {\"outlinewidth\": 0, \"ticks\": \"\"}}, \"type\": \"histogram\"}], \"histogram2d\": [{\"colorbar\": {\"outlinewidth\": 0, \"ticks\": \"\"}, \"colorscale\": [[0.0, \"#0d0887\"], [0.1111111111111111, \"#46039f\"], [0.2222222222222222, \"#7201a8\"], [0.3333333333333333, \"#9c179e\"], [0.4444444444444444, \"#bd3786\"], [0.5555555555555556, \"#d8576b\"], [0.6666666666666666, \"#ed7953\"], [0.7777777777777778, \"#fb9f3a\"], [0.8888888888888888, \"#fdca26\"], [1.0, \"#f0f921\"]], \"type\": \"histogram2d\"}], \"histogram2dcontour\": [{\"colorbar\": {\"outlinewidth\": 0, \"ticks\": \"\"}, \"colorscale\": [[0.0, \"#0d0887\"], [0.1111111111111111, \"#46039f\"], [0.2222222222222222, \"#7201a8\"], [0.3333333333333333, \"#9c179e\"], [0.4444444444444444, \"#bd3786\"], [0.5555555555555556, \"#d8576b\"], [0.6666666666666666, \"#ed7953\"], [0.7777777777777778, \"#fb9f3a\"], [0.8888888888888888, \"#fdca26\"], [1.0, \"#f0f921\"]], \"type\": \"histogram2dcontour\"}], \"mesh3d\": [{\"colorbar\": {\"outlinewidth\": 0, \"ticks\": \"\"}, \"type\": \"mesh3d\"}], \"parcoords\": [{\"line\": {\"colorbar\": {\"outlinewidth\": 0, \"ticks\": \"\"}}, \"type\": \"parcoords\"}], \"pie\": [{\"automargin\": true, \"type\": \"pie\"}], \"scatter\": [{\"marker\": {\"colorbar\": {\"outlinewidth\": 0, \"ticks\": \"\"}}, \"type\": \"scatter\"}], \"scatter3d\": [{\"line\": {\"colorbar\": {\"outlinewidth\": 0, \"ticks\": \"\"}}, \"marker\": {\"colorbar\": {\"outlinewidth\": 0, \"ticks\": \"\"}}, \"type\": \"scatter3d\"}], \"scattercarpet\": [{\"marker\": {\"colorbar\": {\"outlinewidth\": 0, \"ticks\": \"\"}}, \"type\": \"scattercarpet\"}], \"scattergeo\": [{\"marker\": {\"colorbar\": {\"outlinewidth\": 0, \"ticks\": \"\"}}, \"type\": \"scattergeo\"}], \"scattergl\": [{\"marker\": {\"colorbar\": {\"outlinewidth\": 0, \"ticks\": \"\"}}, \"type\": \"scattergl\"}], \"scattermapbox\": [{\"marker\": {\"colorbar\": {\"outlinewidth\": 0, \"ticks\": \"\"}}, \"type\": \"scattermapbox\"}], \"scatterpolar\": [{\"marker\": {\"colorbar\": {\"outlinewidth\": 0, \"ticks\": \"\"}}, \"type\": \"scatterpolar\"}], \"scatterpolargl\": [{\"marker\": {\"colorbar\": {\"outlinewidth\": 0, \"ticks\": \"\"}}, \"type\": \"scatterpolargl\"}], \"scatterternary\": [{\"marker\": {\"colorbar\": {\"outlinewidth\": 0, \"ticks\": \"\"}}, \"type\": \"scatterternary\"}], \"surface\": [{\"colorbar\": {\"outlinewidth\": 0, \"ticks\": \"\"}, \"colorscale\": [[0.0, \"#0d0887\"], [0.1111111111111111, \"#46039f\"], [0.2222222222222222, \"#7201a8\"], [0.3333333333333333, \"#9c179e\"], [0.4444444444444444, \"#bd3786\"], [0.5555555555555556, \"#d8576b\"], [0.6666666666666666, \"#ed7953\"], [0.7777777777777778, \"#fb9f3a\"], [0.8888888888888888, \"#fdca26\"], [1.0, \"#f0f921\"]], \"type\": \"surface\"}], \"table\": [{\"cells\": {\"fill\": {\"color\": \"#EBF0F8\"}, \"line\": {\"color\": \"white\"}}, \"header\": {\"fill\": {\"color\": \"#C8D4E3\"}, \"line\": {\"color\": \"white\"}}, \"type\": \"table\"}]}, \"layout\": {\"annotationdefaults\": {\"arrowcolor\": \"#2a3f5f\", \"arrowhead\": 0, \"arrowwidth\": 1}, \"coloraxis\": {\"colorbar\": {\"outlinewidth\": 0, \"ticks\": \"\"}}, \"colorscale\": {\"diverging\": [[0, \"#8e0152\"], [0.1, \"#c51b7d\"], [0.2, \"#de77ae\"], [0.3, \"#f1b6da\"], [0.4, \"#fde0ef\"], [0.5, \"#f7f7f7\"], [0.6, \"#e6f5d0\"], [0.7, \"#b8e186\"], [0.8, \"#7fbc41\"], [0.9, \"#4d9221\"], [1, \"#276419\"]], \"sequential\": [[0.0, \"#0d0887\"], [0.1111111111111111, \"#46039f\"], [0.2222222222222222, \"#7201a8\"], [0.3333333333333333, \"#9c179e\"], [0.4444444444444444, \"#bd3786\"], [0.5555555555555556, \"#d8576b\"], [0.6666666666666666, \"#ed7953\"], [0.7777777777777778, \"#fb9f3a\"], [0.8888888888888888, \"#fdca26\"], [1.0, \"#f0f921\"]], \"sequentialminus\": [[0.0, \"#0d0887\"], [0.1111111111111111, \"#46039f\"], [0.2222222222222222, \"#7201a8\"], [0.3333333333333333, \"#9c179e\"], [0.4444444444444444, \"#bd3786\"], [0.5555555555555556, \"#d8576b\"], [0.6666666666666666, \"#ed7953\"], [0.7777777777777778, \"#fb9f3a\"], [0.8888888888888888, \"#fdca26\"], [1.0, \"#f0f921\"]]}, \"colorway\": [\"#636efa\", \"#EF553B\", \"#00cc96\", \"#ab63fa\", \"#FFA15A\", \"#19d3f3\", \"#FF6692\", \"#B6E880\", \"#FF97FF\", \"#FECB52\"], \"font\": {\"color\": \"#2a3f5f\"}, \"geo\": {\"bgcolor\": \"white\", \"lakecolor\": \"white\", \"landcolor\": \"#E5ECF6\", \"showlakes\": true, \"showland\": true, \"subunitcolor\": \"white\"}, \"hoverlabel\": {\"align\": \"left\"}, \"hovermode\": \"closest\", \"mapbox\": {\"style\": \"light\"}, \"paper_bgcolor\": \"white\", \"plot_bgcolor\": \"#E5ECF6\", \"polar\": {\"angularaxis\": {\"gridcolor\": \"white\", \"linecolor\": \"white\", \"ticks\": \"\"}, \"bgcolor\": \"#E5ECF6\", \"radialaxis\": {\"gridcolor\": \"white\", \"linecolor\": \"white\", \"ticks\": \"\"}}, \"scene\": {\"xaxis\": {\"backgroundcolor\": \"#E5ECF6\", \"gridcolor\": \"white\", \"gridwidth\": 2, \"linecolor\": \"white\", \"showbackground\": true, \"ticks\": \"\", \"zerolinecolor\": \"white\"}, \"yaxis\": {\"backgroundcolor\": \"#E5ECF6\", \"gridcolor\": \"white\", \"gridwidth\": 2, \"linecolor\": \"white\", \"showbackground\": true, \"ticks\": \"\", \"zerolinecolor\": \"white\"}, \"zaxis\": {\"backgroundcolor\": \"#E5ECF6\", \"gridcolor\": \"white\", \"gridwidth\": 2, \"linecolor\": \"white\", \"showbackground\": true, \"ticks\": \"\", \"zerolinecolor\": \"white\"}}, \"shapedefaults\": {\"line\": {\"color\": \"#2a3f5f\"}}, \"ternary\": {\"aaxis\": {\"gridcolor\": \"white\", \"linecolor\": \"white\", \"ticks\": \"\"}, \"baxis\": {\"gridcolor\": \"white\", \"linecolor\": \"white\", \"ticks\": \"\"}, \"bgcolor\": \"#E5ECF6\", \"caxis\": {\"gridcolor\": \"white\", \"linecolor\": \"white\", \"ticks\": \"\"}}, \"title\": {\"x\": 0.05}, \"xaxis\": {\"automargin\": true, \"gridcolor\": \"white\", \"linecolor\": \"white\", \"ticks\": \"\", \"title\": {\"standoff\": 15}, \"zerolinecolor\": \"white\", \"zerolinewidth\": 2}, \"yaxis\": {\"automargin\": true, \"gridcolor\": \"white\", \"linecolor\": \"white\", \"ticks\": \"\", \"title\": {\"standoff\": 15}, \"zerolinecolor\": \"white\", \"zerolinewidth\": 2}}}, \"title\": {\"text\": \"Optimization History Plot\"}, \"xaxis\": {\"title\": {\"text\": \"#Trials\"}}, \"yaxis\": {\"title\": {\"text\": \"Objective Value\"}}},\n",
       "                        {\"responsive\": true}\n",
       "                    ).then(function(){\n",
       "                            \n",
       "var gd = document.getElementById('334f6697-6333-4266-8756-18c6a46ce7ee');\n",
       "var x = new MutationObserver(function (mutations, observer) {{\n",
       "        var display = window.getComputedStyle(gd).display;\n",
       "        if (!display || display === 'none') {{\n",
       "            console.log([gd, 'removed!']);\n",
       "            Plotly.purge(gd);\n",
       "            observer.disconnect();\n",
       "        }}\n",
       "}});\n",
       "\n",
       "// Listen for the removal of the full notebook cells\n",
       "var notebookContainer = gd.closest('#notebook-container');\n",
       "if (notebookContainer) {{\n",
       "    x.observe(notebookContainer, {childList: true});\n",
       "}}\n",
       "\n",
       "// Listen for the clearing of the current output cell\n",
       "var outputEl = gd.closest('.output');\n",
       "if (outputEl) {{\n",
       "    x.observe(outputEl, {childList: true});\n",
       "}}\n",
       "\n",
       "                        })\n",
       "                };\n",
       "                \n",
       "            </script>\n",
       "        </div>\n",
       "</body>\n",
       "</html>"
      ]
     },
     "metadata": {},
     "output_type": "display_data"
    }
   ],
   "source": [
    "optuna.visualization.plot_optimization_history(study_2)"
   ]
  },
  {
   "cell_type": "code",
   "execution_count": null,
   "metadata": {
    "colab": {
     "base_uri": "https://localhost:8080/",
     "height": 542
    },
    "id": "9WNma39hMd46",
    "outputId": "628e911c-a165-42ee-fb81-414d67a8a844"
   },
   "outputs": [
    {
     "data": {
      "text/html": [
       "<html>\n",
       "<head><meta charset=\"utf-8\" /></head>\n",
       "<body>\n",
       "    <div>\n",
       "            <script src=\"https://cdnjs.cloudflare.com/ajax/libs/mathjax/2.7.5/MathJax.js?config=TeX-AMS-MML_SVG\"></script><script type=\"text/javascript\">if (window.MathJax) {MathJax.Hub.Config({SVG: {font: \"STIX-Web\"}});}</script>\n",
       "                <script type=\"text/javascript\">window.PlotlyConfig = {MathJaxConfig: 'local'};</script>\n",
       "        <script src=\"https://cdn.plot.ly/plotly-latest.min.js\"></script>    \n",
       "            <div id=\"e3d58225-31f7-47bc-b2fd-85df07e8e204\" class=\"plotly-graph-div\" style=\"height:525px; width:100%;\"></div>\n",
       "            <script type=\"text/javascript\">\n",
       "                \n",
       "                    window.PLOTLYENV=window.PLOTLYENV || {};\n",
       "                    \n",
       "                if (document.getElementById(\"e3d58225-31f7-47bc-b2fd-85df07e8e204\")) {\n",
       "                    Plotly.newPlot(\n",
       "                        'e3d58225-31f7-47bc-b2fd-85df07e8e204',\n",
       "                        [{\"mode\": \"markers\", \"name\": \"Objective Value\", \"type\": \"scatter\", \"x\": [0, 1, 2, 3, 4, 5, 6, 7, 8, 9, 10, 11, 12, 13, 14, 15], \"y\": [0.1135, 0.9725, 0.9713, 0.1135, 0.9704, 0.9647, 0.9744, 0.1135, 0.098, 0.9758, 0.9691, 0.9747, 0.9698, 0.1135, 0.9657, 0.9717]}, {\"name\": \"Best Value\", \"type\": \"scatter\", \"x\": [0, 1, 2, 3, 4, 5, 6, 7, 8, 9, 10, 11, 12, 13, 14, 15], \"y\": [0.1135, 0.9725, 0.9725, 0.9725, 0.9725, 0.9725, 0.9744, 0.9744, 0.9744, 0.9758, 0.9758, 0.9758, 0.9758, 0.9758, 0.9758, 0.9758]}],\n",
       "                        {\"template\": {\"data\": {\"bar\": [{\"error_x\": {\"color\": \"#2a3f5f\"}, \"error_y\": {\"color\": \"#2a3f5f\"}, \"marker\": {\"line\": {\"color\": \"#E5ECF6\", \"width\": 0.5}}, \"type\": \"bar\"}], \"barpolar\": [{\"marker\": {\"line\": {\"color\": \"#E5ECF6\", \"width\": 0.5}}, \"type\": \"barpolar\"}], \"carpet\": [{\"aaxis\": {\"endlinecolor\": \"#2a3f5f\", \"gridcolor\": \"white\", \"linecolor\": \"white\", \"minorgridcolor\": \"white\", \"startlinecolor\": \"#2a3f5f\"}, \"baxis\": {\"endlinecolor\": \"#2a3f5f\", \"gridcolor\": \"white\", \"linecolor\": \"white\", \"minorgridcolor\": \"white\", \"startlinecolor\": \"#2a3f5f\"}, \"type\": \"carpet\"}], \"choropleth\": [{\"colorbar\": {\"outlinewidth\": 0, \"ticks\": \"\"}, \"type\": \"choropleth\"}], \"contour\": [{\"colorbar\": {\"outlinewidth\": 0, \"ticks\": \"\"}, \"colorscale\": [[0.0, \"#0d0887\"], [0.1111111111111111, \"#46039f\"], [0.2222222222222222, \"#7201a8\"], [0.3333333333333333, \"#9c179e\"], [0.4444444444444444, \"#bd3786\"], [0.5555555555555556, \"#d8576b\"], [0.6666666666666666, \"#ed7953\"], [0.7777777777777778, \"#fb9f3a\"], [0.8888888888888888, \"#fdca26\"], [1.0, \"#f0f921\"]], \"type\": \"contour\"}], \"contourcarpet\": [{\"colorbar\": {\"outlinewidth\": 0, \"ticks\": \"\"}, \"type\": \"contourcarpet\"}], \"heatmap\": [{\"colorbar\": {\"outlinewidth\": 0, \"ticks\": \"\"}, \"colorscale\": [[0.0, \"#0d0887\"], [0.1111111111111111, \"#46039f\"], [0.2222222222222222, \"#7201a8\"], [0.3333333333333333, \"#9c179e\"], [0.4444444444444444, \"#bd3786\"], [0.5555555555555556, \"#d8576b\"], [0.6666666666666666, \"#ed7953\"], [0.7777777777777778, \"#fb9f3a\"], [0.8888888888888888, \"#fdca26\"], [1.0, \"#f0f921\"]], \"type\": \"heatmap\"}], \"heatmapgl\": [{\"colorbar\": {\"outlinewidth\": 0, \"ticks\": \"\"}, \"colorscale\": [[0.0, \"#0d0887\"], [0.1111111111111111, \"#46039f\"], [0.2222222222222222, \"#7201a8\"], [0.3333333333333333, \"#9c179e\"], [0.4444444444444444, \"#bd3786\"], [0.5555555555555556, \"#d8576b\"], [0.6666666666666666, \"#ed7953\"], [0.7777777777777778, \"#fb9f3a\"], [0.8888888888888888, \"#fdca26\"], [1.0, \"#f0f921\"]], \"type\": \"heatmapgl\"}], \"histogram\": [{\"marker\": {\"colorbar\": {\"outlinewidth\": 0, \"ticks\": \"\"}}, \"type\": \"histogram\"}], \"histogram2d\": [{\"colorbar\": {\"outlinewidth\": 0, \"ticks\": \"\"}, \"colorscale\": [[0.0, \"#0d0887\"], [0.1111111111111111, \"#46039f\"], [0.2222222222222222, \"#7201a8\"], [0.3333333333333333, \"#9c179e\"], [0.4444444444444444, \"#bd3786\"], [0.5555555555555556, \"#d8576b\"], [0.6666666666666666, \"#ed7953\"], [0.7777777777777778, \"#fb9f3a\"], [0.8888888888888888, \"#fdca26\"], [1.0, \"#f0f921\"]], \"type\": \"histogram2d\"}], \"histogram2dcontour\": [{\"colorbar\": {\"outlinewidth\": 0, \"ticks\": \"\"}, \"colorscale\": [[0.0, \"#0d0887\"], [0.1111111111111111, \"#46039f\"], [0.2222222222222222, \"#7201a8\"], [0.3333333333333333, \"#9c179e\"], [0.4444444444444444, \"#bd3786\"], [0.5555555555555556, \"#d8576b\"], [0.6666666666666666, \"#ed7953\"], [0.7777777777777778, \"#fb9f3a\"], [0.8888888888888888, \"#fdca26\"], [1.0, \"#f0f921\"]], \"type\": \"histogram2dcontour\"}], \"mesh3d\": [{\"colorbar\": {\"outlinewidth\": 0, \"ticks\": \"\"}, \"type\": \"mesh3d\"}], \"parcoords\": [{\"line\": {\"colorbar\": {\"outlinewidth\": 0, \"ticks\": \"\"}}, \"type\": \"parcoords\"}], \"pie\": [{\"automargin\": true, \"type\": \"pie\"}], \"scatter\": [{\"marker\": {\"colorbar\": {\"outlinewidth\": 0, \"ticks\": \"\"}}, \"type\": \"scatter\"}], \"scatter3d\": [{\"line\": {\"colorbar\": {\"outlinewidth\": 0, \"ticks\": \"\"}}, \"marker\": {\"colorbar\": {\"outlinewidth\": 0, \"ticks\": \"\"}}, \"type\": \"scatter3d\"}], \"scattercarpet\": [{\"marker\": {\"colorbar\": {\"outlinewidth\": 0, \"ticks\": \"\"}}, \"type\": \"scattercarpet\"}], \"scattergeo\": [{\"marker\": {\"colorbar\": {\"outlinewidth\": 0, \"ticks\": \"\"}}, \"type\": \"scattergeo\"}], \"scattergl\": [{\"marker\": {\"colorbar\": {\"outlinewidth\": 0, \"ticks\": \"\"}}, \"type\": \"scattergl\"}], \"scattermapbox\": [{\"marker\": {\"colorbar\": {\"outlinewidth\": 0, \"ticks\": \"\"}}, \"type\": \"scattermapbox\"}], \"scatterpolar\": [{\"marker\": {\"colorbar\": {\"outlinewidth\": 0, \"ticks\": \"\"}}, \"type\": \"scatterpolar\"}], \"scatterpolargl\": [{\"marker\": {\"colorbar\": {\"outlinewidth\": 0, \"ticks\": \"\"}}, \"type\": \"scatterpolargl\"}], \"scatterternary\": [{\"marker\": {\"colorbar\": {\"outlinewidth\": 0, \"ticks\": \"\"}}, \"type\": \"scatterternary\"}], \"surface\": [{\"colorbar\": {\"outlinewidth\": 0, \"ticks\": \"\"}, \"colorscale\": [[0.0, \"#0d0887\"], [0.1111111111111111, \"#46039f\"], [0.2222222222222222, \"#7201a8\"], [0.3333333333333333, \"#9c179e\"], [0.4444444444444444, \"#bd3786\"], [0.5555555555555556, \"#d8576b\"], [0.6666666666666666, \"#ed7953\"], [0.7777777777777778, \"#fb9f3a\"], [0.8888888888888888, \"#fdca26\"], [1.0, \"#f0f921\"]], \"type\": \"surface\"}], \"table\": [{\"cells\": {\"fill\": {\"color\": \"#EBF0F8\"}, \"line\": {\"color\": \"white\"}}, \"header\": {\"fill\": {\"color\": \"#C8D4E3\"}, \"line\": {\"color\": \"white\"}}, \"type\": \"table\"}]}, \"layout\": {\"annotationdefaults\": {\"arrowcolor\": \"#2a3f5f\", \"arrowhead\": 0, \"arrowwidth\": 1}, \"coloraxis\": {\"colorbar\": {\"outlinewidth\": 0, \"ticks\": \"\"}}, \"colorscale\": {\"diverging\": [[0, \"#8e0152\"], [0.1, \"#c51b7d\"], [0.2, \"#de77ae\"], [0.3, \"#f1b6da\"], [0.4, \"#fde0ef\"], [0.5, \"#f7f7f7\"], [0.6, \"#e6f5d0\"], [0.7, \"#b8e186\"], [0.8, \"#7fbc41\"], [0.9, \"#4d9221\"], [1, \"#276419\"]], \"sequential\": [[0.0, \"#0d0887\"], [0.1111111111111111, \"#46039f\"], [0.2222222222222222, \"#7201a8\"], [0.3333333333333333, \"#9c179e\"], [0.4444444444444444, \"#bd3786\"], [0.5555555555555556, \"#d8576b\"], [0.6666666666666666, \"#ed7953\"], [0.7777777777777778, \"#fb9f3a\"], [0.8888888888888888, \"#fdca26\"], [1.0, \"#f0f921\"]], \"sequentialminus\": [[0.0, \"#0d0887\"], [0.1111111111111111, \"#46039f\"], [0.2222222222222222, \"#7201a8\"], [0.3333333333333333, \"#9c179e\"], [0.4444444444444444, \"#bd3786\"], [0.5555555555555556, \"#d8576b\"], [0.6666666666666666, \"#ed7953\"], [0.7777777777777778, \"#fb9f3a\"], [0.8888888888888888, \"#fdca26\"], [1.0, \"#f0f921\"]]}, \"colorway\": [\"#636efa\", \"#EF553B\", \"#00cc96\", \"#ab63fa\", \"#FFA15A\", \"#19d3f3\", \"#FF6692\", \"#B6E880\", \"#FF97FF\", \"#FECB52\"], \"font\": {\"color\": \"#2a3f5f\"}, \"geo\": {\"bgcolor\": \"white\", \"lakecolor\": \"white\", \"landcolor\": \"#E5ECF6\", \"showlakes\": true, \"showland\": true, \"subunitcolor\": \"white\"}, \"hoverlabel\": {\"align\": \"left\"}, \"hovermode\": \"closest\", \"mapbox\": {\"style\": \"light\"}, \"paper_bgcolor\": \"white\", \"plot_bgcolor\": \"#E5ECF6\", \"polar\": {\"angularaxis\": {\"gridcolor\": \"white\", \"linecolor\": \"white\", \"ticks\": \"\"}, \"bgcolor\": \"#E5ECF6\", \"radialaxis\": {\"gridcolor\": \"white\", \"linecolor\": \"white\", \"ticks\": \"\"}}, \"scene\": {\"xaxis\": {\"backgroundcolor\": \"#E5ECF6\", \"gridcolor\": \"white\", \"gridwidth\": 2, \"linecolor\": \"white\", \"showbackground\": true, \"ticks\": \"\", \"zerolinecolor\": \"white\"}, \"yaxis\": {\"backgroundcolor\": \"#E5ECF6\", \"gridcolor\": \"white\", \"gridwidth\": 2, \"linecolor\": \"white\", \"showbackground\": true, \"ticks\": \"\", \"zerolinecolor\": \"white\"}, \"zaxis\": {\"backgroundcolor\": \"#E5ECF6\", \"gridcolor\": \"white\", \"gridwidth\": 2, \"linecolor\": \"white\", \"showbackground\": true, \"ticks\": \"\", \"zerolinecolor\": \"white\"}}, \"shapedefaults\": {\"line\": {\"color\": \"#2a3f5f\"}}, \"ternary\": {\"aaxis\": {\"gridcolor\": \"white\", \"linecolor\": \"white\", \"ticks\": \"\"}, \"baxis\": {\"gridcolor\": \"white\", \"linecolor\": \"white\", \"ticks\": \"\"}, \"bgcolor\": \"#E5ECF6\", \"caxis\": {\"gridcolor\": \"white\", \"linecolor\": \"white\", \"ticks\": \"\"}}, \"title\": {\"x\": 0.05}, \"xaxis\": {\"automargin\": true, \"gridcolor\": \"white\", \"linecolor\": \"white\", \"ticks\": \"\", \"title\": {\"standoff\": 15}, \"zerolinecolor\": \"white\", \"zerolinewidth\": 2}, \"yaxis\": {\"automargin\": true, \"gridcolor\": \"white\", \"linecolor\": \"white\", \"ticks\": \"\", \"title\": {\"standoff\": 15}, \"zerolinecolor\": \"white\", \"zerolinewidth\": 2}}}, \"title\": {\"text\": \"Optimization History Plot\"}, \"xaxis\": {\"title\": {\"text\": \"#Trials\"}}, \"yaxis\": {\"title\": {\"text\": \"Objective Value\"}}},\n",
       "                        {\"responsive\": true}\n",
       "                    ).then(function(){\n",
       "                            \n",
       "var gd = document.getElementById('e3d58225-31f7-47bc-b2fd-85df07e8e204');\n",
       "var x = new MutationObserver(function (mutations, observer) {{\n",
       "        var display = window.getComputedStyle(gd).display;\n",
       "        if (!display || display === 'none') {{\n",
       "            console.log([gd, 'removed!']);\n",
       "            Plotly.purge(gd);\n",
       "            observer.disconnect();\n",
       "        }}\n",
       "}});\n",
       "\n",
       "// Listen for the removal of the full notebook cells\n",
       "var notebookContainer = gd.closest('#notebook-container');\n",
       "if (notebookContainer) {{\n",
       "    x.observe(notebookContainer, {childList: true});\n",
       "}}\n",
       "\n",
       "// Listen for the clearing of the current output cell\n",
       "var outputEl = gd.closest('.output');\n",
       "if (outputEl) {{\n",
       "    x.observe(outputEl, {childList: true});\n",
       "}}\n",
       "\n",
       "                        })\n",
       "                };\n",
       "                \n",
       "            </script>\n",
       "        </div>\n",
       "</body>\n",
       "</html>"
      ]
     },
     "metadata": {},
     "output_type": "display_data"
    }
   ],
   "source": [
    "optuna.visualization.plot_optimization_history(study_3)"
   ]
  },
  {
   "cell_type": "markdown",
   "metadata": {
    "id": "jN1MoOgMJx48"
   },
   "source": [
    "### Resultados do plot de otimização de cada estudo\n",
    "Como podemos ver acima, nossa primeira rede de CNN obteve melhor desempenho em sua otimização, dado que foi mais consistente (o primeiro trial do CNN2 e CNN3 foi um outlier)."
   ]
  },
  {
   "cell_type": "code",
   "execution_count": null,
   "metadata": {
    "colab": {
     "base_uri": "https://localhost:8080/",
     "height": 542
    },
    "id": "HON8qVTAMf2_",
    "outputId": "f7d333c5-dcd3-42eb-e759-83fe5dd8bc44"
   },
   "outputs": [
    {
     "data": {
      "text/html": [
       "<html>\n",
       "<head><meta charset=\"utf-8\" /></head>\n",
       "<body>\n",
       "    <div>\n",
       "            <script src=\"https://cdnjs.cloudflare.com/ajax/libs/mathjax/2.7.5/MathJax.js?config=TeX-AMS-MML_SVG\"></script><script type=\"text/javascript\">if (window.MathJax) {MathJax.Hub.Config({SVG: {font: \"STIX-Web\"}});}</script>\n",
       "                <script type=\"text/javascript\">window.PlotlyConfig = {MathJaxConfig: 'local'};</script>\n",
       "        <script src=\"https://cdn.plot.ly/plotly-latest.min.js\"></script>    \n",
       "            <div id=\"7ad3d9c7-a441-4dd0-ae7f-6d519f8482f5\" class=\"plotly-graph-div\" style=\"height:525px; width:1500px;\"></div>\n",
       "            <script type=\"text/javascript\">\n",
       "                \n",
       "                    window.PLOTLYENV=window.PLOTLYENV || {};\n",
       "                    \n",
       "                if (document.getElementById(\"7ad3d9c7-a441-4dd0-ae7f-6d519f8482f5\")) {\n",
       "                    Plotly.newPlot(\n",
       "                        '7ad3d9c7-a441-4dd0-ae7f-6d519f8482f5',\n",
       "                        [{\"marker\": {\"color\": [0, 1, 2, 3, 4, 5, 6, 7, 8, 9, 10, 11, 12, 13, 14, 15], \"colorbar\": {\"title\": {\"text\": \"#Trials\"}, \"x\": 1.0, \"xpad\": 40}, \"colorscale\": [[0.0, \"rgb(247,251,255)\"], [0.125, \"rgb(222,235,247)\"], [0.25, \"rgb(198,219,239)\"], [0.375, \"rgb(158,202,225)\"], [0.5, \"rgb(107,174,214)\"], [0.625, \"rgb(66,146,198)\"], [0.75, \"rgb(33,113,181)\"], [0.875, \"rgb(8,81,156)\"], [1.0, \"rgb(8,48,107)\"]], \"line\": {\"color\": \"Grey\", \"width\": 0.5}, \"showscale\": true}, \"mode\": \"markers\", \"showlegend\": false, \"type\": \"scatter\", \"x\": [\"selu\", \"softplus\", \"selu\", \"softplus\", \"softsign\", \"softsign\", \"relu\", \"softsign\", \"selu\", \"exponential\", \"relu\", \"relu\", \"relu\", \"relu\", \"elu\", \"tanh\"], \"xaxis\": \"x\", \"y\": [0.9729, 0.1135, 0.9794, 0.1135, 0.9689, 0.9823, 0.987, 0.9704, 0.9591, 0.9809, 0.9882, 0.9886, 0.9893, 0.9862, 0.9822, 0.9828], \"yaxis\": \"y\"}, {\"marker\": {\"color\": [0, 1, 2, 3, 4, 5, 6, 7, 8, 9, 10, 11, 12, 13, 14, 15], \"colorbar\": {\"title\": {\"text\": \"#Trials\"}, \"x\": 1.0, \"xpad\": 40}, \"colorscale\": [[0.0, \"rgb(247,251,255)\"], [0.125, \"rgb(222,235,247)\"], [0.25, \"rgb(198,219,239)\"], [0.375, \"rgb(158,202,225)\"], [0.5, \"rgb(107,174,214)\"], [0.625, \"rgb(66,146,198)\"], [0.75, \"rgb(33,113,181)\"], [0.875, \"rgb(8,81,156)\"], [1.0, \"rgb(8,48,107)\"]], \"line\": {\"color\": \"Grey\", \"width\": 0.5}, \"showscale\": false}, \"mode\": \"markers\", \"showlegend\": false, \"type\": \"scatter\", \"x\": [1, 1, 2, 1, 2, 2, 2, 1, 1, 2, 2, 2, 2, 2, 2, 2], \"xaxis\": \"x2\", \"y\": [0.9729, 0.1135, 0.9794, 0.1135, 0.9689, 0.9823, 0.987, 0.9704, 0.9591, 0.9809, 0.9882, 0.9886, 0.9893, 0.9862, 0.9822, 0.9828], \"yaxis\": \"y2\"}, {\"marker\": {\"color\": [0, 1, 2, 3, 4, 5, 6, 7, 8, 9, 10, 11, 12, 13, 14, 15], \"colorbar\": {\"title\": {\"text\": \"#Trials\"}, \"x\": 1.0, \"xpad\": 40}, \"colorscale\": [[0.0, \"rgb(247,251,255)\"], [0.125, \"rgb(222,235,247)\"], [0.25, \"rgb(198,219,239)\"], [0.375, \"rgb(158,202,225)\"], [0.5, \"rgb(107,174,214)\"], [0.625, \"rgb(66,146,198)\"], [0.75, \"rgb(33,113,181)\"], [0.875, \"rgb(8,81,156)\"], [1.0, \"rgb(8,48,107)\"]], \"line\": {\"color\": \"Grey\", \"width\": 0.5}, \"showscale\": false}, \"mode\": \"markers\", \"showlegend\": false, \"type\": \"scatter\", \"x\": [\"sparse_categorical_crossentropy\", \"sparse_categorical_crossentropy\", \"sparse_categorical_crossentropy\", \"sparse_categorical_crossentropy\", \"sparse_categorical_crossentropy\", \"sparse_categorical_crossentropy\", \"sparse_categorical_crossentropy\", \"sparse_categorical_crossentropy\", \"sparse_categorical_crossentropy\", \"sparse_categorical_crossentropy\", \"sparse_categorical_crossentropy\", \"sparse_categorical_crossentropy\", \"sparse_categorical_crossentropy\", \"sparse_categorical_crossentropy\", \"sparse_categorical_crossentropy\", \"sparse_categorical_crossentropy\"], \"xaxis\": \"x3\", \"y\": [0.9729, 0.1135, 0.9794, 0.1135, 0.9689, 0.9823, 0.987, 0.9704, 0.9591, 0.9809, 0.9882, 0.9886, 0.9893, 0.9862, 0.9822, 0.9828], \"yaxis\": \"y3\"}, {\"marker\": {\"color\": [0, 1, 2, 3, 4, 5, 6, 7, 8, 9, 10, 11, 12, 13, 14, 15], \"colorbar\": {\"title\": {\"text\": \"#Trials\"}, \"x\": 1.0, \"xpad\": 40}, \"colorscale\": [[0.0, \"rgb(247,251,255)\"], [0.125, \"rgb(222,235,247)\"], [0.25, \"rgb(198,219,239)\"], [0.375, \"rgb(158,202,225)\"], [0.5, \"rgb(107,174,214)\"], [0.625, \"rgb(66,146,198)\"], [0.75, \"rgb(33,113,181)\"], [0.875, \"rgb(8,81,156)\"], [1.0, \"rgb(8,48,107)\"]], \"line\": {\"color\": \"Grey\", \"width\": 0.5}, \"showscale\": false}, \"mode\": \"markers\", \"showlegend\": false, \"type\": \"scatter\", \"x\": [32, 24, 20, 61, 39, 39, 21, 42, 17, 34, 51, 53, 56, 62, 52, 53], \"xaxis\": \"x4\", \"y\": [0.9729, 0.1135, 0.9794, 0.1135, 0.9689, 0.9823, 0.987, 0.9704, 0.9591, 0.9809, 0.9882, 0.9886, 0.9893, 0.9862, 0.9822, 0.9828], \"yaxis\": \"y4\"}, {\"marker\": {\"color\": [0, 1, 2, 3, 4, 5, 6, 7, 8, 9, 10, 11, 12, 13, 14, 15], \"colorbar\": {\"title\": {\"text\": \"#Trials\"}, \"x\": 1.0, \"xpad\": 40}, \"colorscale\": [[0.0, \"rgb(247,251,255)\"], [0.125, \"rgb(222,235,247)\"], [0.25, \"rgb(198,219,239)\"], [0.375, \"rgb(158,202,225)\"], [0.5, \"rgb(107,174,214)\"], [0.625, \"rgb(66,146,198)\"], [0.75, \"rgb(33,113,181)\"], [0.875, \"rgb(8,81,156)\"], [1.0, \"rgb(8,48,107)\"]], \"line\": {\"color\": \"Grey\", \"width\": 0.5}, \"showscale\": false}, \"mode\": \"markers\", \"showlegend\": false, \"type\": \"scatter\", \"x\": [\"sgd\", \"rmsprop\", \"adamax\", \"adamax\", \"sgd\", \"adam\", \"rmsprop\", \"rmsprop\", \"adamax\", \"rmsprop\", \"adam\", \"adam\", \"adam\", \"adam\", \"adam\", \"adam\"], \"xaxis\": \"x5\", \"y\": [0.9729, 0.1135, 0.9794, 0.1135, 0.9689, 0.9823, 0.987, 0.9704, 0.9591, 0.9809, 0.9882, 0.9886, 0.9893, 0.9862, 0.9822, 0.9828], \"yaxis\": \"y5\"}],\n",
       "                        {\"template\": {\"data\": {\"bar\": [{\"error_x\": {\"color\": \"#2a3f5f\"}, \"error_y\": {\"color\": \"#2a3f5f\"}, \"marker\": {\"line\": {\"color\": \"#E5ECF6\", \"width\": 0.5}}, \"type\": \"bar\"}], \"barpolar\": [{\"marker\": {\"line\": {\"color\": \"#E5ECF6\", \"width\": 0.5}}, \"type\": \"barpolar\"}], \"carpet\": [{\"aaxis\": {\"endlinecolor\": \"#2a3f5f\", \"gridcolor\": \"white\", \"linecolor\": \"white\", \"minorgridcolor\": \"white\", \"startlinecolor\": \"#2a3f5f\"}, \"baxis\": {\"endlinecolor\": \"#2a3f5f\", \"gridcolor\": \"white\", \"linecolor\": \"white\", \"minorgridcolor\": \"white\", \"startlinecolor\": \"#2a3f5f\"}, \"type\": \"carpet\"}], \"choropleth\": [{\"colorbar\": {\"outlinewidth\": 0, \"ticks\": \"\"}, \"type\": \"choropleth\"}], \"contour\": [{\"colorbar\": {\"outlinewidth\": 0, \"ticks\": \"\"}, \"colorscale\": [[0.0, \"#0d0887\"], [0.1111111111111111, \"#46039f\"], [0.2222222222222222, \"#7201a8\"], [0.3333333333333333, \"#9c179e\"], [0.4444444444444444, \"#bd3786\"], [0.5555555555555556, \"#d8576b\"], [0.6666666666666666, \"#ed7953\"], [0.7777777777777778, \"#fb9f3a\"], [0.8888888888888888, \"#fdca26\"], [1.0, \"#f0f921\"]], \"type\": \"contour\"}], \"contourcarpet\": [{\"colorbar\": {\"outlinewidth\": 0, \"ticks\": \"\"}, \"type\": \"contourcarpet\"}], \"heatmap\": [{\"colorbar\": {\"outlinewidth\": 0, \"ticks\": \"\"}, \"colorscale\": [[0.0, \"#0d0887\"], [0.1111111111111111, \"#46039f\"], [0.2222222222222222, \"#7201a8\"], [0.3333333333333333, \"#9c179e\"], [0.4444444444444444, \"#bd3786\"], [0.5555555555555556, \"#d8576b\"], [0.6666666666666666, \"#ed7953\"], [0.7777777777777778, \"#fb9f3a\"], [0.8888888888888888, \"#fdca26\"], [1.0, \"#f0f921\"]], \"type\": \"heatmap\"}], \"heatmapgl\": [{\"colorbar\": {\"outlinewidth\": 0, \"ticks\": \"\"}, \"colorscale\": [[0.0, \"#0d0887\"], [0.1111111111111111, \"#46039f\"], [0.2222222222222222, \"#7201a8\"], [0.3333333333333333, \"#9c179e\"], [0.4444444444444444, \"#bd3786\"], [0.5555555555555556, \"#d8576b\"], [0.6666666666666666, \"#ed7953\"], [0.7777777777777778, \"#fb9f3a\"], [0.8888888888888888, \"#fdca26\"], [1.0, \"#f0f921\"]], \"type\": \"heatmapgl\"}], \"histogram\": [{\"marker\": {\"colorbar\": {\"outlinewidth\": 0, \"ticks\": \"\"}}, \"type\": \"histogram\"}], \"histogram2d\": [{\"colorbar\": {\"outlinewidth\": 0, \"ticks\": \"\"}, \"colorscale\": [[0.0, \"#0d0887\"], [0.1111111111111111, \"#46039f\"], [0.2222222222222222, \"#7201a8\"], [0.3333333333333333, \"#9c179e\"], [0.4444444444444444, \"#bd3786\"], [0.5555555555555556, \"#d8576b\"], [0.6666666666666666, \"#ed7953\"], [0.7777777777777778, \"#fb9f3a\"], [0.8888888888888888, \"#fdca26\"], [1.0, \"#f0f921\"]], \"type\": \"histogram2d\"}], \"histogram2dcontour\": [{\"colorbar\": {\"outlinewidth\": 0, \"ticks\": \"\"}, \"colorscale\": [[0.0, \"#0d0887\"], [0.1111111111111111, \"#46039f\"], [0.2222222222222222, \"#7201a8\"], [0.3333333333333333, \"#9c179e\"], [0.4444444444444444, \"#bd3786\"], [0.5555555555555556, \"#d8576b\"], [0.6666666666666666, \"#ed7953\"], [0.7777777777777778, \"#fb9f3a\"], [0.8888888888888888, \"#fdca26\"], [1.0, \"#f0f921\"]], \"type\": \"histogram2dcontour\"}], \"mesh3d\": [{\"colorbar\": {\"outlinewidth\": 0, \"ticks\": \"\"}, \"type\": \"mesh3d\"}], \"parcoords\": [{\"line\": {\"colorbar\": {\"outlinewidth\": 0, \"ticks\": \"\"}}, \"type\": \"parcoords\"}], \"pie\": [{\"automargin\": true, \"type\": \"pie\"}], \"scatter\": [{\"marker\": {\"colorbar\": {\"outlinewidth\": 0, \"ticks\": \"\"}}, \"type\": \"scatter\"}], \"scatter3d\": [{\"line\": {\"colorbar\": {\"outlinewidth\": 0, \"ticks\": \"\"}}, \"marker\": {\"colorbar\": {\"outlinewidth\": 0, \"ticks\": \"\"}}, \"type\": \"scatter3d\"}], \"scattercarpet\": [{\"marker\": {\"colorbar\": {\"outlinewidth\": 0, \"ticks\": \"\"}}, \"type\": \"scattercarpet\"}], \"scattergeo\": [{\"marker\": {\"colorbar\": {\"outlinewidth\": 0, \"ticks\": \"\"}}, \"type\": \"scattergeo\"}], \"scattergl\": [{\"marker\": {\"colorbar\": {\"outlinewidth\": 0, \"ticks\": \"\"}}, \"type\": \"scattergl\"}], \"scattermapbox\": [{\"marker\": {\"colorbar\": {\"outlinewidth\": 0, \"ticks\": \"\"}}, \"type\": \"scattermapbox\"}], \"scatterpolar\": [{\"marker\": {\"colorbar\": {\"outlinewidth\": 0, \"ticks\": \"\"}}, \"type\": \"scatterpolar\"}], \"scatterpolargl\": [{\"marker\": {\"colorbar\": {\"outlinewidth\": 0, \"ticks\": \"\"}}, \"type\": \"scatterpolargl\"}], \"scatterternary\": [{\"marker\": {\"colorbar\": {\"outlinewidth\": 0, \"ticks\": \"\"}}, \"type\": \"scatterternary\"}], \"surface\": [{\"colorbar\": {\"outlinewidth\": 0, \"ticks\": \"\"}, \"colorscale\": [[0.0, \"#0d0887\"], [0.1111111111111111, \"#46039f\"], [0.2222222222222222, \"#7201a8\"], [0.3333333333333333, \"#9c179e\"], [0.4444444444444444, \"#bd3786\"], [0.5555555555555556, \"#d8576b\"], [0.6666666666666666, \"#ed7953\"], [0.7777777777777778, \"#fb9f3a\"], [0.8888888888888888, \"#fdca26\"], [1.0, \"#f0f921\"]], \"type\": \"surface\"}], \"table\": [{\"cells\": {\"fill\": {\"color\": \"#EBF0F8\"}, \"line\": {\"color\": \"white\"}}, \"header\": {\"fill\": {\"color\": \"#C8D4E3\"}, \"line\": {\"color\": \"white\"}}, \"type\": \"table\"}]}, \"layout\": {\"annotationdefaults\": {\"arrowcolor\": \"#2a3f5f\", \"arrowhead\": 0, \"arrowwidth\": 1}, \"coloraxis\": {\"colorbar\": {\"outlinewidth\": 0, \"ticks\": \"\"}}, \"colorscale\": {\"diverging\": [[0, \"#8e0152\"], [0.1, \"#c51b7d\"], [0.2, \"#de77ae\"], [0.3, \"#f1b6da\"], [0.4, \"#fde0ef\"], [0.5, \"#f7f7f7\"], [0.6, \"#e6f5d0\"], [0.7, \"#b8e186\"], [0.8, \"#7fbc41\"], [0.9, \"#4d9221\"], [1, \"#276419\"]], \"sequential\": [[0.0, \"#0d0887\"], [0.1111111111111111, \"#46039f\"], [0.2222222222222222, \"#7201a8\"], [0.3333333333333333, \"#9c179e\"], [0.4444444444444444, \"#bd3786\"], [0.5555555555555556, \"#d8576b\"], [0.6666666666666666, \"#ed7953\"], [0.7777777777777778, \"#fb9f3a\"], [0.8888888888888888, \"#fdca26\"], [1.0, \"#f0f921\"]], \"sequentialminus\": [[0.0, \"#0d0887\"], [0.1111111111111111, \"#46039f\"], [0.2222222222222222, \"#7201a8\"], [0.3333333333333333, \"#9c179e\"], [0.4444444444444444, \"#bd3786\"], [0.5555555555555556, \"#d8576b\"], [0.6666666666666666, \"#ed7953\"], [0.7777777777777778, \"#fb9f3a\"], [0.8888888888888888, \"#fdca26\"], [1.0, \"#f0f921\"]]}, \"colorway\": [\"#636efa\", \"#EF553B\", \"#00cc96\", \"#ab63fa\", \"#FFA15A\", \"#19d3f3\", \"#FF6692\", \"#B6E880\", \"#FF97FF\", \"#FECB52\"], \"font\": {\"color\": \"#2a3f5f\"}, \"geo\": {\"bgcolor\": \"white\", \"lakecolor\": \"white\", \"landcolor\": \"#E5ECF6\", \"showlakes\": true, \"showland\": true, \"subunitcolor\": \"white\"}, \"hoverlabel\": {\"align\": \"left\"}, \"hovermode\": \"closest\", \"mapbox\": {\"style\": \"light\"}, \"paper_bgcolor\": \"white\", \"plot_bgcolor\": \"#E5ECF6\", \"polar\": {\"angularaxis\": {\"gridcolor\": \"white\", \"linecolor\": \"white\", \"ticks\": \"\"}, \"bgcolor\": \"#E5ECF6\", \"radialaxis\": {\"gridcolor\": \"white\", \"linecolor\": \"white\", \"ticks\": \"\"}}, \"scene\": {\"xaxis\": {\"backgroundcolor\": \"#E5ECF6\", \"gridcolor\": \"white\", \"gridwidth\": 2, \"linecolor\": \"white\", \"showbackground\": true, \"ticks\": \"\", \"zerolinecolor\": \"white\"}, \"yaxis\": {\"backgroundcolor\": \"#E5ECF6\", \"gridcolor\": \"white\", \"gridwidth\": 2, \"linecolor\": \"white\", \"showbackground\": true, \"ticks\": \"\", \"zerolinecolor\": \"white\"}, \"zaxis\": {\"backgroundcolor\": \"#E5ECF6\", \"gridcolor\": \"white\", \"gridwidth\": 2, \"linecolor\": \"white\", \"showbackground\": true, \"ticks\": \"\", \"zerolinecolor\": \"white\"}}, \"shapedefaults\": {\"line\": {\"color\": \"#2a3f5f\"}}, \"ternary\": {\"aaxis\": {\"gridcolor\": \"white\", \"linecolor\": \"white\", \"ticks\": \"\"}, \"baxis\": {\"gridcolor\": \"white\", \"linecolor\": \"white\", \"ticks\": \"\"}, \"bgcolor\": \"#E5ECF6\", \"caxis\": {\"gridcolor\": \"white\", \"linecolor\": \"white\", \"ticks\": \"\"}}, \"title\": {\"x\": 0.05}, \"xaxis\": {\"automargin\": true, \"gridcolor\": \"white\", \"linecolor\": \"white\", \"ticks\": \"\", \"title\": {\"standoff\": 15}, \"zerolinecolor\": \"white\", \"zerolinewidth\": 2}, \"yaxis\": {\"automargin\": true, \"gridcolor\": \"white\", \"linecolor\": \"white\", \"ticks\": \"\", \"title\": {\"standoff\": 15}, \"zerolinecolor\": \"white\", \"zerolinewidth\": 2}}}, \"title\": {\"text\": \"Slice Plot\"}, \"width\": 1500, \"xaxis\": {\"anchor\": \"y\", \"domain\": [0.0, 0.16799999999999998], \"title\": {\"text\": \"activation\"}}, \"xaxis2\": {\"anchor\": \"y2\", \"domain\": [0.208, 0.376], \"title\": {\"text\": \"dilation\"}}, \"xaxis3\": {\"anchor\": \"y3\", \"domain\": [0.416, 0.584], \"title\": {\"text\": \"loss\"}}, \"xaxis4\": {\"anchor\": \"y4\", \"domain\": [0.624, 0.792], \"title\": {\"text\": \"n_neurons\"}}, \"xaxis5\": {\"anchor\": \"y5\", \"domain\": [0.832, 1.0], \"title\": {\"text\": \"optimizer\"}}, \"yaxis\": {\"anchor\": \"x\", \"domain\": [0.0, 1.0], \"title\": {\"text\": \"Objective Value\"}}, \"yaxis2\": {\"anchor\": \"x2\", \"domain\": [0.0, 1.0], \"matches\": \"y\", \"showticklabels\": false}, \"yaxis3\": {\"anchor\": \"x3\", \"domain\": [0.0, 1.0], \"matches\": \"y\", \"showticklabels\": false}, \"yaxis4\": {\"anchor\": \"x4\", \"domain\": [0.0, 1.0], \"matches\": \"y\", \"showticklabels\": false}, \"yaxis5\": {\"anchor\": \"x5\", \"domain\": [0.0, 1.0], \"matches\": \"y\", \"showticklabels\": false}},\n",
       "                        {\"responsive\": true}\n",
       "                    ).then(function(){\n",
       "                            \n",
       "var gd = document.getElementById('7ad3d9c7-a441-4dd0-ae7f-6d519f8482f5');\n",
       "var x = new MutationObserver(function (mutations, observer) {{\n",
       "        var display = window.getComputedStyle(gd).display;\n",
       "        if (!display || display === 'none') {{\n",
       "            console.log([gd, 'removed!']);\n",
       "            Plotly.purge(gd);\n",
       "            observer.disconnect();\n",
       "        }}\n",
       "}});\n",
       "\n",
       "// Listen for the removal of the full notebook cells\n",
       "var notebookContainer = gd.closest('#notebook-container');\n",
       "if (notebookContainer) {{\n",
       "    x.observe(notebookContainer, {childList: true});\n",
       "}}\n",
       "\n",
       "// Listen for the clearing of the current output cell\n",
       "var outputEl = gd.closest('.output');\n",
       "if (outputEl) {{\n",
       "    x.observe(outputEl, {childList: true});\n",
       "}}\n",
       "\n",
       "                        })\n",
       "                };\n",
       "                \n",
       "            </script>\n",
       "        </div>\n",
       "</body>\n",
       "</html>"
      ]
     },
     "metadata": {},
     "output_type": "display_data"
    }
   ],
   "source": [
    "optuna.visualization.plot_slice(study_1)"
   ]
  },
  {
   "cell_type": "code",
   "execution_count": null,
   "metadata": {
    "colab": {
     "base_uri": "https://localhost:8080/",
     "height": 542
    },
    "id": "R2BCQhwRMgH7",
    "outputId": "5abae8c4-90bd-461f-f900-01768b3abd0f"
   },
   "outputs": [
    {
     "data": {
      "text/html": [
       "<html>\n",
       "<head><meta charset=\"utf-8\" /></head>\n",
       "<body>\n",
       "    <div>\n",
       "            <script src=\"https://cdnjs.cloudflare.com/ajax/libs/mathjax/2.7.5/MathJax.js?config=TeX-AMS-MML_SVG\"></script><script type=\"text/javascript\">if (window.MathJax) {MathJax.Hub.Config({SVG: {font: \"STIX-Web\"}});}</script>\n",
       "                <script type=\"text/javascript\">window.PlotlyConfig = {MathJaxConfig: 'local'};</script>\n",
       "        <script src=\"https://cdn.plot.ly/plotly-latest.min.js\"></script>    \n",
       "            <div id=\"4cfd2731-1efb-4516-a0d8-89815aedb87e\" class=\"plotly-graph-div\" style=\"height:525px; width:1500px;\"></div>\n",
       "            <script type=\"text/javascript\">\n",
       "                \n",
       "                    window.PLOTLYENV=window.PLOTLYENV || {};\n",
       "                    \n",
       "                if (document.getElementById(\"4cfd2731-1efb-4516-a0d8-89815aedb87e\")) {\n",
       "                    Plotly.newPlot(\n",
       "                        '4cfd2731-1efb-4516-a0d8-89815aedb87e',\n",
       "                        [{\"marker\": {\"color\": [0, 1, 2, 3, 4, 5, 6, 7, 8, 9, 10, 11, 12, 13, 14, 15], \"colorbar\": {\"title\": {\"text\": \"#Trials\"}, \"x\": 1.0, \"xpad\": 40}, \"colorscale\": [[0.0, \"rgb(247,251,255)\"], [0.125, \"rgb(222,235,247)\"], [0.25, \"rgb(198,219,239)\"], [0.375, \"rgb(158,202,225)\"], [0.5, \"rgb(107,174,214)\"], [0.625, \"rgb(66,146,198)\"], [0.75, \"rgb(33,113,181)\"], [0.875, \"rgb(8,81,156)\"], [1.0, \"rgb(8,48,107)\"]], \"line\": {\"color\": \"Grey\", \"width\": 0.5}, \"showscale\": true}, \"mode\": \"markers\", \"showlegend\": false, \"type\": \"scatter\", \"x\": [\"softmax\", \"selu\", \"softplus\", \"exponential\", \"selu\", \"tanh\", \"softplus\", \"sigmoid\", \"exponential\", \"elu\", \"selu\", \"softplus\", \"softsign\", \"softsign\", \"softsign\", \"softsign\"], \"xaxis\": \"x\", \"y\": [0.1135, 0.9689, 0.9213, 0.9751, 0.9893, 0.9695, 0.9879, 0.1135, 0.961, 0.9878, 0.9843, 0.1135, 0.9917, 0.9813, 0.99, 0.9886], \"yaxis\": \"y\"}, {\"marker\": {\"color\": [0, 1, 2, 3, 4, 5, 6, 7, 8, 9, 10, 11, 12, 13, 14, 15], \"colorbar\": {\"title\": {\"text\": \"#Trials\"}, \"x\": 1.0, \"xpad\": 40}, \"colorscale\": [[0.0, \"rgb(247,251,255)\"], [0.125, \"rgb(222,235,247)\"], [0.25, \"rgb(198,219,239)\"], [0.375, \"rgb(158,202,225)\"], [0.5, \"rgb(107,174,214)\"], [0.625, \"rgb(66,146,198)\"], [0.75, \"rgb(33,113,181)\"], [0.875, \"rgb(8,81,156)\"], [1.0, \"rgb(8,48,107)\"]], \"line\": {\"color\": \"Grey\", \"width\": 0.5}, \"showscale\": false}, \"mode\": \"markers\", \"showlegend\": false, \"type\": \"scatter\", \"x\": [1, 1, 1, 2, 2, 1, 2, 1, 1, 2, 2, 2, 2, 2, 2, 2], \"xaxis\": \"x2\", \"y\": [0.1135, 0.9689, 0.9213, 0.9751, 0.9893, 0.9695, 0.9879, 0.1135, 0.961, 0.9878, 0.9843, 0.1135, 0.9917, 0.9813, 0.99, 0.9886], \"yaxis\": \"y2\"}, {\"marker\": {\"color\": [0, 1, 2, 3, 4, 5, 6, 7, 8, 9, 10, 11, 12, 13, 14, 15], \"colorbar\": {\"title\": {\"text\": \"#Trials\"}, \"x\": 1.0, \"xpad\": 40}, \"colorscale\": [[0.0, \"rgb(247,251,255)\"], [0.125, \"rgb(222,235,247)\"], [0.25, \"rgb(198,219,239)\"], [0.375, \"rgb(158,202,225)\"], [0.5, \"rgb(107,174,214)\"], [0.625, \"rgb(66,146,198)\"], [0.75, \"rgb(33,113,181)\"], [0.875, \"rgb(8,81,156)\"], [1.0, \"rgb(8,48,107)\"]], \"line\": {\"color\": \"Grey\", \"width\": 0.5}, \"showscale\": false}, \"mode\": \"markers\", \"showlegend\": false, \"type\": \"scatter\", \"x\": [\"sparse_categorical_crossentropy\", \"sparse_categorical_crossentropy\", \"sparse_categorical_crossentropy\", \"sparse_categorical_crossentropy\", \"sparse_categorical_crossentropy\", \"sparse_categorical_crossentropy\", \"sparse_categorical_crossentropy\", \"sparse_categorical_crossentropy\", \"sparse_categorical_crossentropy\", \"sparse_categorical_crossentropy\", \"sparse_categorical_crossentropy\", \"sparse_categorical_crossentropy\", \"sparse_categorical_crossentropy\", \"sparse_categorical_crossentropy\", \"sparse_categorical_crossentropy\", \"sparse_categorical_crossentropy\"], \"xaxis\": \"x3\", \"y\": [0.1135, 0.9689, 0.9213, 0.9751, 0.9893, 0.9695, 0.9879, 0.1135, 0.961, 0.9878, 0.9843, 0.1135, 0.9917, 0.9813, 0.99, 0.9886], \"yaxis\": \"y3\"}, {\"marker\": {\"color\": [0, 1, 2, 3, 4, 5, 6, 7, 8, 9, 10, 11, 12, 13, 14, 15], \"colorbar\": {\"title\": {\"text\": \"#Trials\"}, \"x\": 1.0, \"xpad\": 40}, \"colorscale\": [[0.0, \"rgb(247,251,255)\"], [0.125, \"rgb(222,235,247)\"], [0.25, \"rgb(198,219,239)\"], [0.375, \"rgb(158,202,225)\"], [0.5, \"rgb(107,174,214)\"], [0.625, \"rgb(66,146,198)\"], [0.75, \"rgb(33,113,181)\"], [0.875, \"rgb(8,81,156)\"], [1.0, \"rgb(8,48,107)\"]], \"line\": {\"color\": \"Grey\", \"width\": 0.5}, \"showscale\": false}, \"mode\": \"markers\", \"showlegend\": false, \"type\": \"scatter\", \"x\": [20, 36, 45, 16, 41, 20, 53, 63, 63, 19, 35, 49, 53, 55, 31, 29], \"xaxis\": \"x4\", \"y\": [0.1135, 0.9689, 0.9213, 0.9751, 0.9893, 0.9695, 0.9879, 0.1135, 0.961, 0.9878, 0.9843, 0.1135, 0.9917, 0.9813, 0.99, 0.9886], \"yaxis\": \"y4\"}, {\"marker\": {\"color\": [0, 1, 2, 3, 4, 5, 6, 7, 8, 9, 10, 11, 12, 13, 14, 15], \"colorbar\": {\"title\": {\"text\": \"#Trials\"}, \"x\": 1.0, \"xpad\": 40}, \"colorscale\": [[0.0, \"rgb(247,251,255)\"], [0.125, \"rgb(222,235,247)\"], [0.25, \"rgb(198,219,239)\"], [0.375, \"rgb(158,202,225)\"], [0.5, \"rgb(107,174,214)\"], [0.625, \"rgb(66,146,198)\"], [0.75, \"rgb(33,113,181)\"], [0.875, \"rgb(8,81,156)\"], [1.0, \"rgb(8,48,107)\"]], \"line\": {\"color\": \"Grey\", \"width\": 0.5}, \"showscale\": false}, \"mode\": \"markers\", \"showlegend\": false, \"type\": \"scatter\", \"x\": [\"rmsprop\", \"adamax\", \"rmsprop\", \"adamax\", \"adamax\", \"rmsprop\", \"adamax\", \"sgd\", \"adam\", \"adamax\", \"sgd\", \"adamax\", \"adamax\", \"adam\", \"adamax\", \"adamax\"], \"xaxis\": \"x5\", \"y\": [0.1135, 0.9689, 0.9213, 0.9751, 0.9893, 0.9695, 0.9879, 0.1135, 0.961, 0.9878, 0.9843, 0.1135, 0.9917, 0.9813, 0.99, 0.9886], \"yaxis\": \"y5\"}],\n",
       "                        {\"template\": {\"data\": {\"bar\": [{\"error_x\": {\"color\": \"#2a3f5f\"}, \"error_y\": {\"color\": \"#2a3f5f\"}, \"marker\": {\"line\": {\"color\": \"#E5ECF6\", \"width\": 0.5}}, \"type\": \"bar\"}], \"barpolar\": [{\"marker\": {\"line\": {\"color\": \"#E5ECF6\", \"width\": 0.5}}, \"type\": \"barpolar\"}], \"carpet\": [{\"aaxis\": {\"endlinecolor\": \"#2a3f5f\", \"gridcolor\": \"white\", \"linecolor\": \"white\", \"minorgridcolor\": \"white\", \"startlinecolor\": \"#2a3f5f\"}, \"baxis\": {\"endlinecolor\": \"#2a3f5f\", \"gridcolor\": \"white\", \"linecolor\": \"white\", \"minorgridcolor\": \"white\", \"startlinecolor\": \"#2a3f5f\"}, \"type\": \"carpet\"}], \"choropleth\": [{\"colorbar\": {\"outlinewidth\": 0, \"ticks\": \"\"}, \"type\": \"choropleth\"}], \"contour\": [{\"colorbar\": {\"outlinewidth\": 0, \"ticks\": \"\"}, \"colorscale\": [[0.0, \"#0d0887\"], [0.1111111111111111, \"#46039f\"], [0.2222222222222222, \"#7201a8\"], [0.3333333333333333, \"#9c179e\"], [0.4444444444444444, \"#bd3786\"], [0.5555555555555556, \"#d8576b\"], [0.6666666666666666, \"#ed7953\"], [0.7777777777777778, \"#fb9f3a\"], [0.8888888888888888, \"#fdca26\"], [1.0, \"#f0f921\"]], \"type\": \"contour\"}], \"contourcarpet\": [{\"colorbar\": {\"outlinewidth\": 0, \"ticks\": \"\"}, \"type\": \"contourcarpet\"}], \"heatmap\": [{\"colorbar\": {\"outlinewidth\": 0, \"ticks\": \"\"}, \"colorscale\": [[0.0, \"#0d0887\"], [0.1111111111111111, \"#46039f\"], [0.2222222222222222, \"#7201a8\"], [0.3333333333333333, \"#9c179e\"], [0.4444444444444444, \"#bd3786\"], [0.5555555555555556, \"#d8576b\"], [0.6666666666666666, \"#ed7953\"], [0.7777777777777778, \"#fb9f3a\"], [0.8888888888888888, \"#fdca26\"], [1.0, \"#f0f921\"]], \"type\": \"heatmap\"}], \"heatmapgl\": [{\"colorbar\": {\"outlinewidth\": 0, \"ticks\": \"\"}, \"colorscale\": [[0.0, \"#0d0887\"], [0.1111111111111111, \"#46039f\"], [0.2222222222222222, \"#7201a8\"], [0.3333333333333333, \"#9c179e\"], [0.4444444444444444, \"#bd3786\"], [0.5555555555555556, \"#d8576b\"], [0.6666666666666666, \"#ed7953\"], [0.7777777777777778, \"#fb9f3a\"], [0.8888888888888888, \"#fdca26\"], [1.0, \"#f0f921\"]], \"type\": \"heatmapgl\"}], \"histogram\": [{\"marker\": {\"colorbar\": {\"outlinewidth\": 0, \"ticks\": \"\"}}, \"type\": \"histogram\"}], \"histogram2d\": [{\"colorbar\": {\"outlinewidth\": 0, \"ticks\": \"\"}, \"colorscale\": [[0.0, \"#0d0887\"], [0.1111111111111111, \"#46039f\"], [0.2222222222222222, \"#7201a8\"], [0.3333333333333333, \"#9c179e\"], [0.4444444444444444, \"#bd3786\"], [0.5555555555555556, \"#d8576b\"], [0.6666666666666666, \"#ed7953\"], [0.7777777777777778, \"#fb9f3a\"], [0.8888888888888888, \"#fdca26\"], [1.0, \"#f0f921\"]], \"type\": \"histogram2d\"}], \"histogram2dcontour\": [{\"colorbar\": {\"outlinewidth\": 0, \"ticks\": \"\"}, \"colorscale\": [[0.0, \"#0d0887\"], [0.1111111111111111, \"#46039f\"], [0.2222222222222222, \"#7201a8\"], [0.3333333333333333, \"#9c179e\"], [0.4444444444444444, \"#bd3786\"], [0.5555555555555556, \"#d8576b\"], [0.6666666666666666, \"#ed7953\"], [0.7777777777777778, \"#fb9f3a\"], [0.8888888888888888, \"#fdca26\"], [1.0, \"#f0f921\"]], \"type\": \"histogram2dcontour\"}], \"mesh3d\": [{\"colorbar\": {\"outlinewidth\": 0, \"ticks\": \"\"}, \"type\": \"mesh3d\"}], \"parcoords\": [{\"line\": {\"colorbar\": {\"outlinewidth\": 0, \"ticks\": \"\"}}, \"type\": \"parcoords\"}], \"pie\": [{\"automargin\": true, \"type\": \"pie\"}], \"scatter\": [{\"marker\": {\"colorbar\": {\"outlinewidth\": 0, \"ticks\": \"\"}}, \"type\": \"scatter\"}], \"scatter3d\": [{\"line\": {\"colorbar\": {\"outlinewidth\": 0, \"ticks\": \"\"}}, \"marker\": {\"colorbar\": {\"outlinewidth\": 0, \"ticks\": \"\"}}, \"type\": \"scatter3d\"}], \"scattercarpet\": [{\"marker\": {\"colorbar\": {\"outlinewidth\": 0, \"ticks\": \"\"}}, \"type\": \"scattercarpet\"}], \"scattergeo\": [{\"marker\": {\"colorbar\": {\"outlinewidth\": 0, \"ticks\": \"\"}}, \"type\": \"scattergeo\"}], \"scattergl\": [{\"marker\": {\"colorbar\": {\"outlinewidth\": 0, \"ticks\": \"\"}}, \"type\": \"scattergl\"}], \"scattermapbox\": [{\"marker\": {\"colorbar\": {\"outlinewidth\": 0, \"ticks\": \"\"}}, \"type\": \"scattermapbox\"}], \"scatterpolar\": [{\"marker\": {\"colorbar\": {\"outlinewidth\": 0, \"ticks\": \"\"}}, \"type\": \"scatterpolar\"}], \"scatterpolargl\": [{\"marker\": {\"colorbar\": {\"outlinewidth\": 0, \"ticks\": \"\"}}, \"type\": \"scatterpolargl\"}], \"scatterternary\": [{\"marker\": {\"colorbar\": {\"outlinewidth\": 0, \"ticks\": \"\"}}, \"type\": \"scatterternary\"}], \"surface\": [{\"colorbar\": {\"outlinewidth\": 0, \"ticks\": \"\"}, \"colorscale\": [[0.0, \"#0d0887\"], [0.1111111111111111, \"#46039f\"], [0.2222222222222222, \"#7201a8\"], [0.3333333333333333, \"#9c179e\"], [0.4444444444444444, \"#bd3786\"], [0.5555555555555556, \"#d8576b\"], [0.6666666666666666, \"#ed7953\"], [0.7777777777777778, \"#fb9f3a\"], [0.8888888888888888, \"#fdca26\"], [1.0, \"#f0f921\"]], \"type\": \"surface\"}], \"table\": [{\"cells\": {\"fill\": {\"color\": \"#EBF0F8\"}, \"line\": {\"color\": \"white\"}}, \"header\": {\"fill\": {\"color\": \"#C8D4E3\"}, \"line\": {\"color\": \"white\"}}, \"type\": \"table\"}]}, \"layout\": {\"annotationdefaults\": {\"arrowcolor\": \"#2a3f5f\", \"arrowhead\": 0, \"arrowwidth\": 1}, \"coloraxis\": {\"colorbar\": {\"outlinewidth\": 0, \"ticks\": \"\"}}, \"colorscale\": {\"diverging\": [[0, \"#8e0152\"], [0.1, \"#c51b7d\"], [0.2, \"#de77ae\"], [0.3, \"#f1b6da\"], [0.4, \"#fde0ef\"], [0.5, \"#f7f7f7\"], [0.6, \"#e6f5d0\"], [0.7, \"#b8e186\"], [0.8, \"#7fbc41\"], [0.9, \"#4d9221\"], [1, \"#276419\"]], \"sequential\": [[0.0, \"#0d0887\"], [0.1111111111111111, \"#46039f\"], [0.2222222222222222, \"#7201a8\"], [0.3333333333333333, \"#9c179e\"], [0.4444444444444444, \"#bd3786\"], [0.5555555555555556, \"#d8576b\"], [0.6666666666666666, \"#ed7953\"], [0.7777777777777778, \"#fb9f3a\"], [0.8888888888888888, \"#fdca26\"], [1.0, \"#f0f921\"]], \"sequentialminus\": [[0.0, \"#0d0887\"], [0.1111111111111111, \"#46039f\"], [0.2222222222222222, \"#7201a8\"], [0.3333333333333333, \"#9c179e\"], [0.4444444444444444, \"#bd3786\"], [0.5555555555555556, \"#d8576b\"], [0.6666666666666666, \"#ed7953\"], [0.7777777777777778, \"#fb9f3a\"], [0.8888888888888888, \"#fdca26\"], [1.0, \"#f0f921\"]]}, \"colorway\": [\"#636efa\", \"#EF553B\", \"#00cc96\", \"#ab63fa\", \"#FFA15A\", \"#19d3f3\", \"#FF6692\", \"#B6E880\", \"#FF97FF\", \"#FECB52\"], \"font\": {\"color\": \"#2a3f5f\"}, \"geo\": {\"bgcolor\": \"white\", \"lakecolor\": \"white\", \"landcolor\": \"#E5ECF6\", \"showlakes\": true, \"showland\": true, \"subunitcolor\": \"white\"}, \"hoverlabel\": {\"align\": \"left\"}, \"hovermode\": \"closest\", \"mapbox\": {\"style\": \"light\"}, \"paper_bgcolor\": \"white\", \"plot_bgcolor\": \"#E5ECF6\", \"polar\": {\"angularaxis\": {\"gridcolor\": \"white\", \"linecolor\": \"white\", \"ticks\": \"\"}, \"bgcolor\": \"#E5ECF6\", \"radialaxis\": {\"gridcolor\": \"white\", \"linecolor\": \"white\", \"ticks\": \"\"}}, \"scene\": {\"xaxis\": {\"backgroundcolor\": \"#E5ECF6\", \"gridcolor\": \"white\", \"gridwidth\": 2, \"linecolor\": \"white\", \"showbackground\": true, \"ticks\": \"\", \"zerolinecolor\": \"white\"}, \"yaxis\": {\"backgroundcolor\": \"#E5ECF6\", \"gridcolor\": \"white\", \"gridwidth\": 2, \"linecolor\": \"white\", \"showbackground\": true, \"ticks\": \"\", \"zerolinecolor\": \"white\"}, \"zaxis\": {\"backgroundcolor\": \"#E5ECF6\", \"gridcolor\": \"white\", \"gridwidth\": 2, \"linecolor\": \"white\", \"showbackground\": true, \"ticks\": \"\", \"zerolinecolor\": \"white\"}}, \"shapedefaults\": {\"line\": {\"color\": \"#2a3f5f\"}}, \"ternary\": {\"aaxis\": {\"gridcolor\": \"white\", \"linecolor\": \"white\", \"ticks\": \"\"}, \"baxis\": {\"gridcolor\": \"white\", \"linecolor\": \"white\", \"ticks\": \"\"}, \"bgcolor\": \"#E5ECF6\", \"caxis\": {\"gridcolor\": \"white\", \"linecolor\": \"white\", \"ticks\": \"\"}}, \"title\": {\"x\": 0.05}, \"xaxis\": {\"automargin\": true, \"gridcolor\": \"white\", \"linecolor\": \"white\", \"ticks\": \"\", \"title\": {\"standoff\": 15}, \"zerolinecolor\": \"white\", \"zerolinewidth\": 2}, \"yaxis\": {\"automargin\": true, \"gridcolor\": \"white\", \"linecolor\": \"white\", \"ticks\": \"\", \"title\": {\"standoff\": 15}, \"zerolinecolor\": \"white\", \"zerolinewidth\": 2}}}, \"title\": {\"text\": \"Slice Plot\"}, \"width\": 1500, \"xaxis\": {\"anchor\": \"y\", \"domain\": [0.0, 0.16799999999999998], \"title\": {\"text\": \"activation\"}}, \"xaxis2\": {\"anchor\": \"y2\", \"domain\": [0.208, 0.376], \"title\": {\"text\": \"dilation\"}}, \"xaxis3\": {\"anchor\": \"y3\", \"domain\": [0.416, 0.584], \"title\": {\"text\": \"loss\"}}, \"xaxis4\": {\"anchor\": \"y4\", \"domain\": [0.624, 0.792], \"title\": {\"text\": \"n_neurons\"}}, \"xaxis5\": {\"anchor\": \"y5\", \"domain\": [0.832, 1.0], \"title\": {\"text\": \"optimizer\"}}, \"yaxis\": {\"anchor\": \"x\", \"domain\": [0.0, 1.0], \"title\": {\"text\": \"Objective Value\"}}, \"yaxis2\": {\"anchor\": \"x2\", \"domain\": [0.0, 1.0], \"matches\": \"y\", \"showticklabels\": false}, \"yaxis3\": {\"anchor\": \"x3\", \"domain\": [0.0, 1.0], \"matches\": \"y\", \"showticklabels\": false}, \"yaxis4\": {\"anchor\": \"x4\", \"domain\": [0.0, 1.0], \"matches\": \"y\", \"showticklabels\": false}, \"yaxis5\": {\"anchor\": \"x5\", \"domain\": [0.0, 1.0], \"matches\": \"y\", \"showticklabels\": false}},\n",
       "                        {\"responsive\": true}\n",
       "                    ).then(function(){\n",
       "                            \n",
       "var gd = document.getElementById('4cfd2731-1efb-4516-a0d8-89815aedb87e');\n",
       "var x = new MutationObserver(function (mutations, observer) {{\n",
       "        var display = window.getComputedStyle(gd).display;\n",
       "        if (!display || display === 'none') {{\n",
       "            console.log([gd, 'removed!']);\n",
       "            Plotly.purge(gd);\n",
       "            observer.disconnect();\n",
       "        }}\n",
       "}});\n",
       "\n",
       "// Listen for the removal of the full notebook cells\n",
       "var notebookContainer = gd.closest('#notebook-container');\n",
       "if (notebookContainer) {{\n",
       "    x.observe(notebookContainer, {childList: true});\n",
       "}}\n",
       "\n",
       "// Listen for the clearing of the current output cell\n",
       "var outputEl = gd.closest('.output');\n",
       "if (outputEl) {{\n",
       "    x.observe(outputEl, {childList: true});\n",
       "}}\n",
       "\n",
       "                        })\n",
       "                };\n",
       "                \n",
       "            </script>\n",
       "        </div>\n",
       "</body>\n",
       "</html>"
      ]
     },
     "metadata": {},
     "output_type": "display_data"
    }
   ],
   "source": [
    "optuna.visualization.plot_slice(study_2)"
   ]
  },
  {
   "cell_type": "code",
   "execution_count": null,
   "metadata": {
    "colab": {
     "base_uri": "https://localhost:8080/",
     "height": 542
    },
    "id": "AADdwrvdMgZh",
    "outputId": "c674e971-89ad-4d9e-b30b-c442d4f820b8"
   },
   "outputs": [
    {
     "data": {
      "text/html": [
       "<html>\n",
       "<head><meta charset=\"utf-8\" /></head>\n",
       "<body>\n",
       "    <div>\n",
       "            <script src=\"https://cdnjs.cloudflare.com/ajax/libs/mathjax/2.7.5/MathJax.js?config=TeX-AMS-MML_SVG\"></script><script type=\"text/javascript\">if (window.MathJax) {MathJax.Hub.Config({SVG: {font: \"STIX-Web\"}});}</script>\n",
       "                <script type=\"text/javascript\">window.PlotlyConfig = {MathJaxConfig: 'local'};</script>\n",
       "        <script src=\"https://cdn.plot.ly/plotly-latest.min.js\"></script>    \n",
       "            <div id=\"6121bac5-30f3-4a25-81d8-6b861de7e649\" class=\"plotly-graph-div\" style=\"height:525px; width:1500px;\"></div>\n",
       "            <script type=\"text/javascript\">\n",
       "                \n",
       "                    window.PLOTLYENV=window.PLOTLYENV || {};\n",
       "                    \n",
       "                if (document.getElementById(\"6121bac5-30f3-4a25-81d8-6b861de7e649\")) {\n",
       "                    Plotly.newPlot(\n",
       "                        '6121bac5-30f3-4a25-81d8-6b861de7e649',\n",
       "                        [{\"marker\": {\"color\": [0, 1, 2, 3, 4, 5, 6, 7, 8, 9, 10, 11, 12, 13, 14, 15], \"colorbar\": {\"title\": {\"text\": \"#Trials\"}, \"x\": 1.0, \"xpad\": 40}, \"colorscale\": [[0.0, \"rgb(247,251,255)\"], [0.125, \"rgb(222,235,247)\"], [0.25, \"rgb(198,219,239)\"], [0.375, \"rgb(158,202,225)\"], [0.5, \"rgb(107,174,214)\"], [0.625, \"rgb(66,146,198)\"], [0.75, \"rgb(33,113,181)\"], [0.875, \"rgb(8,81,156)\"], [1.0, \"rgb(8,48,107)\"]], \"line\": {\"color\": \"Grey\", \"width\": 0.5}, \"showscale\": true}, \"mode\": \"markers\", \"showlegend\": false, \"type\": \"scatter\", \"x\": [\"sigmoid\", \"softsign\", \"tanh\", \"softmax\", \"elu\", \"elu\", \"relu\", \"softmax\", \"exponential\", \"selu\", \"selu\", \"relu\", \"relu\", \"softplus\", \"selu\", \"selu\"], \"xaxis\": \"x\", \"y\": [0.1135, 0.9725, 0.9713, 0.1135, 0.9704, 0.9647, 0.9744, 0.1135, 0.098, 0.9758, 0.9691, 0.9747, 0.9698, 0.1135, 0.9657, 0.9717], \"yaxis\": \"y\"}, {\"marker\": {\"color\": [0, 1, 2, 3, 4, 5, 6, 7, 8, 9, 10, 11, 12, 13, 14, 15], \"colorbar\": {\"title\": {\"text\": \"#Trials\"}, \"x\": 1.0, \"xpad\": 40}, \"colorscale\": [[0.0, \"rgb(247,251,255)\"], [0.125, \"rgb(222,235,247)\"], [0.25, \"rgb(198,219,239)\"], [0.375, \"rgb(158,202,225)\"], [0.5, \"rgb(107,174,214)\"], [0.625, \"rgb(66,146,198)\"], [0.75, \"rgb(33,113,181)\"], [0.875, \"rgb(8,81,156)\"], [1.0, \"rgb(8,48,107)\"]], \"line\": {\"color\": \"Grey\", \"width\": 0.5}, \"showscale\": false}, \"mode\": \"markers\", \"showlegend\": false, \"type\": \"scatter\", \"x\": [1, 1, 1, 1, 1, 1, 1, 1, 1, 1, 1, 1, 1, 1, 1, 1], \"xaxis\": \"x2\", \"y\": [0.1135, 0.9725, 0.9713, 0.1135, 0.9704, 0.9647, 0.9744, 0.1135, 0.098, 0.9758, 0.9691, 0.9747, 0.9698, 0.1135, 0.9657, 0.9717], \"yaxis\": \"y2\"}, {\"marker\": {\"color\": [0, 1, 2, 3, 4, 5, 6, 7, 8, 9, 10, 11, 12, 13, 14, 15], \"colorbar\": {\"title\": {\"text\": \"#Trials\"}, \"x\": 1.0, \"xpad\": 40}, \"colorscale\": [[0.0, \"rgb(247,251,255)\"], [0.125, \"rgb(222,235,247)\"], [0.25, \"rgb(198,219,239)\"], [0.375, \"rgb(158,202,225)\"], [0.5, \"rgb(107,174,214)\"], [0.625, \"rgb(66,146,198)\"], [0.75, \"rgb(33,113,181)\"], [0.875, \"rgb(8,81,156)\"], [1.0, \"rgb(8,48,107)\"]], \"line\": {\"color\": \"Grey\", \"width\": 0.5}, \"showscale\": false}, \"mode\": \"markers\", \"showlegend\": false, \"type\": \"scatter\", \"x\": [\"sparse_categorical_crossentropy\", \"sparse_categorical_crossentropy\", \"sparse_categorical_crossentropy\", \"sparse_categorical_crossentropy\", \"sparse_categorical_crossentropy\", \"sparse_categorical_crossentropy\", \"sparse_categorical_crossentropy\", \"sparse_categorical_crossentropy\", \"sparse_categorical_crossentropy\", \"sparse_categorical_crossentropy\", \"sparse_categorical_crossentropy\", \"sparse_categorical_crossentropy\", \"sparse_categorical_crossentropy\", \"sparse_categorical_crossentropy\", \"sparse_categorical_crossentropy\", \"sparse_categorical_crossentropy\"], \"xaxis\": \"x3\", \"y\": [0.1135, 0.9725, 0.9713, 0.1135, 0.9704, 0.9647, 0.9744, 0.1135, 0.098, 0.9758, 0.9691, 0.9747, 0.9698, 0.1135, 0.9657, 0.9717], \"yaxis\": \"y3\"}, {\"marker\": {\"color\": [0, 1, 2, 3, 4, 5, 6, 7, 8, 9, 10, 11, 12, 13, 14, 15], \"colorbar\": {\"title\": {\"text\": \"#Trials\"}, \"x\": 1.0, \"xpad\": 40}, \"colorscale\": [[0.0, \"rgb(247,251,255)\"], [0.125, \"rgb(222,235,247)\"], [0.25, \"rgb(198,219,239)\"], [0.375, \"rgb(158,202,225)\"], [0.5, \"rgb(107,174,214)\"], [0.625, \"rgb(66,146,198)\"], [0.75, \"rgb(33,113,181)\"], [0.875, \"rgb(8,81,156)\"], [1.0, \"rgb(8,48,107)\"]], \"line\": {\"color\": \"Grey\", \"width\": 0.5}, \"showscale\": false}, \"mode\": \"markers\", \"showlegend\": false, \"type\": \"scatter\", \"x\": [43, 32, 37, 42, 41, 60, 38, 64, 19, 41, 52, 27, 23, 27, 16, 49], \"xaxis\": \"x4\", \"y\": [0.1135, 0.9725, 0.9713, 0.1135, 0.9704, 0.9647, 0.9744, 0.1135, 0.098, 0.9758, 0.9691, 0.9747, 0.9698, 0.1135, 0.9657, 0.9717], \"yaxis\": \"y4\"}, {\"marker\": {\"color\": [0, 1, 2, 3, 4, 5, 6, 7, 8, 9, 10, 11, 12, 13, 14, 15], \"colorbar\": {\"title\": {\"text\": \"#Trials\"}, \"x\": 1.0, \"xpad\": 40}, \"colorscale\": [[0.0, \"rgb(247,251,255)\"], [0.125, \"rgb(222,235,247)\"], [0.25, \"rgb(198,219,239)\"], [0.375, \"rgb(158,202,225)\"], [0.5, \"rgb(107,174,214)\"], [0.625, \"rgb(66,146,198)\"], [0.75, \"rgb(33,113,181)\"], [0.875, \"rgb(8,81,156)\"], [1.0, \"rgb(8,48,107)\"]], \"line\": {\"color\": \"Grey\", \"width\": 0.5}, \"showscale\": false}, \"mode\": \"markers\", \"showlegend\": false, \"type\": \"scatter\", \"x\": [\"adamax\", \"rmsprop\", \"rmsprop\", \"rmsprop\", \"sgd\", \"rmsprop\", \"sgd\", \"rmsprop\", \"rmsprop\", \"sgd\", \"adam\", \"sgd\", \"sgd\", \"sgd\", \"sgd\", \"adam\"], \"xaxis\": \"x5\", \"y\": [0.1135, 0.9725, 0.9713, 0.1135, 0.9704, 0.9647, 0.9744, 0.1135, 0.098, 0.9758, 0.9691, 0.9747, 0.9698, 0.1135, 0.9657, 0.9717], \"yaxis\": \"y5\"}],\n",
       "                        {\"template\": {\"data\": {\"bar\": [{\"error_x\": {\"color\": \"#2a3f5f\"}, \"error_y\": {\"color\": \"#2a3f5f\"}, \"marker\": {\"line\": {\"color\": \"#E5ECF6\", \"width\": 0.5}}, \"type\": \"bar\"}], \"barpolar\": [{\"marker\": {\"line\": {\"color\": \"#E5ECF6\", \"width\": 0.5}}, \"type\": \"barpolar\"}], \"carpet\": [{\"aaxis\": {\"endlinecolor\": \"#2a3f5f\", \"gridcolor\": \"white\", \"linecolor\": \"white\", \"minorgridcolor\": \"white\", \"startlinecolor\": \"#2a3f5f\"}, \"baxis\": {\"endlinecolor\": \"#2a3f5f\", \"gridcolor\": \"white\", \"linecolor\": \"white\", \"minorgridcolor\": \"white\", \"startlinecolor\": \"#2a3f5f\"}, \"type\": \"carpet\"}], \"choropleth\": [{\"colorbar\": {\"outlinewidth\": 0, \"ticks\": \"\"}, \"type\": \"choropleth\"}], \"contour\": [{\"colorbar\": {\"outlinewidth\": 0, \"ticks\": \"\"}, \"colorscale\": [[0.0, \"#0d0887\"], [0.1111111111111111, \"#46039f\"], [0.2222222222222222, \"#7201a8\"], [0.3333333333333333, \"#9c179e\"], [0.4444444444444444, \"#bd3786\"], [0.5555555555555556, \"#d8576b\"], [0.6666666666666666, \"#ed7953\"], [0.7777777777777778, \"#fb9f3a\"], [0.8888888888888888, \"#fdca26\"], [1.0, \"#f0f921\"]], \"type\": \"contour\"}], \"contourcarpet\": [{\"colorbar\": {\"outlinewidth\": 0, \"ticks\": \"\"}, \"type\": \"contourcarpet\"}], \"heatmap\": [{\"colorbar\": {\"outlinewidth\": 0, \"ticks\": \"\"}, \"colorscale\": [[0.0, \"#0d0887\"], [0.1111111111111111, \"#46039f\"], [0.2222222222222222, \"#7201a8\"], [0.3333333333333333, \"#9c179e\"], [0.4444444444444444, \"#bd3786\"], [0.5555555555555556, \"#d8576b\"], [0.6666666666666666, \"#ed7953\"], [0.7777777777777778, \"#fb9f3a\"], [0.8888888888888888, \"#fdca26\"], [1.0, \"#f0f921\"]], \"type\": \"heatmap\"}], \"heatmapgl\": [{\"colorbar\": {\"outlinewidth\": 0, \"ticks\": \"\"}, \"colorscale\": [[0.0, \"#0d0887\"], [0.1111111111111111, \"#46039f\"], [0.2222222222222222, \"#7201a8\"], [0.3333333333333333, \"#9c179e\"], [0.4444444444444444, \"#bd3786\"], [0.5555555555555556, \"#d8576b\"], [0.6666666666666666, \"#ed7953\"], [0.7777777777777778, \"#fb9f3a\"], [0.8888888888888888, \"#fdca26\"], [1.0, \"#f0f921\"]], \"type\": \"heatmapgl\"}], \"histogram\": [{\"marker\": {\"colorbar\": {\"outlinewidth\": 0, \"ticks\": \"\"}}, \"type\": \"histogram\"}], \"histogram2d\": [{\"colorbar\": {\"outlinewidth\": 0, \"ticks\": \"\"}, \"colorscale\": [[0.0, \"#0d0887\"], [0.1111111111111111, \"#46039f\"], [0.2222222222222222, \"#7201a8\"], [0.3333333333333333, \"#9c179e\"], [0.4444444444444444, \"#bd3786\"], [0.5555555555555556, \"#d8576b\"], [0.6666666666666666, \"#ed7953\"], [0.7777777777777778, \"#fb9f3a\"], [0.8888888888888888, \"#fdca26\"], [1.0, \"#f0f921\"]], \"type\": \"histogram2d\"}], \"histogram2dcontour\": [{\"colorbar\": {\"outlinewidth\": 0, \"ticks\": \"\"}, \"colorscale\": [[0.0, \"#0d0887\"], [0.1111111111111111, \"#46039f\"], [0.2222222222222222, \"#7201a8\"], [0.3333333333333333, \"#9c179e\"], [0.4444444444444444, \"#bd3786\"], [0.5555555555555556, \"#d8576b\"], [0.6666666666666666, \"#ed7953\"], [0.7777777777777778, \"#fb9f3a\"], [0.8888888888888888, \"#fdca26\"], [1.0, \"#f0f921\"]], \"type\": \"histogram2dcontour\"}], \"mesh3d\": [{\"colorbar\": {\"outlinewidth\": 0, \"ticks\": \"\"}, \"type\": \"mesh3d\"}], \"parcoords\": [{\"line\": {\"colorbar\": {\"outlinewidth\": 0, \"ticks\": \"\"}}, \"type\": \"parcoords\"}], \"pie\": [{\"automargin\": true, \"type\": \"pie\"}], \"scatter\": [{\"marker\": {\"colorbar\": {\"outlinewidth\": 0, \"ticks\": \"\"}}, \"type\": \"scatter\"}], \"scatter3d\": [{\"line\": {\"colorbar\": {\"outlinewidth\": 0, \"ticks\": \"\"}}, \"marker\": {\"colorbar\": {\"outlinewidth\": 0, \"ticks\": \"\"}}, \"type\": \"scatter3d\"}], \"scattercarpet\": [{\"marker\": {\"colorbar\": {\"outlinewidth\": 0, \"ticks\": \"\"}}, \"type\": \"scattercarpet\"}], \"scattergeo\": [{\"marker\": {\"colorbar\": {\"outlinewidth\": 0, \"ticks\": \"\"}}, \"type\": \"scattergeo\"}], \"scattergl\": [{\"marker\": {\"colorbar\": {\"outlinewidth\": 0, \"ticks\": \"\"}}, \"type\": \"scattergl\"}], \"scattermapbox\": [{\"marker\": {\"colorbar\": {\"outlinewidth\": 0, \"ticks\": \"\"}}, \"type\": \"scattermapbox\"}], \"scatterpolar\": [{\"marker\": {\"colorbar\": {\"outlinewidth\": 0, \"ticks\": \"\"}}, \"type\": \"scatterpolar\"}], \"scatterpolargl\": [{\"marker\": {\"colorbar\": {\"outlinewidth\": 0, \"ticks\": \"\"}}, \"type\": \"scatterpolargl\"}], \"scatterternary\": [{\"marker\": {\"colorbar\": {\"outlinewidth\": 0, \"ticks\": \"\"}}, \"type\": \"scatterternary\"}], \"surface\": [{\"colorbar\": {\"outlinewidth\": 0, \"ticks\": \"\"}, \"colorscale\": [[0.0, \"#0d0887\"], [0.1111111111111111, \"#46039f\"], [0.2222222222222222, \"#7201a8\"], [0.3333333333333333, \"#9c179e\"], [0.4444444444444444, \"#bd3786\"], [0.5555555555555556, \"#d8576b\"], [0.6666666666666666, \"#ed7953\"], [0.7777777777777778, \"#fb9f3a\"], [0.8888888888888888, \"#fdca26\"], [1.0, \"#f0f921\"]], \"type\": \"surface\"}], \"table\": [{\"cells\": {\"fill\": {\"color\": \"#EBF0F8\"}, \"line\": {\"color\": \"white\"}}, \"header\": {\"fill\": {\"color\": \"#C8D4E3\"}, \"line\": {\"color\": \"white\"}}, \"type\": \"table\"}]}, \"layout\": {\"annotationdefaults\": {\"arrowcolor\": \"#2a3f5f\", \"arrowhead\": 0, \"arrowwidth\": 1}, \"coloraxis\": {\"colorbar\": {\"outlinewidth\": 0, \"ticks\": \"\"}}, \"colorscale\": {\"diverging\": [[0, \"#8e0152\"], [0.1, \"#c51b7d\"], [0.2, \"#de77ae\"], [0.3, \"#f1b6da\"], [0.4, \"#fde0ef\"], [0.5, \"#f7f7f7\"], [0.6, \"#e6f5d0\"], [0.7, \"#b8e186\"], [0.8, \"#7fbc41\"], [0.9, \"#4d9221\"], [1, \"#276419\"]], \"sequential\": [[0.0, \"#0d0887\"], [0.1111111111111111, \"#46039f\"], [0.2222222222222222, \"#7201a8\"], [0.3333333333333333, \"#9c179e\"], [0.4444444444444444, \"#bd3786\"], [0.5555555555555556, \"#d8576b\"], [0.6666666666666666, \"#ed7953\"], [0.7777777777777778, \"#fb9f3a\"], [0.8888888888888888, \"#fdca26\"], [1.0, \"#f0f921\"]], \"sequentialminus\": [[0.0, \"#0d0887\"], [0.1111111111111111, \"#46039f\"], [0.2222222222222222, \"#7201a8\"], [0.3333333333333333, \"#9c179e\"], [0.4444444444444444, \"#bd3786\"], [0.5555555555555556, \"#d8576b\"], [0.6666666666666666, \"#ed7953\"], [0.7777777777777778, \"#fb9f3a\"], [0.8888888888888888, \"#fdca26\"], [1.0, \"#f0f921\"]]}, \"colorway\": [\"#636efa\", \"#EF553B\", \"#00cc96\", \"#ab63fa\", \"#FFA15A\", \"#19d3f3\", \"#FF6692\", \"#B6E880\", \"#FF97FF\", \"#FECB52\"], \"font\": {\"color\": \"#2a3f5f\"}, \"geo\": {\"bgcolor\": \"white\", \"lakecolor\": \"white\", \"landcolor\": \"#E5ECF6\", \"showlakes\": true, \"showland\": true, \"subunitcolor\": \"white\"}, \"hoverlabel\": {\"align\": \"left\"}, \"hovermode\": \"closest\", \"mapbox\": {\"style\": \"light\"}, \"paper_bgcolor\": \"white\", \"plot_bgcolor\": \"#E5ECF6\", \"polar\": {\"angularaxis\": {\"gridcolor\": \"white\", \"linecolor\": \"white\", \"ticks\": \"\"}, \"bgcolor\": \"#E5ECF6\", \"radialaxis\": {\"gridcolor\": \"white\", \"linecolor\": \"white\", \"ticks\": \"\"}}, \"scene\": {\"xaxis\": {\"backgroundcolor\": \"#E5ECF6\", \"gridcolor\": \"white\", \"gridwidth\": 2, \"linecolor\": \"white\", \"showbackground\": true, \"ticks\": \"\", \"zerolinecolor\": \"white\"}, \"yaxis\": {\"backgroundcolor\": \"#E5ECF6\", \"gridcolor\": \"white\", \"gridwidth\": 2, \"linecolor\": \"white\", \"showbackground\": true, \"ticks\": \"\", \"zerolinecolor\": \"white\"}, \"zaxis\": {\"backgroundcolor\": \"#E5ECF6\", \"gridcolor\": \"white\", \"gridwidth\": 2, \"linecolor\": \"white\", \"showbackground\": true, \"ticks\": \"\", \"zerolinecolor\": \"white\"}}, \"shapedefaults\": {\"line\": {\"color\": \"#2a3f5f\"}}, \"ternary\": {\"aaxis\": {\"gridcolor\": \"white\", \"linecolor\": \"white\", \"ticks\": \"\"}, \"baxis\": {\"gridcolor\": \"white\", \"linecolor\": \"white\", \"ticks\": \"\"}, \"bgcolor\": \"#E5ECF6\", \"caxis\": {\"gridcolor\": \"white\", \"linecolor\": \"white\", \"ticks\": \"\"}}, \"title\": {\"x\": 0.05}, \"xaxis\": {\"automargin\": true, \"gridcolor\": \"white\", \"linecolor\": \"white\", \"ticks\": \"\", \"title\": {\"standoff\": 15}, \"zerolinecolor\": \"white\", \"zerolinewidth\": 2}, \"yaxis\": {\"automargin\": true, \"gridcolor\": \"white\", \"linecolor\": \"white\", \"ticks\": \"\", \"title\": {\"standoff\": 15}, \"zerolinecolor\": \"white\", \"zerolinewidth\": 2}}}, \"title\": {\"text\": \"Slice Plot\"}, \"width\": 1500, \"xaxis\": {\"anchor\": \"y\", \"domain\": [0.0, 0.16799999999999998], \"title\": {\"text\": \"activation\"}}, \"xaxis2\": {\"anchor\": \"y2\", \"domain\": [0.208, 0.376], \"title\": {\"text\": \"dilation\"}}, \"xaxis3\": {\"anchor\": \"y3\", \"domain\": [0.416, 0.584], \"title\": {\"text\": \"loss\"}}, \"xaxis4\": {\"anchor\": \"y4\", \"domain\": [0.624, 0.792], \"title\": {\"text\": \"n_neurons\"}}, \"xaxis5\": {\"anchor\": \"y5\", \"domain\": [0.832, 1.0], \"title\": {\"text\": \"optimizer\"}}, \"yaxis\": {\"anchor\": \"x\", \"domain\": [0.0, 1.0], \"title\": {\"text\": \"Objective Value\"}}, \"yaxis2\": {\"anchor\": \"x2\", \"domain\": [0.0, 1.0], \"matches\": \"y\", \"showticklabels\": false}, \"yaxis3\": {\"anchor\": \"x3\", \"domain\": [0.0, 1.0], \"matches\": \"y\", \"showticklabels\": false}, \"yaxis4\": {\"anchor\": \"x4\", \"domain\": [0.0, 1.0], \"matches\": \"y\", \"showticklabels\": false}, \"yaxis5\": {\"anchor\": \"x5\", \"domain\": [0.0, 1.0], \"matches\": \"y\", \"showticklabels\": false}},\n",
       "                        {\"responsive\": true}\n",
       "                    ).then(function(){\n",
       "                            \n",
       "var gd = document.getElementById('6121bac5-30f3-4a25-81d8-6b861de7e649');\n",
       "var x = new MutationObserver(function (mutations, observer) {{\n",
       "        var display = window.getComputedStyle(gd).display;\n",
       "        if (!display || display === 'none') {{\n",
       "            console.log([gd, 'removed!']);\n",
       "            Plotly.purge(gd);\n",
       "            observer.disconnect();\n",
       "        }}\n",
       "}});\n",
       "\n",
       "// Listen for the removal of the full notebook cells\n",
       "var notebookContainer = gd.closest('#notebook-container');\n",
       "if (notebookContainer) {{\n",
       "    x.observe(notebookContainer, {childList: true});\n",
       "}}\n",
       "\n",
       "// Listen for the clearing of the current output cell\n",
       "var outputEl = gd.closest('.output');\n",
       "if (outputEl) {{\n",
       "    x.observe(outputEl, {childList: true});\n",
       "}}\n",
       "\n",
       "                        })\n",
       "                };\n",
       "                \n",
       "            </script>\n",
       "        </div>\n",
       "</body>\n",
       "</html>"
      ]
     },
     "metadata": {},
     "output_type": "display_data"
    }
   ],
   "source": [
    "optuna.visualization.plot_slice(study_3)"
   ]
  },
  {
   "cell_type": "markdown",
   "metadata": {
    "id": "ALRP-bqfKYwO"
   },
   "source": [
    "### Resultado da comparação de parâmetros\n",
    "- Funções de ativação: no geral, todas as funções de otimização apresentaram bons resultados (como visto no primeiro estudo). Nos outros dois estudos é visível que as funções \"softmax\", \"softplus\" e \"sigmoid\" foram as piores.\n",
    "- Dilatação: no terceiro estudo, a rede permitiu apenas uso da dilatação com 1, portanto, vamos desconsiderá-lo. Os outros dois estudos apresentaram melhores resultados quando a dilatação foi 2.\n",
    "- A função de perda utilizada foi a mesma em todos.\n",
    "- O número de neurônios foi um parâmetro bastante inconstante, não aparentou ser um diferencial em nenhum dos estudos.\n",
    "- O otimizador que mais se destacou foi o \"adam\", e em segundo o \"sgd\", os outros demonstraram ser igualmente bons, com um pouco mais de outliers."
   ]
  },
  {
   "cell_type": "code",
   "execution_count": null,
   "metadata": {
    "colab": {
     "base_uri": "https://localhost:8080/",
     "height": 542
    },
    "id": "51mUWFWRMlf7",
    "outputId": "6cccc29e-a773-4cb4-9e87-09d6ab697754"
   },
   "outputs": [
    {
     "data": {
      "text/html": [
       "<html>\n",
       "<head><meta charset=\"utf-8\" /></head>\n",
       "<body>\n",
       "    <div>\n",
       "            <script src=\"https://cdnjs.cloudflare.com/ajax/libs/mathjax/2.7.5/MathJax.js?config=TeX-AMS-MML_SVG\"></script><script type=\"text/javascript\">if (window.MathJax) {MathJax.Hub.Config({SVG: {font: \"STIX-Web\"}});}</script>\n",
       "                <script type=\"text/javascript\">window.PlotlyConfig = {MathJaxConfig: 'local'};</script>\n",
       "        <script src=\"https://cdn.plot.ly/plotly-latest.min.js\"></script>    \n",
       "            <div id=\"3cc4020a-8ec9-4c85-a3f6-6410c75e5ed9\" class=\"plotly-graph-div\" style=\"height:525px; width:100%;\"></div>\n",
       "            <script type=\"text/javascript\">\n",
       "                \n",
       "                    window.PLOTLYENV=window.PLOTLYENV || {};\n",
       "                    \n",
       "                if (document.getElementById(\"3cc4020a-8ec9-4c85-a3f6-6410c75e5ed9\")) {\n",
       "                    Plotly.newPlot(\n",
       "                        '3cc4020a-8ec9-4c85-a3f6-6410c75e5ed9',\n",
       "                        [{\"cliponaxis\": false, \"hovertemplate\": [\"loss (CategoricalDistribution): 0.0<extra></extra>\", \"dilation (IntUniformDistribution): 0.019005327179640603<extra></extra>\", \"n_neurons (IntUniformDistribution): 0.0190726440142851<extra></extra>\", \"optimizer (CategoricalDistribution): 0.05905287691453522<extra></extra>\", \"activation (CategoricalDistribution): 0.902869151891539<extra></extra>\"], \"marker\": {\"color\": \"rgb(66,146,198)\"}, \"orientation\": \"h\", \"text\": [\"0.0\", \"0.019005327179640603\", \"0.0190726440142851\", \"0.05905287691453522\", \"0.902869151891539\"], \"textposition\": \"outside\", \"texttemplate\": \"%{text:.2f}\", \"type\": \"bar\", \"x\": [0.0, 0.019005327179640603, 0.0190726440142851, 0.05905287691453522, 0.902869151891539], \"y\": [\"loss\", \"dilation\", \"n_neurons\", \"optimizer\", \"activation\"]}],\n",
       "                        {\"showlegend\": false, \"template\": {\"data\": {\"bar\": [{\"error_x\": {\"color\": \"#2a3f5f\"}, \"error_y\": {\"color\": \"#2a3f5f\"}, \"marker\": {\"line\": {\"color\": \"#E5ECF6\", \"width\": 0.5}}, \"type\": \"bar\"}], \"barpolar\": [{\"marker\": {\"line\": {\"color\": \"#E5ECF6\", \"width\": 0.5}}, \"type\": \"barpolar\"}], \"carpet\": [{\"aaxis\": {\"endlinecolor\": \"#2a3f5f\", \"gridcolor\": \"white\", \"linecolor\": \"white\", \"minorgridcolor\": \"white\", \"startlinecolor\": \"#2a3f5f\"}, \"baxis\": {\"endlinecolor\": \"#2a3f5f\", \"gridcolor\": \"white\", \"linecolor\": \"white\", \"minorgridcolor\": \"white\", \"startlinecolor\": \"#2a3f5f\"}, \"type\": \"carpet\"}], \"choropleth\": [{\"colorbar\": {\"outlinewidth\": 0, \"ticks\": \"\"}, \"type\": \"choropleth\"}], \"contour\": [{\"colorbar\": {\"outlinewidth\": 0, \"ticks\": \"\"}, \"colorscale\": [[0.0, \"#0d0887\"], [0.1111111111111111, \"#46039f\"], [0.2222222222222222, \"#7201a8\"], [0.3333333333333333, \"#9c179e\"], [0.4444444444444444, \"#bd3786\"], [0.5555555555555556, \"#d8576b\"], [0.6666666666666666, \"#ed7953\"], [0.7777777777777778, \"#fb9f3a\"], [0.8888888888888888, \"#fdca26\"], [1.0, \"#f0f921\"]], \"type\": \"contour\"}], \"contourcarpet\": [{\"colorbar\": {\"outlinewidth\": 0, \"ticks\": \"\"}, \"type\": \"contourcarpet\"}], \"heatmap\": [{\"colorbar\": {\"outlinewidth\": 0, \"ticks\": \"\"}, \"colorscale\": [[0.0, \"#0d0887\"], [0.1111111111111111, \"#46039f\"], [0.2222222222222222, \"#7201a8\"], [0.3333333333333333, \"#9c179e\"], [0.4444444444444444, \"#bd3786\"], [0.5555555555555556, \"#d8576b\"], [0.6666666666666666, \"#ed7953\"], [0.7777777777777778, \"#fb9f3a\"], [0.8888888888888888, \"#fdca26\"], [1.0, \"#f0f921\"]], \"type\": \"heatmap\"}], \"heatmapgl\": [{\"colorbar\": {\"outlinewidth\": 0, \"ticks\": \"\"}, \"colorscale\": [[0.0, \"#0d0887\"], [0.1111111111111111, \"#46039f\"], [0.2222222222222222, \"#7201a8\"], [0.3333333333333333, \"#9c179e\"], [0.4444444444444444, \"#bd3786\"], [0.5555555555555556, \"#d8576b\"], [0.6666666666666666, \"#ed7953\"], [0.7777777777777778, \"#fb9f3a\"], [0.8888888888888888, \"#fdca26\"], [1.0, \"#f0f921\"]], \"type\": \"heatmapgl\"}], \"histogram\": [{\"marker\": {\"colorbar\": {\"outlinewidth\": 0, \"ticks\": \"\"}}, \"type\": \"histogram\"}], \"histogram2d\": [{\"colorbar\": {\"outlinewidth\": 0, \"ticks\": \"\"}, \"colorscale\": [[0.0, \"#0d0887\"], [0.1111111111111111, \"#46039f\"], [0.2222222222222222, \"#7201a8\"], [0.3333333333333333, \"#9c179e\"], [0.4444444444444444, \"#bd3786\"], [0.5555555555555556, \"#d8576b\"], [0.6666666666666666, \"#ed7953\"], [0.7777777777777778, \"#fb9f3a\"], [0.8888888888888888, \"#fdca26\"], [1.0, \"#f0f921\"]], \"type\": \"histogram2d\"}], \"histogram2dcontour\": [{\"colorbar\": {\"outlinewidth\": 0, \"ticks\": \"\"}, \"colorscale\": [[0.0, \"#0d0887\"], [0.1111111111111111, \"#46039f\"], [0.2222222222222222, \"#7201a8\"], [0.3333333333333333, \"#9c179e\"], [0.4444444444444444, \"#bd3786\"], [0.5555555555555556, \"#d8576b\"], [0.6666666666666666, \"#ed7953\"], [0.7777777777777778, \"#fb9f3a\"], [0.8888888888888888, \"#fdca26\"], [1.0, \"#f0f921\"]], \"type\": \"histogram2dcontour\"}], \"mesh3d\": [{\"colorbar\": {\"outlinewidth\": 0, \"ticks\": \"\"}, \"type\": \"mesh3d\"}], \"parcoords\": [{\"line\": {\"colorbar\": {\"outlinewidth\": 0, \"ticks\": \"\"}}, \"type\": \"parcoords\"}], \"pie\": [{\"automargin\": true, \"type\": \"pie\"}], \"scatter\": [{\"marker\": {\"colorbar\": {\"outlinewidth\": 0, \"ticks\": \"\"}}, \"type\": \"scatter\"}], \"scatter3d\": [{\"line\": {\"colorbar\": {\"outlinewidth\": 0, \"ticks\": \"\"}}, \"marker\": {\"colorbar\": {\"outlinewidth\": 0, \"ticks\": \"\"}}, \"type\": \"scatter3d\"}], \"scattercarpet\": [{\"marker\": {\"colorbar\": {\"outlinewidth\": 0, \"ticks\": \"\"}}, \"type\": \"scattercarpet\"}], \"scattergeo\": [{\"marker\": {\"colorbar\": {\"outlinewidth\": 0, \"ticks\": \"\"}}, \"type\": \"scattergeo\"}], \"scattergl\": [{\"marker\": {\"colorbar\": {\"outlinewidth\": 0, \"ticks\": \"\"}}, \"type\": \"scattergl\"}], \"scattermapbox\": [{\"marker\": {\"colorbar\": {\"outlinewidth\": 0, \"ticks\": \"\"}}, \"type\": \"scattermapbox\"}], \"scatterpolar\": [{\"marker\": {\"colorbar\": {\"outlinewidth\": 0, \"ticks\": \"\"}}, \"type\": \"scatterpolar\"}], \"scatterpolargl\": [{\"marker\": {\"colorbar\": {\"outlinewidth\": 0, \"ticks\": \"\"}}, \"type\": \"scatterpolargl\"}], \"scatterternary\": [{\"marker\": {\"colorbar\": {\"outlinewidth\": 0, \"ticks\": \"\"}}, \"type\": \"scatterternary\"}], \"surface\": [{\"colorbar\": {\"outlinewidth\": 0, \"ticks\": \"\"}, \"colorscale\": [[0.0, \"#0d0887\"], [0.1111111111111111, \"#46039f\"], [0.2222222222222222, \"#7201a8\"], [0.3333333333333333, \"#9c179e\"], [0.4444444444444444, \"#bd3786\"], [0.5555555555555556, \"#d8576b\"], [0.6666666666666666, \"#ed7953\"], [0.7777777777777778, \"#fb9f3a\"], [0.8888888888888888, \"#fdca26\"], [1.0, \"#f0f921\"]], \"type\": \"surface\"}], \"table\": [{\"cells\": {\"fill\": {\"color\": \"#EBF0F8\"}, \"line\": {\"color\": \"white\"}}, \"header\": {\"fill\": {\"color\": \"#C8D4E3\"}, \"line\": {\"color\": \"white\"}}, \"type\": \"table\"}]}, \"layout\": {\"annotationdefaults\": {\"arrowcolor\": \"#2a3f5f\", \"arrowhead\": 0, \"arrowwidth\": 1}, \"coloraxis\": {\"colorbar\": {\"outlinewidth\": 0, \"ticks\": \"\"}}, \"colorscale\": {\"diverging\": [[0, \"#8e0152\"], [0.1, \"#c51b7d\"], [0.2, \"#de77ae\"], [0.3, \"#f1b6da\"], [0.4, \"#fde0ef\"], [0.5, \"#f7f7f7\"], [0.6, \"#e6f5d0\"], [0.7, \"#b8e186\"], [0.8, \"#7fbc41\"], [0.9, \"#4d9221\"], [1, \"#276419\"]], \"sequential\": [[0.0, \"#0d0887\"], [0.1111111111111111, \"#46039f\"], [0.2222222222222222, \"#7201a8\"], [0.3333333333333333, \"#9c179e\"], [0.4444444444444444, \"#bd3786\"], [0.5555555555555556, \"#d8576b\"], [0.6666666666666666, \"#ed7953\"], [0.7777777777777778, \"#fb9f3a\"], [0.8888888888888888, \"#fdca26\"], [1.0, \"#f0f921\"]], \"sequentialminus\": [[0.0, \"#0d0887\"], [0.1111111111111111, \"#46039f\"], [0.2222222222222222, \"#7201a8\"], [0.3333333333333333, \"#9c179e\"], [0.4444444444444444, \"#bd3786\"], [0.5555555555555556, \"#d8576b\"], [0.6666666666666666, \"#ed7953\"], [0.7777777777777778, \"#fb9f3a\"], [0.8888888888888888, \"#fdca26\"], [1.0, \"#f0f921\"]]}, \"colorway\": [\"#636efa\", \"#EF553B\", \"#00cc96\", \"#ab63fa\", \"#FFA15A\", \"#19d3f3\", \"#FF6692\", \"#B6E880\", \"#FF97FF\", \"#FECB52\"], \"font\": {\"color\": \"#2a3f5f\"}, \"geo\": {\"bgcolor\": \"white\", \"lakecolor\": \"white\", \"landcolor\": \"#E5ECF6\", \"showlakes\": true, \"showland\": true, \"subunitcolor\": \"white\"}, \"hoverlabel\": {\"align\": \"left\"}, \"hovermode\": \"closest\", \"mapbox\": {\"style\": \"light\"}, \"paper_bgcolor\": \"white\", \"plot_bgcolor\": \"#E5ECF6\", \"polar\": {\"angularaxis\": {\"gridcolor\": \"white\", \"linecolor\": \"white\", \"ticks\": \"\"}, \"bgcolor\": \"#E5ECF6\", \"radialaxis\": {\"gridcolor\": \"white\", \"linecolor\": \"white\", \"ticks\": \"\"}}, \"scene\": {\"xaxis\": {\"backgroundcolor\": \"#E5ECF6\", \"gridcolor\": \"white\", \"gridwidth\": 2, \"linecolor\": \"white\", \"showbackground\": true, \"ticks\": \"\", \"zerolinecolor\": \"white\"}, \"yaxis\": {\"backgroundcolor\": \"#E5ECF6\", \"gridcolor\": \"white\", \"gridwidth\": 2, \"linecolor\": \"white\", \"showbackground\": true, \"ticks\": \"\", \"zerolinecolor\": \"white\"}, \"zaxis\": {\"backgroundcolor\": \"#E5ECF6\", \"gridcolor\": \"white\", \"gridwidth\": 2, \"linecolor\": \"white\", \"showbackground\": true, \"ticks\": \"\", \"zerolinecolor\": \"white\"}}, \"shapedefaults\": {\"line\": {\"color\": \"#2a3f5f\"}}, \"ternary\": {\"aaxis\": {\"gridcolor\": \"white\", \"linecolor\": \"white\", \"ticks\": \"\"}, \"baxis\": {\"gridcolor\": \"white\", \"linecolor\": \"white\", \"ticks\": \"\"}, \"bgcolor\": \"#E5ECF6\", \"caxis\": {\"gridcolor\": \"white\", \"linecolor\": \"white\", \"ticks\": \"\"}}, \"title\": {\"x\": 0.05}, \"xaxis\": {\"automargin\": true, \"gridcolor\": \"white\", \"linecolor\": \"white\", \"ticks\": \"\", \"title\": {\"standoff\": 15}, \"zerolinecolor\": \"white\", \"zerolinewidth\": 2}, \"yaxis\": {\"automargin\": true, \"gridcolor\": \"white\", \"linecolor\": \"white\", \"ticks\": \"\", \"title\": {\"standoff\": 15}, \"zerolinecolor\": \"white\", \"zerolinewidth\": 2}}}, \"title\": {\"text\": \"Hyperparameter Importances\"}, \"xaxis\": {\"title\": {\"text\": \"Importance for Objective Value\"}}, \"yaxis\": {\"title\": {\"text\": \"Hyperparameter\"}}},\n",
       "                        {\"responsive\": true}\n",
       "                    ).then(function(){\n",
       "                            \n",
       "var gd = document.getElementById('3cc4020a-8ec9-4c85-a3f6-6410c75e5ed9');\n",
       "var x = new MutationObserver(function (mutations, observer) {{\n",
       "        var display = window.getComputedStyle(gd).display;\n",
       "        if (!display || display === 'none') {{\n",
       "            console.log([gd, 'removed!']);\n",
       "            Plotly.purge(gd);\n",
       "            observer.disconnect();\n",
       "        }}\n",
       "}});\n",
       "\n",
       "// Listen for the removal of the full notebook cells\n",
       "var notebookContainer = gd.closest('#notebook-container');\n",
       "if (notebookContainer) {{\n",
       "    x.observe(notebookContainer, {childList: true});\n",
       "}}\n",
       "\n",
       "// Listen for the clearing of the current output cell\n",
       "var outputEl = gd.closest('.output');\n",
       "if (outputEl) {{\n",
       "    x.observe(outputEl, {childList: true});\n",
       "}}\n",
       "\n",
       "                        })\n",
       "                };\n",
       "                \n",
       "            </script>\n",
       "        </div>\n",
       "</body>\n",
       "</html>"
      ]
     },
     "metadata": {},
     "output_type": "display_data"
    }
   ],
   "source": [
    "optuna.visualization.plot_param_importances(study_1)"
   ]
  },
  {
   "cell_type": "code",
   "execution_count": null,
   "metadata": {
    "colab": {
     "base_uri": "https://localhost:8080/",
     "height": 542
    },
    "id": "TW-iDPCTMl25",
    "outputId": "45997cc6-f3ae-4548-d828-ff45f4e1ae8b"
   },
   "outputs": [
    {
     "data": {
      "text/html": [
       "<html>\n",
       "<head><meta charset=\"utf-8\" /></head>\n",
       "<body>\n",
       "    <div>\n",
       "            <script src=\"https://cdnjs.cloudflare.com/ajax/libs/mathjax/2.7.5/MathJax.js?config=TeX-AMS-MML_SVG\"></script><script type=\"text/javascript\">if (window.MathJax) {MathJax.Hub.Config({SVG: {font: \"STIX-Web\"}});}</script>\n",
       "                <script type=\"text/javascript\">window.PlotlyConfig = {MathJaxConfig: 'local'};</script>\n",
       "        <script src=\"https://cdn.plot.ly/plotly-latest.min.js\"></script>    \n",
       "            <div id=\"75ec8dd6-d70c-4e54-b7c9-5f1e3453b58c\" class=\"plotly-graph-div\" style=\"height:525px; width:100%;\"></div>\n",
       "            <script type=\"text/javascript\">\n",
       "                \n",
       "                    window.PLOTLYENV=window.PLOTLYENV || {};\n",
       "                    \n",
       "                if (document.getElementById(\"75ec8dd6-d70c-4e54-b7c9-5f1e3453b58c\")) {\n",
       "                    Plotly.newPlot(\n",
       "                        '75ec8dd6-d70c-4e54-b7c9-5f1e3453b58c',\n",
       "                        [{\"cliponaxis\": false, \"hovertemplate\": [\"loss (CategoricalDistribution): 0.0<extra></extra>\", \"dilation (IntUniformDistribution): 0.04110162694444372<extra></extra>\", \"optimizer (CategoricalDistribution): 0.08214345928325058<extra></extra>\", \"n_neurons (IntUniformDistribution): 0.08626264675936801<extra></extra>\", \"activation (CategoricalDistribution): 0.7904922670129376<extra></extra>\"], \"marker\": {\"color\": \"rgb(66,146,198)\"}, \"orientation\": \"h\", \"text\": [\"0.0\", \"0.04110162694444372\", \"0.08214345928325058\", \"0.08626264675936801\", \"0.7904922670129376\"], \"textposition\": \"outside\", \"texttemplate\": \"%{text:.2f}\", \"type\": \"bar\", \"x\": [0.0, 0.04110162694444372, 0.08214345928325058, 0.08626264675936801, 0.7904922670129376], \"y\": [\"loss\", \"dilation\", \"optimizer\", \"n_neurons\", \"activation\"]}],\n",
       "                        {\"showlegend\": false, \"template\": {\"data\": {\"bar\": [{\"error_x\": {\"color\": \"#2a3f5f\"}, \"error_y\": {\"color\": \"#2a3f5f\"}, \"marker\": {\"line\": {\"color\": \"#E5ECF6\", \"width\": 0.5}}, \"type\": \"bar\"}], \"barpolar\": [{\"marker\": {\"line\": {\"color\": \"#E5ECF6\", \"width\": 0.5}}, \"type\": \"barpolar\"}], \"carpet\": [{\"aaxis\": {\"endlinecolor\": \"#2a3f5f\", \"gridcolor\": \"white\", \"linecolor\": \"white\", \"minorgridcolor\": \"white\", \"startlinecolor\": \"#2a3f5f\"}, \"baxis\": {\"endlinecolor\": \"#2a3f5f\", \"gridcolor\": \"white\", \"linecolor\": \"white\", \"minorgridcolor\": \"white\", \"startlinecolor\": \"#2a3f5f\"}, \"type\": \"carpet\"}], \"choropleth\": [{\"colorbar\": {\"outlinewidth\": 0, \"ticks\": \"\"}, \"type\": \"choropleth\"}], \"contour\": [{\"colorbar\": {\"outlinewidth\": 0, \"ticks\": \"\"}, \"colorscale\": [[0.0, \"#0d0887\"], [0.1111111111111111, \"#46039f\"], [0.2222222222222222, \"#7201a8\"], [0.3333333333333333, \"#9c179e\"], [0.4444444444444444, \"#bd3786\"], [0.5555555555555556, \"#d8576b\"], [0.6666666666666666, \"#ed7953\"], [0.7777777777777778, \"#fb9f3a\"], [0.8888888888888888, \"#fdca26\"], [1.0, \"#f0f921\"]], \"type\": \"contour\"}], \"contourcarpet\": [{\"colorbar\": {\"outlinewidth\": 0, \"ticks\": \"\"}, \"type\": \"contourcarpet\"}], \"heatmap\": [{\"colorbar\": {\"outlinewidth\": 0, \"ticks\": \"\"}, \"colorscale\": [[0.0, \"#0d0887\"], [0.1111111111111111, \"#46039f\"], [0.2222222222222222, \"#7201a8\"], [0.3333333333333333, \"#9c179e\"], [0.4444444444444444, \"#bd3786\"], [0.5555555555555556, \"#d8576b\"], [0.6666666666666666, \"#ed7953\"], [0.7777777777777778, \"#fb9f3a\"], [0.8888888888888888, \"#fdca26\"], [1.0, \"#f0f921\"]], \"type\": \"heatmap\"}], \"heatmapgl\": [{\"colorbar\": {\"outlinewidth\": 0, \"ticks\": \"\"}, \"colorscale\": [[0.0, \"#0d0887\"], [0.1111111111111111, \"#46039f\"], [0.2222222222222222, \"#7201a8\"], [0.3333333333333333, \"#9c179e\"], [0.4444444444444444, \"#bd3786\"], [0.5555555555555556, \"#d8576b\"], [0.6666666666666666, \"#ed7953\"], [0.7777777777777778, \"#fb9f3a\"], [0.8888888888888888, \"#fdca26\"], [1.0, \"#f0f921\"]], \"type\": \"heatmapgl\"}], \"histogram\": [{\"marker\": {\"colorbar\": {\"outlinewidth\": 0, \"ticks\": \"\"}}, \"type\": \"histogram\"}], \"histogram2d\": [{\"colorbar\": {\"outlinewidth\": 0, \"ticks\": \"\"}, \"colorscale\": [[0.0, \"#0d0887\"], [0.1111111111111111, \"#46039f\"], [0.2222222222222222, \"#7201a8\"], [0.3333333333333333, \"#9c179e\"], [0.4444444444444444, \"#bd3786\"], [0.5555555555555556, \"#d8576b\"], [0.6666666666666666, \"#ed7953\"], [0.7777777777777778, \"#fb9f3a\"], [0.8888888888888888, \"#fdca26\"], [1.0, \"#f0f921\"]], \"type\": \"histogram2d\"}], \"histogram2dcontour\": [{\"colorbar\": {\"outlinewidth\": 0, \"ticks\": \"\"}, \"colorscale\": [[0.0, \"#0d0887\"], [0.1111111111111111, \"#46039f\"], [0.2222222222222222, \"#7201a8\"], [0.3333333333333333, \"#9c179e\"], [0.4444444444444444, \"#bd3786\"], [0.5555555555555556, \"#d8576b\"], [0.6666666666666666, \"#ed7953\"], [0.7777777777777778, \"#fb9f3a\"], [0.8888888888888888, \"#fdca26\"], [1.0, \"#f0f921\"]], \"type\": \"histogram2dcontour\"}], \"mesh3d\": [{\"colorbar\": {\"outlinewidth\": 0, \"ticks\": \"\"}, \"type\": \"mesh3d\"}], \"parcoords\": [{\"line\": {\"colorbar\": {\"outlinewidth\": 0, \"ticks\": \"\"}}, \"type\": \"parcoords\"}], \"pie\": [{\"automargin\": true, \"type\": \"pie\"}], \"scatter\": [{\"marker\": {\"colorbar\": {\"outlinewidth\": 0, \"ticks\": \"\"}}, \"type\": \"scatter\"}], \"scatter3d\": [{\"line\": {\"colorbar\": {\"outlinewidth\": 0, \"ticks\": \"\"}}, \"marker\": {\"colorbar\": {\"outlinewidth\": 0, \"ticks\": \"\"}}, \"type\": \"scatter3d\"}], \"scattercarpet\": [{\"marker\": {\"colorbar\": {\"outlinewidth\": 0, \"ticks\": \"\"}}, \"type\": \"scattercarpet\"}], \"scattergeo\": [{\"marker\": {\"colorbar\": {\"outlinewidth\": 0, \"ticks\": \"\"}}, \"type\": \"scattergeo\"}], \"scattergl\": [{\"marker\": {\"colorbar\": {\"outlinewidth\": 0, \"ticks\": \"\"}}, \"type\": \"scattergl\"}], \"scattermapbox\": [{\"marker\": {\"colorbar\": {\"outlinewidth\": 0, \"ticks\": \"\"}}, \"type\": \"scattermapbox\"}], \"scatterpolar\": [{\"marker\": {\"colorbar\": {\"outlinewidth\": 0, \"ticks\": \"\"}}, \"type\": \"scatterpolar\"}], \"scatterpolargl\": [{\"marker\": {\"colorbar\": {\"outlinewidth\": 0, \"ticks\": \"\"}}, \"type\": \"scatterpolargl\"}], \"scatterternary\": [{\"marker\": {\"colorbar\": {\"outlinewidth\": 0, \"ticks\": \"\"}}, \"type\": \"scatterternary\"}], \"surface\": [{\"colorbar\": {\"outlinewidth\": 0, \"ticks\": \"\"}, \"colorscale\": [[0.0, \"#0d0887\"], [0.1111111111111111, \"#46039f\"], [0.2222222222222222, \"#7201a8\"], [0.3333333333333333, \"#9c179e\"], [0.4444444444444444, \"#bd3786\"], [0.5555555555555556, \"#d8576b\"], [0.6666666666666666, \"#ed7953\"], [0.7777777777777778, \"#fb9f3a\"], [0.8888888888888888, \"#fdca26\"], [1.0, \"#f0f921\"]], \"type\": \"surface\"}], \"table\": [{\"cells\": {\"fill\": {\"color\": \"#EBF0F8\"}, \"line\": {\"color\": \"white\"}}, \"header\": {\"fill\": {\"color\": \"#C8D4E3\"}, \"line\": {\"color\": \"white\"}}, \"type\": \"table\"}]}, \"layout\": {\"annotationdefaults\": {\"arrowcolor\": \"#2a3f5f\", \"arrowhead\": 0, \"arrowwidth\": 1}, \"coloraxis\": {\"colorbar\": {\"outlinewidth\": 0, \"ticks\": \"\"}}, \"colorscale\": {\"diverging\": [[0, \"#8e0152\"], [0.1, \"#c51b7d\"], [0.2, \"#de77ae\"], [0.3, \"#f1b6da\"], [0.4, \"#fde0ef\"], [0.5, \"#f7f7f7\"], [0.6, \"#e6f5d0\"], [0.7, \"#b8e186\"], [0.8, \"#7fbc41\"], [0.9, \"#4d9221\"], [1, \"#276419\"]], \"sequential\": [[0.0, \"#0d0887\"], [0.1111111111111111, \"#46039f\"], [0.2222222222222222, \"#7201a8\"], [0.3333333333333333, \"#9c179e\"], [0.4444444444444444, \"#bd3786\"], [0.5555555555555556, \"#d8576b\"], [0.6666666666666666, \"#ed7953\"], [0.7777777777777778, \"#fb9f3a\"], [0.8888888888888888, \"#fdca26\"], [1.0, \"#f0f921\"]], \"sequentialminus\": [[0.0, \"#0d0887\"], [0.1111111111111111, \"#46039f\"], [0.2222222222222222, \"#7201a8\"], [0.3333333333333333, \"#9c179e\"], [0.4444444444444444, \"#bd3786\"], [0.5555555555555556, \"#d8576b\"], [0.6666666666666666, \"#ed7953\"], [0.7777777777777778, \"#fb9f3a\"], [0.8888888888888888, \"#fdca26\"], [1.0, \"#f0f921\"]]}, \"colorway\": [\"#636efa\", \"#EF553B\", \"#00cc96\", \"#ab63fa\", \"#FFA15A\", \"#19d3f3\", \"#FF6692\", \"#B6E880\", \"#FF97FF\", \"#FECB52\"], \"font\": {\"color\": \"#2a3f5f\"}, \"geo\": {\"bgcolor\": \"white\", \"lakecolor\": \"white\", \"landcolor\": \"#E5ECF6\", \"showlakes\": true, \"showland\": true, \"subunitcolor\": \"white\"}, \"hoverlabel\": {\"align\": \"left\"}, \"hovermode\": \"closest\", \"mapbox\": {\"style\": \"light\"}, \"paper_bgcolor\": \"white\", \"plot_bgcolor\": \"#E5ECF6\", \"polar\": {\"angularaxis\": {\"gridcolor\": \"white\", \"linecolor\": \"white\", \"ticks\": \"\"}, \"bgcolor\": \"#E5ECF6\", \"radialaxis\": {\"gridcolor\": \"white\", \"linecolor\": \"white\", \"ticks\": \"\"}}, \"scene\": {\"xaxis\": {\"backgroundcolor\": \"#E5ECF6\", \"gridcolor\": \"white\", \"gridwidth\": 2, \"linecolor\": \"white\", \"showbackground\": true, \"ticks\": \"\", \"zerolinecolor\": \"white\"}, \"yaxis\": {\"backgroundcolor\": \"#E5ECF6\", \"gridcolor\": \"white\", \"gridwidth\": 2, \"linecolor\": \"white\", \"showbackground\": true, \"ticks\": \"\", \"zerolinecolor\": \"white\"}, \"zaxis\": {\"backgroundcolor\": \"#E5ECF6\", \"gridcolor\": \"white\", \"gridwidth\": 2, \"linecolor\": \"white\", \"showbackground\": true, \"ticks\": \"\", \"zerolinecolor\": \"white\"}}, \"shapedefaults\": {\"line\": {\"color\": \"#2a3f5f\"}}, \"ternary\": {\"aaxis\": {\"gridcolor\": \"white\", \"linecolor\": \"white\", \"ticks\": \"\"}, \"baxis\": {\"gridcolor\": \"white\", \"linecolor\": \"white\", \"ticks\": \"\"}, \"bgcolor\": \"#E5ECF6\", \"caxis\": {\"gridcolor\": \"white\", \"linecolor\": \"white\", \"ticks\": \"\"}}, \"title\": {\"x\": 0.05}, \"xaxis\": {\"automargin\": true, \"gridcolor\": \"white\", \"linecolor\": \"white\", \"ticks\": \"\", \"title\": {\"standoff\": 15}, \"zerolinecolor\": \"white\", \"zerolinewidth\": 2}, \"yaxis\": {\"automargin\": true, \"gridcolor\": \"white\", \"linecolor\": \"white\", \"ticks\": \"\", \"title\": {\"standoff\": 15}, \"zerolinecolor\": \"white\", \"zerolinewidth\": 2}}}, \"title\": {\"text\": \"Hyperparameter Importances\"}, \"xaxis\": {\"title\": {\"text\": \"Importance for Objective Value\"}}, \"yaxis\": {\"title\": {\"text\": \"Hyperparameter\"}}},\n",
       "                        {\"responsive\": true}\n",
       "                    ).then(function(){\n",
       "                            \n",
       "var gd = document.getElementById('75ec8dd6-d70c-4e54-b7c9-5f1e3453b58c');\n",
       "var x = new MutationObserver(function (mutations, observer) {{\n",
       "        var display = window.getComputedStyle(gd).display;\n",
       "        if (!display || display === 'none') {{\n",
       "            console.log([gd, 'removed!']);\n",
       "            Plotly.purge(gd);\n",
       "            observer.disconnect();\n",
       "        }}\n",
       "}});\n",
       "\n",
       "// Listen for the removal of the full notebook cells\n",
       "var notebookContainer = gd.closest('#notebook-container');\n",
       "if (notebookContainer) {{\n",
       "    x.observe(notebookContainer, {childList: true});\n",
       "}}\n",
       "\n",
       "// Listen for the clearing of the current output cell\n",
       "var outputEl = gd.closest('.output');\n",
       "if (outputEl) {{\n",
       "    x.observe(outputEl, {childList: true});\n",
       "}}\n",
       "\n",
       "                        })\n",
       "                };\n",
       "                \n",
       "            </script>\n",
       "        </div>\n",
       "</body>\n",
       "</html>"
      ]
     },
     "metadata": {},
     "output_type": "display_data"
    }
   ],
   "source": [
    "optuna.visualization.plot_param_importances(study_2)"
   ]
  },
  {
   "cell_type": "code",
   "execution_count": null,
   "metadata": {
    "colab": {
     "base_uri": "https://localhost:8080/",
     "height": 328
    },
    "id": "EMSCCkDeMmFK",
    "outputId": "adf13e4e-5436-4533-ca51-27a8b5b916a6"
   },
   "outputs": [
    {
     "ename": "ZeroDivisionError",
     "evalue": "ignored",
     "output_type": "error",
     "traceback": [
      "\u001b[0;31m---------------------------------------------------------------------------\u001b[0m",
      "\u001b[0;31mZeroDivisionError\u001b[0m                         Traceback (most recent call last)",
      "\u001b[0;32m<ipython-input-27-eba610d4746b>\u001b[0m in \u001b[0;36m<module>\u001b[0;34m()\u001b[0m\n\u001b[0;32m----> 1\u001b[0;31m \u001b[0moptuna\u001b[0m\u001b[0;34m.\u001b[0m\u001b[0mvisualization\u001b[0m\u001b[0;34m.\u001b[0m\u001b[0mplot_param_importances\u001b[0m\u001b[0;34m(\u001b[0m\u001b[0mstudy_3\u001b[0m\u001b[0;34m)\u001b[0m\u001b[0;34m\u001b[0m\u001b[0;34m\u001b[0m\u001b[0m\n\u001b[0m",
      "\u001b[0;32m/usr/local/lib/python3.7/dist-packages/optuna/visualization/_param_importances.py\u001b[0m in \u001b[0;36mplot_param_importances\u001b[0;34m(study, evaluator, params, target, target_name)\u001b[0m\n\u001b[1;32m    111\u001b[0m \u001b[0;34m\u001b[0m\u001b[0m\n\u001b[1;32m    112\u001b[0m     importances = optuna.importance.get_param_importances(\n\u001b[0;32m--> 113\u001b[0;31m         \u001b[0mstudy\u001b[0m\u001b[0;34m,\u001b[0m \u001b[0mevaluator\u001b[0m\u001b[0;34m=\u001b[0m\u001b[0mevaluator\u001b[0m\u001b[0;34m,\u001b[0m \u001b[0mparams\u001b[0m\u001b[0;34m=\u001b[0m\u001b[0mparams\u001b[0m\u001b[0;34m,\u001b[0m \u001b[0mtarget\u001b[0m\u001b[0;34m=\u001b[0m\u001b[0mtarget\u001b[0m\u001b[0;34m\u001b[0m\u001b[0;34m\u001b[0m\u001b[0m\n\u001b[0m\u001b[1;32m    114\u001b[0m     )\n\u001b[1;32m    115\u001b[0m \u001b[0;34m\u001b[0m\u001b[0m\n",
      "\u001b[0;32m/usr/local/lib/python3.7/dist-packages/optuna/importance/__init__.py\u001b[0m in \u001b[0;36mget_param_importances\u001b[0;34m(study, evaluator, params, target)\u001b[0m\n\u001b[1;32m     91\u001b[0m         \u001b[0;32mraise\u001b[0m \u001b[0mTypeError\u001b[0m\u001b[0;34m(\u001b[0m\u001b[0;34m\"Evaluator must be a subclass of BaseImportanceEvaluator.\"\u001b[0m\u001b[0;34m)\u001b[0m\u001b[0;34m\u001b[0m\u001b[0;34m\u001b[0m\u001b[0m\n\u001b[1;32m     92\u001b[0m \u001b[0;34m\u001b[0m\u001b[0m\n\u001b[0;32m---> 93\u001b[0;31m     \u001b[0;32mreturn\u001b[0m \u001b[0mevaluator\u001b[0m\u001b[0;34m.\u001b[0m\u001b[0mevaluate\u001b[0m\u001b[0;34m(\u001b[0m\u001b[0mstudy\u001b[0m\u001b[0;34m,\u001b[0m \u001b[0mparams\u001b[0m\u001b[0;34m=\u001b[0m\u001b[0mparams\u001b[0m\u001b[0;34m,\u001b[0m \u001b[0mtarget\u001b[0m\u001b[0;34m=\u001b[0m\u001b[0mtarget\u001b[0m\u001b[0;34m)\u001b[0m\u001b[0;34m\u001b[0m\u001b[0;34m\u001b[0m\u001b[0m\n\u001b[0m",
      "\u001b[0;32m/usr/local/lib/python3.7/dist-packages/optuna/importance/_fanova/_evaluator.py\u001b[0m in \u001b[0;36mevaluate\u001b[0;34m(self, study, params, target)\u001b[0m\n\u001b[1;32m    124\u001b[0m             \u001b[0my\u001b[0m\u001b[0;34m=\u001b[0m\u001b[0mtrans_values\u001b[0m\u001b[0;34m,\u001b[0m\u001b[0;34m\u001b[0m\u001b[0;34m\u001b[0m\u001b[0m\n\u001b[1;32m    125\u001b[0m             \u001b[0msearch_spaces\u001b[0m\u001b[0;34m=\u001b[0m\u001b[0mtrans_bounds\u001b[0m\u001b[0;34m,\u001b[0m\u001b[0;34m\u001b[0m\u001b[0;34m\u001b[0m\u001b[0m\n\u001b[0;32m--> 126\u001b[0;31m             \u001b[0mcolumn_to_encoded_columns\u001b[0m\u001b[0;34m=\u001b[0m\u001b[0mcolumn_to_encoded_columns\u001b[0m\u001b[0;34m,\u001b[0m\u001b[0;34m\u001b[0m\u001b[0;34m\u001b[0m\u001b[0m\n\u001b[0m\u001b[1;32m    127\u001b[0m         )\n\u001b[1;32m    128\u001b[0m \u001b[0;34m\u001b[0m\u001b[0m\n",
      "\u001b[0;32m/usr/local/lib/python3.7/dist-packages/optuna/importance/_fanova/_fanova.py\u001b[0m in \u001b[0;36mfit\u001b[0;34m(self, X, y, search_spaces, column_to_encoded_columns)\u001b[0m\n\u001b[1;32m     72\u001b[0m         \u001b[0mself\u001b[0m\u001b[0;34m.\u001b[0m\u001b[0m_forest\u001b[0m\u001b[0;34m.\u001b[0m\u001b[0mfit\u001b[0m\u001b[0;34m(\u001b[0m\u001b[0mX\u001b[0m\u001b[0;34m,\u001b[0m \u001b[0my\u001b[0m\u001b[0;34m)\u001b[0m\u001b[0;34m\u001b[0m\u001b[0;34m\u001b[0m\u001b[0m\n\u001b[1;32m     73\u001b[0m \u001b[0;34m\u001b[0m\u001b[0m\n\u001b[0;32m---> 74\u001b[0;31m         \u001b[0mself\u001b[0m\u001b[0;34m.\u001b[0m\u001b[0m_trees\u001b[0m \u001b[0;34m=\u001b[0m \u001b[0;34m[\u001b[0m\u001b[0m_FanovaTree\u001b[0m\u001b[0;34m(\u001b[0m\u001b[0me\u001b[0m\u001b[0;34m.\u001b[0m\u001b[0mtree_\u001b[0m\u001b[0;34m,\u001b[0m \u001b[0msearch_spaces\u001b[0m\u001b[0;34m)\u001b[0m \u001b[0;32mfor\u001b[0m \u001b[0me\u001b[0m \u001b[0;32min\u001b[0m \u001b[0mself\u001b[0m\u001b[0;34m.\u001b[0m\u001b[0m_forest\u001b[0m\u001b[0;34m.\u001b[0m\u001b[0mestimators_\u001b[0m\u001b[0;34m]\u001b[0m\u001b[0;34m\u001b[0m\u001b[0;34m\u001b[0m\u001b[0m\n\u001b[0m\u001b[1;32m     75\u001b[0m         \u001b[0mself\u001b[0m\u001b[0;34m.\u001b[0m\u001b[0m_column_to_encoded_columns\u001b[0m \u001b[0;34m=\u001b[0m \u001b[0mcolumn_to_encoded_columns\u001b[0m\u001b[0;34m\u001b[0m\u001b[0;34m\u001b[0m\u001b[0m\n\u001b[1;32m     76\u001b[0m         \u001b[0mself\u001b[0m\u001b[0;34m.\u001b[0m\u001b[0m_variances\u001b[0m \u001b[0;34m=\u001b[0m \u001b[0;34m{\u001b[0m\u001b[0;34m}\u001b[0m\u001b[0;34m\u001b[0m\u001b[0;34m\u001b[0m\u001b[0m\n",
      "\u001b[0;32m/usr/local/lib/python3.7/dist-packages/optuna/importance/_fanova/_fanova.py\u001b[0m in \u001b[0;36m<listcomp>\u001b[0;34m(.0)\u001b[0m\n\u001b[1;32m     72\u001b[0m         \u001b[0mself\u001b[0m\u001b[0;34m.\u001b[0m\u001b[0m_forest\u001b[0m\u001b[0;34m.\u001b[0m\u001b[0mfit\u001b[0m\u001b[0;34m(\u001b[0m\u001b[0mX\u001b[0m\u001b[0;34m,\u001b[0m \u001b[0my\u001b[0m\u001b[0;34m)\u001b[0m\u001b[0;34m\u001b[0m\u001b[0;34m\u001b[0m\u001b[0m\n\u001b[1;32m     73\u001b[0m \u001b[0;34m\u001b[0m\u001b[0m\n\u001b[0;32m---> 74\u001b[0;31m         \u001b[0mself\u001b[0m\u001b[0;34m.\u001b[0m\u001b[0m_trees\u001b[0m \u001b[0;34m=\u001b[0m \u001b[0;34m[\u001b[0m\u001b[0m_FanovaTree\u001b[0m\u001b[0;34m(\u001b[0m\u001b[0me\u001b[0m\u001b[0;34m.\u001b[0m\u001b[0mtree_\u001b[0m\u001b[0;34m,\u001b[0m \u001b[0msearch_spaces\u001b[0m\u001b[0;34m)\u001b[0m \u001b[0;32mfor\u001b[0m \u001b[0me\u001b[0m \u001b[0;32min\u001b[0m \u001b[0mself\u001b[0m\u001b[0;34m.\u001b[0m\u001b[0m_forest\u001b[0m\u001b[0;34m.\u001b[0m\u001b[0mestimators_\u001b[0m\u001b[0;34m]\u001b[0m\u001b[0;34m\u001b[0m\u001b[0;34m\u001b[0m\u001b[0m\n\u001b[0m\u001b[1;32m     75\u001b[0m         \u001b[0mself\u001b[0m\u001b[0;34m.\u001b[0m\u001b[0m_column_to_encoded_columns\u001b[0m \u001b[0;34m=\u001b[0m \u001b[0mcolumn_to_encoded_columns\u001b[0m\u001b[0;34m\u001b[0m\u001b[0;34m\u001b[0m\u001b[0m\n\u001b[1;32m     76\u001b[0m         \u001b[0mself\u001b[0m\u001b[0;34m.\u001b[0m\u001b[0m_variances\u001b[0m \u001b[0;34m=\u001b[0m \u001b[0;34m{\u001b[0m\u001b[0;34m}\u001b[0m\u001b[0;34m\u001b[0m\u001b[0;34m\u001b[0m\u001b[0m\n",
      "\u001b[0;32m/usr/local/lib/python3.7/dist-packages/optuna/importance/_fanova/_tree.py\u001b[0m in \u001b[0;36m__init__\u001b[0;34m(self, tree, search_spaces)\u001b[0m\n\u001b[1;32m     21\u001b[0m         \u001b[0mself\u001b[0m\u001b[0;34m.\u001b[0m\u001b[0m_search_spaces\u001b[0m \u001b[0;34m=\u001b[0m \u001b[0msearch_spaces\u001b[0m\u001b[0;34m\u001b[0m\u001b[0;34m\u001b[0m\u001b[0m\n\u001b[1;32m     22\u001b[0m \u001b[0;34m\u001b[0m\u001b[0m\n\u001b[0;32m---> 23\u001b[0;31m         \u001b[0mstatistics\u001b[0m \u001b[0;34m=\u001b[0m \u001b[0mself\u001b[0m\u001b[0;34m.\u001b[0m\u001b[0m_precompute_statistics\u001b[0m\u001b[0;34m(\u001b[0m\u001b[0;34m)\u001b[0m\u001b[0;34m\u001b[0m\u001b[0;34m\u001b[0m\u001b[0m\n\u001b[0m\u001b[1;32m     24\u001b[0m         \u001b[0msplit_midpoints\u001b[0m\u001b[0;34m,\u001b[0m \u001b[0msplit_sizes\u001b[0m \u001b[0;34m=\u001b[0m \u001b[0mself\u001b[0m\u001b[0;34m.\u001b[0m\u001b[0m_precompute_split_midpoints_and_sizes\u001b[0m\u001b[0;34m(\u001b[0m\u001b[0;34m)\u001b[0m\u001b[0;34m\u001b[0m\u001b[0;34m\u001b[0m\u001b[0m\n\u001b[1;32m     25\u001b[0m         \u001b[0msubtree_active_features\u001b[0m \u001b[0;34m=\u001b[0m \u001b[0mself\u001b[0m\u001b[0;34m.\u001b[0m\u001b[0m_precompute_subtree_active_features\u001b[0m\u001b[0;34m(\u001b[0m\u001b[0;34m)\u001b[0m\u001b[0;34m\u001b[0m\u001b[0;34m\u001b[0m\u001b[0m\n",
      "\u001b[0;32m/usr/local/lib/python3.7/dist-packages/optuna/importance/_fanova/_tree.py\u001b[0m in \u001b[0;36m_precompute_statistics\u001b[0;34m(self)\u001b[0m\n\u001b[1;32m    180\u001b[0m                     \u001b[0mchild_values\u001b[0m\u001b[0;34m.\u001b[0m\u001b[0mappend\u001b[0m\u001b[0;34m(\u001b[0m\u001b[0mstatistics\u001b[0m\u001b[0;34m[\u001b[0m\u001b[0mchild_node_index\u001b[0m\u001b[0;34m,\u001b[0m \u001b[0;36m0\u001b[0m\u001b[0;34m]\u001b[0m\u001b[0;34m)\u001b[0m\u001b[0;34m\u001b[0m\u001b[0;34m\u001b[0m\u001b[0m\n\u001b[1;32m    181\u001b[0m                     \u001b[0mchild_weights\u001b[0m\u001b[0;34m.\u001b[0m\u001b[0mappend\u001b[0m\u001b[0;34m(\u001b[0m\u001b[0mstatistics\u001b[0m\u001b[0;34m[\u001b[0m\u001b[0mchild_node_index\u001b[0m\u001b[0;34m,\u001b[0m \u001b[0;36m1\u001b[0m\u001b[0;34m]\u001b[0m\u001b[0;34m)\u001b[0m\u001b[0;34m\u001b[0m\u001b[0;34m\u001b[0m\u001b[0m\n\u001b[0;32m--> 182\u001b[0;31m                 \u001b[0mvalue\u001b[0m \u001b[0;34m=\u001b[0m \u001b[0mnumpy\u001b[0m\u001b[0;34m.\u001b[0m\u001b[0maverage\u001b[0m\u001b[0;34m(\u001b[0m\u001b[0mchild_values\u001b[0m\u001b[0;34m,\u001b[0m \u001b[0mweights\u001b[0m\u001b[0;34m=\u001b[0m\u001b[0mchild_weights\u001b[0m\u001b[0;34m)\u001b[0m\u001b[0;34m\u001b[0m\u001b[0;34m\u001b[0m\u001b[0m\n\u001b[0m\u001b[1;32m    183\u001b[0m                 \u001b[0mweight\u001b[0m \u001b[0;34m=\u001b[0m \u001b[0mfloat\u001b[0m\u001b[0;34m(\u001b[0m\u001b[0mnumpy\u001b[0m\u001b[0;34m.\u001b[0m\u001b[0msum\u001b[0m\u001b[0;34m(\u001b[0m\u001b[0mchild_weights\u001b[0m\u001b[0;34m)\u001b[0m\u001b[0;34m)\u001b[0m\u001b[0;34m\u001b[0m\u001b[0;34m\u001b[0m\u001b[0m\n\u001b[1;32m    184\u001b[0m                 \u001b[0mstatistics\u001b[0m\u001b[0;34m[\u001b[0m\u001b[0mnode_index\u001b[0m\u001b[0;34m]\u001b[0m \u001b[0;34m=\u001b[0m \u001b[0;34m[\u001b[0m\u001b[0mvalue\u001b[0m\u001b[0;34m,\u001b[0m \u001b[0mweight\u001b[0m\u001b[0;34m]\u001b[0m\u001b[0;34m\u001b[0m\u001b[0;34m\u001b[0m\u001b[0m\n",
      "\u001b[0;32m<__array_function__ internals>\u001b[0m in \u001b[0;36maverage\u001b[0;34m(*args, **kwargs)\u001b[0m\n",
      "\u001b[0;32m/usr/local/lib/python3.7/dist-packages/numpy/lib/function_base.py\u001b[0m in \u001b[0;36maverage\u001b[0;34m(a, axis, weights, returned)\u001b[0m\n\u001b[1;32m    408\u001b[0m         \u001b[0;32mif\u001b[0m \u001b[0mnp\u001b[0m\u001b[0;34m.\u001b[0m\u001b[0many\u001b[0m\u001b[0;34m(\u001b[0m\u001b[0mscl\u001b[0m \u001b[0;34m==\u001b[0m \u001b[0;36m0.0\u001b[0m\u001b[0;34m)\u001b[0m\u001b[0;34m:\u001b[0m\u001b[0;34m\u001b[0m\u001b[0;34m\u001b[0m\u001b[0m\n\u001b[1;32m    409\u001b[0m             raise ZeroDivisionError(\n\u001b[0;32m--> 410\u001b[0;31m                 \"Weights sum to zero, can't be normalized\")\n\u001b[0m\u001b[1;32m    411\u001b[0m \u001b[0;34m\u001b[0m\u001b[0m\n\u001b[1;32m    412\u001b[0m         \u001b[0mavg\u001b[0m \u001b[0;34m=\u001b[0m \u001b[0mnp\u001b[0m\u001b[0;34m.\u001b[0m\u001b[0mmultiply\u001b[0m\u001b[0;34m(\u001b[0m\u001b[0ma\u001b[0m\u001b[0;34m,\u001b[0m \u001b[0mwgt\u001b[0m\u001b[0;34m,\u001b[0m \u001b[0mdtype\u001b[0m\u001b[0;34m=\u001b[0m\u001b[0mresult_dtype\u001b[0m\u001b[0;34m)\u001b[0m\u001b[0;34m.\u001b[0m\u001b[0msum\u001b[0m\u001b[0;34m(\u001b[0m\u001b[0maxis\u001b[0m\u001b[0;34m)\u001b[0m\u001b[0;34m/\u001b[0m\u001b[0mscl\u001b[0m\u001b[0;34m\u001b[0m\u001b[0;34m\u001b[0m\u001b[0m\n",
      "\u001b[0;31mZeroDivisionError\u001b[0m: Weights sum to zero, can't be normalized"
     ]
    }
   ],
   "source": [
    "optuna.visualization.plot_param_importances(study_3)"
   ]
  },
  {
   "cell_type": "markdown",
   "metadata": {
    "id": "YAhGkRyDsSZS"
   },
   "source": [
    "### Diferenciais\n",
    "\n",
    "A função de ativação foi alta nos dois primeiros estudos, sendo um diferencial importante, os outros fatores pouco impactaram. No terceiro estudo houve algum problema no optuna que impossibilitou a análise."
   ]
  }
 ],
 "metadata": {
  "accelerator": "GPU",
  "colab": {
   "collapsed_sections": [],
   "machine_shape": "hm",
   "name": "Redes Neurais Mini Projeto 2.ipynb",
   "provenance": []
  },
  "kernelspec": {
   "display_name": "Python 3",
   "language": "python",
   "name": "python3"
  },
  "language_info": {
   "codemirror_mode": {
    "name": "ipython",
    "version": 3
   },
   "file_extension": ".py",
   "mimetype": "text/x-python",
   "name": "python",
   "nbconvert_exporter": "python",
   "pygments_lexer": "ipython3",
   "version": "3.8.10"
  }
 },
 "nbformat": 4,
 "nbformat_minor": 1
}

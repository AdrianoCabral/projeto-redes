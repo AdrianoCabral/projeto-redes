{
 "cells": [
  {
   "cell_type": "markdown",
   "metadata": {},
   "source": [
    "### Projeto Final \n",
    "**Grupo:**\n",
    "- Adriano Felipe Cabral Filho (afcf)\n",
    "- Felipe Rodrigues de Souza (frs3)\n",
    "- Lucas Vinícius José da Silva (lvjs)\n",
    "- Pedro José Carneiro de Souza (pjcs) \n",
    "- Vitor Sousa Silva (vss2)\n"
   ]
  },
  {
   "cell_type": "code",
   "execution_count": 1,
   "metadata": {},
   "outputs": [],
   "source": [
    "import time\n",
    "import optuna\n",
    "import numpy as np\n",
    "import pandas as pd\n",
    "from numpy import std\n",
    "from numpy import mean\n",
    "import scikitplot as skplt\n",
    "import matplotlib.pyplot as plt\n",
    "\n",
    "import warnings\n",
    "warnings.filterwarnings('ignore')\n",
    "\n",
    "from random import randint\n",
    "from tensorflow import keras \n",
    "\n",
    "from sklearn.neural_network import MLPClassifier\n",
    "from sklearn.linear_model import LogisticRegression\n",
    "from sklearn.model_selection import cross_val_score\n",
    "from sklearn.ensemble import RandomForestClassifier, GradientBoostingClassifier\n",
    "from tensorflow.keras.callbacks import EarlyStopping\n",
    "from sklearn.metrics import accuracy_score, recall_score, precision_score, f1_score, roc_auc_score, average_precision_score, plot_confusion_matrix\n",
    "\n",
    "ds = pd.read_csv('TRNcod.xls', delimiter = \"\\t\")\n",
    "\n",
    "# Shuffle no dataset\n",
    "ds = ds.sample(frac=1).reset_index(drop=True)\n",
    "\n",
    "def compute_performance_metrics(y, y_pred_class, y_pred_scores=None):\n",
    "    accuracy = accuracy_score(y, y_pred_class)\n",
    "    recall = recall_score(y, y_pred_class)\n",
    "    precision = precision_score(y, y_pred_class)\n",
    "    f1 = f1_score(y, y_pred_class)\n",
    "    performance_metrics = (accuracy, recall, precision, f1)\n",
    "    if y_pred_scores is not None:\n",
    "        skplt.metrics.plot_ks_statistic(y, y_pred_scores)\n",
    "        plt.show()\n",
    "        y_pred_scores = y_pred_scores[:, 1]\n",
    "        auroc = roc_auc_score(y, y_pred_scores)\n",
    "        aupr = average_precision_score(y, y_pred_scores)\n",
    "        performance_metrics = performance_metrics + (auroc, aupr)\n",
    "        plt.suptitle('Acurácia: {:3.3f}\\nRecall: {:3.3f}\\nPrecision: {:3.3f}\\nF1: {:3.3f}\\nAUROC: {:3.3f}\\nAURP: {:3.3f}'.format(accuracy, recall, precision, f1, auroc, aupr), x=0.25, y=0.8)\n",
    "    return performance_metrics\n",
    "\n",
    "def compute_performance_metrics_sem_plot(y, y_pred_class, y_pred_scores=None):\n",
    "    accuracy = accuracy_score(y, y_pred_class)\n",
    "    recall = recall_score(y, y_pred_class)\n",
    "    precision = precision_score(y, y_pred_class)\n",
    "    f1 = f1_score(y, y_pred_class)\n",
    "    performance_metrics = (accuracy, recall, precision, f1)\n",
    "    if y_pred_scores is not None:\n",
    "        # skplt.metrics.plot_ks_statistic(y, y_pred_scores)\n",
    "        # plt.show()\n",
    "        y_pred_scores = y_pred_scores[:, 1]\n",
    "        auroc = roc_auc_score(y, y_pred_scores)\n",
    "        aupr = average_precision_score(y, y_pred_scores)\n",
    "        performance_metrics = performance_metrics + (auroc, aupr)\n",
    "    return performance_metrics\n",
    "\n",
    "def compute_performance_metrics_sem_plot2(y, y_pred_class, y_pred_scores, rede_trial):\n",
    "    accuracy = accuracy_score(y, y_pred_class)\n",
    "    recall = recall_score(y, y_pred_class)\n",
    "    precision = precision_score(y, y_pred_class)\n",
    "    f1 = f1_score(y, y_pred_class)\n",
    "    performance_metrics = (accuracy, recall, precision, f1)\n",
    "    if y_pred_scores is not None:\n",
    "        skplt.metrics.plot_ks_statistic(y, y_pred_scores)\n",
    "        # plt.show()\n",
    "        y_pred_scores = y_pred_scores[:, 1]\n",
    "        auroc = roc_auc_score(y, y_pred_scores)\n",
    "        aupr = average_precision_score(y, y_pred_scores)\n",
    "        performance_metrics = performance_metrics + (auroc, aupr)\n",
    "        plt.title(label=rede_trial, y=0.9)\n",
    "        plt.suptitle('Acurácia: {:3.3f}\\nRecall: {:3.3f}\\nPrecision: {:3.3f}\\nF1: {:3.3f}\\nAUROC: {:3.3f}\\nAURP: {:3.3f}'.format(accuracy, recall, precision, f1, auroc, aupr), x=0.25, y=0.8)\n",
    "        plt.savefig(rede_trial, dpi=100)\n",
    "        plt.close()\n",
    "    return performance_metrics"
   ]
  },
  {
   "cell_type": "code",
   "execution_count": null,
   "metadata": {},
   "outputs": [],
   "source": [
    "# print([d for d in ds.columns])"
   ]
  },
  {
   "cell_type": "markdown",
   "metadata": {},
   "source": [
    "#### Tratamento do Dataset"
   ]
  },
  {
   "cell_type": "code",
   "execution_count": 2,
   "metadata": {},
   "outputs": [
    {
     "name": "stdout",
     "output_type": "stream",
     "text": [
      "Tamanhos de inadimplentes: \n",
      "Treino: 127549\n",
      "Teste: 33524\n",
      "Validação: 63775\n",
      "\n",
      "Tamanhos de adimplentes: \n",
      "Treino: 127549\n",
      "Teste: 63774\n",
      "Validação: 63775\n",
      "\n",
      "Colunas: 246\n"
     ]
    }
   ],
   "source": [
    "# inadimplentes = pd.DataFrame(list(filter(lambda x: x == 1, ds['IND_BOM_1_2'])))\n",
    "\n",
    "# Selecionando quem é inadimplente\n",
    "inadimplentes = ds[ds['IND_BOM_1_2'] == 1]\n",
    "\n",
    "# Selecionando quem é adimplente\n",
    "adimplente = ds[ds['IND_BOM_1_2'] == 0]\n",
    "\n",
    "global treino_ina\n",
    "global teste_ina\n",
    "global valid_ina\n",
    "global treino_adi\n",
    "global teste_adi\n",
    "global valid_adi\n",
    "\n",
    "\n",
    "# Dividindo datasets\n",
    "treino_ina = inadimplentes[:int(len(inadimplentes)/2)]\n",
    "teste_ina  = inadimplentes[int(len(inadimplentes)/2):int((len(inadimplentes)*3)/4)]\n",
    "valid_ina  = inadimplentes[int((len(inadimplentes)*3)/4):]\n",
    "\n",
    "treino_adi = adimplente[:int(len(adimplente)/2)]\n",
    "teste_adi  = adimplente[int(len(adimplente)/2):int((len(adimplente)*3)/4)]\n",
    "valid_adi  = adimplente[int((len(adimplente)*3)/4):]\n",
    "\n",
    "# Equalizando tamanho de datasets treino e validação dos inadimplentes ao de adimplentes\n",
    "treino_ina = treino_ina.loc[treino_ina.index.repeat(2)].drop('INDEX', axis=1)\n",
    "treino_ina[\"COPIA\"] = treino_ina.duplicated()\n",
    "treino_ina.sort_values(by=\"COPIA\", inplace=True, ignore_index=True)\n",
    "treino_ina = treino_ina.iloc[ : ( len(treino_adi) - len(treino_ina) ), :  ]\n",
    "treino_ina.drop(columns=[\"COPIA\"], axis=1, inplace=True)\n",
    "\n",
    "treino_adi.drop(columns=['INDEX'], axis=1, inplace=True)\n",
    "\n",
    "valid_ina  = valid_ina.loc[valid_ina.index.repeat(2)].drop('INDEX', axis=1)\n",
    "valid_ina[\"COPIA\"] = valid_ina.duplicated()\n",
    "valid_ina.sort_values(by=\"COPIA\", inplace=True, ignore_index=True)\n",
    "valid_ina = valid_ina.iloc[ : ( len(valid_adi) - len(valid_ina) ), :  ]\n",
    "valid_ina.drop(columns=[\"COPIA\"], axis=1, inplace=True)\n",
    "# Fim da equalização\n",
    "\n",
    "print('Tamanhos de inadimplentes: \\nTreino: {}\\nTeste: {}\\nValidação: {}\\n'.format(len(treino_ina.values), len(teste_ina.values), len(valid_ina.values)))\n",
    "print('Tamanhos de adimplentes: \\nTreino: {}\\nTeste: {}\\nValidação: {}\\n'.format(len(treino_adi.values), len(teste_adi.values), len(valid_adi.values)))\n",
    "print('Colunas: {}'.format(len([d for d in ds.columns])))\n",
    "ds.drop(labels=\"INDEX\", axis=1, inplace=True)"
   ]
  },
  {
   "cell_type": "code",
   "execution_count": 3,
   "metadata": {},
   "outputs": [],
   "source": [
    "# https://stackoverflow.com/questions/29294983/how-to-calculate-correlation-between-all-columns-and-remove-highly-correlated-on\n",
    "# https://psicometriaonline.com.br/como-testar-a-normalidade-da-amostra-com-kolgomorov-smirnov-e-shapiro-wilk/\n",
    "\n",
    "# # Create correlation matrix\n",
    "# corr_matrix = ds.corr().abs()\n",
    "\n",
    "# # Select upper triangle of correlation matrix\n",
    "# upper = corr_matrix.where(np.triu(np.ones(corr_matrix.shape), k=1).astype(np.bool))\n",
    "\n",
    "# # Find features with correlation greater than 0.89\n",
    "# to_drop = [column for column in upper.columns if any(upper[column] > 0.89)]\n",
    "\n",
    "# # Drop features \n",
    "# # ds.drop(to_drop, axis=1, inplace=True)\n",
    "# ds.columns\n",
    "\n",
    "\n",
    "# Colunas mais correlacionadas\n",
    "# l = []\n",
    "# for c in ds.columns[:-1]:\n",
    "#     l.append({c: ds[c].corr(ds['IND_BOM_1_1'])})\n",
    "#     # if (ds[c].corr(ds['IND_BOM_1_1']) > 0.0):\n",
    "#         # print( c, ds[c].corr(ds['IND_BOM_1_1']) )\n",
    "# l.sort(key=lambda x: list(x.values())[0])\n",
    "# print(l)"
   ]
  },
  {
   "cell_type": "markdown",
   "metadata": {},
   "source": [
    "## MLP"
   ]
  },
  {
   "cell_type": "code",
   "execution_count": 3,
   "metadata": {},
   "outputs": [
    {
     "name": "stderr",
     "output_type": "stream",
     "text": [
      "\u001b[32m[I 2021-12-12 20:40:00,301]\u001b[0m A new study created in memory with name: no-name-5eef8c69-9c6f-47d8-a5c4-ecc8d67965ca\u001b[0m\n",
      "\u001b[32m[I 2021-12-12 20:40:18,250]\u001b[0m Trial 0 finished with value: 0.6264288514308114 and parameters: {'layers': 1, 'solver': 'adam', 'neurons': 18, 'activation': 'logistic', 'learning rate': 'constant', 'initial learning rate': 0.09109204532809982}. Best is trial 0 with value: 0.6264288514308114.\u001b[0m\n",
      "\u001b[32m[I 2021-12-12 20:40:40,852]\u001b[0m Trial 1 finished with value: 0.6360721285770287 and parameters: {'layers': 2, 'solver': 'adam', 'neurons': 15, 'activation': 'logistic', 'learning rate': 'constant', 'initial learning rate': 0.02671932906926546}. Best is trial 1 with value: 0.6360721285770287.\u001b[0m\n",
      "\u001b[32m[I 2021-12-12 20:41:46,359]\u001b[0m Trial 2 finished with value: 0.6304978439827519 and parameters: {'layers': 2, 'solver': 'lbfgs', 'neurons': 12, 'activation': 'identity', 'learning rate': 'adaptive', 'initial learning rate': 0.03621666853560101}. Best is trial 1 with value: 0.6360721285770287.\u001b[0m\n",
      "\u001b[32m[I 2021-12-12 20:42:10,535]\u001b[0m Trial 3 finished with value: 0.6264602116816934 and parameters: {'layers': 1, 'solver': 'adam', 'neurons': 21, 'activation': 'logistic', 'learning rate': 'constant', 'initial learning rate': 0.08231492707611938}. Best is trial 1 with value: 0.6360721285770287.\u001b[0m\n",
      "\u001b[32m[I 2021-12-12 20:51:22,641]\u001b[0m Trial 4 finished with value: 0.6238102704821639 and parameters: {'layers': 1, 'solver': 'lbfgs', 'neurons': 13, 'activation': 'logistic', 'learning rate': 'constant', 'initial learning rate': 0.05759457395850182}. Best is trial 1 with value: 0.6360721285770287.\u001b[0m\n",
      "\u001b[32m[I 2021-12-12 20:52:55,717]\u001b[0m Trial 5 finished with value: 0.6397255978047824 and parameters: {'layers': 1, 'solver': 'sgd', 'neurons': 14, 'activation': 'logistic', 'learning rate': 'adaptive', 'initial learning rate': 0.05073428158010421}. Best is trial 5 with value: 0.6397255978047824.\u001b[0m\n",
      "\u001b[32m[I 2021-12-12 20:53:13,893]\u001b[0m Trial 6 finished with value: 0.6279733437867503 and parameters: {'layers': 2, 'solver': 'adam', 'neurons': 25, 'activation': 'identity', 'learning rate': 'constant', 'initial learning rate': 0.09725322173179218}. Best is trial 5 with value: 0.6397255978047824.\u001b[0m\n",
      "\u001b[32m[I 2021-12-12 21:21:45,168]\u001b[0m Trial 7 finished with value: 0.6137201097608781 and parameters: {'layers': 1, 'solver': 'lbfgs', 'neurons': 24, 'activation': 'logistic', 'learning rate': 'constant', 'initial learning rate': 0.07493011350038593}. Best is trial 5 with value: 0.6397255978047824.\u001b[0m\n",
      "\u001b[32m[I 2021-12-12 21:22:10,530]\u001b[0m Trial 8 finished with value: 0.6260446883575068 and parameters: {'layers': 2, 'solver': 'adam', 'neurons': 26, 'activation': 'identity', 'learning rate': 'adaptive', 'initial learning rate': 0.08143607994406217}. Best is trial 5 with value: 0.6397255978047824.\u001b[0m\n",
      "\u001b[32m[I 2021-12-12 21:22:31,764]\u001b[0m Trial 9 finished with value: 0.6298784790278322 and parameters: {'layers': 1, 'solver': 'adam', 'neurons': 31, 'activation': 'identity', 'learning rate': 'adaptive', 'initial learning rate': 0.0029219374686136946}. Best is trial 5 with value: 0.6397255978047824.\u001b[0m\n",
      "\u001b[32m[I 2021-12-12 21:23:17,957]\u001b[0m Trial 10 finished with value: 0.6386044688357507 and parameters: {'layers': 1, 'solver': 'sgd', 'neurons': 2, 'activation': 'tanh', 'learning rate': 'adaptive', 'initial learning rate': 0.05601229348856481}. Best is trial 5 with value: 0.6397255978047824.\u001b[0m\n",
      "\u001b[32m[I 2021-12-12 21:24:17,334]\u001b[0m Trial 11 finished with value: 0.6403684829478636 and parameters: {'layers': 1, 'solver': 'sgd', 'neurons': 3, 'activation': 'tanh', 'learning rate': 'adaptive', 'initial learning rate': 0.058684739035340376}. Best is trial 11 with value: 0.6403684829478636.\u001b[0m\n",
      "\u001b[32m[I 2021-12-12 21:25:00,901]\u001b[0m Trial 12 finished with value: 0.6304272834182674 and parameters: {'layers': 1, 'solver': 'sgd', 'neurons': 2, 'activation': 'relu', 'learning rate': 'adaptive', 'initial learning rate': 0.040036252787325935}. Best is trial 11 with value: 0.6403684829478636.\u001b[0m\n",
      "\u001b[32m[I 2021-12-12 21:26:14,714]\u001b[0m Trial 13 finished with value: 0.6381732653861231 and parameters: {'layers': 1, 'solver': 'sgd', 'neurons': 7, 'activation': 'tanh', 'learning rate': 'adaptive', 'initial learning rate': 0.06396536383373262}. Best is trial 11 with value: 0.6403684829478636.\u001b[0m\n",
      "\u001b[32m[I 2021-12-12 21:27:27,430]\u001b[0m Trial 14 finished with value: 0.6386907095256762 and parameters: {'layers': 1, 'solver': 'sgd', 'neurons': 8, 'activation': 'tanh', 'learning rate': 'adaptive', 'initial learning rate': 0.023461433443856032}. Best is trial 11 with value: 0.6403684829478636.\u001b[0m\n",
      "\u001b[32m[I 2021-12-12 21:28:23,501]\u001b[0m Trial 15 finished with value: 0.6306781654253234 and parameters: {'layers': 1, 'solver': 'sgd', 'neurons': 6, 'activation': 'relu', 'learning rate': 'adaptive', 'initial learning rate': 0.046411131254829784}. Best is trial 11 with value: 0.6403684829478636.\u001b[0m\n",
      "\u001b[32m[I 2021-12-12 21:29:37,028]\u001b[0m Trial 16 finished with value: 0.6389651117208938 and parameters: {'layers': 1, 'solver': 'sgd', 'neurons': 10, 'activation': 'tanh', 'learning rate': 'adaptive', 'initial learning rate': 0.06814065309124875}. Best is trial 11 with value: 0.6403684829478636.\u001b[0m\n",
      "\u001b[32m[I 2021-12-12 21:30:30,872]\u001b[0m Trial 17 finished with value: 0.639952959623677 and parameters: {'layers': 1, 'solver': 'sgd', 'neurons': 4, 'activation': 'tanh', 'learning rate': 'adaptive', 'initial learning rate': 0.01783685450605295}. Best is trial 11 with value: 0.6403684829478636.\u001b[0m\n",
      "\u001b[32m[I 2021-12-12 21:31:32,469]\u001b[0m Trial 18 finished with value: 0.6382203057624461 and parameters: {'layers': 1, 'solver': 'sgd', 'neurons': 4, 'activation': 'tanh', 'learning rate': 'adaptive', 'initial learning rate': 0.0019502841572633378}. Best is trial 11 with value: 0.6403684829478636.\u001b[0m\n",
      "\u001b[32m[I 2021-12-12 21:32:23,578]\u001b[0m Trial 19 finished with value: 0.6390591924735398 and parameters: {'layers': 2, 'solver': 'sgd', 'neurons': 2, 'activation': 'tanh', 'learning rate': 'adaptive', 'initial learning rate': 0.014819792680873717}. Best is trial 11 with value: 0.6403684829478636.\u001b[0m\n",
      "\u001b[32m[I 2021-12-12 21:33:10,804]\u001b[0m Trial 20 finished with value: 0.6373814190513524 and parameters: {'layers': 1, 'solver': 'sgd', 'neurons': 5, 'activation': 'tanh', 'learning rate': 'adaptive', 'initial learning rate': 0.010432296668493837}. Best is trial 11 with value: 0.6403684829478636.\u001b[0m\n",
      "\u001b[32m[I 2021-12-12 21:34:45,892]\u001b[0m Trial 21 finished with value: 0.6339161113288906 and parameters: {'layers': 1, 'solver': 'sgd', 'neurons': 18, 'activation': 'tanh', 'learning rate': 'adaptive', 'initial learning rate': 0.044787335905702504}. Best is trial 11 with value: 0.6403684829478636.\u001b[0m\n",
      "\u001b[32m[I 2021-12-12 21:35:52,029]\u001b[0m Trial 22 finished with value: 0.6405331242649941 and parameters: {'layers': 1, 'solver': 'sgd', 'neurons': 10, 'activation': 'logistic', 'learning rate': 'adaptive', 'initial learning rate': 0.03244903765068676}. Best is trial 22 with value: 0.6405331242649941.\u001b[0m\n",
      "\u001b[32m[I 2021-12-12 21:37:02,740]\u001b[0m Trial 23 finished with value: 0.6391611132889063 and parameters: {'layers': 1, 'solver': 'sgd', 'neurons': 10, 'activation': 'tanh', 'learning rate': 'adaptive', 'initial learning rate': 0.028660478797339396}. Best is trial 22 with value: 0.6405331242649941.\u001b[0m\n",
      "\u001b[32m[I 2021-12-12 21:38:10,534]\u001b[0m Trial 24 finished with value: 0.6386358290866327 and parameters: {'layers': 1, 'solver': 'sgd', 'neurons': 9, 'activation': 'relu', 'learning rate': 'adaptive', 'initial learning rate': 0.01907698752783516}. Best is trial 22 with value: 0.6405331242649941.\u001b[0m\n",
      "\u001b[32m[I 2021-12-12 21:38:59,282]\u001b[0m Trial 25 finished with value: 0.639890239121913 and parameters: {'layers': 1, 'solver': 'sgd', 'neurons': 4, 'activation': 'tanh', 'learning rate': 'adaptive', 'initial learning rate': 0.03232268086860157}. Best is trial 22 with value: 0.6405331242649941.\u001b[0m\n",
      "\u001b[32m[I 2021-12-12 21:40:04,229]\u001b[0m Trial 26 finished with value: 0.6405644845158761 and parameters: {'layers': 1, 'solver': 'sgd', 'neurons': 11, 'activation': 'logistic', 'learning rate': 'adaptive', 'initial learning rate': 0.038643117434869326}. Best is trial 26 with value: 0.6405644845158761.\u001b[0m\n",
      "\u001b[32m[I 2021-12-12 21:43:35,466]\u001b[0m Trial 27 finished with value: 0.6347785182281458 and parameters: {'layers': 1, 'solver': 'lbfgs', 'neurons': 12, 'activation': 'logistic', 'learning rate': 'adaptive', 'initial learning rate': 0.039904849524831816}. Best is trial 26 with value: 0.6405644845158761.\u001b[0m\n",
      "\u001b[32m[I 2021-12-12 21:44:52,344]\u001b[0m Trial 28 finished with value: 0.6391062328498628 and parameters: {'layers': 1, 'solver': 'sgd', 'neurons': 16, 'activation': 'logistic', 'learning rate': 'adaptive', 'initial learning rate': 0.05366628490571898}. Best is trial 26 with value: 0.6405644845158761.\u001b[0m\n",
      "\u001b[32m[I 2021-12-12 21:46:45,291]\u001b[0m Trial 29 finished with value: 0.6375695805566445 and parameters: {'layers': 1, 'solver': 'sgd', 'neurons': 20, 'activation': 'logistic', 'learning rate': 'adaptive', 'initial learning rate': 0.06339905039066138}. Best is trial 26 with value: 0.6405644845158761.\u001b[0m\n",
      "\u001b[32m[I 2021-12-12 21:47:55,821]\u001b[0m Trial 30 finished with value: 0.6395923167385339 and parameters: {'layers': 1, 'solver': 'sgd', 'neurons': 10, 'activation': 'logistic', 'learning rate': 'adaptive', 'initial learning rate': 0.04409202754598887}. Best is trial 26 with value: 0.6405644845158761.\u001b[0m\n",
      "\u001b[32m[I 2021-12-12 21:49:18,923]\u001b[0m Trial 31 finished with value: 0.6398667189337515 and parameters: {'layers': 1, 'solver': 'sgd', 'neurons': 7, 'activation': 'logistic', 'learning rate': 'adaptive', 'initial learning rate': 0.021911482787623882}. Best is trial 26 with value: 0.6405644845158761.\u001b[0m\n",
      "\u001b[32m[I 2021-12-12 21:50:24,758]\u001b[0m Trial 32 finished with value: 0.6409721677773422 and parameters: {'layers': 1, 'solver': 'sgd', 'neurons': 4, 'activation': 'logistic', 'learning rate': 'adaptive', 'initial learning rate': 0.009951325676263768}. Best is trial 32 with value: 0.6409721677773422.\u001b[0m\n",
      "\u001b[32m[I 2021-12-12 21:52:01,987]\u001b[0m Trial 33 finished with value: 0.6404782438259506 and parameters: {'layers': 1, 'solver': 'sgd', 'neurons': 11, 'activation': 'logistic', 'learning rate': 'adaptive', 'initial learning rate': 0.008408671743724755}. Best is trial 32 with value: 0.6409721677773422.\u001b[0m\n",
      "\u001b[32m[I 2021-12-12 21:54:02,284]\u001b[0m Trial 34 finished with value: 0.6400078400627205 and parameters: {'layers': 1, 'solver': 'sgd', 'neurons': 15, 'activation': 'logistic', 'learning rate': 'adaptive', 'initial learning rate': 0.007362889987935016}. Best is trial 32 with value: 0.6409721677773422.\u001b[0m\n",
      "\u001b[32m[I 2021-12-12 21:57:20,599]\u001b[0m Trial 35 finished with value: 0.642077616620933 and parameters: {'layers': 2, 'solver': 'lbfgs', 'neurons': 11, 'activation': 'logistic', 'learning rate': 'constant', 'initial learning rate': 0.033070586613238195}. Best is trial 35 with value: 0.642077616620933.\u001b[0m\n",
      "\u001b[32m[I 2021-12-12 22:01:12,800]\u001b[0m Trial 36 finished with value: 0.6339239513916112 and parameters: {'layers': 2, 'solver': 'lbfgs', 'neurons': 13, 'activation': 'logistic', 'learning rate': 'constant', 'initial learning rate': 0.0319077297544169}. Best is trial 35 with value: 0.642077616620933.\u001b[0m\n",
      "\u001b[32m[I 2021-12-12 22:39:57,125]\u001b[0m Trial 37 finished with value: 0.6151626813014505 and parameters: {'layers': 2, 'solver': 'lbfgs', 'neurons': 17, 'activation': 'logistic', 'learning rate': 'constant', 'initial learning rate': 0.03450138547533955}. Best is trial 35 with value: 0.642077616620933.\u001b[0m\n",
      "\u001b[32m[I 2021-12-12 22:43:42,885]\u001b[0m Trial 38 finished with value: 0.6339239513916112 and parameters: {'layers': 2, 'solver': 'lbfgs', 'neurons': 13, 'activation': 'logistic', 'learning rate': 'constant', 'initial learning rate': 0.02704411432849982}. Best is trial 35 with value: 0.642077616620933.\u001b[0m\n",
      "\u001b[32m[I 2021-12-12 23:54:18,071]\u001b[0m Trial 39 finished with value: 0.6213563308506468 and parameters: {'layers': 2, 'solver': 'lbfgs', 'neurons': 15, 'activation': 'logistic', 'learning rate': 'constant', 'initial learning rate': 0.0399957916779562}. Best is trial 35 with value: 0.642077616620933.\u001b[0m\n",
      "\u001b[32m[I 2021-12-13 00:09:31,791]\u001b[0m Trial 40 finished with value: 0.6316268130145041 and parameters: {'layers': 2, 'solver': 'lbfgs', 'neurons': 8, 'activation': 'logistic', 'learning rate': 'constant', 'initial learning rate': 0.049273331692431914}. Best is trial 35 with value: 0.642077616620933.\u001b[0m\n",
      "\u001b[32m[I 2021-12-13 00:09:51,746]\u001b[0m Trial 41 finished with value: 0.6339474715797726 and parameters: {'layers': 1, 'solver': 'adam', 'neurons': 11, 'activation': 'logistic', 'learning rate': 'constant', 'initial learning rate': 0.010854735220074064}. Best is trial 35 with value: 0.642077616620933.\u001b[0m\n",
      "\u001b[32m[I 2021-12-13 00:13:11,356]\u001b[0m Trial 42 finished with value: 0.6347785182281458 and parameters: {'layers': 1, 'solver': 'lbfgs', 'neurons': 12, 'activation': 'logistic', 'learning rate': 'constant', 'initial learning rate': 0.00519559261136187}. Best is trial 35 with value: 0.642077616620933.\u001b[0m\n",
      "\u001b[32m[I 2021-12-13 00:14:14,175]\u001b[0m Trial 43 finished with value: 0.6411995295962367 and parameters: {'layers': 1, 'solver': 'sgd', 'neurons': 11, 'activation': 'logistic', 'learning rate': 'adaptive', 'initial learning rate': 0.027330145261761467}. Best is trial 35 with value: 0.642077616620933.\u001b[0m\n",
      "\u001b[32m[I 2021-12-13 00:14:40,638]\u001b[0m Trial 44 finished with value: 0.6302391219129753 and parameters: {'layers': 2, 'solver': 'adam', 'neurons': 14, 'activation': 'logistic', 'learning rate': 'constant', 'initial learning rate': 0.03687419172854359}. Best is trial 35 with value: 0.642077616620933.\u001b[0m\n",
      "\u001b[32m[I 2021-12-13 00:15:47,128]\u001b[0m Trial 45 finished with value: 0.6289298314386516 and parameters: {'layers': 1, 'solver': 'sgd', 'neurons': 20, 'activation': 'identity', 'learning rate': 'adaptive', 'initial learning rate': 0.024662516355434302}. Best is trial 35 with value: 0.642077616620933.\u001b[0m\n",
      "\u001b[32m[I 2021-12-13 00:17:40,359]\u001b[0m Trial 46 finished with value: 0.6418502548020384 and parameters: {'layers': 1, 'solver': 'lbfgs', 'neurons': 6, 'activation': 'logistic', 'learning rate': 'adaptive', 'initial learning rate': 0.028779074513895504}. Best is trial 35 with value: 0.642077616620933.\u001b[0m\n",
      "\u001b[32m[I 2021-12-13 00:18:34,729]\u001b[0m Trial 47 finished with value: 0.6389572716581733 and parameters: {'layers': 1, 'solver': 'lbfgs', 'neurons': 5, 'activation': 'logistic', 'learning rate': 'adaptive', 'initial learning rate': 0.014650655662845234}. Best is trial 35 with value: 0.642077616620933.\u001b[0m\n",
      "\u001b[32m[I 2021-12-13 00:20:42,078]\u001b[0m Trial 48 finished with value: 0.6377577420619365 and parameters: {'layers': 1, 'solver': 'lbfgs', 'neurons': 8, 'activation': 'logistic', 'learning rate': 'adaptive', 'initial learning rate': 0.0275306395503197}. Best is trial 35 with value: 0.642077616620933.\u001b[0m\n",
      "\u001b[32m[I 2021-12-13 00:22:33,489]\u001b[0m Trial 49 finished with value: 0.6384476675813406 and parameters: {'layers': 1, 'solver': 'lbfgs', 'neurons': 7, 'activation': 'logistic', 'learning rate': 'constant', 'initial learning rate': 0.03687077552966993}. Best is trial 35 with value: 0.642077616620933.\u001b[0m\n",
      "\u001b[32m[I 2021-12-13 00:23:10,877]\u001b[0m Trial 50 finished with value: 0.6304586436691494 and parameters: {'layers': 2, 'solver': 'lbfgs', 'neurons': 6, 'activation': 'identity', 'learning rate': 'adaptive', 'initial learning rate': 0.020495614484324305}. Best is trial 35 with value: 0.642077616620933.\u001b[0m\n",
      "\u001b[32m[I 2021-12-13 00:24:20,289]\u001b[0m Trial 51 finished with value: 0.6401019208153665 and parameters: {'layers': 1, 'solver': 'sgd', 'neurons': 9, 'activation': 'logistic', 'learning rate': 'adaptive', 'initial learning rate': 0.03190980364358179}. Best is trial 35 with value: 0.642077616620933.\u001b[0m\n",
      "\u001b[32m[I 2021-12-13 00:25:30,590]\u001b[0m Trial 52 finished with value: 0.6389337514700117 and parameters: {'layers': 1, 'solver': 'lbfgs', 'neurons': 11, 'activation': 'logistic', 'learning rate': 'adaptive', 'initial learning rate': 0.0400359190111914}. Best is trial 35 with value: 0.642077616620933.\u001b[0m\n",
      "\u001b[32m[I 2021-12-13 00:26:42,131]\u001b[0m Trial 53 finished with value: 0.640219521756174 and parameters: {'layers': 1, 'solver': 'sgd', 'neurons': 9, 'activation': 'logistic', 'learning rate': 'adaptive', 'initial learning rate': 0.028037408497633733}. Best is trial 35 with value: 0.642077616620933.\u001b[0m\n",
      "\u001b[32m[I 2021-12-13 00:26:50,444]\u001b[0m Trial 54 finished with value: 0.5 and parameters: {'layers': 1, 'solver': 'adam', 'neurons': 6, 'activation': 'relu', 'learning rate': 'adaptive', 'initial learning rate': 0.015832565019236026}. Best is trial 35 with value: 0.642077616620933.\u001b[0m\n",
      "\u001b[32m[I 2021-12-13 00:28:10,010]\u001b[0m Trial 55 finished with value: 0.6410035280282242 and parameters: {'layers': 1, 'solver': 'sgd', 'neurons': 32, 'activation': 'logistic', 'learning rate': 'adaptive', 'initial learning rate': 0.048175673918137527}. Best is trial 35 with value: 0.642077616620933.\u001b[0m\n",
      "\u001b[32m[I 2021-12-13 00:29:45,287]\u001b[0m Trial 56 finished with value: 0.6388318306546452 and parameters: {'layers': 1, 'solver': 'sgd', 'neurons': 31, 'activation': 'logistic', 'learning rate': 'adaptive', 'initial learning rate': 0.04841491164720835}. Best is trial 35 with value: 0.642077616620933.\u001b[0m\n",
      "\u001b[32m[I 2021-12-13 00:31:08,128]\u001b[0m Trial 57 finished with value: 0.6387612700901607 and parameters: {'layers': 1, 'solver': 'sgd', 'neurons': 29, 'activation': 'logistic', 'learning rate': 'adaptive', 'initial learning rate': 0.05194928908258793}. Best is trial 35 with value: 0.642077616620933.\u001b[0m\n",
      "\u001b[32m[I 2021-12-13 00:42:43,797]\u001b[0m Trial 58 finished with value: 0.6227440219521756 and parameters: {'layers': 1, 'solver': 'lbfgs', 'neurons': 23, 'activation': 'logistic', 'learning rate': 'adaptive', 'initial learning rate': 0.04466075817322117}. Best is trial 35 with value: 0.642077616620933.\u001b[0m\n",
      "\u001b[32m[I 2021-12-13 00:43:39,819]\u001b[0m Trial 59 finished with value: 0.6408702469619757 and parameters: {'layers': 1, 'solver': 'sgd', 'neurons': 3, 'activation': 'logistic', 'learning rate': 'adaptive', 'initial learning rate': 0.024194789209265138}. Best is trial 35 with value: 0.642077616620933.\u001b[0m\n",
      "\u001b[32m[I 2021-12-13 00:44:32,639]\u001b[0m Trial 60 finished with value: 0.6301293610348883 and parameters: {'layers': 1, 'solver': 'sgd', 'neurons': 3, 'activation': 'relu', 'learning rate': 'adaptive', 'initial learning rate': 0.023153056684111124}. Best is trial 35 with value: 0.642077616620933.\u001b[0m\n",
      "\u001b[32m[I 2021-12-13 00:45:21,609]\u001b[0m Trial 61 finished with value: 0.6391924735397884 and parameters: {'layers': 1, 'solver': 'sgd', 'neurons': 2, 'activation': 'logistic', 'learning rate': 'adaptive', 'initial learning rate': 0.04250165681913789}. Best is trial 35 with value: 0.642077616620933.\u001b[0m\n",
      "\u001b[32m[I 2021-12-13 00:46:13,405]\u001b[0m Trial 62 finished with value: 0.6406036848294786 and parameters: {'layers': 1, 'solver': 'sgd', 'neurons': 3, 'activation': 'logistic', 'learning rate': 'adaptive', 'initial learning rate': 0.03565707925542141}. Best is trial 35 with value: 0.642077616620933.\u001b[0m\n",
      "\u001b[32m[I 2021-12-13 00:47:08,798]\u001b[0m Trial 63 finished with value: 0.6411995295962367 and parameters: {'layers': 1, 'solver': 'sgd', 'neurons': 3, 'activation': 'logistic', 'learning rate': 'adaptive', 'initial learning rate': 0.03015863343420548}. Best is trial 35 with value: 0.642077616620933.\u001b[0m\n"
     ]
    },
    {
     "data": {
      "image/png": "[encoded data removed]",
      "text/plain": [
       "<Figure size 432x288 with 1 Axes>"
      ]
     },
     "metadata": {
      "needs_background": "light"
     },
     "output_type": "display_data"
    },
    {
     "data": {
      "text/plain": [
       "<sklearn.metrics._plot.confusion_matrix.ConfusionMatrixDisplay at 0x7f7b8deded30>"
      ]
     },
     "execution_count": 3,
     "metadata": {},
     "output_type": "execute_result"
    },
    {
     "data": {
      "text/plain": [
       "<Figure size 432x288 with 0 Axes>"
      ]
     },
     "metadata": {},
     "output_type": "display_data"
    },
    {
     "data": {
      "image/png": "[encoded data removed]",
      "text/plain": [
       "<Figure size 432x288 with 2 Axes>"
      ]
     },
     "metadata": {
      "needs_background": "light"
     },
     "output_type": "display_data"
    }
   ],
   "source": [
    "df_treino = treino_ina.drop(axis=1, labels=['IND_BOM_1_1', 'IND_BOM_1_2']).append(treino_adi.drop(axis=1, labels=['IND_BOM_1_1', 'IND_BOM_1_2']))\n",
    "df_teste = teste_ina.drop(['IND_BOM_1_2','IND_BOM_1_1'], axis=1).append(teste_adi.drop(['IND_BOM_1_2','IND_BOM_1_1'], axis=1))\n",
    "df_teste.drop(columns=['INDEX'], axis=1, inplace=True)\n",
    "df_validacao = valid_ina.drop(['IND_BOM_1_2','IND_BOM_1_1'], axis=1).append(valid_adi.drop(['IND_BOM_1_2','IND_BOM_1_1'], axis=1))\n",
    "df_validacao.drop(columns=['INDEX'], axis=1, inplace=True)\n",
    "\n",
    "best_mlp = []\n",
    "\n",
    "def mlp(trial):\n",
    "    layers              = trial.suggest_int('layers', 1, 2)\n",
    "    solver              = trial.suggest_categorical('solver', ['lbfgs', 'sgd', 'adam'])\n",
    "    neurons             = trial.suggest_int('neurons', 2, 32)\n",
    "    activation          = trial.suggest_categorical('activation', ['identity', 'logistic', 'tanh', 'relu'])\n",
    "    learning_rate       = trial.suggest_categorical('learning rate', ['constant', 'adaptive'])\n",
    "    learning_rate_init  = trial.suggest_float('initial learning rate', 0.001, 0.1)\n",
    "    mlp = MLPClassifier(random_state=1, \n",
    "                    max_iter=10000,\n",
    "                    solver=solver,\n",
    "                    activation=activation,\n",
    "                    learning_rate=learning_rate,\n",
    "                    hidden_layer_sizes=(neurons,) if layers==1 else (neurons, neurons),\n",
    "                    learning_rate_init=learning_rate_init, \n",
    "                    early_stopping=True).fit(df_treino, [0]*len(treino_ina)+[1]*len(treino_adi))\n",
    "\n",
    "    best_mlp.append(mlp)\n",
    "\n",
    "    mlp_pred_class = mlp.predict(df_validacao)\n",
    "    mlp_pred_scores = mlp.predict_proba(df_validacao)\n",
    "\n",
    "    accuracy, recall, precision, f1, auroc, aupr = compute_performance_metrics_sem_plot2([0]*len(valid_ina)+[1]*len(valid_adi), mlp_pred_class, mlp_pred_scores, \"MLP/MLP Trial {}\".format(trial.number))\n",
    "\n",
    "    return accuracy\n",
    "\n",
    "study_0 = optuna.create_study(direction=\"maximize\")\n",
    "study_0.optimize(mlp, n_trials=64)\n",
    "\n",
    "compute_performance_metrics([0]*len(teste_ina)+[1]*len(teste_adi), best_mlp[study_0.best_trial.number].predict(df_teste), best_mlp[study_0.best_trial.number].predict_proba(df_teste))\n",
    "plot_confusion_matrix(best_mlp[study_0.best_trial.number], df_teste, [0]*len(teste_ina)+[1]*len(teste_adi), normalize='true')"
   ]
  },
  {
   "cell_type": "markdown",
   "metadata": {},
   "source": [
    "#### Plot da matriz de confusão do melhor classificador dentre os testados acima"
   ]
  },
  {
   "cell_type": "markdown",
   "metadata": {},
   "source": [
    "### Resultados do MLP"
   ]
  },
  {
   "cell_type": "code",
   "execution_count": 4,
   "metadata": {},
   "outputs": [
    {
     "data": {
      "application/vnd.plotly.v1+json": {
       "config": {
        "plotlyServerURL": "https://plot.ly"
       },
       "data": [
        {
         "mode": "markers",
         "name": "Objective Value",
         "type": "scatter",
         "x": [
          0,
          1,
          2,
          3,
          4,
          5,
          6,
          7,
          8,
          9,
          10,
          11,
          12,
          13,
          14,
          15,
          16,
          17,
          18,
          19,
          20,
          21,
          22,
          23,
          24,
          25,
          26,
          27,
          28,
          29,
          30,
          31,
          32,
          33,
          34,
          35,
          36,
          37,
          38,
          39,
          40,
          41,
          42,
          43,
          44,
          45,
          46,
          47,
          48,
          49,
          50,
          51,
          52,
          53,
          54,
          55,
          56,
          57,
          58,
          59,
          60,
          61,
          62,
          63
         ],
         "y": [
          0.6264288514308114,
          0.6360721285770287,
          0.6304978439827519,
          0.6264602116816934,
          0.6238102704821639,
          0.6397255978047824,
          0.6279733437867503,
          0.6137201097608781,
          0.6260446883575068,
          0.6298784790278322,
          0.6386044688357507,
          0.6403684829478636,
          0.6304272834182674,
          0.6381732653861231,
          0.6386907095256762,
          0.6306781654253234,
          0.6389651117208938,
          0.639952959623677,
          0.6382203057624461,
          0.6390591924735398,
          0.6373814190513524,
          0.6339161113288906,
          0.6405331242649941,
          0.6391611132889063,
          0.6386358290866327,
          0.639890239121913,
          0.6405644845158761,
          0.6347785182281458,
          0.6391062328498628,
          0.6375695805566445,
          0.6395923167385339,
          0.6398667189337515,
          0.6409721677773422,
          0.6404782438259506,
          0.6400078400627205,
          0.642077616620933,
          0.6339239513916112,
          0.6151626813014505,
          0.6339239513916112,
          0.6213563308506468,
          0.6316268130145041,
          0.6339474715797726,
          0.6347785182281458,
          0.6411995295962367,
          0.6302391219129753,
          0.6289298314386516,
          0.6418502548020384,
          0.6389572716581733,
          0.6377577420619365,
          0.6384476675813406,
          0.6304586436691494,
          0.6401019208153665,
          0.6389337514700117,
          0.640219521756174,
          0.5,
          0.6410035280282242,
          0.6388318306546452,
          0.6387612700901607,
          0.6227440219521756,
          0.6408702469619757,
          0.6301293610348883,
          0.6391924735397884,
          0.6406036848294786,
          0.6411995295962367
         ]
        },
        {
         "name": "Best Value",
         "type": "scatter",
         "x": [
          0,
          1,
          2,
          3,
          4,
          5,
          6,
          7,
          8,
          9,
          10,
          11,
          12,
          13,
          14,
          15,
          16,
          17,
          18,
          19,
          20,
          21,
          22,
          23,
          24,
          25,
          26,
          27,
          28,
          29,
          30,
          31,
          32,
          33,
          34,
          35,
          36,
          37,
          38,
          39,
          40,
          41,
          42,
          43,
          44,
          45,
          46,
          47,
          48,
          49,
          50,
          51,
          52,
          53,
          54,
          55,
          56,
          57,
          58,
          59,
          60,
          61,
          62,
          63
         ],
         "y": [
          0.6264288514308114,
          0.6360721285770287,
          0.6360721285770287,
          0.6360721285770287,
          0.6360721285770287,
          0.6397255978047824,
          0.6397255978047824,
          0.6397255978047824,
          0.6397255978047824,
          0.6397255978047824,
          0.6397255978047824,
          0.6403684829478636,
          0.6403684829478636,
          0.6403684829478636,
          0.6403684829478636,
          0.6403684829478636,
          0.6403684829478636,
          0.6403684829478636,
          0.6403684829478636,
          0.6403684829478636,
          0.6403684829478636,
          0.6403684829478636,
          0.6405331242649941,
          0.6405331242649941,
          0.6405331242649941,
          0.6405331242649941,
          0.6405644845158761,
          0.6405644845158761,
          0.6405644845158761,
          0.6405644845158761,
          0.6405644845158761,
          0.6405644845158761,
          0.6409721677773422,
          0.6409721677773422,
          0.6409721677773422,
          0.642077616620933,
          0.642077616620933,
          0.642077616620933,
          0.642077616620933,
          0.642077616620933,
          0.642077616620933,
          0.642077616620933,
          0.642077616620933,
          0.642077616620933,
          0.642077616620933,
          0.642077616620933,
          0.642077616620933,
          0.642077616620933,
          0.642077616620933,
          0.642077616620933,
          0.642077616620933,
          0.642077616620933,
          0.642077616620933,
          0.642077616620933,
          0.642077616620933,
          0.642077616620933,
          0.642077616620933,
          0.642077616620933,
          0.642077616620933,
          0.642077616620933,
          0.642077616620933,
          0.642077616620933,
          0.642077616620933,
          0.642077616620933
         ]
        }
       ],
       "layout": {
        "template": {
         "data": {
          "bar": [
           {
            "error_x": {
             "color": "#2a3f5f"
            },
            "error_y": {
             "color": "#2a3f5f"
            },
            "marker": {
             "line": {
              "color": "#E5ECF6",
              "width": 0.5
             },
             "pattern": {
              "fillmode": "overlay",
              "size": 10,
              "solidity": 0.2
             }
            },
            "type": "bar"
           }
          ],
          "barpolar": [
           {
            "marker": {
             "line": {
              "color": "#E5ECF6",
              "width": 0.5
             },
             "pattern": {
              "fillmode": "overlay",
              "size": 10,
              "solidity": 0.2
             }
            },
            "type": "barpolar"
           }
          ],
          "carpet": [
           {
            "aaxis": {
             "endlinecolor": "#2a3f5f",
             "gridcolor": "white",
             "linecolor": "white",
             "minorgridcolor": "white",
             "startlinecolor": "#2a3f5f"
            },
            "baxis": {
             "endlinecolor": "#2a3f5f",
             "gridcolor": "white",
             "linecolor": "white",
             "minorgridcolor": "white",
             "startlinecolor": "#2a3f5f"
            },
            "type": "carpet"
           }
          ],
          "choropleth": [
           {
            "colorbar": {
             "outlinewidth": 0,
             "ticks": ""
            },
            "type": "choropleth"
           }
          ],
          "contour": [
           {
            "colorbar": {
             "outlinewidth": 0,
             "ticks": ""
            },
            "colorscale": [
             [
              0,
              "#0d0887"
             ],
             [
              0.1111111111111111,
              "#46039f"
             ],
             [
              0.2222222222222222,
              "#7201a8"
             ],
             [
              0.3333333333333333,
              "#9c179e"
             ],
             [
              0.4444444444444444,
              "#bd3786"
             ],
             [
              0.5555555555555556,
              "#d8576b"
             ],
             [
              0.6666666666666666,
              "#ed7953"
             ],
             [
              0.7777777777777778,
              "#fb9f3a"
             ],
             [
              0.8888888888888888,
              "#fdca26"
             ],
             [
              1,
              "#f0f921"
             ]
            ],
            "type": "contour"
           }
          ],
          "contourcarpet": [
           {
            "colorbar": {
             "outlinewidth": 0,
             "ticks": ""
            },
            "type": "contourcarpet"
           }
          ],
          "heatmap": [
           {
            "colorbar": {
             "outlinewidth": 0,
             "ticks": ""
            },
            "colorscale": [
             [
              0,
              "#0d0887"
             ],
             [
              0.1111111111111111,
              "#46039f"
             ],
             [
              0.2222222222222222,
              "#7201a8"
             ],
             [
              0.3333333333333333,
              "#9c179e"
             ],
             [
              0.4444444444444444,
              "#bd3786"
             ],
             [
              0.5555555555555556,
              "#d8576b"
             ],
             [
              0.6666666666666666,
              "#ed7953"
             ],
             [
              0.7777777777777778,
              "#fb9f3a"
             ],
             [
              0.8888888888888888,
              "#fdca26"
             ],
             [
              1,
              "#f0f921"
             ]
            ],
            "type": "heatmap"
           }
          ],
          "heatmapgl": [
           {
            "colorbar": {
             "outlinewidth": 0,
             "ticks": ""
            },
            "colorscale": [
             [
              0,
              "#0d0887"
             ],
             [
              0.1111111111111111,
              "#46039f"
             ],
             [
              0.2222222222222222,
              "#7201a8"
             ],
             [
              0.3333333333333333,
              "#9c179e"
             ],
             [
              0.4444444444444444,
              "#bd3786"
             ],
             [
              0.5555555555555556,
              "#d8576b"
             ],
             [
              0.6666666666666666,
              "#ed7953"
             ],
             [
              0.7777777777777778,
              "#fb9f3a"
             ],
             [
              0.8888888888888888,
              "#fdca26"
             ],
             [
              1,
              "#f0f921"
             ]
            ],
            "type": "heatmapgl"
           }
          ],
          "histogram": [
           {
            "marker": {
             "pattern": {
              "fillmode": "overlay",
              "size": 10,
              "solidity": 0.2
             }
            },
            "type": "histogram"
           }
          ],
          "histogram2d": [
           {
            "colorbar": {
             "outlinewidth": 0,
             "ticks": ""
            },
            "colorscale": [
             [
              0,
              "#0d0887"
             ],
             [
              0.1111111111111111,
              "#46039f"
             ],
             [
              0.2222222222222222,
              "#7201a8"
             ],
             [
              0.3333333333333333,
              "#9c179e"
             ],
             [
              0.4444444444444444,
              "#bd3786"
             ],
             [
              0.5555555555555556,
              "#d8576b"
             ],
             [
              0.6666666666666666,
              "#ed7953"
             ],
             [
              0.7777777777777778,
              "#fb9f3a"
             ],
             [
              0.8888888888888888,
              "#fdca26"
             ],
             [
              1,
              "#f0f921"
             ]
            ],
            "type": "histogram2d"
           }
          ],
          "histogram2dcontour": [
           {
            "colorbar": {
             "outlinewidth": 0,
             "ticks": ""
            },
            "colorscale": [
             [
              0,
              "#0d0887"
             ],
             [
              0.1111111111111111,
              "#46039f"
             ],
             [
              0.2222222222222222,
              "#7201a8"
             ],
             [
              0.3333333333333333,
              "#9c179e"
             ],
             [
              0.4444444444444444,
              "#bd3786"
             ],
             [
              0.5555555555555556,
              "#d8576b"
             ],
             [
              0.6666666666666666,
              "#ed7953"
             ],
             [
              0.7777777777777778,
              "#fb9f3a"
             ],
             [
              0.8888888888888888,
              "#fdca26"
             ],
             [
              1,
              "#f0f921"
             ]
            ],
            "type": "histogram2dcontour"
           }
          ],
          "mesh3d": [
           {
            "colorbar": {
             "outlinewidth": 0,
             "ticks": ""
            },
            "type": "mesh3d"
           }
          ],
          "parcoords": [
           {
            "line": {
             "colorbar": {
              "outlinewidth": 0,
              "ticks": ""
             }
            },
            "type": "parcoords"
           }
          ],
          "pie": [
           {
            "automargin": true,
            "type": "pie"
           }
          ],
          "scatter": [
           {
            "marker": {
             "colorbar": {
              "outlinewidth": 0,
              "ticks": ""
             }
            },
            "type": "scatter"
           }
          ],
          "scatter3d": [
           {
            "line": {
             "colorbar": {
              "outlinewidth": 0,
              "ticks": ""
             }
            },
            "marker": {
             "colorbar": {
              "outlinewidth": 0,
              "ticks": ""
             }
            },
            "type": "scatter3d"
           }
          ],
          "scattercarpet": [
           {
            "marker": {
             "colorbar": {
              "outlinewidth": 0,
              "ticks": ""
             }
            },
            "type": "scattercarpet"
           }
          ],
          "scattergeo": [
           {
            "marker": {
             "colorbar": {
              "outlinewidth": 0,
              "ticks": ""
             }
            },
            "type": "scattergeo"
           }
          ],
          "scattergl": [
           {
            "marker": {
             "colorbar": {
              "outlinewidth": 0,
              "ticks": ""
             }
            },
            "type": "scattergl"
           }
          ],
          "scattermapbox": [
           {
            "marker": {
             "colorbar": {
              "outlinewidth": 0,
              "ticks": ""
             }
            },
            "type": "scattermapbox"
           }
          ],
          "scatterpolar": [
           {
            "marker": {
             "colorbar": {
              "outlinewidth": 0,
              "ticks": ""
             }
            },
            "type": "scatterpolar"
           }
          ],
          "scatterpolargl": [
           {
            "marker": {
             "colorbar": {
              "outlinewidth": 0,
              "ticks": ""
             }
            },
            "type": "scatterpolargl"
           }
          ],
          "scatterternary": [
           {
            "marker": {
             "colorbar": {
              "outlinewidth": 0,
              "ticks": ""
             }
            },
            "type": "scatterternary"
           }
          ],
          "surface": [
           {
            "colorbar": {
             "outlinewidth": 0,
             "ticks": ""
            },
            "colorscale": [
             [
              0,
              "#0d0887"
             ],
             [
              0.1111111111111111,
              "#46039f"
             ],
             [
              0.2222222222222222,
              "#7201a8"
             ],
             [
              0.3333333333333333,
              "#9c179e"
             ],
             [
              0.4444444444444444,
              "#bd3786"
             ],
             [
              0.5555555555555556,
              "#d8576b"
             ],
             [
              0.6666666666666666,
              "#ed7953"
             ],
             [
              0.7777777777777778,
              "#fb9f3a"
             ],
             [
              0.8888888888888888,
              "#fdca26"
             ],
             [
              1,
              "#f0f921"
             ]
            ],
            "type": "surface"
           }
          ],
          "table": [
           {
            "cells": {
             "fill": {
              "color": "#EBF0F8"
             },
             "line": {
              "color": "white"
             }
            },
            "header": {
             "fill": {
              "color": "#C8D4E3"
             },
             "line": {
              "color": "white"
             }
            },
            "type": "table"
           }
          ]
         },
         "layout": {
          "annotationdefaults": {
           "arrowcolor": "#2a3f5f",
           "arrowhead": 0,
           "arrowwidth": 1
          },
          "autotypenumbers": "strict",
          "coloraxis": {
           "colorbar": {
            "outlinewidth": 0,
            "ticks": ""
           }
          },
          "colorscale": {
           "diverging": [
            [
             0,
             "#8e0152"
            ],
            [
             0.1,
             "#c51b7d"
            ],
            [
             0.2,
             "#de77ae"
            ],
            [
             0.3,
             "#f1b6da"
            ],
            [
             0.4,
             "#fde0ef"
            ],
            [
             0.5,
             "#f7f7f7"
            ],
            [
             0.6,
             "#e6f5d0"
            ],
            [
             0.7,
             "#b8e186"
            ],
            [
             0.8,
             "#7fbc41"
            ],
            [
             0.9,
             "#4d9221"
            ],
            [
             1,
             "#276419"
            ]
           ],
           "sequential": [
            [
             0,
             "#0d0887"
            ],
            [
             0.1111111111111111,
             "#46039f"
            ],
            [
             0.2222222222222222,
             "#7201a8"
            ],
            [
             0.3333333333333333,
             "#9c179e"
            ],
            [
             0.4444444444444444,
             "#bd3786"
            ],
            [
             0.5555555555555556,
             "#d8576b"
            ],
            [
             0.6666666666666666,
             "#ed7953"
            ],
            [
             0.7777777777777778,
             "#fb9f3a"
            ],
            [
             0.8888888888888888,
             "#fdca26"
            ],
            [
             1,
             "#f0f921"
            ]
           ],
           "sequentialminus": [
            [
             0,
             "#0d0887"
            ],
            [
             0.1111111111111111,
             "#46039f"
            ],
            [
             0.2222222222222222,
             "#7201a8"
            ],
            [
             0.3333333333333333,
             "#9c179e"
            ],
            [
             0.4444444444444444,
             "#bd3786"
            ],
            [
             0.5555555555555556,
             "#d8576b"
            ],
            [
             0.6666666666666666,
             "#ed7953"
            ],
            [
             0.7777777777777778,
             "#fb9f3a"
            ],
            [
             0.8888888888888888,
             "#fdca26"
            ],
            [
             1,
             "#f0f921"
            ]
           ]
          },
          "colorway": [
           "#636efa",
           "#EF553B",
           "#00cc96",
           "#ab63fa",
           "#FFA15A",
           "#19d3f3",
           "#FF6692",
           "#B6E880",
           "#FF97FF",
           "#FECB52"
          ],
          "font": {
           "color": "#2a3f5f"
          },
          "geo": {
           "bgcolor": "white",
           "lakecolor": "white",
           "landcolor": "#E5ECF6",
           "showlakes": true,
           "showland": true,
           "subunitcolor": "white"
          },
          "hoverlabel": {
           "align": "left"
          },
          "hovermode": "closest",
          "mapbox": {
           "style": "light"
          },
          "paper_bgcolor": "white",
          "plot_bgcolor": "#E5ECF6",
          "polar": {
           "angularaxis": {
            "gridcolor": "white",
            "linecolor": "white",
            "ticks": ""
           },
           "bgcolor": "#E5ECF6",
           "radialaxis": {
            "gridcolor": "white",
            "linecolor": "white",
            "ticks": ""
           }
          },
          "scene": {
           "xaxis": {
            "backgroundcolor": "#E5ECF6",
            "gridcolor": "white",
            "gridwidth": 2,
            "linecolor": "white",
            "showbackground": true,
            "ticks": "",
            "zerolinecolor": "white"
           },
           "yaxis": {
            "backgroundcolor": "#E5ECF6",
            "gridcolor": "white",
            "gridwidth": 2,
            "linecolor": "white",
            "showbackground": true,
            "ticks": "",
            "zerolinecolor": "white"
           },
           "zaxis": {
            "backgroundcolor": "#E5ECF6",
            "gridcolor": "white",
            "gridwidth": 2,
            "linecolor": "white",
            "showbackground": true,
            "ticks": "",
            "zerolinecolor": "white"
           }
          },
          "shapedefaults": {
           "line": {
            "color": "#2a3f5f"
           }
          },
          "ternary": {
           "aaxis": {
            "gridcolor": "white",
            "linecolor": "white",
            "ticks": ""
           },
           "baxis": {
            "gridcolor": "white",
            "linecolor": "white",
            "ticks": ""
           },
           "bgcolor": "#E5ECF6",
           "caxis": {
            "gridcolor": "white",
            "linecolor": "white",
            "ticks": ""
           }
          },
          "title": {
           "x": 0.05
          },
          "xaxis": {
           "automargin": true,
           "gridcolor": "white",
           "linecolor": "white",
           "ticks": "",
           "title": {
            "standoff": 15
           },
           "zerolinecolor": "white",
           "zerolinewidth": 2
          },
          "yaxis": {
           "automargin": true,
           "gridcolor": "white",
           "linecolor": "white",
           "ticks": "",
           "title": {
            "standoff": 15
           },
           "zerolinecolor": "white",
           "zerolinewidth": 2
          }
         }
        },
        "title": {
         "text": "Optimization History Plot"
        },
        "xaxis": {
         "title": {
          "text": "#Trials"
         }
        },
        "yaxis": {
         "title": {
          "text": "Objective Value"
         }
        }
       }
      }
     },
     "metadata": {},
     "output_type": "display_data"
    }
   ],
   "source": [
    "optuna.visualization.plot_optimization_history(study_0)"
   ]
  },
  {
   "cell_type": "code",
   "execution_count": 5,
   "metadata": {},
   "outputs": [
    {
     "data": {
      "application/vnd.plotly.v1+json": {
       "config": {
        "plotlyServerURL": "https://plot.ly"
       },
       "data": [
        {
         "marker": {
          "color": [
           0,
           1,
           2,
           3,
           4,
           5,
           6,
           7,
           8,
           9,
           10,
           11,
           12,
           13,
           14,
           15,
           16,
           17,
           18,
           19,
           20,
           21,
           22,
           23,
           24,
           25,
           26,
           27,
           28,
           29,
           30,
           31,
           32,
           33,
           34,
           35,
           36,
           37,
           38,
           39,
           40,
           41,
           42,
           43,
           44,
           45,
           46,
           47,
           48,
           49,
           50,
           51,
           52,
           53,
           54,
           55,
           56,
           57,
           58,
           59,
           60,
           61,
           62,
           63
          ],
          "colorbar": {
           "title": {
            "text": "#Trials"
           },
           "x": 1,
           "xpad": 40
          },
          "colorscale": [
           [
            0,
            "rgb(247,251,255)"
           ],
           [
            0.125,
            "rgb(222,235,247)"
           ],
           [
            0.25,
            "rgb(198,219,239)"
           ],
           [
            0.375,
            "rgb(158,202,225)"
           ],
           [
            0.5,
            "rgb(107,174,214)"
           ],
           [
            0.625,
            "rgb(66,146,198)"
           ],
           [
            0.75,
            "rgb(33,113,181)"
           ],
           [
            0.875,
            "rgb(8,81,156)"
           ],
           [
            1,
            "rgb(8,48,107)"
           ]
          ],
          "line": {
           "color": "Grey",
           "width": 0.5
          },
          "showscale": true
         },
         "mode": "markers",
         "showlegend": false,
         "type": "scatter",
         "x": [
          "logistic",
          "logistic",
          "identity",
          "logistic",
          "logistic",
          "logistic",
          "identity",
          "logistic",
          "identity",
          "identity",
          "tanh",
          "tanh",
          "relu",
          "tanh",
          "tanh",
          "relu",
          "tanh",
          "tanh",
          "tanh",
          "tanh",
          "tanh",
          "tanh",
          "logistic",
          "tanh",
          "relu",
          "tanh",
          "logistic",
          "logistic",
          "logistic",
          "logistic",
          "logistic",
          "logistic",
          "logistic",
          "logistic",
          "logistic",
          "logistic",
          "logistic",
          "logistic",
          "logistic",
          "logistic",
          "logistic",
          "logistic",
          "logistic",
          "logistic",
          "logistic",
          "identity",
          "logistic",
          "logistic",
          "logistic",
          "logistic",
          "identity",
          "logistic",
          "logistic",
          "logistic",
          "relu",
          "logistic",
          "logistic",
          "logistic",
          "logistic",
          "logistic",
          "relu",
          "logistic",
          "logistic",
          "logistic"
         ],
         "xaxis": "x",
         "y": [
          0.6264288514308114,
          0.6360721285770287,
          0.6304978439827519,
          0.6264602116816934,
          0.6238102704821639,
          0.6397255978047824,
          0.6279733437867503,
          0.6137201097608781,
          0.6260446883575068,
          0.6298784790278322,
          0.6386044688357507,
          0.6403684829478636,
          0.6304272834182674,
          0.6381732653861231,
          0.6386907095256762,
          0.6306781654253234,
          0.6389651117208938,
          0.639952959623677,
          0.6382203057624461,
          0.6390591924735398,
          0.6373814190513524,
          0.6339161113288906,
          0.6405331242649941,
          0.6391611132889063,
          0.6386358290866327,
          0.639890239121913,
          0.6405644845158761,
          0.6347785182281458,
          0.6391062328498628,
          0.6375695805566445,
          0.6395923167385339,
          0.6398667189337515,
          0.6409721677773422,
          0.6404782438259506,
          0.6400078400627205,
          0.642077616620933,
          0.6339239513916112,
          0.6151626813014505,
          0.6339239513916112,
          0.6213563308506468,
          0.6316268130145041,
          0.6339474715797726,
          0.6347785182281458,
          0.6411995295962367,
          0.6302391219129753,
          0.6289298314386516,
          0.6418502548020384,
          0.6389572716581733,
          0.6377577420619365,
          0.6384476675813406,
          0.6304586436691494,
          0.6401019208153665,
          0.6389337514700117,
          0.640219521756174,
          0.5,
          0.6410035280282242,
          0.6388318306546452,
          0.6387612700901607,
          0.6227440219521756,
          0.6408702469619757,
          0.6301293610348883,
          0.6391924735397884,
          0.6406036848294786,
          0.6411995295962367
         ],
         "yaxis": "y"
        },
        {
         "marker": {
          "color": [
           0,
           1,
           2,
           3,
           4,
           5,
           6,
           7,
           8,
           9,
           10,
           11,
           12,
           13,
           14,
           15,
           16,
           17,
           18,
           19,
           20,
           21,
           22,
           23,
           24,
           25,
           26,
           27,
           28,
           29,
           30,
           31,
           32,
           33,
           34,
           35,
           36,
           37,
           38,
           39,
           40,
           41,
           42,
           43,
           44,
           45,
           46,
           47,
           48,
           49,
           50,
           51,
           52,
           53,
           54,
           55,
           56,
           57,
           58,
           59,
           60,
           61,
           62,
           63
          ],
          "colorbar": {
           "title": {
            "text": "#Trials"
           },
           "x": 1,
           "xpad": 40
          },
          "colorscale": [
           [
            0,
            "rgb(247,251,255)"
           ],
           [
            0.125,
            "rgb(222,235,247)"
           ],
           [
            0.25,
            "rgb(198,219,239)"
           ],
           [
            0.375,
            "rgb(158,202,225)"
           ],
           [
            0.5,
            "rgb(107,174,214)"
           ],
           [
            0.625,
            "rgb(66,146,198)"
           ],
           [
            0.75,
            "rgb(33,113,181)"
           ],
           [
            0.875,
            "rgb(8,81,156)"
           ],
           [
            1,
            "rgb(8,48,107)"
           ]
          ],
          "line": {
           "color": "Grey",
           "width": 0.5
          },
          "showscale": false
         },
         "mode": "markers",
         "showlegend": false,
         "type": "scatter",
         "x": [
          0.09109204532809982,
          0.02671932906926546,
          0.03621666853560101,
          0.08231492707611938,
          0.05759457395850182,
          0.05073428158010421,
          0.09725322173179218,
          0.07493011350038593,
          0.08143607994406217,
          0.0029219374686136946,
          0.05601229348856481,
          0.058684739035340376,
          0.040036252787325935,
          0.06396536383373262,
          0.023461433443856032,
          0.046411131254829784,
          0.06814065309124875,
          0.01783685450605295,
          0.0019502841572633378,
          0.014819792680873717,
          0.010432296668493837,
          0.044787335905702504,
          0.03244903765068676,
          0.028660478797339396,
          0.01907698752783516,
          0.03232268086860157,
          0.038643117434869326,
          0.039904849524831816,
          0.05366628490571898,
          0.06339905039066138,
          0.04409202754598887,
          0.021911482787623882,
          0.009951325676263768,
          0.008408671743724755,
          0.007362889987935016,
          0.033070586613238195,
          0.0319077297544169,
          0.03450138547533955,
          0.02704411432849982,
          0.0399957916779562,
          0.049273331692431914,
          0.010854735220074064,
          0.00519559261136187,
          0.027330145261761467,
          0.03687419172854359,
          0.024662516355434302,
          0.028779074513895504,
          0.014650655662845234,
          0.0275306395503197,
          0.03687077552966993,
          0.020495614484324305,
          0.03190980364358179,
          0.0400359190111914,
          0.028037408497633733,
          0.015832565019236026,
          0.048175673918137527,
          0.04841491164720835,
          0.05194928908258793,
          0.04466075817322117,
          0.024194789209265138,
          0.023153056684111124,
          0.04250165681913789,
          0.03565707925542141,
          0.03015863343420548
         ],
         "xaxis": "x2",
         "y": [
          0.6264288514308114,
          0.6360721285770287,
          0.6304978439827519,
          0.6264602116816934,
          0.6238102704821639,
          0.6397255978047824,
          0.6279733437867503,
          0.6137201097608781,
          0.6260446883575068,
          0.6298784790278322,
          0.6386044688357507,
          0.6403684829478636,
          0.6304272834182674,
          0.6381732653861231,
          0.6386907095256762,
          0.6306781654253234,
          0.6389651117208938,
          0.639952959623677,
          0.6382203057624461,
          0.6390591924735398,
          0.6373814190513524,
          0.6339161113288906,
          0.6405331242649941,
          0.6391611132889063,
          0.6386358290866327,
          0.639890239121913,
          0.6405644845158761,
          0.6347785182281458,
          0.6391062328498628,
          0.6375695805566445,
          0.6395923167385339,
          0.6398667189337515,
          0.6409721677773422,
          0.6404782438259506,
          0.6400078400627205,
          0.642077616620933,
          0.6339239513916112,
          0.6151626813014505,
          0.6339239513916112,
          0.6213563308506468,
          0.6316268130145041,
          0.6339474715797726,
          0.6347785182281458,
          0.6411995295962367,
          0.6302391219129753,
          0.6289298314386516,
          0.6418502548020384,
          0.6389572716581733,
          0.6377577420619365,
          0.6384476675813406,
          0.6304586436691494,
          0.6401019208153665,
          0.6389337514700117,
          0.640219521756174,
          0.5,
          0.6410035280282242,
          0.6388318306546452,
          0.6387612700901607,
          0.6227440219521756,
          0.6408702469619757,
          0.6301293610348883,
          0.6391924735397884,
          0.6406036848294786,
          0.6411995295962367
         ],
         "yaxis": "y2"
        },
        {
         "marker": {
          "color": [
           0,
           1,
           2,
           3,
           4,
           5,
           6,
           7,
           8,
           9,
           10,
           11,
           12,
           13,
           14,
           15,
           16,
           17,
           18,
           19,
           20,
           21,
           22,
           23,
           24,
           25,
           26,
           27,
           28,
           29,
           30,
           31,
           32,
           33,
           34,
           35,
           36,
           37,
           38,
           39,
           40,
           41,
           42,
           43,
           44,
           45,
           46,
           47,
           48,
           49,
           50,
           51,
           52,
           53,
           54,
           55,
           56,
           57,
           58,
           59,
           60,
           61,
           62,
           63
          ],
          "colorbar": {
           "title": {
            "text": "#Trials"
           },
           "x": 1,
           "xpad": 40
          },
          "colorscale": [
           [
            0,
            "rgb(247,251,255)"
           ],
           [
            0.125,
            "rgb(222,235,247)"
           ],
           [
            0.25,
            "rgb(198,219,239)"
           ],
           [
            0.375,
            "rgb(158,202,225)"
           ],
           [
            0.5,
            "rgb(107,174,214)"
           ],
           [
            0.625,
            "rgb(66,146,198)"
           ],
           [
            0.75,
            "rgb(33,113,181)"
           ],
           [
            0.875,
            "rgb(8,81,156)"
           ],
           [
            1,
            "rgb(8,48,107)"
           ]
          ],
          "line": {
           "color": "Grey",
           "width": 0.5
          },
          "showscale": false
         },
         "mode": "markers",
         "showlegend": false,
         "type": "scatter",
         "x": [
          1,
          2,
          2,
          1,
          1,
          1,
          2,
          1,
          2,
          1,
          1,
          1,
          1,
          1,
          1,
          1,
          1,
          1,
          1,
          2,
          1,
          1,
          1,
          1,
          1,
          1,
          1,
          1,
          1,
          1,
          1,
          1,
          1,
          1,
          1,
          2,
          2,
          2,
          2,
          2,
          2,
          1,
          1,
          1,
          2,
          1,
          1,
          1,
          1,
          1,
          2,
          1,
          1,
          1,
          1,
          1,
          1,
          1,
          1,
          1,
          1,
          1,
          1,
          1
         ],
         "xaxis": "x3",
         "y": [
          0.6264288514308114,
          0.6360721285770287,
          0.6304978439827519,
          0.6264602116816934,
          0.6238102704821639,
          0.6397255978047824,
          0.6279733437867503,
          0.6137201097608781,
          0.6260446883575068,
          0.6298784790278322,
          0.6386044688357507,
          0.6403684829478636,
          0.6304272834182674,
          0.6381732653861231,
          0.6386907095256762,
          0.6306781654253234,
          0.6389651117208938,
          0.639952959623677,
          0.6382203057624461,
          0.6390591924735398,
          0.6373814190513524,
          0.6339161113288906,
          0.6405331242649941,
          0.6391611132889063,
          0.6386358290866327,
          0.639890239121913,
          0.6405644845158761,
          0.6347785182281458,
          0.6391062328498628,
          0.6375695805566445,
          0.6395923167385339,
          0.6398667189337515,
          0.6409721677773422,
          0.6404782438259506,
          0.6400078400627205,
          0.642077616620933,
          0.6339239513916112,
          0.6151626813014505,
          0.6339239513916112,
          0.6213563308506468,
          0.6316268130145041,
          0.6339474715797726,
          0.6347785182281458,
          0.6411995295962367,
          0.6302391219129753,
          0.6289298314386516,
          0.6418502548020384,
          0.6389572716581733,
          0.6377577420619365,
          0.6384476675813406,
          0.6304586436691494,
          0.6401019208153665,
          0.6389337514700117,
          0.640219521756174,
          0.5,
          0.6410035280282242,
          0.6388318306546452,
          0.6387612700901607,
          0.6227440219521756,
          0.6408702469619757,
          0.6301293610348883,
          0.6391924735397884,
          0.6406036848294786,
          0.6411995295962367
         ],
         "yaxis": "y3"
        },
        {
         "marker": {
          "color": [
           0,
           1,
           2,
           3,
           4,
           5,
           6,
           7,
           8,
           9,
           10,
           11,
           12,
           13,
           14,
           15,
           16,
           17,
           18,
           19,
           20,
           21,
           22,
           23,
           24,
           25,
           26,
           27,
           28,
           29,
           30,
           31,
           32,
           33,
           34,
           35,
           36,
           37,
           38,
           39,
           40,
           41,
           42,
           43,
           44,
           45,
           46,
           47,
           48,
           49,
           50,
           51,
           52,
           53,
           54,
           55,
           56,
           57,
           58,
           59,
           60,
           61,
           62,
           63
          ],
          "colorbar": {
           "title": {
            "text": "#Trials"
           },
           "x": 1,
           "xpad": 40
          },
          "colorscale": [
           [
            0,
            "rgb(247,251,255)"
           ],
           [
            0.125,
            "rgb(222,235,247)"
           ],
           [
            0.25,
            "rgb(198,219,239)"
           ],
           [
            0.375,
            "rgb(158,202,225)"
           ],
           [
            0.5,
            "rgb(107,174,214)"
           ],
           [
            0.625,
            "rgb(66,146,198)"
           ],
           [
            0.75,
            "rgb(33,113,181)"
           ],
           [
            0.875,
            "rgb(8,81,156)"
           ],
           [
            1,
            "rgb(8,48,107)"
           ]
          ],
          "line": {
           "color": "Grey",
           "width": 0.5
          },
          "showscale": false
         },
         "mode": "markers",
         "showlegend": false,
         "type": "scatter",
         "x": [
          "constant",
          "constant",
          "adaptive",
          "constant",
          "constant",
          "adaptive",
          "constant",
          "constant",
          "adaptive",
          "adaptive",
          "adaptive",
          "adaptive",
          "adaptive",
          "adaptive",
          "adaptive",
          "adaptive",
          "adaptive",
          "adaptive",
          "adaptive",
          "adaptive",
          "adaptive",
          "adaptive",
          "adaptive",
          "adaptive",
          "adaptive",
          "adaptive",
          "adaptive",
          "adaptive",
          "adaptive",
          "adaptive",
          "adaptive",
          "adaptive",
          "adaptive",
          "adaptive",
          "adaptive",
          "constant",
          "constant",
          "constant",
          "constant",
          "constant",
          "constant",
          "constant",
          "constant",
          "adaptive",
          "constant",
          "adaptive",
          "adaptive",
          "adaptive",
          "adaptive",
          "constant",
          "adaptive",
          "adaptive",
          "adaptive",
          "adaptive",
          "adaptive",
          "adaptive",
          "adaptive",
          "adaptive",
          "adaptive",
          "adaptive",
          "adaptive",
          "adaptive",
          "adaptive",
          "adaptive"
         ],
         "xaxis": "x4",
         "y": [
          0.6264288514308114,
          0.6360721285770287,
          0.6304978439827519,
          0.6264602116816934,
          0.6238102704821639,
          0.6397255978047824,
          0.6279733437867503,
          0.6137201097608781,
          0.6260446883575068,
          0.6298784790278322,
          0.6386044688357507,
          0.6403684829478636,
          0.6304272834182674,
          0.6381732653861231,
          0.6386907095256762,
          0.6306781654253234,
          0.6389651117208938,
          0.639952959623677,
          0.6382203057624461,
          0.6390591924735398,
          0.6373814190513524,
          0.6339161113288906,
          0.6405331242649941,
          0.6391611132889063,
          0.6386358290866327,
          0.639890239121913,
          0.6405644845158761,
          0.6347785182281458,
          0.6391062328498628,
          0.6375695805566445,
          0.6395923167385339,
          0.6398667189337515,
          0.6409721677773422,
          0.6404782438259506,
          0.6400078400627205,
          0.642077616620933,
          0.6339239513916112,
          0.6151626813014505,
          0.6339239513916112,
          0.6213563308506468,
          0.6316268130145041,
          0.6339474715797726,
          0.6347785182281458,
          0.6411995295962367,
          0.6302391219129753,
          0.6289298314386516,
          0.6418502548020384,
          0.6389572716581733,
          0.6377577420619365,
          0.6384476675813406,
          0.6304586436691494,
          0.6401019208153665,
          0.6389337514700117,
          0.640219521756174,
          0.5,
          0.6410035280282242,
          0.6388318306546452,
          0.6387612700901607,
          0.6227440219521756,
          0.6408702469619757,
          0.6301293610348883,
          0.6391924735397884,
          0.6406036848294786,
          0.6411995295962367
         ],
         "yaxis": "y4"
        },
        {
         "marker": {
          "color": [
           0,
           1,
           2,
           3,
           4,
           5,
           6,
           7,
           8,
           9,
           10,
           11,
           12,
           13,
           14,
           15,
           16,
           17,
           18,
           19,
           20,
           21,
           22,
           23,
           24,
           25,
           26,
           27,
           28,
           29,
           30,
           31,
           32,
           33,
           34,
           35,
           36,
           37,
           38,
           39,
           40,
           41,
           42,
           43,
           44,
           45,
           46,
           47,
           48,
           49,
           50,
           51,
           52,
           53,
           54,
           55,
           56,
           57,
           58,
           59,
           60,
           61,
           62,
           63
          ],
          "colorbar": {
           "title": {
            "text": "#Trials"
           },
           "x": 1,
           "xpad": 40
          },
          "colorscale": [
           [
            0,
            "rgb(247,251,255)"
           ],
           [
            0.125,
            "rgb(222,235,247)"
           ],
           [
            0.25,
            "rgb(198,219,239)"
           ],
           [
            0.375,
            "rgb(158,202,225)"
           ],
           [
            0.5,
            "rgb(107,174,214)"
           ],
           [
            0.625,
            "rgb(66,146,198)"
           ],
           [
            0.75,
            "rgb(33,113,181)"
           ],
           [
            0.875,
            "rgb(8,81,156)"
           ],
           [
            1,
            "rgb(8,48,107)"
           ]
          ],
          "line": {
           "color": "Grey",
           "width": 0.5
          },
          "showscale": false
         },
         "mode": "markers",
         "showlegend": false,
         "type": "scatter",
         "x": [
          18,
          15,
          12,
          21,
          13,
          14,
          25,
          24,
          26,
          31,
          2,
          3,
          2,
          7,
          8,
          6,
          10,
          4,
          4,
          2,
          5,
          18,
          10,
          10,
          9,
          4,
          11,
          12,
          16,
          20,
          10,
          7,
          4,
          11,
          15,
          11,
          13,
          17,
          13,
          15,
          8,
          11,
          12,
          11,
          14,
          20,
          6,
          5,
          8,
          7,
          6,
          9,
          11,
          9,
          6,
          32,
          31,
          29,
          23,
          3,
          3,
          2,
          3,
          3
         ],
         "xaxis": "x5",
         "y": [
          0.6264288514308114,
          0.6360721285770287,
          0.6304978439827519,
          0.6264602116816934,
          0.6238102704821639,
          0.6397255978047824,
          0.6279733437867503,
          0.6137201097608781,
          0.6260446883575068,
          0.6298784790278322,
          0.6386044688357507,
          0.6403684829478636,
          0.6304272834182674,
          0.6381732653861231,
          0.6386907095256762,
          0.6306781654253234,
          0.6389651117208938,
          0.639952959623677,
          0.6382203057624461,
          0.6390591924735398,
          0.6373814190513524,
          0.6339161113288906,
          0.6405331242649941,
          0.6391611132889063,
          0.6386358290866327,
          0.639890239121913,
          0.6405644845158761,
          0.6347785182281458,
          0.6391062328498628,
          0.6375695805566445,
          0.6395923167385339,
          0.6398667189337515,
          0.6409721677773422,
          0.6404782438259506,
          0.6400078400627205,
          0.642077616620933,
          0.6339239513916112,
          0.6151626813014505,
          0.6339239513916112,
          0.6213563308506468,
          0.6316268130145041,
          0.6339474715797726,
          0.6347785182281458,
          0.6411995295962367,
          0.6302391219129753,
          0.6289298314386516,
          0.6418502548020384,
          0.6389572716581733,
          0.6377577420619365,
          0.6384476675813406,
          0.6304586436691494,
          0.6401019208153665,
          0.6389337514700117,
          0.640219521756174,
          0.5,
          0.6410035280282242,
          0.6388318306546452,
          0.6387612700901607,
          0.6227440219521756,
          0.6408702469619757,
          0.6301293610348883,
          0.6391924735397884,
          0.6406036848294786,
          0.6411995295962367
         ],
         "yaxis": "y5"
        },
        {
         "marker": {
          "color": [
           0,
           1,
           2,
           3,
           4,
           5,
           6,
           7,
           8,
           9,
           10,
           11,
           12,
           13,
           14,
           15,
           16,
           17,
           18,
           19,
           20,
           21,
           22,
           23,
           24,
           25,
           26,
           27,
           28,
           29,
           30,
           31,
           32,
           33,
           34,
           35,
           36,
           37,
           38,
           39,
           40,
           41,
           42,
           43,
           44,
           45,
           46,
           47,
           48,
           49,
           50,
           51,
           52,
           53,
           54,
           55,
           56,
           57,
           58,
           59,
           60,
           61,
           62,
           63
          ],
          "colorbar": {
           "title": {
            "text": "#Trials"
           },
           "x": 1,
           "xpad": 40
          },
          "colorscale": [
           [
            0,
            "rgb(247,251,255)"
           ],
           [
            0.125,
            "rgb(222,235,247)"
           ],
           [
            0.25,
            "rgb(198,219,239)"
           ],
           [
            0.375,
            "rgb(158,202,225)"
           ],
           [
            0.5,
            "rgb(107,174,214)"
           ],
           [
            0.625,
            "rgb(66,146,198)"
           ],
           [
            0.75,
            "rgb(33,113,181)"
           ],
           [
            0.875,
            "rgb(8,81,156)"
           ],
           [
            1,
            "rgb(8,48,107)"
           ]
          ],
          "line": {
           "color": "Grey",
           "width": 0.5
          },
          "showscale": false
         },
         "mode": "markers",
         "showlegend": false,
         "type": "scatter",
         "x": [
          "adam",
          "adam",
          "lbfgs",
          "adam",
          "lbfgs",
          "sgd",
          "adam",
          "lbfgs",
          "adam",
          "adam",
          "sgd",
          "sgd",
          "sgd",
          "sgd",
          "sgd",
          "sgd",
          "sgd",
          "sgd",
          "sgd",
          "sgd",
          "sgd",
          "sgd",
          "sgd",
          "sgd",
          "sgd",
          "sgd",
          "sgd",
          "lbfgs",
          "sgd",
          "sgd",
          "sgd",
          "sgd",
          "sgd",
          "sgd",
          "sgd",
          "lbfgs",
          "lbfgs",
          "lbfgs",
          "lbfgs",
          "lbfgs",
          "lbfgs",
          "adam",
          "lbfgs",
          "sgd",
          "adam",
          "sgd",
          "lbfgs",
          "lbfgs",
          "lbfgs",
          "lbfgs",
          "lbfgs",
          "sgd",
          "lbfgs",
          "sgd",
          "adam",
          "sgd",
          "sgd",
          "sgd",
          "lbfgs",
          "sgd",
          "sgd",
          "sgd",
          "sgd",
          "sgd"
         ],
         "xaxis": "x6",
         "y": [
          0.6264288514308114,
          0.6360721285770287,
          0.6304978439827519,
          0.6264602116816934,
          0.6238102704821639,
          0.6397255978047824,
          0.6279733437867503,
          0.6137201097608781,
          0.6260446883575068,
          0.6298784790278322,
          0.6386044688357507,
          0.6403684829478636,
          0.6304272834182674,
          0.6381732653861231,
          0.6386907095256762,
          0.6306781654253234,
          0.6389651117208938,
          0.639952959623677,
          0.6382203057624461,
          0.6390591924735398,
          0.6373814190513524,
          0.6339161113288906,
          0.6405331242649941,
          0.6391611132889063,
          0.6386358290866327,
          0.639890239121913,
          0.6405644845158761,
          0.6347785182281458,
          0.6391062328498628,
          0.6375695805566445,
          0.6395923167385339,
          0.6398667189337515,
          0.6409721677773422,
          0.6404782438259506,
          0.6400078400627205,
          0.642077616620933,
          0.6339239513916112,
          0.6151626813014505,
          0.6339239513916112,
          0.6213563308506468,
          0.6316268130145041,
          0.6339474715797726,
          0.6347785182281458,
          0.6411995295962367,
          0.6302391219129753,
          0.6289298314386516,
          0.6418502548020384,
          0.6389572716581733,
          0.6377577420619365,
          0.6384476675813406,
          0.6304586436691494,
          0.6401019208153665,
          0.6389337514700117,
          0.640219521756174,
          0.5,
          0.6410035280282242,
          0.6388318306546452,
          0.6387612700901607,
          0.6227440219521756,
          0.6408702469619757,
          0.6301293610348883,
          0.6391924735397884,
          0.6406036848294786,
          0.6411995295962367
         ],
         "yaxis": "y6"
        }
       ],
       "layout": {
        "template": {
         "data": {
          "bar": [
           {
            "error_x": {
             "color": "#2a3f5f"
            },
            "error_y": {
             "color": "#2a3f5f"
            },
            "marker": {
             "line": {
              "color": "#E5ECF6",
              "width": 0.5
             },
             "pattern": {
              "fillmode": "overlay",
              "size": 10,
              "solidity": 0.2
             }
            },
            "type": "bar"
           }
          ],
          "barpolar": [
           {
            "marker": {
             "line": {
              "color": "#E5ECF6",
              "width": 0.5
             },
             "pattern": {
              "fillmode": "overlay",
              "size": 10,
              "solidity": 0.2
             }
            },
            "type": "barpolar"
           }
          ],
          "carpet": [
           {
            "aaxis": {
             "endlinecolor": "#2a3f5f",
             "gridcolor": "white",
             "linecolor": "white",
             "minorgridcolor": "white",
             "startlinecolor": "#2a3f5f"
            },
            "baxis": {
             "endlinecolor": "#2a3f5f",
             "gridcolor": "white",
             "linecolor": "white",
             "minorgridcolor": "white",
             "startlinecolor": "#2a3f5f"
            },
            "type": "carpet"
           }
          ],
          "choropleth": [
           {
            "colorbar": {
             "outlinewidth": 0,
             "ticks": ""
            },
            "type": "choropleth"
           }
          ],
          "contour": [
           {
            "colorbar": {
             "outlinewidth": 0,
             "ticks": ""
            },
            "colorscale": [
             [
              0,
              "#0d0887"
             ],
             [
              0.1111111111111111,
              "#46039f"
             ],
             [
              0.2222222222222222,
              "#7201a8"
             ],
             [
              0.3333333333333333,
              "#9c179e"
             ],
             [
              0.4444444444444444,
              "#bd3786"
             ],
             [
              0.5555555555555556,
              "#d8576b"
             ],
             [
              0.6666666666666666,
              "#ed7953"
             ],
             [
              0.7777777777777778,
              "#fb9f3a"
             ],
             [
              0.8888888888888888,
              "#fdca26"
             ],
             [
              1,
              "#f0f921"
             ]
            ],
            "type": "contour"
           }
          ],
          "contourcarpet": [
           {
            "colorbar": {
             "outlinewidth": 0,
             "ticks": ""
            },
            "type": "contourcarpet"
           }
          ],
          "heatmap": [
           {
            "colorbar": {
             "outlinewidth": 0,
             "ticks": ""
            },
            "colorscale": [
             [
              0,
              "#0d0887"
             ],
             [
              0.1111111111111111,
              "#46039f"
             ],
             [
              0.2222222222222222,
              "#7201a8"
             ],
             [
              0.3333333333333333,
              "#9c179e"
             ],
             [
              0.4444444444444444,
              "#bd3786"
             ],
             [
              0.5555555555555556,
              "#d8576b"
             ],
             [
              0.6666666666666666,
              "#ed7953"
             ],
             [
              0.7777777777777778,
              "#fb9f3a"
             ],
             [
              0.8888888888888888,
              "#fdca26"
             ],
             [
              1,
              "#f0f921"
             ]
            ],
            "type": "heatmap"
           }
          ],
          "heatmapgl": [
           {
            "colorbar": {
             "outlinewidth": 0,
             "ticks": ""
            },
            "colorscale": [
             [
              0,
              "#0d0887"
             ],
             [
              0.1111111111111111,
              "#46039f"
             ],
             [
              0.2222222222222222,
              "#7201a8"
             ],
             [
              0.3333333333333333,
              "#9c179e"
             ],
             [
              0.4444444444444444,
              "#bd3786"
             ],
             [
              0.5555555555555556,
              "#d8576b"
             ],
             [
              0.6666666666666666,
              "#ed7953"
             ],
             [
              0.7777777777777778,
              "#fb9f3a"
             ],
             [
              0.8888888888888888,
              "#fdca26"
             ],
             [
              1,
              "#f0f921"
             ]
            ],
            "type": "heatmapgl"
           }
          ],
          "histogram": [
           {
            "marker": {
             "pattern": {
              "fillmode": "overlay",
              "size": 10,
              "solidity": 0.2
             }
            },
            "type": "histogram"
           }
          ],
          "histogram2d": [
           {
            "colorbar": {
             "outlinewidth": 0,
             "ticks": ""
            },
            "colorscale": [
             [
              0,
              "#0d0887"
             ],
             [
              0.1111111111111111,
              "#46039f"
             ],
             [
              0.2222222222222222,
              "#7201a8"
             ],
             [
              0.3333333333333333,
              "#9c179e"
             ],
             [
              0.4444444444444444,
              "#bd3786"
             ],
             [
              0.5555555555555556,
              "#d8576b"
             ],
             [
              0.6666666666666666,
              "#ed7953"
             ],
             [
              0.7777777777777778,
              "#fb9f3a"
             ],
             [
              0.8888888888888888,
              "#fdca26"
             ],
             [
              1,
              "#f0f921"
             ]
            ],
            "type": "histogram2d"
           }
          ],
          "histogram2dcontour": [
           {
            "colorbar": {
             "outlinewidth": 0,
             "ticks": ""
            },
            "colorscale": [
             [
              0,
              "#0d0887"
             ],
             [
              0.1111111111111111,
              "#46039f"
             ],
             [
              0.2222222222222222,
              "#7201a8"
             ],
             [
              0.3333333333333333,
              "#9c179e"
             ],
             [
              0.4444444444444444,
              "#bd3786"
             ],
             [
              0.5555555555555556,
              "#d8576b"
             ],
             [
              0.6666666666666666,
              "#ed7953"
             ],
             [
              0.7777777777777778,
              "#fb9f3a"
             ],
             [
              0.8888888888888888,
              "#fdca26"
             ],
             [
              1,
              "#f0f921"
             ]
            ],
            "type": "histogram2dcontour"
           }
          ],
          "mesh3d": [
           {
            "colorbar": {
             "outlinewidth": 0,
             "ticks": ""
            },
            "type": "mesh3d"
           }
          ],
          "parcoords": [
           {
            "line": {
             "colorbar": {
              "outlinewidth": 0,
              "ticks": ""
             }
            },
            "type": "parcoords"
           }
          ],
          "pie": [
           {
            "automargin": true,
            "type": "pie"
           }
          ],
          "scatter": [
           {
            "marker": {
             "colorbar": {
              "outlinewidth": 0,
              "ticks": ""
             }
            },
            "type": "scatter"
           }
          ],
          "scatter3d": [
           {
            "line": {
             "colorbar": {
              "outlinewidth": 0,
              "ticks": ""
             }
            },
            "marker": {
             "colorbar": {
              "outlinewidth": 0,
              "ticks": ""
             }
            },
            "type": "scatter3d"
           }
          ],
          "scattercarpet": [
           {
            "marker": {
             "colorbar": {
              "outlinewidth": 0,
              "ticks": ""
             }
            },
            "type": "scattercarpet"
           }
          ],
          "scattergeo": [
           {
            "marker": {
             "colorbar": {
              "outlinewidth": 0,
              "ticks": ""
             }
            },
            "type": "scattergeo"
           }
          ],
          "scattergl": [
           {
            "marker": {
             "colorbar": {
              "outlinewidth": 0,
              "ticks": ""
             }
            },
            "type": "scattergl"
           }
          ],
          "scattermapbox": [
           {
            "marker": {
             "colorbar": {
              "outlinewidth": 0,
              "ticks": ""
             }
            },
            "type": "scattermapbox"
           }
          ],
          "scatterpolar": [
           {
            "marker": {
             "colorbar": {
              "outlinewidth": 0,
              "ticks": ""
             }
            },
            "type": "scatterpolar"
           }
          ],
          "scatterpolargl": [
           {
            "marker": {
             "colorbar": {
              "outlinewidth": 0,
              "ticks": ""
             }
            },
            "type": "scatterpolargl"
           }
          ],
          "scatterternary": [
           {
            "marker": {
             "colorbar": {
              "outlinewidth": 0,
              "ticks": ""
             }
            },
            "type": "scatterternary"
           }
          ],
          "surface": [
           {
            "colorbar": {
             "outlinewidth": 0,
             "ticks": ""
            },
            "colorscale": [
             [
              0,
              "#0d0887"
             ],
             [
              0.1111111111111111,
              "#46039f"
             ],
             [
              0.2222222222222222,
              "#7201a8"
             ],
             [
              0.3333333333333333,
              "#9c179e"
             ],
             [
              0.4444444444444444,
              "#bd3786"
             ],
             [
              0.5555555555555556,
              "#d8576b"
             ],
             [
              0.6666666666666666,
              "#ed7953"
             ],
             [
              0.7777777777777778,
              "#fb9f3a"
             ],
             [
              0.8888888888888888,
              "#fdca26"
             ],
             [
              1,
              "#f0f921"
             ]
            ],
            "type": "surface"
           }
          ],
          "table": [
           {
            "cells": {
             "fill": {
              "color": "#EBF0F8"
             },
             "line": {
              "color": "white"
             }
            },
            "header": {
             "fill": {
              "color": "#C8D4E3"
             },
             "line": {
              "color": "white"
             }
            },
            "type": "table"
           }
          ]
         },
         "layout": {
          "annotationdefaults": {
           "arrowcolor": "#2a3f5f",
           "arrowhead": 0,
           "arrowwidth": 1
          },
          "autotypenumbers": "strict",
          "coloraxis": {
           "colorbar": {
            "outlinewidth": 0,
            "ticks": ""
           }
          },
          "colorscale": {
           "diverging": [
            [
             0,
             "#8e0152"
            ],
            [
             0.1,
             "#c51b7d"
            ],
            [
             0.2,
             "#de77ae"
            ],
            [
             0.3,
             "#f1b6da"
            ],
            [
             0.4,
             "#fde0ef"
            ],
            [
             0.5,
             "#f7f7f7"
            ],
            [
             0.6,
             "#e6f5d0"
            ],
            [
             0.7,
             "#b8e186"
            ],
            [
             0.8,
             "#7fbc41"
            ],
            [
             0.9,
             "#4d9221"
            ],
            [
             1,
             "#276419"
            ]
           ],
           "sequential": [
            [
             0,
             "#0d0887"
            ],
            [
             0.1111111111111111,
             "#46039f"
            ],
            [
             0.2222222222222222,
             "#7201a8"
            ],
            [
             0.3333333333333333,
             "#9c179e"
            ],
            [
             0.4444444444444444,
             "#bd3786"
            ],
            [
             0.5555555555555556,
             "#d8576b"
            ],
            [
             0.6666666666666666,
             "#ed7953"
            ],
            [
             0.7777777777777778,
             "#fb9f3a"
            ],
            [
             0.8888888888888888,
             "#fdca26"
            ],
            [
             1,
             "#f0f921"
            ]
           ],
           "sequentialminus": [
            [
             0,
             "#0d0887"
            ],
            [
             0.1111111111111111,
             "#46039f"
            ],
            [
             0.2222222222222222,
             "#7201a8"
            ],
            [
             0.3333333333333333,
             "#9c179e"
            ],
            [
             0.4444444444444444,
             "#bd3786"
            ],
            [
             0.5555555555555556,
             "#d8576b"
            ],
            [
             0.6666666666666666,
             "#ed7953"
            ],
            [
             0.7777777777777778,
             "#fb9f3a"
            ],
            [
             0.8888888888888888,
             "#fdca26"
            ],
            [
             1,
             "#f0f921"
            ]
           ]
          },
          "colorway": [
           "#636efa",
           "#EF553B",
           "#00cc96",
           "#ab63fa",
           "#FFA15A",
           "#19d3f3",
           "#FF6692",
           "#B6E880",
           "#FF97FF",
           "#FECB52"
          ],
          "font": {
           "color": "#2a3f5f"
          },
          "geo": {
           "bgcolor": "white",
           "lakecolor": "white",
           "landcolor": "#E5ECF6",
           "showlakes": true,
           "showland": true,
           "subunitcolor": "white"
          },
          "hoverlabel": {
           "align": "left"
          },
          "hovermode": "closest",
          "mapbox": {
           "style": "light"
          },
          "paper_bgcolor": "white",
          "plot_bgcolor": "#E5ECF6",
          "polar": {
           "angularaxis": {
            "gridcolor": "white",
            "linecolor": "white",
            "ticks": ""
           },
           "bgcolor": "#E5ECF6",
           "radialaxis": {
            "gridcolor": "white",
            "linecolor": "white",
            "ticks": ""
           }
          },
          "scene": {
           "xaxis": {
            "backgroundcolor": "#E5ECF6",
            "gridcolor": "white",
            "gridwidth": 2,
            "linecolor": "white",
            "showbackground": true,
            "ticks": "",
            "zerolinecolor": "white"
           },
           "yaxis": {
            "backgroundcolor": "#E5ECF6",
            "gridcolor": "white",
            "gridwidth": 2,
            "linecolor": "white",
            "showbackground": true,
            "ticks": "",
            "zerolinecolor": "white"
           },
           "zaxis": {
            "backgroundcolor": "#E5ECF6",
            "gridcolor": "white",
            "gridwidth": 2,
            "linecolor": "white",
            "showbackground": true,
            "ticks": "",
            "zerolinecolor": "white"
           }
          },
          "shapedefaults": {
           "line": {
            "color": "#2a3f5f"
           }
          },
          "ternary": {
           "aaxis": {
            "gridcolor": "white",
            "linecolor": "white",
            "ticks": ""
           },
           "baxis": {
            "gridcolor": "white",
            "linecolor": "white",
            "ticks": ""
           },
           "bgcolor": "#E5ECF6",
           "caxis": {
            "gridcolor": "white",
            "linecolor": "white",
            "ticks": ""
           }
          },
          "title": {
           "x": 0.05
          },
          "xaxis": {
           "automargin": true,
           "gridcolor": "white",
           "linecolor": "white",
           "ticks": "",
           "title": {
            "standoff": 15
           },
           "zerolinecolor": "white",
           "zerolinewidth": 2
          },
          "yaxis": {
           "automargin": true,
           "gridcolor": "white",
           "linecolor": "white",
           "ticks": "",
           "title": {
            "standoff": 15
           },
           "zerolinecolor": "white",
           "zerolinewidth": 2
          }
         }
        },
        "title": {
         "text": "Slice Plot"
        },
        "width": 1800,
        "xaxis": {
         "anchor": "y",
         "domain": [
          0,
          0.1388888888888889
         ],
         "title": {
          "text": "activation"
         }
        },
        "xaxis2": {
         "anchor": "y2",
         "domain": [
          0.17222222222222222,
          0.3111111111111111
         ],
         "title": {
          "text": "initial learning rate"
         }
        },
        "xaxis3": {
         "anchor": "y3",
         "domain": [
          0.34444444444444444,
          0.48333333333333334
         ],
         "title": {
          "text": "layers"
         }
        },
        "xaxis4": {
         "anchor": "y4",
         "domain": [
          0.5166666666666667,
          0.6555555555555557
         ],
         "title": {
          "text": "learning rate"
         }
        },
        "xaxis5": {
         "anchor": "y5",
         "domain": [
          0.6888888888888889,
          0.8277777777777777
         ],
         "title": {
          "text": "neurons"
         }
        },
        "xaxis6": {
         "anchor": "y6",
         "domain": [
          0.861111111111111,
          1
         ],
         "title": {
          "text": "solver"
         }
        },
        "yaxis": {
         "anchor": "x",
         "domain": [
          0,
          1
         ],
         "title": {
          "text": "Objective Value"
         }
        },
        "yaxis2": {
         "anchor": "x2",
         "domain": [
          0,
          1
         ],
         "matches": "y",
         "showticklabels": false
        },
        "yaxis3": {
         "anchor": "x3",
         "domain": [
          0,
          1
         ],
         "matches": "y",
         "showticklabels": false
        },
        "yaxis4": {
         "anchor": "x4",
         "domain": [
          0,
          1
         ],
         "matches": "y",
         "showticklabels": false
        },
        "yaxis5": {
         "anchor": "x5",
         "domain": [
          0,
          1
         ],
         "matches": "y",
         "showticklabels": false
        },
        "yaxis6": {
         "anchor": "x6",
         "domain": [
          0,
          1
         ],
         "matches": "y",
         "showticklabels": false
        }
       }
      }
     },
     "metadata": {},
     "output_type": "display_data"
    }
   ],
   "source": [
    "optuna.visualization.plot_slice(study_0)"
   ]
  },
  {
   "cell_type": "code",
   "execution_count": 6,
   "metadata": {},
   "outputs": [
    {
     "data": {
      "application/vnd.plotly.v1+json": {
       "config": {
        "plotlyServerURL": "https://plot.ly"
       },
       "data": [
        {
         "cliponaxis": false,
         "hovertemplate": [
          "layers (IntUniformDistribution): 0.00289611267641945<extra></extra>",
          "learning rate (CategoricalDistribution): 0.03711559794570043<extra></extra>",
          "neurons (IntUniformDistribution): 0.15385128185561367<extra></extra>",
          "initial learning rate (UniformDistribution): 0.2248438775574796<extra></extra>",
          "activation (CategoricalDistribution): 0.23513915618501444<extra></extra>",
          "solver (CategoricalDistribution): 0.3461539737797723<extra></extra>"
         ],
         "marker": {
          "color": [
           "rgb(8,81,156)",
           "rgb(66,146,198)",
           "rgb(8,81,156)",
           "rgb(8,48,107)",
           "rgb(66,146,198)",
           "rgb(66,146,198)"
          ]
         },
         "orientation": "h",
         "text": [
          "0.00289611267641945",
          "0.03711559794570043",
          "0.15385128185561367",
          "0.2248438775574796",
          "0.23513915618501444",
          "0.3461539737797723"
         ],
         "textposition": "outside",
         "texttemplate": "%{text:.2f}",
         "type": "bar",
         "x": [
          0.00289611267641945,
          0.03711559794570043,
          0.15385128185561367,
          0.2248438775574796,
          0.23513915618501444,
          0.3461539737797723
         ],
         "y": [
          "layers",
          "learning rate",
          "neurons",
          "initial learning rate",
          "activation",
          "solver"
         ]
        }
       ],
       "layout": {
        "showlegend": false,
        "template": {
         "data": {
          "bar": [
           {
            "error_x": {
             "color": "#2a3f5f"
            },
            "error_y": {
             "color": "#2a3f5f"
            },
            "marker": {
             "line": {
              "color": "#E5ECF6",
              "width": 0.5
             },
             "pattern": {
              "fillmode": "overlay",
              "size": 10,
              "solidity": 0.2
             }
            },
            "type": "bar"
           }
          ],
          "barpolar": [
           {
            "marker": {
             "line": {
              "color": "#E5ECF6",
              "width": 0.5
             },
             "pattern": {
              "fillmode": "overlay",
              "size": 10,
              "solidity": 0.2
             }
            },
            "type": "barpolar"
           }
          ],
          "carpet": [
           {
            "aaxis": {
             "endlinecolor": "#2a3f5f",
             "gridcolor": "white",
             "linecolor": "white",
             "minorgridcolor": "white",
             "startlinecolor": "#2a3f5f"
            },
            "baxis": {
             "endlinecolor": "#2a3f5f",
             "gridcolor": "white",
             "linecolor": "white",
             "minorgridcolor": "white",
             "startlinecolor": "#2a3f5f"
            },
            "type": "carpet"
           }
          ],
          "choropleth": [
           {
            "colorbar": {
             "outlinewidth": 0,
             "ticks": ""
            },
            "type": "choropleth"
           }
          ],
          "contour": [
           {
            "colorbar": {
             "outlinewidth": 0,
             "ticks": ""
            },
            "colorscale": [
             [
              0,
              "#0d0887"
             ],
             [
              0.1111111111111111,
              "#46039f"
             ],
             [
              0.2222222222222222,
              "#7201a8"
             ],
             [
              0.3333333333333333,
              "#9c179e"
             ],
             [
              0.4444444444444444,
              "#bd3786"
             ],
             [
              0.5555555555555556,
              "#d8576b"
             ],
             [
              0.6666666666666666,
              "#ed7953"
             ],
             [
              0.7777777777777778,
              "#fb9f3a"
             ],
             [
              0.8888888888888888,
              "#fdca26"
             ],
             [
              1,
              "#f0f921"
             ]
            ],
            "type": "contour"
           }
          ],
          "contourcarpet": [
           {
            "colorbar": {
             "outlinewidth": 0,
             "ticks": ""
            },
            "type": "contourcarpet"
           }
          ],
          "heatmap": [
           {
            "colorbar": {
             "outlinewidth": 0,
             "ticks": ""
            },
            "colorscale": [
             [
              0,
              "#0d0887"
             ],
             [
              0.1111111111111111,
              "#46039f"
             ],
             [
              0.2222222222222222,
              "#7201a8"
             ],
             [
              0.3333333333333333,
              "#9c179e"
             ],
             [
              0.4444444444444444,
              "#bd3786"
             ],
             [
              0.5555555555555556,
              "#d8576b"
             ],
             [
              0.6666666666666666,
              "#ed7953"
             ],
             [
              0.7777777777777778,
              "#fb9f3a"
             ],
             [
              0.8888888888888888,
              "#fdca26"
             ],
             [
              1,
              "#f0f921"
             ]
            ],
            "type": "heatmap"
           }
          ],
          "heatmapgl": [
           {
            "colorbar": {
             "outlinewidth": 0,
             "ticks": ""
            },
            "colorscale": [
             [
              0,
              "#0d0887"
             ],
             [
              0.1111111111111111,
              "#46039f"
             ],
             [
              0.2222222222222222,
              "#7201a8"
             ],
             [
              0.3333333333333333,
              "#9c179e"
             ],
             [
              0.4444444444444444,
              "#bd3786"
             ],
             [
              0.5555555555555556,
              "#d8576b"
             ],
             [
              0.6666666666666666,
              "#ed7953"
             ],
             [
              0.7777777777777778,
              "#fb9f3a"
             ],
             [
              0.8888888888888888,
              "#fdca26"
             ],
             [
              1,
              "#f0f921"
             ]
            ],
            "type": "heatmapgl"
           }
          ],
          "histogram": [
           {
            "marker": {
             "pattern": {
              "fillmode": "overlay",
              "size": 10,
              "solidity": 0.2
             }
            },
            "type": "histogram"
           }
          ],
          "histogram2d": [
           {
            "colorbar": {
             "outlinewidth": 0,
             "ticks": ""
            },
            "colorscale": [
             [
              0,
              "#0d0887"
             ],
             [
              0.1111111111111111,
              "#46039f"
             ],
             [
              0.2222222222222222,
              "#7201a8"
             ],
             [
              0.3333333333333333,
              "#9c179e"
             ],
             [
              0.4444444444444444,
              "#bd3786"
             ],
             [
              0.5555555555555556,
              "#d8576b"
             ],
             [
              0.6666666666666666,
              "#ed7953"
             ],
             [
              0.7777777777777778,
              "#fb9f3a"
             ],
             [
              0.8888888888888888,
              "#fdca26"
             ],
             [
              1,
              "#f0f921"
             ]
            ],
            "type": "histogram2d"
           }
          ],
          "histogram2dcontour": [
           {
            "colorbar": {
             "outlinewidth": 0,
             "ticks": ""
            },
            "colorscale": [
             [
              0,
              "#0d0887"
             ],
             [
              0.1111111111111111,
              "#46039f"
             ],
             [
              0.2222222222222222,
              "#7201a8"
             ],
             [
              0.3333333333333333,
              "#9c179e"
             ],
             [
              0.4444444444444444,
              "#bd3786"
             ],
             [
              0.5555555555555556,
              "#d8576b"
             ],
             [
              0.6666666666666666,
              "#ed7953"
             ],
             [
              0.7777777777777778,
              "#fb9f3a"
             ],
             [
              0.8888888888888888,
              "#fdca26"
             ],
             [
              1,
              "#f0f921"
             ]
            ],
            "type": "histogram2dcontour"
           }
          ],
          "mesh3d": [
           {
            "colorbar": {
             "outlinewidth": 0,
             "ticks": ""
            },
            "type": "mesh3d"
           }
          ],
          "parcoords": [
           {
            "line": {
             "colorbar": {
              "outlinewidth": 0,
              "ticks": ""
             }
            },
            "type": "parcoords"
           }
          ],
          "pie": [
           {
            "automargin": true,
            "type": "pie"
           }
          ],
          "scatter": [
           {
            "marker": {
             "colorbar": {
              "outlinewidth": 0,
              "ticks": ""
             }
            },
            "type": "scatter"
           }
          ],
          "scatter3d": [
           {
            "line": {
             "colorbar": {
              "outlinewidth": 0,
              "ticks": ""
             }
            },
            "marker": {
             "colorbar": {
              "outlinewidth": 0,
              "ticks": ""
             }
            },
            "type": "scatter3d"
           }
          ],
          "scattercarpet": [
           {
            "marker": {
             "colorbar": {
              "outlinewidth": 0,
              "ticks": ""
             }
            },
            "type": "scattercarpet"
           }
          ],
          "scattergeo": [
           {
            "marker": {
             "colorbar": {
              "outlinewidth": 0,
              "ticks": ""
             }
            },
            "type": "scattergeo"
           }
          ],
          "scattergl": [
           {
            "marker": {
             "colorbar": {
              "outlinewidth": 0,
              "ticks": ""
             }
            },
            "type": "scattergl"
           }
          ],
          "scattermapbox": [
           {
            "marker": {
             "colorbar": {
              "outlinewidth": 0,
              "ticks": ""
             }
            },
            "type": "scattermapbox"
           }
          ],
          "scatterpolar": [
           {
            "marker": {
             "colorbar": {
              "outlinewidth": 0,
              "ticks": ""
             }
            },
            "type": "scatterpolar"
           }
          ],
          "scatterpolargl": [
           {
            "marker": {
             "colorbar": {
              "outlinewidth": 0,
              "ticks": ""
             }
            },
            "type": "scatterpolargl"
           }
          ],
          "scatterternary": [
           {
            "marker": {
             "colorbar": {
              "outlinewidth": 0,
              "ticks": ""
             }
            },
            "type": "scatterternary"
           }
          ],
          "surface": [
           {
            "colorbar": {
             "outlinewidth": 0,
             "ticks": ""
            },
            "colorscale": [
             [
              0,
              "#0d0887"
             ],
             [
              0.1111111111111111,
              "#46039f"
             ],
             [
              0.2222222222222222,
              "#7201a8"
             ],
             [
              0.3333333333333333,
              "#9c179e"
             ],
             [
              0.4444444444444444,
              "#bd3786"
             ],
             [
              0.5555555555555556,
              "#d8576b"
             ],
             [
              0.6666666666666666,
              "#ed7953"
             ],
             [
              0.7777777777777778,
              "#fb9f3a"
             ],
             [
              0.8888888888888888,
              "#fdca26"
             ],
             [
              1,
              "#f0f921"
             ]
            ],
            "type": "surface"
           }
          ],
          "table": [
           {
            "cells": {
             "fill": {
              "color": "#EBF0F8"
             },
             "line": {
              "color": "white"
             }
            },
            "header": {
             "fill": {
              "color": "#C8D4E3"
             },
             "line": {
              "color": "white"
             }
            },
            "type": "table"
           }
          ]
         },
         "layout": {
          "annotationdefaults": {
           "arrowcolor": "#2a3f5f",
           "arrowhead": 0,
           "arrowwidth": 1
          },
          "autotypenumbers": "strict",
          "coloraxis": {
           "colorbar": {
            "outlinewidth": 0,
            "ticks": ""
           }
          },
          "colorscale": {
           "diverging": [
            [
             0,
             "#8e0152"
            ],
            [
             0.1,
             "#c51b7d"
            ],
            [
             0.2,
             "#de77ae"
            ],
            [
             0.3,
             "#f1b6da"
            ],
            [
             0.4,
             "#fde0ef"
            ],
            [
             0.5,
             "#f7f7f7"
            ],
            [
             0.6,
             "#e6f5d0"
            ],
            [
             0.7,
             "#b8e186"
            ],
            [
             0.8,
             "#7fbc41"
            ],
            [
             0.9,
             "#4d9221"
            ],
            [
             1,
             "#276419"
            ]
           ],
           "sequential": [
            [
             0,
             "#0d0887"
            ],
            [
             0.1111111111111111,
             "#46039f"
            ],
            [
             0.2222222222222222,
             "#7201a8"
            ],
            [
             0.3333333333333333,
             "#9c179e"
            ],
            [
             0.4444444444444444,
             "#bd3786"
            ],
            [
             0.5555555555555556,
             "#d8576b"
            ],
            [
             0.6666666666666666,
             "#ed7953"
            ],
            [
             0.7777777777777778,
             "#fb9f3a"
            ],
            [
             0.8888888888888888,
             "#fdca26"
            ],
            [
             1,
             "#f0f921"
            ]
           ],
           "sequentialminus": [
            [
             0,
             "#0d0887"
            ],
            [
             0.1111111111111111,
             "#46039f"
            ],
            [
             0.2222222222222222,
             "#7201a8"
            ],
            [
             0.3333333333333333,
             "#9c179e"
            ],
            [
             0.4444444444444444,
             "#bd3786"
            ],
            [
             0.5555555555555556,
             "#d8576b"
            ],
            [
             0.6666666666666666,
             "#ed7953"
            ],
            [
             0.7777777777777778,
             "#fb9f3a"
            ],
            [
             0.8888888888888888,
             "#fdca26"
            ],
            [
             1,
             "#f0f921"
            ]
           ]
          },
          "colorway": [
           "#636efa",
           "#EF553B",
           "#00cc96",
           "#ab63fa",
           "#FFA15A",
           "#19d3f3",
           "#FF6692",
           "#B6E880",
           "#FF97FF",
           "#FECB52"
          ],
          "font": {
           "color": "#2a3f5f"
          },
          "geo": {
           "bgcolor": "white",
           "lakecolor": "white",
           "landcolor": "#E5ECF6",
           "showlakes": true,
           "showland": true,
           "subunitcolor": "white"
          },
          "hoverlabel": {
           "align": "left"
          },
          "hovermode": "closest",
          "mapbox": {
           "style": "light"
          },
          "paper_bgcolor": "white",
          "plot_bgcolor": "#E5ECF6",
          "polar": {
           "angularaxis": {
            "gridcolor": "white",
            "linecolor": "white",
            "ticks": ""
           },
           "bgcolor": "#E5ECF6",
           "radialaxis": {
            "gridcolor": "white",
            "linecolor": "white",
            "ticks": ""
           }
          },
          "scene": {
           "xaxis": {
            "backgroundcolor": "#E5ECF6",
            "gridcolor": "white",
            "gridwidth": 2,
            "linecolor": "white",
            "showbackground": true,
            "ticks": "",
            "zerolinecolor": "white"
           },
           "yaxis": {
            "backgroundcolor": "#E5ECF6",
            "gridcolor": "white",
            "gridwidth": 2,
            "linecolor": "white",
            "showbackground": true,
            "ticks": "",
            "zerolinecolor": "white"
           },
           "zaxis": {
            "backgroundcolor": "#E5ECF6",
            "gridcolor": "white",
            "gridwidth": 2,
            "linecolor": "white",
            "showbackground": true,
            "ticks": "",
            "zerolinecolor": "white"
           }
          },
          "shapedefaults": {
           "line": {
            "color": "#2a3f5f"
           }
          },
          "ternary": {
           "aaxis": {
            "gridcolor": "white",
            "linecolor": "white",
            "ticks": ""
           },
           "baxis": {
            "gridcolor": "white",
            "linecolor": "white",
            "ticks": ""
           },
           "bgcolor": "#E5ECF6",
           "caxis": {
            "gridcolor": "white",
            "linecolor": "white",
            "ticks": ""
           }
          },
          "title": {
           "x": 0.05
          },
          "xaxis": {
           "automargin": true,
           "gridcolor": "white",
           "linecolor": "white",
           "ticks": "",
           "title": {
            "standoff": 15
           },
           "zerolinecolor": "white",
           "zerolinewidth": 2
          },
          "yaxis": {
           "automargin": true,
           "gridcolor": "white",
           "linecolor": "white",
           "ticks": "",
           "title": {
            "standoff": 15
           },
           "zerolinecolor": "white",
           "zerolinewidth": 2
          }
         }
        },
        "title": {
         "text": "Hyperparameter Importances"
        },
        "xaxis": {
         "title": {
          "text": "Importance for Objective Value"
         }
        },
        "yaxis": {
         "title": {
          "text": "Hyperparameter"
         }
        }
       }
      }
     },
     "metadata": {},
     "output_type": "display_data"
    }
   ],
   "source": [
    "optuna.visualization.plot_param_importances(study_0)"
   ]
  },
  {
   "cell_type": "markdown",
   "metadata": {},
   "source": [
    "#### Comentários acerca dos resultados do MLP"
   ]
  },
  {
   "cell_type": "markdown",
   "metadata": {},
   "source": [
    "## Random Forest"
   ]
  },
  {
   "cell_type": "code",
   "execution_count": null,
   "metadata": {},
   "outputs": [],
   "source": [
    "# Cuidado: usar esses parâmetros muito elevados, ou o default (100 estimadores e profundidade ilimitada) vai travar seu computador\n",
    "\n",
    "# Parâmetros default:\n",
    "# n_estimators=100, *,\n",
    "# criterion=\"gini\",\n",
    "# max_depth=None,\n",
    "# min_samples_split=2,\n",
    "# min_samples_leaf=1,\n",
    "# min_weight_fraction_leaf=0.,\n",
    "# max_features=\"auto\",\n",
    "# max_leaf_nodes=None,\n",
    "# min_impurity_decrease=0.,\n",
    "# min_impurity_split=None,\n",
    "# bootstrap=True,\n",
    "# oob_score=False,\n",
    "# n_jobs=None,\n",
    "# random_state=None,\n",
    "# verbose=0,\n",
    "# warm_start=False,\n",
    "# class_weight=None,\n",
    "# ccp_alpha=0.0,\n",
    "# max_samples=None"
   ]
  },
  {
   "cell_type": "markdown",
   "metadata": {},
   "source": [
    "#### Teste de Kolmogorov-Smirnov (KS) e matriz de confusão da Random Forest\n",
    "Acima, podemos ver os resultados de ambos. O teste de Kolmogorov-Smirnov assemelha-se bastante a uma distribuição normal. A matriz foi bem sucedida para identificar resultados falsos,  para casos verdadeiro seu resultado foi pouco acima de 50%."
   ]
  },
  {
   "cell_type": "code",
   "execution_count": 3,
   "metadata": {},
   "outputs": [
    {
     "name": "stderr",
     "output_type": "stream",
     "text": [
      "\u001b[32m[I 2021-12-13 09:53:46,701]\u001b[0m A new study created in memory with name: no-name-645ee9d7-04f2-49f6-b887-c3745391ff0c\u001b[0m\n",
      "\u001b[32m[I 2021-12-13 09:54:27,698]\u001b[0m Trial 0 finished with value: 0.6122540180321443 and parameters: {'max_depth': 62, 'criterion': 'gini', 'n_estimators': 20, 'min_samples_leaf': 4, 'min_samples_split': 8}. Best is trial 0 with value: 0.6122540180321443.\u001b[0m\n",
      "\u001b[32m[I 2021-12-13 09:54:47,460]\u001b[0m Trial 1 finished with value: 0.6049392395139161 and parameters: {'max_depth': 37, 'criterion': 'gini', 'n_estimators': 10, 'min_samples_leaf': 5, 'min_samples_split': 6}. Best is trial 0 with value: 0.6122540180321443.\u001b[0m\n",
      "\u001b[32m[I 2021-12-13 09:55:08,387]\u001b[0m Trial 2 finished with value: 0.5943237945903567 and parameters: {'max_depth': 55, 'criterion': 'entropy', 'n_estimators': 9, 'min_samples_leaf': 3, 'min_samples_split': 2}. Best is trial 0 with value: 0.6122540180321443.\u001b[0m\n",
      "\u001b[32m[I 2021-12-13 09:55:55,276]\u001b[0m Trial 3 finished with value: 0.6175460603684829 and parameters: {'max_depth': 57, 'criterion': 'gini', 'n_estimators': 24, 'min_samples_leaf': 5, 'min_samples_split': 2}. Best is trial 3 with value: 0.6175460603684829.\u001b[0m\n",
      "\u001b[32m[I 2021-12-13 09:56:17,979]\u001b[0m Trial 4 finished with value: 0.6098706389651117 and parameters: {'max_depth': 57, 'criterion': 'gini', 'n_estimators': 11, 'min_samples_leaf': 7, 'min_samples_split': 7}. Best is trial 3 with value: 0.6175460603684829.\u001b[0m\n",
      "\u001b[32m[I 2021-12-13 09:56:42,197]\u001b[0m Trial 5 finished with value: 0.6196550372402979 and parameters: {'max_depth': 25, 'criterion': 'gini', 'n_estimators': 13, 'min_samples_leaf': 8, 'min_samples_split': 3}. Best is trial 5 with value: 0.6196550372402979.\u001b[0m\n",
      "\u001b[32m[I 2021-12-13 09:57:13,298]\u001b[0m Trial 6 finished with value: 0.621858094864759 and parameters: {'max_depth': 22, 'criterion': 'entropy', 'n_estimators': 15, 'min_samples_leaf': 3, 'min_samples_split': 4}. Best is trial 6 with value: 0.621858094864759.\u001b[0m\n",
      "\u001b[32m[I 2021-12-13 09:57:32,841]\u001b[0m Trial 7 finished with value: 0.6154292434339474 and parameters: {'max_depth': 24, 'criterion': 'gini', 'n_estimators': 11, 'min_samples_leaf': 6, 'min_samples_split': 7}. Best is trial 6 with value: 0.621858094864759.\u001b[0m\n",
      "\u001b[32m[I 2021-12-13 09:58:26,212]\u001b[0m Trial 8 finished with value: 0.6281615052920423 and parameters: {'max_depth': 25, 'criterion': 'entropy', 'n_estimators': 27, 'min_samples_leaf': 8, 'min_samples_split': 3}. Best is trial 8 with value: 0.6281615052920423.\u001b[0m\n",
      "\u001b[32m[I 2021-12-13 09:58:55,945]\u001b[0m Trial 9 finished with value: 0.6015209721677773 and parameters: {'max_depth': 61, 'criterion': 'entropy', 'n_estimators': 13, 'min_samples_leaf': 3, 'min_samples_split': 7}. Best is trial 8 with value: 0.6281615052920423.\u001b[0m\n",
      "\u001b[32m[I 2021-12-13 10:00:00,991]\u001b[0m Trial 10 finished with value: 0.6258408467267739 and parameters: {'max_depth': 34, 'criterion': 'entropy', 'n_estimators': 31, 'min_samples_leaf': 8, 'min_samples_split': 5}. Best is trial 8 with value: 0.6281615052920423.\u001b[0m\n",
      "\u001b[32m[I 2021-12-13 10:01:05,384]\u001b[0m Trial 11 finished with value: 0.6252685221481772 and parameters: {'max_depth': 35, 'criterion': 'entropy', 'n_estimators': 32, 'min_samples_leaf': 8, 'min_samples_split': 5}. Best is trial 8 with value: 0.6281615052920423.\u001b[0m\n",
      "\u001b[32m[I 2021-12-13 10:02:12,021]\u001b[0m Trial 12 finished with value: 0.62203057624461 and parameters: {'max_depth': 46, 'criterion': 'entropy', 'n_estimators': 32, 'min_samples_leaf': 7, 'min_samples_split': 4}. Best is trial 8 with value: 0.6281615052920423.\u001b[0m\n",
      "\u001b[32m[I 2021-12-13 10:02:54,762]\u001b[0m Trial 13 finished with value: 0.6353978831830654 and parameters: {'max_depth': 16, 'criterion': 'entropy', 'n_estimators': 27, 'min_samples_leaf': 8, 'min_samples_split': 5}. Best is trial 13 with value: 0.6353978831830654.\u001b[0m\n",
      "\u001b[32m[I 2021-12-13 10:03:40,725]\u001b[0m Trial 14 finished with value: 0.6359702077616621 and parameters: {'max_depth': 17, 'criterion': 'entropy', 'n_estimators': 27, 'min_samples_leaf': 7, 'min_samples_split': 3}. Best is trial 14 with value: 0.6359702077616621.\u001b[0m\n",
      "\u001b[32m[I 2021-12-13 10:04:20,609]\u001b[0m Trial 15 finished with value: 0.6345041160329282 and parameters: {'max_depth': 16, 'criterion': 'entropy', 'n_estimators': 26, 'min_samples_leaf': 7, 'min_samples_split': 4}. Best is trial 14 with value: 0.6359702077616621.\u001b[0m\n",
      "\u001b[32m[I 2021-12-13 10:04:55,441]\u001b[0m Trial 16 finished with value: 0.6341826734613877 and parameters: {'max_depth': 16, 'criterion': 'entropy', 'n_estimators': 22, 'min_samples_leaf': 6, 'min_samples_split': 3}. Best is trial 14 with value: 0.6359702077616621.\u001b[0m\n",
      "\u001b[32m[I 2021-12-13 10:05:42,165]\u001b[0m Trial 17 finished with value: 0.6375068600548804 and parameters: {'max_depth': 16, 'criterion': 'entropy', 'n_estimators': 29, 'min_samples_leaf': 6, 'min_samples_split': 6}. Best is trial 17 with value: 0.6375068600548804.\u001b[0m\n",
      "\u001b[32m[I 2021-12-13 10:06:39,220]\u001b[0m Trial 18 finished with value: 0.6207840062720502 and parameters: {'max_depth': 31, 'criterion': 'entropy', 'n_estimators': 29, 'min_samples_leaf': 6, 'min_samples_split': 6}. Best is trial 17 with value: 0.6375068600548804.\u001b[0m\n",
      "\u001b[32m[I 2021-12-13 10:07:14,116]\u001b[0m Trial 19 finished with value: 0.6116346530772246 and parameters: {'max_depth': 43, 'criterion': 'entropy', 'n_estimators': 18, 'min_samples_leaf': 6, 'min_samples_split': 6}. Best is trial 17 with value: 0.6375068600548804.\u001b[0m\n",
      "\u001b[32m[I 2021-12-13 10:08:05,138]\u001b[0m Trial 20 finished with value: 0.6302548020384163 and parameters: {'max_depth': 20, 'criterion': 'entropy', 'n_estimators': 30, 'min_samples_leaf': 4, 'min_samples_split': 8}. Best is trial 17 with value: 0.6375068600548804.\u001b[0m\n",
      "\u001b[32m[I 2021-12-13 10:08:48,371]\u001b[0m Trial 21 finished with value: 0.635280282242258 and parameters: {'max_depth': 17, 'criterion': 'entropy', 'n_estimators': 27, 'min_samples_leaf': 7, 'min_samples_split': 5}. Best is trial 17 with value: 0.6375068600548804.\u001b[0m\n",
      "\u001b[32m[I 2021-12-13 10:09:33,867]\u001b[0m Trial 22 finished with value: 0.622046256370051 and parameters: {'max_depth': 29, 'criterion': 'entropy', 'n_estimators': 24, 'min_samples_leaf': 7, 'min_samples_split': 6}. Best is trial 17 with value: 0.6375068600548804.\u001b[0m\n",
      "\u001b[32m[I 2021-12-13 10:10:30,295]\u001b[0m Trial 23 finished with value: 0.6310544884359075 and parameters: {'max_depth': 20, 'criterion': 'entropy', 'n_estimators': 29, 'min_samples_leaf': 6, 'min_samples_split': 4}. Best is trial 17 with value: 0.6375068600548804.\u001b[0m\n",
      "\u001b[32m[I 2021-12-13 10:11:23,776]\u001b[0m Trial 24 finished with value: 0.6251195609564877 and parameters: {'max_depth': 29, 'criterion': 'entropy', 'n_estimators': 25, 'min_samples_leaf': 8, 'min_samples_split': 5}. Best is trial 17 with value: 0.6375068600548804.\u001b[0m\n",
      "\u001b[32m[I 2021-12-13 10:12:12,854]\u001b[0m Trial 25 finished with value: 0.6365817326538612 and parameters: {'max_depth': 16, 'criterion': 'entropy', 'n_estimators': 28, 'min_samples_leaf': 7, 'min_samples_split': 6}. Best is trial 17 with value: 0.6375068600548804.\u001b[0m\n",
      "\u001b[32m[I 2021-12-13 10:12:55,559]\u001b[0m Trial 26 finished with value: 0.6323010584084673 and parameters: {'max_depth': 19, 'criterion': 'entropy', 'n_estimators': 22, 'min_samples_leaf': 5, 'min_samples_split': 7}. Best is trial 17 with value: 0.6375068600548804.\u001b[0m\n",
      "\u001b[32m[I 2021-12-13 10:13:54,519]\u001b[0m Trial 27 finished with value: 0.6251430811446491 and parameters: {'max_depth': 27, 'criterion': 'entropy', 'n_estimators': 29, 'min_samples_leaf': 7, 'min_samples_split': 6}. Best is trial 17 with value: 0.6375068600548804.\u001b[0m\n",
      "\u001b[32m[I 2021-12-13 10:14:36,783]\u001b[0m Trial 28 finished with value: 0.6289925519404155 and parameters: {'max_depth': 21, 'criterion': 'entropy', 'n_estimators': 23, 'min_samples_leaf': 6, 'min_samples_split': 7}. Best is trial 17 with value: 0.6375068600548804.\u001b[0m\n",
      "\u001b[32m[I 2021-12-13 10:15:06,389]\u001b[0m Trial 29 finished with value: 0.6340415523324187 and parameters: {'max_depth': 16, 'criterion': 'entropy', 'n_estimators': 19, 'min_samples_leaf': 4, 'min_samples_split': 6}. Best is trial 17 with value: 0.6375068600548804.\u001b[0m\n",
      "\u001b[32m[I 2021-12-13 10:15:48,125]\u001b[0m Trial 30 finished with value: 0.6263347706781655 and parameters: {'max_depth': 23, 'criterion': 'entropy', 'n_estimators': 21, 'min_samples_leaf': 7, 'min_samples_split': 8}. Best is trial 17 with value: 0.6375068600548804.\u001b[0m\n",
      "\u001b[32m[I 2021-12-13 10:16:31,880]\u001b[0m Trial 31 finished with value: 0.6349274794198354 and parameters: {'max_depth': 17, 'criterion': 'entropy', 'n_estimators': 27, 'min_samples_leaf': 8, 'min_samples_split': 5}. Best is trial 17 with value: 0.6375068600548804.\u001b[0m\n",
      "\u001b[32m[I 2021-12-13 10:17:20,841]\u001b[0m Trial 32 finished with value: 0.6356017248137985 and parameters: {'max_depth': 16, 'criterion': 'entropy', 'n_estimators': 28, 'min_samples_leaf': 7, 'min_samples_split': 6}. Best is trial 17 with value: 0.6375068600548804.\u001b[0m\n",
      "\u001b[32m[I 2021-12-13 10:18:19,378]\u001b[0m Trial 33 finished with value: 0.6347706781654253 and parameters: {'max_depth': 18, 'criterion': 'entropy', 'n_estimators': 30, 'min_samples_leaf': 5, 'min_samples_split': 6}. Best is trial 17 with value: 0.6375068600548804.\u001b[0m\n",
      "\u001b[32m[I 2021-12-13 10:19:23,979]\u001b[0m Trial 34 finished with value: 0.6195923167385339 and parameters: {'max_depth': 48, 'criterion': 'entropy', 'n_estimators': 28, 'min_samples_leaf': 6, 'min_samples_split': 7}. Best is trial 17 with value: 0.6375068600548804.\u001b[0m\n",
      "\u001b[32m[I 2021-12-13 10:20:09,688]\u001b[0m Trial 35 finished with value: 0.6296432771462172 and parameters: {'max_depth': 20, 'criterion': 'gini', 'n_estimators': 25, 'min_samples_leaf': 7, 'min_samples_split': 6}. Best is trial 17 with value: 0.6375068600548804.\u001b[0m\n",
      "\u001b[32m[I 2021-12-13 10:21:15,639]\u001b[0m Trial 36 finished with value: 0.6259427675421403 and parameters: {'max_depth': 26, 'criterion': 'entropy', 'n_estimators': 32, 'min_samples_leaf': 7, 'min_samples_split': 2}. Best is trial 17 with value: 0.6375068600548804.\u001b[0m\n",
      "\u001b[32m[I 2021-12-13 10:22:01,328]\u001b[0m Trial 37 finished with value: 0.6262877303018424 and parameters: {'max_depth': 22, 'criterion': 'gini', 'n_estimators': 30, 'min_samples_leaf': 5, 'min_samples_split': 7}. Best is trial 17 with value: 0.6375068600548804.\u001b[0m\n",
      "\u001b[32m[I 2021-12-13 10:22:37,810]\u001b[0m Trial 38 finished with value: 0.6375068600548804 and parameters: {'max_depth': 16, 'criterion': 'entropy', 'n_estimators': 25, 'min_samples_leaf': 6, 'min_samples_split': 6}. Best is trial 17 with value: 0.6375068600548804.\u001b[0m\n",
      "\u001b[32m[I 2021-12-13 10:23:18,640]\u001b[0m Trial 39 finished with value: 0.6210348882791062 and parameters: {'max_depth': 38, 'criterion': 'gini', 'n_estimators': 25, 'min_samples_leaf': 6, 'min_samples_split': 3}. Best is trial 17 with value: 0.6375068600548804.\u001b[0m\n",
      "\u001b[32m[I 2021-12-13 10:24:04,972]\u001b[0m Trial 40 finished with value: 0.6144021952175618 and parameters: {'max_depth': 52, 'criterion': 'entropy', 'n_estimators': 24, 'min_samples_leaf': 5, 'min_samples_split': 8}. Best is trial 17 with value: 0.6375068600548804.\u001b[0m\n",
      "\u001b[32m[I 2021-12-13 10:24:48,979]\u001b[0m Trial 41 finished with value: 0.6371854174833399 and parameters: {'max_depth': 18, 'criterion': 'entropy', 'n_estimators': 28, 'min_samples_leaf': 6, 'min_samples_split': 6}. Best is trial 17 with value: 0.6375068600548804.\u001b[0m\n",
      "\u001b[32m[I 2021-12-13 10:25:35,580]\u001b[0m Trial 42 finished with value: 0.6276127009016073 and parameters: {'max_depth': 23, 'criterion': 'entropy', 'n_estimators': 26, 'min_samples_leaf': 6, 'min_samples_split': 6}. Best is trial 17 with value: 0.6375068600548804.\u001b[0m\n",
      "\u001b[32m[I 2021-12-13 10:26:21,413]\u001b[0m Trial 43 finished with value: 0.6293923951391611 and parameters: {'max_depth': 19, 'criterion': 'entropy', 'n_estimators': 28, 'min_samples_leaf': 2, 'min_samples_split': 7}. Best is trial 17 with value: 0.6375068600548804.\u001b[0m\n",
      "\u001b[32m[I 2021-12-13 10:27:07,457]\u001b[0m Trial 44 finished with value: 0.6343551548412387 and parameters: {'max_depth': 18, 'criterion': 'entropy', 'n_estimators': 26, 'min_samples_leaf': 6, 'min_samples_split': 6}. Best is trial 17 with value: 0.6375068600548804.\u001b[0m\n",
      "\u001b[32m[I 2021-12-13 10:28:13,325]\u001b[0m Trial 45 finished with value: 0.6287416699333594 and parameters: {'max_depth': 24, 'criterion': 'entropy', 'n_estimators': 30, 'min_samples_leaf': 5, 'min_samples_split': 5}. Best is trial 17 with value: 0.6375068600548804.\u001b[0m\n",
      "\u001b[32m[I 2021-12-13 10:29:13,042]\u001b[0m Trial 46 finished with value: 0.619921599372795 and parameters: {'max_depth': 63, 'criterion': 'entropy', 'n_estimators': 28, 'min_samples_leaf': 6, 'min_samples_split': 7}. Best is trial 17 with value: 0.6375068600548804.\u001b[0m\n",
      "\u001b[32m[I 2021-12-13 10:30:18,779]\u001b[0m Trial 47 finished with value: 0.6325519404155233 and parameters: {'max_depth': 22, 'criterion': 'entropy', 'n_estimators': 32, 'min_samples_leaf': 7, 'min_samples_split': 2}. Best is trial 17 with value: 0.6375068600548804.\u001b[0m\n",
      "\u001b[32m[I 2021-12-13 10:31:26,828]\u001b[0m Trial 48 finished with value: 0.6248451587612701 and parameters: {'max_depth': 28, 'criterion': 'entropy', 'n_estimators': 31, 'min_samples_leaf': 6, 'min_samples_split': 6}. Best is trial 17 with value: 0.6375068600548804.\u001b[0m\n",
      "\u001b[32m[I 2021-12-13 10:32:00,787]\u001b[0m Trial 49 finished with value: 0.6139004312034496 and parameters: {'max_depth': 31, 'criterion': 'gini', 'n_estimators': 17, 'min_samples_leaf': 5, 'min_samples_split': 4}. Best is trial 17 with value: 0.6375068600548804.\u001b[0m\n",
      "\u001b[32m[I 2021-12-13 10:32:45,580]\u001b[0m Trial 50 finished with value: 0.6224852998823991 and parameters: {'max_depth': 25, 'criterion': 'entropy', 'n_estimators': 23, 'min_samples_leaf': 6, 'min_samples_split': 5}. Best is trial 17 with value: 0.6375068600548804.\u001b[0m\n",
      "\u001b[32m[I 2021-12-13 10:33:26,897]\u001b[0m Trial 51 finished with value: 0.6372951783614269 and parameters: {'max_depth': 16, 'criterion': 'entropy', 'n_estimators': 28, 'min_samples_leaf': 7, 'min_samples_split': 6}. Best is trial 17 with value: 0.6375068600548804.\u001b[0m\n",
      "\u001b[32m[I 2021-12-13 10:34:11,745]\u001b[0m Trial 52 finished with value: 0.6378518228145825 and parameters: {'max_depth': 16, 'criterion': 'entropy', 'n_estimators': 31, 'min_samples_leaf': 7, 'min_samples_split': 6}. Best is trial 52 with value: 0.6378518228145825.\u001b[0m\n",
      "\u001b[32m[I 2021-12-13 10:34:57,130]\u001b[0m Trial 53 finished with value: 0.6372559780478244 and parameters: {'max_depth': 16, 'criterion': 'entropy', 'n_estimators': 31, 'min_samples_leaf': 7, 'min_samples_split': 6}. Best is trial 52 with value: 0.6378518228145825.\u001b[0m\n",
      "\u001b[32m[I 2021-12-13 10:35:47,459]\u001b[0m Trial 54 finished with value: 0.6356958055664446 and parameters: {'max_depth': 19, 'criterion': 'entropy', 'n_estimators': 31, 'min_samples_leaf': 8, 'min_samples_split': 6}. Best is trial 52 with value: 0.6378518228145825.\u001b[0m\n",
      "\u001b[32m[I 2021-12-13 10:36:43,169]\u001b[0m Trial 55 finished with value: 0.6318149745197962 and parameters: {'max_depth': 21, 'criterion': 'entropy', 'n_estimators': 31, 'min_samples_leaf': 7, 'min_samples_split': 7}. Best is trial 52 with value: 0.6378518228145825.\u001b[0m\n",
      "\u001b[32m[I 2021-12-13 10:37:35,757]\u001b[0m Trial 56 finished with value: 0.6356566052528421 and parameters: {'max_depth': 18, 'criterion': 'entropy', 'n_estimators': 29, 'min_samples_leaf': 8, 'min_samples_split': 5}. Best is trial 52 with value: 0.6378518228145825.\u001b[0m\n",
      "\u001b[32m[I 2021-12-13 10:38:28,012]\u001b[0m Trial 57 finished with value: 0.6381967855742846 and parameters: {'max_depth': 16, 'criterion': 'entropy', 'n_estimators': 30, 'min_samples_leaf': 6, 'min_samples_split': 6}. Best is trial 57 with value: 0.6381967855742846.\u001b[0m\n",
      "\u001b[32m[I 2021-12-13 10:39:22,348]\u001b[0m Trial 58 finished with value: 0.6395531164249314 and parameters: {'max_depth': 16, 'criterion': 'entropy', 'n_estimators': 32, 'min_samples_leaf': 7, 'min_samples_split': 6}. Best is trial 58 with value: 0.6395531164249314.\u001b[0m\n",
      "\u001b[32m[I 2021-12-13 10:40:27,236]\u001b[0m Trial 59 finished with value: 0.6305292042336339 and parameters: {'max_depth': 21, 'criterion': 'entropy', 'n_estimators': 32, 'min_samples_leaf': 6, 'min_samples_split': 5}. Best is trial 58 with value: 0.6395531164249314.\u001b[0m\n",
      "\u001b[32m[I 2021-12-13 10:40:41,075]\u001b[0m Trial 60 finished with value: 0.6258173265386123 and parameters: {'max_depth': 16, 'criterion': 'entropy', 'n_estimators': 8, 'min_samples_leaf': 7, 'min_samples_split': 7}. Best is trial 58 with value: 0.6395531164249314.\u001b[0m\n",
      "\u001b[32m[I 2021-12-13 10:41:29,399]\u001b[0m Trial 61 finished with value: 0.6369188553508428 and parameters: {'max_depth': 16, 'criterion': 'entropy', 'n_estimators': 30, 'min_samples_leaf': 7, 'min_samples_split': 6}. Best is trial 58 with value: 0.6395531164249314.\u001b[0m\n",
      "\u001b[32m[I 2021-12-13 10:42:20,026]\u001b[0m Trial 62 finished with value: 0.6380086240689925 and parameters: {'max_depth': 16, 'criterion': 'entropy', 'n_estimators': 31, 'min_samples_leaf': 8, 'min_samples_split': 6}. Best is trial 58 with value: 0.6395531164249314.\u001b[0m\n",
      "\u001b[32m[I 2021-12-13 10:43:17,386]\u001b[0m Trial 63 finished with value: 0.6343551548412387 and parameters: {'max_depth': 19, 'criterion': 'entropy', 'n_estimators': 32, 'min_samples_leaf': 8, 'min_samples_split': 6}. Best is trial 58 with value: 0.6395531164249314.\u001b[0m\n"
     ]
    },
    {
     "ename": "NameError",
     "evalue": "name 'df_teste' is not defined",
     "output_type": "error",
     "traceback": [
      "\u001b[0;31m---------------------------------------------------------------------------\u001b[0m",
      "\u001b[0;31mNameError\u001b[0m                                 Traceback (most recent call last)",
      "\u001b[0;32m<ipython-input-3-23bc67534477>\u001b[0m in \u001b[0;36m<module>\u001b[0;34m\u001b[0m\n\u001b[1;32m     39\u001b[0m \u001b[0mstudy_1\u001b[0m \u001b[0;34m=\u001b[0m \u001b[0moptuna\u001b[0m\u001b[0;34m.\u001b[0m\u001b[0mcreate_study\u001b[0m\u001b[0;34m(\u001b[0m\u001b[0mdirection\u001b[0m\u001b[0;34m=\u001b[0m\u001b[0;34m\"maximize\"\u001b[0m\u001b[0;34m)\u001b[0m\u001b[0;34m\u001b[0m\u001b[0;34m\u001b[0m\u001b[0m\n\u001b[1;32m     40\u001b[0m \u001b[0mstudy_1\u001b[0m\u001b[0;34m.\u001b[0m\u001b[0moptimize\u001b[0m\u001b[0;34m(\u001b[0m\u001b[0mrf\u001b[0m\u001b[0;34m,\u001b[0m \u001b[0mn_trials\u001b[0m\u001b[0;34m=\u001b[0m\u001b[0;36m64\u001b[0m\u001b[0;34m)\u001b[0m\u001b[0;34m\u001b[0m\u001b[0;34m\u001b[0m\u001b[0m\n\u001b[0;32m---> 41\u001b[0;31m \u001b[0mcompute_performance_metrics\u001b[0m\u001b[0;34m(\u001b[0m\u001b[0;34m[\u001b[0m\u001b[0;36m0\u001b[0m\u001b[0;34m]\u001b[0m\u001b[0;34m*\u001b[0m\u001b[0mlen\u001b[0m\u001b[0;34m(\u001b[0m\u001b[0mteste_ina\u001b[0m\u001b[0;34m)\u001b[0m\u001b[0;34m+\u001b[0m\u001b[0;34m[\u001b[0m\u001b[0;36m1\u001b[0m\u001b[0;34m]\u001b[0m\u001b[0;34m*\u001b[0m\u001b[0mlen\u001b[0m\u001b[0;34m(\u001b[0m\u001b[0mteste_adi\u001b[0m\u001b[0;34m)\u001b[0m\u001b[0;34m,\u001b[0m \u001b[0mbest_rf\u001b[0m\u001b[0;34m[\u001b[0m\u001b[0mstudy_1\u001b[0m\u001b[0;34m.\u001b[0m\u001b[0mbest_trial\u001b[0m\u001b[0;34m.\u001b[0m\u001b[0mnumber\u001b[0m\u001b[0;34m]\u001b[0m\u001b[0;34m.\u001b[0m\u001b[0mpredict\u001b[0m\u001b[0;34m(\u001b[0m\u001b[0mdf_teste\u001b[0m\u001b[0;34m)\u001b[0m\u001b[0;34m,\u001b[0m \u001b[0mbest_rf\u001b[0m\u001b[0;34m[\u001b[0m\u001b[0mstudy_1\u001b[0m\u001b[0;34m.\u001b[0m\u001b[0mbest_trial\u001b[0m\u001b[0;34m.\u001b[0m\u001b[0mnumber\u001b[0m\u001b[0;34m]\u001b[0m\u001b[0;34m.\u001b[0m\u001b[0mpredict_proba\u001b[0m\u001b[0;34m(\u001b[0m\u001b[0mdf_teste\u001b[0m\u001b[0;34m)\u001b[0m\u001b[0;34m)\u001b[0m\u001b[0;34m\u001b[0m\u001b[0;34m\u001b[0m\u001b[0m\n\u001b[0m\u001b[1;32m     42\u001b[0m \u001b[0mplot_confusion_matrix\u001b[0m\u001b[0;34m(\u001b[0m\u001b[0mbest_rf\u001b[0m\u001b[0;34m[\u001b[0m\u001b[0mstudy_1\u001b[0m\u001b[0;34m.\u001b[0m\u001b[0mbest_trial\u001b[0m\u001b[0;34m.\u001b[0m\u001b[0mnumber\u001b[0m\u001b[0;34m]\u001b[0m\u001b[0;34m,\u001b[0m \u001b[0mdf_teste\u001b[0m\u001b[0;34m,\u001b[0m \u001b[0;34m[\u001b[0m\u001b[0;36m0\u001b[0m\u001b[0;34m]\u001b[0m\u001b[0;34m*\u001b[0m\u001b[0mlen\u001b[0m\u001b[0;34m(\u001b[0m\u001b[0mteste_ina\u001b[0m\u001b[0;34m)\u001b[0m\u001b[0;34m+\u001b[0m\u001b[0;34m[\u001b[0m\u001b[0;36m1\u001b[0m\u001b[0;34m]\u001b[0m\u001b[0;34m*\u001b[0m\u001b[0mlen\u001b[0m\u001b[0;34m(\u001b[0m\u001b[0mteste_adi\u001b[0m\u001b[0;34m)\u001b[0m\u001b[0;34m,\u001b[0m \u001b[0mnormalize\u001b[0m\u001b[0;34m=\u001b[0m\u001b[0;34m'true'\u001b[0m\u001b[0;34m)\u001b[0m\u001b[0;34m\u001b[0m\u001b[0;34m\u001b[0m\u001b[0m\n",
      "\u001b[0;31mNameError\u001b[0m: name 'df_teste' is not defined"
     ]
    }
   ],
   "source": [
    "ds_dropado = ds.drop(labels=['IND_BOM_1_2', 'IND_BOM_1_1'], axis=1)\n",
    "df_treino = treino_ina.drop(['IND_BOM_1_2','IND_BOM_1_1'], axis=1).append(treino_adi.drop(['IND_BOM_1_2','IND_BOM_1_1'], axis=1))\n",
    "df_validacao = valid_ina.drop(['IND_BOM_1_2','IND_BOM_1_1'], axis=1).append(valid_adi.drop(['IND_BOM_1_2','IND_BOM_1_1'], axis=1))\n",
    "df_validacao.drop(columns=['INDEX'], axis=1, inplace=True)\n",
    "\n",
    "best_rf = []\n",
    "\n",
    "def rf(trial):\n",
    "    max_depth           = trial.suggest_int(\"max_depth\", 16, 64)\n",
    "    criterion           = trial.suggest_categorical(\"criterion\", [\"gini\", \"entropy\"])\n",
    "    n_estimators        = trial.suggest_int(\"n_estimators\", 8, 32)\n",
    "    min_samples_leaf    = trial.suggest_int(\"min_samples_leaf\", 2, 8)\n",
    "    min_samples_split   = trial.suggest_int(\"min_samples_split\", 2, 8)\n",
    "    random_forest = RandomForestClassifier(n_estimators=n_estimators, \n",
    "                                        max_depth=max_depth, \n",
    "                                        criterion=criterion, \n",
    "                                        bootstrap=True, \n",
    "                                        min_samples_leaf=min_samples_leaf, \n",
    "                                        min_samples_split=min_samples_split).fit(df_treino, [0]*len(treino_ina)+[1]*len(treino_adi))\n",
    "\n",
    "    # Código opcional para logar e cronometrar tempo\n",
    "    # print('Random Forest com {} estimadores e profundidade máxima {}, critério {}, min amostras de folhas {} e min divisão de amostras {}\\n'.format(\n",
    "    #     n_estimators, max_depth, criterion, min_samples_leaf, min_samples_split\n",
    "    # ))\n",
    "    # start = time.time()\n",
    "    # n_scores = cross_val_score(random_forest, ds_dropado, ds['IND_BOM_1_2'], scoring='accuracy', n_jobs=1, error_score='raise')\n",
    "    # print('Acurácia e desvio padrão: %.3f (%.3f)' % (mean(n_scores), std(n_scores)))\n",
    "    # print(\"Tempo: \", format(time.time() - start, '.3f'), 's\\n', sep='')\n",
    "\n",
    "    best_rf.append(random_forest)\n",
    "\n",
    "    rf_pred_class  = random_forest.predict(df_validacao)\n",
    "    rf_pred_scores = random_forest.predict_proba(df_validacao)\n",
    "\n",
    "    accuracy, recall, precision, f1, auroc, aupr = compute_performance_metrics_sem_plot2([0]*len(valid_ina)+[1]*len(valid_adi), rf_pred_class, rf_pred_scores, \"RF/RF Trial {}\".format(trial.number))\n",
    "    \n",
    "    return accuracy\n",
    "\n",
    "study_1 = optuna.create_study(direction=\"maximize\")\n",
    "study_1.optimize(rf, n_trials=64)\n"
   ]
  },
  {
   "cell_type": "markdown",
   "metadata": {},
   "source": [
    "#### Plot da matriz de confusão do melhor classificador dentre os testados acima"
   ]
  },
  {
   "cell_type": "code",
   "execution_count": 4,
   "metadata": {},
   "outputs": [
    {
     "data": {
      "image/png": "[encoded data removed]",
      "text/plain": [
       "<Figure size 432x288 with 1 Axes>"
      ]
     },
     "metadata": {
      "needs_background": "light"
     },
     "output_type": "display_data"
    },
    {
     "data": {
      "text/plain": [
       "<sklearn.metrics._plot.confusion_matrix.ConfusionMatrixDisplay at 0x7f0a35b8b1c0>"
      ]
     },
     "execution_count": 4,
     "metadata": {},
     "output_type": "execute_result"
    },
    {
     "data": {
      "text/plain": [
       "<Figure size 432x288 with 0 Axes>"
      ]
     },
     "metadata": {},
     "output_type": "display_data"
    },
    {
     "data": {
      "image/png": "[encoded data removed]",
      "text/plain": [
       "<Figure size 432x288 with 2 Axes>"
      ]
     },
     "metadata": {
      "needs_background": "light"
     },
     "output_type": "display_data"
    }
   ],
   "source": [
    "df_teste = teste_ina.drop(['IND_BOM_1_2','IND_BOM_1_1'], axis=1).append(teste_adi.drop(['IND_BOM_1_2','IND_BOM_1_1'], axis=1))\n",
    "df_teste.drop(columns=['INDEX'], axis=1, inplace=True)\n",
    "compute_performance_metrics([0]*len(teste_ina)+[1]*len(teste_adi), best_rf[study_1.best_trial.number].predict(df_teste), best_rf[study_1.best_trial.number].predict_proba(df_teste))\n",
    "plot_confusion_matrix(best_rf[study_1.best_trial.number], df_teste, [0]*len(teste_ina)+[1]*len(teste_adi), normalize='true')"
   ]
  },
  {
   "cell_type": "markdown",
   "metadata": {},
   "source": [
    "### Resultados da Random Forest"
   ]
  },
  {
   "cell_type": "code",
   "execution_count": 5,
   "metadata": {},
   "outputs": [
    {
     "data": {
      "application/vnd.plotly.v1+json": {
       "config": {
        "plotlyServerURL": "https://plot.ly"
       },
       "data": [
        {
         "mode": "markers",
         "name": "Objective Value",
         "type": "scatter",
         "x": [
          0,
          1,
          2,
          3,
          4,
          5,
          6,
          7,
          8,
          9,
          10,
          11,
          12,
          13,
          14,
          15,
          16,
          17,
          18,
          19,
          20,
          21,
          22,
          23,
          24,
          25,
          26,
          27,
          28,
          29,
          30,
          31,
          32,
          33,
          34,
          35,
          36,
          37,
          38,
          39,
          40,
          41,
          42,
          43,
          44,
          45,
          46,
          47,
          48,
          49,
          50,
          51,
          52,
          53,
          54,
          55,
          56,
          57,
          58,
          59,
          60,
          61,
          62,
          63
         ],
         "y": [
          0.6122540180321443,
          0.6049392395139161,
          0.5943237945903567,
          0.6175460603684829,
          0.6098706389651117,
          0.6196550372402979,
          0.621858094864759,
          0.6154292434339474,
          0.6281615052920423,
          0.6015209721677773,
          0.6258408467267739,
          0.6252685221481772,
          0.62203057624461,
          0.6353978831830654,
          0.6359702077616621,
          0.6345041160329282,
          0.6341826734613877,
          0.6375068600548804,
          0.6207840062720502,
          0.6116346530772246,
          0.6302548020384163,
          0.635280282242258,
          0.622046256370051,
          0.6310544884359075,
          0.6251195609564877,
          0.6365817326538612,
          0.6323010584084673,
          0.6251430811446491,
          0.6289925519404155,
          0.6340415523324187,
          0.6263347706781655,
          0.6349274794198354,
          0.6356017248137985,
          0.6347706781654253,
          0.6195923167385339,
          0.6296432771462172,
          0.6259427675421403,
          0.6262877303018424,
          0.6375068600548804,
          0.6210348882791062,
          0.6144021952175618,
          0.6371854174833399,
          0.6276127009016073,
          0.6293923951391611,
          0.6343551548412387,
          0.6287416699333594,
          0.619921599372795,
          0.6325519404155233,
          0.6248451587612701,
          0.6139004312034496,
          0.6224852998823991,
          0.6372951783614269,
          0.6378518228145825,
          0.6372559780478244,
          0.6356958055664446,
          0.6318149745197962,
          0.6356566052528421,
          0.6381967855742846,
          0.6395531164249314,
          0.6305292042336339,
          0.6258173265386123,
          0.6369188553508428,
          0.6380086240689925,
          0.6343551548412387
         ]
        },
        {
         "name": "Best Value",
         "type": "scatter",
         "x": [
          0,
          1,
          2,
          3,
          4,
          5,
          6,
          7,
          8,
          9,
          10,
          11,
          12,
          13,
          14,
          15,
          16,
          17,
          18,
          19,
          20,
          21,
          22,
          23,
          24,
          25,
          26,
          27,
          28,
          29,
          30,
          31,
          32,
          33,
          34,
          35,
          36,
          37,
          38,
          39,
          40,
          41,
          42,
          43,
          44,
          45,
          46,
          47,
          48,
          49,
          50,
          51,
          52,
          53,
          54,
          55,
          56,
          57,
          58,
          59,
          60,
          61,
          62,
          63
         ],
         "y": [
          0.6122540180321443,
          0.6122540180321443,
          0.6122540180321443,
          0.6175460603684829,
          0.6175460603684829,
          0.6196550372402979,
          0.621858094864759,
          0.621858094864759,
          0.6281615052920423,
          0.6281615052920423,
          0.6281615052920423,
          0.6281615052920423,
          0.6281615052920423,
          0.6353978831830654,
          0.6359702077616621,
          0.6359702077616621,
          0.6359702077616621,
          0.6375068600548804,
          0.6375068600548804,
          0.6375068600548804,
          0.6375068600548804,
          0.6375068600548804,
          0.6375068600548804,
          0.6375068600548804,
          0.6375068600548804,
          0.6375068600548804,
          0.6375068600548804,
          0.6375068600548804,
          0.6375068600548804,
          0.6375068600548804,
          0.6375068600548804,
          0.6375068600548804,
          0.6375068600548804,
          0.6375068600548804,
          0.6375068600548804,
          0.6375068600548804,
          0.6375068600548804,
          0.6375068600548804,
          0.6375068600548804,
          0.6375068600548804,
          0.6375068600548804,
          0.6375068600548804,
          0.6375068600548804,
          0.6375068600548804,
          0.6375068600548804,
          0.6375068600548804,
          0.6375068600548804,
          0.6375068600548804,
          0.6375068600548804,
          0.6375068600548804,
          0.6375068600548804,
          0.6375068600548804,
          0.6378518228145825,
          0.6378518228145825,
          0.6378518228145825,
          0.6378518228145825,
          0.6378518228145825,
          0.6381967855742846,
          0.6395531164249314,
          0.6395531164249314,
          0.6395531164249314,
          0.6395531164249314,
          0.6395531164249314,
          0.6395531164249314
         ]
        }
       ],
       "layout": {
        "template": {
         "data": {
          "bar": [
           {
            "error_x": {
             "color": "#2a3f5f"
            },
            "error_y": {
             "color": "#2a3f5f"
            },
            "marker": {
             "line": {
              "color": "#E5ECF6",
              "width": 0.5
             },
             "pattern": {
              "fillmode": "overlay",
              "size": 10,
              "solidity": 0.2
             }
            },
            "type": "bar"
           }
          ],
          "barpolar": [
           {
            "marker": {
             "line": {
              "color": "#E5ECF6",
              "width": 0.5
             },
             "pattern": {
              "fillmode": "overlay",
              "size": 10,
              "solidity": 0.2
             }
            },
            "type": "barpolar"
           }
          ],
          "carpet": [
           {
            "aaxis": {
             "endlinecolor": "#2a3f5f",
             "gridcolor": "white",
             "linecolor": "white",
             "minorgridcolor": "white",
             "startlinecolor": "#2a3f5f"
            },
            "baxis": {
             "endlinecolor": "#2a3f5f",
             "gridcolor": "white",
             "linecolor": "white",
             "minorgridcolor": "white",
             "startlinecolor": "#2a3f5f"
            },
            "type": "carpet"
           }
          ],
          "choropleth": [
           {
            "colorbar": {
             "outlinewidth": 0,
             "ticks": ""
            },
            "type": "choropleth"
           }
          ],
          "contour": [
           {
            "colorbar": {
             "outlinewidth": 0,
             "ticks": ""
            },
            "colorscale": [
             [
              0,
              "#0d0887"
             ],
             [
              0.1111111111111111,
              "#46039f"
             ],
             [
              0.2222222222222222,
              "#7201a8"
             ],
             [
              0.3333333333333333,
              "#9c179e"
             ],
             [
              0.4444444444444444,
              "#bd3786"
             ],
             [
              0.5555555555555556,
              "#d8576b"
             ],
             [
              0.6666666666666666,
              "#ed7953"
             ],
             [
              0.7777777777777778,
              "#fb9f3a"
             ],
             [
              0.8888888888888888,
              "#fdca26"
             ],
             [
              1,
              "#f0f921"
             ]
            ],
            "type": "contour"
           }
          ],
          "contourcarpet": [
           {
            "colorbar": {
             "outlinewidth": 0,
             "ticks": ""
            },
            "type": "contourcarpet"
           }
          ],
          "heatmap": [
           {
            "colorbar": {
             "outlinewidth": 0,
             "ticks": ""
            },
            "colorscale": [
             [
              0,
              "#0d0887"
             ],
             [
              0.1111111111111111,
              "#46039f"
             ],
             [
              0.2222222222222222,
              "#7201a8"
             ],
             [
              0.3333333333333333,
              "#9c179e"
             ],
             [
              0.4444444444444444,
              "#bd3786"
             ],
             [
              0.5555555555555556,
              "#d8576b"
             ],
             [
              0.6666666666666666,
              "#ed7953"
             ],
             [
              0.7777777777777778,
              "#fb9f3a"
             ],
             [
              0.8888888888888888,
              "#fdca26"
             ],
             [
              1,
              "#f0f921"
             ]
            ],
            "type": "heatmap"
           }
          ],
          "heatmapgl": [
           {
            "colorbar": {
             "outlinewidth": 0,
             "ticks": ""
            },
            "colorscale": [
             [
              0,
              "#0d0887"
             ],
             [
              0.1111111111111111,
              "#46039f"
             ],
             [
              0.2222222222222222,
              "#7201a8"
             ],
             [
              0.3333333333333333,
              "#9c179e"
             ],
             [
              0.4444444444444444,
              "#bd3786"
             ],
             [
              0.5555555555555556,
              "#d8576b"
             ],
             [
              0.6666666666666666,
              "#ed7953"
             ],
             [
              0.7777777777777778,
              "#fb9f3a"
             ],
             [
              0.8888888888888888,
              "#fdca26"
             ],
             [
              1,
              "#f0f921"
             ]
            ],
            "type": "heatmapgl"
           }
          ],
          "histogram": [
           {
            "marker": {
             "pattern": {
              "fillmode": "overlay",
              "size": 10,
              "solidity": 0.2
             }
            },
            "type": "histogram"
           }
          ],
          "histogram2d": [
           {
            "colorbar": {
             "outlinewidth": 0,
             "ticks": ""
            },
            "colorscale": [
             [
              0,
              "#0d0887"
             ],
             [
              0.1111111111111111,
              "#46039f"
             ],
             [
              0.2222222222222222,
              "#7201a8"
             ],
             [
              0.3333333333333333,
              "#9c179e"
             ],
             [
              0.4444444444444444,
              "#bd3786"
             ],
             [
              0.5555555555555556,
              "#d8576b"
             ],
             [
              0.6666666666666666,
              "#ed7953"
             ],
             [
              0.7777777777777778,
              "#fb9f3a"
             ],
             [
              0.8888888888888888,
              "#fdca26"
             ],
             [
              1,
              "#f0f921"
             ]
            ],
            "type": "histogram2d"
           }
          ],
          "histogram2dcontour": [
           {
            "colorbar": {
             "outlinewidth": 0,
             "ticks": ""
            },
            "colorscale": [
             [
              0,
              "#0d0887"
             ],
             [
              0.1111111111111111,
              "#46039f"
             ],
             [
              0.2222222222222222,
              "#7201a8"
             ],
             [
              0.3333333333333333,
              "#9c179e"
             ],
             [
              0.4444444444444444,
              "#bd3786"
             ],
             [
              0.5555555555555556,
              "#d8576b"
             ],
             [
              0.6666666666666666,
              "#ed7953"
             ],
             [
              0.7777777777777778,
              "#fb9f3a"
             ],
             [
              0.8888888888888888,
              "#fdca26"
             ],
             [
              1,
              "#f0f921"
             ]
            ],
            "type": "histogram2dcontour"
           }
          ],
          "mesh3d": [
           {
            "colorbar": {
             "outlinewidth": 0,
             "ticks": ""
            },
            "type": "mesh3d"
           }
          ],
          "parcoords": [
           {
            "line": {
             "colorbar": {
              "outlinewidth": 0,
              "ticks": ""
             }
            },
            "type": "parcoords"
           }
          ],
          "pie": [
           {
            "automargin": true,
            "type": "pie"
           }
          ],
          "scatter": [
           {
            "marker": {
             "colorbar": {
              "outlinewidth": 0,
              "ticks": ""
             }
            },
            "type": "scatter"
           }
          ],
          "scatter3d": [
           {
            "line": {
             "colorbar": {
              "outlinewidth": 0,
              "ticks": ""
             }
            },
            "marker": {
             "colorbar": {
              "outlinewidth": 0,
              "ticks": ""
             }
            },
            "type": "scatter3d"
           }
          ],
          "scattercarpet": [
           {
            "marker": {
             "colorbar": {
              "outlinewidth": 0,
              "ticks": ""
             }
            },
            "type": "scattercarpet"
           }
          ],
          "scattergeo": [
           {
            "marker": {
             "colorbar": {
              "outlinewidth": 0,
              "ticks": ""
             }
            },
            "type": "scattergeo"
           }
          ],
          "scattergl": [
           {
            "marker": {
             "colorbar": {
              "outlinewidth": 0,
              "ticks": ""
             }
            },
            "type": "scattergl"
           }
          ],
          "scattermapbox": [
           {
            "marker": {
             "colorbar": {
              "outlinewidth": 0,
              "ticks": ""
             }
            },
            "type": "scattermapbox"
           }
          ],
          "scatterpolar": [
           {
            "marker": {
             "colorbar": {
              "outlinewidth": 0,
              "ticks": ""
             }
            },
            "type": "scatterpolar"
           }
          ],
          "scatterpolargl": [
           {
            "marker": {
             "colorbar": {
              "outlinewidth": 0,
              "ticks": ""
             }
            },
            "type": "scatterpolargl"
           }
          ],
          "scatterternary": [
           {
            "marker": {
             "colorbar": {
              "outlinewidth": 0,
              "ticks": ""
             }
            },
            "type": "scatterternary"
           }
          ],
          "surface": [
           {
            "colorbar": {
             "outlinewidth": 0,
             "ticks": ""
            },
            "colorscale": [
             [
              0,
              "#0d0887"
             ],
             [
              0.1111111111111111,
              "#46039f"
             ],
             [
              0.2222222222222222,
              "#7201a8"
             ],
             [
              0.3333333333333333,
              "#9c179e"
             ],
             [
              0.4444444444444444,
              "#bd3786"
             ],
             [
              0.5555555555555556,
              "#d8576b"
             ],
             [
              0.6666666666666666,
              "#ed7953"
             ],
             [
              0.7777777777777778,
              "#fb9f3a"
             ],
             [
              0.8888888888888888,
              "#fdca26"
             ],
             [
              1,
              "#f0f921"
             ]
            ],
            "type": "surface"
           }
          ],
          "table": [
           {
            "cells": {
             "fill": {
              "color": "#EBF0F8"
             },
             "line": {
              "color": "white"
             }
            },
            "header": {
             "fill": {
              "color": "#C8D4E3"
             },
             "line": {
              "color": "white"
             }
            },
            "type": "table"
           }
          ]
         },
         "layout": {
          "annotationdefaults": {
           "arrowcolor": "#2a3f5f",
           "arrowhead": 0,
           "arrowwidth": 1
          },
          "autotypenumbers": "strict",
          "coloraxis": {
           "colorbar": {
            "outlinewidth": 0,
            "ticks": ""
           }
          },
          "colorscale": {
           "diverging": [
            [
             0,
             "#8e0152"
            ],
            [
             0.1,
             "#c51b7d"
            ],
            [
             0.2,
             "#de77ae"
            ],
            [
             0.3,
             "#f1b6da"
            ],
            [
             0.4,
             "#fde0ef"
            ],
            [
             0.5,
             "#f7f7f7"
            ],
            [
             0.6,
             "#e6f5d0"
            ],
            [
             0.7,
             "#b8e186"
            ],
            [
             0.8,
             "#7fbc41"
            ],
            [
             0.9,
             "#4d9221"
            ],
            [
             1,
             "#276419"
            ]
           ],
           "sequential": [
            [
             0,
             "#0d0887"
            ],
            [
             0.1111111111111111,
             "#46039f"
            ],
            [
             0.2222222222222222,
             "#7201a8"
            ],
            [
             0.3333333333333333,
             "#9c179e"
            ],
            [
             0.4444444444444444,
             "#bd3786"
            ],
            [
             0.5555555555555556,
             "#d8576b"
            ],
            [
             0.6666666666666666,
             "#ed7953"
            ],
            [
             0.7777777777777778,
             "#fb9f3a"
            ],
            [
             0.8888888888888888,
             "#fdca26"
            ],
            [
             1,
             "#f0f921"
            ]
           ],
           "sequentialminus": [
            [
             0,
             "#0d0887"
            ],
            [
             0.1111111111111111,
             "#46039f"
            ],
            [
             0.2222222222222222,
             "#7201a8"
            ],
            [
             0.3333333333333333,
             "#9c179e"
            ],
            [
             0.4444444444444444,
             "#bd3786"
            ],
            [
             0.5555555555555556,
             "#d8576b"
            ],
            [
             0.6666666666666666,
             "#ed7953"
            ],
            [
             0.7777777777777778,
             "#fb9f3a"
            ],
            [
             0.8888888888888888,
             "#fdca26"
            ],
            [
             1,
             "#f0f921"
            ]
           ]
          },
          "colorway": [
           "#636efa",
           "#EF553B",
           "#00cc96",
           "#ab63fa",
           "#FFA15A",
           "#19d3f3",
           "#FF6692",
           "#B6E880",
           "#FF97FF",
           "#FECB52"
          ],
          "font": {
           "color": "#2a3f5f"
          },
          "geo": {
           "bgcolor": "white",
           "lakecolor": "white",
           "landcolor": "#E5ECF6",
           "showlakes": true,
           "showland": true,
           "subunitcolor": "white"
          },
          "hoverlabel": {
           "align": "left"
          },
          "hovermode": "closest",
          "mapbox": {
           "style": "light"
          },
          "paper_bgcolor": "white",
          "plot_bgcolor": "#E5ECF6",
          "polar": {
           "angularaxis": {
            "gridcolor": "white",
            "linecolor": "white",
            "ticks": ""
           },
           "bgcolor": "#E5ECF6",
           "radialaxis": {
            "gridcolor": "white",
            "linecolor": "white",
            "ticks": ""
           }
          },
          "scene": {
           "xaxis": {
            "backgroundcolor": "#E5ECF6",
            "gridcolor": "white",
            "gridwidth": 2,
            "linecolor": "white",
            "showbackground": true,
            "ticks": "",
            "zerolinecolor": "white"
           },
           "yaxis": {
            "backgroundcolor": "#E5ECF6",
            "gridcolor": "white",
            "gridwidth": 2,
            "linecolor": "white",
            "showbackground": true,
            "ticks": "",
            "zerolinecolor": "white"
           },
           "zaxis": {
            "backgroundcolor": "#E5ECF6",
            "gridcolor": "white",
            "gridwidth": 2,
            "linecolor": "white",
            "showbackground": true,
            "ticks": "",
            "zerolinecolor": "white"
           }
          },
          "shapedefaults": {
           "line": {
            "color": "#2a3f5f"
           }
          },
          "ternary": {
           "aaxis": {
            "gridcolor": "white",
            "linecolor": "white",
            "ticks": ""
           },
           "baxis": {
            "gridcolor": "white",
            "linecolor": "white",
            "ticks": ""
           },
           "bgcolor": "#E5ECF6",
           "caxis": {
            "gridcolor": "white",
            "linecolor": "white",
            "ticks": ""
           }
          },
          "title": {
           "x": 0.05
          },
          "xaxis": {
           "automargin": true,
           "gridcolor": "white",
           "linecolor": "white",
           "ticks": "",
           "title": {
            "standoff": 15
           },
           "zerolinecolor": "white",
           "zerolinewidth": 2
          },
          "yaxis": {
           "automargin": true,
           "gridcolor": "white",
           "linecolor": "white",
           "ticks": "",
           "title": {
            "standoff": 15
           },
           "zerolinecolor": "white",
           "zerolinewidth": 2
          }
         }
        },
        "title": {
         "text": "Optimization History Plot"
        },
        "xaxis": {
         "title": {
          "text": "#Trials"
         }
        },
        "yaxis": {
         "title": {
          "text": "Objective Value"
         }
        }
       }
      }
     },
     "metadata": {},
     "output_type": "display_data"
    }
   ],
   "source": [
    "optuna.visualization.plot_optimization_history(study_1)"
   ]
  },
  {
   "cell_type": "code",
   "execution_count": 6,
   "metadata": {},
   "outputs": [
    {
     "data": {
      "application/vnd.plotly.v1+json": {
       "config": {
        "plotlyServerURL": "https://plot.ly"
       },
       "data": [
        {
         "marker": {
          "color": [
           0,
           1,
           2,
           3,
           4,
           5,
           6,
           7,
           8,
           9,
           10,
           11,
           12,
           13,
           14,
           15,
           16,
           17,
           18,
           19,
           20,
           21,
           22,
           23,
           24,
           25,
           26,
           27,
           28,
           29,
           30,
           31,
           32,
           33,
           34,
           35,
           36,
           37,
           38,
           39,
           40,
           41,
           42,
           43,
           44,
           45,
           46,
           47,
           48,
           49,
           50,
           51,
           52,
           53,
           54,
           55,
           56,
           57,
           58,
           59,
           60,
           61,
           62,
           63
          ],
          "colorbar": {
           "title": {
            "text": "#Trials"
           },
           "x": 1,
           "xpad": 40
          },
          "colorscale": [
           [
            0,
            "rgb(247,251,255)"
           ],
           [
            0.125,
            "rgb(222,235,247)"
           ],
           [
            0.25,
            "rgb(198,219,239)"
           ],
           [
            0.375,
            "rgb(158,202,225)"
           ],
           [
            0.5,
            "rgb(107,174,214)"
           ],
           [
            0.625,
            "rgb(66,146,198)"
           ],
           [
            0.75,
            "rgb(33,113,181)"
           ],
           [
            0.875,
            "rgb(8,81,156)"
           ],
           [
            1,
            "rgb(8,48,107)"
           ]
          ],
          "line": {
           "color": "Grey",
           "width": 0.5
          },
          "showscale": true
         },
         "mode": "markers",
         "showlegend": false,
         "type": "scatter",
         "x": [
          "gini",
          "gini",
          "entropy",
          "gini",
          "gini",
          "gini",
          "entropy",
          "gini",
          "entropy",
          "entropy",
          "entropy",
          "entropy",
          "entropy",
          "entropy",
          "entropy",
          "entropy",
          "entropy",
          "entropy",
          "entropy",
          "entropy",
          "entropy",
          "entropy",
          "entropy",
          "entropy",
          "entropy",
          "entropy",
          "entropy",
          "entropy",
          "entropy",
          "entropy",
          "entropy",
          "entropy",
          "entropy",
          "entropy",
          "entropy",
          "gini",
          "entropy",
          "gini",
          "entropy",
          "gini",
          "entropy",
          "entropy",
          "entropy",
          "entropy",
          "entropy",
          "entropy",
          "entropy",
          "entropy",
          "entropy",
          "gini",
          "entropy",
          "entropy",
          "entropy",
          "entropy",
          "entropy",
          "entropy",
          "entropy",
          "entropy",
          "entropy",
          "entropy",
          "entropy",
          "entropy",
          "entropy",
          "entropy"
         ],
         "xaxis": "x",
         "y": [
          0.6122540180321443,
          0.6049392395139161,
          0.5943237945903567,
          0.6175460603684829,
          0.6098706389651117,
          0.6196550372402979,
          0.621858094864759,
          0.6154292434339474,
          0.6281615052920423,
          0.6015209721677773,
          0.6258408467267739,
          0.6252685221481772,
          0.62203057624461,
          0.6353978831830654,
          0.6359702077616621,
          0.6345041160329282,
          0.6341826734613877,
          0.6375068600548804,
          0.6207840062720502,
          0.6116346530772246,
          0.6302548020384163,
          0.635280282242258,
          0.622046256370051,
          0.6310544884359075,
          0.6251195609564877,
          0.6365817326538612,
          0.6323010584084673,
          0.6251430811446491,
          0.6289925519404155,
          0.6340415523324187,
          0.6263347706781655,
          0.6349274794198354,
          0.6356017248137985,
          0.6347706781654253,
          0.6195923167385339,
          0.6296432771462172,
          0.6259427675421403,
          0.6262877303018424,
          0.6375068600548804,
          0.6210348882791062,
          0.6144021952175618,
          0.6371854174833399,
          0.6276127009016073,
          0.6293923951391611,
          0.6343551548412387,
          0.6287416699333594,
          0.619921599372795,
          0.6325519404155233,
          0.6248451587612701,
          0.6139004312034496,
          0.6224852998823991,
          0.6372951783614269,
          0.6378518228145825,
          0.6372559780478244,
          0.6356958055664446,
          0.6318149745197962,
          0.6356566052528421,
          0.6381967855742846,
          0.6395531164249314,
          0.6305292042336339,
          0.6258173265386123,
          0.6369188553508428,
          0.6380086240689925,
          0.6343551548412387
         ],
         "yaxis": "y"
        },
        {
         "marker": {
          "color": [
           0,
           1,
           2,
           3,
           4,
           5,
           6,
           7,
           8,
           9,
           10,
           11,
           12,
           13,
           14,
           15,
           16,
           17,
           18,
           19,
           20,
           21,
           22,
           23,
           24,
           25,
           26,
           27,
           28,
           29,
           30,
           31,
           32,
           33,
           34,
           35,
           36,
           37,
           38,
           39,
           40,
           41,
           42,
           43,
           44,
           45,
           46,
           47,
           48,
           49,
           50,
           51,
           52,
           53,
           54,
           55,
           56,
           57,
           58,
           59,
           60,
           61,
           62,
           63
          ],
          "colorbar": {
           "title": {
            "text": "#Trials"
           },
           "x": 1,
           "xpad": 40
          },
          "colorscale": [
           [
            0,
            "rgb(247,251,255)"
           ],
           [
            0.125,
            "rgb(222,235,247)"
           ],
           [
            0.25,
            "rgb(198,219,239)"
           ],
           [
            0.375,
            "rgb(158,202,225)"
           ],
           [
            0.5,
            "rgb(107,174,214)"
           ],
           [
            0.625,
            "rgb(66,146,198)"
           ],
           [
            0.75,
            "rgb(33,113,181)"
           ],
           [
            0.875,
            "rgb(8,81,156)"
           ],
           [
            1,
            "rgb(8,48,107)"
           ]
          ],
          "line": {
           "color": "Grey",
           "width": 0.5
          },
          "showscale": false
         },
         "mode": "markers",
         "showlegend": false,
         "type": "scatter",
         "x": [
          62,
          37,
          55,
          57,
          57,
          25,
          22,
          24,
          25,
          61,
          34,
          35,
          46,
          16,
          17,
          16,
          16,
          16,
          31,
          43,
          20,
          17,
          29,
          20,
          29,
          16,
          19,
          27,
          21,
          16,
          23,
          17,
          16,
          18,
          48,
          20,
          26,
          22,
          16,
          38,
          52,
          18,
          23,
          19,
          18,
          24,
          63,
          22,
          28,
          31,
          25,
          16,
          16,
          16,
          19,
          21,
          18,
          16,
          16,
          21,
          16,
          16,
          16,
          19
         ],
         "xaxis": "x2",
         "y": [
          0.6122540180321443,
          0.6049392395139161,
          0.5943237945903567,
          0.6175460603684829,
          0.6098706389651117,
          0.6196550372402979,
          0.621858094864759,
          0.6154292434339474,
          0.6281615052920423,
          0.6015209721677773,
          0.6258408467267739,
          0.6252685221481772,
          0.62203057624461,
          0.6353978831830654,
          0.6359702077616621,
          0.6345041160329282,
          0.6341826734613877,
          0.6375068600548804,
          0.6207840062720502,
          0.6116346530772246,
          0.6302548020384163,
          0.635280282242258,
          0.622046256370051,
          0.6310544884359075,
          0.6251195609564877,
          0.6365817326538612,
          0.6323010584084673,
          0.6251430811446491,
          0.6289925519404155,
          0.6340415523324187,
          0.6263347706781655,
          0.6349274794198354,
          0.6356017248137985,
          0.6347706781654253,
          0.6195923167385339,
          0.6296432771462172,
          0.6259427675421403,
          0.6262877303018424,
          0.6375068600548804,
          0.6210348882791062,
          0.6144021952175618,
          0.6371854174833399,
          0.6276127009016073,
          0.6293923951391611,
          0.6343551548412387,
          0.6287416699333594,
          0.619921599372795,
          0.6325519404155233,
          0.6248451587612701,
          0.6139004312034496,
          0.6224852998823991,
          0.6372951783614269,
          0.6378518228145825,
          0.6372559780478244,
          0.6356958055664446,
          0.6318149745197962,
          0.6356566052528421,
          0.6381967855742846,
          0.6395531164249314,
          0.6305292042336339,
          0.6258173265386123,
          0.6369188553508428,
          0.6380086240689925,
          0.6343551548412387
         ],
         "yaxis": "y2"
        },
        {
         "marker": {
          "color": [
           0,
           1,
           2,
           3,
           4,
           5,
           6,
           7,
           8,
           9,
           10,
           11,
           12,
           13,
           14,
           15,
           16,
           17,
           18,
           19,
           20,
           21,
           22,
           23,
           24,
           25,
           26,
           27,
           28,
           29,
           30,
           31,
           32,
           33,
           34,
           35,
           36,
           37,
           38,
           39,
           40,
           41,
           42,
           43,
           44,
           45,
           46,
           47,
           48,
           49,
           50,
           51,
           52,
           53,
           54,
           55,
           56,
           57,
           58,
           59,
           60,
           61,
           62,
           63
          ],
          "colorbar": {
           "title": {
            "text": "#Trials"
           },
           "x": 1,
           "xpad": 40
          },
          "colorscale": [
           [
            0,
            "rgb(247,251,255)"
           ],
           [
            0.125,
            "rgb(222,235,247)"
           ],
           [
            0.25,
            "rgb(198,219,239)"
           ],
           [
            0.375,
            "rgb(158,202,225)"
           ],
           [
            0.5,
            "rgb(107,174,214)"
           ],
           [
            0.625,
            "rgb(66,146,198)"
           ],
           [
            0.75,
            "rgb(33,113,181)"
           ],
           [
            0.875,
            "rgb(8,81,156)"
           ],
           [
            1,
            "rgb(8,48,107)"
           ]
          ],
          "line": {
           "color": "Grey",
           "width": 0.5
          },
          "showscale": false
         },
         "mode": "markers",
         "showlegend": false,
         "type": "scatter",
         "x": [
          4,
          5,
          3,
          5,
          7,
          8,
          3,
          6,
          8,
          3,
          8,
          8,
          7,
          8,
          7,
          7,
          6,
          6,
          6,
          6,
          4,
          7,
          7,
          6,
          8,
          7,
          5,
          7,
          6,
          4,
          7,
          8,
          7,
          5,
          6,
          7,
          7,
          5,
          6,
          6,
          5,
          6,
          6,
          2,
          6,
          5,
          6,
          7,
          6,
          5,
          6,
          7,
          7,
          7,
          8,
          7,
          8,
          6,
          7,
          6,
          7,
          7,
          8,
          8
         ],
         "xaxis": "x3",
         "y": [
          0.6122540180321443,
          0.6049392395139161,
          0.5943237945903567,
          0.6175460603684829,
          0.6098706389651117,
          0.6196550372402979,
          0.621858094864759,
          0.6154292434339474,
          0.6281615052920423,
          0.6015209721677773,
          0.6258408467267739,
          0.6252685221481772,
          0.62203057624461,
          0.6353978831830654,
          0.6359702077616621,
          0.6345041160329282,
          0.6341826734613877,
          0.6375068600548804,
          0.6207840062720502,
          0.6116346530772246,
          0.6302548020384163,
          0.635280282242258,
          0.622046256370051,
          0.6310544884359075,
          0.6251195609564877,
          0.6365817326538612,
          0.6323010584084673,
          0.6251430811446491,
          0.6289925519404155,
          0.6340415523324187,
          0.6263347706781655,
          0.6349274794198354,
          0.6356017248137985,
          0.6347706781654253,
          0.6195923167385339,
          0.6296432771462172,
          0.6259427675421403,
          0.6262877303018424,
          0.6375068600548804,
          0.6210348882791062,
          0.6144021952175618,
          0.6371854174833399,
          0.6276127009016073,
          0.6293923951391611,
          0.6343551548412387,
          0.6287416699333594,
          0.619921599372795,
          0.6325519404155233,
          0.6248451587612701,
          0.6139004312034496,
          0.6224852998823991,
          0.6372951783614269,
          0.6378518228145825,
          0.6372559780478244,
          0.6356958055664446,
          0.6318149745197962,
          0.6356566052528421,
          0.6381967855742846,
          0.6395531164249314,
          0.6305292042336339,
          0.6258173265386123,
          0.6369188553508428,
          0.6380086240689925,
          0.6343551548412387
         ],
         "yaxis": "y3"
        },
        {
         "marker": {
          "color": [
           0,
           1,
           2,
           3,
           4,
           5,
           6,
           7,
           8,
           9,
           10,
           11,
           12,
           13,
           14,
           15,
           16,
           17,
           18,
           19,
           20,
           21,
           22,
           23,
           24,
           25,
           26,
           27,
           28,
           29,
           30,
           31,
           32,
           33,
           34,
           35,
           36,
           37,
           38,
           39,
           40,
           41,
           42,
           43,
           44,
           45,
           46,
           47,
           48,
           49,
           50,
           51,
           52,
           53,
           54,
           55,
           56,
           57,
           58,
           59,
           60,
           61,
           62,
           63
          ],
          "colorbar": {
           "title": {
            "text": "#Trials"
           },
           "x": 1,
           "xpad": 40
          },
          "colorscale": [
           [
            0,
            "rgb(247,251,255)"
           ],
           [
            0.125,
            "rgb(222,235,247)"
           ],
           [
            0.25,
            "rgb(198,219,239)"
           ],
           [
            0.375,
            "rgb(158,202,225)"
           ],
           [
            0.5,
            "rgb(107,174,214)"
           ],
           [
            0.625,
            "rgb(66,146,198)"
           ],
           [
            0.75,
            "rgb(33,113,181)"
           ],
           [
            0.875,
            "rgb(8,81,156)"
           ],
           [
            1,
            "rgb(8,48,107)"
           ]
          ],
          "line": {
           "color": "Grey",
           "width": 0.5
          },
          "showscale": false
         },
         "mode": "markers",
         "showlegend": false,
         "type": "scatter",
         "x": [
          8,
          6,
          2,
          2,
          7,
          3,
          4,
          7,
          3,
          7,
          5,
          5,
          4,
          5,
          3,
          4,
          3,
          6,
          6,
          6,
          8,
          5,
          6,
          4,
          5,
          6,
          7,
          6,
          7,
          6,
          8,
          5,
          6,
          6,
          7,
          6,
          2,
          7,
          6,
          3,
          8,
          6,
          6,
          7,
          6,
          5,
          7,
          2,
          6,
          4,
          5,
          6,
          6,
          6,
          6,
          7,
          5,
          6,
          6,
          5,
          7,
          6,
          6,
          6
         ],
         "xaxis": "x4",
         "y": [
          0.6122540180321443,
          0.6049392395139161,
          0.5943237945903567,
          0.6175460603684829,
          0.6098706389651117,
          0.6196550372402979,
          0.621858094864759,
          0.6154292434339474,
          0.6281615052920423,
          0.6015209721677773,
          0.6258408467267739,
          0.6252685221481772,
          0.62203057624461,
          0.6353978831830654,
          0.6359702077616621,
          0.6345041160329282,
          0.6341826734613877,
          0.6375068600548804,
          0.6207840062720502,
          0.6116346530772246,
          0.6302548020384163,
          0.635280282242258,
          0.622046256370051,
          0.6310544884359075,
          0.6251195609564877,
          0.6365817326538612,
          0.6323010584084673,
          0.6251430811446491,
          0.6289925519404155,
          0.6340415523324187,
          0.6263347706781655,
          0.6349274794198354,
          0.6356017248137985,
          0.6347706781654253,
          0.6195923167385339,
          0.6296432771462172,
          0.6259427675421403,
          0.6262877303018424,
          0.6375068600548804,
          0.6210348882791062,
          0.6144021952175618,
          0.6371854174833399,
          0.6276127009016073,
          0.6293923951391611,
          0.6343551548412387,
          0.6287416699333594,
          0.619921599372795,
          0.6325519404155233,
          0.6248451587612701,
          0.6139004312034496,
          0.6224852998823991,
          0.6372951783614269,
          0.6378518228145825,
          0.6372559780478244,
          0.6356958055664446,
          0.6318149745197962,
          0.6356566052528421,
          0.6381967855742846,
          0.6395531164249314,
          0.6305292042336339,
          0.6258173265386123,
          0.6369188553508428,
          0.6380086240689925,
          0.6343551548412387
         ],
         "yaxis": "y4"
        },
        {
         "marker": {
          "color": [
           0,
           1,
           2,
           3,
           4,
           5,
           6,
           7,
           8,
           9,
           10,
           11,
           12,
           13,
           14,
           15,
           16,
           17,
           18,
           19,
           20,
           21,
           22,
           23,
           24,
           25,
           26,
           27,
           28,
           29,
           30,
           31,
           32,
           33,
           34,
           35,
           36,
           37,
           38,
           39,
           40,
           41,
           42,
           43,
           44,
           45,
           46,
           47,
           48,
           49,
           50,
           51,
           52,
           53,
           54,
           55,
           56,
           57,
           58,
           59,
           60,
           61,
           62,
           63
          ],
          "colorbar": {
           "title": {
            "text": "#Trials"
           },
           "x": 1,
           "xpad": 40
          },
          "colorscale": [
           [
            0,
            "rgb(247,251,255)"
           ],
           [
            0.125,
            "rgb(222,235,247)"
           ],
           [
            0.25,
            "rgb(198,219,239)"
           ],
           [
            0.375,
            "rgb(158,202,225)"
           ],
           [
            0.5,
            "rgb(107,174,214)"
           ],
           [
            0.625,
            "rgb(66,146,198)"
           ],
           [
            0.75,
            "rgb(33,113,181)"
           ],
           [
            0.875,
            "rgb(8,81,156)"
           ],
           [
            1,
            "rgb(8,48,107)"
           ]
          ],
          "line": {
           "color": "Grey",
           "width": 0.5
          },
          "showscale": false
         },
         "mode": "markers",
         "showlegend": false,
         "type": "scatter",
         "x": [
          20,
          10,
          9,
          24,
          11,
          13,
          15,
          11,
          27,
          13,
          31,
          32,
          32,
          27,
          27,
          26,
          22,
          29,
          29,
          18,
          30,
          27,
          24,
          29,
          25,
          28,
          22,
          29,
          23,
          19,
          21,
          27,
          28,
          30,
          28,
          25,
          32,
          30,
          25,
          25,
          24,
          28,
          26,
          28,
          26,
          30,
          28,
          32,
          31,
          17,
          23,
          28,
          31,
          31,
          31,
          31,
          29,
          30,
          32,
          32,
          8,
          30,
          31,
          32
         ],
         "xaxis": "x5",
         "y": [
          0.6122540180321443,
          0.6049392395139161,
          0.5943237945903567,
          0.6175460603684829,
          0.6098706389651117,
          0.6196550372402979,
          0.621858094864759,
          0.6154292434339474,
          0.6281615052920423,
          0.6015209721677773,
          0.6258408467267739,
          0.6252685221481772,
          0.62203057624461,
          0.6353978831830654,
          0.6359702077616621,
          0.6345041160329282,
          0.6341826734613877,
          0.6375068600548804,
          0.6207840062720502,
          0.6116346530772246,
          0.6302548020384163,
          0.635280282242258,
          0.622046256370051,
          0.6310544884359075,
          0.6251195609564877,
          0.6365817326538612,
          0.6323010584084673,
          0.6251430811446491,
          0.6289925519404155,
          0.6340415523324187,
          0.6263347706781655,
          0.6349274794198354,
          0.6356017248137985,
          0.6347706781654253,
          0.6195923167385339,
          0.6296432771462172,
          0.6259427675421403,
          0.6262877303018424,
          0.6375068600548804,
          0.6210348882791062,
          0.6144021952175618,
          0.6371854174833399,
          0.6276127009016073,
          0.6293923951391611,
          0.6343551548412387,
          0.6287416699333594,
          0.619921599372795,
          0.6325519404155233,
          0.6248451587612701,
          0.6139004312034496,
          0.6224852998823991,
          0.6372951783614269,
          0.6378518228145825,
          0.6372559780478244,
          0.6356958055664446,
          0.6318149745197962,
          0.6356566052528421,
          0.6381967855742846,
          0.6395531164249314,
          0.6305292042336339,
          0.6258173265386123,
          0.6369188553508428,
          0.6380086240689925,
          0.6343551548412387
         ],
         "yaxis": "y5"
        }
       ],
       "layout": {
        "template": {
         "data": {
          "bar": [
           {
            "error_x": {
             "color": "#2a3f5f"
            },
            "error_y": {
             "color": "#2a3f5f"
            },
            "marker": {
             "line": {
              "color": "#E5ECF6",
              "width": 0.5
             },
             "pattern": {
              "fillmode": "overlay",
              "size": 10,
              "solidity": 0.2
             }
            },
            "type": "bar"
           }
          ],
          "barpolar": [
           {
            "marker": {
             "line": {
              "color": "#E5ECF6",
              "width": 0.5
             },
             "pattern": {
              "fillmode": "overlay",
              "size": 10,
              "solidity": 0.2
             }
            },
            "type": "barpolar"
           }
          ],
          "carpet": [
           {
            "aaxis": {
             "endlinecolor": "#2a3f5f",
             "gridcolor": "white",
             "linecolor": "white",
             "minorgridcolor": "white",
             "startlinecolor": "#2a3f5f"
            },
            "baxis": {
             "endlinecolor": "#2a3f5f",
             "gridcolor": "white",
             "linecolor": "white",
             "minorgridcolor": "white",
             "startlinecolor": "#2a3f5f"
            },
            "type": "carpet"
           }
          ],
          "choropleth": [
           {
            "colorbar": {
             "outlinewidth": 0,
             "ticks": ""
            },
            "type": "choropleth"
           }
          ],
          "contour": [
           {
            "colorbar": {
             "outlinewidth": 0,
             "ticks": ""
            },
            "colorscale": [
             [
              0,
              "#0d0887"
             ],
             [
              0.1111111111111111,
              "#46039f"
             ],
             [
              0.2222222222222222,
              "#7201a8"
             ],
             [
              0.3333333333333333,
              "#9c179e"
             ],
             [
              0.4444444444444444,
              "#bd3786"
             ],
             [
              0.5555555555555556,
              "#d8576b"
             ],
             [
              0.6666666666666666,
              "#ed7953"
             ],
             [
              0.7777777777777778,
              "#fb9f3a"
             ],
             [
              0.8888888888888888,
              "#fdca26"
             ],
             [
              1,
              "#f0f921"
             ]
            ],
            "type": "contour"
           }
          ],
          "contourcarpet": [
           {
            "colorbar": {
             "outlinewidth": 0,
             "ticks": ""
            },
            "type": "contourcarpet"
           }
          ],
          "heatmap": [
           {
            "colorbar": {
             "outlinewidth": 0,
             "ticks": ""
            },
            "colorscale": [
             [
              0,
              "#0d0887"
             ],
             [
              0.1111111111111111,
              "#46039f"
             ],
             [
              0.2222222222222222,
              "#7201a8"
             ],
             [
              0.3333333333333333,
              "#9c179e"
             ],
             [
              0.4444444444444444,
              "#bd3786"
             ],
             [
              0.5555555555555556,
              "#d8576b"
             ],
             [
              0.6666666666666666,
              "#ed7953"
             ],
             [
              0.7777777777777778,
              "#fb9f3a"
             ],
             [
              0.8888888888888888,
              "#fdca26"
             ],
             [
              1,
              "#f0f921"
             ]
            ],
            "type": "heatmap"
           }
          ],
          "heatmapgl": [
           {
            "colorbar": {
             "outlinewidth": 0,
             "ticks": ""
            },
            "colorscale": [
             [
              0,
              "#0d0887"
             ],
             [
              0.1111111111111111,
              "#46039f"
             ],
             [
              0.2222222222222222,
              "#7201a8"
             ],
             [
              0.3333333333333333,
              "#9c179e"
             ],
             [
              0.4444444444444444,
              "#bd3786"
             ],
             [
              0.5555555555555556,
              "#d8576b"
             ],
             [
              0.6666666666666666,
              "#ed7953"
             ],
             [
              0.7777777777777778,
              "#fb9f3a"
             ],
             [
              0.8888888888888888,
              "#fdca26"
             ],
             [
              1,
              "#f0f921"
             ]
            ],
            "type": "heatmapgl"
           }
          ],
          "histogram": [
           {
            "marker": {
             "pattern": {
              "fillmode": "overlay",
              "size": 10,
              "solidity": 0.2
             }
            },
            "type": "histogram"
           }
          ],
          "histogram2d": [
           {
            "colorbar": {
             "outlinewidth": 0,
             "ticks": ""
            },
            "colorscale": [
             [
              0,
              "#0d0887"
             ],
             [
              0.1111111111111111,
              "#46039f"
             ],
             [
              0.2222222222222222,
              "#7201a8"
             ],
             [
              0.3333333333333333,
              "#9c179e"
             ],
             [
              0.4444444444444444,
              "#bd3786"
             ],
             [
              0.5555555555555556,
              "#d8576b"
             ],
             [
              0.6666666666666666,
              "#ed7953"
             ],
             [
              0.7777777777777778,
              "#fb9f3a"
             ],
             [
              0.8888888888888888,
              "#fdca26"
             ],
             [
              1,
              "#f0f921"
             ]
            ],
            "type": "histogram2d"
           }
          ],
          "histogram2dcontour": [
           {
            "colorbar": {
             "outlinewidth": 0,
             "ticks": ""
            },
            "colorscale": [
             [
              0,
              "#0d0887"
             ],
             [
              0.1111111111111111,
              "#46039f"
             ],
             [
              0.2222222222222222,
              "#7201a8"
             ],
             [
              0.3333333333333333,
              "#9c179e"
             ],
             [
              0.4444444444444444,
              "#bd3786"
             ],
             [
              0.5555555555555556,
              "#d8576b"
             ],
             [
              0.6666666666666666,
              "#ed7953"
             ],
             [
              0.7777777777777778,
              "#fb9f3a"
             ],
             [
              0.8888888888888888,
              "#fdca26"
             ],
             [
              1,
              "#f0f921"
             ]
            ],
            "type": "histogram2dcontour"
           }
          ],
          "mesh3d": [
           {
            "colorbar": {
             "outlinewidth": 0,
             "ticks": ""
            },
            "type": "mesh3d"
           }
          ],
          "parcoords": [
           {
            "line": {
             "colorbar": {
              "outlinewidth": 0,
              "ticks": ""
             }
            },
            "type": "parcoords"
           }
          ],
          "pie": [
           {
            "automargin": true,
            "type": "pie"
           }
          ],
          "scatter": [
           {
            "marker": {
             "colorbar": {
              "outlinewidth": 0,
              "ticks": ""
             }
            },
            "type": "scatter"
           }
          ],
          "scatter3d": [
           {
            "line": {
             "colorbar": {
              "outlinewidth": 0,
              "ticks": ""
             }
            },
            "marker": {
             "colorbar": {
              "outlinewidth": 0,
              "ticks": ""
             }
            },
            "type": "scatter3d"
           }
          ],
          "scattercarpet": [
           {
            "marker": {
             "colorbar": {
              "outlinewidth": 0,
              "ticks": ""
             }
            },
            "type": "scattercarpet"
           }
          ],
          "scattergeo": [
           {
            "marker": {
             "colorbar": {
              "outlinewidth": 0,
              "ticks": ""
             }
            },
            "type": "scattergeo"
           }
          ],
          "scattergl": [
           {
            "marker": {
             "colorbar": {
              "outlinewidth": 0,
              "ticks": ""
             }
            },
            "type": "scattergl"
           }
          ],
          "scattermapbox": [
           {
            "marker": {
             "colorbar": {
              "outlinewidth": 0,
              "ticks": ""
             }
            },
            "type": "scattermapbox"
           }
          ],
          "scatterpolar": [
           {
            "marker": {
             "colorbar": {
              "outlinewidth": 0,
              "ticks": ""
             }
            },
            "type": "scatterpolar"
           }
          ],
          "scatterpolargl": [
           {
            "marker": {
             "colorbar": {
              "outlinewidth": 0,
              "ticks": ""
             }
            },
            "type": "scatterpolargl"
           }
          ],
          "scatterternary": [
           {
            "marker": {
             "colorbar": {
              "outlinewidth": 0,
              "ticks": ""
             }
            },
            "type": "scatterternary"
           }
          ],
          "surface": [
           {
            "colorbar": {
             "outlinewidth": 0,
             "ticks": ""
            },
            "colorscale": [
             [
              0,
              "#0d0887"
             ],
             [
              0.1111111111111111,
              "#46039f"
             ],
             [
              0.2222222222222222,
              "#7201a8"
             ],
             [
              0.3333333333333333,
              "#9c179e"
             ],
             [
              0.4444444444444444,
              "#bd3786"
             ],
             [
              0.5555555555555556,
              "#d8576b"
             ],
             [
              0.6666666666666666,
              "#ed7953"
             ],
             [
              0.7777777777777778,
              "#fb9f3a"
             ],
             [
              0.8888888888888888,
              "#fdca26"
             ],
             [
              1,
              "#f0f921"
             ]
            ],
            "type": "surface"
           }
          ],
          "table": [
           {
            "cells": {
             "fill": {
              "color": "#EBF0F8"
             },
             "line": {
              "color": "white"
             }
            },
            "header": {
             "fill": {
              "color": "#C8D4E3"
             },
             "line": {
              "color": "white"
             }
            },
            "type": "table"
           }
          ]
         },
         "layout": {
          "annotationdefaults": {
           "arrowcolor": "#2a3f5f",
           "arrowhead": 0,
           "arrowwidth": 1
          },
          "autotypenumbers": "strict",
          "coloraxis": {
           "colorbar": {
            "outlinewidth": 0,
            "ticks": ""
           }
          },
          "colorscale": {
           "diverging": [
            [
             0,
             "#8e0152"
            ],
            [
             0.1,
             "#c51b7d"
            ],
            [
             0.2,
             "#de77ae"
            ],
            [
             0.3,
             "#f1b6da"
            ],
            [
             0.4,
             "#fde0ef"
            ],
            [
             0.5,
             "#f7f7f7"
            ],
            [
             0.6,
             "#e6f5d0"
            ],
            [
             0.7,
             "#b8e186"
            ],
            [
             0.8,
             "#7fbc41"
            ],
            [
             0.9,
             "#4d9221"
            ],
            [
             1,
             "#276419"
            ]
           ],
           "sequential": [
            [
             0,
             "#0d0887"
            ],
            [
             0.1111111111111111,
             "#46039f"
            ],
            [
             0.2222222222222222,
             "#7201a8"
            ],
            [
             0.3333333333333333,
             "#9c179e"
            ],
            [
             0.4444444444444444,
             "#bd3786"
            ],
            [
             0.5555555555555556,
             "#d8576b"
            ],
            [
             0.6666666666666666,
             "#ed7953"
            ],
            [
             0.7777777777777778,
             "#fb9f3a"
            ],
            [
             0.8888888888888888,
             "#fdca26"
            ],
            [
             1,
             "#f0f921"
            ]
           ],
           "sequentialminus": [
            [
             0,
             "#0d0887"
            ],
            [
             0.1111111111111111,
             "#46039f"
            ],
            [
             0.2222222222222222,
             "#7201a8"
            ],
            [
             0.3333333333333333,
             "#9c179e"
            ],
            [
             0.4444444444444444,
             "#bd3786"
            ],
            [
             0.5555555555555556,
             "#d8576b"
            ],
            [
             0.6666666666666666,
             "#ed7953"
            ],
            [
             0.7777777777777778,
             "#fb9f3a"
            ],
            [
             0.8888888888888888,
             "#fdca26"
            ],
            [
             1,
             "#f0f921"
            ]
           ]
          },
          "colorway": [
           "#636efa",
           "#EF553B",
           "#00cc96",
           "#ab63fa",
           "#FFA15A",
           "#19d3f3",
           "#FF6692",
           "#B6E880",
           "#FF97FF",
           "#FECB52"
          ],
          "font": {
           "color": "#2a3f5f"
          },
          "geo": {
           "bgcolor": "white",
           "lakecolor": "white",
           "landcolor": "#E5ECF6",
           "showlakes": true,
           "showland": true,
           "subunitcolor": "white"
          },
          "hoverlabel": {
           "align": "left"
          },
          "hovermode": "closest",
          "mapbox": {
           "style": "light"
          },
          "paper_bgcolor": "white",
          "plot_bgcolor": "#E5ECF6",
          "polar": {
           "angularaxis": {
            "gridcolor": "white",
            "linecolor": "white",
            "ticks": ""
           },
           "bgcolor": "#E5ECF6",
           "radialaxis": {
            "gridcolor": "white",
            "linecolor": "white",
            "ticks": ""
           }
          },
          "scene": {
           "xaxis": {
            "backgroundcolor": "#E5ECF6",
            "gridcolor": "white",
            "gridwidth": 2,
            "linecolor": "white",
            "showbackground": true,
            "ticks": "",
            "zerolinecolor": "white"
           },
           "yaxis": {
            "backgroundcolor": "#E5ECF6",
            "gridcolor": "white",
            "gridwidth": 2,
            "linecolor": "white",
            "showbackground": true,
            "ticks": "",
            "zerolinecolor": "white"
           },
           "zaxis": {
            "backgroundcolor": "#E5ECF6",
            "gridcolor": "white",
            "gridwidth": 2,
            "linecolor": "white",
            "showbackground": true,
            "ticks": "",
            "zerolinecolor": "white"
           }
          },
          "shapedefaults": {
           "line": {
            "color": "#2a3f5f"
           }
          },
          "ternary": {
           "aaxis": {
            "gridcolor": "white",
            "linecolor": "white",
            "ticks": ""
           },
           "baxis": {
            "gridcolor": "white",
            "linecolor": "white",
            "ticks": ""
           },
           "bgcolor": "#E5ECF6",
           "caxis": {
            "gridcolor": "white",
            "linecolor": "white",
            "ticks": ""
           }
          },
          "title": {
           "x": 0.05
          },
          "xaxis": {
           "automargin": true,
           "gridcolor": "white",
           "linecolor": "white",
           "ticks": "",
           "title": {
            "standoff": 15
           },
           "zerolinecolor": "white",
           "zerolinewidth": 2
          },
          "yaxis": {
           "automargin": true,
           "gridcolor": "white",
           "linecolor": "white",
           "ticks": "",
           "title": {
            "standoff": 15
           },
           "zerolinecolor": "white",
           "zerolinewidth": 2
          }
         }
        },
        "title": {
         "text": "Slice Plot"
        },
        "width": 1500,
        "xaxis": {
         "anchor": "y",
         "domain": [
          0,
          0.16799999999999998
         ],
         "title": {
          "text": "criterion"
         }
        },
        "xaxis2": {
         "anchor": "y2",
         "domain": [
          0.208,
          0.376
         ],
         "title": {
          "text": "max_depth"
         }
        },
        "xaxis3": {
         "anchor": "y3",
         "domain": [
          0.416,
          0.584
         ],
         "title": {
          "text": "min_samples_leaf"
         }
        },
        "xaxis4": {
         "anchor": "y4",
         "domain": [
          0.624,
          0.792
         ],
         "title": {
          "text": "min_samples_split"
         }
        },
        "xaxis5": {
         "anchor": "y5",
         "domain": [
          0.832,
          1
         ],
         "title": {
          "text": "n_estimators"
         }
        },
        "yaxis": {
         "anchor": "x",
         "domain": [
          0,
          1
         ],
         "title": {
          "text": "Objective Value"
         }
        },
        "yaxis2": {
         "anchor": "x2",
         "domain": [
          0,
          1
         ],
         "matches": "y",
         "showticklabels": false
        },
        "yaxis3": {
         "anchor": "x3",
         "domain": [
          0,
          1
         ],
         "matches": "y",
         "showticklabels": false
        },
        "yaxis4": {
         "anchor": "x4",
         "domain": [
          0,
          1
         ],
         "matches": "y",
         "showticklabels": false
        },
        "yaxis5": {
         "anchor": "x5",
         "domain": [
          0,
          1
         ],
         "matches": "y",
         "showticklabels": false
        }
       }
      }
     },
     "metadata": {},
     "output_type": "display_data"
    }
   ],
   "source": [
    "optuna.visualization.plot_slice(study_1)"
   ]
  },
  {
   "cell_type": "code",
   "execution_count": 7,
   "metadata": {},
   "outputs": [
    {
     "data": {
      "application/vnd.plotly.v1+json": {
       "config": {
        "plotlyServerURL": "https://plot.ly"
       },
       "data": [
        {
         "cliponaxis": false,
         "hovertemplate": [
          "criterion (CategoricalDistribution): 0.006089146063565833<extra></extra>",
          "min_samples_split (IntUniformDistribution): 0.009710242700772809<extra></extra>",
          "min_samples_leaf (IntUniformDistribution): 0.08622290422631011<extra></extra>",
          "n_estimators (IntUniformDistribution): 0.35691926110770356<extra></extra>",
          "max_depth (IntUniformDistribution): 0.5410584459016476<extra></extra>"
         ],
         "marker": {
          "color": [
           "rgb(66,146,198)",
           "rgb(8,81,156)",
           "rgb(8,81,156)",
           "rgb(8,81,156)",
           "rgb(8,81,156)"
          ]
         },
         "orientation": "h",
         "text": [
          "0.006089146063565833",
          "0.009710242700772809",
          "0.08622290422631011",
          "0.35691926110770356",
          "0.5410584459016476"
         ],
         "textposition": "outside",
         "texttemplate": "%{text:.2f}",
         "type": "bar",
         "x": [
          0.006089146063565833,
          0.009710242700772809,
          0.08622290422631011,
          0.35691926110770356,
          0.5410584459016476
         ],
         "y": [
          "criterion",
          "min_samples_split",
          "min_samples_leaf",
          "n_estimators",
          "max_depth"
         ]
        }
       ],
       "layout": {
        "showlegend": false,
        "template": {
         "data": {
          "bar": [
           {
            "error_x": {
             "color": "#2a3f5f"
            },
            "error_y": {
             "color": "#2a3f5f"
            },
            "marker": {
             "line": {
              "color": "#E5ECF6",
              "width": 0.5
             },
             "pattern": {
              "fillmode": "overlay",
              "size": 10,
              "solidity": 0.2
             }
            },
            "type": "bar"
           }
          ],
          "barpolar": [
           {
            "marker": {
             "line": {
              "color": "#E5ECF6",
              "width": 0.5
             },
             "pattern": {
              "fillmode": "overlay",
              "size": 10,
              "solidity": 0.2
             }
            },
            "type": "barpolar"
           }
          ],
          "carpet": [
           {
            "aaxis": {
             "endlinecolor": "#2a3f5f",
             "gridcolor": "white",
             "linecolor": "white",
             "minorgridcolor": "white",
             "startlinecolor": "#2a3f5f"
            },
            "baxis": {
             "endlinecolor": "#2a3f5f",
             "gridcolor": "white",
             "linecolor": "white",
             "minorgridcolor": "white",
             "startlinecolor": "#2a3f5f"
            },
            "type": "carpet"
           }
          ],
          "choropleth": [
           {
            "colorbar": {
             "outlinewidth": 0,
             "ticks": ""
            },
            "type": "choropleth"
           }
          ],
          "contour": [
           {
            "colorbar": {
             "outlinewidth": 0,
             "ticks": ""
            },
            "colorscale": [
             [
              0,
              "#0d0887"
             ],
             [
              0.1111111111111111,
              "#46039f"
             ],
             [
              0.2222222222222222,
              "#7201a8"
             ],
             [
              0.3333333333333333,
              "#9c179e"
             ],
             [
              0.4444444444444444,
              "#bd3786"
             ],
             [
              0.5555555555555556,
              "#d8576b"
             ],
             [
              0.6666666666666666,
              "#ed7953"
             ],
             [
              0.7777777777777778,
              "#fb9f3a"
             ],
             [
              0.8888888888888888,
              "#fdca26"
             ],
             [
              1,
              "#f0f921"
             ]
            ],
            "type": "contour"
           }
          ],
          "contourcarpet": [
           {
            "colorbar": {
             "outlinewidth": 0,
             "ticks": ""
            },
            "type": "contourcarpet"
           }
          ],
          "heatmap": [
           {
            "colorbar": {
             "outlinewidth": 0,
             "ticks": ""
            },
            "colorscale": [
             [
              0,
              "#0d0887"
             ],
             [
              0.1111111111111111,
              "#46039f"
             ],
             [
              0.2222222222222222,
              "#7201a8"
             ],
             [
              0.3333333333333333,
              "#9c179e"
             ],
             [
              0.4444444444444444,
              "#bd3786"
             ],
             [
              0.5555555555555556,
              "#d8576b"
             ],
             [
              0.6666666666666666,
              "#ed7953"
             ],
             [
              0.7777777777777778,
              "#fb9f3a"
             ],
             [
              0.8888888888888888,
              "#fdca26"
             ],
             [
              1,
              "#f0f921"
             ]
            ],
            "type": "heatmap"
           }
          ],
          "heatmapgl": [
           {
            "colorbar": {
             "outlinewidth": 0,
             "ticks": ""
            },
            "colorscale": [
             [
              0,
              "#0d0887"
             ],
             [
              0.1111111111111111,
              "#46039f"
             ],
             [
              0.2222222222222222,
              "#7201a8"
             ],
             [
              0.3333333333333333,
              "#9c179e"
             ],
             [
              0.4444444444444444,
              "#bd3786"
             ],
             [
              0.5555555555555556,
              "#d8576b"
             ],
             [
              0.6666666666666666,
              "#ed7953"
             ],
             [
              0.7777777777777778,
              "#fb9f3a"
             ],
             [
              0.8888888888888888,
              "#fdca26"
             ],
             [
              1,
              "#f0f921"
             ]
            ],
            "type": "heatmapgl"
           }
          ],
          "histogram": [
           {
            "marker": {
             "pattern": {
              "fillmode": "overlay",
              "size": 10,
              "solidity": 0.2
             }
            },
            "type": "histogram"
           }
          ],
          "histogram2d": [
           {
            "colorbar": {
             "outlinewidth": 0,
             "ticks": ""
            },
            "colorscale": [
             [
              0,
              "#0d0887"
             ],
             [
              0.1111111111111111,
              "#46039f"
             ],
             [
              0.2222222222222222,
              "#7201a8"
             ],
             [
              0.3333333333333333,
              "#9c179e"
             ],
             [
              0.4444444444444444,
              "#bd3786"
             ],
             [
              0.5555555555555556,
              "#d8576b"
             ],
             [
              0.6666666666666666,
              "#ed7953"
             ],
             [
              0.7777777777777778,
              "#fb9f3a"
             ],
             [
              0.8888888888888888,
              "#fdca26"
             ],
             [
              1,
              "#f0f921"
             ]
            ],
            "type": "histogram2d"
           }
          ],
          "histogram2dcontour": [
           {
            "colorbar": {
             "outlinewidth": 0,
             "ticks": ""
            },
            "colorscale": [
             [
              0,
              "#0d0887"
             ],
             [
              0.1111111111111111,
              "#46039f"
             ],
             [
              0.2222222222222222,
              "#7201a8"
             ],
             [
              0.3333333333333333,
              "#9c179e"
             ],
             [
              0.4444444444444444,
              "#bd3786"
             ],
             [
              0.5555555555555556,
              "#d8576b"
             ],
             [
              0.6666666666666666,
              "#ed7953"
             ],
             [
              0.7777777777777778,
              "#fb9f3a"
             ],
             [
              0.8888888888888888,
              "#fdca26"
             ],
             [
              1,
              "#f0f921"
             ]
            ],
            "type": "histogram2dcontour"
           }
          ],
          "mesh3d": [
           {
            "colorbar": {
             "outlinewidth": 0,
             "ticks": ""
            },
            "type": "mesh3d"
           }
          ],
          "parcoords": [
           {
            "line": {
             "colorbar": {
              "outlinewidth": 0,
              "ticks": ""
             }
            },
            "type": "parcoords"
           }
          ],
          "pie": [
           {
            "automargin": true,
            "type": "pie"
           }
          ],
          "scatter": [
           {
            "marker": {
             "colorbar": {
              "outlinewidth": 0,
              "ticks": ""
             }
            },
            "type": "scatter"
           }
          ],
          "scatter3d": [
           {
            "line": {
             "colorbar": {
              "outlinewidth": 0,
              "ticks": ""
             }
            },
            "marker": {
             "colorbar": {
              "outlinewidth": 0,
              "ticks": ""
             }
            },
            "type": "scatter3d"
           }
          ],
          "scattercarpet": [
           {
            "marker": {
             "colorbar": {
              "outlinewidth": 0,
              "ticks": ""
             }
            },
            "type": "scattercarpet"
           }
          ],
          "scattergeo": [
           {
            "marker": {
             "colorbar": {
              "outlinewidth": 0,
              "ticks": ""
             }
            },
            "type": "scattergeo"
           }
          ],
          "scattergl": [
           {
            "marker": {
             "colorbar": {
              "outlinewidth": 0,
              "ticks": ""
             }
            },
            "type": "scattergl"
           }
          ],
          "scattermapbox": [
           {
            "marker": {
             "colorbar": {
              "outlinewidth": 0,
              "ticks": ""
             }
            },
            "type": "scattermapbox"
           }
          ],
          "scatterpolar": [
           {
            "marker": {
             "colorbar": {
              "outlinewidth": 0,
              "ticks": ""
             }
            },
            "type": "scatterpolar"
           }
          ],
          "scatterpolargl": [
           {
            "marker": {
             "colorbar": {
              "outlinewidth": 0,
              "ticks": ""
             }
            },
            "type": "scatterpolargl"
           }
          ],
          "scatterternary": [
           {
            "marker": {
             "colorbar": {
              "outlinewidth": 0,
              "ticks": ""
             }
            },
            "type": "scatterternary"
           }
          ],
          "surface": [
           {
            "colorbar": {
             "outlinewidth": 0,
             "ticks": ""
            },
            "colorscale": [
             [
              0,
              "#0d0887"
             ],
             [
              0.1111111111111111,
              "#46039f"
             ],
             [
              0.2222222222222222,
              "#7201a8"
             ],
             [
              0.3333333333333333,
              "#9c179e"
             ],
             [
              0.4444444444444444,
              "#bd3786"
             ],
             [
              0.5555555555555556,
              "#d8576b"
             ],
             [
              0.6666666666666666,
              "#ed7953"
             ],
             [
              0.7777777777777778,
              "#fb9f3a"
             ],
             [
              0.8888888888888888,
              "#fdca26"
             ],
             [
              1,
              "#f0f921"
             ]
            ],
            "type": "surface"
           }
          ],
          "table": [
           {
            "cells": {
             "fill": {
              "color": "#EBF0F8"
             },
             "line": {
              "color": "white"
             }
            },
            "header": {
             "fill": {
              "color": "#C8D4E3"
             },
             "line": {
              "color": "white"
             }
            },
            "type": "table"
           }
          ]
         },
         "layout": {
          "annotationdefaults": {
           "arrowcolor": "#2a3f5f",
           "arrowhead": 0,
           "arrowwidth": 1
          },
          "autotypenumbers": "strict",
          "coloraxis": {
           "colorbar": {
            "outlinewidth": 0,
            "ticks": ""
           }
          },
          "colorscale": {
           "diverging": [
            [
             0,
             "#8e0152"
            ],
            [
             0.1,
             "#c51b7d"
            ],
            [
             0.2,
             "#de77ae"
            ],
            [
             0.3,
             "#f1b6da"
            ],
            [
             0.4,
             "#fde0ef"
            ],
            [
             0.5,
             "#f7f7f7"
            ],
            [
             0.6,
             "#e6f5d0"
            ],
            [
             0.7,
             "#b8e186"
            ],
            [
             0.8,
             "#7fbc41"
            ],
            [
             0.9,
             "#4d9221"
            ],
            [
             1,
             "#276419"
            ]
           ],
           "sequential": [
            [
             0,
             "#0d0887"
            ],
            [
             0.1111111111111111,
             "#46039f"
            ],
            [
             0.2222222222222222,
             "#7201a8"
            ],
            [
             0.3333333333333333,
             "#9c179e"
            ],
            [
             0.4444444444444444,
             "#bd3786"
            ],
            [
             0.5555555555555556,
             "#d8576b"
            ],
            [
             0.6666666666666666,
             "#ed7953"
            ],
            [
             0.7777777777777778,
             "#fb9f3a"
            ],
            [
             0.8888888888888888,
             "#fdca26"
            ],
            [
             1,
             "#f0f921"
            ]
           ],
           "sequentialminus": [
            [
             0,
             "#0d0887"
            ],
            [
             0.1111111111111111,
             "#46039f"
            ],
            [
             0.2222222222222222,
             "#7201a8"
            ],
            [
             0.3333333333333333,
             "#9c179e"
            ],
            [
             0.4444444444444444,
             "#bd3786"
            ],
            [
             0.5555555555555556,
             "#d8576b"
            ],
            [
             0.6666666666666666,
             "#ed7953"
            ],
            [
             0.7777777777777778,
             "#fb9f3a"
            ],
            [
             0.8888888888888888,
             "#fdca26"
            ],
            [
             1,
             "#f0f921"
            ]
           ]
          },
          "colorway": [
           "#636efa",
           "#EF553B",
           "#00cc96",
           "#ab63fa",
           "#FFA15A",
           "#19d3f3",
           "#FF6692",
           "#B6E880",
           "#FF97FF",
           "#FECB52"
          ],
          "font": {
           "color": "#2a3f5f"
          },
          "geo": {
           "bgcolor": "white",
           "lakecolor": "white",
           "landcolor": "#E5ECF6",
           "showlakes": true,
           "showland": true,
           "subunitcolor": "white"
          },
          "hoverlabel": {
           "align": "left"
          },
          "hovermode": "closest",
          "mapbox": {
           "style": "light"
          },
          "paper_bgcolor": "white",
          "plot_bgcolor": "#E5ECF6",
          "polar": {
           "angularaxis": {
            "gridcolor": "white",
            "linecolor": "white",
            "ticks": ""
           },
           "bgcolor": "#E5ECF6",
           "radialaxis": {
            "gridcolor": "white",
            "linecolor": "white",
            "ticks": ""
           }
          },
          "scene": {
           "xaxis": {
            "backgroundcolor": "#E5ECF6",
            "gridcolor": "white",
            "gridwidth": 2,
            "linecolor": "white",
            "showbackground": true,
            "ticks": "",
            "zerolinecolor": "white"
           },
           "yaxis": {
            "backgroundcolor": "#E5ECF6",
            "gridcolor": "white",
            "gridwidth": 2,
            "linecolor": "white",
            "showbackground": true,
            "ticks": "",
            "zerolinecolor": "white"
           },
           "zaxis": {
            "backgroundcolor": "#E5ECF6",
            "gridcolor": "white",
            "gridwidth": 2,
            "linecolor": "white",
            "showbackground": true,
            "ticks": "",
            "zerolinecolor": "white"
           }
          },
          "shapedefaults": {
           "line": {
            "color": "#2a3f5f"
           }
          },
          "ternary": {
           "aaxis": {
            "gridcolor": "white",
            "linecolor": "white",
            "ticks": ""
           },
           "baxis": {
            "gridcolor": "white",
            "linecolor": "white",
            "ticks": ""
           },
           "bgcolor": "#E5ECF6",
           "caxis": {
            "gridcolor": "white",
            "linecolor": "white",
            "ticks": ""
           }
          },
          "title": {
           "x": 0.05
          },
          "xaxis": {
           "automargin": true,
           "gridcolor": "white",
           "linecolor": "white",
           "ticks": "",
           "title": {
            "standoff": 15
           },
           "zerolinecolor": "white",
           "zerolinewidth": 2
          },
          "yaxis": {
           "automargin": true,
           "gridcolor": "white",
           "linecolor": "white",
           "ticks": "",
           "title": {
            "standoff": 15
           },
           "zerolinecolor": "white",
           "zerolinewidth": 2
          }
         }
        },
        "title": {
         "text": "Hyperparameter Importances"
        },
        "xaxis": {
         "title": {
          "text": "Importance for Objective Value"
         }
        },
        "yaxis": {
         "title": {
          "text": "Hyperparameter"
         }
        }
       }
      }
     },
     "metadata": {},
     "output_type": "display_data"
    }
   ],
   "source": [
    "optuna.visualization.plot_param_importances(study_1)"
   ]
  },
  {
   "cell_type": "markdown",
   "metadata": {},
   "source": [
    "#### Comentários acerca dos resultados da Random Forest\n",
    "\n",
    "A profundidade máxima é, sem dúvidas, o maior diferencial entre todos os hiperparâmetros, e menores profundidades são melhores; é possível perceber através do gráfico que quanto maior a profundidade melhor vai ser o desempenho, até atingir-se um limite. A quantidade de estimadores tem um impacto bastante menor, no gráfico, é possível ver que, excluindo-se os outliers, o número de estimadores realmente não interfere bastante no resultado final. A quantidade mínima de samples nas folhas tem impacto ainda menor, pode-se dizer que é inútil alterar este parâmetro.\n",
    "\n",
    "\n",
    "### Teste com profundidade menor"
   ]
  },
  {
   "cell_type": "code",
   "execution_count": 8,
   "metadata": {},
   "outputs": [
    {
     "name": "stderr",
     "output_type": "stream",
     "text": [
      "\u001b[32m[I 2021-12-13 10:51:57,381]\u001b[0m A new study created in memory with name: no-name-f01eceaf-879c-435b-b6ec-274904bcbc97\u001b[0m\n",
      "\u001b[32m[I 2021-12-13 10:52:39,920]\u001b[0m Trial 0 finished with value: 0.6385966287730301 and parameters: {'max_depth': 14, 'criterion': 'entropy', 'n_estimators': 26, 'min_samples_leaf': 7, 'min_samples_split': 3}. Best is trial 0 with value: 0.6385966287730301.\u001b[0m\n",
      "\u001b[32m[I 2021-12-13 10:52:55,472]\u001b[0m Trial 1 finished with value: 0.624076832614661 and parameters: {'max_depth': 6, 'criterion': 'entropy', 'n_estimators': 20, 'min_samples_leaf': 8, 'min_samples_split': 6}. Best is trial 0 with value: 0.6385966287730301.\u001b[0m\n",
      "\u001b[32m[I 2021-12-13 10:53:07,963]\u001b[0m Trial 2 finished with value: 0.626765974127793 and parameters: {'max_depth': 7, 'criterion': 'entropy', 'n_estimators': 14, 'min_samples_leaf': 4, 'min_samples_split': 7}. Best is trial 0 with value: 0.6385966287730301.\u001b[0m\n",
      "\u001b[32m[I 2021-12-13 10:53:30,821]\u001b[0m Trial 3 finished with value: 0.6291807134457076 and parameters: {'max_depth': 7, 'criterion': 'entropy', 'n_estimators': 28, 'min_samples_leaf': 6, 'min_samples_split': 8}. Best is trial 0 with value: 0.6385966287730301.\u001b[0m\n",
      "\u001b[32m[I 2021-12-13 10:53:33,727]\u001b[0m Trial 4 finished with value: 0.5870717365738926 and parameters: {'max_depth': 2, 'criterion': 'entropy', 'n_estimators': 9, 'min_samples_leaf': 5, 'min_samples_split': 4}. Best is trial 0 with value: 0.6385966287730301.\u001b[0m\n",
      "\u001b[32m[I 2021-12-13 10:53:43,658]\u001b[0m Trial 5 finished with value: 0.619890239121913 and parameters: {'max_depth': 5, 'criterion': 'gini', 'n_estimators': 19, 'min_samples_leaf': 3, 'min_samples_split': 3}. Best is trial 0 with value: 0.6385966287730301.\u001b[0m\n",
      "\u001b[32m[I 2021-12-13 10:54:03,966]\u001b[0m Trial 6 finished with value: 0.6362524500196002 and parameters: {'max_depth': 11, 'criterion': 'gini', 'n_estimators': 19, 'min_samples_leaf': 4, 'min_samples_split': 6}. Best is trial 0 with value: 0.6385966287730301.\u001b[0m\n",
      "\u001b[32m[I 2021-12-13 10:54:15,594]\u001b[0m Trial 7 finished with value: 0.6327165817326539 and parameters: {'max_depth': 11, 'criterion': 'entropy', 'n_estimators': 10, 'min_samples_leaf': 5, 'min_samples_split': 7}. Best is trial 0 with value: 0.6385966287730301.\u001b[0m\n",
      "\u001b[32m[I 2021-12-13 10:54:20,507]\u001b[0m Trial 8 finished with value: 0.5952881223049784 and parameters: {'max_depth': 2, 'criterion': 'gini', 'n_estimators': 21, 'min_samples_leaf': 8, 'min_samples_split': 6}. Best is trial 0 with value: 0.6385966287730301.\u001b[0m\n",
      "\u001b[32m[I 2021-12-13 10:54:44,117]\u001b[0m Trial 9 finished with value: 0.6287259898079185 and parameters: {'max_depth': 16, 'criterion': 'gini', 'n_estimators': 16, 'min_samples_leaf': 2, 'min_samples_split': 4}. Best is trial 0 with value: 0.6385966287730301.\u001b[0m\n",
      "\u001b[32m[I 2021-12-13 10:55:32,696]\u001b[0m Trial 10 finished with value: 0.6388318306546452 and parameters: {'max_depth': 16, 'criterion': 'entropy', 'n_estimators': 30, 'min_samples_leaf': 7, 'min_samples_split': 2}. Best is trial 10 with value: 0.6388318306546452.\u001b[0m\n",
      "\u001b[32m[I 2021-12-13 10:56:24,752]\u001b[0m Trial 11 finished with value: 0.6388631909055272 and parameters: {'max_depth': 16, 'criterion': 'entropy', 'n_estimators': 32, 'min_samples_leaf': 7, 'min_samples_split': 2}. Best is trial 11 with value: 0.6388631909055272.\u001b[0m\n",
      "\u001b[32m[I 2021-12-13 10:57:14,551]\u001b[0m Trial 12 finished with value: 0.6370364562916503 and parameters: {'max_depth': 16, 'criterion': 'entropy', 'n_estimators': 32, 'min_samples_leaf': 7, 'min_samples_split': 2}. Best is trial 11 with value: 0.6388631909055272.\u001b[0m\n",
      "\u001b[32m[I 2021-12-13 10:57:59,903]\u001b[0m Trial 13 finished with value: 0.6392551940415523 and parameters: {'max_depth': 14, 'criterion': 'entropy', 'n_estimators': 32, 'min_samples_leaf': 7, 'min_samples_split': 2}. Best is trial 13 with value: 0.6392551940415523.\u001b[0m\n",
      "\u001b[32m[I 2021-12-13 10:58:33,113]\u001b[0m Trial 14 finished with value: 0.6382987063896511 and parameters: {'max_depth': 13, 'criterion': 'entropy', 'n_estimators': 25, 'min_samples_leaf': 6, 'min_samples_split': 2}. Best is trial 13 with value: 0.6392551940415523.\u001b[0m\n",
      "\u001b[32m[I 2021-12-13 10:59:19,846]\u001b[0m Trial 15 finished with value: 0.6379772638181106 and parameters: {'max_depth': 14, 'criterion': 'entropy', 'n_estimators': 32, 'min_samples_leaf': 8, 'min_samples_split': 3}. Best is trial 13 with value: 0.6392551940415523.\u001b[0m\n",
      "\u001b[32m[I 2021-12-13 10:59:49,959]\u001b[0m Trial 16 finished with value: 0.6384790278322227 and parameters: {'max_depth': 12, 'criterion': 'entropy', 'n_estimators': 24, 'min_samples_leaf': 6, 'min_samples_split': 4}. Best is trial 13 with value: 0.6392551940415523.\u001b[0m\n",
      "\u001b[32m[I 2021-12-13 11:00:17,885]\u001b[0m Trial 17 finished with value: 0.6363857310858487 and parameters: {'max_depth': 9, 'criterion': 'entropy', 'n_estimators': 29, 'min_samples_leaf': 7, 'min_samples_split': 2}. Best is trial 13 with value: 0.6392551940415523.\u001b[0m\n",
      "\u001b[32m[I 2021-12-13 11:01:07,539]\u001b[0m Trial 18 finished with value: 0.6390827126617012 and parameters: {'max_depth': 15, 'criterion': 'entropy', 'n_estimators': 32, 'min_samples_leaf': 6, 'min_samples_split': 3}. Best is trial 13 with value: 0.6392551940415523.\u001b[0m\n",
      "\u001b[32m[I 2021-12-13 11:01:47,663]\u001b[0m Trial 19 finished with value: 0.6385182281458252 and parameters: {'max_depth': 14, 'criterion': 'entropy', 'n_estimators': 27, 'min_samples_leaf': 6, 'min_samples_split': 5}. Best is trial 13 with value: 0.6392551940415523.\u001b[0m\n",
      "\u001b[32m[I 2021-12-13 11:02:17,313]\u001b[0m Trial 20 finished with value: 0.6374206193649549 and parameters: {'max_depth': 10, 'criterion': 'gini', 'n_estimators': 30, 'min_samples_leaf': 4, 'min_samples_split': 3}. Best is trial 13 with value: 0.6392551940415523.\u001b[0m\n",
      "\u001b[32m[I 2021-12-13 11:03:09,793]\u001b[0m Trial 21 finished with value: 0.6387142297138377 and parameters: {'max_depth': 15, 'criterion': 'entropy', 'n_estimators': 32, 'min_samples_leaf': 7, 'min_samples_split': 2}. Best is trial 13 with value: 0.6392551940415523.\u001b[0m\n",
      "\u001b[32m[I 2021-12-13 11:04:02,376]\u001b[0m Trial 22 finished with value: 0.6373814190513524 and parameters: {'max_depth': 16, 'criterion': 'entropy', 'n_estimators': 32, 'min_samples_leaf': 6, 'min_samples_split': 3}. Best is trial 13 with value: 0.6392551940415523.\u001b[0m\n",
      "\u001b[32m[I 2021-12-13 11:04:34,656]\u001b[0m Trial 23 finished with value: 0.6388867110936888 and parameters: {'max_depth': 13, 'criterion': 'entropy', 'n_estimators': 23, 'min_samples_leaf': 8, 'min_samples_split': 2}. Best is trial 13 with value: 0.6392551940415523.\u001b[0m\n",
      "\u001b[32m[I 2021-12-13 11:05:06,942]\u001b[0m Trial 24 finished with value: 0.6366601332810663 and parameters: {'max_depth': 13, 'criterion': 'entropy', 'n_estimators': 24, 'min_samples_leaf': 8, 'min_samples_split': 4}. Best is trial 13 with value: 0.6392551940415523.\u001b[0m\n",
      "\u001b[32m[I 2021-12-13 11:05:34,747]\u001b[0m Trial 25 finished with value: 0.637765582124657 and parameters: {'max_depth': 12, 'criterion': 'entropy', 'n_estimators': 22, 'min_samples_leaf': 8, 'min_samples_split': 3}. Best is trial 13 with value: 0.6392551940415523.\u001b[0m\n",
      "\u001b[32m[I 2021-12-13 11:05:57,087]\u001b[0m Trial 26 finished with value: 0.6376636613092904 and parameters: {'max_depth': 13, 'criterion': 'entropy', 'n_estimators': 16, 'min_samples_leaf': 5, 'min_samples_split': 2}. Best is trial 13 with value: 0.6392551940415523.\u001b[0m\n",
      "\u001b[32m[I 2021-12-13 11:06:17,250]\u001b[0m Trial 27 finished with value: 0.6322304978439828 and parameters: {'max_depth': 15, 'criterion': 'entropy', 'n_estimators': 12, 'min_samples_leaf': 6, 'min_samples_split': 5}. Best is trial 13 with value: 0.6392551940415523.\u001b[0m\n",
      "\u001b[32m[I 2021-12-13 11:07:02,586]\u001b[0m Trial 28 finished with value: 0.6391297530380243 and parameters: {'max_depth': 15, 'criterion': 'entropy', 'n_estimators': 30, 'min_samples_leaf': 7, 'min_samples_split': 3}. Best is trial 13 with value: 0.6392551940415523.\u001b[0m\n",
      "\u001b[32m[I 2021-12-13 11:07:43,808]\u001b[0m Trial 29 finished with value: 0.6383535868286946 and parameters: {'max_depth': 15, 'criterion': 'entropy', 'n_estimators': 27, 'min_samples_leaf': 7, 'min_samples_split': 3}. Best is trial 13 with value: 0.6392551940415523.\u001b[0m\n",
      "\u001b[32m[I 2021-12-13 11:08:27,730]\u001b[0m Trial 30 finished with value: 0.6394825558604469 and parameters: {'max_depth': 14, 'criterion': 'entropy', 'n_estimators': 30, 'min_samples_leaf': 7, 'min_samples_split': 4}. Best is trial 30 with value: 0.6394825558604469.\u001b[0m\n",
      "\u001b[32m[I 2021-12-13 11:09:10,202]\u001b[0m Trial 31 finished with value: 0.6385966287730301 and parameters: {'max_depth': 14, 'criterion': 'entropy', 'n_estimators': 30, 'min_samples_leaf': 7, 'min_samples_split': 4}. Best is trial 30 with value: 0.6394825558604469.\u001b[0m\n",
      "\u001b[32m[I 2021-12-13 11:09:52,904]\u001b[0m Trial 32 finished with value: 0.6395060760486084 and parameters: {'max_depth': 15, 'criterion': 'entropy', 'n_estimators': 29, 'min_samples_leaf': 7, 'min_samples_split': 3}. Best is trial 32 with value: 0.6395060760486084.\u001b[0m\n",
      "\u001b[32m[I 2021-12-13 11:10:24,566]\u001b[0m Trial 33 finished with value: 0.6377577420619365 and parameters: {'max_depth': 12, 'criterion': 'entropy', 'n_estimators': 26, 'min_samples_leaf': 7, 'min_samples_split': 4}. Best is trial 32 with value: 0.6395060760486084.\u001b[0m\n",
      "\u001b[32m[I 2021-12-13 11:11:06,749]\u001b[0m Trial 34 finished with value: 0.6369266954135633 and parameters: {'max_depth': 14, 'criterion': 'entropy', 'n_estimators': 29, 'min_samples_leaf': 8, 'min_samples_split': 5}. Best is trial 32 with value: 0.6395060760486084.\u001b[0m\n",
      "\u001b[32m[I 2021-12-13 11:11:47,956]\u001b[0m Trial 35 finished with value: 0.6369972559780478 and parameters: {'max_depth': 15, 'criterion': 'entropy', 'n_estimators': 28, 'min_samples_leaf': 7, 'min_samples_split': 4}. Best is trial 32 with value: 0.6395060760486084.\u001b[0m\n",
      "\u001b[32m[I 2021-12-13 11:12:22,140]\u001b[0m Trial 36 finished with value: 0.6362054096432771 and parameters: {'max_depth': 11, 'criterion': 'entropy', 'n_estimators': 30, 'min_samples_leaf': 8, 'min_samples_split': 3}. Best is trial 32 with value: 0.6395060760486084.\u001b[0m\n",
      "\u001b[32m[I 2021-12-13 11:12:37,271]\u001b[0m Trial 37 finished with value: 0.6194590356722853 and parameters: {'max_depth': 5, 'criterion': 'entropy', 'n_estimators': 28, 'min_samples_leaf': 5, 'min_samples_split': 3}. Best is trial 32 with value: 0.6395060760486084.\u001b[0m\n",
      "\u001b[32m[I 2021-12-13 11:12:59,036]\u001b[0m Trial 38 finished with value: 0.6326617012936103 and parameters: {'max_depth': 8, 'criterion': 'entropy', 'n_estimators': 26, 'min_samples_leaf': 7, 'min_samples_split': 4}. Best is trial 32 with value: 0.6395060760486084.\u001b[0m\n",
      "\u001b[32m[I 2021-12-13 11:13:39,947]\u001b[0m Trial 39 finished with value: 0.639937279498236 and parameters: {'max_depth': 14, 'criterion': 'gini', 'n_estimators': 31, 'min_samples_leaf': 6, 'min_samples_split': 5}. Best is trial 39 with value: 0.639937279498236.\u001b[0m\n",
      "\u001b[32m[I 2021-12-13 11:14:11,577]\u001b[0m Trial 40 finished with value: 0.6372246177969424 and parameters: {'max_depth': 10, 'criterion': 'gini', 'n_estimators': 31, 'min_samples_leaf': 6, 'min_samples_split': 5}. Best is trial 39 with value: 0.639937279498236.\u001b[0m\n",
      "\u001b[32m[I 2021-12-13 11:14:50,899]\u001b[0m Trial 41 finished with value: 0.6387377499019992 and parameters: {'max_depth': 14, 'criterion': 'gini', 'n_estimators': 29, 'min_samples_leaf': 7, 'min_samples_split': 5}. Best is trial 39 with value: 0.639937279498236.\u001b[0m\n",
      "\u001b[32m[I 2021-12-13 11:15:32,659]\u001b[0m Trial 42 finished with value: 0.6363622108976872 and parameters: {'max_depth': 15, 'criterion': 'gini', 'n_estimators': 31, 'min_samples_leaf': 6, 'min_samples_split': 6}. Best is trial 39 with value: 0.639937279498236.\u001b[0m\n",
      "\u001b[32m[I 2021-12-13 11:16:10,575]\u001b[0m Trial 43 finished with value: 0.638000784006272 and parameters: {'max_depth': 13, 'criterion': 'gini', 'n_estimators': 31, 'min_samples_leaf': 7, 'min_samples_split': 6}. Best is trial 39 with value: 0.639937279498236.\u001b[0m\n",
      "\u001b[32m[I 2021-12-13 11:16:52,128]\u001b[0m Trial 44 finished with value: 0.6355546844374755 and parameters: {'max_depth': 16, 'criterion': 'gini', 'n_estimators': 27, 'min_samples_leaf': 6, 'min_samples_split': 4}. Best is trial 39 with value: 0.639937279498236.\u001b[0m\n",
      "\u001b[32m[I 2021-12-13 11:17:27,710]\u001b[0m Trial 45 finished with value: 0.6395374362994904 and parameters: {'max_depth': 12, 'criterion': 'gini', 'n_estimators': 29, 'min_samples_leaf': 5, 'min_samples_split': 4}. Best is trial 39 with value: 0.639937279498236.\u001b[0m\n",
      "\u001b[32m[I 2021-12-13 11:18:01,366]\u001b[0m Trial 46 finished with value: 0.6373030184241474 and parameters: {'max_depth': 12, 'criterion': 'gini', 'n_estimators': 28, 'min_samples_leaf': 4, 'min_samples_split': 7}. Best is trial 39 with value: 0.639937279498236.\u001b[0m\n",
      "\u001b[32m[I 2021-12-13 11:18:28,643]\u001b[0m Trial 47 finished with value: 0.6382987063896511 and parameters: {'max_depth': 11, 'criterion': 'gini', 'n_estimators': 25, 'min_samples_leaf': 5, 'min_samples_split': 5}. Best is trial 39 with value: 0.639937279498236.\u001b[0m\n",
      "\u001b[32m[I 2021-12-13 11:19:09,123]\u001b[0m Trial 48 finished with value: 0.6384555076440611 and parameters: {'max_depth': 14, 'criterion': 'gini', 'n_estimators': 31, 'min_samples_leaf': 5, 'min_samples_split': 4}. Best is trial 39 with value: 0.639937279498236.\u001b[0m\n",
      "\u001b[32m[I 2021-12-13 11:19:43,378]\u001b[0m Trial 49 finished with value: 0.637577420619365 and parameters: {'max_depth': 13, 'criterion': 'gini', 'n_estimators': 29, 'min_samples_leaf': 4, 'min_samples_split': 4}. Best is trial 39 with value: 0.639937279498236.\u001b[0m\n",
      "\u001b[32m[I 2021-12-13 11:20:05,046]\u001b[0m Trial 50 finished with value: 0.6363151705213642 and parameters: {'max_depth': 12, 'criterion': 'gini', 'n_estimators': 19, 'min_samples_leaf': 6, 'min_samples_split': 6}. Best is trial 39 with value: 0.639937279498236.\u001b[0m\n",
      "\u001b[32m[I 2021-12-13 11:20:49,425]\u001b[0m Trial 51 finished with value: 0.6386907095256762 and parameters: {'max_depth': 15, 'criterion': 'gini', 'n_estimators': 31, 'min_samples_leaf': 7, 'min_samples_split': 3}. Best is trial 39 with value: 0.639937279498236.\u001b[0m\n",
      "\u001b[32m[I 2021-12-13 11:21:37,440]\u001b[0m Trial 52 finished with value: 0.6382595060760486 and parameters: {'max_depth': 14, 'criterion': 'entropy', 'n_estimators': 30, 'min_samples_leaf': 6, 'min_samples_split': 3}. Best is trial 39 with value: 0.639937279498236.\u001b[0m\n",
      "\u001b[32m[I 2021-12-13 11:22:19,715]\u001b[0m Trial 53 finished with value: 0.63546844374755 and parameters: {'max_depth': 16, 'criterion': 'gini', 'n_estimators': 28, 'min_samples_leaf': 3, 'min_samples_split': 4}. Best is trial 39 with value: 0.639937279498236.\u001b[0m\n",
      "\u001b[32m[I 2021-12-13 11:23:04,333]\u001b[0m Trial 54 finished with value: 0.6387063896511173 and parameters: {'max_depth': 14, 'criterion': 'entropy', 'n_estimators': 29, 'min_samples_leaf': 7, 'min_samples_split': 5}. Best is trial 39 with value: 0.639937279498236.\u001b[0m\n",
      "\u001b[32m[I 2021-12-13 11:23:55,136]\u001b[0m Trial 55 finished with value: 0.6391532732261858 and parameters: {'max_depth': 15, 'criterion': 'entropy', 'n_estimators': 32, 'min_samples_leaf': 5, 'min_samples_split': 2}. Best is trial 39 with value: 0.639937279498236.\u001b[0m\n",
      "\u001b[32m[I 2021-12-13 11:24:47,569]\u001b[0m Trial 56 finished with value: 0.6376793414347315 and parameters: {'max_depth': 16, 'criterion': 'entropy', 'n_estimators': 32, 'min_samples_leaf': 5, 'min_samples_split': 2}. Best is trial 39 with value: 0.639937279498236.\u001b[0m\n",
      "\u001b[32m[I 2021-12-13 11:25:27,509]\u001b[0m Trial 57 finished with value: 0.6390670325362603 and parameters: {'max_depth': 13, 'criterion': 'gini', 'n_estimators': 32, 'min_samples_leaf': 5, 'min_samples_split': 2}. Best is trial 39 with value: 0.639937279498236.\u001b[0m\n",
      "\u001b[32m[I 2021-12-13 11:25:37,163]\u001b[0m Trial 58 finished with value: 0.6043041944335554 and parameters: {'max_depth': 3, 'criterion': 'entropy', 'n_estimators': 27, 'min_samples_leaf': 4, 'min_samples_split': 2}. Best is trial 39 with value: 0.639937279498236.\u001b[0m\n",
      "\u001b[32m[I 2021-12-13 11:25:46,486]\u001b[0m Trial 59 finished with value: 0.6308192865542924 and parameters: {'max_depth': 10, 'criterion': 'entropy', 'n_estimators': 8, 'min_samples_leaf': 5, 'min_samples_split': 2}. Best is trial 39 with value: 0.639937279498236.\u001b[0m\n",
      "\u001b[32m[I 2021-12-13 11:26:35,694]\u001b[0m Trial 60 finished with value: 0.6386201489611917 and parameters: {'max_depth': 15, 'criterion': 'entropy', 'n_estimators': 31, 'min_samples_leaf': 6, 'min_samples_split': 4}. Best is trial 39 with value: 0.639937279498236.\u001b[0m\n",
      "\u001b[32m[I 2021-12-13 11:27:24,511]\u001b[0m Trial 61 finished with value: 0.6386907095256762 and parameters: {'max_depth': 15, 'criterion': 'entropy', 'n_estimators': 30, 'min_samples_leaf': 7, 'min_samples_split': 3}. Best is trial 39 with value: 0.639937279498236.\u001b[0m\n",
      "\u001b[32m[I 2021-12-13 11:28:14,807]\u001b[0m Trial 62 finished with value: 0.6389651117208938 and parameters: {'max_depth': 16, 'criterion': 'entropy', 'n_estimators': 30, 'min_samples_leaf': 8, 'min_samples_split': 3}. Best is trial 39 with value: 0.639937279498236.\u001b[0m\n",
      "\u001b[32m[I 2021-12-13 11:29:04,177]\u001b[0m Trial 63 finished with value: 0.6376479811838495 and parameters: {'max_depth': 14, 'criterion': 'entropy', 'n_estimators': 32, 'min_samples_leaf': 6, 'min_samples_split': 2}. Best is trial 39 with value: 0.639937279498236.\u001b[0m\n"
     ]
    }
   ],
   "source": [
    "def rf(trial):\n",
    "    max_depth           = trial.suggest_int(\"max_depth\", 2, 16)\n",
    "    criterion           = trial.suggest_categorical(\"criterion\", [\"gini\", \"entropy\"])\n",
    "    n_estimators        = trial.suggest_int(\"n_estimators\", 8, 32)\n",
    "    min_samples_leaf    = trial.suggest_int(\"min_samples_leaf\", 2, 8)\n",
    "    min_samples_split   = trial.suggest_int(\"min_samples_split\", 2, 8)\n",
    "    random_forest = RandomForestClassifier(n_estimators=n_estimators, \n",
    "                                        max_depth=max_depth, \n",
    "                                        criterion=criterion, \n",
    "                                        bootstrap=True, \n",
    "                                        min_samples_leaf=min_samples_leaf, \n",
    "                                        min_samples_split=min_samples_split).fit(df_treino, [0]*len(treino_ina)+[1]*len(treino_adi))\n",
    "\n",
    "    rf_pred_class  = random_forest.predict(df_validacao)\n",
    "    rf_pred_scores = random_forest.predict_proba(df_validacao)\n",
    "\n",
    "    accuracy, recall, precision, f1, auroc, aupr = compute_performance_metrics_sem_plot([0]*len(valid_ina)+[1]*len(valid_adi), rf_pred_class, rf_pred_scores)\n",
    "    \n",
    "    return accuracy\n",
    "\n",
    "study_1 = optuna.create_study(direction=\"maximize\")\n",
    "study_1.optimize(rf, n_trials=64)\n"
   ]
  },
  {
   "cell_type": "code",
   "execution_count": 9,
   "metadata": {},
   "outputs": [
    {
     "data": {
      "application/vnd.plotly.v1+json": {
       "config": {
        "plotlyServerURL": "https://plot.ly"
       },
       "data": [
        {
         "mode": "markers",
         "name": "Objective Value",
         "type": "scatter",
         "x": [
          0,
          1,
          2,
          3,
          4,
          5,
          6,
          7,
          8,
          9,
          10,
          11,
          12,
          13,
          14,
          15,
          16,
          17,
          18,
          19,
          20,
          21,
          22,
          23,
          24,
          25,
          26,
          27,
          28,
          29,
          30,
          31,
          32,
          33,
          34,
          35,
          36,
          37,
          38,
          39,
          40,
          41,
          42,
          43,
          44,
          45,
          46,
          47,
          48,
          49,
          50,
          51,
          52,
          53,
          54,
          55,
          56,
          57,
          58,
          59,
          60,
          61,
          62,
          63
         ],
         "y": [
          0.6385966287730301,
          0.624076832614661,
          0.626765974127793,
          0.6291807134457076,
          0.5870717365738926,
          0.619890239121913,
          0.6362524500196002,
          0.6327165817326539,
          0.5952881223049784,
          0.6287259898079185,
          0.6388318306546452,
          0.6388631909055272,
          0.6370364562916503,
          0.6392551940415523,
          0.6382987063896511,
          0.6379772638181106,
          0.6384790278322227,
          0.6363857310858487,
          0.6390827126617012,
          0.6385182281458252,
          0.6374206193649549,
          0.6387142297138377,
          0.6373814190513524,
          0.6388867110936888,
          0.6366601332810663,
          0.637765582124657,
          0.6376636613092904,
          0.6322304978439828,
          0.6391297530380243,
          0.6383535868286946,
          0.6394825558604469,
          0.6385966287730301,
          0.6395060760486084,
          0.6377577420619365,
          0.6369266954135633,
          0.6369972559780478,
          0.6362054096432771,
          0.6194590356722853,
          0.6326617012936103,
          0.639937279498236,
          0.6372246177969424,
          0.6387377499019992,
          0.6363622108976872,
          0.638000784006272,
          0.6355546844374755,
          0.6395374362994904,
          0.6373030184241474,
          0.6382987063896511,
          0.6384555076440611,
          0.637577420619365,
          0.6363151705213642,
          0.6386907095256762,
          0.6382595060760486,
          0.63546844374755,
          0.6387063896511173,
          0.6391532732261858,
          0.6376793414347315,
          0.6390670325362603,
          0.6043041944335554,
          0.6308192865542924,
          0.6386201489611917,
          0.6386907095256762,
          0.6389651117208938,
          0.6376479811838495
         ]
        },
        {
         "name": "Best Value",
         "type": "scatter",
         "x": [
          0,
          1,
          2,
          3,
          4,
          5,
          6,
          7,
          8,
          9,
          10,
          11,
          12,
          13,
          14,
          15,
          16,
          17,
          18,
          19,
          20,
          21,
          22,
          23,
          24,
          25,
          26,
          27,
          28,
          29,
          30,
          31,
          32,
          33,
          34,
          35,
          36,
          37,
          38,
          39,
          40,
          41,
          42,
          43,
          44,
          45,
          46,
          47,
          48,
          49,
          50,
          51,
          52,
          53,
          54,
          55,
          56,
          57,
          58,
          59,
          60,
          61,
          62,
          63
         ],
         "y": [
          0.6385966287730301,
          0.6385966287730301,
          0.6385966287730301,
          0.6385966287730301,
          0.6385966287730301,
          0.6385966287730301,
          0.6385966287730301,
          0.6385966287730301,
          0.6385966287730301,
          0.6385966287730301,
          0.6388318306546452,
          0.6388631909055272,
          0.6388631909055272,
          0.6392551940415523,
          0.6392551940415523,
          0.6392551940415523,
          0.6392551940415523,
          0.6392551940415523,
          0.6392551940415523,
          0.6392551940415523,
          0.6392551940415523,
          0.6392551940415523,
          0.6392551940415523,
          0.6392551940415523,
          0.6392551940415523,
          0.6392551940415523,
          0.6392551940415523,
          0.6392551940415523,
          0.6392551940415523,
          0.6392551940415523,
          0.6394825558604469,
          0.6394825558604469,
          0.6395060760486084,
          0.6395060760486084,
          0.6395060760486084,
          0.6395060760486084,
          0.6395060760486084,
          0.6395060760486084,
          0.6395060760486084,
          0.639937279498236,
          0.639937279498236,
          0.639937279498236,
          0.639937279498236,
          0.639937279498236,
          0.639937279498236,
          0.639937279498236,
          0.639937279498236,
          0.639937279498236,
          0.639937279498236,
          0.639937279498236,
          0.639937279498236,
          0.639937279498236,
          0.639937279498236,
          0.639937279498236,
          0.639937279498236,
          0.639937279498236,
          0.639937279498236,
          0.639937279498236,
          0.639937279498236,
          0.639937279498236,
          0.639937279498236,
          0.639937279498236,
          0.639937279498236,
          0.639937279498236
         ]
        }
       ],
       "layout": {
        "template": {
         "data": {
          "bar": [
           {
            "error_x": {
             "color": "#2a3f5f"
            },
            "error_y": {
             "color": "#2a3f5f"
            },
            "marker": {
             "line": {
              "color": "#E5ECF6",
              "width": 0.5
             },
             "pattern": {
              "fillmode": "overlay",
              "size": 10,
              "solidity": 0.2
             }
            },
            "type": "bar"
           }
          ],
          "barpolar": [
           {
            "marker": {
             "line": {
              "color": "#E5ECF6",
              "width": 0.5
             },
             "pattern": {
              "fillmode": "overlay",
              "size": 10,
              "solidity": 0.2
             }
            },
            "type": "barpolar"
           }
          ],
          "carpet": [
           {
            "aaxis": {
             "endlinecolor": "#2a3f5f",
             "gridcolor": "white",
             "linecolor": "white",
             "minorgridcolor": "white",
             "startlinecolor": "#2a3f5f"
            },
            "baxis": {
             "endlinecolor": "#2a3f5f",
             "gridcolor": "white",
             "linecolor": "white",
             "minorgridcolor": "white",
             "startlinecolor": "#2a3f5f"
            },
            "type": "carpet"
           }
          ],
          "choropleth": [
           {
            "colorbar": {
             "outlinewidth": 0,
             "ticks": ""
            },
            "type": "choropleth"
           }
          ],
          "contour": [
           {
            "colorbar": {
             "outlinewidth": 0,
             "ticks": ""
            },
            "colorscale": [
             [
              0,
              "#0d0887"
             ],
             [
              0.1111111111111111,
              "#46039f"
             ],
             [
              0.2222222222222222,
              "#7201a8"
             ],
             [
              0.3333333333333333,
              "#9c179e"
             ],
             [
              0.4444444444444444,
              "#bd3786"
             ],
             [
              0.5555555555555556,
              "#d8576b"
             ],
             [
              0.6666666666666666,
              "#ed7953"
             ],
             [
              0.7777777777777778,
              "#fb9f3a"
             ],
             [
              0.8888888888888888,
              "#fdca26"
             ],
             [
              1,
              "#f0f921"
             ]
            ],
            "type": "contour"
           }
          ],
          "contourcarpet": [
           {
            "colorbar": {
             "outlinewidth": 0,
             "ticks": ""
            },
            "type": "contourcarpet"
           }
          ],
          "heatmap": [
           {
            "colorbar": {
             "outlinewidth": 0,
             "ticks": ""
            },
            "colorscale": [
             [
              0,
              "#0d0887"
             ],
             [
              0.1111111111111111,
              "#46039f"
             ],
             [
              0.2222222222222222,
              "#7201a8"
             ],
             [
              0.3333333333333333,
              "#9c179e"
             ],
             [
              0.4444444444444444,
              "#bd3786"
             ],
             [
              0.5555555555555556,
              "#d8576b"
             ],
             [
              0.6666666666666666,
              "#ed7953"
             ],
             [
              0.7777777777777778,
              "#fb9f3a"
             ],
             [
              0.8888888888888888,
              "#fdca26"
             ],
             [
              1,
              "#f0f921"
             ]
            ],
            "type": "heatmap"
           }
          ],
          "heatmapgl": [
           {
            "colorbar": {
             "outlinewidth": 0,
             "ticks": ""
            },
            "colorscale": [
             [
              0,
              "#0d0887"
             ],
             [
              0.1111111111111111,
              "#46039f"
             ],
             [
              0.2222222222222222,
              "#7201a8"
             ],
             [
              0.3333333333333333,
              "#9c179e"
             ],
             [
              0.4444444444444444,
              "#bd3786"
             ],
             [
              0.5555555555555556,
              "#d8576b"
             ],
             [
              0.6666666666666666,
              "#ed7953"
             ],
             [
              0.7777777777777778,
              "#fb9f3a"
             ],
             [
              0.8888888888888888,
              "#fdca26"
             ],
             [
              1,
              "#f0f921"
             ]
            ],
            "type": "heatmapgl"
           }
          ],
          "histogram": [
           {
            "marker": {
             "pattern": {
              "fillmode": "overlay",
              "size": 10,
              "solidity": 0.2
             }
            },
            "type": "histogram"
           }
          ],
          "histogram2d": [
           {
            "colorbar": {
             "outlinewidth": 0,
             "ticks": ""
            },
            "colorscale": [
             [
              0,
              "#0d0887"
             ],
             [
              0.1111111111111111,
              "#46039f"
             ],
             [
              0.2222222222222222,
              "#7201a8"
             ],
             [
              0.3333333333333333,
              "#9c179e"
             ],
             [
              0.4444444444444444,
              "#bd3786"
             ],
             [
              0.5555555555555556,
              "#d8576b"
             ],
             [
              0.6666666666666666,
              "#ed7953"
             ],
             [
              0.7777777777777778,
              "#fb9f3a"
             ],
             [
              0.8888888888888888,
              "#fdca26"
             ],
             [
              1,
              "#f0f921"
             ]
            ],
            "type": "histogram2d"
           }
          ],
          "histogram2dcontour": [
           {
            "colorbar": {
             "outlinewidth": 0,
             "ticks": ""
            },
            "colorscale": [
             [
              0,
              "#0d0887"
             ],
             [
              0.1111111111111111,
              "#46039f"
             ],
             [
              0.2222222222222222,
              "#7201a8"
             ],
             [
              0.3333333333333333,
              "#9c179e"
             ],
             [
              0.4444444444444444,
              "#bd3786"
             ],
             [
              0.5555555555555556,
              "#d8576b"
             ],
             [
              0.6666666666666666,
              "#ed7953"
             ],
             [
              0.7777777777777778,
              "#fb9f3a"
             ],
             [
              0.8888888888888888,
              "#fdca26"
             ],
             [
              1,
              "#f0f921"
             ]
            ],
            "type": "histogram2dcontour"
           }
          ],
          "mesh3d": [
           {
            "colorbar": {
             "outlinewidth": 0,
             "ticks": ""
            },
            "type": "mesh3d"
           }
          ],
          "parcoords": [
           {
            "line": {
             "colorbar": {
              "outlinewidth": 0,
              "ticks": ""
             }
            },
            "type": "parcoords"
           }
          ],
          "pie": [
           {
            "automargin": true,
            "type": "pie"
           }
          ],
          "scatter": [
           {
            "marker": {
             "colorbar": {
              "outlinewidth": 0,
              "ticks": ""
             }
            },
            "type": "scatter"
           }
          ],
          "scatter3d": [
           {
            "line": {
             "colorbar": {
              "outlinewidth": 0,
              "ticks": ""
             }
            },
            "marker": {
             "colorbar": {
              "outlinewidth": 0,
              "ticks": ""
             }
            },
            "type": "scatter3d"
           }
          ],
          "scattercarpet": [
           {
            "marker": {
             "colorbar": {
              "outlinewidth": 0,
              "ticks": ""
             }
            },
            "type": "scattercarpet"
           }
          ],
          "scattergeo": [
           {
            "marker": {
             "colorbar": {
              "outlinewidth": 0,
              "ticks": ""
             }
            },
            "type": "scattergeo"
           }
          ],
          "scattergl": [
           {
            "marker": {
             "colorbar": {
              "outlinewidth": 0,
              "ticks": ""
             }
            },
            "type": "scattergl"
           }
          ],
          "scattermapbox": [
           {
            "marker": {
             "colorbar": {
              "outlinewidth": 0,
              "ticks": ""
             }
            },
            "type": "scattermapbox"
           }
          ],
          "scatterpolar": [
           {
            "marker": {
             "colorbar": {
              "outlinewidth": 0,
              "ticks": ""
             }
            },
            "type": "scatterpolar"
           }
          ],
          "scatterpolargl": [
           {
            "marker": {
             "colorbar": {
              "outlinewidth": 0,
              "ticks": ""
             }
            },
            "type": "scatterpolargl"
           }
          ],
          "scatterternary": [
           {
            "marker": {
             "colorbar": {
              "outlinewidth": 0,
              "ticks": ""
             }
            },
            "type": "scatterternary"
           }
          ],
          "surface": [
           {
            "colorbar": {
             "outlinewidth": 0,
             "ticks": ""
            },
            "colorscale": [
             [
              0,
              "#0d0887"
             ],
             [
              0.1111111111111111,
              "#46039f"
             ],
             [
              0.2222222222222222,
              "#7201a8"
             ],
             [
              0.3333333333333333,
              "#9c179e"
             ],
             [
              0.4444444444444444,
              "#bd3786"
             ],
             [
              0.5555555555555556,
              "#d8576b"
             ],
             [
              0.6666666666666666,
              "#ed7953"
             ],
             [
              0.7777777777777778,
              "#fb9f3a"
             ],
             [
              0.8888888888888888,
              "#fdca26"
             ],
             [
              1,
              "#f0f921"
             ]
            ],
            "type": "surface"
           }
          ],
          "table": [
           {
            "cells": {
             "fill": {
              "color": "#EBF0F8"
             },
             "line": {
              "color": "white"
             }
            },
            "header": {
             "fill": {
              "color": "#C8D4E3"
             },
             "line": {
              "color": "white"
             }
            },
            "type": "table"
           }
          ]
         },
         "layout": {
          "annotationdefaults": {
           "arrowcolor": "#2a3f5f",
           "arrowhead": 0,
           "arrowwidth": 1
          },
          "autotypenumbers": "strict",
          "coloraxis": {
           "colorbar": {
            "outlinewidth": 0,
            "ticks": ""
           }
          },
          "colorscale": {
           "diverging": [
            [
             0,
             "#8e0152"
            ],
            [
             0.1,
             "#c51b7d"
            ],
            [
             0.2,
             "#de77ae"
            ],
            [
             0.3,
             "#f1b6da"
            ],
            [
             0.4,
             "#fde0ef"
            ],
            [
             0.5,
             "#f7f7f7"
            ],
            [
             0.6,
             "#e6f5d0"
            ],
            [
             0.7,
             "#b8e186"
            ],
            [
             0.8,
             "#7fbc41"
            ],
            [
             0.9,
             "#4d9221"
            ],
            [
             1,
             "#276419"
            ]
           ],
           "sequential": [
            [
             0,
             "#0d0887"
            ],
            [
             0.1111111111111111,
             "#46039f"
            ],
            [
             0.2222222222222222,
             "#7201a8"
            ],
            [
             0.3333333333333333,
             "#9c179e"
            ],
            [
             0.4444444444444444,
             "#bd3786"
            ],
            [
             0.5555555555555556,
             "#d8576b"
            ],
            [
             0.6666666666666666,
             "#ed7953"
            ],
            [
             0.7777777777777778,
             "#fb9f3a"
            ],
            [
             0.8888888888888888,
             "#fdca26"
            ],
            [
             1,
             "#f0f921"
            ]
           ],
           "sequentialminus": [
            [
             0,
             "#0d0887"
            ],
            [
             0.1111111111111111,
             "#46039f"
            ],
            [
             0.2222222222222222,
             "#7201a8"
            ],
            [
             0.3333333333333333,
             "#9c179e"
            ],
            [
             0.4444444444444444,
             "#bd3786"
            ],
            [
             0.5555555555555556,
             "#d8576b"
            ],
            [
             0.6666666666666666,
             "#ed7953"
            ],
            [
             0.7777777777777778,
             "#fb9f3a"
            ],
            [
             0.8888888888888888,
             "#fdca26"
            ],
            [
             1,
             "#f0f921"
            ]
           ]
          },
          "colorway": [
           "#636efa",
           "#EF553B",
           "#00cc96",
           "#ab63fa",
           "#FFA15A",
           "#19d3f3",
           "#FF6692",
           "#B6E880",
           "#FF97FF",
           "#FECB52"
          ],
          "font": {
           "color": "#2a3f5f"
          },
          "geo": {
           "bgcolor": "white",
           "lakecolor": "white",
           "landcolor": "#E5ECF6",
           "showlakes": true,
           "showland": true,
           "subunitcolor": "white"
          },
          "hoverlabel": {
           "align": "left"
          },
          "hovermode": "closest",
          "mapbox": {
           "style": "light"
          },
          "paper_bgcolor": "white",
          "plot_bgcolor": "#E5ECF6",
          "polar": {
           "angularaxis": {
            "gridcolor": "white",
            "linecolor": "white",
            "ticks": ""
           },
           "bgcolor": "#E5ECF6",
           "radialaxis": {
            "gridcolor": "white",
            "linecolor": "white",
            "ticks": ""
           }
          },
          "scene": {
           "xaxis": {
            "backgroundcolor": "#E5ECF6",
            "gridcolor": "white",
            "gridwidth": 2,
            "linecolor": "white",
            "showbackground": true,
            "ticks": "",
            "zerolinecolor": "white"
           },
           "yaxis": {
            "backgroundcolor": "#E5ECF6",
            "gridcolor": "white",
            "gridwidth": 2,
            "linecolor": "white",
            "showbackground": true,
            "ticks": "",
            "zerolinecolor": "white"
           },
           "zaxis": {
            "backgroundcolor": "#E5ECF6",
            "gridcolor": "white",
            "gridwidth": 2,
            "linecolor": "white",
            "showbackground": true,
            "ticks": "",
            "zerolinecolor": "white"
           }
          },
          "shapedefaults": {
           "line": {
            "color": "#2a3f5f"
           }
          },
          "ternary": {
           "aaxis": {
            "gridcolor": "white",
            "linecolor": "white",
            "ticks": ""
           },
           "baxis": {
            "gridcolor": "white",
            "linecolor": "white",
            "ticks": ""
           },
           "bgcolor": "#E5ECF6",
           "caxis": {
            "gridcolor": "white",
            "linecolor": "white",
            "ticks": ""
           }
          },
          "title": {
           "x": 0.05
          },
          "xaxis": {
           "automargin": true,
           "gridcolor": "white",
           "linecolor": "white",
           "ticks": "",
           "title": {
            "standoff": 15
           },
           "zerolinecolor": "white",
           "zerolinewidth": 2
          },
          "yaxis": {
           "automargin": true,
           "gridcolor": "white",
           "linecolor": "white",
           "ticks": "",
           "title": {
            "standoff": 15
           },
           "zerolinecolor": "white",
           "zerolinewidth": 2
          }
         }
        },
        "title": {
         "text": "Optimization History Plot"
        },
        "xaxis": {
         "title": {
          "text": "#Trials"
         }
        },
        "yaxis": {
         "title": {
          "text": "Objective Value"
         }
        }
       }
      }
     },
     "metadata": {},
     "output_type": "display_data"
    }
   ],
   "source": [
    "optuna.visualization.plot_optimization_history(study_1)"
   ]
  },
  {
   "cell_type": "code",
   "execution_count": 10,
   "metadata": {},
   "outputs": [
    {
     "data": {
      "application/vnd.plotly.v1+json": {
       "config": {
        "plotlyServerURL": "https://plot.ly"
       },
       "data": [
        {
         "marker": {
          "color": [
           0,
           1,
           2,
           3,
           4,
           5,
           6,
           7,
           8,
           9,
           10,
           11,
           12,
           13,
           14,
           15,
           16,
           17,
           18,
           19,
           20,
           21,
           22,
           23,
           24,
           25,
           26,
           27,
           28,
           29,
           30,
           31,
           32,
           33,
           34,
           35,
           36,
           37,
           38,
           39,
           40,
           41,
           42,
           43,
           44,
           45,
           46,
           47,
           48,
           49,
           50,
           51,
           52,
           53,
           54,
           55,
           56,
           57,
           58,
           59,
           60,
           61,
           62,
           63
          ],
          "colorbar": {
           "title": {
            "text": "#Trials"
           },
           "x": 1,
           "xpad": 40
          },
          "colorscale": [
           [
            0,
            "rgb(247,251,255)"
           ],
           [
            0.125,
            "rgb(222,235,247)"
           ],
           [
            0.25,
            "rgb(198,219,239)"
           ],
           [
            0.375,
            "rgb(158,202,225)"
           ],
           [
            0.5,
            "rgb(107,174,214)"
           ],
           [
            0.625,
            "rgb(66,146,198)"
           ],
           [
            0.75,
            "rgb(33,113,181)"
           ],
           [
            0.875,
            "rgb(8,81,156)"
           ],
           [
            1,
            "rgb(8,48,107)"
           ]
          ],
          "line": {
           "color": "Grey",
           "width": 0.5
          },
          "showscale": true
         },
         "mode": "markers",
         "showlegend": false,
         "type": "scatter",
         "x": [
          "entropy",
          "entropy",
          "entropy",
          "entropy",
          "entropy",
          "gini",
          "gini",
          "entropy",
          "gini",
          "gini",
          "entropy",
          "entropy",
          "entropy",
          "entropy",
          "entropy",
          "entropy",
          "entropy",
          "entropy",
          "entropy",
          "entropy",
          "gini",
          "entropy",
          "entropy",
          "entropy",
          "entropy",
          "entropy",
          "entropy",
          "entropy",
          "entropy",
          "entropy",
          "entropy",
          "entropy",
          "entropy",
          "entropy",
          "entropy",
          "entropy",
          "entropy",
          "entropy",
          "entropy",
          "gini",
          "gini",
          "gini",
          "gini",
          "gini",
          "gini",
          "gini",
          "gini",
          "gini",
          "gini",
          "gini",
          "gini",
          "gini",
          "entropy",
          "gini",
          "entropy",
          "entropy",
          "entropy",
          "gini",
          "entropy",
          "entropy",
          "entropy",
          "entropy",
          "entropy",
          "entropy"
         ],
         "xaxis": "x",
         "y": [
          0.6385966287730301,
          0.624076832614661,
          0.626765974127793,
          0.6291807134457076,
          0.5870717365738926,
          0.619890239121913,
          0.6362524500196002,
          0.6327165817326539,
          0.5952881223049784,
          0.6287259898079185,
          0.6388318306546452,
          0.6388631909055272,
          0.6370364562916503,
          0.6392551940415523,
          0.6382987063896511,
          0.6379772638181106,
          0.6384790278322227,
          0.6363857310858487,
          0.6390827126617012,
          0.6385182281458252,
          0.6374206193649549,
          0.6387142297138377,
          0.6373814190513524,
          0.6388867110936888,
          0.6366601332810663,
          0.637765582124657,
          0.6376636613092904,
          0.6322304978439828,
          0.6391297530380243,
          0.6383535868286946,
          0.6394825558604469,
          0.6385966287730301,
          0.6395060760486084,
          0.6377577420619365,
          0.6369266954135633,
          0.6369972559780478,
          0.6362054096432771,
          0.6194590356722853,
          0.6326617012936103,
          0.639937279498236,
          0.6372246177969424,
          0.6387377499019992,
          0.6363622108976872,
          0.638000784006272,
          0.6355546844374755,
          0.6395374362994904,
          0.6373030184241474,
          0.6382987063896511,
          0.6384555076440611,
          0.637577420619365,
          0.6363151705213642,
          0.6386907095256762,
          0.6382595060760486,
          0.63546844374755,
          0.6387063896511173,
          0.6391532732261858,
          0.6376793414347315,
          0.6390670325362603,
          0.6043041944335554,
          0.6308192865542924,
          0.6386201489611917,
          0.6386907095256762,
          0.6389651117208938,
          0.6376479811838495
         ],
         "yaxis": "y"
        },
        {
         "marker": {
          "color": [
           0,
           1,
           2,
           3,
           4,
           5,
           6,
           7,
           8,
           9,
           10,
           11,
           12,
           13,
           14,
           15,
           16,
           17,
           18,
           19,
           20,
           21,
           22,
           23,
           24,
           25,
           26,
           27,
           28,
           29,
           30,
           31,
           32,
           33,
           34,
           35,
           36,
           37,
           38,
           39,
           40,
           41,
           42,
           43,
           44,
           45,
           46,
           47,
           48,
           49,
           50,
           51,
           52,
           53,
           54,
           55,
           56,
           57,
           58,
           59,
           60,
           61,
           62,
           63
          ],
          "colorbar": {
           "title": {
            "text": "#Trials"
           },
           "x": 1,
           "xpad": 40
          },
          "colorscale": [
           [
            0,
            "rgb(247,251,255)"
           ],
           [
            0.125,
            "rgb(222,235,247)"
           ],
           [
            0.25,
            "rgb(198,219,239)"
           ],
           [
            0.375,
            "rgb(158,202,225)"
           ],
           [
            0.5,
            "rgb(107,174,214)"
           ],
           [
            0.625,
            "rgb(66,146,198)"
           ],
           [
            0.75,
            "rgb(33,113,181)"
           ],
           [
            0.875,
            "rgb(8,81,156)"
           ],
           [
            1,
            "rgb(8,48,107)"
           ]
          ],
          "line": {
           "color": "Grey",
           "width": 0.5
          },
          "showscale": false
         },
         "mode": "markers",
         "showlegend": false,
         "type": "scatter",
         "x": [
          14,
          6,
          7,
          7,
          2,
          5,
          11,
          11,
          2,
          16,
          16,
          16,
          16,
          14,
          13,
          14,
          12,
          9,
          15,
          14,
          10,
          15,
          16,
          13,
          13,
          12,
          13,
          15,
          15,
          15,
          14,
          14,
          15,
          12,
          14,
          15,
          11,
          5,
          8,
          14,
          10,
          14,
          15,
          13,
          16,
          12,
          12,
          11,
          14,
          13,
          12,
          15,
          14,
          16,
          14,
          15,
          16,
          13,
          3,
          10,
          15,
          15,
          16,
          14
         ],
         "xaxis": "x2",
         "y": [
          0.6385966287730301,
          0.624076832614661,
          0.626765974127793,
          0.6291807134457076,
          0.5870717365738926,
          0.619890239121913,
          0.6362524500196002,
          0.6327165817326539,
          0.5952881223049784,
          0.6287259898079185,
          0.6388318306546452,
          0.6388631909055272,
          0.6370364562916503,
          0.6392551940415523,
          0.6382987063896511,
          0.6379772638181106,
          0.6384790278322227,
          0.6363857310858487,
          0.6390827126617012,
          0.6385182281458252,
          0.6374206193649549,
          0.6387142297138377,
          0.6373814190513524,
          0.6388867110936888,
          0.6366601332810663,
          0.637765582124657,
          0.6376636613092904,
          0.6322304978439828,
          0.6391297530380243,
          0.6383535868286946,
          0.6394825558604469,
          0.6385966287730301,
          0.6395060760486084,
          0.6377577420619365,
          0.6369266954135633,
          0.6369972559780478,
          0.6362054096432771,
          0.6194590356722853,
          0.6326617012936103,
          0.639937279498236,
          0.6372246177969424,
          0.6387377499019992,
          0.6363622108976872,
          0.638000784006272,
          0.6355546844374755,
          0.6395374362994904,
          0.6373030184241474,
          0.6382987063896511,
          0.6384555076440611,
          0.637577420619365,
          0.6363151705213642,
          0.6386907095256762,
          0.6382595060760486,
          0.63546844374755,
          0.6387063896511173,
          0.6391532732261858,
          0.6376793414347315,
          0.6390670325362603,
          0.6043041944335554,
          0.6308192865542924,
          0.6386201489611917,
          0.6386907095256762,
          0.6389651117208938,
          0.6376479811838495
         ],
         "yaxis": "y2"
        },
        {
         "marker": {
          "color": [
           0,
           1,
           2,
           3,
           4,
           5,
           6,
           7,
           8,
           9,
           10,
           11,
           12,
           13,
           14,
           15,
           16,
           17,
           18,
           19,
           20,
           21,
           22,
           23,
           24,
           25,
           26,
           27,
           28,
           29,
           30,
           31,
           32,
           33,
           34,
           35,
           36,
           37,
           38,
           39,
           40,
           41,
           42,
           43,
           44,
           45,
           46,
           47,
           48,
           49,
           50,
           51,
           52,
           53,
           54,
           55,
           56,
           57,
           58,
           59,
           60,
           61,
           62,
           63
          ],
          "colorbar": {
           "title": {
            "text": "#Trials"
           },
           "x": 1,
           "xpad": 40
          },
          "colorscale": [
           [
            0,
            "rgb(247,251,255)"
           ],
           [
            0.125,
            "rgb(222,235,247)"
           ],
           [
            0.25,
            "rgb(198,219,239)"
           ],
           [
            0.375,
            "rgb(158,202,225)"
           ],
           [
            0.5,
            "rgb(107,174,214)"
           ],
           [
            0.625,
            "rgb(66,146,198)"
           ],
           [
            0.75,
            "rgb(33,113,181)"
           ],
           [
            0.875,
            "rgb(8,81,156)"
           ],
           [
            1,
            "rgb(8,48,107)"
           ]
          ],
          "line": {
           "color": "Grey",
           "width": 0.5
          },
          "showscale": false
         },
         "mode": "markers",
         "showlegend": false,
         "type": "scatter",
         "x": [
          7,
          8,
          4,
          6,
          5,
          3,
          4,
          5,
          8,
          2,
          7,
          7,
          7,
          7,
          6,
          8,
          6,
          7,
          6,
          6,
          4,
          7,
          6,
          8,
          8,
          8,
          5,
          6,
          7,
          7,
          7,
          7,
          7,
          7,
          8,
          7,
          8,
          5,
          7,
          6,
          6,
          7,
          6,
          7,
          6,
          5,
          4,
          5,
          5,
          4,
          6,
          7,
          6,
          3,
          7,
          5,
          5,
          5,
          4,
          5,
          6,
          7,
          8,
          6
         ],
         "xaxis": "x3",
         "y": [
          0.6385966287730301,
          0.624076832614661,
          0.626765974127793,
          0.6291807134457076,
          0.5870717365738926,
          0.619890239121913,
          0.6362524500196002,
          0.6327165817326539,
          0.5952881223049784,
          0.6287259898079185,
          0.6388318306546452,
          0.6388631909055272,
          0.6370364562916503,
          0.6392551940415523,
          0.6382987063896511,
          0.6379772638181106,
          0.6384790278322227,
          0.6363857310858487,
          0.6390827126617012,
          0.6385182281458252,
          0.6374206193649549,
          0.6387142297138377,
          0.6373814190513524,
          0.6388867110936888,
          0.6366601332810663,
          0.637765582124657,
          0.6376636613092904,
          0.6322304978439828,
          0.6391297530380243,
          0.6383535868286946,
          0.6394825558604469,
          0.6385966287730301,
          0.6395060760486084,
          0.6377577420619365,
          0.6369266954135633,
          0.6369972559780478,
          0.6362054096432771,
          0.6194590356722853,
          0.6326617012936103,
          0.639937279498236,
          0.6372246177969424,
          0.6387377499019992,
          0.6363622108976872,
          0.638000784006272,
          0.6355546844374755,
          0.6395374362994904,
          0.6373030184241474,
          0.6382987063896511,
          0.6384555076440611,
          0.637577420619365,
          0.6363151705213642,
          0.6386907095256762,
          0.6382595060760486,
          0.63546844374755,
          0.6387063896511173,
          0.6391532732261858,
          0.6376793414347315,
          0.6390670325362603,
          0.6043041944335554,
          0.6308192865542924,
          0.6386201489611917,
          0.6386907095256762,
          0.6389651117208938,
          0.6376479811838495
         ],
         "yaxis": "y3"
        },
        {
         "marker": {
          "color": [
           0,
           1,
           2,
           3,
           4,
           5,
           6,
           7,
           8,
           9,
           10,
           11,
           12,
           13,
           14,
           15,
           16,
           17,
           18,
           19,
           20,
           21,
           22,
           23,
           24,
           25,
           26,
           27,
           28,
           29,
           30,
           31,
           32,
           33,
           34,
           35,
           36,
           37,
           38,
           39,
           40,
           41,
           42,
           43,
           44,
           45,
           46,
           47,
           48,
           49,
           50,
           51,
           52,
           53,
           54,
           55,
           56,
           57,
           58,
           59,
           60,
           61,
           62,
           63
          ],
          "colorbar": {
           "title": {
            "text": "#Trials"
           },
           "x": 1,
           "xpad": 40
          },
          "colorscale": [
           [
            0,
            "rgb(247,251,255)"
           ],
           [
            0.125,
            "rgb(222,235,247)"
           ],
           [
            0.25,
            "rgb(198,219,239)"
           ],
           [
            0.375,
            "rgb(158,202,225)"
           ],
           [
            0.5,
            "rgb(107,174,214)"
           ],
           [
            0.625,
            "rgb(66,146,198)"
           ],
           [
            0.75,
            "rgb(33,113,181)"
           ],
           [
            0.875,
            "rgb(8,81,156)"
           ],
           [
            1,
            "rgb(8,48,107)"
           ]
          ],
          "line": {
           "color": "Grey",
           "width": 0.5
          },
          "showscale": false
         },
         "mode": "markers",
         "showlegend": false,
         "type": "scatter",
         "x": [
          3,
          6,
          7,
          8,
          4,
          3,
          6,
          7,
          6,
          4,
          2,
          2,
          2,
          2,
          2,
          3,
          4,
          2,
          3,
          5,
          3,
          2,
          3,
          2,
          4,
          3,
          2,
          5,
          3,
          3,
          4,
          4,
          3,
          4,
          5,
          4,
          3,
          3,
          4,
          5,
          5,
          5,
          6,
          6,
          4,
          4,
          7,
          5,
          4,
          4,
          6,
          3,
          3,
          4,
          5,
          2,
          2,
          2,
          2,
          2,
          4,
          3,
          3,
          2
         ],
         "xaxis": "x4",
         "y": [
          0.6385966287730301,
          0.624076832614661,
          0.626765974127793,
          0.6291807134457076,
          0.5870717365738926,
          0.619890239121913,
          0.6362524500196002,
          0.6327165817326539,
          0.5952881223049784,
          0.6287259898079185,
          0.6388318306546452,
          0.6388631909055272,
          0.6370364562916503,
          0.6392551940415523,
          0.6382987063896511,
          0.6379772638181106,
          0.6384790278322227,
          0.6363857310858487,
          0.6390827126617012,
          0.6385182281458252,
          0.6374206193649549,
          0.6387142297138377,
          0.6373814190513524,
          0.6388867110936888,
          0.6366601332810663,
          0.637765582124657,
          0.6376636613092904,
          0.6322304978439828,
          0.6391297530380243,
          0.6383535868286946,
          0.6394825558604469,
          0.6385966287730301,
          0.6395060760486084,
          0.6377577420619365,
          0.6369266954135633,
          0.6369972559780478,
          0.6362054096432771,
          0.6194590356722853,
          0.6326617012936103,
          0.639937279498236,
          0.6372246177969424,
          0.6387377499019992,
          0.6363622108976872,
          0.638000784006272,
          0.6355546844374755,
          0.6395374362994904,
          0.6373030184241474,
          0.6382987063896511,
          0.6384555076440611,
          0.637577420619365,
          0.6363151705213642,
          0.6386907095256762,
          0.6382595060760486,
          0.63546844374755,
          0.6387063896511173,
          0.6391532732261858,
          0.6376793414347315,
          0.6390670325362603,
          0.6043041944335554,
          0.6308192865542924,
          0.6386201489611917,
          0.6386907095256762,
          0.6389651117208938,
          0.6376479811838495
         ],
         "yaxis": "y4"
        },
        {
         "marker": {
          "color": [
           0,
           1,
           2,
           3,
           4,
           5,
           6,
           7,
           8,
           9,
           10,
           11,
           12,
           13,
           14,
           15,
           16,
           17,
           18,
           19,
           20,
           21,
           22,
           23,
           24,
           25,
           26,
           27,
           28,
           29,
           30,
           31,
           32,
           33,
           34,
           35,
           36,
           37,
           38,
           39,
           40,
           41,
           42,
           43,
           44,
           45,
           46,
           47,
           48,
           49,
           50,
           51,
           52,
           53,
           54,
           55,
           56,
           57,
           58,
           59,
           60,
           61,
           62,
           63
          ],
          "colorbar": {
           "title": {
            "text": "#Trials"
           },
           "x": 1,
           "xpad": 40
          },
          "colorscale": [
           [
            0,
            "rgb(247,251,255)"
           ],
           [
            0.125,
            "rgb(222,235,247)"
           ],
           [
            0.25,
            "rgb(198,219,239)"
           ],
           [
            0.375,
            "rgb(158,202,225)"
           ],
           [
            0.5,
            "rgb(107,174,214)"
           ],
           [
            0.625,
            "rgb(66,146,198)"
           ],
           [
            0.75,
            "rgb(33,113,181)"
           ],
           [
            0.875,
            "rgb(8,81,156)"
           ],
           [
            1,
            "rgb(8,48,107)"
           ]
          ],
          "line": {
           "color": "Grey",
           "width": 0.5
          },
          "showscale": false
         },
         "mode": "markers",
         "showlegend": false,
         "type": "scatter",
         "x": [
          26,
          20,
          14,
          28,
          9,
          19,
          19,
          10,
          21,
          16,
          30,
          32,
          32,
          32,
          25,
          32,
          24,
          29,
          32,
          27,
          30,
          32,
          32,
          23,
          24,
          22,
          16,
          12,
          30,
          27,
          30,
          30,
          29,
          26,
          29,
          28,
          30,
          28,
          26,
          31,
          31,
          29,
          31,
          31,
          27,
          29,
          28,
          25,
          31,
          29,
          19,
          31,
          30,
          28,
          29,
          32,
          32,
          32,
          27,
          8,
          31,
          30,
          30,
          32
         ],
         "xaxis": "x5",
         "y": [
          0.6385966287730301,
          0.624076832614661,
          0.626765974127793,
          0.6291807134457076,
          0.5870717365738926,
          0.619890239121913,
          0.6362524500196002,
          0.6327165817326539,
          0.5952881223049784,
          0.6287259898079185,
          0.6388318306546452,
          0.6388631909055272,
          0.6370364562916503,
          0.6392551940415523,
          0.6382987063896511,
          0.6379772638181106,
          0.6384790278322227,
          0.6363857310858487,
          0.6390827126617012,
          0.6385182281458252,
          0.6374206193649549,
          0.6387142297138377,
          0.6373814190513524,
          0.6388867110936888,
          0.6366601332810663,
          0.637765582124657,
          0.6376636613092904,
          0.6322304978439828,
          0.6391297530380243,
          0.6383535868286946,
          0.6394825558604469,
          0.6385966287730301,
          0.6395060760486084,
          0.6377577420619365,
          0.6369266954135633,
          0.6369972559780478,
          0.6362054096432771,
          0.6194590356722853,
          0.6326617012936103,
          0.639937279498236,
          0.6372246177969424,
          0.6387377499019992,
          0.6363622108976872,
          0.638000784006272,
          0.6355546844374755,
          0.6395374362994904,
          0.6373030184241474,
          0.6382987063896511,
          0.6384555076440611,
          0.637577420619365,
          0.6363151705213642,
          0.6386907095256762,
          0.6382595060760486,
          0.63546844374755,
          0.6387063896511173,
          0.6391532732261858,
          0.6376793414347315,
          0.6390670325362603,
          0.6043041944335554,
          0.6308192865542924,
          0.6386201489611917,
          0.6386907095256762,
          0.6389651117208938,
          0.6376479811838495
         ],
         "yaxis": "y5"
        }
       ],
       "layout": {
        "template": {
         "data": {
          "bar": [
           {
            "error_x": {
             "color": "#2a3f5f"
            },
            "error_y": {
             "color": "#2a3f5f"
            },
            "marker": {
             "line": {
              "color": "#E5ECF6",
              "width": 0.5
             },
             "pattern": {
              "fillmode": "overlay",
              "size": 10,
              "solidity": 0.2
             }
            },
            "type": "bar"
           }
          ],
          "barpolar": [
           {
            "marker": {
             "line": {
              "color": "#E5ECF6",
              "width": 0.5
             },
             "pattern": {
              "fillmode": "overlay",
              "size": 10,
              "solidity": 0.2
             }
            },
            "type": "barpolar"
           }
          ],
          "carpet": [
           {
            "aaxis": {
             "endlinecolor": "#2a3f5f",
             "gridcolor": "white",
             "linecolor": "white",
             "minorgridcolor": "white",
             "startlinecolor": "#2a3f5f"
            },
            "baxis": {
             "endlinecolor": "#2a3f5f",
             "gridcolor": "white",
             "linecolor": "white",
             "minorgridcolor": "white",
             "startlinecolor": "#2a3f5f"
            },
            "type": "carpet"
           }
          ],
          "choropleth": [
           {
            "colorbar": {
             "outlinewidth": 0,
             "ticks": ""
            },
            "type": "choropleth"
           }
          ],
          "contour": [
           {
            "colorbar": {
             "outlinewidth": 0,
             "ticks": ""
            },
            "colorscale": [
             [
              0,
              "#0d0887"
             ],
             [
              0.1111111111111111,
              "#46039f"
             ],
             [
              0.2222222222222222,
              "#7201a8"
             ],
             [
              0.3333333333333333,
              "#9c179e"
             ],
             [
              0.4444444444444444,
              "#bd3786"
             ],
             [
              0.5555555555555556,
              "#d8576b"
             ],
             [
              0.6666666666666666,
              "#ed7953"
             ],
             [
              0.7777777777777778,
              "#fb9f3a"
             ],
             [
              0.8888888888888888,
              "#fdca26"
             ],
             [
              1,
              "#f0f921"
             ]
            ],
            "type": "contour"
           }
          ],
          "contourcarpet": [
           {
            "colorbar": {
             "outlinewidth": 0,
             "ticks": ""
            },
            "type": "contourcarpet"
           }
          ],
          "heatmap": [
           {
            "colorbar": {
             "outlinewidth": 0,
             "ticks": ""
            },
            "colorscale": [
             [
              0,
              "#0d0887"
             ],
             [
              0.1111111111111111,
              "#46039f"
             ],
             [
              0.2222222222222222,
              "#7201a8"
             ],
             [
              0.3333333333333333,
              "#9c179e"
             ],
             [
              0.4444444444444444,
              "#bd3786"
             ],
             [
              0.5555555555555556,
              "#d8576b"
             ],
             [
              0.6666666666666666,
              "#ed7953"
             ],
             [
              0.7777777777777778,
              "#fb9f3a"
             ],
             [
              0.8888888888888888,
              "#fdca26"
             ],
             [
              1,
              "#f0f921"
             ]
            ],
            "type": "heatmap"
           }
          ],
          "heatmapgl": [
           {
            "colorbar": {
             "outlinewidth": 0,
             "ticks": ""
            },
            "colorscale": [
             [
              0,
              "#0d0887"
             ],
             [
              0.1111111111111111,
              "#46039f"
             ],
             [
              0.2222222222222222,
              "#7201a8"
             ],
             [
              0.3333333333333333,
              "#9c179e"
             ],
             [
              0.4444444444444444,
              "#bd3786"
             ],
             [
              0.5555555555555556,
              "#d8576b"
             ],
             [
              0.6666666666666666,
              "#ed7953"
             ],
             [
              0.7777777777777778,
              "#fb9f3a"
             ],
             [
              0.8888888888888888,
              "#fdca26"
             ],
             [
              1,
              "#f0f921"
             ]
            ],
            "type": "heatmapgl"
           }
          ],
          "histogram": [
           {
            "marker": {
             "pattern": {
              "fillmode": "overlay",
              "size": 10,
              "solidity": 0.2
             }
            },
            "type": "histogram"
           }
          ],
          "histogram2d": [
           {
            "colorbar": {
             "outlinewidth": 0,
             "ticks": ""
            },
            "colorscale": [
             [
              0,
              "#0d0887"
             ],
             [
              0.1111111111111111,
              "#46039f"
             ],
             [
              0.2222222222222222,
              "#7201a8"
             ],
             [
              0.3333333333333333,
              "#9c179e"
             ],
             [
              0.4444444444444444,
              "#bd3786"
             ],
             [
              0.5555555555555556,
              "#d8576b"
             ],
             [
              0.6666666666666666,
              "#ed7953"
             ],
             [
              0.7777777777777778,
              "#fb9f3a"
             ],
             [
              0.8888888888888888,
              "#fdca26"
             ],
             [
              1,
              "#f0f921"
             ]
            ],
            "type": "histogram2d"
           }
          ],
          "histogram2dcontour": [
           {
            "colorbar": {
             "outlinewidth": 0,
             "ticks": ""
            },
            "colorscale": [
             [
              0,
              "#0d0887"
             ],
             [
              0.1111111111111111,
              "#46039f"
             ],
             [
              0.2222222222222222,
              "#7201a8"
             ],
             [
              0.3333333333333333,
              "#9c179e"
             ],
             [
              0.4444444444444444,
              "#bd3786"
             ],
             [
              0.5555555555555556,
              "#d8576b"
             ],
             [
              0.6666666666666666,
              "#ed7953"
             ],
             [
              0.7777777777777778,
              "#fb9f3a"
             ],
             [
              0.8888888888888888,
              "#fdca26"
             ],
             [
              1,
              "#f0f921"
             ]
            ],
            "type": "histogram2dcontour"
           }
          ],
          "mesh3d": [
           {
            "colorbar": {
             "outlinewidth": 0,
             "ticks": ""
            },
            "type": "mesh3d"
           }
          ],
          "parcoords": [
           {
            "line": {
             "colorbar": {
              "outlinewidth": 0,
              "ticks": ""
             }
            },
            "type": "parcoords"
           }
          ],
          "pie": [
           {
            "automargin": true,
            "type": "pie"
           }
          ],
          "scatter": [
           {
            "marker": {
             "colorbar": {
              "outlinewidth": 0,
              "ticks": ""
             }
            },
            "type": "scatter"
           }
          ],
          "scatter3d": [
           {
            "line": {
             "colorbar": {
              "outlinewidth": 0,
              "ticks": ""
             }
            },
            "marker": {
             "colorbar": {
              "outlinewidth": 0,
              "ticks": ""
             }
            },
            "type": "scatter3d"
           }
          ],
          "scattercarpet": [
           {
            "marker": {
             "colorbar": {
              "outlinewidth": 0,
              "ticks": ""
             }
            },
            "type": "scattercarpet"
           }
          ],
          "scattergeo": [
           {
            "marker": {
             "colorbar": {
              "outlinewidth": 0,
              "ticks": ""
             }
            },
            "type": "scattergeo"
           }
          ],
          "scattergl": [
           {
            "marker": {
             "colorbar": {
              "outlinewidth": 0,
              "ticks": ""
             }
            },
            "type": "scattergl"
           }
          ],
          "scattermapbox": [
           {
            "marker": {
             "colorbar": {
              "outlinewidth": 0,
              "ticks": ""
             }
            },
            "type": "scattermapbox"
           }
          ],
          "scatterpolar": [
           {
            "marker": {
             "colorbar": {
              "outlinewidth": 0,
              "ticks": ""
             }
            },
            "type": "scatterpolar"
           }
          ],
          "scatterpolargl": [
           {
            "marker": {
             "colorbar": {
              "outlinewidth": 0,
              "ticks": ""
             }
            },
            "type": "scatterpolargl"
           }
          ],
          "scatterternary": [
           {
            "marker": {
             "colorbar": {
              "outlinewidth": 0,
              "ticks": ""
             }
            },
            "type": "scatterternary"
           }
          ],
          "surface": [
           {
            "colorbar": {
             "outlinewidth": 0,
             "ticks": ""
            },
            "colorscale": [
             [
              0,
              "#0d0887"
             ],
             [
              0.1111111111111111,
              "#46039f"
             ],
             [
              0.2222222222222222,
              "#7201a8"
             ],
             [
              0.3333333333333333,
              "#9c179e"
             ],
             [
              0.4444444444444444,
              "#bd3786"
             ],
             [
              0.5555555555555556,
              "#d8576b"
             ],
             [
              0.6666666666666666,
              "#ed7953"
             ],
             [
              0.7777777777777778,
              "#fb9f3a"
             ],
             [
              0.8888888888888888,
              "#fdca26"
             ],
             [
              1,
              "#f0f921"
             ]
            ],
            "type": "surface"
           }
          ],
          "table": [
           {
            "cells": {
             "fill": {
              "color": "#EBF0F8"
             },
             "line": {
              "color": "white"
             }
            },
            "header": {
             "fill": {
              "color": "#C8D4E3"
             },
             "line": {
              "color": "white"
             }
            },
            "type": "table"
           }
          ]
         },
         "layout": {
          "annotationdefaults": {
           "arrowcolor": "#2a3f5f",
           "arrowhead": 0,
           "arrowwidth": 1
          },
          "autotypenumbers": "strict",
          "coloraxis": {
           "colorbar": {
            "outlinewidth": 0,
            "ticks": ""
           }
          },
          "colorscale": {
           "diverging": [
            [
             0,
             "#8e0152"
            ],
            [
             0.1,
             "#c51b7d"
            ],
            [
             0.2,
             "#de77ae"
            ],
            [
             0.3,
             "#f1b6da"
            ],
            [
             0.4,
             "#fde0ef"
            ],
            [
             0.5,
             "#f7f7f7"
            ],
            [
             0.6,
             "#e6f5d0"
            ],
            [
             0.7,
             "#b8e186"
            ],
            [
             0.8,
             "#7fbc41"
            ],
            [
             0.9,
             "#4d9221"
            ],
            [
             1,
             "#276419"
            ]
           ],
           "sequential": [
            [
             0,
             "#0d0887"
            ],
            [
             0.1111111111111111,
             "#46039f"
            ],
            [
             0.2222222222222222,
             "#7201a8"
            ],
            [
             0.3333333333333333,
             "#9c179e"
            ],
            [
             0.4444444444444444,
             "#bd3786"
            ],
            [
             0.5555555555555556,
             "#d8576b"
            ],
            [
             0.6666666666666666,
             "#ed7953"
            ],
            [
             0.7777777777777778,
             "#fb9f3a"
            ],
            [
             0.8888888888888888,
             "#fdca26"
            ],
            [
             1,
             "#f0f921"
            ]
           ],
           "sequentialminus": [
            [
             0,
             "#0d0887"
            ],
            [
             0.1111111111111111,
             "#46039f"
            ],
            [
             0.2222222222222222,
             "#7201a8"
            ],
            [
             0.3333333333333333,
             "#9c179e"
            ],
            [
             0.4444444444444444,
             "#bd3786"
            ],
            [
             0.5555555555555556,
             "#d8576b"
            ],
            [
             0.6666666666666666,
             "#ed7953"
            ],
            [
             0.7777777777777778,
             "#fb9f3a"
            ],
            [
             0.8888888888888888,
             "#fdca26"
            ],
            [
             1,
             "#f0f921"
            ]
           ]
          },
          "colorway": [
           "#636efa",
           "#EF553B",
           "#00cc96",
           "#ab63fa",
           "#FFA15A",
           "#19d3f3",
           "#FF6692",
           "#B6E880",
           "#FF97FF",
           "#FECB52"
          ],
          "font": {
           "color": "#2a3f5f"
          },
          "geo": {
           "bgcolor": "white",
           "lakecolor": "white",
           "landcolor": "#E5ECF6",
           "showlakes": true,
           "showland": true,
           "subunitcolor": "white"
          },
          "hoverlabel": {
           "align": "left"
          },
          "hovermode": "closest",
          "mapbox": {
           "style": "light"
          },
          "paper_bgcolor": "white",
          "plot_bgcolor": "#E5ECF6",
          "polar": {
           "angularaxis": {
            "gridcolor": "white",
            "linecolor": "white",
            "ticks": ""
           },
           "bgcolor": "#E5ECF6",
           "radialaxis": {
            "gridcolor": "white",
            "linecolor": "white",
            "ticks": ""
           }
          },
          "scene": {
           "xaxis": {
            "backgroundcolor": "#E5ECF6",
            "gridcolor": "white",
            "gridwidth": 2,
            "linecolor": "white",
            "showbackground": true,
            "ticks": "",
            "zerolinecolor": "white"
           },
           "yaxis": {
            "backgroundcolor": "#E5ECF6",
            "gridcolor": "white",
            "gridwidth": 2,
            "linecolor": "white",
            "showbackground": true,
            "ticks": "",
            "zerolinecolor": "white"
           },
           "zaxis": {
            "backgroundcolor": "#E5ECF6",
            "gridcolor": "white",
            "gridwidth": 2,
            "linecolor": "white",
            "showbackground": true,
            "ticks": "",
            "zerolinecolor": "white"
           }
          },
          "shapedefaults": {
           "line": {
            "color": "#2a3f5f"
           }
          },
          "ternary": {
           "aaxis": {
            "gridcolor": "white",
            "linecolor": "white",
            "ticks": ""
           },
           "baxis": {
            "gridcolor": "white",
            "linecolor": "white",
            "ticks": ""
           },
           "bgcolor": "#E5ECF6",
           "caxis": {
            "gridcolor": "white",
            "linecolor": "white",
            "ticks": ""
           }
          },
          "title": {
           "x": 0.05
          },
          "xaxis": {
           "automargin": true,
           "gridcolor": "white",
           "linecolor": "white",
           "ticks": "",
           "title": {
            "standoff": 15
           },
           "zerolinecolor": "white",
           "zerolinewidth": 2
          },
          "yaxis": {
           "automargin": true,
           "gridcolor": "white",
           "linecolor": "white",
           "ticks": "",
           "title": {
            "standoff": 15
           },
           "zerolinecolor": "white",
           "zerolinewidth": 2
          }
         }
        },
        "title": {
         "text": "Slice Plot"
        },
        "width": 1500,
        "xaxis": {
         "anchor": "y",
         "domain": [
          0,
          0.16799999999999998
         ],
         "title": {
          "text": "criterion"
         }
        },
        "xaxis2": {
         "anchor": "y2",
         "domain": [
          0.208,
          0.376
         ],
         "title": {
          "text": "max_depth"
         }
        },
        "xaxis3": {
         "anchor": "y3",
         "domain": [
          0.416,
          0.584
         ],
         "title": {
          "text": "min_samples_leaf"
         }
        },
        "xaxis4": {
         "anchor": "y4",
         "domain": [
          0.624,
          0.792
         ],
         "title": {
          "text": "min_samples_split"
         }
        },
        "xaxis5": {
         "anchor": "y5",
         "domain": [
          0.832,
          1
         ],
         "title": {
          "text": "n_estimators"
         }
        },
        "yaxis": {
         "anchor": "x",
         "domain": [
          0,
          1
         ],
         "title": {
          "text": "Objective Value"
         }
        },
        "yaxis2": {
         "anchor": "x2",
         "domain": [
          0,
          1
         ],
         "matches": "y",
         "showticklabels": false
        },
        "yaxis3": {
         "anchor": "x3",
         "domain": [
          0,
          1
         ],
         "matches": "y",
         "showticklabels": false
        },
        "yaxis4": {
         "anchor": "x4",
         "domain": [
          0,
          1
         ],
         "matches": "y",
         "showticklabels": false
        },
        "yaxis5": {
         "anchor": "x5",
         "domain": [
          0,
          1
         ],
         "matches": "y",
         "showticklabels": false
        }
       }
      }
     },
     "metadata": {},
     "output_type": "display_data"
    }
   ],
   "source": [
    "optuna.visualization.plot_slice(study_1)"
   ]
  },
  {
   "cell_type": "code",
   "execution_count": 11,
   "metadata": {},
   "outputs": [
    {
     "data": {
      "application/vnd.plotly.v1+json": {
       "config": {
        "plotlyServerURL": "https://plot.ly"
       },
       "data": [
        {
         "cliponaxis": false,
         "hovertemplate": [
          "min_samples_split (IntUniformDistribution): 0.0023866459970713827<extra></extra>",
          "criterion (CategoricalDistribution): 0.002535462537591406<extra></extra>",
          "min_samples_leaf (IntUniformDistribution): 0.0042333152203026594<extra></extra>",
          "n_estimators (IntUniformDistribution): 0.016050051176726615<extra></extra>",
          "max_depth (IntUniformDistribution): 0.9747945250683079<extra></extra>"
         ],
         "marker": {
          "color": [
           "rgb(8,81,156)",
           "rgb(66,146,198)",
           "rgb(8,81,156)",
           "rgb(8,81,156)",
           "rgb(8,81,156)"
          ]
         },
         "orientation": "h",
         "text": [
          "0.0023866459970713827",
          "0.002535462537591406",
          "0.0042333152203026594",
          "0.016050051176726615",
          "0.9747945250683079"
         ],
         "textposition": "outside",
         "texttemplate": "%{text:.2f}",
         "type": "bar",
         "x": [
          0.0023866459970713827,
          0.002535462537591406,
          0.0042333152203026594,
          0.016050051176726615,
          0.9747945250683079
         ],
         "y": [
          "min_samples_split",
          "criterion",
          "min_samples_leaf",
          "n_estimators",
          "max_depth"
         ]
        }
       ],
       "layout": {
        "showlegend": false,
        "template": {
         "data": {
          "bar": [
           {
            "error_x": {
             "color": "#2a3f5f"
            },
            "error_y": {
             "color": "#2a3f5f"
            },
            "marker": {
             "line": {
              "color": "#E5ECF6",
              "width": 0.5
             },
             "pattern": {
              "fillmode": "overlay",
              "size": 10,
              "solidity": 0.2
             }
            },
            "type": "bar"
           }
          ],
          "barpolar": [
           {
            "marker": {
             "line": {
              "color": "#E5ECF6",
              "width": 0.5
             },
             "pattern": {
              "fillmode": "overlay",
              "size": 10,
              "solidity": 0.2
             }
            },
            "type": "barpolar"
           }
          ],
          "carpet": [
           {
            "aaxis": {
             "endlinecolor": "#2a3f5f",
             "gridcolor": "white",
             "linecolor": "white",
             "minorgridcolor": "white",
             "startlinecolor": "#2a3f5f"
            },
            "baxis": {
             "endlinecolor": "#2a3f5f",
             "gridcolor": "white",
             "linecolor": "white",
             "minorgridcolor": "white",
             "startlinecolor": "#2a3f5f"
            },
            "type": "carpet"
           }
          ],
          "choropleth": [
           {
            "colorbar": {
             "outlinewidth": 0,
             "ticks": ""
            },
            "type": "choropleth"
           }
          ],
          "contour": [
           {
            "colorbar": {
             "outlinewidth": 0,
             "ticks": ""
            },
            "colorscale": [
             [
              0,
              "#0d0887"
             ],
             [
              0.1111111111111111,
              "#46039f"
             ],
             [
              0.2222222222222222,
              "#7201a8"
             ],
             [
              0.3333333333333333,
              "#9c179e"
             ],
             [
              0.4444444444444444,
              "#bd3786"
             ],
             [
              0.5555555555555556,
              "#d8576b"
             ],
             [
              0.6666666666666666,
              "#ed7953"
             ],
             [
              0.7777777777777778,
              "#fb9f3a"
             ],
             [
              0.8888888888888888,
              "#fdca26"
             ],
             [
              1,
              "#f0f921"
             ]
            ],
            "type": "contour"
           }
          ],
          "contourcarpet": [
           {
            "colorbar": {
             "outlinewidth": 0,
             "ticks": ""
            },
            "type": "contourcarpet"
           }
          ],
          "heatmap": [
           {
            "colorbar": {
             "outlinewidth": 0,
             "ticks": ""
            },
            "colorscale": [
             [
              0,
              "#0d0887"
             ],
             [
              0.1111111111111111,
              "#46039f"
             ],
             [
              0.2222222222222222,
              "#7201a8"
             ],
             [
              0.3333333333333333,
              "#9c179e"
             ],
             [
              0.4444444444444444,
              "#bd3786"
             ],
             [
              0.5555555555555556,
              "#d8576b"
             ],
             [
              0.6666666666666666,
              "#ed7953"
             ],
             [
              0.7777777777777778,
              "#fb9f3a"
             ],
             [
              0.8888888888888888,
              "#fdca26"
             ],
             [
              1,
              "#f0f921"
             ]
            ],
            "type": "heatmap"
           }
          ],
          "heatmapgl": [
           {
            "colorbar": {
             "outlinewidth": 0,
             "ticks": ""
            },
            "colorscale": [
             [
              0,
              "#0d0887"
             ],
             [
              0.1111111111111111,
              "#46039f"
             ],
             [
              0.2222222222222222,
              "#7201a8"
             ],
             [
              0.3333333333333333,
              "#9c179e"
             ],
             [
              0.4444444444444444,
              "#bd3786"
             ],
             [
              0.5555555555555556,
              "#d8576b"
             ],
             [
              0.6666666666666666,
              "#ed7953"
             ],
             [
              0.7777777777777778,
              "#fb9f3a"
             ],
             [
              0.8888888888888888,
              "#fdca26"
             ],
             [
              1,
              "#f0f921"
             ]
            ],
            "type": "heatmapgl"
           }
          ],
          "histogram": [
           {
            "marker": {
             "pattern": {
              "fillmode": "overlay",
              "size": 10,
              "solidity": 0.2
             }
            },
            "type": "histogram"
           }
          ],
          "histogram2d": [
           {
            "colorbar": {
             "outlinewidth": 0,
             "ticks": ""
            },
            "colorscale": [
             [
              0,
              "#0d0887"
             ],
             [
              0.1111111111111111,
              "#46039f"
             ],
             [
              0.2222222222222222,
              "#7201a8"
             ],
             [
              0.3333333333333333,
              "#9c179e"
             ],
             [
              0.4444444444444444,
              "#bd3786"
             ],
             [
              0.5555555555555556,
              "#d8576b"
             ],
             [
              0.6666666666666666,
              "#ed7953"
             ],
             [
              0.7777777777777778,
              "#fb9f3a"
             ],
             [
              0.8888888888888888,
              "#fdca26"
             ],
             [
              1,
              "#f0f921"
             ]
            ],
            "type": "histogram2d"
           }
          ],
          "histogram2dcontour": [
           {
            "colorbar": {
             "outlinewidth": 0,
             "ticks": ""
            },
            "colorscale": [
             [
              0,
              "#0d0887"
             ],
             [
              0.1111111111111111,
              "#46039f"
             ],
             [
              0.2222222222222222,
              "#7201a8"
             ],
             [
              0.3333333333333333,
              "#9c179e"
             ],
             [
              0.4444444444444444,
              "#bd3786"
             ],
             [
              0.5555555555555556,
              "#d8576b"
             ],
             [
              0.6666666666666666,
              "#ed7953"
             ],
             [
              0.7777777777777778,
              "#fb9f3a"
             ],
             [
              0.8888888888888888,
              "#fdca26"
             ],
             [
              1,
              "#f0f921"
             ]
            ],
            "type": "histogram2dcontour"
           }
          ],
          "mesh3d": [
           {
            "colorbar": {
             "outlinewidth": 0,
             "ticks": ""
            },
            "type": "mesh3d"
           }
          ],
          "parcoords": [
           {
            "line": {
             "colorbar": {
              "outlinewidth": 0,
              "ticks": ""
             }
            },
            "type": "parcoords"
           }
          ],
          "pie": [
           {
            "automargin": true,
            "type": "pie"
           }
          ],
          "scatter": [
           {
            "marker": {
             "colorbar": {
              "outlinewidth": 0,
              "ticks": ""
             }
            },
            "type": "scatter"
           }
          ],
          "scatter3d": [
           {
            "line": {
             "colorbar": {
              "outlinewidth": 0,
              "ticks": ""
             }
            },
            "marker": {
             "colorbar": {
              "outlinewidth": 0,
              "ticks": ""
             }
            },
            "type": "scatter3d"
           }
          ],
          "scattercarpet": [
           {
            "marker": {
             "colorbar": {
              "outlinewidth": 0,
              "ticks": ""
             }
            },
            "type": "scattercarpet"
           }
          ],
          "scattergeo": [
           {
            "marker": {
             "colorbar": {
              "outlinewidth": 0,
              "ticks": ""
             }
            },
            "type": "scattergeo"
           }
          ],
          "scattergl": [
           {
            "marker": {
             "colorbar": {
              "outlinewidth": 0,
              "ticks": ""
             }
            },
            "type": "scattergl"
           }
          ],
          "scattermapbox": [
           {
            "marker": {
             "colorbar": {
              "outlinewidth": 0,
              "ticks": ""
             }
            },
            "type": "scattermapbox"
           }
          ],
          "scatterpolar": [
           {
            "marker": {
             "colorbar": {
              "outlinewidth": 0,
              "ticks": ""
             }
            },
            "type": "scatterpolar"
           }
          ],
          "scatterpolargl": [
           {
            "marker": {
             "colorbar": {
              "outlinewidth": 0,
              "ticks": ""
             }
            },
            "type": "scatterpolargl"
           }
          ],
          "scatterternary": [
           {
            "marker": {
             "colorbar": {
              "outlinewidth": 0,
              "ticks": ""
             }
            },
            "type": "scatterternary"
           }
          ],
          "surface": [
           {
            "colorbar": {
             "outlinewidth": 0,
             "ticks": ""
            },
            "colorscale": [
             [
              0,
              "#0d0887"
             ],
             [
              0.1111111111111111,
              "#46039f"
             ],
             [
              0.2222222222222222,
              "#7201a8"
             ],
             [
              0.3333333333333333,
              "#9c179e"
             ],
             [
              0.4444444444444444,
              "#bd3786"
             ],
             [
              0.5555555555555556,
              "#d8576b"
             ],
             [
              0.6666666666666666,
              "#ed7953"
             ],
             [
              0.7777777777777778,
              "#fb9f3a"
             ],
             [
              0.8888888888888888,
              "#fdca26"
             ],
             [
              1,
              "#f0f921"
             ]
            ],
            "type": "surface"
           }
          ],
          "table": [
           {
            "cells": {
             "fill": {
              "color": "#EBF0F8"
             },
             "line": {
              "color": "white"
             }
            },
            "header": {
             "fill": {
              "color": "#C8D4E3"
             },
             "line": {
              "color": "white"
             }
            },
            "type": "table"
           }
          ]
         },
         "layout": {
          "annotationdefaults": {
           "arrowcolor": "#2a3f5f",
           "arrowhead": 0,
           "arrowwidth": 1
          },
          "autotypenumbers": "strict",
          "coloraxis": {
           "colorbar": {
            "outlinewidth": 0,
            "ticks": ""
           }
          },
          "colorscale": {
           "diverging": [
            [
             0,
             "#8e0152"
            ],
            [
             0.1,
             "#c51b7d"
            ],
            [
             0.2,
             "#de77ae"
            ],
            [
             0.3,
             "#f1b6da"
            ],
            [
             0.4,
             "#fde0ef"
            ],
            [
             0.5,
             "#f7f7f7"
            ],
            [
             0.6,
             "#e6f5d0"
            ],
            [
             0.7,
             "#b8e186"
            ],
            [
             0.8,
             "#7fbc41"
            ],
            [
             0.9,
             "#4d9221"
            ],
            [
             1,
             "#276419"
            ]
           ],
           "sequential": [
            [
             0,
             "#0d0887"
            ],
            [
             0.1111111111111111,
             "#46039f"
            ],
            [
             0.2222222222222222,
             "#7201a8"
            ],
            [
             0.3333333333333333,
             "#9c179e"
            ],
            [
             0.4444444444444444,
             "#bd3786"
            ],
            [
             0.5555555555555556,
             "#d8576b"
            ],
            [
             0.6666666666666666,
             "#ed7953"
            ],
            [
             0.7777777777777778,
             "#fb9f3a"
            ],
            [
             0.8888888888888888,
             "#fdca26"
            ],
            [
             1,
             "#f0f921"
            ]
           ],
           "sequentialminus": [
            [
             0,
             "#0d0887"
            ],
            [
             0.1111111111111111,
             "#46039f"
            ],
            [
             0.2222222222222222,
             "#7201a8"
            ],
            [
             0.3333333333333333,
             "#9c179e"
            ],
            [
             0.4444444444444444,
             "#bd3786"
            ],
            [
             0.5555555555555556,
             "#d8576b"
            ],
            [
             0.6666666666666666,
             "#ed7953"
            ],
            [
             0.7777777777777778,
             "#fb9f3a"
            ],
            [
             0.8888888888888888,
             "#fdca26"
            ],
            [
             1,
             "#f0f921"
            ]
           ]
          },
          "colorway": [
           "#636efa",
           "#EF553B",
           "#00cc96",
           "#ab63fa",
           "#FFA15A",
           "#19d3f3",
           "#FF6692",
           "#B6E880",
           "#FF97FF",
           "#FECB52"
          ],
          "font": {
           "color": "#2a3f5f"
          },
          "geo": {
           "bgcolor": "white",
           "lakecolor": "white",
           "landcolor": "#E5ECF6",
           "showlakes": true,
           "showland": true,
           "subunitcolor": "white"
          },
          "hoverlabel": {
           "align": "left"
          },
          "hovermode": "closest",
          "mapbox": {
           "style": "light"
          },
          "paper_bgcolor": "white",
          "plot_bgcolor": "#E5ECF6",
          "polar": {
           "angularaxis": {
            "gridcolor": "white",
            "linecolor": "white",
            "ticks": ""
           },
           "bgcolor": "#E5ECF6",
           "radialaxis": {
            "gridcolor": "white",
            "linecolor": "white",
            "ticks": ""
           }
          },
          "scene": {
           "xaxis": {
            "backgroundcolor": "#E5ECF6",
            "gridcolor": "white",
            "gridwidth": 2,
            "linecolor": "white",
            "showbackground": true,
            "ticks": "",
            "zerolinecolor": "white"
           },
           "yaxis": {
            "backgroundcolor": "#E5ECF6",
            "gridcolor": "white",
            "gridwidth": 2,
            "linecolor": "white",
            "showbackground": true,
            "ticks": "",
            "zerolinecolor": "white"
           },
           "zaxis": {
            "backgroundcolor": "#E5ECF6",
            "gridcolor": "white",
            "gridwidth": 2,
            "linecolor": "white",
            "showbackground": true,
            "ticks": "",
            "zerolinecolor": "white"
           }
          },
          "shapedefaults": {
           "line": {
            "color": "#2a3f5f"
           }
          },
          "ternary": {
           "aaxis": {
            "gridcolor": "white",
            "linecolor": "white",
            "ticks": ""
           },
           "baxis": {
            "gridcolor": "white",
            "linecolor": "white",
            "ticks": ""
           },
           "bgcolor": "#E5ECF6",
           "caxis": {
            "gridcolor": "white",
            "linecolor": "white",
            "ticks": ""
           }
          },
          "title": {
           "x": 0.05
          },
          "xaxis": {
           "automargin": true,
           "gridcolor": "white",
           "linecolor": "white",
           "ticks": "",
           "title": {
            "standoff": 15
           },
           "zerolinecolor": "white",
           "zerolinewidth": 2
          },
          "yaxis": {
           "automargin": true,
           "gridcolor": "white",
           "linecolor": "white",
           "ticks": "",
           "title": {
            "standoff": 15
           },
           "zerolinecolor": "white",
           "zerolinewidth": 2
          }
         }
        },
        "title": {
         "text": "Hyperparameter Importances"
        },
        "xaxis": {
         "title": {
          "text": "Importance for Objective Value"
         }
        },
        "yaxis": {
         "title": {
          "text": "Hyperparameter"
         }
        }
       }
      }
     },
     "metadata": {},
     "output_type": "display_data"
    }
   ],
   "source": [
    "optuna.visualization.plot_param_importances(study_1)"
   ]
  },
  {
   "cell_type": "markdown",
   "metadata": {},
   "source": [
    "#### Comentários acerca dos resultados da segunda execução\n",
    "\n",
    "Os resultados foram melhores, é possível perceber uma tendência de crescimento em torno do 16, entretanto, a melhora foi de menos de 1% (a melhora foi de 0.04%). Tendo em vista que esta execução foi mais rápida (11 minutos a menos) que a primeira (que demorou um total de 50 minutos), então, o teste foi válido."
   ]
  },
  {
   "cell_type": "markdown",
   "metadata": {},
   "source": [
    "## Gradient Boosting"
   ]
  },
  {
   "cell_type": "code",
   "execution_count": null,
   "metadata": {},
   "outputs": [],
   "source": [
    "# Parâmetros default:\n",
    "# *,loss='deviance', \n",
    "# learning_rate=0.1, \n",
    "# n_estimators=100,\n",
    "# subsample=1.0, \n",
    "# criterion='friedman_mse', \n",
    "# min_samples_split=2,\n",
    "# min_samples_leaf=1, \n",
    "# min_weight_fraction_leaf=0.,\n",
    "# max_depth=3, \n",
    "# min_impurity_decrease=0.,\n",
    "# min_impurity_split=None, \n",
    "# random_state=None, \n",
    "# max_features=None, verbose=0,\n",
    "# max_leaf_nodes=None, \n",
    "# warm_start=False,\n",
    "# validation_fraction=0.1, \n",
    "# n_iter_no_change=None, \n",
    "# tol=1e-4,\n",
    "# ccp_alpha=0.0"
   ]
  },
  {
   "cell_type": "markdown",
   "metadata": {},
   "source": [
    "#### Teste de Kolmogorov-Smirnov (KS) e matriz de confusão da Gradient Boosting\n",
    "Acima, podemos ver os resultados de ambos. O teste de Kolmogorov-Smirnov assemelha-se, assim como a Random Forest, bastante a uma distribuição normal. Mais uma vez (semelhante a Random Forest), a matriz foi bem sucedida para identificar resultados falsos, para casos verdadeiro seu resultado foi pouco acima de 50%. Podemos afirmar que para apenas um teste, o Gradient Boosting se saiu melhor."
   ]
  },
  {
   "cell_type": "code",
   "execution_count": null,
   "metadata": {},
   "outputs": [],
   "source": [
    "ds_dropado = ds.drop(labels=['IND_BOM_1_2', 'IND_BOM_1_1'], axis=1)\n",
    "df_treino = treino_ina.drop(['IND_BOM_1_2','IND_BOM_1_1'], axis=1).append(treino_adi.drop(['IND_BOM_1_2','IND_BOM_1_1'], axis=1))\n",
    "df_validacao = valid_ina.drop(['IND_BOM_1_2','IND_BOM_1_1'], axis=1).append(valid_adi.drop(['IND_BOM_1_2','IND_BOM_1_1'], axis=1))\n",
    "df_validacao.drop(columns=['INDEX'], axis=1, inplace=True)\n",
    "df_teste = teste_ina.drop(['IND_BOM_1_2','IND_BOM_1_1'], axis=1).append(teste_adi.drop(['IND_BOM_1_2','IND_BOM_1_1'], axis=1))\n",
    "df_teste.drop(columns=['INDEX'], axis=1, inplace=True)\n",
    "\n",
    "best_gb = []\n",
    "\n",
    "def gb(trial):\n",
    "    loss                = trial.suggest_categorical(\"loss\", [\"deviance\", \"exponential\"])\n",
    "    max_depth           = trial.suggest_int(\"max_depth\", 16, 64)\n",
    "    subsample           = trial.suggest_float(\"subsample\", 0.01, 0.7)\n",
    "    n_estimators        = trial.suggest_int(\"n_estimators\", 8, 32)\n",
    "    learning_rate       = trial.suggest_float(\"learning_rate\", 0.01, 0.7)\n",
    "    min_samples_leaf    = trial.suggest_int(\"min_samples_leaf\", 2, 8)\n",
    "    \n",
    "    # Código opcional para logar execuções\n",
    "    # print('Gradient Boosting com {} estimadores e profundidade máxima {}, critério {}, min amostras de folhas {}, subsample de {} e taxa de aprendizagem {}\\n'.format(\n",
    "    #     n_estimators, max_depth, loss, min_samples_leaf, subsample, learning_rate\n",
    "    # ))\n",
    "\n",
    "\n",
    "    gradient_boost = GradientBoostingClassifier(n_estimators = n_estimators, \n",
    "                                            max_depth = max_depth, \n",
    "                                            min_samples_leaf = min_samples_leaf, \n",
    "                                            learning_rate = learning_rate, \n",
    "                                            loss = loss, \n",
    "                                            subsample = subsample).fit(df_treino, [0]*len(treino_ina)+[1]*len(treino_adi))\n",
    "    best_gb.append(gradient_boost)\n",
    "    \n",
    "    gb_pred_class = gradient_boost.predict(df_validacao)\n",
    "    gb_pred_scores = gradient_boost.predict_proba(df_validacao)\n",
    "    \n",
    "    accuracy, recall, precision, f1, auroc, aupr = compute_performance_metrics_sem_plot2([0]*len(valid_ina)+[1]*len(valid_adi), gb_pred_class, gb_pred_scores, \"GB/GB Trial {}\".format(trial.number))\n",
    "    \n",
    "    return accuracy\n",
    "\n",
    "study_2 = optuna.create_study(direction=\"maximize\")\n",
    "study_2.optimize(gb, n_trials=64)\n",
    "\n",
    "compute_performance_metrics([0]*len(teste_ina)+[1]*len(teste_adi), best_gb[study_2.best_trial.number].predict(df_teste), best_gb[study_2.best_trial.number].predict_proba(df_teste))\n",
    "plot_confusion_matrix(best_gb[study_2.best_trial.number], df_teste, [0]*len(teste_ina)+[1]*len(teste_adi), normalize='true')"
   ]
  },
  {
   "cell_type": "markdown",
   "metadata": {},
   "source": [
    "#### Plot da matriz de confusão do melhor classificador dentre os testados acima"
   ]
  },
  {
   "cell_type": "markdown",
   "metadata": {},
   "source": [
    "### Resultados do Gradient Boosting"
   ]
  },
  {
   "cell_type": "code",
   "execution_count": 8,
   "metadata": {},
   "outputs": [
    {
     "data": {
      "application/vnd.plotly.v1+json": {
       "config": {
        "plotlyServerURL": "https://plot.ly"
       },
       "data": [
        {
         "mode": "markers",
         "name": "Objective Value",
         "type": "scatter",
         "x": [
          0,
          1,
          2,
          3,
          4,
          5,
          6,
          7,
          8,
          9,
          10,
          11,
          12,
          13,
          14,
          15,
          16,
          17,
          18,
          19,
          20,
          21,
          22,
          23,
          24,
          25,
          26,
          27,
          28,
          29,
          30,
          31
         ],
         "y": [
          0.5801332810662485,
          0.5829086632693061,
          0.5929674637397099,
          0.5708349666797334,
          0.5929596236769894,
          0.6026577812622501,
          0.5431438651509212,
          0.5745433163465308,
          0.5873304586436692,
          0.561983535868287,
          0.5980713445707566,
          0.6006585652685221,
          0.5958290866326931,
          0.599874558996472,
          0.6049470795766366,
          0.6041160329282634,
          0.6006507252058016,
          0.6020854566836534,
          0.608890631125049,
          0.5936730693845551,
          0.6138063504508036,
          0.6103802430419444,
          0.611344570756566,
          0.6237475499803998,
          0.5674480595844766,
          0.6297216777734221,
          0.6284202273618189,
          0.6087573500588005,
          0.6263190905527244,
          0.5744884359074872,
          0.5290395923167386,
          0.6301293610348883
         ]
        },
        {
         "name": "Best Value",
         "type": "scatter",
         "x": [
          0,
          1,
          2,
          3,
          4,
          5,
          6,
          7,
          8,
          9,
          10,
          11,
          12,
          13,
          14,
          15,
          16,
          17,
          18,
          19,
          20,
          21,
          22,
          23,
          24,
          25,
          26,
          27,
          28,
          29,
          30,
          31
         ],
         "y": [
          0.5801332810662485,
          0.5829086632693061,
          0.5929674637397099,
          0.5929674637397099,
          0.5929674637397099,
          0.6026577812622501,
          0.6026577812622501,
          0.6026577812622501,
          0.6026577812622501,
          0.6026577812622501,
          0.6026577812622501,
          0.6026577812622501,
          0.6026577812622501,
          0.6026577812622501,
          0.6049470795766366,
          0.6049470795766366,
          0.6049470795766366,
          0.6049470795766366,
          0.608890631125049,
          0.608890631125049,
          0.6138063504508036,
          0.6138063504508036,
          0.6138063504508036,
          0.6237475499803998,
          0.6237475499803998,
          0.6297216777734221,
          0.6297216777734221,
          0.6297216777734221,
          0.6297216777734221,
          0.6297216777734221,
          0.6297216777734221,
          0.6301293610348883
         ]
        }
       ],
       "layout": {
        "template": {
         "data": {
          "bar": [
           {
            "error_x": {
             "color": "#2a3f5f"
            },
            "error_y": {
             "color": "#2a3f5f"
            },
            "marker": {
             "line": {
              "color": "#E5ECF6",
              "width": 0.5
             },
             "pattern": {
              "fillmode": "overlay",
              "size": 10,
              "solidity": 0.2
             }
            },
            "type": "bar"
           }
          ],
          "barpolar": [
           {
            "marker": {
             "line": {
              "color": "#E5ECF6",
              "width": 0.5
             },
             "pattern": {
              "fillmode": "overlay",
              "size": 10,
              "solidity": 0.2
             }
            },
            "type": "barpolar"
           }
          ],
          "carpet": [
           {
            "aaxis": {
             "endlinecolor": "#2a3f5f",
             "gridcolor": "white",
             "linecolor": "white",
             "minorgridcolor": "white",
             "startlinecolor": "#2a3f5f"
            },
            "baxis": {
             "endlinecolor": "#2a3f5f",
             "gridcolor": "white",
             "linecolor": "white",
             "minorgridcolor": "white",
             "startlinecolor": "#2a3f5f"
            },
            "type": "carpet"
           }
          ],
          "choropleth": [
           {
            "colorbar": {
             "outlinewidth": 0,
             "ticks": ""
            },
            "type": "choropleth"
           }
          ],
          "contour": [
           {
            "colorbar": {
             "outlinewidth": 0,
             "ticks": ""
            },
            "colorscale": [
             [
              0,
              "#0d0887"
             ],
             [
              0.1111111111111111,
              "#46039f"
             ],
             [
              0.2222222222222222,
              "#7201a8"
             ],
             [
              0.3333333333333333,
              "#9c179e"
             ],
             [
              0.4444444444444444,
              "#bd3786"
             ],
             [
              0.5555555555555556,
              "#d8576b"
             ],
             [
              0.6666666666666666,
              "#ed7953"
             ],
             [
              0.7777777777777778,
              "#fb9f3a"
             ],
             [
              0.8888888888888888,
              "#fdca26"
             ],
             [
              1,
              "#f0f921"
             ]
            ],
            "type": "contour"
           }
          ],
          "contourcarpet": [
           {
            "colorbar": {
             "outlinewidth": 0,
             "ticks": ""
            },
            "type": "contourcarpet"
           }
          ],
          "heatmap": [
           {
            "colorbar": {
             "outlinewidth": 0,
             "ticks": ""
            },
            "colorscale": [
             [
              0,
              "#0d0887"
             ],
             [
              0.1111111111111111,
              "#46039f"
             ],
             [
              0.2222222222222222,
              "#7201a8"
             ],
             [
              0.3333333333333333,
              "#9c179e"
             ],
             [
              0.4444444444444444,
              "#bd3786"
             ],
             [
              0.5555555555555556,
              "#d8576b"
             ],
             [
              0.6666666666666666,
              "#ed7953"
             ],
             [
              0.7777777777777778,
              "#fb9f3a"
             ],
             [
              0.8888888888888888,
              "#fdca26"
             ],
             [
              1,
              "#f0f921"
             ]
            ],
            "type": "heatmap"
           }
          ],
          "heatmapgl": [
           {
            "colorbar": {
             "outlinewidth": 0,
             "ticks": ""
            },
            "colorscale": [
             [
              0,
              "#0d0887"
             ],
             [
              0.1111111111111111,
              "#46039f"
             ],
             [
              0.2222222222222222,
              "#7201a8"
             ],
             [
              0.3333333333333333,
              "#9c179e"
             ],
             [
              0.4444444444444444,
              "#bd3786"
             ],
             [
              0.5555555555555556,
              "#d8576b"
             ],
             [
              0.6666666666666666,
              "#ed7953"
             ],
             [
              0.7777777777777778,
              "#fb9f3a"
             ],
             [
              0.8888888888888888,
              "#fdca26"
             ],
             [
              1,
              "#f0f921"
             ]
            ],
            "type": "heatmapgl"
           }
          ],
          "histogram": [
           {
            "marker": {
             "pattern": {
              "fillmode": "overlay",
              "size": 10,
              "solidity": 0.2
             }
            },
            "type": "histogram"
           }
          ],
          "histogram2d": [
           {
            "colorbar": {
             "outlinewidth": 0,
             "ticks": ""
            },
            "colorscale": [
             [
              0,
              "#0d0887"
             ],
             [
              0.1111111111111111,
              "#46039f"
             ],
             [
              0.2222222222222222,
              "#7201a8"
             ],
             [
              0.3333333333333333,
              "#9c179e"
             ],
             [
              0.4444444444444444,
              "#bd3786"
             ],
             [
              0.5555555555555556,
              "#d8576b"
             ],
             [
              0.6666666666666666,
              "#ed7953"
             ],
             [
              0.7777777777777778,
              "#fb9f3a"
             ],
             [
              0.8888888888888888,
              "#fdca26"
             ],
             [
              1,
              "#f0f921"
             ]
            ],
            "type": "histogram2d"
           }
          ],
          "histogram2dcontour": [
           {
            "colorbar": {
             "outlinewidth": 0,
             "ticks": ""
            },
            "colorscale": [
             [
              0,
              "#0d0887"
             ],
             [
              0.1111111111111111,
              "#46039f"
             ],
             [
              0.2222222222222222,
              "#7201a8"
             ],
             [
              0.3333333333333333,
              "#9c179e"
             ],
             [
              0.4444444444444444,
              "#bd3786"
             ],
             [
              0.5555555555555556,
              "#d8576b"
             ],
             [
              0.6666666666666666,
              "#ed7953"
             ],
             [
              0.7777777777777778,
              "#fb9f3a"
             ],
             [
              0.8888888888888888,
              "#fdca26"
             ],
             [
              1,
              "#f0f921"
             ]
            ],
            "type": "histogram2dcontour"
           }
          ],
          "mesh3d": [
           {
            "colorbar": {
             "outlinewidth": 0,
             "ticks": ""
            },
            "type": "mesh3d"
           }
          ],
          "parcoords": [
           {
            "line": {
             "colorbar": {
              "outlinewidth": 0,
              "ticks": ""
             }
            },
            "type": "parcoords"
           }
          ],
          "pie": [
           {
            "automargin": true,
            "type": "pie"
           }
          ],
          "scatter": [
           {
            "marker": {
             "colorbar": {
              "outlinewidth": 0,
              "ticks": ""
             }
            },
            "type": "scatter"
           }
          ],
          "scatter3d": [
           {
            "line": {
             "colorbar": {
              "outlinewidth": 0,
              "ticks": ""
             }
            },
            "marker": {
             "colorbar": {
              "outlinewidth": 0,
              "ticks": ""
             }
            },
            "type": "scatter3d"
           }
          ],
          "scattercarpet": [
           {
            "marker": {
             "colorbar": {
              "outlinewidth": 0,
              "ticks": ""
             }
            },
            "type": "scattercarpet"
           }
          ],
          "scattergeo": [
           {
            "marker": {
             "colorbar": {
              "outlinewidth": 0,
              "ticks": ""
             }
            },
            "type": "scattergeo"
           }
          ],
          "scattergl": [
           {
            "marker": {
             "colorbar": {
              "outlinewidth": 0,
              "ticks": ""
             }
            },
            "type": "scattergl"
           }
          ],
          "scattermapbox": [
           {
            "marker": {
             "colorbar": {
              "outlinewidth": 0,
              "ticks": ""
             }
            },
            "type": "scattermapbox"
           }
          ],
          "scatterpolar": [
           {
            "marker": {
             "colorbar": {
              "outlinewidth": 0,
              "ticks": ""
             }
            },
            "type": "scatterpolar"
           }
          ],
          "scatterpolargl": [
           {
            "marker": {
             "colorbar": {
              "outlinewidth": 0,
              "ticks": ""
             }
            },
            "type": "scatterpolargl"
           }
          ],
          "scatterternary": [
           {
            "marker": {
             "colorbar": {
              "outlinewidth": 0,
              "ticks": ""
             }
            },
            "type": "scatterternary"
           }
          ],
          "surface": [
           {
            "colorbar": {
             "outlinewidth": 0,
             "ticks": ""
            },
            "colorscale": [
             [
              0,
              "#0d0887"
             ],
             [
              0.1111111111111111,
              "#46039f"
             ],
             [
              0.2222222222222222,
              "#7201a8"
             ],
             [
              0.3333333333333333,
              "#9c179e"
             ],
             [
              0.4444444444444444,
              "#bd3786"
             ],
             [
              0.5555555555555556,
              "#d8576b"
             ],
             [
              0.6666666666666666,
              "#ed7953"
             ],
             [
              0.7777777777777778,
              "#fb9f3a"
             ],
             [
              0.8888888888888888,
              "#fdca26"
             ],
             [
              1,
              "#f0f921"
             ]
            ],
            "type": "surface"
           }
          ],
          "table": [
           {
            "cells": {
             "fill": {
              "color": "#EBF0F8"
             },
             "line": {
              "color": "white"
             }
            },
            "header": {
             "fill": {
              "color": "#C8D4E3"
             },
             "line": {
              "color": "white"
             }
            },
            "type": "table"
           }
          ]
         },
         "layout": {
          "annotationdefaults": {
           "arrowcolor": "#2a3f5f",
           "arrowhead": 0,
           "arrowwidth": 1
          },
          "autotypenumbers": "strict",
          "coloraxis": {
           "colorbar": {
            "outlinewidth": 0,
            "ticks": ""
           }
          },
          "colorscale": {
           "diverging": [
            [
             0,
             "#8e0152"
            ],
            [
             0.1,
             "#c51b7d"
            ],
            [
             0.2,
             "#de77ae"
            ],
            [
             0.3,
             "#f1b6da"
            ],
            [
             0.4,
             "#fde0ef"
            ],
            [
             0.5,
             "#f7f7f7"
            ],
            [
             0.6,
             "#e6f5d0"
            ],
            [
             0.7,
             "#b8e186"
            ],
            [
             0.8,
             "#7fbc41"
            ],
            [
             0.9,
             "#4d9221"
            ],
            [
             1,
             "#276419"
            ]
           ],
           "sequential": [
            [
             0,
             "#0d0887"
            ],
            [
             0.1111111111111111,
             "#46039f"
            ],
            [
             0.2222222222222222,
             "#7201a8"
            ],
            [
             0.3333333333333333,
             "#9c179e"
            ],
            [
             0.4444444444444444,
             "#bd3786"
            ],
            [
             0.5555555555555556,
             "#d8576b"
            ],
            [
             0.6666666666666666,
             "#ed7953"
            ],
            [
             0.7777777777777778,
             "#fb9f3a"
            ],
            [
             0.8888888888888888,
             "#fdca26"
            ],
            [
             1,
             "#f0f921"
            ]
           ],
           "sequentialminus": [
            [
             0,
             "#0d0887"
            ],
            [
             0.1111111111111111,
             "#46039f"
            ],
            [
             0.2222222222222222,
             "#7201a8"
            ],
            [
             0.3333333333333333,
             "#9c179e"
            ],
            [
             0.4444444444444444,
             "#bd3786"
            ],
            [
             0.5555555555555556,
             "#d8576b"
            ],
            [
             0.6666666666666666,
             "#ed7953"
            ],
            [
             0.7777777777777778,
             "#fb9f3a"
            ],
            [
             0.8888888888888888,
             "#fdca26"
            ],
            [
             1,
             "#f0f921"
            ]
           ]
          },
          "colorway": [
           "#636efa",
           "#EF553B",
           "#00cc96",
           "#ab63fa",
           "#FFA15A",
           "#19d3f3",
           "#FF6692",
           "#B6E880",
           "#FF97FF",
           "#FECB52"
          ],
          "font": {
           "color": "#2a3f5f"
          },
          "geo": {
           "bgcolor": "white",
           "lakecolor": "white",
           "landcolor": "#E5ECF6",
           "showlakes": true,
           "showland": true,
           "subunitcolor": "white"
          },
          "hoverlabel": {
           "align": "left"
          },
          "hovermode": "closest",
          "mapbox": {
           "style": "light"
          },
          "paper_bgcolor": "white",
          "plot_bgcolor": "#E5ECF6",
          "polar": {
           "angularaxis": {
            "gridcolor": "white",
            "linecolor": "white",
            "ticks": ""
           },
           "bgcolor": "#E5ECF6",
           "radialaxis": {
            "gridcolor": "white",
            "linecolor": "white",
            "ticks": ""
           }
          },
          "scene": {
           "xaxis": {
            "backgroundcolor": "#E5ECF6",
            "gridcolor": "white",
            "gridwidth": 2,
            "linecolor": "white",
            "showbackground": true,
            "ticks": "",
            "zerolinecolor": "white"
           },
           "yaxis": {
            "backgroundcolor": "#E5ECF6",
            "gridcolor": "white",
            "gridwidth": 2,
            "linecolor": "white",
            "showbackground": true,
            "ticks": "",
            "zerolinecolor": "white"
           },
           "zaxis": {
            "backgroundcolor": "#E5ECF6",
            "gridcolor": "white",
            "gridwidth": 2,
            "linecolor": "white",
            "showbackground": true,
            "ticks": "",
            "zerolinecolor": "white"
           }
          },
          "shapedefaults": {
           "line": {
            "color": "#2a3f5f"
           }
          },
          "ternary": {
           "aaxis": {
            "gridcolor": "white",
            "linecolor": "white",
            "ticks": ""
           },
           "baxis": {
            "gridcolor": "white",
            "linecolor": "white",
            "ticks": ""
           },
           "bgcolor": "#E5ECF6",
           "caxis": {
            "gridcolor": "white",
            "linecolor": "white",
            "ticks": ""
           }
          },
          "title": {
           "x": 0.05
          },
          "xaxis": {
           "automargin": true,
           "gridcolor": "white",
           "linecolor": "white",
           "ticks": "",
           "title": {
            "standoff": 15
           },
           "zerolinecolor": "white",
           "zerolinewidth": 2
          },
          "yaxis": {
           "automargin": true,
           "gridcolor": "white",
           "linecolor": "white",
           "ticks": "",
           "title": {
            "standoff": 15
           },
           "zerolinecolor": "white",
           "zerolinewidth": 2
          }
         }
        },
        "title": {
         "text": "Optimization History Plot"
        },
        "xaxis": {
         "title": {
          "text": "#Trials"
         }
        },
        "yaxis": {
         "title": {
          "text": "Objective Value"
         }
        }
       }
      }
     },
     "metadata": {},
     "output_type": "display_data"
    }
   ],
   "source": [
    "optuna.visualization.plot_optimization_history(study_2)"
   ]
  },
  {
   "cell_type": "code",
   "execution_count": 9,
   "metadata": {},
   "outputs": [
    {
     "data": {
      "application/vnd.plotly.v1+json": {
       "config": {
        "plotlyServerURL": "https://plot.ly"
       },
       "data": [
        {
         "marker": {
          "color": [
           0,
           1,
           2,
           3,
           4,
           5,
           6,
           7,
           8,
           9,
           10,
           11,
           12,
           13,
           14,
           15,
           16,
           17,
           18,
           19,
           20,
           21,
           22,
           23,
           24,
           25,
           26,
           27,
           28,
           29,
           30,
           31
          ],
          "colorbar": {
           "title": {
            "text": "#Trials"
           },
           "x": 1,
           "xpad": 40
          },
          "colorscale": [
           [
            0,
            "rgb(247,251,255)"
           ],
           [
            0.125,
            "rgb(222,235,247)"
           ],
           [
            0.25,
            "rgb(198,219,239)"
           ],
           [
            0.375,
            "rgb(158,202,225)"
           ],
           [
            0.5,
            "rgb(107,174,214)"
           ],
           [
            0.625,
            "rgb(66,146,198)"
           ],
           [
            0.75,
            "rgb(33,113,181)"
           ],
           [
            0.875,
            "rgb(8,81,156)"
           ],
           [
            1,
            "rgb(8,48,107)"
           ]
          ],
          "line": {
           "color": "Grey",
           "width": 0.5
          },
          "showscale": true
         },
         "mode": "markers",
         "showlegend": false,
         "type": "scatter",
         "x": [
          0.44519528481328524,
          0.6852483228210666,
          0.2674847983743691,
          0.6084992601216576,
          0.34066523569840884,
          0.03508025987144762,
          0.34379196846200294,
          0.6911843790599667,
          0.2753781184736413,
          0.47465292063376036,
          0.01316383613075282,
          0.022046201526297243,
          0.01951852407708382,
          0.12681777933896174,
          0.12967870964222739,
          0.15379694507109726,
          0.13901983217045266,
          0.18664302220651185,
          0.10670256525220301,
          0.25517394934518467,
          0.06838482666178361,
          0.09649951610190696,
          0.08728752024805701,
          0.07932588941052122,
          0.20804359903889136,
          0.08596498390275462,
          0.06228081479140194,
          0.2018127443157223,
          0.050645586197333115,
          0.4815556863074403,
          0.4088263316634886,
          0.06259004439137035
         ],
         "xaxis": "x",
         "y": [
          0.5801332810662485,
          0.5829086632693061,
          0.5929674637397099,
          0.5708349666797334,
          0.5929596236769894,
          0.6026577812622501,
          0.5431438651509212,
          0.5745433163465308,
          0.5873304586436692,
          0.561983535868287,
          0.5980713445707566,
          0.6006585652685221,
          0.5958290866326931,
          0.599874558996472,
          0.6049470795766366,
          0.6041160329282634,
          0.6006507252058016,
          0.6020854566836534,
          0.608890631125049,
          0.5936730693845551,
          0.6138063504508036,
          0.6103802430419444,
          0.611344570756566,
          0.6237475499803998,
          0.5674480595844766,
          0.6297216777734221,
          0.6284202273618189,
          0.6087573500588005,
          0.6263190905527244,
          0.5744884359074872,
          0.5290395923167386,
          0.6301293610348883
         ],
         "yaxis": "y"
        },
        {
         "marker": {
          "color": [
           0,
           1,
           2,
           3,
           4,
           5,
           6,
           7,
           8,
           9,
           10,
           11,
           12,
           13,
           14,
           15,
           16,
           17,
           18,
           19,
           20,
           21,
           22,
           23,
           24,
           25,
           26,
           27,
           28,
           29,
           30,
           31
          ],
          "colorbar": {
           "title": {
            "text": "#Trials"
           },
           "x": 1,
           "xpad": 40
          },
          "colorscale": [
           [
            0,
            "rgb(247,251,255)"
           ],
           [
            0.125,
            "rgb(222,235,247)"
           ],
           [
            0.25,
            "rgb(198,219,239)"
           ],
           [
            0.375,
            "rgb(158,202,225)"
           ],
           [
            0.5,
            "rgb(107,174,214)"
           ],
           [
            0.625,
            "rgb(66,146,198)"
           ],
           [
            0.75,
            "rgb(33,113,181)"
           ],
           [
            0.875,
            "rgb(8,81,156)"
           ],
           [
            1,
            "rgb(8,48,107)"
           ]
          ],
          "line": {
           "color": "Grey",
           "width": 0.5
          },
          "showscale": false
         },
         "mode": "markers",
         "showlegend": false,
         "type": "scatter",
         "x": [
          "exponential",
          "deviance",
          "exponential",
          "deviance",
          "deviance",
          "deviance",
          "deviance",
          "exponential",
          "exponential",
          "deviance",
          "deviance",
          "deviance",
          "deviance",
          "deviance",
          "deviance",
          "deviance",
          "deviance",
          "deviance",
          "deviance",
          "deviance",
          "deviance",
          "deviance",
          "deviance",
          "deviance",
          "deviance",
          "deviance",
          "deviance",
          "exponential",
          "deviance",
          "exponential",
          "deviance",
          "deviance"
         ],
         "xaxis": "x2",
         "y": [
          0.5801332810662485,
          0.5829086632693061,
          0.5929674637397099,
          0.5708349666797334,
          0.5929596236769894,
          0.6026577812622501,
          0.5431438651509212,
          0.5745433163465308,
          0.5873304586436692,
          0.561983535868287,
          0.5980713445707566,
          0.6006585652685221,
          0.5958290866326931,
          0.599874558996472,
          0.6049470795766366,
          0.6041160329282634,
          0.6006507252058016,
          0.6020854566836534,
          0.608890631125049,
          0.5936730693845551,
          0.6138063504508036,
          0.6103802430419444,
          0.611344570756566,
          0.6237475499803998,
          0.5674480595844766,
          0.6297216777734221,
          0.6284202273618189,
          0.6087573500588005,
          0.6263190905527244,
          0.5744884359074872,
          0.5290395923167386,
          0.6301293610348883
         ],
         "yaxis": "y2"
        },
        {
         "marker": {
          "color": [
           0,
           1,
           2,
           3,
           4,
           5,
           6,
           7,
           8,
           9,
           10,
           11,
           12,
           13,
           14,
           15,
           16,
           17,
           18,
           19,
           20,
           21,
           22,
           23,
           24,
           25,
           26,
           27,
           28,
           29,
           30,
           31
          ],
          "colorbar": {
           "title": {
            "text": "#Trials"
           },
           "x": 1,
           "xpad": 40
          },
          "colorscale": [
           [
            0,
            "rgb(247,251,255)"
           ],
           [
            0.125,
            "rgb(222,235,247)"
           ],
           [
            0.25,
            "rgb(198,219,239)"
           ],
           [
            0.375,
            "rgb(158,202,225)"
           ],
           [
            0.5,
            "rgb(107,174,214)"
           ],
           [
            0.625,
            "rgb(66,146,198)"
           ],
           [
            0.75,
            "rgb(33,113,181)"
           ],
           [
            0.875,
            "rgb(8,81,156)"
           ],
           [
            1,
            "rgb(8,48,107)"
           ]
          ],
          "line": {
           "color": "Grey",
           "width": 0.5
          },
          "showscale": false
         },
         "mode": "markers",
         "showlegend": false,
         "type": "scatter",
         "x": [
          48,
          31,
          21,
          33,
          51,
          51,
          43,
          60,
          48,
          57,
          63,
          64,
          63,
          54,
          39,
          36,
          33,
          25,
          40,
          41,
          26,
          27,
          26,
          17,
          16,
          16,
          16,
          16,
          20,
          21,
          22,
          16
         ],
         "xaxis": "x3",
         "y": [
          0.5801332810662485,
          0.5829086632693061,
          0.5929674637397099,
          0.5708349666797334,
          0.5929596236769894,
          0.6026577812622501,
          0.5431438651509212,
          0.5745433163465308,
          0.5873304586436692,
          0.561983535868287,
          0.5980713445707566,
          0.6006585652685221,
          0.5958290866326931,
          0.599874558996472,
          0.6049470795766366,
          0.6041160329282634,
          0.6006507252058016,
          0.6020854566836534,
          0.608890631125049,
          0.5936730693845551,
          0.6138063504508036,
          0.6103802430419444,
          0.611344570756566,
          0.6237475499803998,
          0.5674480595844766,
          0.6297216777734221,
          0.6284202273618189,
          0.6087573500588005,
          0.6263190905527244,
          0.5744884359074872,
          0.5290395923167386,
          0.6301293610348883
         ],
         "yaxis": "y3"
        },
        {
         "marker": {
          "color": [
           0,
           1,
           2,
           3,
           4,
           5,
           6,
           7,
           8,
           9,
           10,
           11,
           12,
           13,
           14,
           15,
           16,
           17,
           18,
           19,
           20,
           21,
           22,
           23,
           24,
           25,
           26,
           27,
           28,
           29,
           30,
           31
          ],
          "colorbar": {
           "title": {
            "text": "#Trials"
           },
           "x": 1,
           "xpad": 40
          },
          "colorscale": [
           [
            0,
            "rgb(247,251,255)"
           ],
           [
            0.125,
            "rgb(222,235,247)"
           ],
           [
            0.25,
            "rgb(198,219,239)"
           ],
           [
            0.375,
            "rgb(158,202,225)"
           ],
           [
            0.5,
            "rgb(107,174,214)"
           ],
           [
            0.625,
            "rgb(66,146,198)"
           ],
           [
            0.75,
            "rgb(33,113,181)"
           ],
           [
            0.875,
            "rgb(8,81,156)"
           ],
           [
            1,
            "rgb(8,48,107)"
           ]
          ],
          "line": {
           "color": "Grey",
           "width": 0.5
          },
          "showscale": false
         },
         "mode": "markers",
         "showlegend": false,
         "type": "scatter",
         "x": [
          2,
          2,
          8,
          6,
          7,
          3,
          7,
          7,
          6,
          4,
          4,
          4,
          3,
          4,
          3,
          3,
          3,
          2,
          5,
          5,
          5,
          5,
          5,
          6,
          6,
          6,
          6,
          8,
          6,
          7,
          6,
          6
         ],
         "xaxis": "x4",
         "y": [
          0.5801332810662485,
          0.5829086632693061,
          0.5929674637397099,
          0.5708349666797334,
          0.5929596236769894,
          0.6026577812622501,
          0.5431438651509212,
          0.5745433163465308,
          0.5873304586436692,
          0.561983535868287,
          0.5980713445707566,
          0.6006585652685221,
          0.5958290866326931,
          0.599874558996472,
          0.6049470795766366,
          0.6041160329282634,
          0.6006507252058016,
          0.6020854566836534,
          0.608890631125049,
          0.5936730693845551,
          0.6138063504508036,
          0.6103802430419444,
          0.611344570756566,
          0.6237475499803998,
          0.5674480595844766,
          0.6297216777734221,
          0.6284202273618189,
          0.6087573500588005,
          0.6263190905527244,
          0.5744884359074872,
          0.5290395923167386,
          0.6301293610348883
         ],
         "yaxis": "y4"
        },
        {
         "marker": {
          "color": [
           0,
           1,
           2,
           3,
           4,
           5,
           6,
           7,
           8,
           9,
           10,
           11,
           12,
           13,
           14,
           15,
           16,
           17,
           18,
           19,
           20,
           21,
           22,
           23,
           24,
           25,
           26,
           27,
           28,
           29,
           30,
           31
          ],
          "colorbar": {
           "title": {
            "text": "#Trials"
           },
           "x": 1,
           "xpad": 40
          },
          "colorscale": [
           [
            0,
            "rgb(247,251,255)"
           ],
           [
            0.125,
            "rgb(222,235,247)"
           ],
           [
            0.25,
            "rgb(198,219,239)"
           ],
           [
            0.375,
            "rgb(158,202,225)"
           ],
           [
            0.5,
            "rgb(107,174,214)"
           ],
           [
            0.625,
            "rgb(66,146,198)"
           ],
           [
            0.75,
            "rgb(33,113,181)"
           ],
           [
            0.875,
            "rgb(8,81,156)"
           ],
           [
            1,
            "rgb(8,48,107)"
           ]
          ],
          "line": {
           "color": "Grey",
           "width": 0.5
          },
          "showscale": false
         },
         "mode": "markers",
         "showlegend": false,
         "type": "scatter",
         "x": [
          24,
          13,
          32,
          16,
          27,
          12,
          32,
          31,
          15,
          14,
          8,
          8,
          8,
          10,
          19,
          20,
          20,
          19,
          22,
          24,
          23,
          23,
          24,
          28,
          27,
          28,
          28,
          29,
          29,
          30,
          26,
          28
         ],
         "xaxis": "x5",
         "y": [
          0.5801332810662485,
          0.5829086632693061,
          0.5929674637397099,
          0.5708349666797334,
          0.5929596236769894,
          0.6026577812622501,
          0.5431438651509212,
          0.5745433163465308,
          0.5873304586436692,
          0.561983535868287,
          0.5980713445707566,
          0.6006585652685221,
          0.5958290866326931,
          0.599874558996472,
          0.6049470795766366,
          0.6041160329282634,
          0.6006507252058016,
          0.6020854566836534,
          0.608890631125049,
          0.5936730693845551,
          0.6138063504508036,
          0.6103802430419444,
          0.611344570756566,
          0.6237475499803998,
          0.5674480595844766,
          0.6297216777734221,
          0.6284202273618189,
          0.6087573500588005,
          0.6263190905527244,
          0.5744884359074872,
          0.5290395923167386,
          0.6301293610348883
         ],
         "yaxis": "y5"
        },
        {
         "marker": {
          "color": [
           0,
           1,
           2,
           3,
           4,
           5,
           6,
           7,
           8,
           9,
           10,
           11,
           12,
           13,
           14,
           15,
           16,
           17,
           18,
           19,
           20,
           21,
           22,
           23,
           24,
           25,
           26,
           27,
           28,
           29,
           30,
           31
          ],
          "colorbar": {
           "title": {
            "text": "#Trials"
           },
           "x": 1,
           "xpad": 40
          },
          "colorscale": [
           [
            0,
            "rgb(247,251,255)"
           ],
           [
            0.125,
            "rgb(222,235,247)"
           ],
           [
            0.25,
            "rgb(198,219,239)"
           ],
           [
            0.375,
            "rgb(158,202,225)"
           ],
           [
            0.5,
            "rgb(107,174,214)"
           ],
           [
            0.625,
            "rgb(66,146,198)"
           ],
           [
            0.75,
            "rgb(33,113,181)"
           ],
           [
            0.875,
            "rgb(8,81,156)"
           ],
           [
            1,
            "rgb(8,48,107)"
           ]
          ],
          "line": {
           "color": "Grey",
           "width": 0.5
          },
          "showscale": false
         },
         "mode": "markers",
         "showlegend": false,
         "type": "scatter",
         "x": [
          0.23771973606148233,
          0.6749218534197728,
          0.15902631670582318,
          0.42799899445475914,
          0.5277830879530203,
          0.6565612605360166,
          0.09234425376365585,
          0.5176126193776753,
          0.11649092564448998,
          0.2444855767196958,
          0.6661412213292512,
          0.6909831505879832,
          0.680766154110132,
          0.5695886318316041,
          0.3917498021073445,
          0.3898953433564848,
          0.34777024806644213,
          0.3719721155989819,
          0.42396967159885013,
          0.4643020668018045,
          0.30377939745101523,
          0.292956290187775,
          0.26871392830157187,
          0.30197312427287565,
          0.02745577255055387,
          0.2891701982469094,
          0.18914638329141092,
          0.19024152360354002,
          0.19891665528270594,
          0.20055934354730437,
          0.025385407194004728,
          0.22126621383926443
         ],
         "xaxis": "x6",
         "y": [
          0.5801332810662485,
          0.5829086632693061,
          0.5929674637397099,
          0.5708349666797334,
          0.5929596236769894,
          0.6026577812622501,
          0.5431438651509212,
          0.5745433163465308,
          0.5873304586436692,
          0.561983535868287,
          0.5980713445707566,
          0.6006585652685221,
          0.5958290866326931,
          0.599874558996472,
          0.6049470795766366,
          0.6041160329282634,
          0.6006507252058016,
          0.6020854566836534,
          0.608890631125049,
          0.5936730693845551,
          0.6138063504508036,
          0.6103802430419444,
          0.611344570756566,
          0.6237475499803998,
          0.5674480595844766,
          0.6297216777734221,
          0.6284202273618189,
          0.6087573500588005,
          0.6263190905527244,
          0.5744884359074872,
          0.5290395923167386,
          0.6301293610348883
         ],
         "yaxis": "y6"
        }
       ],
       "layout": {
        "template": {
         "data": {
          "bar": [
           {
            "error_x": {
             "color": "#2a3f5f"
            },
            "error_y": {
             "color": "#2a3f5f"
            },
            "marker": {
             "line": {
              "color": "#E5ECF6",
              "width": 0.5
             },
             "pattern": {
              "fillmode": "overlay",
              "size": 10,
              "solidity": 0.2
             }
            },
            "type": "bar"
           }
          ],
          "barpolar": [
           {
            "marker": {
             "line": {
              "color": "#E5ECF6",
              "width": 0.5
             },
             "pattern": {
              "fillmode": "overlay",
              "size": 10,
              "solidity": 0.2
             }
            },
            "type": "barpolar"
           }
          ],
          "carpet": [
           {
            "aaxis": {
             "endlinecolor": "#2a3f5f",
             "gridcolor": "white",
             "linecolor": "white",
             "minorgridcolor": "white",
             "startlinecolor": "#2a3f5f"
            },
            "baxis": {
             "endlinecolor": "#2a3f5f",
             "gridcolor": "white",
             "linecolor": "white",
             "minorgridcolor": "white",
             "startlinecolor": "#2a3f5f"
            },
            "type": "carpet"
           }
          ],
          "choropleth": [
           {
            "colorbar": {
             "outlinewidth": 0,
             "ticks": ""
            },
            "type": "choropleth"
           }
          ],
          "contour": [
           {
            "colorbar": {
             "outlinewidth": 0,
             "ticks": ""
            },
            "colorscale": [
             [
              0,
              "#0d0887"
             ],
             [
              0.1111111111111111,
              "#46039f"
             ],
             [
              0.2222222222222222,
              "#7201a8"
             ],
             [
              0.3333333333333333,
              "#9c179e"
             ],
             [
              0.4444444444444444,
              "#bd3786"
             ],
             [
              0.5555555555555556,
              "#d8576b"
             ],
             [
              0.6666666666666666,
              "#ed7953"
             ],
             [
              0.7777777777777778,
              "#fb9f3a"
             ],
             [
              0.8888888888888888,
              "#fdca26"
             ],
             [
              1,
              "#f0f921"
             ]
            ],
            "type": "contour"
           }
          ],
          "contourcarpet": [
           {
            "colorbar": {
             "outlinewidth": 0,
             "ticks": ""
            },
            "type": "contourcarpet"
           }
          ],
          "heatmap": [
           {
            "colorbar": {
             "outlinewidth": 0,
             "ticks": ""
            },
            "colorscale": [
             [
              0,
              "#0d0887"
             ],
             [
              0.1111111111111111,
              "#46039f"
             ],
             [
              0.2222222222222222,
              "#7201a8"
             ],
             [
              0.3333333333333333,
              "#9c179e"
             ],
             [
              0.4444444444444444,
              "#bd3786"
             ],
             [
              0.5555555555555556,
              "#d8576b"
             ],
             [
              0.6666666666666666,
              "#ed7953"
             ],
             [
              0.7777777777777778,
              "#fb9f3a"
             ],
             [
              0.8888888888888888,
              "#fdca26"
             ],
             [
              1,
              "#f0f921"
             ]
            ],
            "type": "heatmap"
           }
          ],
          "heatmapgl": [
           {
            "colorbar": {
             "outlinewidth": 0,
             "ticks": ""
            },
            "colorscale": [
             [
              0,
              "#0d0887"
             ],
             [
              0.1111111111111111,
              "#46039f"
             ],
             [
              0.2222222222222222,
              "#7201a8"
             ],
             [
              0.3333333333333333,
              "#9c179e"
             ],
             [
              0.4444444444444444,
              "#bd3786"
             ],
             [
              0.5555555555555556,
              "#d8576b"
             ],
             [
              0.6666666666666666,
              "#ed7953"
             ],
             [
              0.7777777777777778,
              "#fb9f3a"
             ],
             [
              0.8888888888888888,
              "#fdca26"
             ],
             [
              1,
              "#f0f921"
             ]
            ],
            "type": "heatmapgl"
           }
          ],
          "histogram": [
           {
            "marker": {
             "pattern": {
              "fillmode": "overlay",
              "size": 10,
              "solidity": 0.2
             }
            },
            "type": "histogram"
           }
          ],
          "histogram2d": [
           {
            "colorbar": {
             "outlinewidth": 0,
             "ticks": ""
            },
            "colorscale": [
             [
              0,
              "#0d0887"
             ],
             [
              0.1111111111111111,
              "#46039f"
             ],
             [
              0.2222222222222222,
              "#7201a8"
             ],
             [
              0.3333333333333333,
              "#9c179e"
             ],
             [
              0.4444444444444444,
              "#bd3786"
             ],
             [
              0.5555555555555556,
              "#d8576b"
             ],
             [
              0.6666666666666666,
              "#ed7953"
             ],
             [
              0.7777777777777778,
              "#fb9f3a"
             ],
             [
              0.8888888888888888,
              "#fdca26"
             ],
             [
              1,
              "#f0f921"
             ]
            ],
            "type": "histogram2d"
           }
          ],
          "histogram2dcontour": [
           {
            "colorbar": {
             "outlinewidth": 0,
             "ticks": ""
            },
            "colorscale": [
             [
              0,
              "#0d0887"
             ],
             [
              0.1111111111111111,
              "#46039f"
             ],
             [
              0.2222222222222222,
              "#7201a8"
             ],
             [
              0.3333333333333333,
              "#9c179e"
             ],
             [
              0.4444444444444444,
              "#bd3786"
             ],
             [
              0.5555555555555556,
              "#d8576b"
             ],
             [
              0.6666666666666666,
              "#ed7953"
             ],
             [
              0.7777777777777778,
              "#fb9f3a"
             ],
             [
              0.8888888888888888,
              "#fdca26"
             ],
             [
              1,
              "#f0f921"
             ]
            ],
            "type": "histogram2dcontour"
           }
          ],
          "mesh3d": [
           {
            "colorbar": {
             "outlinewidth": 0,
             "ticks": ""
            },
            "type": "mesh3d"
           }
          ],
          "parcoords": [
           {
            "line": {
             "colorbar": {
              "outlinewidth": 0,
              "ticks": ""
             }
            },
            "type": "parcoords"
           }
          ],
          "pie": [
           {
            "automargin": true,
            "type": "pie"
           }
          ],
          "scatter": [
           {
            "marker": {
             "colorbar": {
              "outlinewidth": 0,
              "ticks": ""
             }
            },
            "type": "scatter"
           }
          ],
          "scatter3d": [
           {
            "line": {
             "colorbar": {
              "outlinewidth": 0,
              "ticks": ""
             }
            },
            "marker": {
             "colorbar": {
              "outlinewidth": 0,
              "ticks": ""
             }
            },
            "type": "scatter3d"
           }
          ],
          "scattercarpet": [
           {
            "marker": {
             "colorbar": {
              "outlinewidth": 0,
              "ticks": ""
             }
            },
            "type": "scattercarpet"
           }
          ],
          "scattergeo": [
           {
            "marker": {
             "colorbar": {
              "outlinewidth": 0,
              "ticks": ""
             }
            },
            "type": "scattergeo"
           }
          ],
          "scattergl": [
           {
            "marker": {
             "colorbar": {
              "outlinewidth": 0,
              "ticks": ""
             }
            },
            "type": "scattergl"
           }
          ],
          "scattermapbox": [
           {
            "marker": {
             "colorbar": {
              "outlinewidth": 0,
              "ticks": ""
             }
            },
            "type": "scattermapbox"
           }
          ],
          "scatterpolar": [
           {
            "marker": {
             "colorbar": {
              "outlinewidth": 0,
              "ticks": ""
             }
            },
            "type": "scatterpolar"
           }
          ],
          "scatterpolargl": [
           {
            "marker": {
             "colorbar": {
              "outlinewidth": 0,
              "ticks": ""
             }
            },
            "type": "scatterpolargl"
           }
          ],
          "scatterternary": [
           {
            "marker": {
             "colorbar": {
              "outlinewidth": 0,
              "ticks": ""
             }
            },
            "type": "scatterternary"
           }
          ],
          "surface": [
           {
            "colorbar": {
             "outlinewidth": 0,
             "ticks": ""
            },
            "colorscale": [
             [
              0,
              "#0d0887"
             ],
             [
              0.1111111111111111,
              "#46039f"
             ],
             [
              0.2222222222222222,
              "#7201a8"
             ],
             [
              0.3333333333333333,
              "#9c179e"
             ],
             [
              0.4444444444444444,
              "#bd3786"
             ],
             [
              0.5555555555555556,
              "#d8576b"
             ],
             [
              0.6666666666666666,
              "#ed7953"
             ],
             [
              0.7777777777777778,
              "#fb9f3a"
             ],
             [
              0.8888888888888888,
              "#fdca26"
             ],
             [
              1,
              "#f0f921"
             ]
            ],
            "type": "surface"
           }
          ],
          "table": [
           {
            "cells": {
             "fill": {
              "color": "#EBF0F8"
             },
             "line": {
              "color": "white"
             }
            },
            "header": {
             "fill": {
              "color": "#C8D4E3"
             },
             "line": {
              "color": "white"
             }
            },
            "type": "table"
           }
          ]
         },
         "layout": {
          "annotationdefaults": {
           "arrowcolor": "#2a3f5f",
           "arrowhead": 0,
           "arrowwidth": 1
          },
          "autotypenumbers": "strict",
          "coloraxis": {
           "colorbar": {
            "outlinewidth": 0,
            "ticks": ""
           }
          },
          "colorscale": {
           "diverging": [
            [
             0,
             "#8e0152"
            ],
            [
             0.1,
             "#c51b7d"
            ],
            [
             0.2,
             "#de77ae"
            ],
            [
             0.3,
             "#f1b6da"
            ],
            [
             0.4,
             "#fde0ef"
            ],
            [
             0.5,
             "#f7f7f7"
            ],
            [
             0.6,
             "#e6f5d0"
            ],
            [
             0.7,
             "#b8e186"
            ],
            [
             0.8,
             "#7fbc41"
            ],
            [
             0.9,
             "#4d9221"
            ],
            [
             1,
             "#276419"
            ]
           ],
           "sequential": [
            [
             0,
             "#0d0887"
            ],
            [
             0.1111111111111111,
             "#46039f"
            ],
            [
             0.2222222222222222,
             "#7201a8"
            ],
            [
             0.3333333333333333,
             "#9c179e"
            ],
            [
             0.4444444444444444,
             "#bd3786"
            ],
            [
             0.5555555555555556,
             "#d8576b"
            ],
            [
             0.6666666666666666,
             "#ed7953"
            ],
            [
             0.7777777777777778,
             "#fb9f3a"
            ],
            [
             0.8888888888888888,
             "#fdca26"
            ],
            [
             1,
             "#f0f921"
            ]
           ],
           "sequentialminus": [
            [
             0,
             "#0d0887"
            ],
            [
             0.1111111111111111,
             "#46039f"
            ],
            [
             0.2222222222222222,
             "#7201a8"
            ],
            [
             0.3333333333333333,
             "#9c179e"
            ],
            [
             0.4444444444444444,
             "#bd3786"
            ],
            [
             0.5555555555555556,
             "#d8576b"
            ],
            [
             0.6666666666666666,
             "#ed7953"
            ],
            [
             0.7777777777777778,
             "#fb9f3a"
            ],
            [
             0.8888888888888888,
             "#fdca26"
            ],
            [
             1,
             "#f0f921"
            ]
           ]
          },
          "colorway": [
           "#636efa",
           "#EF553B",
           "#00cc96",
           "#ab63fa",
           "#FFA15A",
           "#19d3f3",
           "#FF6692",
           "#B6E880",
           "#FF97FF",
           "#FECB52"
          ],
          "font": {
           "color": "#2a3f5f"
          },
          "geo": {
           "bgcolor": "white",
           "lakecolor": "white",
           "landcolor": "#E5ECF6",
           "showlakes": true,
           "showland": true,
           "subunitcolor": "white"
          },
          "hoverlabel": {
           "align": "left"
          },
          "hovermode": "closest",
          "mapbox": {
           "style": "light"
          },
          "paper_bgcolor": "white",
          "plot_bgcolor": "#E5ECF6",
          "polar": {
           "angularaxis": {
            "gridcolor": "white",
            "linecolor": "white",
            "ticks": ""
           },
           "bgcolor": "#E5ECF6",
           "radialaxis": {
            "gridcolor": "white",
            "linecolor": "white",
            "ticks": ""
           }
          },
          "scene": {
           "xaxis": {
            "backgroundcolor": "#E5ECF6",
            "gridcolor": "white",
            "gridwidth": 2,
            "linecolor": "white",
            "showbackground": true,
            "ticks": "",
            "zerolinecolor": "white"
           },
           "yaxis": {
            "backgroundcolor": "#E5ECF6",
            "gridcolor": "white",
            "gridwidth": 2,
            "linecolor": "white",
            "showbackground": true,
            "ticks": "",
            "zerolinecolor": "white"
           },
           "zaxis": {
            "backgroundcolor": "#E5ECF6",
            "gridcolor": "white",
            "gridwidth": 2,
            "linecolor": "white",
            "showbackground": true,
            "ticks": "",
            "zerolinecolor": "white"
           }
          },
          "shapedefaults": {
           "line": {
            "color": "#2a3f5f"
           }
          },
          "ternary": {
           "aaxis": {
            "gridcolor": "white",
            "linecolor": "white",
            "ticks": ""
           },
           "baxis": {
            "gridcolor": "white",
            "linecolor": "white",
            "ticks": ""
           },
           "bgcolor": "#E5ECF6",
           "caxis": {
            "gridcolor": "white",
            "linecolor": "white",
            "ticks": ""
           }
          },
          "title": {
           "x": 0.05
          },
          "xaxis": {
           "automargin": true,
           "gridcolor": "white",
           "linecolor": "white",
           "ticks": "",
           "title": {
            "standoff": 15
           },
           "zerolinecolor": "white",
           "zerolinewidth": 2
          },
          "yaxis": {
           "automargin": true,
           "gridcolor": "white",
           "linecolor": "white",
           "ticks": "",
           "title": {
            "standoff": 15
           },
           "zerolinecolor": "white",
           "zerolinewidth": 2
          }
         }
        },
        "title": {
         "text": "Slice Plot"
        },
        "width": 1800,
        "xaxis": {
         "anchor": "y",
         "domain": [
          0,
          0.1388888888888889
         ],
         "title": {
          "text": "learning_rate"
         }
        },
        "xaxis2": {
         "anchor": "y2",
         "domain": [
          0.17222222222222222,
          0.3111111111111111
         ],
         "title": {
          "text": "loss"
         }
        },
        "xaxis3": {
         "anchor": "y3",
         "domain": [
          0.34444444444444444,
          0.48333333333333334
         ],
         "title": {
          "text": "max_depth"
         }
        },
        "xaxis4": {
         "anchor": "y4",
         "domain": [
          0.5166666666666667,
          0.6555555555555557
         ],
         "title": {
          "text": "min_samples_leaf"
         }
        },
        "xaxis5": {
         "anchor": "y5",
         "domain": [
          0.6888888888888889,
          0.8277777777777777
         ],
         "title": {
          "text": "n_estimators"
         }
        },
        "xaxis6": {
         "anchor": "y6",
         "domain": [
          0.861111111111111,
          1
         ],
         "title": {
          "text": "subsample"
         }
        },
        "yaxis": {
         "anchor": "x",
         "domain": [
          0,
          1
         ],
         "title": {
          "text": "Objective Value"
         }
        },
        "yaxis2": {
         "anchor": "x2",
         "domain": [
          0,
          1
         ],
         "matches": "y",
         "showticklabels": false
        },
        "yaxis3": {
         "anchor": "x3",
         "domain": [
          0,
          1
         ],
         "matches": "y",
         "showticklabels": false
        },
        "yaxis4": {
         "anchor": "x4",
         "domain": [
          0,
          1
         ],
         "matches": "y",
         "showticklabels": false
        },
        "yaxis5": {
         "anchor": "x5",
         "domain": [
          0,
          1
         ],
         "matches": "y",
         "showticklabels": false
        },
        "yaxis6": {
         "anchor": "x6",
         "domain": [
          0,
          1
         ],
         "matches": "y",
         "showticklabels": false
        }
       }
      }
     },
     "metadata": {},
     "output_type": "display_data"
    }
   ],
   "source": [
    "optuna.visualization.plot_slice(study_2)"
   ]
  },
  {
   "cell_type": "code",
   "execution_count": 10,
   "metadata": {},
   "outputs": [
    {
     "data": {
      "application/vnd.plotly.v1+json": {
       "config": {
        "plotlyServerURL": "https://plot.ly"
       },
       "data": [
        {
         "cliponaxis": false,
         "hovertemplate": [
          "loss (CategoricalDistribution): 0.005922778667226014<extra></extra>",
          "min_samples_leaf (IntUniformDistribution): 0.013472912835389383<extra></extra>",
          "n_estimators (IntUniformDistribution): 0.022767511592245517<extra></extra>",
          "max_depth (IntUniformDistribution): 0.02789125572311132<extra></extra>",
          "subsample (UniformDistribution): 0.1764757866724595<extra></extra>",
          "learning_rate (UniformDistribution): 0.7534697545095683<extra></extra>"
         ],
         "marker": {
          "color": [
           "rgb(66,146,198)",
           "rgb(8,81,156)",
           "rgb(8,81,156)",
           "rgb(8,81,156)",
           "rgb(8,48,107)",
           "rgb(8,48,107)"
          ]
         },
         "orientation": "h",
         "text": [
          "0.005922778667226014",
          "0.013472912835389383",
          "0.022767511592245517",
          "0.02789125572311132",
          "0.1764757866724595",
          "0.7534697545095683"
         ],
         "textposition": "outside",
         "texttemplate": "%{text:.2f}",
         "type": "bar",
         "x": [
          0.005922778667226014,
          0.013472912835389383,
          0.022767511592245517,
          0.02789125572311132,
          0.1764757866724595,
          0.7534697545095683
         ],
         "y": [
          "loss",
          "min_samples_leaf",
          "n_estimators",
          "max_depth",
          "subsample",
          "learning_rate"
         ]
        }
       ],
       "layout": {
        "showlegend": false,
        "template": {
         "data": {
          "bar": [
           {
            "error_x": {
             "color": "#2a3f5f"
            },
            "error_y": {
             "color": "#2a3f5f"
            },
            "marker": {
             "line": {
              "color": "#E5ECF6",
              "width": 0.5
             },
             "pattern": {
              "fillmode": "overlay",
              "size": 10,
              "solidity": 0.2
             }
            },
            "type": "bar"
           }
          ],
          "barpolar": [
           {
            "marker": {
             "line": {
              "color": "#E5ECF6",
              "width": 0.5
             },
             "pattern": {
              "fillmode": "overlay",
              "size": 10,
              "solidity": 0.2
             }
            },
            "type": "barpolar"
           }
          ],
          "carpet": [
           {
            "aaxis": {
             "endlinecolor": "#2a3f5f",
             "gridcolor": "white",
             "linecolor": "white",
             "minorgridcolor": "white",
             "startlinecolor": "#2a3f5f"
            },
            "baxis": {
             "endlinecolor": "#2a3f5f",
             "gridcolor": "white",
             "linecolor": "white",
             "minorgridcolor": "white",
             "startlinecolor": "#2a3f5f"
            },
            "type": "carpet"
           }
          ],
          "choropleth": [
           {
            "colorbar": {
             "outlinewidth": 0,
             "ticks": ""
            },
            "type": "choropleth"
           }
          ],
          "contour": [
           {
            "colorbar": {
             "outlinewidth": 0,
             "ticks": ""
            },
            "colorscale": [
             [
              0,
              "#0d0887"
             ],
             [
              0.1111111111111111,
              "#46039f"
             ],
             [
              0.2222222222222222,
              "#7201a8"
             ],
             [
              0.3333333333333333,
              "#9c179e"
             ],
             [
              0.4444444444444444,
              "#bd3786"
             ],
             [
              0.5555555555555556,
              "#d8576b"
             ],
             [
              0.6666666666666666,
              "#ed7953"
             ],
             [
              0.7777777777777778,
              "#fb9f3a"
             ],
             [
              0.8888888888888888,
              "#fdca26"
             ],
             [
              1,
              "#f0f921"
             ]
            ],
            "type": "contour"
           }
          ],
          "contourcarpet": [
           {
            "colorbar": {
             "outlinewidth": 0,
             "ticks": ""
            },
            "type": "contourcarpet"
           }
          ],
          "heatmap": [
           {
            "colorbar": {
             "outlinewidth": 0,
             "ticks": ""
            },
            "colorscale": [
             [
              0,
              "#0d0887"
             ],
             [
              0.1111111111111111,
              "#46039f"
             ],
             [
              0.2222222222222222,
              "#7201a8"
             ],
             [
              0.3333333333333333,
              "#9c179e"
             ],
             [
              0.4444444444444444,
              "#bd3786"
             ],
             [
              0.5555555555555556,
              "#d8576b"
             ],
             [
              0.6666666666666666,
              "#ed7953"
             ],
             [
              0.7777777777777778,
              "#fb9f3a"
             ],
             [
              0.8888888888888888,
              "#fdca26"
             ],
             [
              1,
              "#f0f921"
             ]
            ],
            "type": "heatmap"
           }
          ],
          "heatmapgl": [
           {
            "colorbar": {
             "outlinewidth": 0,
             "ticks": ""
            },
            "colorscale": [
             [
              0,
              "#0d0887"
             ],
             [
              0.1111111111111111,
              "#46039f"
             ],
             [
              0.2222222222222222,
              "#7201a8"
             ],
             [
              0.3333333333333333,
              "#9c179e"
             ],
             [
              0.4444444444444444,
              "#bd3786"
             ],
             [
              0.5555555555555556,
              "#d8576b"
             ],
             [
              0.6666666666666666,
              "#ed7953"
             ],
             [
              0.7777777777777778,
              "#fb9f3a"
             ],
             [
              0.8888888888888888,
              "#fdca26"
             ],
             [
              1,
              "#f0f921"
             ]
            ],
            "type": "heatmapgl"
           }
          ],
          "histogram": [
           {
            "marker": {
             "pattern": {
              "fillmode": "overlay",
              "size": 10,
              "solidity": 0.2
             }
            },
            "type": "histogram"
           }
          ],
          "histogram2d": [
           {
            "colorbar": {
             "outlinewidth": 0,
             "ticks": ""
            },
            "colorscale": [
             [
              0,
              "#0d0887"
             ],
             [
              0.1111111111111111,
              "#46039f"
             ],
             [
              0.2222222222222222,
              "#7201a8"
             ],
             [
              0.3333333333333333,
              "#9c179e"
             ],
             [
              0.4444444444444444,
              "#bd3786"
             ],
             [
              0.5555555555555556,
              "#d8576b"
             ],
             [
              0.6666666666666666,
              "#ed7953"
             ],
             [
              0.7777777777777778,
              "#fb9f3a"
             ],
             [
              0.8888888888888888,
              "#fdca26"
             ],
             [
              1,
              "#f0f921"
             ]
            ],
            "type": "histogram2d"
           }
          ],
          "histogram2dcontour": [
           {
            "colorbar": {
             "outlinewidth": 0,
             "ticks": ""
            },
            "colorscale": [
             [
              0,
              "#0d0887"
             ],
             [
              0.1111111111111111,
              "#46039f"
             ],
             [
              0.2222222222222222,
              "#7201a8"
             ],
             [
              0.3333333333333333,
              "#9c179e"
             ],
             [
              0.4444444444444444,
              "#bd3786"
             ],
             [
              0.5555555555555556,
              "#d8576b"
             ],
             [
              0.6666666666666666,
              "#ed7953"
             ],
             [
              0.7777777777777778,
              "#fb9f3a"
             ],
             [
              0.8888888888888888,
              "#fdca26"
             ],
             [
              1,
              "#f0f921"
             ]
            ],
            "type": "histogram2dcontour"
           }
          ],
          "mesh3d": [
           {
            "colorbar": {
             "outlinewidth": 0,
             "ticks": ""
            },
            "type": "mesh3d"
           }
          ],
          "parcoords": [
           {
            "line": {
             "colorbar": {
              "outlinewidth": 0,
              "ticks": ""
             }
            },
            "type": "parcoords"
           }
          ],
          "pie": [
           {
            "automargin": true,
            "type": "pie"
           }
          ],
          "scatter": [
           {
            "marker": {
             "colorbar": {
              "outlinewidth": 0,
              "ticks": ""
             }
            },
            "type": "scatter"
           }
          ],
          "scatter3d": [
           {
            "line": {
             "colorbar": {
              "outlinewidth": 0,
              "ticks": ""
             }
            },
            "marker": {
             "colorbar": {
              "outlinewidth": 0,
              "ticks": ""
             }
            },
            "type": "scatter3d"
           }
          ],
          "scattercarpet": [
           {
            "marker": {
             "colorbar": {
              "outlinewidth": 0,
              "ticks": ""
             }
            },
            "type": "scattercarpet"
           }
          ],
          "scattergeo": [
           {
            "marker": {
             "colorbar": {
              "outlinewidth": 0,
              "ticks": ""
             }
            },
            "type": "scattergeo"
           }
          ],
          "scattergl": [
           {
            "marker": {
             "colorbar": {
              "outlinewidth": 0,
              "ticks": ""
             }
            },
            "type": "scattergl"
           }
          ],
          "scattermapbox": [
           {
            "marker": {
             "colorbar": {
              "outlinewidth": 0,
              "ticks": ""
             }
            },
            "type": "scattermapbox"
           }
          ],
          "scatterpolar": [
           {
            "marker": {
             "colorbar": {
              "outlinewidth": 0,
              "ticks": ""
             }
            },
            "type": "scatterpolar"
           }
          ],
          "scatterpolargl": [
           {
            "marker": {
             "colorbar": {
              "outlinewidth": 0,
              "ticks": ""
             }
            },
            "type": "scatterpolargl"
           }
          ],
          "scatterternary": [
           {
            "marker": {
             "colorbar": {
              "outlinewidth": 0,
              "ticks": ""
             }
            },
            "type": "scatterternary"
           }
          ],
          "surface": [
           {
            "colorbar": {
             "outlinewidth": 0,
             "ticks": ""
            },
            "colorscale": [
             [
              0,
              "#0d0887"
             ],
             [
              0.1111111111111111,
              "#46039f"
             ],
             [
              0.2222222222222222,
              "#7201a8"
             ],
             [
              0.3333333333333333,
              "#9c179e"
             ],
             [
              0.4444444444444444,
              "#bd3786"
             ],
             [
              0.5555555555555556,
              "#d8576b"
             ],
             [
              0.6666666666666666,
              "#ed7953"
             ],
             [
              0.7777777777777778,
              "#fb9f3a"
             ],
             [
              0.8888888888888888,
              "#fdca26"
             ],
             [
              1,
              "#f0f921"
             ]
            ],
            "type": "surface"
           }
          ],
          "table": [
           {
            "cells": {
             "fill": {
              "color": "#EBF0F8"
             },
             "line": {
              "color": "white"
             }
            },
            "header": {
             "fill": {
              "color": "#C8D4E3"
             },
             "line": {
              "color": "white"
             }
            },
            "type": "table"
           }
          ]
         },
         "layout": {
          "annotationdefaults": {
           "arrowcolor": "#2a3f5f",
           "arrowhead": 0,
           "arrowwidth": 1
          },
          "autotypenumbers": "strict",
          "coloraxis": {
           "colorbar": {
            "outlinewidth": 0,
            "ticks": ""
           }
          },
          "colorscale": {
           "diverging": [
            [
             0,
             "#8e0152"
            ],
            [
             0.1,
             "#c51b7d"
            ],
            [
             0.2,
             "#de77ae"
            ],
            [
             0.3,
             "#f1b6da"
            ],
            [
             0.4,
             "#fde0ef"
            ],
            [
             0.5,
             "#f7f7f7"
            ],
            [
             0.6,
             "#e6f5d0"
            ],
            [
             0.7,
             "#b8e186"
            ],
            [
             0.8,
             "#7fbc41"
            ],
            [
             0.9,
             "#4d9221"
            ],
            [
             1,
             "#276419"
            ]
           ],
           "sequential": [
            [
             0,
             "#0d0887"
            ],
            [
             0.1111111111111111,
             "#46039f"
            ],
            [
             0.2222222222222222,
             "#7201a8"
            ],
            [
             0.3333333333333333,
             "#9c179e"
            ],
            [
             0.4444444444444444,
             "#bd3786"
            ],
            [
             0.5555555555555556,
             "#d8576b"
            ],
            [
             0.6666666666666666,
             "#ed7953"
            ],
            [
             0.7777777777777778,
             "#fb9f3a"
            ],
            [
             0.8888888888888888,
             "#fdca26"
            ],
            [
             1,
             "#f0f921"
            ]
           ],
           "sequentialminus": [
            [
             0,
             "#0d0887"
            ],
            [
             0.1111111111111111,
             "#46039f"
            ],
            [
             0.2222222222222222,
             "#7201a8"
            ],
            [
             0.3333333333333333,
             "#9c179e"
            ],
            [
             0.4444444444444444,
             "#bd3786"
            ],
            [
             0.5555555555555556,
             "#d8576b"
            ],
            [
             0.6666666666666666,
             "#ed7953"
            ],
            [
             0.7777777777777778,
             "#fb9f3a"
            ],
            [
             0.8888888888888888,
             "#fdca26"
            ],
            [
             1,
             "#f0f921"
            ]
           ]
          },
          "colorway": [
           "#636efa",
           "#EF553B",
           "#00cc96",
           "#ab63fa",
           "#FFA15A",
           "#19d3f3",
           "#FF6692",
           "#B6E880",
           "#FF97FF",
           "#FECB52"
          ],
          "font": {
           "color": "#2a3f5f"
          },
          "geo": {
           "bgcolor": "white",
           "lakecolor": "white",
           "landcolor": "#E5ECF6",
           "showlakes": true,
           "showland": true,
           "subunitcolor": "white"
          },
          "hoverlabel": {
           "align": "left"
          },
          "hovermode": "closest",
          "mapbox": {
           "style": "light"
          },
          "paper_bgcolor": "white",
          "plot_bgcolor": "#E5ECF6",
          "polar": {
           "angularaxis": {
            "gridcolor": "white",
            "linecolor": "white",
            "ticks": ""
           },
           "bgcolor": "#E5ECF6",
           "radialaxis": {
            "gridcolor": "white",
            "linecolor": "white",
            "ticks": ""
           }
          },
          "scene": {
           "xaxis": {
            "backgroundcolor": "#E5ECF6",
            "gridcolor": "white",
            "gridwidth": 2,
            "linecolor": "white",
            "showbackground": true,
            "ticks": "",
            "zerolinecolor": "white"
           },
           "yaxis": {
            "backgroundcolor": "#E5ECF6",
            "gridcolor": "white",
            "gridwidth": 2,
            "linecolor": "white",
            "showbackground": true,
            "ticks": "",
            "zerolinecolor": "white"
           },
           "zaxis": {
            "backgroundcolor": "#E5ECF6",
            "gridcolor": "white",
            "gridwidth": 2,
            "linecolor": "white",
            "showbackground": true,
            "ticks": "",
            "zerolinecolor": "white"
           }
          },
          "shapedefaults": {
           "line": {
            "color": "#2a3f5f"
           }
          },
          "ternary": {
           "aaxis": {
            "gridcolor": "white",
            "linecolor": "white",
            "ticks": ""
           },
           "baxis": {
            "gridcolor": "white",
            "linecolor": "white",
            "ticks": ""
           },
           "bgcolor": "#E5ECF6",
           "caxis": {
            "gridcolor": "white",
            "linecolor": "white",
            "ticks": ""
           }
          },
          "title": {
           "x": 0.05
          },
          "xaxis": {
           "automargin": true,
           "gridcolor": "white",
           "linecolor": "white",
           "ticks": "",
           "title": {
            "standoff": 15
           },
           "zerolinecolor": "white",
           "zerolinewidth": 2
          },
          "yaxis": {
           "automargin": true,
           "gridcolor": "white",
           "linecolor": "white",
           "ticks": "",
           "title": {
            "standoff": 15
           },
           "zerolinecolor": "white",
           "zerolinewidth": 2
          }
         }
        },
        "title": {
         "text": "Hyperparameter Importances"
        },
        "xaxis": {
         "title": {
          "text": "Importance for Objective Value"
         }
        },
        "yaxis": {
         "title": {
          "text": "Hyperparameter"
         }
        }
       }
      }
     },
     "metadata": {},
     "output_type": "display_data"
    }
   ],
   "source": [
    "optuna.visualization.plot_param_importances(study_2)"
   ]
  },
  {
   "cell_type": "markdown",
   "metadata": {},
   "source": [
    "#### Comentários acerca dos resultados do Gredient Boosting"
   ]
  },
  {
   "cell_type": "markdown",
   "metadata": {},
   "source": [
    "## Regressão Logística"
   ]
  },
  {
   "cell_type": "code",
   "execution_count": null,
   "metadata": {},
   "outputs": [],
   "source": [
    "# Parâmetros default\n",
    "# penalty='l2', \n",
    "# *, \n",
    "# dual=False, \n",
    "# tol=1e-4, \n",
    "# C=1.0,\n",
    "# fit_intercept=True, \n",
    "# intercept_scaling=1, \n",
    "# class_weight=None,\n",
    "# random_state=None, \n",
    "# solver='lbfgs', \n",
    "# max_iter=100,\n",
    "# multi_class='auto', \n",
    "# verbose=0, \n",
    "# warm_start=False, \n",
    "# n_jobs=None,\n",
    "# l1_ratio=None"
   ]
  },
  {
   "cell_type": "markdown",
   "metadata": {},
   "source": [
    "#### Teste de Kolmogorov-Smirnov (KS) e matriz de confusão da Regressão Logística\n",
    "Acima, podemos ver os resultados de ambos. O teste de Kolmogorov-Smirnov assemelha-se, assim como a Random Forest e Gradient Boosting, bastante a uma distribuição normal. Semelhante aos já supracitados, a matriz foi melhor sucedida para identificar resultados falsos, porém, os resultados caíram na identificação de resultados falsos mas foram os melhores até então para identificar resultados verdadeiros."
   ]
  },
  {
   "cell_type": "code",
   "execution_count": 3,
   "metadata": {},
   "outputs": [
    {
     "name": "stderr",
     "output_type": "stream",
     "text": [
      "\u001b[32m[I 2021-12-13 17:28:29,982]\u001b[0m A new study created in memory with name: no-name-ea7c6a75-d17e-45ea-8b7f-6053360cb5ec\u001b[0m\n",
      "\u001b[32m[I 2021-12-13 17:28:45,474]\u001b[0m Trial 0 finished with value: 0.631344570756566 and parameters: {'solver': 'saga', 'C': 0.5849769857357946}. Best is trial 0 with value: 0.631344570756566.\u001b[0m\n",
      "\u001b[32m[I 2021-12-13 17:29:00,180]\u001b[0m Trial 1 finished with value: 0.631485691885535 and parameters: {'solver': 'saga', 'C': 0.2842694673818212}. Best is trial 1 with value: 0.631485691885535.\u001b[0m\n",
      "\u001b[32m[I 2021-12-13 17:29:24,171]\u001b[0m Trial 2 finished with value: 0.6313524108192865 and parameters: {'solver': 'sag', 'C': 0.6668490171508832}. Best is trial 1 with value: 0.631485691885535.\u001b[0m\n",
      "\u001b[32m[I 2021-12-13 17:29:45,635]\u001b[0m Trial 3 finished with value: 0.6313288906311251 and parameters: {'solver': 'liblinear', 'C': 0.6562292021435742}. Best is trial 1 with value: 0.631485691885535.\u001b[0m\n",
      "\u001b[32m[I 2021-12-13 17:30:02,812]\u001b[0m Trial 4 finished with value: 0.631313210505684 and parameters: {'solver': 'saga', 'C': 0.7034896202550367}. Best is trial 1 with value: 0.631485691885535.\u001b[0m\n",
      "\u001b[32m[I 2021-12-13 17:30:19,197]\u001b[0m Trial 5 finished with value: 0.6313524108192865 and parameters: {'solver': 'lbfgs', 'C': 0.7197685296802497}. Best is trial 1 with value: 0.631485691885535.\u001b[0m\n",
      "\u001b[32m[I 2021-12-13 17:31:29,515]\u001b[0m Trial 6 finished with value: 0.6314072912583301 and parameters: {'solver': 'newton-cg', 'C': 0.4162968317742919}. Best is trial 1 with value: 0.631485691885535.\u001b[0m\n",
      "\u001b[32m[I 2021-12-13 17:31:46,629]\u001b[0m Trial 7 finished with value: 0.6313837710701685 and parameters: {'solver': 'saga', 'C': 0.45572740122819116}. Best is trial 1 with value: 0.631485691885535.\u001b[0m\n",
      "\u001b[32m[I 2021-12-13 17:32:04,158]\u001b[0m Trial 8 finished with value: 0.6314151313210505 and parameters: {'solver': 'saga', 'C': 0.4131170914789713}. Best is trial 1 with value: 0.631485691885535.\u001b[0m\n",
      "\u001b[32m[I 2021-12-13 17:32:26,437]\u001b[0m Trial 9 finished with value: 0.6313210505684046 and parameters: {'solver': 'liblinear', 'C': 0.789271822152566}. Best is trial 1 with value: 0.631485691885535.\u001b[0m\n",
      "\u001b[32m[I 2021-12-13 17:33:26,179]\u001b[0m Trial 10 finished with value: 0.6313210505684046 and parameters: {'solver': 'newton-cg', 'C': 0.038839105626143844}. Best is trial 1 with value: 0.631485691885535.\u001b[0m\n",
      "\u001b[32m[I 2021-12-13 17:33:45,271]\u001b[0m Trial 11 finished with value: 0.6315013720109761 and parameters: {'solver': 'saga', 'C': 0.20663194752199038}. Best is trial 11 with value: 0.6315013720109761.\u001b[0m\n",
      "\u001b[32m[I 2021-12-13 17:34:03,176]\u001b[0m Trial 12 finished with value: 0.631485691885535 and parameters: {'solver': 'saga', 'C': 0.168295196141211}. Best is trial 11 with value: 0.6315013720109761.\u001b[0m\n",
      "\u001b[32m[I 2021-12-13 17:34:21,116]\u001b[0m Trial 13 finished with value: 0.6315170521364171 and parameters: {'solver': 'saga', 'C': 0.21342254963865626}. Best is trial 13 with value: 0.6315170521364171.\u001b[0m\n",
      "\u001b[32m[I 2021-12-13 17:34:40,620]\u001b[0m Trial 14 finished with value: 0.631172089376715 and parameters: {'solver': 'sag', 'C': 0.016941920740670358}. Best is trial 13 with value: 0.6315170521364171.\u001b[0m\n",
      "\u001b[32m[I 2021-12-13 17:34:58,054]\u001b[0m Trial 15 finished with value: 0.6314308114464916 and parameters: {'solver': 'lbfgs', 'C': 0.23564256637746384}. Best is trial 13 with value: 0.6315170521364171.\u001b[0m\n",
      "\u001b[32m[I 2021-12-13 17:35:17,987]\u001b[0m Trial 16 finished with value: 0.6313053704429635 and parameters: {'solver': 'saga', 'C': 0.9932414743438174}. Best is trial 13 with value: 0.6315170521364171.\u001b[0m\n",
      "\u001b[32m[I 2021-12-13 17:35:38,429]\u001b[0m Trial 17 finished with value: 0.6314229713837711 and parameters: {'solver': 'saga', 'C': 0.1380865293926395}. Best is trial 13 with value: 0.6315170521364171.\u001b[0m\n",
      "\u001b[32m[I 2021-12-13 17:35:56,890]\u001b[0m Trial 18 finished with value: 0.6314308114464916 and parameters: {'solver': 'saga', 'C': 0.30825183139007606}. Best is trial 13 with value: 0.6315170521364171.\u001b[0m\n",
      "\u001b[32m[I 2021-12-13 17:36:35,659]\u001b[0m Trial 19 finished with value: 0.6314621716973736 and parameters: {'solver': 'sag', 'C': 0.0859798302036967}. Best is trial 13 with value: 0.6315170521364171.\u001b[0m\n",
      "\u001b[32m[I 2021-12-13 17:36:57,934]\u001b[0m Trial 20 finished with value: 0.6314151313210505 and parameters: {'solver': 'liblinear', 'C': 0.357885375301218}. Best is trial 13 with value: 0.6315170521364171.\u001b[0m\n",
      "\u001b[32m[I 2021-12-13 17:37:16,157]\u001b[0m Trial 21 finished with value: 0.6315092120736966 and parameters: {'solver': 'saga', 'C': 0.2567440157756343}. Best is trial 13 with value: 0.6315170521364171.\u001b[0m\n",
      "\u001b[32m[I 2021-12-13 17:37:36,533]\u001b[0m Trial 22 finished with value: 0.6315013720109761 and parameters: {'solver': 'saga', 'C': 0.19101557903025057}. Best is trial 13 with value: 0.6315170521364171.\u001b[0m\n",
      "\u001b[32m[I 2021-12-13 17:37:53,870]\u001b[0m Trial 23 finished with value: 0.6315248921991375 and parameters: {'solver': 'saga', 'C': 0.2530567675509275}. Best is trial 23 with value: 0.6315248921991375.\u001b[0m\n",
      "\u001b[32m[I 2021-12-13 17:38:11,501]\u001b[0m Trial 24 finished with value: 0.6314229713837711 and parameters: {'solver': 'saga', 'C': 0.33459591611069894}. Best is trial 23 with value: 0.6315248921991375.\u001b[0m\n",
      "\u001b[32m[I 2021-12-13 17:38:30,957]\u001b[0m Trial 25 finished with value: 0.631297530380243 and parameters: {'solver': 'lbfgs', 'C': 0.5311214530379987}. Best is trial 23 with value: 0.6315248921991375.\u001b[0m\n",
      "\u001b[32m[I 2021-12-13 17:39:35,089]\u001b[0m Trial 26 finished with value: 0.6314072912583301 and parameters: {'solver': 'newton-cg', 'C': 0.10494444636335767}. Best is trial 23 with value: 0.6315248921991375.\u001b[0m\n",
      "\u001b[32m[I 2021-12-13 17:39:53,818]\u001b[0m Trial 27 finished with value: 0.631485691885535 and parameters: {'solver': 'saga', 'C': 0.2869459413780808}. Best is trial 23 with value: 0.6315248921991375.\u001b[0m\n",
      "\u001b[32m[I 2021-12-13 17:40:11,577]\u001b[0m Trial 28 finished with value: 0.6315640925127401 and parameters: {'solver': 'saga', 'C': 0.23216200775438173}. Best is trial 28 with value: 0.6315640925127401.\u001b[0m\n",
      "\u001b[32m[I 2021-12-13 17:40:29,994]\u001b[0m Trial 29 finished with value: 0.631375931007448 and parameters: {'solver': 'saga', 'C': 0.569675094227418}. Best is trial 28 with value: 0.6315640925127401.\u001b[0m\n",
      "\u001b[32m[I 2021-12-13 17:41:07,216]\u001b[0m Trial 30 finished with value: 0.6315327322618581 and parameters: {'solver': 'saga', 'C': 0.06388184901496352}. Best is trial 28 with value: 0.6315640925127401.\u001b[0m\n",
      "\u001b[32m[I 2021-12-13 17:41:45,511]\u001b[0m Trial 31 finished with value: 0.6314778518228146 and parameters: {'solver': 'saga', 'C': 0.0527578981823673}. Best is trial 28 with value: 0.6315640925127401.\u001b[0m\n",
      "\u001b[32m[I 2021-12-13 17:42:00,570]\u001b[0m Trial 32 finished with value: 0.6314229713837711 and parameters: {'solver': 'saga', 'C': 0.13968279418122004}. Best is trial 28 with value: 0.6315640925127401.\u001b[0m\n",
      "\u001b[32m[I 2021-12-13 17:42:11,718]\u001b[0m Trial 33 finished with value: 0.6315484123872991 and parameters: {'solver': 'saga', 'C': 0.229259702423482}. Best is trial 28 with value: 0.6315640925127401.\u001b[0m\n",
      "\u001b[32m[I 2021-12-13 17:42:22,377]\u001b[0m Trial 34 finished with value: 0.6314151313210505 and parameters: {'solver': 'saga', 'C': 0.3855739753054221}. Best is trial 28 with value: 0.6315640925127401.\u001b[0m\n",
      "\u001b[32m[I 2021-12-13 17:42:48,895]\u001b[0m Trial 35 finished with value: 0.6314229713837711 and parameters: {'solver': 'sag', 'C': 0.09985295367135301}. Best is trial 28 with value: 0.6315640925127401.\u001b[0m\n",
      "\u001b[32m[I 2021-12-13 17:43:01,973]\u001b[0m Trial 36 finished with value: 0.631109368874951 and parameters: {'solver': 'liblinear', 'C': 0.016512103852271226}. Best is trial 28 with value: 0.6315640925127401.\u001b[0m\n",
      "\u001b[32m[I 2021-12-13 17:43:13,006]\u001b[0m Trial 37 finished with value: 0.6315013720109761 and parameters: {'solver': 'saga', 'C': 0.27216893174449597}. Best is trial 28 with value: 0.6315640925127401.\u001b[0m\n",
      "\u001b[32m[I 2021-12-13 17:43:24,899]\u001b[0m Trial 38 finished with value: 0.631313210505684 and parameters: {'solver': 'lbfgs', 'C': 0.46842789059036777}. Best is trial 28 with value: 0.6315640925127401.\u001b[0m\n",
      "\u001b[32m[I 2021-12-13 17:43:36,948]\u001b[0m Trial 39 finished with value: 0.6314151313210505 and parameters: {'solver': 'saga', 'C': 0.14468623959222282}. Best is trial 28 with value: 0.6315640925127401.\u001b[0m\n",
      "\u001b[32m[I 2021-12-13 17:44:12,358]\u001b[0m Trial 40 finished with value: 0.6314308114464916 and parameters: {'solver': 'newton-cg', 'C': 0.3444907385797983}. Best is trial 28 with value: 0.6315640925127401.\u001b[0m\n",
      "\u001b[32m[I 2021-12-13 17:44:23,687]\u001b[0m Trial 41 finished with value: 0.6315484123872991 and parameters: {'solver': 'saga', 'C': 0.22114137732095895}. Best is trial 28 with value: 0.6315640925127401.\u001b[0m\n",
      "\u001b[32m[I 2021-12-13 17:44:34,980]\u001b[0m Trial 42 finished with value: 0.6315640925127401 and parameters: {'solver': 'saga', 'C': 0.23180877186234763}. Best is trial 28 with value: 0.6315640925127401.\u001b[0m\n",
      "\u001b[32m[I 2021-12-13 17:44:46,306]\u001b[0m Trial 43 finished with value: 0.6315013720109761 and parameters: {'solver': 'saga', 'C': 0.1789596585249374}. Best is trial 28 with value: 0.6315640925127401.\u001b[0m\n",
      "\u001b[32m[I 2021-12-13 17:45:14,903]\u001b[0m Trial 44 finished with value: 0.6314700117600941 and parameters: {'solver': 'saga', 'C': 0.06970439647332966}. Best is trial 28 with value: 0.6315640925127401.\u001b[0m\n",
      "\u001b[32m[I 2021-12-13 17:45:25,814]\u001b[0m Trial 45 finished with value: 0.6314151313210505 and parameters: {'solver': 'saga', 'C': 0.31241240553059696}. Best is trial 28 with value: 0.6315640925127401.\u001b[0m\n",
      "\u001b[32m[I 2021-12-13 17:45:37,859]\u001b[0m Trial 46 finished with value: 0.6314151313210505 and parameters: {'solver': 'saga', 'C': 0.41471476891886294}. Best is trial 28 with value: 0.6315640925127401.\u001b[0m\n",
      "\u001b[32m[I 2021-12-13 17:45:49,167]\u001b[0m Trial 47 finished with value: 0.6315170521364171 and parameters: {'solver': 'saga', 'C': 0.21215788966190618}. Best is trial 28 with value: 0.6315640925127401.\u001b[0m\n",
      "\u001b[32m[I 2021-12-13 17:46:05,066]\u001b[0m Trial 48 finished with value: 0.6314464915719326 and parameters: {'solver': 'liblinear', 'C': 0.12443291331195848}. Best is trial 28 with value: 0.6315640925127401.\u001b[0m\n",
      "\u001b[32m[I 2021-12-13 17:46:15,986]\u001b[0m Trial 49 finished with value: 0.6313994511956096 and parameters: {'solver': 'saga', 'C': 0.4623321889705078}. Best is trial 28 with value: 0.6315640925127401.\u001b[0m\n",
      "\u001b[32m[I 2021-12-13 17:46:35,975]\u001b[0m Trial 50 finished with value: 0.6313053704429635 and parameters: {'solver': 'sag', 'C': 0.8537853763331291}. Best is trial 28 with value: 0.6315640925127401.\u001b[0m\n",
      "\u001b[32m[I 2021-12-13 17:46:48,625]\u001b[0m Trial 51 finished with value: 0.6314935319482556 and parameters: {'solver': 'saga', 'C': 0.2618101050476938}. Best is trial 28 with value: 0.6315640925127401.\u001b[0m\n",
      "\u001b[32m[I 2021-12-13 17:46:59,931]\u001b[0m Trial 52 finished with value: 0.6315640925127401 and parameters: {'solver': 'saga', 'C': 0.23150423611955934}. Best is trial 28 with value: 0.6315640925127401.\u001b[0m\n",
      "\u001b[32m[I 2021-12-13 17:47:11,233]\u001b[0m Trial 53 finished with value: 0.631485691885535 and parameters: {'solver': 'saga', 'C': 0.17387524321300313}. Best is trial 28 with value: 0.6315640925127401.\u001b[0m\n",
      "\u001b[32m[I 2021-12-13 17:47:22,525]\u001b[0m Trial 54 finished with value: 0.6315092120736966 and parameters: {'solver': 'saga', 'C': 0.21581937086086203}. Best is trial 28 with value: 0.6315640925127401.\u001b[0m\n",
      "\u001b[32m[I 2021-12-13 17:47:33,328]\u001b[0m Trial 55 finished with value: 0.6314151313210505 and parameters: {'solver': 'saga', 'C': 0.3860063462522674}. Best is trial 28 with value: 0.6315640925127401.\u001b[0m\n",
      "\u001b[32m[I 2021-12-13 17:48:21,245]\u001b[0m Trial 56 finished with value: 0.631454331634653 and parameters: {'solver': 'newton-cg', 'C': 0.2972336940778451}. Best is trial 28 with value: 0.6315640925127401.\u001b[0m\n",
      "\u001b[32m[I 2021-12-13 17:48:32,530]\u001b[0m Trial 57 finished with value: 0.6315248921991375 and parameters: {'solver': 'saga', 'C': 0.2187454883791752}. Best is trial 28 with value: 0.6315640925127401.\u001b[0m\n",
      "\u001b[32m[I 2021-12-13 17:48:44,854]\u001b[0m Trial 58 finished with value: 0.6313916111328891 and parameters: {'solver': 'lbfgs', 'C': 0.17720251004516163}. Best is trial 28 with value: 0.6315640925127401.\u001b[0m\n",
      "\u001b[32m[I 2021-12-13 17:49:17,619]\u001b[0m Trial 59 finished with value: 0.6313210505684046 and parameters: {'solver': 'saga', 'C': 0.040364038465462396}. Best is trial 28 with value: 0.6315640925127401.\u001b[0m\n",
      "\u001b[32m[I 2021-12-13 17:49:28,954]\u001b[0m Trial 60 finished with value: 0.6315327322618581 and parameters: {'solver': 'saga', 'C': 0.2503863913752739}. Best is trial 28 with value: 0.6315640925127401.\u001b[0m\n",
      "\u001b[32m[I 2021-12-13 17:49:39,781]\u001b[0m Trial 61 finished with value: 0.6314151313210505 and parameters: {'solver': 'saga', 'C': 0.3223366806518014}. Best is trial 28 with value: 0.6315640925127401.\u001b[0m\n",
      "\u001b[32m[I 2021-12-13 17:49:51,095]\u001b[0m Trial 62 finished with value: 0.6315170521364171 and parameters: {'solver': 'saga', 'C': 0.2419893551273464}. Best is trial 28 with value: 0.6315640925127401.\u001b[0m\n",
      "\u001b[32m[I 2021-12-13 17:50:02,026]\u001b[0m Trial 63 finished with value: 0.6313994511956096 and parameters: {'solver': 'saga', 'C': 0.36343712697564384}. Best is trial 28 with value: 0.6315640925127401.\u001b[0m\n"
     ]
    },
    {
     "data": {
      "image/png": "[encoded data removed]",
      "text/plain": [
       "<Figure size 432x288 with 1 Axes>"
      ]
     },
     "metadata": {
      "needs_background": "light"
     },
     "output_type": "display_data"
    },
    {
     "data": {
      "text/plain": [
       "<sklearn.metrics._plot.confusion_matrix.ConfusionMatrixDisplay at 0x7f4a1d2ab160>"
      ]
     },
     "execution_count": 3,
     "metadata": {},
     "output_type": "execute_result"
    },
    {
     "data": {
      "text/plain": [
       "<Figure size 432x288 with 0 Axes>"
      ]
     },
     "metadata": {},
     "output_type": "display_data"
    },
    {
     "data": {
      "image/png": "[encoded data removed]",
      "text/plain": [
       "<Figure size 432x288 with 2 Axes>"
      ]
     },
     "metadata": {
      "needs_background": "light"
     },
     "output_type": "display_data"
    }
   ],
   "source": [
    "ds_dropado = ds.drop(labels=['IND_BOM_1_2', 'IND_BOM_1_1'], axis=1)\n",
    "df_treino = treino_ina.drop(['IND_BOM_1_2','IND_BOM_1_1'], axis=1).append(treino_adi.drop(['IND_BOM_1_2','IND_BOM_1_1'], axis=1))\n",
    "df_validacao = valid_ina.drop(['IND_BOM_1_2','IND_BOM_1_1'], axis=1).append(valid_adi.drop(['IND_BOM_1_2','IND_BOM_1_1'], axis=1))\n",
    "df_validacao.drop(columns=['INDEX'], axis=1, inplace=True)\n",
    "df_teste = teste_ina.drop(['IND_BOM_1_2','IND_BOM_1_1'], axis=1).append(teste_adi.drop(['IND_BOM_1_2','IND_BOM_1_1'], axis=1))\n",
    "df_teste.drop(columns=['INDEX'], axis=1, inplace=True)\n",
    "\n",
    "best_rl = []\n",
    "\n",
    "def rl(trial):\n",
    "    # penalty = trial.suggest_categorical(\"penalty\", [\"none\", \"l2\", \"l1\", \"elasticnet\"])\n",
    "    solver = trial.suggest_categorical(\"solver\", [\"newton-cg\", \"lbfgs\", \"liblinear\", \"sag\", \"saga\"])\n",
    "    C = trial.suggest_float(\"C\", 0.01, 1.0)\n",
    "    multi_class = \"ovr\"\n",
    "    \n",
    "    # Código opcional para log\n",
    "    # print('Regressão Logística com solver {} e C {}\\n'.format(\n",
    "    #     solver, C\n",
    "    # ))\n",
    "\n",
    "    regressao_log = LogisticRegression(max_iter=1000,\n",
    "                                    random_state=1, \n",
    "                                    solver=solver, \n",
    "                                    C=C, \n",
    "                                    multi_class=multi_class).fit(df_treino, [0]*len(treino_ina)+[1]*len(treino_adi))\n",
    "\n",
    "    best_rl.append(regressao_log)\n",
    "    \n",
    "    rl_pred_class = regressao_log.predict(df_validacao)\n",
    "    rl_pred_scores = regressao_log.predict_proba(df_validacao)\n",
    "    \n",
    "    accuracy, recall, precision, f1, auroc, aupr = compute_performance_metrics_sem_plot2([0]*len(valid_ina)+[1]*len(valid_adi), rl_pred_class, rl_pred_scores,  \"LR/LR Trial {}\".format(trial.number))\n",
    "    \n",
    "    return accuracy\n",
    "\n",
    "study_3 = optuna.create_study(direction=\"maximize\")\n",
    "study_3.optimize(rl, n_trials=64)\n",
    "\n",
    "compute_performance_metrics([0]*len(teste_ina)+[1]*len(teste_adi), best_rl[study_3.best_trial.number].predict(df_teste), best_rl[study_3.best_trial.number].predict_proba(df_teste))\n",
    "plot_confusion_matrix(best_rl[study_3.best_trial.number], df_teste, [0]*len(teste_ina)+[1]*len(teste_adi), normalize='true')"
   ]
  },
  {
   "cell_type": "markdown",
   "metadata": {},
   "source": [
    "### Resultados da Regressão Logística"
   ]
  },
  {
   "cell_type": "code",
   "execution_count": 4,
   "metadata": {},
   "outputs": [
    {
     "data": {
      "application/vnd.plotly.v1+json": {
       "config": {
        "plotlyServerURL": "https://plot.ly"
       },
       "data": [
        {
         "mode": "markers",
         "name": "Objective Value",
         "type": "scatter",
         "x": [
          0,
          1,
          2,
          3,
          4,
          5,
          6,
          7,
          8,
          9,
          10,
          11,
          12,
          13,
          14,
          15,
          16,
          17,
          18,
          19,
          20,
          21,
          22,
          23,
          24,
          25,
          26,
          27,
          28,
          29,
          30,
          31,
          32,
          33,
          34,
          35,
          36,
          37,
          38,
          39,
          40,
          41,
          42,
          43,
          44,
          45,
          46,
          47,
          48,
          49,
          50,
          51,
          52,
          53,
          54,
          55,
          56,
          57,
          58,
          59,
          60,
          61,
          62,
          63
         ],
         "y": [
          0.631344570756566,
          0.631485691885535,
          0.6313524108192865,
          0.6313288906311251,
          0.631313210505684,
          0.6313524108192865,
          0.6314072912583301,
          0.6313837710701685,
          0.6314151313210505,
          0.6313210505684046,
          0.6313210505684046,
          0.6315013720109761,
          0.631485691885535,
          0.6315170521364171,
          0.631172089376715,
          0.6314308114464916,
          0.6313053704429635,
          0.6314229713837711,
          0.6314308114464916,
          0.6314621716973736,
          0.6314151313210505,
          0.6315092120736966,
          0.6315013720109761,
          0.6315248921991375,
          0.6314229713837711,
          0.631297530380243,
          0.6314072912583301,
          0.631485691885535,
          0.6315640925127401,
          0.631375931007448,
          0.6315327322618581,
          0.6314778518228146,
          0.6314229713837711,
          0.6315484123872991,
          0.6314151313210505,
          0.6314229713837711,
          0.631109368874951,
          0.6315013720109761,
          0.631313210505684,
          0.6314151313210505,
          0.6314308114464916,
          0.6315484123872991,
          0.6315640925127401,
          0.6315013720109761,
          0.6314700117600941,
          0.6314151313210505,
          0.6314151313210505,
          0.6315170521364171,
          0.6314464915719326,
          0.6313994511956096,
          0.6313053704429635,
          0.6314935319482556,
          0.6315640925127401,
          0.631485691885535,
          0.6315092120736966,
          0.6314151313210505,
          0.631454331634653,
          0.6315248921991375,
          0.6313916111328891,
          0.6313210505684046,
          0.6315327322618581,
          0.6314151313210505,
          0.6315170521364171,
          0.6313994511956096
         ]
        },
        {
         "name": "Best Value",
         "type": "scatter",
         "x": [
          0,
          1,
          2,
          3,
          4,
          5,
          6,
          7,
          8,
          9,
          10,
          11,
          12,
          13,
          14,
          15,
          16,
          17,
          18,
          19,
          20,
          21,
          22,
          23,
          24,
          25,
          26,
          27,
          28,
          29,
          30,
          31,
          32,
          33,
          34,
          35,
          36,
          37,
          38,
          39,
          40,
          41,
          42,
          43,
          44,
          45,
          46,
          47,
          48,
          49,
          50,
          51,
          52,
          53,
          54,
          55,
          56,
          57,
          58,
          59,
          60,
          61,
          62,
          63
         ],
         "y": [
          0.631344570756566,
          0.631485691885535,
          0.631485691885535,
          0.631485691885535,
          0.631485691885535,
          0.631485691885535,
          0.631485691885535,
          0.631485691885535,
          0.631485691885535,
          0.631485691885535,
          0.631485691885535,
          0.6315013720109761,
          0.6315013720109761,
          0.6315170521364171,
          0.6315170521364171,
          0.6315170521364171,
          0.6315170521364171,
          0.6315170521364171,
          0.6315170521364171,
          0.6315170521364171,
          0.6315170521364171,
          0.6315170521364171,
          0.6315170521364171,
          0.6315248921991375,
          0.6315248921991375,
          0.6315248921991375,
          0.6315248921991375,
          0.6315248921991375,
          0.6315640925127401,
          0.6315640925127401,
          0.6315640925127401,
          0.6315640925127401,
          0.6315640925127401,
          0.6315640925127401,
          0.6315640925127401,
          0.6315640925127401,
          0.6315640925127401,
          0.6315640925127401,
          0.6315640925127401,
          0.6315640925127401,
          0.6315640925127401,
          0.6315640925127401,
          0.6315640925127401,
          0.6315640925127401,
          0.6315640925127401,
          0.6315640925127401,
          0.6315640925127401,
          0.6315640925127401,
          0.6315640925127401,
          0.6315640925127401,
          0.6315640925127401,
          0.6315640925127401,
          0.6315640925127401,
          0.6315640925127401,
          0.6315640925127401,
          0.6315640925127401,
          0.6315640925127401,
          0.6315640925127401,
          0.6315640925127401,
          0.6315640925127401,
          0.6315640925127401,
          0.6315640925127401,
          0.6315640925127401,
          0.6315640925127401
         ]
        }
       ],
       "layout": {
        "template": {
         "data": {
          "bar": [
           {
            "error_x": {
             "color": "#2a3f5f"
            },
            "error_y": {
             "color": "#2a3f5f"
            },
            "marker": {
             "line": {
              "color": "#E5ECF6",
              "width": 0.5
             },
             "pattern": {
              "fillmode": "overlay",
              "size": 10,
              "solidity": 0.2
             }
            },
            "type": "bar"
           }
          ],
          "barpolar": [
           {
            "marker": {
             "line": {
              "color": "#E5ECF6",
              "width": 0.5
             },
             "pattern": {
              "fillmode": "overlay",
              "size": 10,
              "solidity": 0.2
             }
            },
            "type": "barpolar"
           }
          ],
          "carpet": [
           {
            "aaxis": {
             "endlinecolor": "#2a3f5f",
             "gridcolor": "white",
             "linecolor": "white",
             "minorgridcolor": "white",
             "startlinecolor": "#2a3f5f"
            },
            "baxis": {
             "endlinecolor": "#2a3f5f",
             "gridcolor": "white",
             "linecolor": "white",
             "minorgridcolor": "white",
             "startlinecolor": "#2a3f5f"
            },
            "type": "carpet"
           }
          ],
          "choropleth": [
           {
            "colorbar": {
             "outlinewidth": 0,
             "ticks": ""
            },
            "type": "choropleth"
           }
          ],
          "contour": [
           {
            "colorbar": {
             "outlinewidth": 0,
             "ticks": ""
            },
            "colorscale": [
             [
              0,
              "#0d0887"
             ],
             [
              0.1111111111111111,
              "#46039f"
             ],
             [
              0.2222222222222222,
              "#7201a8"
             ],
             [
              0.3333333333333333,
              "#9c179e"
             ],
             [
              0.4444444444444444,
              "#bd3786"
             ],
             [
              0.5555555555555556,
              "#d8576b"
             ],
             [
              0.6666666666666666,
              "#ed7953"
             ],
             [
              0.7777777777777778,
              "#fb9f3a"
             ],
             [
              0.8888888888888888,
              "#fdca26"
             ],
             [
              1,
              "#f0f921"
             ]
            ],
            "type": "contour"
           }
          ],
          "contourcarpet": [
           {
            "colorbar": {
             "outlinewidth": 0,
             "ticks": ""
            },
            "type": "contourcarpet"
           }
          ],
          "heatmap": [
           {
            "colorbar": {
             "outlinewidth": 0,
             "ticks": ""
            },
            "colorscale": [
             [
              0,
              "#0d0887"
             ],
             [
              0.1111111111111111,
              "#46039f"
             ],
             [
              0.2222222222222222,
              "#7201a8"
             ],
             [
              0.3333333333333333,
              "#9c179e"
             ],
             [
              0.4444444444444444,
              "#bd3786"
             ],
             [
              0.5555555555555556,
              "#d8576b"
             ],
             [
              0.6666666666666666,
              "#ed7953"
             ],
             [
              0.7777777777777778,
              "#fb9f3a"
             ],
             [
              0.8888888888888888,
              "#fdca26"
             ],
             [
              1,
              "#f0f921"
             ]
            ],
            "type": "heatmap"
           }
          ],
          "heatmapgl": [
           {
            "colorbar": {
             "outlinewidth": 0,
             "ticks": ""
            },
            "colorscale": [
             [
              0,
              "#0d0887"
             ],
             [
              0.1111111111111111,
              "#46039f"
             ],
             [
              0.2222222222222222,
              "#7201a8"
             ],
             [
              0.3333333333333333,
              "#9c179e"
             ],
             [
              0.4444444444444444,
              "#bd3786"
             ],
             [
              0.5555555555555556,
              "#d8576b"
             ],
             [
              0.6666666666666666,
              "#ed7953"
             ],
             [
              0.7777777777777778,
              "#fb9f3a"
             ],
             [
              0.8888888888888888,
              "#fdca26"
             ],
             [
              1,
              "#f0f921"
             ]
            ],
            "type": "heatmapgl"
           }
          ],
          "histogram": [
           {
            "marker": {
             "pattern": {
              "fillmode": "overlay",
              "size": 10,
              "solidity": 0.2
             }
            },
            "type": "histogram"
           }
          ],
          "histogram2d": [
           {
            "colorbar": {
             "outlinewidth": 0,
             "ticks": ""
            },
            "colorscale": [
             [
              0,
              "#0d0887"
             ],
             [
              0.1111111111111111,
              "#46039f"
             ],
             [
              0.2222222222222222,
              "#7201a8"
             ],
             [
              0.3333333333333333,
              "#9c179e"
             ],
             [
              0.4444444444444444,
              "#bd3786"
             ],
             [
              0.5555555555555556,
              "#d8576b"
             ],
             [
              0.6666666666666666,
              "#ed7953"
             ],
             [
              0.7777777777777778,
              "#fb9f3a"
             ],
             [
              0.8888888888888888,
              "#fdca26"
             ],
             [
              1,
              "#f0f921"
             ]
            ],
            "type": "histogram2d"
           }
          ],
          "histogram2dcontour": [
           {
            "colorbar": {
             "outlinewidth": 0,
             "ticks": ""
            },
            "colorscale": [
             [
              0,
              "#0d0887"
             ],
             [
              0.1111111111111111,
              "#46039f"
             ],
             [
              0.2222222222222222,
              "#7201a8"
             ],
             [
              0.3333333333333333,
              "#9c179e"
             ],
             [
              0.4444444444444444,
              "#bd3786"
             ],
             [
              0.5555555555555556,
              "#d8576b"
             ],
             [
              0.6666666666666666,
              "#ed7953"
             ],
             [
              0.7777777777777778,
              "#fb9f3a"
             ],
             [
              0.8888888888888888,
              "#fdca26"
             ],
             [
              1,
              "#f0f921"
             ]
            ],
            "type": "histogram2dcontour"
           }
          ],
          "mesh3d": [
           {
            "colorbar": {
             "outlinewidth": 0,
             "ticks": ""
            },
            "type": "mesh3d"
           }
          ],
          "parcoords": [
           {
            "line": {
             "colorbar": {
              "outlinewidth": 0,
              "ticks": ""
             }
            },
            "type": "parcoords"
           }
          ],
          "pie": [
           {
            "automargin": true,
            "type": "pie"
           }
          ],
          "scatter": [
           {
            "marker": {
             "colorbar": {
              "outlinewidth": 0,
              "ticks": ""
             }
            },
            "type": "scatter"
           }
          ],
          "scatter3d": [
           {
            "line": {
             "colorbar": {
              "outlinewidth": 0,
              "ticks": ""
             }
            },
            "marker": {
             "colorbar": {
              "outlinewidth": 0,
              "ticks": ""
             }
            },
            "type": "scatter3d"
           }
          ],
          "scattercarpet": [
           {
            "marker": {
             "colorbar": {
              "outlinewidth": 0,
              "ticks": ""
             }
            },
            "type": "scattercarpet"
           }
          ],
          "scattergeo": [
           {
            "marker": {
             "colorbar": {
              "outlinewidth": 0,
              "ticks": ""
             }
            },
            "type": "scattergeo"
           }
          ],
          "scattergl": [
           {
            "marker": {
             "colorbar": {
              "outlinewidth": 0,
              "ticks": ""
             }
            },
            "type": "scattergl"
           }
          ],
          "scattermapbox": [
           {
            "marker": {
             "colorbar": {
              "outlinewidth": 0,
              "ticks": ""
             }
            },
            "type": "scattermapbox"
           }
          ],
          "scatterpolar": [
           {
            "marker": {
             "colorbar": {
              "outlinewidth": 0,
              "ticks": ""
             }
            },
            "type": "scatterpolar"
           }
          ],
          "scatterpolargl": [
           {
            "marker": {
             "colorbar": {
              "outlinewidth": 0,
              "ticks": ""
             }
            },
            "type": "scatterpolargl"
           }
          ],
          "scatterternary": [
           {
            "marker": {
             "colorbar": {
              "outlinewidth": 0,
              "ticks": ""
             }
            },
            "type": "scatterternary"
           }
          ],
          "surface": [
           {
            "colorbar": {
             "outlinewidth": 0,
             "ticks": ""
            },
            "colorscale": [
             [
              0,
              "#0d0887"
             ],
             [
              0.1111111111111111,
              "#46039f"
             ],
             [
              0.2222222222222222,
              "#7201a8"
             ],
             [
              0.3333333333333333,
              "#9c179e"
             ],
             [
              0.4444444444444444,
              "#bd3786"
             ],
             [
              0.5555555555555556,
              "#d8576b"
             ],
             [
              0.6666666666666666,
              "#ed7953"
             ],
             [
              0.7777777777777778,
              "#fb9f3a"
             ],
             [
              0.8888888888888888,
              "#fdca26"
             ],
             [
              1,
              "#f0f921"
             ]
            ],
            "type": "surface"
           }
          ],
          "table": [
           {
            "cells": {
             "fill": {
              "color": "#EBF0F8"
             },
             "line": {
              "color": "white"
             }
            },
            "header": {
             "fill": {
              "color": "#C8D4E3"
             },
             "line": {
              "color": "white"
             }
            },
            "type": "table"
           }
          ]
         },
         "layout": {
          "annotationdefaults": {
           "arrowcolor": "#2a3f5f",
           "arrowhead": 0,
           "arrowwidth": 1
          },
          "autotypenumbers": "strict",
          "coloraxis": {
           "colorbar": {
            "outlinewidth": 0,
            "ticks": ""
           }
          },
          "colorscale": {
           "diverging": [
            [
             0,
             "#8e0152"
            ],
            [
             0.1,
             "#c51b7d"
            ],
            [
             0.2,
             "#de77ae"
            ],
            [
             0.3,
             "#f1b6da"
            ],
            [
             0.4,
             "#fde0ef"
            ],
            [
             0.5,
             "#f7f7f7"
            ],
            [
             0.6,
             "#e6f5d0"
            ],
            [
             0.7,
             "#b8e186"
            ],
            [
             0.8,
             "#7fbc41"
            ],
            [
             0.9,
             "#4d9221"
            ],
            [
             1,
             "#276419"
            ]
           ],
           "sequential": [
            [
             0,
             "#0d0887"
            ],
            [
             0.1111111111111111,
             "#46039f"
            ],
            [
             0.2222222222222222,
             "#7201a8"
            ],
            [
             0.3333333333333333,
             "#9c179e"
            ],
            [
             0.4444444444444444,
             "#bd3786"
            ],
            [
             0.5555555555555556,
             "#d8576b"
            ],
            [
             0.6666666666666666,
             "#ed7953"
            ],
            [
             0.7777777777777778,
             "#fb9f3a"
            ],
            [
             0.8888888888888888,
             "#fdca26"
            ],
            [
             1,
             "#f0f921"
            ]
           ],
           "sequentialminus": [
            [
             0,
             "#0d0887"
            ],
            [
             0.1111111111111111,
             "#46039f"
            ],
            [
             0.2222222222222222,
             "#7201a8"
            ],
            [
             0.3333333333333333,
             "#9c179e"
            ],
            [
             0.4444444444444444,
             "#bd3786"
            ],
            [
             0.5555555555555556,
             "#d8576b"
            ],
            [
             0.6666666666666666,
             "#ed7953"
            ],
            [
             0.7777777777777778,
             "#fb9f3a"
            ],
            [
             0.8888888888888888,
             "#fdca26"
            ],
            [
             1,
             "#f0f921"
            ]
           ]
          },
          "colorway": [
           "#636efa",
           "#EF553B",
           "#00cc96",
           "#ab63fa",
           "#FFA15A",
           "#19d3f3",
           "#FF6692",
           "#B6E880",
           "#FF97FF",
           "#FECB52"
          ],
          "font": {
           "color": "#2a3f5f"
          },
          "geo": {
           "bgcolor": "white",
           "lakecolor": "white",
           "landcolor": "#E5ECF6",
           "showlakes": true,
           "showland": true,
           "subunitcolor": "white"
          },
          "hoverlabel": {
           "align": "left"
          },
          "hovermode": "closest",
          "mapbox": {
           "style": "light"
          },
          "paper_bgcolor": "white",
          "plot_bgcolor": "#E5ECF6",
          "polar": {
           "angularaxis": {
            "gridcolor": "white",
            "linecolor": "white",
            "ticks": ""
           },
           "bgcolor": "#E5ECF6",
           "radialaxis": {
            "gridcolor": "white",
            "linecolor": "white",
            "ticks": ""
           }
          },
          "scene": {
           "xaxis": {
            "backgroundcolor": "#E5ECF6",
            "gridcolor": "white",
            "gridwidth": 2,
            "linecolor": "white",
            "showbackground": true,
            "ticks": "",
            "zerolinecolor": "white"
           },
           "yaxis": {
            "backgroundcolor": "#E5ECF6",
            "gridcolor": "white",
            "gridwidth": 2,
            "linecolor": "white",
            "showbackground": true,
            "ticks": "",
            "zerolinecolor": "white"
           },
           "zaxis": {
            "backgroundcolor": "#E5ECF6",
            "gridcolor": "white",
            "gridwidth": 2,
            "linecolor": "white",
            "showbackground": true,
            "ticks": "",
            "zerolinecolor": "white"
           }
          },
          "shapedefaults": {
           "line": {
            "color": "#2a3f5f"
           }
          },
          "ternary": {
           "aaxis": {
            "gridcolor": "white",
            "linecolor": "white",
            "ticks": ""
           },
           "baxis": {
            "gridcolor": "white",
            "linecolor": "white",
            "ticks": ""
           },
           "bgcolor": "#E5ECF6",
           "caxis": {
            "gridcolor": "white",
            "linecolor": "white",
            "ticks": ""
           }
          },
          "title": {
           "x": 0.05
          },
          "xaxis": {
           "automargin": true,
           "gridcolor": "white",
           "linecolor": "white",
           "ticks": "",
           "title": {
            "standoff": 15
           },
           "zerolinecolor": "white",
           "zerolinewidth": 2
          },
          "yaxis": {
           "automargin": true,
           "gridcolor": "white",
           "linecolor": "white",
           "ticks": "",
           "title": {
            "standoff": 15
           },
           "zerolinecolor": "white",
           "zerolinewidth": 2
          }
         }
        },
        "title": {
         "text": "Optimization History Plot"
        },
        "xaxis": {
         "title": {
          "text": "#Trials"
         }
        },
        "yaxis": {
         "title": {
          "text": "Objective Value"
         }
        }
       }
      }
     },
     "metadata": {},
     "output_type": "display_data"
    }
   ],
   "source": [
    "optuna.visualization.plot_optimization_history(study_3)"
   ]
  },
  {
   "cell_type": "code",
   "execution_count": 5,
   "metadata": {},
   "outputs": [
    {
     "data": {
      "application/vnd.plotly.v1+json": {
       "config": {
        "plotlyServerURL": "https://plot.ly"
       },
       "data": [
        {
         "marker": {
          "color": [
           0,
           1,
           2,
           3,
           4,
           5,
           6,
           7,
           8,
           9,
           10,
           11,
           12,
           13,
           14,
           15,
           16,
           17,
           18,
           19,
           20,
           21,
           22,
           23,
           24,
           25,
           26,
           27,
           28,
           29,
           30,
           31,
           32,
           33,
           34,
           35,
           36,
           37,
           38,
           39,
           40,
           41,
           42,
           43,
           44,
           45,
           46,
           47,
           48,
           49,
           50,
           51,
           52,
           53,
           54,
           55,
           56,
           57,
           58,
           59,
           60,
           61,
           62,
           63
          ],
          "colorbar": {
           "title": {
            "text": "#Trials"
           },
           "x": 1,
           "xpad": 40
          },
          "colorscale": [
           [
            0,
            "rgb(247,251,255)"
           ],
           [
            0.125,
            "rgb(222,235,247)"
           ],
           [
            0.25,
            "rgb(198,219,239)"
           ],
           [
            0.375,
            "rgb(158,202,225)"
           ],
           [
            0.5,
            "rgb(107,174,214)"
           ],
           [
            0.625,
            "rgb(66,146,198)"
           ],
           [
            0.75,
            "rgb(33,113,181)"
           ],
           [
            0.875,
            "rgb(8,81,156)"
           ],
           [
            1,
            "rgb(8,48,107)"
           ]
          ],
          "line": {
           "color": "Grey",
           "width": 0.5
          },
          "showscale": true
         },
         "mode": "markers",
         "showlegend": false,
         "type": "scatter",
         "x": [
          0.5849769857357946,
          0.2842694673818212,
          0.6668490171508832,
          0.6562292021435742,
          0.7034896202550367,
          0.7197685296802497,
          0.4162968317742919,
          0.45572740122819116,
          0.4131170914789713,
          0.789271822152566,
          0.038839105626143844,
          0.20663194752199038,
          0.168295196141211,
          0.21342254963865626,
          0.016941920740670358,
          0.23564256637746384,
          0.9932414743438174,
          0.1380865293926395,
          0.30825183139007606,
          0.0859798302036967,
          0.357885375301218,
          0.2567440157756343,
          0.19101557903025057,
          0.2530567675509275,
          0.33459591611069894,
          0.5311214530379987,
          0.10494444636335767,
          0.2869459413780808,
          0.23216200775438173,
          0.569675094227418,
          0.06388184901496352,
          0.0527578981823673,
          0.13968279418122004,
          0.229259702423482,
          0.3855739753054221,
          0.09985295367135301,
          0.016512103852271226,
          0.27216893174449597,
          0.46842789059036777,
          0.14468623959222282,
          0.3444907385797983,
          0.22114137732095895,
          0.23180877186234763,
          0.1789596585249374,
          0.06970439647332966,
          0.31241240553059696,
          0.41471476891886294,
          0.21215788966190618,
          0.12443291331195848,
          0.4623321889705078,
          0.8537853763331291,
          0.2618101050476938,
          0.23150423611955934,
          0.17387524321300313,
          0.21581937086086203,
          0.3860063462522674,
          0.2972336940778451,
          0.2187454883791752,
          0.17720251004516163,
          0.040364038465462396,
          0.2503863913752739,
          0.3223366806518014,
          0.2419893551273464,
          0.36343712697564384
         ],
         "xaxis": "x",
         "y": [
          0.631344570756566,
          0.631485691885535,
          0.6313524108192865,
          0.6313288906311251,
          0.631313210505684,
          0.6313524108192865,
          0.6314072912583301,
          0.6313837710701685,
          0.6314151313210505,
          0.6313210505684046,
          0.6313210505684046,
          0.6315013720109761,
          0.631485691885535,
          0.6315170521364171,
          0.631172089376715,
          0.6314308114464916,
          0.6313053704429635,
          0.6314229713837711,
          0.6314308114464916,
          0.6314621716973736,
          0.6314151313210505,
          0.6315092120736966,
          0.6315013720109761,
          0.6315248921991375,
          0.6314229713837711,
          0.631297530380243,
          0.6314072912583301,
          0.631485691885535,
          0.6315640925127401,
          0.631375931007448,
          0.6315327322618581,
          0.6314778518228146,
          0.6314229713837711,
          0.6315484123872991,
          0.6314151313210505,
          0.6314229713837711,
          0.631109368874951,
          0.6315013720109761,
          0.631313210505684,
          0.6314151313210505,
          0.6314308114464916,
          0.6315484123872991,
          0.6315640925127401,
          0.6315013720109761,
          0.6314700117600941,
          0.6314151313210505,
          0.6314151313210505,
          0.6315170521364171,
          0.6314464915719326,
          0.6313994511956096,
          0.6313053704429635,
          0.6314935319482556,
          0.6315640925127401,
          0.631485691885535,
          0.6315092120736966,
          0.6314151313210505,
          0.631454331634653,
          0.6315248921991375,
          0.6313916111328891,
          0.6313210505684046,
          0.6315327322618581,
          0.6314151313210505,
          0.6315170521364171,
          0.6313994511956096
         ],
         "yaxis": "y"
        },
        {
         "marker": {
          "color": [
           0,
           1,
           2,
           3,
           4,
           5,
           6,
           7,
           8,
           9,
           10,
           11,
           12,
           13,
           14,
           15,
           16,
           17,
           18,
           19,
           20,
           21,
           22,
           23,
           24,
           25,
           26,
           27,
           28,
           29,
           30,
           31,
           32,
           33,
           34,
           35,
           36,
           37,
           38,
           39,
           40,
           41,
           42,
           43,
           44,
           45,
           46,
           47,
           48,
           49,
           50,
           51,
           52,
           53,
           54,
           55,
           56,
           57,
           58,
           59,
           60,
           61,
           62,
           63
          ],
          "colorbar": {
           "title": {
            "text": "#Trials"
           },
           "x": 1,
           "xpad": 40
          },
          "colorscale": [
           [
            0,
            "rgb(247,251,255)"
           ],
           [
            0.125,
            "rgb(222,235,247)"
           ],
           [
            0.25,
            "rgb(198,219,239)"
           ],
           [
            0.375,
            "rgb(158,202,225)"
           ],
           [
            0.5,
            "rgb(107,174,214)"
           ],
           [
            0.625,
            "rgb(66,146,198)"
           ],
           [
            0.75,
            "rgb(33,113,181)"
           ],
           [
            0.875,
            "rgb(8,81,156)"
           ],
           [
            1,
            "rgb(8,48,107)"
           ]
          ],
          "line": {
           "color": "Grey",
           "width": 0.5
          },
          "showscale": false
         },
         "mode": "markers",
         "showlegend": false,
         "type": "scatter",
         "x": [
          "saga",
          "saga",
          "sag",
          "liblinear",
          "saga",
          "lbfgs",
          "newton-cg",
          "saga",
          "saga",
          "liblinear",
          "newton-cg",
          "saga",
          "saga",
          "saga",
          "sag",
          "lbfgs",
          "saga",
          "saga",
          "saga",
          "sag",
          "liblinear",
          "saga",
          "saga",
          "saga",
          "saga",
          "lbfgs",
          "newton-cg",
          "saga",
          "saga",
          "saga",
          "saga",
          "saga",
          "saga",
          "saga",
          "saga",
          "sag",
          "liblinear",
          "saga",
          "lbfgs",
          "saga",
          "newton-cg",
          "saga",
          "saga",
          "saga",
          "saga",
          "saga",
          "saga",
          "saga",
          "liblinear",
          "saga",
          "sag",
          "saga",
          "saga",
          "saga",
          "saga",
          "saga",
          "newton-cg",
          "saga",
          "lbfgs",
          "saga",
          "saga",
          "saga",
          "saga",
          "saga"
         ],
         "xaxis": "x2",
         "y": [
          0.631344570756566,
          0.631485691885535,
          0.6313524108192865,
          0.6313288906311251,
          0.631313210505684,
          0.6313524108192865,
          0.6314072912583301,
          0.6313837710701685,
          0.6314151313210505,
          0.6313210505684046,
          0.6313210505684046,
          0.6315013720109761,
          0.631485691885535,
          0.6315170521364171,
          0.631172089376715,
          0.6314308114464916,
          0.6313053704429635,
          0.6314229713837711,
          0.6314308114464916,
          0.6314621716973736,
          0.6314151313210505,
          0.6315092120736966,
          0.6315013720109761,
          0.6315248921991375,
          0.6314229713837711,
          0.631297530380243,
          0.6314072912583301,
          0.631485691885535,
          0.6315640925127401,
          0.631375931007448,
          0.6315327322618581,
          0.6314778518228146,
          0.6314229713837711,
          0.6315484123872991,
          0.6314151313210505,
          0.6314229713837711,
          0.631109368874951,
          0.6315013720109761,
          0.631313210505684,
          0.6314151313210505,
          0.6314308114464916,
          0.6315484123872991,
          0.6315640925127401,
          0.6315013720109761,
          0.6314700117600941,
          0.6314151313210505,
          0.6314151313210505,
          0.6315170521364171,
          0.6314464915719326,
          0.6313994511956096,
          0.6313053704429635,
          0.6314935319482556,
          0.6315640925127401,
          0.631485691885535,
          0.6315092120736966,
          0.6314151313210505,
          0.631454331634653,
          0.6315248921991375,
          0.6313916111328891,
          0.6313210505684046,
          0.6315327322618581,
          0.6314151313210505,
          0.6315170521364171,
          0.6313994511956096
         ],
         "yaxis": "y2"
        }
       ],
       "layout": {
        "template": {
         "data": {
          "bar": [
           {
            "error_x": {
             "color": "#2a3f5f"
            },
            "error_y": {
             "color": "#2a3f5f"
            },
            "marker": {
             "line": {
              "color": "#E5ECF6",
              "width": 0.5
             },
             "pattern": {
              "fillmode": "overlay",
              "size": 10,
              "solidity": 0.2
             }
            },
            "type": "bar"
           }
          ],
          "barpolar": [
           {
            "marker": {
             "line": {
              "color": "#E5ECF6",
              "width": 0.5
             },
             "pattern": {
              "fillmode": "overlay",
              "size": 10,
              "solidity": 0.2
             }
            },
            "type": "barpolar"
           }
          ],
          "carpet": [
           {
            "aaxis": {
             "endlinecolor": "#2a3f5f",
             "gridcolor": "white",
             "linecolor": "white",
             "minorgridcolor": "white",
             "startlinecolor": "#2a3f5f"
            },
            "baxis": {
             "endlinecolor": "#2a3f5f",
             "gridcolor": "white",
             "linecolor": "white",
             "minorgridcolor": "white",
             "startlinecolor": "#2a3f5f"
            },
            "type": "carpet"
           }
          ],
          "choropleth": [
           {
            "colorbar": {
             "outlinewidth": 0,
             "ticks": ""
            },
            "type": "choropleth"
           }
          ],
          "contour": [
           {
            "colorbar": {
             "outlinewidth": 0,
             "ticks": ""
            },
            "colorscale": [
             [
              0,
              "#0d0887"
             ],
             [
              0.1111111111111111,
              "#46039f"
             ],
             [
              0.2222222222222222,
              "#7201a8"
             ],
             [
              0.3333333333333333,
              "#9c179e"
             ],
             [
              0.4444444444444444,
              "#bd3786"
             ],
             [
              0.5555555555555556,
              "#d8576b"
             ],
             [
              0.6666666666666666,
              "#ed7953"
             ],
             [
              0.7777777777777778,
              "#fb9f3a"
             ],
             [
              0.8888888888888888,
              "#fdca26"
             ],
             [
              1,
              "#f0f921"
             ]
            ],
            "type": "contour"
           }
          ],
          "contourcarpet": [
           {
            "colorbar": {
             "outlinewidth": 0,
             "ticks": ""
            },
            "type": "contourcarpet"
           }
          ],
          "heatmap": [
           {
            "colorbar": {
             "outlinewidth": 0,
             "ticks": ""
            },
            "colorscale": [
             [
              0,
              "#0d0887"
             ],
             [
              0.1111111111111111,
              "#46039f"
             ],
             [
              0.2222222222222222,
              "#7201a8"
             ],
             [
              0.3333333333333333,
              "#9c179e"
             ],
             [
              0.4444444444444444,
              "#bd3786"
             ],
             [
              0.5555555555555556,
              "#d8576b"
             ],
             [
              0.6666666666666666,
              "#ed7953"
             ],
             [
              0.7777777777777778,
              "#fb9f3a"
             ],
             [
              0.8888888888888888,
              "#fdca26"
             ],
             [
              1,
              "#f0f921"
             ]
            ],
            "type": "heatmap"
           }
          ],
          "heatmapgl": [
           {
            "colorbar": {
             "outlinewidth": 0,
             "ticks": ""
            },
            "colorscale": [
             [
              0,
              "#0d0887"
             ],
             [
              0.1111111111111111,
              "#46039f"
             ],
             [
              0.2222222222222222,
              "#7201a8"
             ],
             [
              0.3333333333333333,
              "#9c179e"
             ],
             [
              0.4444444444444444,
              "#bd3786"
             ],
             [
              0.5555555555555556,
              "#d8576b"
             ],
             [
              0.6666666666666666,
              "#ed7953"
             ],
             [
              0.7777777777777778,
              "#fb9f3a"
             ],
             [
              0.8888888888888888,
              "#fdca26"
             ],
             [
              1,
              "#f0f921"
             ]
            ],
            "type": "heatmapgl"
           }
          ],
          "histogram": [
           {
            "marker": {
             "pattern": {
              "fillmode": "overlay",
              "size": 10,
              "solidity": 0.2
             }
            },
            "type": "histogram"
           }
          ],
          "histogram2d": [
           {
            "colorbar": {
             "outlinewidth": 0,
             "ticks": ""
            },
            "colorscale": [
             [
              0,
              "#0d0887"
             ],
             [
              0.1111111111111111,
              "#46039f"
             ],
             [
              0.2222222222222222,
              "#7201a8"
             ],
             [
              0.3333333333333333,
              "#9c179e"
             ],
             [
              0.4444444444444444,
              "#bd3786"
             ],
             [
              0.5555555555555556,
              "#d8576b"
             ],
             [
              0.6666666666666666,
              "#ed7953"
             ],
             [
              0.7777777777777778,
              "#fb9f3a"
             ],
             [
              0.8888888888888888,
              "#fdca26"
             ],
             [
              1,
              "#f0f921"
             ]
            ],
            "type": "histogram2d"
           }
          ],
          "histogram2dcontour": [
           {
            "colorbar": {
             "outlinewidth": 0,
             "ticks": ""
            },
            "colorscale": [
             [
              0,
              "#0d0887"
             ],
             [
              0.1111111111111111,
              "#46039f"
             ],
             [
              0.2222222222222222,
              "#7201a8"
             ],
             [
              0.3333333333333333,
              "#9c179e"
             ],
             [
              0.4444444444444444,
              "#bd3786"
             ],
             [
              0.5555555555555556,
              "#d8576b"
             ],
             [
              0.6666666666666666,
              "#ed7953"
             ],
             [
              0.7777777777777778,
              "#fb9f3a"
             ],
             [
              0.8888888888888888,
              "#fdca26"
             ],
             [
              1,
              "#f0f921"
             ]
            ],
            "type": "histogram2dcontour"
           }
          ],
          "mesh3d": [
           {
            "colorbar": {
             "outlinewidth": 0,
             "ticks": ""
            },
            "type": "mesh3d"
           }
          ],
          "parcoords": [
           {
            "line": {
             "colorbar": {
              "outlinewidth": 0,
              "ticks": ""
             }
            },
            "type": "parcoords"
           }
          ],
          "pie": [
           {
            "automargin": true,
            "type": "pie"
           }
          ],
          "scatter": [
           {
            "marker": {
             "colorbar": {
              "outlinewidth": 0,
              "ticks": ""
             }
            },
            "type": "scatter"
           }
          ],
          "scatter3d": [
           {
            "line": {
             "colorbar": {
              "outlinewidth": 0,
              "ticks": ""
             }
            },
            "marker": {
             "colorbar": {
              "outlinewidth": 0,
              "ticks": ""
             }
            },
            "type": "scatter3d"
           }
          ],
          "scattercarpet": [
           {
            "marker": {
             "colorbar": {
              "outlinewidth": 0,
              "ticks": ""
             }
            },
            "type": "scattercarpet"
           }
          ],
          "scattergeo": [
           {
            "marker": {
             "colorbar": {
              "outlinewidth": 0,
              "ticks": ""
             }
            },
            "type": "scattergeo"
           }
          ],
          "scattergl": [
           {
            "marker": {
             "colorbar": {
              "outlinewidth": 0,
              "ticks": ""
             }
            },
            "type": "scattergl"
           }
          ],
          "scattermapbox": [
           {
            "marker": {
             "colorbar": {
              "outlinewidth": 0,
              "ticks": ""
             }
            },
            "type": "scattermapbox"
           }
          ],
          "scatterpolar": [
           {
            "marker": {
             "colorbar": {
              "outlinewidth": 0,
              "ticks": ""
             }
            },
            "type": "scatterpolar"
           }
          ],
          "scatterpolargl": [
           {
            "marker": {
             "colorbar": {
              "outlinewidth": 0,
              "ticks": ""
             }
            },
            "type": "scatterpolargl"
           }
          ],
          "scatterternary": [
           {
            "marker": {
             "colorbar": {
              "outlinewidth": 0,
              "ticks": ""
             }
            },
            "type": "scatterternary"
           }
          ],
          "surface": [
           {
            "colorbar": {
             "outlinewidth": 0,
             "ticks": ""
            },
            "colorscale": [
             [
              0,
              "#0d0887"
             ],
             [
              0.1111111111111111,
              "#46039f"
             ],
             [
              0.2222222222222222,
              "#7201a8"
             ],
             [
              0.3333333333333333,
              "#9c179e"
             ],
             [
              0.4444444444444444,
              "#bd3786"
             ],
             [
              0.5555555555555556,
              "#d8576b"
             ],
             [
              0.6666666666666666,
              "#ed7953"
             ],
             [
              0.7777777777777778,
              "#fb9f3a"
             ],
             [
              0.8888888888888888,
              "#fdca26"
             ],
             [
              1,
              "#f0f921"
             ]
            ],
            "type": "surface"
           }
          ],
          "table": [
           {
            "cells": {
             "fill": {
              "color": "#EBF0F8"
             },
             "line": {
              "color": "white"
             }
            },
            "header": {
             "fill": {
              "color": "#C8D4E3"
             },
             "line": {
              "color": "white"
             }
            },
            "type": "table"
           }
          ]
         },
         "layout": {
          "annotationdefaults": {
           "arrowcolor": "#2a3f5f",
           "arrowhead": 0,
           "arrowwidth": 1
          },
          "autotypenumbers": "strict",
          "coloraxis": {
           "colorbar": {
            "outlinewidth": 0,
            "ticks": ""
           }
          },
          "colorscale": {
           "diverging": [
            [
             0,
             "#8e0152"
            ],
            [
             0.1,
             "#c51b7d"
            ],
            [
             0.2,
             "#de77ae"
            ],
            [
             0.3,
             "#f1b6da"
            ],
            [
             0.4,
             "#fde0ef"
            ],
            [
             0.5,
             "#f7f7f7"
            ],
            [
             0.6,
             "#e6f5d0"
            ],
            [
             0.7,
             "#b8e186"
            ],
            [
             0.8,
             "#7fbc41"
            ],
            [
             0.9,
             "#4d9221"
            ],
            [
             1,
             "#276419"
            ]
           ],
           "sequential": [
            [
             0,
             "#0d0887"
            ],
            [
             0.1111111111111111,
             "#46039f"
            ],
            [
             0.2222222222222222,
             "#7201a8"
            ],
            [
             0.3333333333333333,
             "#9c179e"
            ],
            [
             0.4444444444444444,
             "#bd3786"
            ],
            [
             0.5555555555555556,
             "#d8576b"
            ],
            [
             0.6666666666666666,
             "#ed7953"
            ],
            [
             0.7777777777777778,
             "#fb9f3a"
            ],
            [
             0.8888888888888888,
             "#fdca26"
            ],
            [
             1,
             "#f0f921"
            ]
           ],
           "sequentialminus": [
            [
             0,
             "#0d0887"
            ],
            [
             0.1111111111111111,
             "#46039f"
            ],
            [
             0.2222222222222222,
             "#7201a8"
            ],
            [
             0.3333333333333333,
             "#9c179e"
            ],
            [
             0.4444444444444444,
             "#bd3786"
            ],
            [
             0.5555555555555556,
             "#d8576b"
            ],
            [
             0.6666666666666666,
             "#ed7953"
            ],
            [
             0.7777777777777778,
             "#fb9f3a"
            ],
            [
             0.8888888888888888,
             "#fdca26"
            ],
            [
             1,
             "#f0f921"
            ]
           ]
          },
          "colorway": [
           "#636efa",
           "#EF553B",
           "#00cc96",
           "#ab63fa",
           "#FFA15A",
           "#19d3f3",
           "#FF6692",
           "#B6E880",
           "#FF97FF",
           "#FECB52"
          ],
          "font": {
           "color": "#2a3f5f"
          },
          "geo": {
           "bgcolor": "white",
           "lakecolor": "white",
           "landcolor": "#E5ECF6",
           "showlakes": true,
           "showland": true,
           "subunitcolor": "white"
          },
          "hoverlabel": {
           "align": "left"
          },
          "hovermode": "closest",
          "mapbox": {
           "style": "light"
          },
          "paper_bgcolor": "white",
          "plot_bgcolor": "#E5ECF6",
          "polar": {
           "angularaxis": {
            "gridcolor": "white",
            "linecolor": "white",
            "ticks": ""
           },
           "bgcolor": "#E5ECF6",
           "radialaxis": {
            "gridcolor": "white",
            "linecolor": "white",
            "ticks": ""
           }
          },
          "scene": {
           "xaxis": {
            "backgroundcolor": "#E5ECF6",
            "gridcolor": "white",
            "gridwidth": 2,
            "linecolor": "white",
            "showbackground": true,
            "ticks": "",
            "zerolinecolor": "white"
           },
           "yaxis": {
            "backgroundcolor": "#E5ECF6",
            "gridcolor": "white",
            "gridwidth": 2,
            "linecolor": "white",
            "showbackground": true,
            "ticks": "",
            "zerolinecolor": "white"
           },
           "zaxis": {
            "backgroundcolor": "#E5ECF6",
            "gridcolor": "white",
            "gridwidth": 2,
            "linecolor": "white",
            "showbackground": true,
            "ticks": "",
            "zerolinecolor": "white"
           }
          },
          "shapedefaults": {
           "line": {
            "color": "#2a3f5f"
           }
          },
          "ternary": {
           "aaxis": {
            "gridcolor": "white",
            "linecolor": "white",
            "ticks": ""
           },
           "baxis": {
            "gridcolor": "white",
            "linecolor": "white",
            "ticks": ""
           },
           "bgcolor": "#E5ECF6",
           "caxis": {
            "gridcolor": "white",
            "linecolor": "white",
            "ticks": ""
           }
          },
          "title": {
           "x": 0.05
          },
          "xaxis": {
           "automargin": true,
           "gridcolor": "white",
           "linecolor": "white",
           "ticks": "",
           "title": {
            "standoff": 15
           },
           "zerolinecolor": "white",
           "zerolinewidth": 2
          },
          "yaxis": {
           "automargin": true,
           "gridcolor": "white",
           "linecolor": "white",
           "ticks": "",
           "title": {
            "standoff": 15
           },
           "zerolinecolor": "white",
           "zerolinewidth": 2
          }
         }
        },
        "title": {
         "text": "Slice Plot"
        },
        "xaxis": {
         "anchor": "y",
         "domain": [
          0,
          0.45
         ],
         "title": {
          "text": "C"
         }
        },
        "xaxis2": {
         "anchor": "y2",
         "domain": [
          0.55,
          1
         ],
         "title": {
          "text": "solver"
         }
        },
        "yaxis": {
         "anchor": "x",
         "domain": [
          0,
          1
         ],
         "title": {
          "text": "Objective Value"
         }
        },
        "yaxis2": {
         "anchor": "x2",
         "domain": [
          0,
          1
         ],
         "matches": "y",
         "showticklabels": false
        }
       }
      }
     },
     "metadata": {},
     "output_type": "display_data"
    }
   ],
   "source": [
    "optuna.visualization.plot_slice(study_3)"
   ]
  },
  {
   "cell_type": "code",
   "execution_count": 6,
   "metadata": {},
   "outputs": [
    {
     "data": {
      "application/vnd.plotly.v1+json": {
       "config": {
        "plotlyServerURL": "https://plot.ly"
       },
       "data": [
        {
         "cliponaxis": false,
         "hovertemplate": [
          "solver (CategoricalDistribution): 0.029888619488202463<extra></extra>",
          "C (UniformDistribution): 0.9701113805117975<extra></extra>"
         ],
         "marker": {
          "color": [
           "rgb(66,146,198)",
           "rgb(8,48,107)"
          ]
         },
         "orientation": "h",
         "text": [
          "0.029888619488202463",
          "0.9701113805117975"
         ],
         "textposition": "outside",
         "texttemplate": "%{text:.2f}",
         "type": "bar",
         "x": [
          0.029888619488202463,
          0.9701113805117975
         ],
         "y": [
          "solver",
          "C"
         ]
        }
       ],
       "layout": {
        "showlegend": false,
        "template": {
         "data": {
          "bar": [
           {
            "error_x": {
             "color": "#2a3f5f"
            },
            "error_y": {
             "color": "#2a3f5f"
            },
            "marker": {
             "line": {
              "color": "#E5ECF6",
              "width": 0.5
             },
             "pattern": {
              "fillmode": "overlay",
              "size": 10,
              "solidity": 0.2
             }
            },
            "type": "bar"
           }
          ],
          "barpolar": [
           {
            "marker": {
             "line": {
              "color": "#E5ECF6",
              "width": 0.5
             },
             "pattern": {
              "fillmode": "overlay",
              "size": 10,
              "solidity": 0.2
             }
            },
            "type": "barpolar"
           }
          ],
          "carpet": [
           {
            "aaxis": {
             "endlinecolor": "#2a3f5f",
             "gridcolor": "white",
             "linecolor": "white",
             "minorgridcolor": "white",
             "startlinecolor": "#2a3f5f"
            },
            "baxis": {
             "endlinecolor": "#2a3f5f",
             "gridcolor": "white",
             "linecolor": "white",
             "minorgridcolor": "white",
             "startlinecolor": "#2a3f5f"
            },
            "type": "carpet"
           }
          ],
          "choropleth": [
           {
            "colorbar": {
             "outlinewidth": 0,
             "ticks": ""
            },
            "type": "choropleth"
           }
          ],
          "contour": [
           {
            "colorbar": {
             "outlinewidth": 0,
             "ticks": ""
            },
            "colorscale": [
             [
              0,
              "#0d0887"
             ],
             [
              0.1111111111111111,
              "#46039f"
             ],
             [
              0.2222222222222222,
              "#7201a8"
             ],
             [
              0.3333333333333333,
              "#9c179e"
             ],
             [
              0.4444444444444444,
              "#bd3786"
             ],
             [
              0.5555555555555556,
              "#d8576b"
             ],
             [
              0.6666666666666666,
              "#ed7953"
             ],
             [
              0.7777777777777778,
              "#fb9f3a"
             ],
             [
              0.8888888888888888,
              "#fdca26"
             ],
             [
              1,
              "#f0f921"
             ]
            ],
            "type": "contour"
           }
          ],
          "contourcarpet": [
           {
            "colorbar": {
             "outlinewidth": 0,
             "ticks": ""
            },
            "type": "contourcarpet"
           }
          ],
          "heatmap": [
           {
            "colorbar": {
             "outlinewidth": 0,
             "ticks": ""
            },
            "colorscale": [
             [
              0,
              "#0d0887"
             ],
             [
              0.1111111111111111,
              "#46039f"
             ],
             [
              0.2222222222222222,
              "#7201a8"
             ],
             [
              0.3333333333333333,
              "#9c179e"
             ],
             [
              0.4444444444444444,
              "#bd3786"
             ],
             [
              0.5555555555555556,
              "#d8576b"
             ],
             [
              0.6666666666666666,
              "#ed7953"
             ],
             [
              0.7777777777777778,
              "#fb9f3a"
             ],
             [
              0.8888888888888888,
              "#fdca26"
             ],
             [
              1,
              "#f0f921"
             ]
            ],
            "type": "heatmap"
           }
          ],
          "heatmapgl": [
           {
            "colorbar": {
             "outlinewidth": 0,
             "ticks": ""
            },
            "colorscale": [
             [
              0,
              "#0d0887"
             ],
             [
              0.1111111111111111,
              "#46039f"
             ],
             [
              0.2222222222222222,
              "#7201a8"
             ],
             [
              0.3333333333333333,
              "#9c179e"
             ],
             [
              0.4444444444444444,
              "#bd3786"
             ],
             [
              0.5555555555555556,
              "#d8576b"
             ],
             [
              0.6666666666666666,
              "#ed7953"
             ],
             [
              0.7777777777777778,
              "#fb9f3a"
             ],
             [
              0.8888888888888888,
              "#fdca26"
             ],
             [
              1,
              "#f0f921"
             ]
            ],
            "type": "heatmapgl"
           }
          ],
          "histogram": [
           {
            "marker": {
             "pattern": {
              "fillmode": "overlay",
              "size": 10,
              "solidity": 0.2
             }
            },
            "type": "histogram"
           }
          ],
          "histogram2d": [
           {
            "colorbar": {
             "outlinewidth": 0,
             "ticks": ""
            },
            "colorscale": [
             [
              0,
              "#0d0887"
             ],
             [
              0.1111111111111111,
              "#46039f"
             ],
             [
              0.2222222222222222,
              "#7201a8"
             ],
             [
              0.3333333333333333,
              "#9c179e"
             ],
             [
              0.4444444444444444,
              "#bd3786"
             ],
             [
              0.5555555555555556,
              "#d8576b"
             ],
             [
              0.6666666666666666,
              "#ed7953"
             ],
             [
              0.7777777777777778,
              "#fb9f3a"
             ],
             [
              0.8888888888888888,
              "#fdca26"
             ],
             [
              1,
              "#f0f921"
             ]
            ],
            "type": "histogram2d"
           }
          ],
          "histogram2dcontour": [
           {
            "colorbar": {
             "outlinewidth": 0,
             "ticks": ""
            },
            "colorscale": [
             [
              0,
              "#0d0887"
             ],
             [
              0.1111111111111111,
              "#46039f"
             ],
             [
              0.2222222222222222,
              "#7201a8"
             ],
             [
              0.3333333333333333,
              "#9c179e"
             ],
             [
              0.4444444444444444,
              "#bd3786"
             ],
             [
              0.5555555555555556,
              "#d8576b"
             ],
             [
              0.6666666666666666,
              "#ed7953"
             ],
             [
              0.7777777777777778,
              "#fb9f3a"
             ],
             [
              0.8888888888888888,
              "#fdca26"
             ],
             [
              1,
              "#f0f921"
             ]
            ],
            "type": "histogram2dcontour"
           }
          ],
          "mesh3d": [
           {
            "colorbar": {
             "outlinewidth": 0,
             "ticks": ""
            },
            "type": "mesh3d"
           }
          ],
          "parcoords": [
           {
            "line": {
             "colorbar": {
              "outlinewidth": 0,
              "ticks": ""
             }
            },
            "type": "parcoords"
           }
          ],
          "pie": [
           {
            "automargin": true,
            "type": "pie"
           }
          ],
          "scatter": [
           {
            "marker": {
             "colorbar": {
              "outlinewidth": 0,
              "ticks": ""
             }
            },
            "type": "scatter"
           }
          ],
          "scatter3d": [
           {
            "line": {
             "colorbar": {
              "outlinewidth": 0,
              "ticks": ""
             }
            },
            "marker": {
             "colorbar": {
              "outlinewidth": 0,
              "ticks": ""
             }
            },
            "type": "scatter3d"
           }
          ],
          "scattercarpet": [
           {
            "marker": {
             "colorbar": {
              "outlinewidth": 0,
              "ticks": ""
             }
            },
            "type": "scattercarpet"
           }
          ],
          "scattergeo": [
           {
            "marker": {
             "colorbar": {
              "outlinewidth": 0,
              "ticks": ""
             }
            },
            "type": "scattergeo"
           }
          ],
          "scattergl": [
           {
            "marker": {
             "colorbar": {
              "outlinewidth": 0,
              "ticks": ""
             }
            },
            "type": "scattergl"
           }
          ],
          "scattermapbox": [
           {
            "marker": {
             "colorbar": {
              "outlinewidth": 0,
              "ticks": ""
             }
            },
            "type": "scattermapbox"
           }
          ],
          "scatterpolar": [
           {
            "marker": {
             "colorbar": {
              "outlinewidth": 0,
              "ticks": ""
             }
            },
            "type": "scatterpolar"
           }
          ],
          "scatterpolargl": [
           {
            "marker": {
             "colorbar": {
              "outlinewidth": 0,
              "ticks": ""
             }
            },
            "type": "scatterpolargl"
           }
          ],
          "scatterternary": [
           {
            "marker": {
             "colorbar": {
              "outlinewidth": 0,
              "ticks": ""
             }
            },
            "type": "scatterternary"
           }
          ],
          "surface": [
           {
            "colorbar": {
             "outlinewidth": 0,
             "ticks": ""
            },
            "colorscale": [
             [
              0,
              "#0d0887"
             ],
             [
              0.1111111111111111,
              "#46039f"
             ],
             [
              0.2222222222222222,
              "#7201a8"
             ],
             [
              0.3333333333333333,
              "#9c179e"
             ],
             [
              0.4444444444444444,
              "#bd3786"
             ],
             [
              0.5555555555555556,
              "#d8576b"
             ],
             [
              0.6666666666666666,
              "#ed7953"
             ],
             [
              0.7777777777777778,
              "#fb9f3a"
             ],
             [
              0.8888888888888888,
              "#fdca26"
             ],
             [
              1,
              "#f0f921"
             ]
            ],
            "type": "surface"
           }
          ],
          "table": [
           {
            "cells": {
             "fill": {
              "color": "#EBF0F8"
             },
             "line": {
              "color": "white"
             }
            },
            "header": {
             "fill": {
              "color": "#C8D4E3"
             },
             "line": {
              "color": "white"
             }
            },
            "type": "table"
           }
          ]
         },
         "layout": {
          "annotationdefaults": {
           "arrowcolor": "#2a3f5f",
           "arrowhead": 0,
           "arrowwidth": 1
          },
          "autotypenumbers": "strict",
          "coloraxis": {
           "colorbar": {
            "outlinewidth": 0,
            "ticks": ""
           }
          },
          "colorscale": {
           "diverging": [
            [
             0,
             "#8e0152"
            ],
            [
             0.1,
             "#c51b7d"
            ],
            [
             0.2,
             "#de77ae"
            ],
            [
             0.3,
             "#f1b6da"
            ],
            [
             0.4,
             "#fde0ef"
            ],
            [
             0.5,
             "#f7f7f7"
            ],
            [
             0.6,
             "#e6f5d0"
            ],
            [
             0.7,
             "#b8e186"
            ],
            [
             0.8,
             "#7fbc41"
            ],
            [
             0.9,
             "#4d9221"
            ],
            [
             1,
             "#276419"
            ]
           ],
           "sequential": [
            [
             0,
             "#0d0887"
            ],
            [
             0.1111111111111111,
             "#46039f"
            ],
            [
             0.2222222222222222,
             "#7201a8"
            ],
            [
             0.3333333333333333,
             "#9c179e"
            ],
            [
             0.4444444444444444,
             "#bd3786"
            ],
            [
             0.5555555555555556,
             "#d8576b"
            ],
            [
             0.6666666666666666,
             "#ed7953"
            ],
            [
             0.7777777777777778,
             "#fb9f3a"
            ],
            [
             0.8888888888888888,
             "#fdca26"
            ],
            [
             1,
             "#f0f921"
            ]
           ],
           "sequentialminus": [
            [
             0,
             "#0d0887"
            ],
            [
             0.1111111111111111,
             "#46039f"
            ],
            [
             0.2222222222222222,
             "#7201a8"
            ],
            [
             0.3333333333333333,
             "#9c179e"
            ],
            [
             0.4444444444444444,
             "#bd3786"
            ],
            [
             0.5555555555555556,
             "#d8576b"
            ],
            [
             0.6666666666666666,
             "#ed7953"
            ],
            [
             0.7777777777777778,
             "#fb9f3a"
            ],
            [
             0.8888888888888888,
             "#fdca26"
            ],
            [
             1,
             "#f0f921"
            ]
           ]
          },
          "colorway": [
           "#636efa",
           "#EF553B",
           "#00cc96",
           "#ab63fa",
           "#FFA15A",
           "#19d3f3",
           "#FF6692",
           "#B6E880",
           "#FF97FF",
           "#FECB52"
          ],
          "font": {
           "color": "#2a3f5f"
          },
          "geo": {
           "bgcolor": "white",
           "lakecolor": "white",
           "landcolor": "#E5ECF6",
           "showlakes": true,
           "showland": true,
           "subunitcolor": "white"
          },
          "hoverlabel": {
           "align": "left"
          },
          "hovermode": "closest",
          "mapbox": {
           "style": "light"
          },
          "paper_bgcolor": "white",
          "plot_bgcolor": "#E5ECF6",
          "polar": {
           "angularaxis": {
            "gridcolor": "white",
            "linecolor": "white",
            "ticks": ""
           },
           "bgcolor": "#E5ECF6",
           "radialaxis": {
            "gridcolor": "white",
            "linecolor": "white",
            "ticks": ""
           }
          },
          "scene": {
           "xaxis": {
            "backgroundcolor": "#E5ECF6",
            "gridcolor": "white",
            "gridwidth": 2,
            "linecolor": "white",
            "showbackground": true,
            "ticks": "",
            "zerolinecolor": "white"
           },
           "yaxis": {
            "backgroundcolor": "#E5ECF6",
            "gridcolor": "white",
            "gridwidth": 2,
            "linecolor": "white",
            "showbackground": true,
            "ticks": "",
            "zerolinecolor": "white"
           },
           "zaxis": {
            "backgroundcolor": "#E5ECF6",
            "gridcolor": "white",
            "gridwidth": 2,
            "linecolor": "white",
            "showbackground": true,
            "ticks": "",
            "zerolinecolor": "white"
           }
          },
          "shapedefaults": {
           "line": {
            "color": "#2a3f5f"
           }
          },
          "ternary": {
           "aaxis": {
            "gridcolor": "white",
            "linecolor": "white",
            "ticks": ""
           },
           "baxis": {
            "gridcolor": "white",
            "linecolor": "white",
            "ticks": ""
           },
           "bgcolor": "#E5ECF6",
           "caxis": {
            "gridcolor": "white",
            "linecolor": "white",
            "ticks": ""
           }
          },
          "title": {
           "x": 0.05
          },
          "xaxis": {
           "automargin": true,
           "gridcolor": "white",
           "linecolor": "white",
           "ticks": "",
           "title": {
            "standoff": 15
           },
           "zerolinecolor": "white",
           "zerolinewidth": 2
          },
          "yaxis": {
           "automargin": true,
           "gridcolor": "white",
           "linecolor": "white",
           "ticks": "",
           "title": {
            "standoff": 15
           },
           "zerolinecolor": "white",
           "zerolinewidth": 2
          }
         }
        },
        "title": {
         "text": "Hyperparameter Importances"
        },
        "xaxis": {
         "title": {
          "text": "Importance for Objective Value"
         }
        },
        "yaxis": {
         "title": {
          "text": "Hyperparameter"
         }
        }
       }
      }
     },
     "metadata": {},
     "output_type": "display_data"
    }
   ],
   "source": [
    "optuna.visualization.plot_param_importances(study_3)"
   ]
  },
  {
   "cell_type": "markdown",
   "metadata": {},
   "source": [
    "#### Comentários acerca dos resultados da Regressão Logística\n",
    "Vimos que há uma tendência de resultados melhores na região de 0.2 até 0.26 para a variável C. Vamos afunilar e gerar mais testes nesse intervalo."
   ]
  },
  {
   "cell_type": "code",
   "execution_count": 7,
   "metadata": {},
   "outputs": [
    {
     "name": "stderr",
     "output_type": "stream",
     "text": [
      "\u001b[32m[I 2021-12-13 17:53:19,003]\u001b[0m A new study created in memory with name: no-name-ce42977e-cad4-43c8-a88c-c1c38867c807\u001b[0m\n",
      "\u001b[32m[I 2021-12-13 17:53:30,829]\u001b[0m Trial 0 finished with value: 0.6315327322618581 and parameters: {'solver': 'saga', 'C': 0.24683243924552206}. Best is trial 0 with value: 0.6315327322618581.\u001b[0m\n",
      "\u001b[32m[I 2021-12-13 17:53:49,486]\u001b[0m Trial 1 finished with value: 0.6315327322618581 and parameters: {'solver': 'liblinear', 'C': 0.24644369495349933}. Best is trial 0 with value: 0.6315327322618581.\u001b[0m\n",
      "\u001b[32m[I 2021-12-13 17:54:47,903]\u001b[0m Trial 2 finished with value: 0.6315405723245786 and parameters: {'solver': 'newton-cg', 'C': 0.23096729387561515}. Best is trial 2 with value: 0.6315405723245786.\u001b[0m\n",
      "\u001b[32m[I 2021-12-13 17:55:00,556]\u001b[0m Trial 3 finished with value: 0.6315327322618581 and parameters: {'solver': 'saga', 'C': 0.2502997486409192}. Best is trial 2 with value: 0.6315405723245786.\u001b[0m\n",
      "\u001b[32m[I 2021-12-13 17:55:48,734]\u001b[0m Trial 4 finished with value: 0.6315092120736966 and parameters: {'solver': 'newton-cg', 'C': 0.20775547948277212}. Best is trial 2 with value: 0.6315405723245786.\u001b[0m\n",
      "\u001b[32m[I 2021-12-13 17:56:00,787]\u001b[0m Trial 5 finished with value: 0.6315170521364171 and parameters: {'solver': 'saga', 'C': 0.2124200236063185}. Best is trial 2 with value: 0.6315405723245786.\u001b[0m\n",
      "\u001b[32m[I 2021-12-13 17:56:13,063]\u001b[0m Trial 6 finished with value: 0.6315092120736966 and parameters: {'solver': 'saga', 'C': 0.1963930960061364}. Best is trial 2 with value: 0.6315405723245786.\u001b[0m\n",
      "\u001b[32m[I 2021-12-13 17:56:28,126]\u001b[0m Trial 7 finished with value: 0.6313367306938455 and parameters: {'solver': 'lbfgs', 'C': 0.21235618670109935}. Best is trial 2 with value: 0.6315405723245786.\u001b[0m\n",
      "\u001b[32m[I 2021-12-13 17:56:50,338]\u001b[0m Trial 8 finished with value: 0.6315092120736966 and parameters: {'solver': 'sag', 'C': 0.25813895016555877}. Best is trial 2 with value: 0.6315405723245786.\u001b[0m\n",
      "\u001b[32m[I 2021-12-13 17:58:04,165]\u001b[0m Trial 9 finished with value: 0.6315092120736966 and parameters: {'solver': 'newton-cg', 'C': 0.20316898685680146}. Best is trial 2 with value: 0.6315405723245786.\u001b[0m\n",
      "\u001b[32m[I 2021-12-13 17:58:54,780]\u001b[0m Trial 10 finished with value: 0.6315405723245786 and parameters: {'solver': 'newton-cg', 'C': 0.22778793145687184}. Best is trial 2 with value: 0.6315405723245786.\u001b[0m\n",
      "\u001b[32m[I 2021-12-13 17:59:42,598]\u001b[0m Trial 11 finished with value: 0.6315405723245786 and parameters: {'solver': 'newton-cg', 'C': 0.2336088773707623}. Best is trial 2 with value: 0.6315405723245786.\u001b[0m\n",
      "\u001b[32m[I 2021-12-13 18:00:40,429]\u001b[0m Trial 12 finished with value: 0.6315405723245786 and parameters: {'solver': 'newton-cg', 'C': 0.2279261916805474}. Best is trial 2 with value: 0.6315405723245786.\u001b[0m\n",
      "\u001b[32m[I 2021-12-13 18:01:22,170]\u001b[0m Trial 13 finished with value: 0.6315405723245786 and parameters: {'solver': 'newton-cg', 'C': 0.23512507970331903}. Best is trial 2 with value: 0.6315405723245786.\u001b[0m\n",
      "\u001b[32m[I 2021-12-13 18:02:11,794]\u001b[0m Trial 14 finished with value: 0.6315248921991375 and parameters: {'solver': 'newton-cg', 'C': 0.2212772126531317}. Best is trial 2 with value: 0.6315405723245786.\u001b[0m\n",
      "\u001b[32m[I 2021-12-13 18:02:29,754]\u001b[0m Trial 15 finished with value: 0.6315327322618581 and parameters: {'solver': 'liblinear', 'C': 0.22220047554576147}. Best is trial 2 with value: 0.6315405723245786.\u001b[0m\n",
      "\u001b[32m[I 2021-12-13 18:02:41,781]\u001b[0m Trial 16 finished with value: 0.6313680909447276 and parameters: {'solver': 'lbfgs', 'C': 0.23870672131520754}. Best is trial 2 with value: 0.6315405723245786.\u001b[0m\n",
      "\u001b[32m[I 2021-12-13 18:03:07,009]\u001b[0m Trial 17 finished with value: 0.6315640925127401 and parameters: {'solver': 'sag', 'C': 0.23832960730630523}. Best is trial 17 with value: 0.6315640925127401.\u001b[0m\n",
      "\u001b[32m[I 2021-12-13 18:03:28,454]\u001b[0m Trial 18 finished with value: 0.6315092120736966 and parameters: {'solver': 'sag', 'C': 0.25890860331921356}. Best is trial 17 with value: 0.6315640925127401.\u001b[0m\n",
      "\u001b[32m[I 2021-12-13 18:03:51,667]\u001b[0m Trial 19 finished with value: 0.6315484123872991 and parameters: {'solver': 'sag', 'C': 0.2401800322848446}. Best is trial 17 with value: 0.6315640925127401.\u001b[0m\n",
      "\u001b[32m[I 2021-12-13 18:04:15,591]\u001b[0m Trial 20 finished with value: 0.6315405723245786 and parameters: {'solver': 'sag', 'C': 0.24104428209663428}. Best is trial 17 with value: 0.6315640925127401.\u001b[0m\n",
      "\u001b[32m[I 2021-12-13 18:04:37,834]\u001b[0m Trial 21 finished with value: 0.6315405723245786 and parameters: {'solver': 'sag', 'C': 0.2417431880495569}. Best is trial 17 with value: 0.6315640925127401.\u001b[0m\n",
      "\u001b[32m[I 2021-12-13 18:05:01,687]\u001b[0m Trial 22 finished with value: 0.6315484123872991 and parameters: {'solver': 'sag', 'C': 0.22379859313737488}. Best is trial 17 with value: 0.6315640925127401.\u001b[0m\n",
      "\u001b[32m[I 2021-12-13 18:05:25,730]\u001b[0m Trial 23 finished with value: 0.6315248921991375 and parameters: {'solver': 'sag', 'C': 0.22026105693489417}. Best is trial 17 with value: 0.6315640925127401.\u001b[0m\n",
      "\u001b[32m[I 2021-12-13 18:05:47,359]\u001b[0m Trial 24 finished with value: 0.6315092120736966 and parameters: {'solver': 'sag', 'C': 0.2536171285242527}. Best is trial 17 with value: 0.6315640925127401.\u001b[0m\n",
      "\u001b[32m[I 2021-12-13 18:06:10,405]\u001b[0m Trial 25 finished with value: 0.6315484123872991 and parameters: {'solver': 'sag', 'C': 0.23775937954220988}. Best is trial 17 with value: 0.6315640925127401.\u001b[0m\n",
      "\u001b[32m[I 2021-12-13 18:06:35,660]\u001b[0m Trial 26 finished with value: 0.6315248921991375 and parameters: {'solver': 'sag', 'C': 0.2175890470774522}. Best is trial 17 with value: 0.6315640925127401.\u001b[0m\n",
      "\u001b[32m[I 2021-12-13 18:06:59,570]\u001b[0m Trial 27 finished with value: 0.6315092120736966 and parameters: {'solver': 'sag', 'C': 0.24573443801061115}. Best is trial 17 with value: 0.6315640925127401.\u001b[0m\n",
      "\u001b[32m[I 2021-12-13 18:07:23,476]\u001b[0m Trial 28 finished with value: 0.6315484123872991 and parameters: {'solver': 'sag', 'C': 0.2340819591755565}. Best is trial 17 with value: 0.6315640925127401.\u001b[0m\n",
      "\u001b[32m[I 2021-12-13 18:07:47,802]\u001b[0m Trial 29 finished with value: 0.6315719325754606 and parameters: {'solver': 'sag', 'C': 0.2360967624268411}. Best is trial 29 with value: 0.6315719325754606.\u001b[0m\n",
      "\u001b[32m[I 2021-12-13 18:08:10,189]\u001b[0m Trial 30 finished with value: 0.6315092120736966 and parameters: {'solver': 'sag', 'C': 0.25197453496046585}. Best is trial 29 with value: 0.6315719325754606.\u001b[0m\n",
      "\u001b[32m[I 2021-12-13 18:08:35,262]\u001b[0m Trial 31 finished with value: 0.6315484123872991 and parameters: {'solver': 'sag', 'C': 0.23282664125706914}. Best is trial 29 with value: 0.6315719325754606.\u001b[0m\n",
      "\u001b[32m[I 2021-12-13 18:08:52,585]\u001b[0m Trial 32 finished with value: 0.6315484123872991 and parameters: {'solver': 'liblinear', 'C': 0.2312379023723466}. Best is trial 29 with value: 0.6315719325754606.\u001b[0m\n",
      "\u001b[32m[I 2021-12-13 18:09:09,639]\u001b[0m Trial 33 finished with value: 0.6315327322618581 and parameters: {'solver': 'liblinear', 'C': 0.22844020304631202}. Best is trial 29 with value: 0.6315719325754606.\u001b[0m\n",
      "\u001b[32m[I 2021-12-13 18:09:32,935]\u001b[0m Trial 34 finished with value: 0.6315092120736966 and parameters: {'solver': 'sag', 'C': 0.24489411551753681}. Best is trial 29 with value: 0.6315719325754606.\u001b[0m\n",
      "\u001b[32m[I 2021-12-13 18:09:49,699]\u001b[0m Trial 35 finished with value: 0.6315484123872991 and parameters: {'solver': 'liblinear', 'C': 0.23157341024317407}. Best is trial 29 with value: 0.6315719325754606.\u001b[0m\n",
      "\u001b[32m[I 2021-12-13 18:10:06,543]\u001b[0m Trial 36 finished with value: 0.6315327322618581 and parameters: {'solver': 'liblinear', 'C': 0.23601376815604988}. Best is trial 29 with value: 0.6315719325754606.\u001b[0m\n",
      "\u001b[32m[I 2021-12-13 18:10:22,526]\u001b[0m Trial 37 finished with value: 0.6315248921991375 and parameters: {'solver': 'liblinear', 'C': 0.24723329622367238}. Best is trial 29 with value: 0.6315719325754606.\u001b[0m\n",
      "\u001b[32m[I 2021-12-13 18:10:47,445]\u001b[0m Trial 38 finished with value: 0.6315248921991375 and parameters: {'solver': 'sag', 'C': 0.24206920159005874}. Best is trial 29 with value: 0.6315719325754606.\u001b[0m\n",
      "\u001b[32m[I 2021-12-13 18:10:58,955]\u001b[0m Trial 39 finished with value: 0.6315092120736966 and parameters: {'solver': 'saga', 'C': 0.21477802999147932}. Best is trial 29 with value: 0.6315719325754606.\u001b[0m\n",
      "\u001b[32m[I 2021-12-13 18:11:11,393]\u001b[0m Trial 40 finished with value: 0.6315013720109761 and parameters: {'solver': 'lbfgs', 'C': 0.2233535218428334}. Best is trial 29 with value: 0.6315719325754606.\u001b[0m\n",
      "\u001b[32m[I 2021-12-13 18:11:36,181]\u001b[0m Trial 41 finished with value: 0.6315719325754606 and parameters: {'solver': 'sag', 'C': 0.23695225760055608}. Best is trial 29 with value: 0.6315719325754606.\u001b[0m\n",
      "\u001b[32m[I 2021-12-13 18:11:52,887]\u001b[0m Trial 42 finished with value: 0.6315484123872991 and parameters: {'solver': 'liblinear', 'C': 0.23016013645390984}. Best is trial 29 with value: 0.6315719325754606.\u001b[0m\n",
      "\u001b[32m[I 2021-12-13 18:12:09,310]\u001b[0m Trial 43 finished with value: 0.6315327322618581 and parameters: {'solver': 'liblinear', 'C': 0.22985042634483688}. Best is trial 29 with value: 0.6315719325754606.\u001b[0m\n",
      "\u001b[32m[I 2021-12-13 18:12:32,569]\u001b[0m Trial 44 finished with value: 0.6315719325754606 and parameters: {'solver': 'sag', 'C': 0.23656835024485606}. Best is trial 29 with value: 0.6315719325754606.\u001b[0m\n",
      "\u001b[32m[I 2021-12-13 18:12:44,052]\u001b[0m Trial 45 finished with value: 0.6315327322618581 and parameters: {'solver': 'saga', 'C': 0.2489927140039956}. Best is trial 29 with value: 0.6315719325754606.\u001b[0m\n",
      "\u001b[32m[I 2021-12-13 18:13:08,158]\u001b[0m Trial 46 finished with value: 0.6315484123872991 and parameters: {'solver': 'sag', 'C': 0.22624251586718486}. Best is trial 29 with value: 0.6315719325754606.\u001b[0m\n",
      "\u001b[32m[I 2021-12-13 18:13:32,783]\u001b[0m Trial 47 finished with value: 0.6315797726381811 and parameters: {'solver': 'sag', 'C': 0.23708588227231753}. Best is trial 47 with value: 0.6315797726381811.\u001b[0m\n",
      "\u001b[32m[I 2021-12-13 18:13:55,442]\u001b[0m Trial 48 finished with value: 0.6315248921991375 and parameters: {'solver': 'sag', 'C': 0.24322517198264107}. Best is trial 47 with value: 0.6315797726381811.\u001b[0m\n",
      "\u001b[32m[I 2021-12-13 18:14:18,722]\u001b[0m Trial 49 finished with value: 0.6315719325754606 and parameters: {'solver': 'sag', 'C': 0.2372060807103527}. Best is trial 47 with value: 0.6315797726381811.\u001b[0m\n",
      "\u001b[32m[I 2021-12-13 18:14:42,986]\u001b[0m Trial 50 finished with value: 0.6315797726381811 and parameters: {'solver': 'sag', 'C': 0.23664838991030696}. Best is trial 47 with value: 0.6315797726381811.\u001b[0m\n",
      "\u001b[32m[I 2021-12-13 18:15:07,265]\u001b[0m Trial 51 finished with value: 0.6315640925127401 and parameters: {'solver': 'sag', 'C': 0.2354383883269074}. Best is trial 47 with value: 0.6315797726381811.\u001b[0m\n",
      "\u001b[32m[I 2021-12-13 18:15:30,491]\u001b[0m Trial 52 finished with value: 0.6315719325754606 and parameters: {'solver': 'sag', 'C': 0.23610408821306403}. Best is trial 47 with value: 0.6315797726381811.\u001b[0m\n",
      "\u001b[32m[I 2021-12-13 18:15:55,283]\u001b[0m Trial 53 finished with value: 0.6315640925127401 and parameters: {'solver': 'sag', 'C': 0.2389454478740418}. Best is trial 47 with value: 0.6315797726381811.\u001b[0m\n",
      "\u001b[32m[I 2021-12-13 18:16:09,191]\u001b[0m Trial 54 finished with value: 0.6313367306938455 and parameters: {'solver': 'lbfgs', 'C': 0.25576384551400083}. Best is trial 47 with value: 0.6315797726381811.\u001b[0m\n",
      "\u001b[32m[I 2021-12-13 18:16:33,287]\u001b[0m Trial 55 finished with value: 0.6315484123872991 and parameters: {'solver': 'sag', 'C': 0.22594710511617722}. Best is trial 47 with value: 0.6315797726381811.\u001b[0m\n",
      "\u001b[32m[I 2021-12-13 18:16:55,513]\u001b[0m Trial 56 finished with value: 0.6315092120736966 and parameters: {'solver': 'sag', 'C': 0.24407676624418756}. Best is trial 47 with value: 0.6315797726381811.\u001b[0m\n",
      "\u001b[32m[I 2021-12-13 18:17:16,827]\u001b[0m Trial 57 finished with value: 0.6315248921991375 and parameters: {'solver': 'sag', 'C': 0.24859897970991518}. Best is trial 47 with value: 0.6315797726381811.\u001b[0m\n",
      "\u001b[32m[I 2021-12-13 18:17:41,445]\u001b[0m Trial 58 finished with value: 0.6315797726381811 and parameters: {'solver': 'sag', 'C': 0.23733509116013135}. Best is trial 47 with value: 0.6315797726381811.\u001b[0m\n",
      "\u001b[32m[I 2021-12-13 18:18:05,986]\u001b[0m Trial 59 finished with value: 0.6315562524500196 and parameters: {'solver': 'sag', 'C': 0.24027629709865264}. Best is trial 47 with value: 0.6315797726381811.\u001b[0m\n",
      "\u001b[32m[I 2021-12-13 18:18:17,875]\u001b[0m Trial 60 finished with value: 0.6315640925127401 and parameters: {'solver': 'saga', 'C': 0.23347016311973762}. Best is trial 47 with value: 0.6315797726381811.\u001b[0m\n",
      "\u001b[32m[I 2021-12-13 18:18:45,128]\u001b[0m Trial 61 finished with value: 0.6315405723245786 and parameters: {'solver': 'sag', 'C': 0.23674017787132007}. Best is trial 47 with value: 0.6315797726381811.\u001b[0m\n",
      "\u001b[32m[I 2021-12-13 18:19:12,200]\u001b[0m Trial 62 finished with value: 0.6315640925127401 and parameters: {'solver': 'sag', 'C': 0.23920829130306664}. Best is trial 47 with value: 0.6315797726381811.\u001b[0m\n",
      "\u001b[32m[I 2021-12-13 18:19:38,259]\u001b[0m Trial 63 finished with value: 0.6315640925127401 and parameters: {'solver': 'sag', 'C': 0.23483146826742954}. Best is trial 47 with value: 0.6315797726381811.\u001b[0m\n"
     ]
    }
   ],
   "source": [
    "def rl(trial):\n",
    "    # penalty = trial.suggest_categorical(\"penalty\", [\"none\", \"l2\", \"l1\", \"elasticnet\"])\n",
    "    solver = trial.suggest_categorical(\"solver\", [\"newton-cg\", \"lbfgs\", \"liblinear\", \"sag\", \"saga\"])\n",
    "    C = trial.suggest_float(\"C\", 0.19, 0.26)\n",
    "    multi_class = \"ovr\"\n",
    "\n",
    "    regressao_log = LogisticRegression(max_iter=1000,\n",
    "                                    random_state=1, \n",
    "                                    solver=solver, \n",
    "                                    C=C, \n",
    "                                    multi_class=multi_class).fit(df_treino, [0]*len(treino_ina)+[1]*len(treino_adi))\n",
    "\n",
    "    best_rl.append(regressao_log)\n",
    "    \n",
    "    rl_pred_class = regressao_log.predict(df_validacao)\n",
    "    rl_pred_scores = regressao_log.predict_proba(df_validacao)\n",
    "    \n",
    "    accuracy, recall, precision, f1, auroc, aupr = compute_performance_metrics_sem_plot([0]*len(valid_ina)+[1]*len(valid_adi), rl_pred_class, rl_pred_scores)\n",
    "    \n",
    "    return accuracy\n",
    "\n",
    "study_3 = optuna.create_study(direction=\"maximize\")\n",
    "study_3.optimize(rl, n_trials=64)"
   ]
  },
  {
   "cell_type": "markdown",
   "metadata": {},
   "source": [
    "#### Comentários acerca dos resultados da Regressão Logística 2\n",
    "Os resultados foram pouco distintos dos anteriores, dado que o algoritmo melhorou apenas 0.001%, ou seja, o teste mostrou que atingimos o seu melhor com os parâmetros anteriores."
   ]
  }
 ],
 "metadata": {
  "interpreter": {
   "hash": "31f2aee4e71d21fbe5cf8b01ff0e069b9275f58929596ceb00d14d90e3e16cd6"
  },
  "kernelspec": {
   "display_name": "Python 3",
   "language": "python",
   "name": "python3"
  },
  "language_info": {
   "codemirror_mode": {
    "name": "ipython",
    "version": 3
   },
   "file_extension": ".py",
   "mimetype": "text/x-python",
   "name": "python",
   "nbconvert_exporter": "python",
   "pygments_lexer": "ipython3",
   "version": "3.8.10"
  }
 },
 "nbformat": 4,
 "nbformat_minor": 2
}

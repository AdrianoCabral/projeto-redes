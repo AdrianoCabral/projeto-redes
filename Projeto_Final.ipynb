{
 "cells": [
  {
   "cell_type": "code",
   "execution_count": 2,
   "metadata": {},
   "outputs": [],
   "source": [
    "import time\n",
    "import optuna\n",
    "import numpy as np\n",
    "import pandas as pd\n",
    "from numpy import std\n",
    "from numpy import mean\n",
    "import scikitplot as skplt\n",
    "import matplotlib.pyplot as plt\n",
    "\n",
    "from random import randint\n",
    "from tensorflow import keras \n",
    "\n",
    "from sklearn.model_selection import cross_val_score\n",
    "from sklearn.ensemble import RandomForestClassifier, GradientBoostingClassifier\n",
    "from tensorflow.keras.callbacks import EarlyStopping\n",
    "from sklearn.metrics import accuracy_score, recall_score, precision_score, f1_score, roc_auc_score, average_precision_score, plot_confusion_matrix\n",
    "\n",
    "ds = pd.read_csv('TRNcod.xls', delimiter = \"\\t\")\n",
    "\n",
    "# Shuffle no dataset\n",
    "ds = ds.sample(frac=1).reset_index(drop=True)\n",
    "\n",
    "def compute_performance_metrics(y, y_pred_class, y_pred_scores=None):\n",
    "    accuracy = accuracy_score(y, y_pred_class)\n",
    "    recall = recall_score(y, y_pred_class)\n",
    "    precision = precision_score(y, y_pred_class)\n",
    "    f1 = f1_score(y, y_pred_class)\n",
    "    performance_metrics = (accuracy, recall, precision, f1)\n",
    "    if y_pred_scores is not None:\n",
    "        skplt.metrics.plot_ks_statistic(y, y_pred_scores)\n",
    "        plt.show()\n",
    "        y_pred_scores = y_pred_scores[:, 1]\n",
    "        auroc = roc_auc_score(y, y_pred_scores)\n",
    "        aupr = average_precision_score(y, y_pred_scores)\n",
    "        performance_metrics = performance_metrics + (auroc, aupr)\n",
    "    return performance_metrics\n",
    "\n",
    "def compute_performance_metrics_sem_plot(y, y_pred_class, y_pred_scores=None):\n",
    "    accuracy = accuracy_score(y, y_pred_class)\n",
    "    recall = recall_score(y, y_pred_class)\n",
    "    precision = precision_score(y, y_pred_class)\n",
    "    f1 = f1_score(y, y_pred_class)\n",
    "    performance_metrics = (accuracy, recall, precision, f1)\n",
    "    if y_pred_scores is not None:\n",
    "        # skplt.metrics.plot_ks_statistic(y, y_pred_scores)\n",
    "        # plt.show()\n",
    "        y_pred_scores = y_pred_scores[:, 1]\n",
    "        auroc = roc_auc_score(y, y_pred_scores)\n",
    "        aupr = average_precision_score(y, y_pred_scores)\n",
    "        performance_metrics = performance_metrics + (auroc, aupr)\n",
    "    return performance_metrics"
   ]
  },
  {
   "cell_type": "code",
   "execution_count": null,
   "metadata": {},
   "outputs": [],
   "source": [
    "# print([d for d in ds.columns])"
   ]
  },
  {
   "cell_type": "code",
   "execution_count": 3,
   "metadata": {},
   "outputs": [
    {
     "name": "stderr",
     "output_type": "stream",
     "text": [
      "/home/vitor/.local/lib/python3.8/site-packages/pandas/core/frame.py:4308: SettingWithCopyWarning: \n",
      "A value is trying to be set on a copy of a slice from a DataFrame\n",
      "\n",
      "See the caveats in the documentation: https://pandas.pydata.org/pandas-docs/stable/user_guide/indexing.html#returning-a-view-versus-a-copy\n",
      "  return super().drop(\n"
     ]
    },
    {
     "name": "stdout",
     "output_type": "stream",
     "text": [
      "Tamanhos de inadimplentes: \n",
      "Treino: 127549\n",
      "Teste: 33524\n",
      "Validação: 63775\n",
      "\n",
      "Tamanhos de adimplentes: \n",
      "Treino: 127549\n",
      "Teste: 63774\n",
      "Validação: 63775\n",
      "\n",
      "Colunas: 246\n"
     ]
    }
   ],
   "source": [
    "# inadimplentes = pd.DataFrame(list(filter(lambda x: x == 1, ds['IND_BOM_1_2'])))\n",
    "\n",
    "# Selecionando quem é inadimplente\n",
    "inadimplentes = ds[ds['IND_BOM_1_2'] == 1]\n",
    "\n",
    "# Selecionando quem é adimplente\n",
    "adimplente = ds[ds['IND_BOM_1_2'] == 0]\n",
    "\n",
    "global treino_ina\n",
    "global teste_ina\n",
    "global valid_ina\n",
    "global treino_adi\n",
    "global teste_adi\n",
    "global valid_adi\n",
    "\n",
    "\n",
    "# Dividindo datasets\n",
    "treino_ina = inadimplentes[:int(len(inadimplentes)/2)]\n",
    "teste_ina  = inadimplentes[int(len(inadimplentes)/2):int((len(inadimplentes)*3)/4)]\n",
    "valid_ina  = inadimplentes[int((len(inadimplentes)*3)/4):]\n",
    "\n",
    "treino_adi = adimplente[:int(len(adimplente)/2)]\n",
    "teste_adi  = adimplente[int(len(adimplente)/2):int((len(adimplente)*3)/4)]\n",
    "valid_adi  = adimplente[int((len(adimplente)*3)/4):]\n",
    "\n",
    "# Equalizando tamanho de datasets treino e validação dos inadimplentes ao de adimplentes\n",
    "treino_ina = treino_ina.loc[treino_ina.index.repeat(2)].drop('INDEX', axis=1)\n",
    "treino_ina[\"COPIA\"] = treino_ina.duplicated()\n",
    "treino_ina.sort_values(by=\"COPIA\", inplace=True, ignore_index=True)\n",
    "treino_ina = treino_ina.iloc[ : ( len(treino_adi) - len(treino_ina) ), :  ]\n",
    "treino_ina.drop(columns=[\"COPIA\"], axis=1, inplace=True)\n",
    "\n",
    "treino_adi.drop(columns=['INDEX'], axis=1, inplace=True)\n",
    "\n",
    "valid_ina  = valid_ina.loc[valid_ina.index.repeat(2)].drop('INDEX', axis=1)\n",
    "valid_ina[\"COPIA\"] = valid_ina.duplicated()\n",
    "valid_ina.sort_values(by=\"COPIA\", inplace=True, ignore_index=True)\n",
    "valid_ina = valid_ina.iloc[ : ( len(valid_adi) - len(valid_ina) ), :  ]\n",
    "valid_ina.drop(columns=[\"COPIA\"], axis=1, inplace=True)\n",
    "# Fim da equalização\n",
    "\n",
    "print('Tamanhos de inadimplentes: \\nTreino: {}\\nTeste: {}\\nValidação: {}\\n'.format(len(treino_ina.values), len(teste_ina.values), len(valid_ina.values)))\n",
    "print('Tamanhos de adimplentes: \\nTreino: {}\\nTeste: {}\\nValidação: {}\\n'.format(len(treino_adi.values), len(teste_adi.values), len(valid_adi.values)))\n",
    "print('Colunas: {}'.format(len([d for d in ds.columns])))\n",
    "ds.drop(labels=\"INDEX\", axis=1, inplace=True)"
   ]
  },
  {
   "cell_type": "code",
   "execution_count": 3,
   "metadata": {},
   "outputs": [],
   "source": [
    "# https://stackoverflow.com/questions/29294983/how-to-calculate-correlation-between-all-columns-and-remove-highly-correlated-on\n",
    "\n",
    "# # Create correlation matrix\n",
    "# corr_matrix = ds.corr().abs()\n",
    "\n",
    "# # Select upper triangle of correlation matrix\n",
    "# upper = corr_matrix.where(np.triu(np.ones(corr_matrix.shape), k=1).astype(np.bool))\n",
    "\n",
    "# # Find features with correlation greater than 0.89\n",
    "# to_drop = [column for column in upper.columns if any(upper[column] > 0.89)]\n",
    "\n",
    "# # Drop features \n",
    "# # ds.drop(to_drop, axis=1, inplace=True)\n",
    "# ds.columns\n",
    "\n",
    "\n",
    "# Colunas mais correlacionadas\n",
    "# l = []\n",
    "# for c in ds.columns[:-1]:\n",
    "#     l.append({c: ds[c].corr(ds['IND_BOM_1_1'])})\n",
    "#     # if (ds[c].corr(ds['IND_BOM_1_1']) > 0.0):\n",
    "#         # print( c, ds[c].corr(ds['IND_BOM_1_1']) )\n",
    "# l.sort(key=lambda x: list(x.values())[0])\n",
    "# print(l)"
   ]
  },
  {
   "cell_type": "code",
   "execution_count": 9,
   "metadata": {},
   "outputs": [],
   "source": [
    "# Passos a fazer\n",
    "# Esquema de experimentação (passo a passo do que vamos testar)\n",
    "# MLP & Random Forest"
   ]
  },
  {
   "cell_type": "code",
   "execution_count": 4,
   "metadata": {
    "collapsed": true
   },
   "outputs": [
    {
     "name": "stdout",
     "output_type": "stream",
     "text": [
      "Epoch 1/10000\n",
      "12163/12163 [==============================] - 9s 593us/step - loss: 0.6022 - accuracy: 0.6707\n",
      "Epoch 2/10000\n",
      "12163/12163 [==============================] - 7s 577us/step - loss: 0.5943 - accuracy: 0.6772\n",
      "Epoch 3/10000\n",
      "12163/12163 [==============================] - 7s 572us/step - loss: 0.5921 - accuracy: 0.6796\n",
      "Epoch 4/10000\n",
      "12163/12163 [==============================] - 7s 574us/step - loss: 0.5909 - accuracy: 0.6807\n",
      "Epoch 5/10000\n",
      "12163/12163 [==============================] - 7s 590us/step - loss: 0.5901 - accuracy: 0.6815\n",
      "Epoch 6/10000\n",
      "12163/12163 [==============================] - 7s 594us/step - loss: 0.5893 - accuracy: 0.6822\n",
      "Epoch 7/10000\n",
      "12163/12163 [==============================] - 8s 641us/step - loss: 0.5888 - accuracy: 0.6823\n",
      "Epoch 8/10000\n",
      "12163/12163 [==============================] - 7s 607us/step - loss: 0.5883 - accuracy: 0.6829\n",
      "Epoch 9/10000\n",
      "12163/12163 [==============================] - 7s 554us/step - loss: 0.5881 - accuracy: 0.6827\n",
      "Epoch 10/10000\n",
      "12163/12163 [==============================] - 6s 532us/step - loss: 0.5875 - accuracy: 0.6836\n",
      "Epoch 11/10000\n",
      "12163/12163 [==============================] - 6s 531us/step - loss: 0.5870 - accuracy: 0.6838\n",
      "Epoch 12/10000\n",
      "12163/12163 [==============================] - 7s 580us/step - loss: 0.5868 - accuracy: 0.6840\n",
      "Epoch 13/10000\n",
      "12163/12163 [==============================] - 7s 579us/step - loss: 0.5866 - accuracy: 0.6843\n",
      "Epoch 14/10000\n",
      "12163/12163 [==============================] - 7s 578us/step - loss: 0.5860 - accuracy: 0.6847\n",
      "Epoch 15/10000\n",
      "12163/12163 [==============================] - 7s 597us/step - loss: 0.5859 - accuracy: 0.6853\n",
      "Epoch 16/10000\n",
      "12163/12163 [==============================] - 7s 579us/step - loss: 0.5857 - accuracy: 0.6849\n",
      "Epoch 17/10000\n",
      "12163/12163 [==============================] - 7s 579us/step - loss: 0.5850 - accuracy: 0.6853\n",
      "Epoch 18/10000\n",
      "12163/12163 [==============================] - 7s 594us/step - loss: 0.5849 - accuracy: 0.6862\n",
      "Epoch 19/10000\n",
      "12163/12163 [==============================] - 7s 592us/step - loss: 0.5847 - accuracy: 0.6856\n",
      "Epoch 20/10000\n",
      "12163/12163 [==============================] - 7s 584us/step - loss: 0.5844 - accuracy: 0.6866\n",
      "Epoch 21/10000\n",
      "12163/12163 [==============================] - 7s 587us/step - loss: 0.5841 - accuracy: 0.6860\n",
      "Epoch 22/10000\n",
      "12163/12163 [==============================] - 7s 589us/step - loss: 0.5841 - accuracy: 0.6864\n",
      "Epoch 23/10000\n",
      "12163/12163 [==============================] - 7s 569us/step - loss: 0.5839 - accuracy: 0.6866\n",
      "Epoch 24/10000\n",
      "12163/12163 [==============================] - 7s 594us/step - loss: 0.5836 - accuracy: 0.6870\n",
      "Epoch 25/10000\n",
      "12163/12163 [==============================] - 7s 579us/step - loss: 0.5834 - accuracy: 0.6872\n",
      "Epoch 26/10000\n",
      "12163/12163 [==============================] - 7s 575us/step - loss: 0.5835 - accuracy: 0.6870\n",
      "Epoch 27/10000\n",
      "12163/12163 [==============================] - 7s 591us/step - loss: 0.5834 - accuracy: 0.6871\n",
      "Epoch 28/10000\n",
      "12163/12163 [==============================] - 7s 588us/step - loss: 0.5830 - accuracy: 0.6873\n",
      "Epoch 29/10000\n",
      "12163/12163 [==============================] - 7s 582us/step - loss: 0.5831 - accuracy: 0.6875\n",
      "Epoch 30/10000\n",
      "12163/12163 [==============================] - 7s 592us/step - loss: 0.5829 - accuracy: 0.6875\n",
      "Epoch 31/10000\n",
      "12163/12163 [==============================] - 7s 582us/step - loss: 0.5828 - accuracy: 0.6872\n",
      "Epoch 32/10000\n",
      "12163/12163 [==============================] - 7s 593us/step - loss: 0.5824 - accuracy: 0.6881\n",
      "Epoch 33/10000\n",
      "12163/12163 [==============================] - 7s 581us/step - loss: 0.5822 - accuracy: 0.6880\n",
      "Epoch 34/10000\n",
      "12163/12163 [==============================] - 7s 602us/step - loss: 0.5822 - accuracy: 0.6883\n",
      "Epoch 35/10000\n",
      "12163/12163 [==============================] - 8s 619us/step - loss: 0.5821 - accuracy: 0.6881\n",
      "Epoch 36/10000\n",
      "12163/12163 [==============================] - 7s 613us/step - loss: 0.5822 - accuracy: 0.6888\n",
      "Epoch 37/10000\n",
      "12163/12163 [==============================] - 7s 599us/step - loss: 0.5821 - accuracy: 0.6888\n",
      "Epoch 38/10000\n",
      "12163/12163 [==============================] - 7s 593us/step - loss: 0.5820 - accuracy: 0.6880\n",
      "Epoch 39/10000\n",
      "12163/12163 [==============================] - 7s 543us/step - loss: 0.5817 - accuracy: 0.6890\n",
      "Epoch 40/10000\n",
      "12163/12163 [==============================] - 6s 520us/step - loss: 0.5816 - accuracy: 0.6888\n",
      "Epoch 41/10000\n",
      "12163/12163 [==============================] - 6s 499us/step - loss: 0.5817 - accuracy: 0.6883\n",
      "Epoch 42/10000\n",
      "12163/12163 [==============================] - 6s 505us/step - loss: 0.5816 - accuracy: 0.6888\n",
      "Epoch 43/10000\n",
      "12163/12163 [==============================] - 6s 498us/step - loss: 0.5816 - accuracy: 0.6884\n",
      "Epoch 44/10000\n",
      "12163/12163 [==============================] - 6s 501us/step - loss: 0.5816 - accuracy: 0.6886\n",
      "Epoch 45/10000\n",
      "12163/12163 [==============================] - 6s 497us/step - loss: 0.5813 - accuracy: 0.6890\n",
      "Epoch 46/10000\n",
      "12163/12163 [==============================] - 6s 501us/step - loss: 0.5814 - accuracy: 0.6884\n",
      "Epoch 47/10000\n",
      "12163/12163 [==============================] - 6s 505us/step - loss: 0.5814 - accuracy: 0.6890\n",
      "Epoch 48/10000\n",
      "12163/12163 [==============================] - 7s 611us/step - loss: 0.5814 - accuracy: 0.6885\n",
      "Epoch 49/10000\n",
      "12163/12163 [==============================] - 7s 578us/step - loss: 0.5810 - accuracy: 0.6889\n",
      "Epoch 50/10000\n",
      "12163/12163 [==============================] - 7s 548us/step - loss: 0.5812 - accuracy: 0.6893\n",
      "Epoch 51/10000\n",
      "12163/12163 [==============================] - 7s 595us/step - loss: 0.5811 - accuracy: 0.6890\n",
      "Epoch 52/10000\n",
      "12163/12163 [==============================] - 7s 578us/step - loss: 0.5812 - accuracy: 0.6894\n",
      "Epoch 53/10000\n",
      "12163/12163 [==============================] - 7s 583us/step - loss: 0.5809 - accuracy: 0.6891\n",
      "Epoch 54/10000\n",
      "12163/12163 [==============================] - 7s 580us/step - loss: 0.5807 - accuracy: 0.6894\n",
      "Epoch 55/10000\n",
      "12163/12163 [==============================] - 7s 591us/step - loss: 0.5806 - accuracy: 0.6891\n",
      "Epoch 56/10000\n",
      "12163/12163 [==============================] - 7s 598us/step - loss: 0.5806 - accuracy: 0.6895\n",
      "Epoch 57/10000\n",
      "12163/12163 [==============================] - 7s 597us/step - loss: 0.5808 - accuracy: 0.6896\n",
      "Epoch 58/10000\n",
      "12163/12163 [==============================] - 7s 585us/step - loss: 0.5806 - accuracy: 0.6896\n",
      "Epoch 59/10000\n",
      "12163/12163 [==============================] - 7s 588us/step - loss: 0.5806 - accuracy: 0.6894\n",
      "Epoch 60/10000\n",
      "12163/12163 [==============================] - 7s 598us/step - loss: 0.5805 - accuracy: 0.6898\n",
      "Epoch 61/10000\n",
      "12163/12163 [==============================] - 7s 586us/step - loss: 0.5806 - accuracy: 0.6894\n",
      "Epoch 62/10000\n",
      "12163/12163 [==============================] - 7s 606us/step - loss: 0.5805 - accuracy: 0.6893\n",
      "Epoch 63/10000\n",
      "12163/12163 [==============================] - 7s 616us/step - loss: 0.5804 - accuracy: 0.6896\n",
      "Epoch 64/10000\n",
      "12163/12163 [==============================] - 7s 604us/step - loss: 0.5804 - accuracy: 0.6889\n",
      "Epoch 65/10000\n",
      "12163/12163 [==============================] - 7s 597us/step - loss: 0.5805 - accuracy: 0.6903\n",
      "Epoch 66/10000\n",
      "12163/12163 [==============================] - 7s 581us/step - loss: 0.5802 - accuracy: 0.6899\n",
      "Epoch 67/10000\n",
      "12163/12163 [==============================] - 7s 588us/step - loss: 0.5801 - accuracy: 0.6898\n",
      "Epoch 68/10000\n",
      "12163/12163 [==============================] - 7s 591us/step - loss: 0.5805 - accuracy: 0.6896\n",
      "Epoch 69/10000\n",
      "12163/12163 [==============================] - 7s 573us/step - loss: 0.5801 - accuracy: 0.6899\n",
      "Epoch 70/10000\n",
      "12163/12163 [==============================] - 7s 596us/step - loss: 0.5803 - accuracy: 0.6892\n",
      "Epoch 71/10000\n",
      "12163/12163 [==============================] - 7s 584us/step - loss: 0.5799 - accuracy: 0.6901\n",
      "Epoch 72/10000\n",
      "12163/12163 [==============================] - 7s 586us/step - loss: 0.5800 - accuracy: 0.6894\n",
      "Epoch 73/10000\n",
      "12163/12163 [==============================] - 7s 589us/step - loss: 0.5799 - accuracy: 0.6902\n",
      "Epoch 74/10000\n",
      "12163/12163 [==============================] - 7s 581us/step - loss: 0.5797 - accuracy: 0.6899\n",
      "Epoch 75/10000\n",
      "12163/12163 [==============================] - 7s 595us/step - loss: 0.5799 - accuracy: 0.6902\n"
     ]
    }
   ],
   "source": [
    "# https://machinelearningmastery.com/how-to-reduce-overfitting-with-dropout-regularization-in-keras/\n",
    "\n",
    "from tensorflow.keras.layers import Dropout, Dense\n",
    "from tensorflow.keras.models import Sequential\n",
    "from tensorflow.keras.callbacks import EarlyStopping\n",
    "import keras_tuner as kt\n",
    "from tensorflow import keras\n",
    "\n",
    "# MLP\n",
    "model = Sequential()\n",
    "\n",
    "# Dropout\n",
    "layer = Dropout(randint(0,100)/100)\n",
    "\n",
    "# Regularização\n",
    "# ???\n",
    "\n",
    "ds_2 = ds\n",
    "# ds_2 = ds.iloc[ 0:300, : ]\n",
    "\n",
    "trY = ds_2['IND_BOM_1_2']\n",
    "trX = ds_2.drop('IND_BOM_1_2', axis=1)\n",
    "trX = trX.drop('IND_BOM_1_1', axis=1)\n",
    "# trX = trX.drop(columns=['INDEX'], axis=1)\n",
    "\n",
    "# Taxa de parada quando não mais evoluir\n",
    "\n",
    "model.add(Dense(32,input_dim=243, activation='relu'))\n",
    "model.add(Dropout(0.1))\n",
    "model.add(Dense(1, activation='sigmoid'))\n",
    "\n",
    "model.compile(loss='binary_crossentropy',metrics=['accuracy'],optimizer='adam')\n",
    "\n",
    "# Parada antecipada caso em 10 epochs ela deixe de melhorar\n",
    "paradinha = EarlyStopping(monitor='accuracy', mode='max', patience=10)\n",
    "\n",
    "history = model.fit(trX, trY, epochs=10000, verbose=1, callbacks=[paradinha])"
   ]
  },
  {
   "cell_type": "code",
   "execution_count": 6,
   "metadata": {},
   "outputs": [
    {
     "name": "stdout",
     "output_type": "stream",
     "text": [
      "Epoch 1/10000\n",
      "313/313 [==============================] - 1s 595us/step - loss: 0.6398 - accuracy: 0.6446\n",
      "Epoch 2/10000\n",
      "313/313 [==============================] - 0s 664us/step - loss: 0.6197 - accuracy: 0.6564\n",
      "Epoch 3/10000\n",
      "313/313 [==============================] - 0s 650us/step - loss: 0.6125 - accuracy: 0.6602\n",
      "Epoch 4/10000\n",
      "313/313 [==============================] - 0s 641us/step - loss: 0.6058 - accuracy: 0.6694\n",
      "Epoch 5/10000\n",
      "313/313 [==============================] - 0s 732us/step - loss: 0.6016 - accuracy: 0.6727\n",
      "Epoch 6/10000\n",
      "313/313 [==============================] - 0s 766us/step - loss: 0.5974 - accuracy: 0.6789\n",
      "Epoch 7/10000\n",
      "313/313 [==============================] - 0s 613us/step - loss: 0.5935 - accuracy: 0.6800\n",
      "Epoch 8/10000\n",
      "313/313 [==============================] - 0s 860us/step - loss: 0.5882 - accuracy: 0.6809\n",
      "Epoch 9/10000\n",
      "313/313 [==============================] - 0s 666us/step - loss: 0.5878 - accuracy: 0.6817\n",
      "Epoch 10/10000\n",
      "313/313 [==============================] - 0s 651us/step - loss: 0.5815 - accuracy: 0.6898\n",
      "Epoch 11/10000\n",
      "313/313 [==============================] - 0s 590us/step - loss: 0.5802 - accuracy: 0.6903\n",
      "Epoch 12/10000\n",
      "313/313 [==============================] - 0s 615us/step - loss: 0.5749 - accuracy: 0.6943\n",
      "Epoch 13/10000\n",
      "313/313 [==============================] - 0s 613us/step - loss: 0.5733 - accuracy: 0.6962\n",
      "Epoch 14/10000\n",
      "313/313 [==============================] - 0s 622us/step - loss: 0.5682 - accuracy: 0.7021\n",
      "Epoch 15/10000\n",
      "313/313 [==============================] - 0s 619us/step - loss: 0.5642 - accuracy: 0.7058\n",
      "Epoch 16/10000\n",
      "313/313 [==============================] - 0s 558us/step - loss: 0.5627 - accuracy: 0.7053\n",
      "Epoch 17/10000\n",
      "313/313 [==============================] - 0s 584us/step - loss: 0.5582 - accuracy: 0.7104\n",
      "Epoch 18/10000\n",
      "313/313 [==============================] - 0s 605us/step - loss: 0.5550 - accuracy: 0.7140\n",
      "Epoch 19/10000\n",
      "313/313 [==============================] - 0s 595us/step - loss: 0.5516 - accuracy: 0.7158\n",
      "Epoch 20/10000\n",
      "313/313 [==============================] - 0s 538us/step - loss: 0.5481 - accuracy: 0.7160\n",
      "Epoch 21/10000\n",
      "313/313 [==============================] - 0s 585us/step - loss: 0.5464 - accuracy: 0.7216\n",
      "Epoch 22/10000\n",
      "313/313 [==============================] - 0s 553us/step - loss: 0.5405 - accuracy: 0.7227\n",
      "Epoch 23/10000\n",
      "313/313 [==============================] - 0s 604us/step - loss: 0.5405 - accuracy: 0.7179\n",
      "Epoch 24/10000\n",
      "313/313 [==============================] - 0s 599us/step - loss: 0.5360 - accuracy: 0.7285\n",
      "Epoch 25/10000\n",
      "313/313 [==============================] - 0s 565us/step - loss: 0.5307 - accuracy: 0.7305\n",
      "Epoch 26/10000\n",
      "313/313 [==============================] - 0s 604us/step - loss: 0.5302 - accuracy: 0.7318\n",
      "Epoch 27/10000\n",
      "313/313 [==============================] - 0s 591us/step - loss: 0.5261 - accuracy: 0.7361\n",
      "Epoch 28/10000\n",
      "313/313 [==============================] - 0s 773us/step - loss: 0.5230 - accuracy: 0.7352\n",
      "Epoch 29/10000\n",
      "313/313 [==============================] - 0s 571us/step - loss: 0.5207 - accuracy: 0.7417\n",
      "Epoch 30/10000\n",
      "313/313 [==============================] - 0s 615us/step - loss: 0.5186 - accuracy: 0.7376\n",
      "Epoch 31/10000\n",
      "313/313 [==============================] - 0s 607us/step - loss: 0.5150 - accuracy: 0.7426\n",
      "Epoch 32/10000\n",
      "313/313 [==============================] - 0s 579us/step - loss: 0.5099 - accuracy: 0.7440\n",
      "Epoch 33/10000\n",
      "313/313 [==============================] - 0s 550us/step - loss: 0.5082 - accuracy: 0.7466\n",
      "Epoch 34/10000\n",
      "313/313 [==============================] - 0s 573us/step - loss: 0.5072 - accuracy: 0.7462\n",
      "Epoch 35/10000\n",
      "313/313 [==============================] - 0s 613us/step - loss: 0.5037 - accuracy: 0.7499\n",
      "Epoch 36/10000\n",
      "313/313 [==============================] - 0s 534us/step - loss: 0.4997 - accuracy: 0.7499\n",
      "Epoch 37/10000\n",
      "313/313 [==============================] - 0s 592us/step - loss: 0.5001 - accuracy: 0.7507\n",
      "Epoch 38/10000\n",
      "313/313 [==============================] - 0s 589us/step - loss: 0.4934 - accuracy: 0.7534\n",
      "Epoch 39/10000\n",
      "313/313 [==============================] - 0s 559us/step - loss: 0.4918 - accuracy: 0.7591\n",
      "Epoch 40/10000\n",
      "313/313 [==============================] - 0s 595us/step - loss: 0.4909 - accuracy: 0.7585\n",
      "Epoch 41/10000\n",
      "313/313 [==============================] - 0s 595us/step - loss: 0.4893 - accuracy: 0.7617\n",
      "Epoch 42/10000\n",
      "313/313 [==============================] - 0s 553us/step - loss: 0.4872 - accuracy: 0.7606\n",
      "Epoch 43/10000\n",
      "313/313 [==============================] - 0s 588us/step - loss: 0.4845 - accuracy: 0.7652\n",
      "Epoch 44/10000\n",
      "313/313 [==============================] - 0s 583us/step - loss: 0.4798 - accuracy: 0.7650\n",
      "Epoch 45/10000\n",
      "313/313 [==============================] - 0s 566us/step - loss: 0.4768 - accuracy: 0.7710\n",
      "Epoch 46/10000\n",
      "313/313 [==============================] - 0s 624us/step - loss: 0.4772 - accuracy: 0.7683\n",
      "Epoch 47/10000\n",
      "313/313 [==============================] - 0s 627us/step - loss: 0.4732 - accuracy: 0.7715\n",
      "Epoch 48/10000\n",
      "313/313 [==============================] - 0s 665us/step - loss: 0.4717 - accuracy: 0.7709\n",
      "Epoch 49/10000\n",
      "313/313 [==============================] - 0s 600us/step - loss: 0.4707 - accuracy: 0.7731\n",
      "Epoch 50/10000\n",
      "313/313 [==============================] - 0s 686us/step - loss: 0.4682 - accuracy: 0.7711\n",
      "Epoch 51/10000\n",
      "313/313 [==============================] - 0s 739us/step - loss: 0.4660 - accuracy: 0.7718\n",
      "Epoch 52/10000\n",
      "313/313 [==============================] - 0s 613us/step - loss: 0.4659 - accuracy: 0.7776\n",
      "Epoch 53/10000\n",
      "313/313 [==============================] - 0s 689us/step - loss: 0.4611 - accuracy: 0.7760\n",
      "Epoch 54/10000\n",
      "313/313 [==============================] - 0s 630us/step - loss: 0.4557 - accuracy: 0.7811\n",
      "Epoch 55/10000\n",
      "313/313 [==============================] - 0s 579us/step - loss: 0.4592 - accuracy: 0.7794\n",
      "Epoch 56/10000\n",
      "313/313 [==============================] - 0s 626us/step - loss: 0.4536 - accuracy: 0.7838\n",
      "Epoch 57/10000\n",
      "313/313 [==============================] - 0s 598us/step - loss: 0.4499 - accuracy: 0.7847\n",
      "Epoch 58/10000\n",
      "313/313 [==============================] - 0s 548us/step - loss: 0.4495 - accuracy: 0.7882\n",
      "Epoch 59/10000\n",
      "313/313 [==============================] - 0s 588us/step - loss: 0.4444 - accuracy: 0.7926\n",
      "Epoch 60/10000\n",
      "313/313 [==============================] - 0s 663us/step - loss: 0.4467 - accuracy: 0.7866\n",
      "Epoch 61/10000\n",
      "313/313 [==============================] - 0s 750us/step - loss: 0.4438 - accuracy: 0.7890\n",
      "Epoch 62/10000\n",
      "313/313 [==============================] - 0s 561us/step - loss: 0.4435 - accuracy: 0.7943\n",
      "Epoch 63/10000\n",
      "313/313 [==============================] - 0s 570us/step - loss: 0.4403 - accuracy: 0.7902\n",
      "Epoch 64/10000\n",
      "313/313 [==============================] - 0s 608us/step - loss: 0.4401 - accuracy: 0.7951\n",
      "Epoch 65/10000\n",
      "313/313 [==============================] - 0s 534us/step - loss: 0.4389 - accuracy: 0.7938\n",
      "Epoch 66/10000\n",
      "313/313 [==============================] - 0s 605us/step - loss: 0.4357 - accuracy: 0.7963\n",
      "Epoch 67/10000\n",
      "313/313 [==============================] - 0s 580us/step - loss: 0.4330 - accuracy: 0.7924\n",
      "Epoch 68/10000\n",
      "313/313 [==============================] - 0s 564us/step - loss: 0.4326 - accuracy: 0.7988\n",
      "Epoch 69/10000\n",
      "313/313 [==============================] - 0s 592us/step - loss: 0.4304 - accuracy: 0.7985\n",
      "Epoch 70/10000\n",
      "313/313 [==============================] - 0s 605us/step - loss: 0.4275 - accuracy: 0.7990\n",
      "Epoch 71/10000\n",
      "313/313 [==============================] - 0s 548us/step - loss: 0.4275 - accuracy: 0.7998\n",
      "Epoch 72/10000\n",
      "313/313 [==============================] - 0s 616us/step - loss: 0.4213 - accuracy: 0.8064\n",
      "Epoch 73/10000\n",
      "313/313 [==============================] - 0s 590us/step - loss: 0.4215 - accuracy: 0.8032\n",
      "Epoch 74/10000\n",
      "313/313 [==============================] - 0s 591us/step - loss: 0.4219 - accuracy: 0.8058\n",
      "Epoch 75/10000\n",
      "313/313 [==============================] - 0s 567us/step - loss: 0.4174 - accuracy: 0.8061\n",
      "Epoch 76/10000\n",
      "313/313 [==============================] - 0s 578us/step - loss: 0.4194 - accuracy: 0.8023\n",
      "Epoch 77/10000\n",
      "313/313 [==============================] - 0s 559us/step - loss: 0.4122 - accuracy: 0.8089\n",
      "Epoch 78/10000\n",
      "313/313 [==============================] - 0s 602us/step - loss: 0.4113 - accuracy: 0.8106\n",
      "Epoch 79/10000\n",
      "313/313 [==============================] - 0s 602us/step - loss: 0.4163 - accuracy: 0.8055\n",
      "Epoch 80/10000\n",
      "313/313 [==============================] - 0s 606us/step - loss: 0.4097 - accuracy: 0.8128\n",
      "Epoch 81/10000\n",
      "313/313 [==============================] - 0s 578us/step - loss: 0.4123 - accuracy: 0.8102\n",
      "Epoch 82/10000\n",
      "313/313 [==============================] - 0s 580us/step - loss: 0.4081 - accuracy: 0.8140\n",
      "Epoch 83/10000\n",
      "313/313 [==============================] - 0s 581us/step - loss: 0.4051 - accuracy: 0.8116\n",
      "Epoch 84/10000\n",
      "313/313 [==============================] - 0s 551us/step - loss: 0.4076 - accuracy: 0.8097\n",
      "Epoch 85/10000\n",
      "313/313 [==============================] - 0s 578us/step - loss: 0.4052 - accuracy: 0.8140\n",
      "Epoch 86/10000\n",
      "313/313 [==============================] - 0s 597us/step - loss: 0.4021 - accuracy: 0.8143\n",
      "Epoch 87/10000\n",
      "313/313 [==============================] - 0s 549us/step - loss: 0.4007 - accuracy: 0.8167\n",
      "Epoch 88/10000\n",
      "313/313 [==============================] - 0s 596us/step - loss: 0.4009 - accuracy: 0.8174\n",
      "Epoch 89/10000\n",
      "313/313 [==============================] - 0s 573us/step - loss: 0.3899 - accuracy: 0.8194\n",
      "Epoch 90/10000\n",
      "313/313 [==============================] - 0s 568us/step - loss: 0.3942 - accuracy: 0.8220\n",
      "Epoch 91/10000\n",
      "313/313 [==============================] - 0s 600us/step - loss: 0.3928 - accuracy: 0.8225\n",
      "Epoch 92/10000\n",
      "313/313 [==============================] - 0s 583us/step - loss: 0.3956 - accuracy: 0.8183\n",
      "Epoch 93/10000\n",
      "313/313 [==============================] - 0s 559us/step - loss: 0.3923 - accuracy: 0.8204\n",
      "Epoch 94/10000\n",
      "313/313 [==============================] - 0s 611us/step - loss: 0.3924 - accuracy: 0.8229\n",
      "Epoch 95/10000\n",
      "313/313 [==============================] - 0s 597us/step - loss: 0.3882 - accuracy: 0.8270\n",
      "Epoch 96/10000\n",
      "313/313 [==============================] - 0s 568us/step - loss: 0.3900 - accuracy: 0.8241\n",
      "Epoch 97/10000\n",
      "313/313 [==============================] - 0s 590us/step - loss: 0.3835 - accuracy: 0.8266\n",
      "Epoch 98/10000\n",
      "313/313 [==============================] - 0s 601us/step - loss: 0.3779 - accuracy: 0.8307\n",
      "Epoch 99/10000\n",
      "313/313 [==============================] - 0s 539us/step - loss: 0.3850 - accuracy: 0.8249\n",
      "Epoch 100/10000\n",
      "313/313 [==============================] - 0s 582us/step - loss: 0.3811 - accuracy: 0.8261\n",
      "Epoch 101/10000\n",
      "313/313 [==============================] - 0s 606us/step - loss: 0.3779 - accuracy: 0.8270\n",
      "Epoch 102/10000\n",
      "313/313 [==============================] - 0s 543us/step - loss: 0.3794 - accuracy: 0.8262\n",
      "Epoch 103/10000\n",
      "313/313 [==============================] - 0s 590us/step - loss: 0.3788 - accuracy: 0.8273\n",
      "Epoch 104/10000\n",
      "313/313 [==============================] - 0s 622us/step - loss: 0.3764 - accuracy: 0.8313\n",
      "Epoch 105/10000\n",
      "313/313 [==============================] - 0s 532us/step - loss: 0.3731 - accuracy: 0.8351\n",
      "Epoch 106/10000\n",
      "313/313 [==============================] - 0s 590us/step - loss: 0.3722 - accuracy: 0.8318\n",
      "Epoch 107/10000\n",
      "313/313 [==============================] - 0s 608us/step - loss: 0.3735 - accuracy: 0.8275\n",
      "Epoch 108/10000\n",
      "313/313 [==============================] - 0s 538us/step - loss: 0.3680 - accuracy: 0.8359\n",
      "Epoch 109/10000\n",
      "313/313 [==============================] - 0s 588us/step - loss: 0.3739 - accuracy: 0.8365\n",
      "Epoch 110/10000\n",
      "313/313 [==============================] - 0s 576us/step - loss: 0.3673 - accuracy: 0.8368\n",
      "Epoch 111/10000\n",
      "313/313 [==============================] - 0s 578us/step - loss: 0.3719 - accuracy: 0.8331\n",
      "Epoch 112/10000\n",
      "313/313 [==============================] - 0s 599us/step - loss: 0.3627 - accuracy: 0.8375\n",
      "Epoch 113/10000\n",
      "313/313 [==============================] - 0s 586us/step - loss: 0.3677 - accuracy: 0.8336\n",
      "Epoch 114/10000\n",
      "313/313 [==============================] - 0s 560us/step - loss: 0.3668 - accuracy: 0.8373\n",
      "Epoch 115/10000\n",
      "313/313 [==============================] - 0s 599us/step - loss: 0.3646 - accuracy: 0.8378\n",
      "Epoch 116/10000\n",
      "313/313 [==============================] - 0s 576us/step - loss: 0.3600 - accuracy: 0.8399\n",
      "Epoch 117/10000\n",
      "313/313 [==============================] - 0s 543us/step - loss: 0.3730 - accuracy: 0.8323\n",
      "Epoch 118/10000\n",
      "313/313 [==============================] - 0s 611us/step - loss: 0.3608 - accuracy: 0.8415\n",
      "Epoch 119/10000\n",
      "313/313 [==============================] - 0s 559us/step - loss: 0.3627 - accuracy: 0.8413\n",
      "Epoch 120/10000\n",
      "313/313 [==============================] - 0s 583us/step - loss: 0.3577 - accuracy: 0.8399\n",
      "Epoch 121/10000\n",
      "313/313 [==============================] - 0s 606us/step - loss: 0.3583 - accuracy: 0.8386\n",
      "Epoch 122/10000\n",
      "313/313 [==============================] - 0s 586us/step - loss: 0.3569 - accuracy: 0.8445\n",
      "Epoch 123/10000\n",
      "313/313 [==============================] - 0s 563us/step - loss: 0.3555 - accuracy: 0.8430\n",
      "Epoch 124/10000\n",
      "313/313 [==============================] - 0s 593us/step - loss: 0.3520 - accuracy: 0.8442\n",
      "Epoch 125/10000\n",
      "313/313 [==============================] - 0s 579us/step - loss: 0.3634 - accuracy: 0.8406\n",
      "Epoch 126/10000\n",
      "313/313 [==============================] - 0s 571us/step - loss: 0.3490 - accuracy: 0.8445\n",
      "Epoch 127/10000\n",
      "313/313 [==============================] - 0s 596us/step - loss: 0.3536 - accuracy: 0.8448\n",
      "Epoch 128/10000\n",
      "313/313 [==============================] - 0s 691us/step - loss: 0.3509 - accuracy: 0.8433\n",
      "Epoch 129/10000\n",
      "313/313 [==============================] - 0s 599us/step - loss: 0.3498 - accuracy: 0.8464\n",
      "Epoch 130/10000\n",
      "313/313 [==============================] - 0s 606us/step - loss: 0.3527 - accuracy: 0.8444\n",
      "Epoch 131/10000\n",
      "313/313 [==============================] - 0s 669us/step - loss: 0.3512 - accuracy: 0.8427\n",
      "Epoch 132/10000\n",
      "313/313 [==============================] - 0s 649us/step - loss: 0.3503 - accuracy: 0.8442\n",
      "Epoch 133/10000\n",
      "313/313 [==============================] - 0s 619us/step - loss: 0.3445 - accuracy: 0.8459\n",
      "Epoch 134/10000\n",
      "313/313 [==============================] - 0s 702us/step - loss: 0.3435 - accuracy: 0.8502\n",
      "Epoch 135/10000\n",
      "313/313 [==============================] - 0s 587us/step - loss: 0.3441 - accuracy: 0.8464\n",
      "Epoch 136/10000\n",
      "313/313 [==============================] - 0s 573us/step - loss: 0.3460 - accuracy: 0.8481\n",
      "Epoch 137/10000\n",
      "313/313 [==============================] - 0s 563us/step - loss: 0.3447 - accuracy: 0.8501\n",
      "Epoch 138/10000\n",
      "313/313 [==============================] - 0s 551us/step - loss: 0.3392 - accuracy: 0.8508\n",
      "Epoch 139/10000\n",
      "313/313 [==============================] - 0s 564us/step - loss: 0.3425 - accuracy: 0.8467\n",
      "Epoch 140/10000\n",
      "313/313 [==============================] - 0s 669us/step - loss: 0.3386 - accuracy: 0.8512\n",
      "Epoch 141/10000\n",
      "313/313 [==============================] - 0s 556us/step - loss: 0.3453 - accuracy: 0.8447\n",
      "Epoch 142/10000\n",
      "313/313 [==============================] - 0s 647us/step - loss: 0.3383 - accuracy: 0.8501\n",
      "Epoch 143/10000\n",
      "313/313 [==============================] - 0s 667us/step - loss: 0.3369 - accuracy: 0.8513\n",
      "Epoch 144/10000\n",
      "313/313 [==============================] - 0s 568us/step - loss: 0.3323 - accuracy: 0.8552\n",
      "Epoch 145/10000\n",
      "313/313 [==============================] - 0s 603us/step - loss: 0.3332 - accuracy: 0.8576\n",
      "Epoch 146/10000\n",
      "313/313 [==============================] - 0s 654us/step - loss: 0.3353 - accuracy: 0.8518\n",
      "Epoch 147/10000\n",
      "313/313 [==============================] - 0s 619us/step - loss: 0.3348 - accuracy: 0.8529\n",
      "Epoch 148/10000\n",
      "313/313 [==============================] - 0s 594us/step - loss: 0.3338 - accuracy: 0.8520\n",
      "Epoch 149/10000\n",
      "313/313 [==============================] - 0s 629us/step - loss: 0.3365 - accuracy: 0.8526\n",
      "Epoch 150/10000\n",
      "313/313 [==============================] - 0s 591us/step - loss: 0.3366 - accuracy: 0.8526\n",
      "Epoch 151/10000\n",
      "313/313 [==============================] - 0s 577us/step - loss: 0.3288 - accuracy: 0.8550\n",
      "Epoch 152/10000\n",
      "313/313 [==============================] - 0s 658us/step - loss: 0.3328 - accuracy: 0.8567\n",
      "Epoch 153/10000\n",
      "313/313 [==============================] - 0s 869us/step - loss: 0.3273 - accuracy: 0.8600\n",
      "Epoch 154/10000\n",
      "313/313 [==============================] - 0s 718us/step - loss: 0.3247 - accuracy: 0.8599\n",
      "Epoch 155/10000\n",
      "313/313 [==============================] - 0s 574us/step - loss: 0.3267 - accuracy: 0.8594\n",
      "Epoch 156/10000\n",
      "313/313 [==============================] - 0s 650us/step - loss: 0.3275 - accuracy: 0.8573\n",
      "Epoch 157/10000\n",
      "313/313 [==============================] - 0s 636us/step - loss: 0.3228 - accuracy: 0.8557\n",
      "Epoch 158/10000\n",
      "313/313 [==============================] - 0s 577us/step - loss: 0.3246 - accuracy: 0.8584\n",
      "Epoch 159/10000\n",
      "313/313 [==============================] - 0s 679us/step - loss: 0.3272 - accuracy: 0.8629\n",
      "Epoch 160/10000\n",
      "313/313 [==============================] - 0s 592us/step - loss: 0.3250 - accuracy: 0.8585\n",
      "Epoch 161/10000\n",
      "313/313 [==============================] - 0s 531us/step - loss: 0.3241 - accuracy: 0.8594\n",
      "Epoch 162/10000\n",
      "313/313 [==============================] - 0s 625us/step - loss: 0.3190 - accuracy: 0.8628\n",
      "Epoch 163/10000\n",
      "313/313 [==============================] - 0s 643us/step - loss: 0.3200 - accuracy: 0.8605\n",
      "Epoch 164/10000\n",
      "313/313 [==============================] - 0s 663us/step - loss: 0.3213 - accuracy: 0.8614\n",
      "Epoch 165/10000\n",
      "313/313 [==============================] - 0s 636us/step - loss: 0.3196 - accuracy: 0.8597\n",
      "Epoch 166/10000\n",
      "313/313 [==============================] - 0s 586us/step - loss: 0.3225 - accuracy: 0.8591\n",
      "Epoch 167/10000\n",
      "313/313 [==============================] - 0s 592us/step - loss: 0.3140 - accuracy: 0.8663\n",
      "Epoch 168/10000\n",
      "313/313 [==============================] - 0s 543us/step - loss: 0.3178 - accuracy: 0.8641\n",
      "Epoch 169/10000\n",
      "313/313 [==============================] - 0s 592us/step - loss: 0.3118 - accuracy: 0.8667\n",
      "Epoch 170/10000\n",
      "313/313 [==============================] - 0s 560us/step - loss: 0.3241 - accuracy: 0.8627\n",
      "Epoch 171/10000\n",
      "313/313 [==============================] - 0s 601us/step - loss: 0.3110 - accuracy: 0.8671\n",
      "Epoch 172/10000\n",
      "313/313 [==============================] - 0s 613us/step - loss: 0.3089 - accuracy: 0.8690\n",
      "Epoch 173/10000\n",
      "313/313 [==============================] - 0s 581us/step - loss: 0.3114 - accuracy: 0.8666\n",
      "Epoch 174/10000\n",
      "313/313 [==============================] - 0s 546us/step - loss: 0.3135 - accuracy: 0.8679\n",
      "Epoch 175/10000\n",
      "313/313 [==============================] - 0s 628us/step - loss: 0.3081 - accuracy: 0.8692\n",
      "Epoch 176/10000\n",
      "313/313 [==============================] - 0s 602us/step - loss: 0.3084 - accuracy: 0.8695\n",
      "Epoch 177/10000\n",
      "313/313 [==============================] - 0s 597us/step - loss: 0.3121 - accuracy: 0.8686\n",
      "Epoch 178/10000\n",
      "313/313 [==============================] - 0s 576us/step - loss: 0.3060 - accuracy: 0.8702\n",
      "Epoch 179/10000\n",
      "313/313 [==============================] - 0s 592us/step - loss: 0.3055 - accuracy: 0.8729\n",
      "Epoch 180/10000\n",
      "313/313 [==============================] - 0s 597us/step - loss: 0.3103 - accuracy: 0.8674\n",
      "Epoch 181/10000\n",
      "313/313 [==============================] - 0s 560us/step - loss: 0.3101 - accuracy: 0.8675\n",
      "Epoch 182/10000\n",
      "313/313 [==============================] - 0s 578us/step - loss: 0.3053 - accuracy: 0.8695\n",
      "Epoch 183/10000\n",
      "313/313 [==============================] - 0s 600us/step - loss: 0.3098 - accuracy: 0.8668\n",
      "Epoch 184/10000\n",
      "313/313 [==============================] - 0s 542us/step - loss: 0.3057 - accuracy: 0.8718\n",
      "Epoch 185/10000\n",
      "313/313 [==============================] - 0s 594us/step - loss: 0.3048 - accuracy: 0.8692\n",
      "Epoch 186/10000\n",
      "313/313 [==============================] - 0s 599us/step - loss: 0.3031 - accuracy: 0.8739\n",
      "Epoch 187/10000\n",
      "313/313 [==============================] - 0s 537us/step - loss: 0.2987 - accuracy: 0.8724\n",
      "Epoch 188/10000\n",
      "313/313 [==============================] - 0s 595us/step - loss: 0.3043 - accuracy: 0.8725\n",
      "Epoch 189/10000\n",
      "313/313 [==============================] - 0s 576us/step - loss: 0.2969 - accuracy: 0.8746\n",
      "Epoch 190/10000\n",
      "313/313 [==============================] - 0s 569us/step - loss: 0.2987 - accuracy: 0.8757\n",
      "Epoch 191/10000\n",
      "313/313 [==============================] - 0s 595us/step - loss: 0.2961 - accuracy: 0.8781\n",
      "Epoch 192/10000\n",
      "313/313 [==============================] - 0s 578us/step - loss: 0.3015 - accuracy: 0.8697\n",
      "Epoch 193/10000\n",
      "313/313 [==============================] - 0s 566us/step - loss: 0.2896 - accuracy: 0.8798\n",
      "Epoch 194/10000\n",
      "313/313 [==============================] - 0s 604us/step - loss: 0.2977 - accuracy: 0.8748\n",
      "Epoch 195/10000\n",
      "313/313 [==============================] - 0s 588us/step - loss: 0.2997 - accuracy: 0.8725\n",
      "Epoch 196/10000\n",
      "313/313 [==============================] - 0s 548us/step - loss: 0.2969 - accuracy: 0.8755\n",
      "Epoch 197/10000\n",
      "313/313 [==============================] - 0s 579us/step - loss: 0.2914 - accuracy: 0.8766\n",
      "Epoch 198/10000\n",
      "313/313 [==============================] - 0s 562us/step - loss: 0.2984 - accuracy: 0.8753\n",
      "Epoch 199/10000\n",
      "313/313 [==============================] - 0s 639us/step - loss: 0.2944 - accuracy: 0.8764\n",
      "Epoch 200/10000\n",
      "313/313 [==============================] - 0s 595us/step - loss: 0.2927 - accuracy: 0.8767\n",
      "Epoch 201/10000\n",
      "313/313 [==============================] - 0s 586us/step - loss: 0.2910 - accuracy: 0.8754\n",
      "Epoch 202/10000\n",
      "313/313 [==============================] - 0s 558us/step - loss: 0.2975 - accuracy: 0.8732\n",
      "Epoch 203/10000\n",
      "313/313 [==============================] - 0s 611us/step - loss: 0.2910 - accuracy: 0.8780\n"
     ]
    }
   ],
   "source": [
    "def mlp_model(neuronios, camadas, dropout, learning_rate, ativacao, otimizador):\n",
    "    model = Sequential()\n",
    "    model.add(Dense(neuronios,input_dim=243, activation=ativacao))\n",
    "    model.add(Dropout(dropout))\n",
    "    if camadas==2:\n",
    "        model.add(Dense(1, activation='sigmoid'))\n",
    "    if otimizador =='adam':\n",
    "        opt = keras.optimizers.Adam(learning_rate=learning_rate)\n",
    "    elif otimizador =='SGD':\n",
    "        opt = keras.optimizers.SGD(learning_rate=learning_rate)\n",
    "    elif otimizador =='RMSprop':\n",
    "        opt = keras.optimizers.RMSprop(learning_rate=learning_rate)\n",
    "    elif otimizador =='Adadelta':\n",
    "        opt = keras.optimizers.Adadelta(learning_rate=learning_rate)\n",
    "        \n",
    "    \n",
    "    model.compile(loss='binary_crossentropy',metrics=['accuracy'],optimizer=opt)\n",
    "    return model\n",
    "\n",
    "n_neuronios = [8, 16, 32, 64, 128, 512, 1024]\n",
    "n_camadas = [1, 2]\n",
    "n_dropout = [0.4, 0.2, 0.1]\n",
    "n_learning_rate = [0.1, 0.01, 0.001]\n",
    "n_ativacao = ['tanh', 'relu']\n",
    "n_otimizador = ['adam', 'SGD', 'RMSprop','Adadelta']\n",
    "\n",
    "# ds_2 = ds\n",
    "ds_2 = ds.iloc[ 0:10000, : ]\n",
    "\n",
    "trY = ds_2['IND_BOM_1_2']\n",
    "trX = ds_2.drop('IND_BOM_1_2', axis=1)\n",
    "trX = trX.drop('IND_BOM_1_1', axis=1)\n",
    "# trX = trX.drop('INDEX', axis=1)\n",
    "\n",
    "\n",
    "model = mlp_model(32, 2, 0.1, 0.0005,'relu','adam')\n",
    "\n",
    "paradinha = EarlyStopping(monitor='accuracy', mode='max', patience=10)\n",
    "history = model.fit(trX, trY, epochs=10000, verbose=1, callbacks=[paradinha])\n",
    "\n"
   ]
  },
  {
   "cell_type": "code",
   "execution_count": 12,
   "metadata": {},
   "outputs": [
    {
     "name": "stdout",
     "output_type": "stream",
     "text": [
      "1563/1563 [==============================] - 1s 626us/step - loss: 5.3330 - accuracy: 0.6543\n"
     ]
    }
   ],
   "source": [
    "ds_3 = ds.iloc[ 50001:100001, :]\n",
    "trY = ds_3['IND_BOM_1_2']\n",
    "trX = ds_3.drop('IND_BOM_1_2', axis=1)\n",
    "x, y = model.evaluate(trX, trY, verbose=1)"
   ]
  },
  {
   "cell_type": "code",
   "execution_count": 29,
   "metadata": {},
   "outputs": [
    {
     "data": {
      "image/png": "[encoded data removed]",
      "text/plain": [
       "<Figure size 432x288 with 1 Axes>"
      ]
     },
     "metadata": {
      "needs_background": "light"
     },
     "output_type": "display_data"
    },
    {
     "name": "stdout",
     "output_type": "stream",
     "text": [
      "Acurácia: 0.6352097216777735\n",
      "Recall: 0.5661152489219914\n",
      "Precision: 0.6568902150576762\n",
      "F1: 0.6081339430842955\n",
      "AUROC: 0.6876080366943211\n",
      "AURP: 0.6863975597334894\n"
     ]
    },
    {
     "data": {
      "text/plain": [
       "<sklearn.metrics._plot.confusion_matrix.ConfusionMatrixDisplay at 0x7f491ae01730>"
      ]
     },
     "execution_count": 29,
     "metadata": {},
     "output_type": "execute_result"
    },
    {
     "data": {
      "image/png": "[encoded data removed]",
      "text/plain": [
       "<Figure size 432x288 with 2 Axes>"
      ]
     },
     "metadata": {
      "needs_background": "light"
     },
     "output_type": "display_data"
    }
   ],
   "source": [
    "# Cuidado: usar esses parâmetros muito elevados, ou o default (100 estimadores e profundidade ilimitada) vai travar seu computador\n",
    "\n",
    "# Parâmetros default:\n",
    "# n_estimators=100, *,\n",
    "# criterion=\"gini\",\n",
    "# max_depth=None,\n",
    "# min_samples_split=2,\n",
    "# min_samples_leaf=1,\n",
    "# min_weight_fraction_leaf=0.,\n",
    "# max_features=\"auto\",\n",
    "# max_leaf_nodes=None,\n",
    "# min_impurity_decrease=0.,\n",
    "# min_impurity_split=None,\n",
    "# bootstrap=True,\n",
    "# oob_score=False,\n",
    "# n_jobs=None,\n",
    "# random_state=None,\n",
    "# verbose=0,\n",
    "# warm_start=False,\n",
    "# class_weight=None,\n",
    "# ccp_alpha=0.0,\n",
    "# max_samples=None\n",
    "\n",
    "random_forest = RandomForestClassifier(n_estimators=128, max_depth=8, min_samples_leaf=2, min_samples_split=4, max_samples=randint(1,99)/100)\n",
    "df_treino = treino_ina.drop(['IND_BOM_1_2','IND_BOM_1_1'], axis=1).append(treino_adi.drop(['IND_BOM_1_2','IND_BOM_1_1'], axis=1))\n",
    "df_validacao = valid_ina.drop(['IND_BOM_1_2','IND_BOM_1_1'], axis=1).append(valid_adi.drop(['IND_BOM_1_2','IND_BOM_1_1'], axis=1))\n",
    "df_validacao.drop(columns=['INDEX'], axis=1, inplace=True)\n",
    "\n",
    "random_forest.fit(df_treino, [0]*len(treino_ina)+[1]*len(treino_adi))\n",
    "\n",
    "rf_pred_class  = random_forest.predict(df_validacao)\n",
    "rf_pred_scores = random_forest.predict_proba(df_validacao)\n",
    "\n",
    "accuracy, recall, precision, f1, auroc, aupr = compute_performance_metrics([0]*len(valid_ina)+[1]*len(valid_adi), rf_pred_class, rf_pred_scores)\n",
    "print('Acurácia: {}\\nRecall: {}\\nPrecision: {}\\nF1: {}\\nAUROC: {}\\nAURP: {}'.format(accuracy, recall, precision, f1, auroc, aupr))\n",
    "\n",
    "df_teste = teste_ina.drop(['IND_BOM_1_2','IND_BOM_1_1'], axis=1).append(teste_adi.drop(['IND_BOM_1_2','IND_BOM_1_1'], axis=1))\n",
    "df_teste.drop(columns=['INDEX'], axis=1, inplace=True)\n",
    "plot_confusion_matrix(random_forest, df_teste, [0]*len(teste_ina)+[1]*len(teste_adi), normalize='true')"
   ]
  },
  {
   "cell_type": "code",
   "execution_count": null,
   "metadata": {},
   "outputs": [],
   "source": [
    "ds_dropado = ds.drop(labels=['IND_BOM_1_2', 'IND_BOM_1_1'], axis=1)\n",
    "df_treino = treino_ina.drop(['IND_BOM_1_2','IND_BOM_1_1'], axis=1).append(treino_adi.drop(['IND_BOM_1_2','IND_BOM_1_1'], axis=1))\n",
    "df_validacao = valid_ina.drop(['IND_BOM_1_2','IND_BOM_1_1'], axis=1).append(valid_adi.drop(['IND_BOM_1_2','IND_BOM_1_1'], axis=1))\n",
    "df_validacao.drop(columns=['INDEX'], axis=1, inplace=True)\n",
    "\n",
    "\n",
    "def rf(trial):\n",
    "    n_estimators = trial.suggest_int(\"n_estimators\", 8, 32)\n",
    "    max_depth = trial.suggest_int(\"max_depth\", 16, 64)\n",
    "    criterion = trial.suggest_categorical(\"criterion\", [\"gini\", \"entropy\"])\n",
    "    min_samples_leaf = trial.suggest_int(\"min_samples_leaf\", 2, 8)\n",
    "    min_samples_split = trial.suggest_int(\"min_samples_split\", 2, 8)\n",
    "    random_forest = RandomForestClassifier(n_estimators=n_estimators, max_depth=max_depth, criterion=criterion, bootstrap=True, min_samples_leaf=min_samples_leaf, min_samples_split=min_samples_split)\n",
    "    print('Random Forest com {} estimadores e profundidade máxima {}, critério {}, min amostras de folhas {} e min divisão de amostras {}\\n'.format(\n",
    "        n_estimators, max_depth, criterion, min_samples_leaf, min_samples_split\n",
    "    ))\n",
    "\n",
    "    # start = time.time()\n",
    "    # n_scores = cross_val_score(random_forest, ds_dropado, ds['IND_BOM_1_2'], scoring='accuracy', n_jobs=1, error_score='raise')\n",
    "    # print('Acurácia e desvio padrão: %.3f (%.3f)' % (mean(n_scores), std(n_scores)))\n",
    "    # print(\"Tempo: \", format(time.time() - start, '.3f'), 's\\n', sep='')\n",
    "\n",
    "    random_forest.fit(df_treino, [0]*len(treino_ina)+[1]*len(treino_adi))\n",
    "    rf_pred_class  = random_forest.predict(df_validacao)\n",
    "    rf_pred_scores = random_forest.predict_proba(df_validacao)\n",
    "    accuracy, recall, precision, f1, auroc, aupr = compute_performance_metrics_sem_plot([0]*len(valid_ina)+[1]*len(valid_adi), rf_pred_class, rf_pred_scores)\n",
    "    # print('Acurácia: {} | Recall: {} | Precision: {} | F1: {} | AUROC: {} | AURP: {}\\n'.format(accuracy, recall, precision, f1, auroc, aupr))\n",
    "    return accuracy\n",
    "\n",
    "study_1 = optuna.create_study(direction=\"maximize\")\n",
    "study_1.optimize(rf, n_trials=64)"
   ]
  },
  {
   "cell_type": "code",
   "execution_count": 14,
   "metadata": {},
   "outputs": [
    {
     "data": {
      "application/vnd.plotly.v1+json": {
       "config": {
        "plotlyServerURL": "https://plot.ly"
       },
       "data": [
        {
         "mode": "markers",
         "name": "Objective Value",
         "type": "scatter",
         "x": [
          0,
          1,
          2,
          3,
          4,
          5,
          6,
          7,
          8,
          9,
          10,
          11,
          12,
          13,
          14,
          15,
          16,
          17,
          18,
          19,
          20,
          21,
          22,
          23,
          24,
          25,
          26,
          27,
          28,
          29,
          30,
          31,
          32
         ],
         "y": [
          0.6368953351626813,
          0.6390435123480988,
          0.6394041552332419,
          0.6341199529596236,
          0.6410740885927088,
          0.6322853782830262,
          0.6345041160329282,
          0.6386201489611917,
          0.6416542532340259,
          0.6128498627989024,
          0.6202900823206585,
          0.6419521756174049,
          0.6416228929831439,
          0.6412152097216778,
          0.6414974519796158,
          0.6392551940415523,
          0.6294002352018816,
          0.6413720109760878,
          0.6397099176793415,
          0.639968639749118,
          0.5925519404155233,
          0.6408624068992552,
          0.6415131321050569,
          0.639921599372795,
          0.6405252842022736,
          0.6410427283418267,
          0.6416542532340259,
          0.6402116816934535,
          0.6413955311642493,
          0.6376558212465699,
          0.6389964719717758,
          0.6417404939239514,
          0.6405017640141121
         ]
        },
        {
         "name": "Best Value",
         "type": "scatter",
         "x": [
          0,
          1,
          2,
          3,
          4,
          5,
          6,
          7,
          8,
          9,
          10,
          11,
          12,
          13,
          14,
          15,
          16,
          17,
          18,
          19,
          20,
          21,
          22,
          23,
          24,
          25,
          26,
          27,
          28,
          29,
          30,
          31,
          32
         ],
         "y": [
          0.6368953351626813,
          0.6390435123480988,
          0.6394041552332419,
          0.6394041552332419,
          0.6410740885927088,
          0.6410740885927088,
          0.6410740885927088,
          0.6410740885927088,
          0.6416542532340259,
          0.6416542532340259,
          0.6416542532340259,
          0.6419521756174049,
          0.6419521756174049,
          0.6419521756174049,
          0.6419521756174049,
          0.6419521756174049,
          0.6419521756174049,
          0.6419521756174049,
          0.6419521756174049,
          0.6419521756174049,
          0.6419521756174049,
          0.6419521756174049,
          0.6419521756174049,
          0.6419521756174049,
          0.6419521756174049,
          0.6419521756174049,
          0.6419521756174049,
          0.6419521756174049,
          0.6419521756174049,
          0.6419521756174049,
          0.6419521756174049,
          0.6419521756174049,
          0.6419521756174049
         ]
        }
       ],
       "layout": {
        "template": {
         "data": {
          "bar": [
           {
            "error_x": {
             "color": "#2a3f5f"
            },
            "error_y": {
             "color": "#2a3f5f"
            },
            "marker": {
             "line": {
              "color": "#E5ECF6",
              "width": 0.5
             },
             "pattern": {
              "fillmode": "overlay",
              "size": 10,
              "solidity": 0.2
             }
            },
            "type": "bar"
           }
          ],
          "barpolar": [
           {
            "marker": {
             "line": {
              "color": "#E5ECF6",
              "width": 0.5
             },
             "pattern": {
              "fillmode": "overlay",
              "size": 10,
              "solidity": 0.2
             }
            },
            "type": "barpolar"
           }
          ],
          "carpet": [
           {
            "aaxis": {
             "endlinecolor": "#2a3f5f",
             "gridcolor": "white",
             "linecolor": "white",
             "minorgridcolor": "white",
             "startlinecolor": "#2a3f5f"
            },
            "baxis": {
             "endlinecolor": "#2a3f5f",
             "gridcolor": "white",
             "linecolor": "white",
             "minorgridcolor": "white",
             "startlinecolor": "#2a3f5f"
            },
            "type": "carpet"
           }
          ],
          "choropleth": [
           {
            "colorbar": {
             "outlinewidth": 0,
             "ticks": ""
            },
            "type": "choropleth"
           }
          ],
          "contour": [
           {
            "colorbar": {
             "outlinewidth": 0,
             "ticks": ""
            },
            "colorscale": [
             [
              0,
              "#0d0887"
             ],
             [
              0.1111111111111111,
              "#46039f"
             ],
             [
              0.2222222222222222,
              "#7201a8"
             ],
             [
              0.3333333333333333,
              "#9c179e"
             ],
             [
              0.4444444444444444,
              "#bd3786"
             ],
             [
              0.5555555555555556,
              "#d8576b"
             ],
             [
              0.6666666666666666,
              "#ed7953"
             ],
             [
              0.7777777777777778,
              "#fb9f3a"
             ],
             [
              0.8888888888888888,
              "#fdca26"
             ],
             [
              1,
              "#f0f921"
             ]
            ],
            "type": "contour"
           }
          ],
          "contourcarpet": [
           {
            "colorbar": {
             "outlinewidth": 0,
             "ticks": ""
            },
            "type": "contourcarpet"
           }
          ],
          "heatmap": [
           {
            "colorbar": {
             "outlinewidth": 0,
             "ticks": ""
            },
            "colorscale": [
             [
              0,
              "#0d0887"
             ],
             [
              0.1111111111111111,
              "#46039f"
             ],
             [
              0.2222222222222222,
              "#7201a8"
             ],
             [
              0.3333333333333333,
              "#9c179e"
             ],
             [
              0.4444444444444444,
              "#bd3786"
             ],
             [
              0.5555555555555556,
              "#d8576b"
             ],
             [
              0.6666666666666666,
              "#ed7953"
             ],
             [
              0.7777777777777778,
              "#fb9f3a"
             ],
             [
              0.8888888888888888,
              "#fdca26"
             ],
             [
              1,
              "#f0f921"
             ]
            ],
            "type": "heatmap"
           }
          ],
          "heatmapgl": [
           {
            "colorbar": {
             "outlinewidth": 0,
             "ticks": ""
            },
            "colorscale": [
             [
              0,
              "#0d0887"
             ],
             [
              0.1111111111111111,
              "#46039f"
             ],
             [
              0.2222222222222222,
              "#7201a8"
             ],
             [
              0.3333333333333333,
              "#9c179e"
             ],
             [
              0.4444444444444444,
              "#bd3786"
             ],
             [
              0.5555555555555556,
              "#d8576b"
             ],
             [
              0.6666666666666666,
              "#ed7953"
             ],
             [
              0.7777777777777778,
              "#fb9f3a"
             ],
             [
              0.8888888888888888,
              "#fdca26"
             ],
             [
              1,
              "#f0f921"
             ]
            ],
            "type": "heatmapgl"
           }
          ],
          "histogram": [
           {
            "marker": {
             "pattern": {
              "fillmode": "overlay",
              "size": 10,
              "solidity": 0.2
             }
            },
            "type": "histogram"
           }
          ],
          "histogram2d": [
           {
            "colorbar": {
             "outlinewidth": 0,
             "ticks": ""
            },
            "colorscale": [
             [
              0,
              "#0d0887"
             ],
             [
              0.1111111111111111,
              "#46039f"
             ],
             [
              0.2222222222222222,
              "#7201a8"
             ],
             [
              0.3333333333333333,
              "#9c179e"
             ],
             [
              0.4444444444444444,
              "#bd3786"
             ],
             [
              0.5555555555555556,
              "#d8576b"
             ],
             [
              0.6666666666666666,
              "#ed7953"
             ],
             [
              0.7777777777777778,
              "#fb9f3a"
             ],
             [
              0.8888888888888888,
              "#fdca26"
             ],
             [
              1,
              "#f0f921"
             ]
            ],
            "type": "histogram2d"
           }
          ],
          "histogram2dcontour": [
           {
            "colorbar": {
             "outlinewidth": 0,
             "ticks": ""
            },
            "colorscale": [
             [
              0,
              "#0d0887"
             ],
             [
              0.1111111111111111,
              "#46039f"
             ],
             [
              0.2222222222222222,
              "#7201a8"
             ],
             [
              0.3333333333333333,
              "#9c179e"
             ],
             [
              0.4444444444444444,
              "#bd3786"
             ],
             [
              0.5555555555555556,
              "#d8576b"
             ],
             [
              0.6666666666666666,
              "#ed7953"
             ],
             [
              0.7777777777777778,
              "#fb9f3a"
             ],
             [
              0.8888888888888888,
              "#fdca26"
             ],
             [
              1,
              "#f0f921"
             ]
            ],
            "type": "histogram2dcontour"
           }
          ],
          "mesh3d": [
           {
            "colorbar": {
             "outlinewidth": 0,
             "ticks": ""
            },
            "type": "mesh3d"
           }
          ],
          "parcoords": [
           {
            "line": {
             "colorbar": {
              "outlinewidth": 0,
              "ticks": ""
             }
            },
            "type": "parcoords"
           }
          ],
          "pie": [
           {
            "automargin": true,
            "type": "pie"
           }
          ],
          "scatter": [
           {
            "marker": {
             "colorbar": {
              "outlinewidth": 0,
              "ticks": ""
             }
            },
            "type": "scatter"
           }
          ],
          "scatter3d": [
           {
            "line": {
             "colorbar": {
              "outlinewidth": 0,
              "ticks": ""
             }
            },
            "marker": {
             "colorbar": {
              "outlinewidth": 0,
              "ticks": ""
             }
            },
            "type": "scatter3d"
           }
          ],
          "scattercarpet": [
           {
            "marker": {
             "colorbar": {
              "outlinewidth": 0,
              "ticks": ""
             }
            },
            "type": "scattercarpet"
           }
          ],
          "scattergeo": [
           {
            "marker": {
             "colorbar": {
              "outlinewidth": 0,
              "ticks": ""
             }
            },
            "type": "scattergeo"
           }
          ],
          "scattergl": [
           {
            "marker": {
             "colorbar": {
              "outlinewidth": 0,
              "ticks": ""
             }
            },
            "type": "scattergl"
           }
          ],
          "scattermapbox": [
           {
            "marker": {
             "colorbar": {
              "outlinewidth": 0,
              "ticks": ""
             }
            },
            "type": "scattermapbox"
           }
          ],
          "scatterpolar": [
           {
            "marker": {
             "colorbar": {
              "outlinewidth": 0,
              "ticks": ""
             }
            },
            "type": "scatterpolar"
           }
          ],
          "scatterpolargl": [
           {
            "marker": {
             "colorbar": {
              "outlinewidth": 0,
              "ticks": ""
             }
            },
            "type": "scatterpolargl"
           }
          ],
          "scatterternary": [
           {
            "marker": {
             "colorbar": {
              "outlinewidth": 0,
              "ticks": ""
             }
            },
            "type": "scatterternary"
           }
          ],
          "surface": [
           {
            "colorbar": {
             "outlinewidth": 0,
             "ticks": ""
            },
            "colorscale": [
             [
              0,
              "#0d0887"
             ],
             [
              0.1111111111111111,
              "#46039f"
             ],
             [
              0.2222222222222222,
              "#7201a8"
             ],
             [
              0.3333333333333333,
              "#9c179e"
             ],
             [
              0.4444444444444444,
              "#bd3786"
             ],
             [
              0.5555555555555556,
              "#d8576b"
             ],
             [
              0.6666666666666666,
              "#ed7953"
             ],
             [
              0.7777777777777778,
              "#fb9f3a"
             ],
             [
              0.8888888888888888,
              "#fdca26"
             ],
             [
              1,
              "#f0f921"
             ]
            ],
            "type": "surface"
           }
          ],
          "table": [
           {
            "cells": {
             "fill": {
              "color": "#EBF0F8"
             },
             "line": {
              "color": "white"
             }
            },
            "header": {
             "fill": {
              "color": "#C8D4E3"
             },
             "line": {
              "color": "white"
             }
            },
            "type": "table"
           }
          ]
         },
         "layout": {
          "annotationdefaults": {
           "arrowcolor": "#2a3f5f",
           "arrowhead": 0,
           "arrowwidth": 1
          },
          "autotypenumbers": "strict",
          "coloraxis": {
           "colorbar": {
            "outlinewidth": 0,
            "ticks": ""
           }
          },
          "colorscale": {
           "diverging": [
            [
             0,
             "#8e0152"
            ],
            [
             0.1,
             "#c51b7d"
            ],
            [
             0.2,
             "#de77ae"
            ],
            [
             0.3,
             "#f1b6da"
            ],
            [
             0.4,
             "#fde0ef"
            ],
            [
             0.5,
             "#f7f7f7"
            ],
            [
             0.6,
             "#e6f5d0"
            ],
            [
             0.7,
             "#b8e186"
            ],
            [
             0.8,
             "#7fbc41"
            ],
            [
             0.9,
             "#4d9221"
            ],
            [
             1,
             "#276419"
            ]
           ],
           "sequential": [
            [
             0,
             "#0d0887"
            ],
            [
             0.1111111111111111,
             "#46039f"
            ],
            [
             0.2222222222222222,
             "#7201a8"
            ],
            [
             0.3333333333333333,
             "#9c179e"
            ],
            [
             0.4444444444444444,
             "#bd3786"
            ],
            [
             0.5555555555555556,
             "#d8576b"
            ],
            [
             0.6666666666666666,
             "#ed7953"
            ],
            [
             0.7777777777777778,
             "#fb9f3a"
            ],
            [
             0.8888888888888888,
             "#fdca26"
            ],
            [
             1,
             "#f0f921"
            ]
           ],
           "sequentialminus": [
            [
             0,
             "#0d0887"
            ],
            [
             0.1111111111111111,
             "#46039f"
            ],
            [
             0.2222222222222222,
             "#7201a8"
            ],
            [
             0.3333333333333333,
             "#9c179e"
            ],
            [
             0.4444444444444444,
             "#bd3786"
            ],
            [
             0.5555555555555556,
             "#d8576b"
            ],
            [
             0.6666666666666666,
             "#ed7953"
            ],
            [
             0.7777777777777778,
             "#fb9f3a"
            ],
            [
             0.8888888888888888,
             "#fdca26"
            ],
            [
             1,
             "#f0f921"
            ]
           ]
          },
          "colorway": [
           "#636efa",
           "#EF553B",
           "#00cc96",
           "#ab63fa",
           "#FFA15A",
           "#19d3f3",
           "#FF6692",
           "#B6E880",
           "#FF97FF",
           "#FECB52"
          ],
          "font": {
           "color": "#2a3f5f"
          },
          "geo": {
           "bgcolor": "white",
           "lakecolor": "white",
           "landcolor": "#E5ECF6",
           "showlakes": true,
           "showland": true,
           "subunitcolor": "white"
          },
          "hoverlabel": {
           "align": "left"
          },
          "hovermode": "closest",
          "mapbox": {
           "style": "light"
          },
          "paper_bgcolor": "white",
          "plot_bgcolor": "#E5ECF6",
          "polar": {
           "angularaxis": {
            "gridcolor": "white",
            "linecolor": "white",
            "ticks": ""
           },
           "bgcolor": "#E5ECF6",
           "radialaxis": {
            "gridcolor": "white",
            "linecolor": "white",
            "ticks": ""
           }
          },
          "scene": {
           "xaxis": {
            "backgroundcolor": "#E5ECF6",
            "gridcolor": "white",
            "gridwidth": 2,
            "linecolor": "white",
            "showbackground": true,
            "ticks": "",
            "zerolinecolor": "white"
           },
           "yaxis": {
            "backgroundcolor": "#E5ECF6",
            "gridcolor": "white",
            "gridwidth": 2,
            "linecolor": "white",
            "showbackground": true,
            "ticks": "",
            "zerolinecolor": "white"
           },
           "zaxis": {
            "backgroundcolor": "#E5ECF6",
            "gridcolor": "white",
            "gridwidth": 2,
            "linecolor": "white",
            "showbackground": true,
            "ticks": "",
            "zerolinecolor": "white"
           }
          },
          "shapedefaults": {
           "line": {
            "color": "#2a3f5f"
           }
          },
          "ternary": {
           "aaxis": {
            "gridcolor": "white",
            "linecolor": "white",
            "ticks": ""
           },
           "baxis": {
            "gridcolor": "white",
            "linecolor": "white",
            "ticks": ""
           },
           "bgcolor": "#E5ECF6",
           "caxis": {
            "gridcolor": "white",
            "linecolor": "white",
            "ticks": ""
           }
          },
          "title": {
           "x": 0.05
          },
          "xaxis": {
           "automargin": true,
           "gridcolor": "white",
           "linecolor": "white",
           "ticks": "",
           "title": {
            "standoff": 15
           },
           "zerolinecolor": "white",
           "zerolinewidth": 2
          },
          "yaxis": {
           "automargin": true,
           "gridcolor": "white",
           "linecolor": "white",
           "ticks": "",
           "title": {
            "standoff": 15
           },
           "zerolinecolor": "white",
           "zerolinewidth": 2
          }
         }
        },
        "title": {
         "text": "Optimization History Plot"
        },
        "xaxis": {
         "title": {
          "text": "#Trials"
         }
        },
        "yaxis": {
         "title": {
          "text": "Objective Value"
         }
        }
       }
      }
     },
     "metadata": {},
     "output_type": "display_data"
    }
   ],
   "source": [
    "optuna.visualization.plot_optimization_history(study_1)"
   ]
  },
  {
   "cell_type": "code",
   "execution_count": 15,
   "metadata": {},
   "outputs": [
    {
     "data": {
      "application/vnd.plotly.v1+json": {
       "config": {
        "plotlyServerURL": "https://plot.ly"
       },
       "data": [
        {
         "marker": {
          "color": [
           0,
           1,
           2,
           3,
           4,
           5,
           6,
           7,
           8,
           9,
           10,
           11,
           12,
           13,
           14,
           15,
           16,
           17,
           18,
           19,
           20,
           21,
           22,
           23,
           24,
           25,
           26,
           27,
           28,
           29,
           30,
           31,
           32
          ],
          "colorbar": {
           "title": {
            "text": "#Trials"
           },
           "x": 1,
           "xpad": 40
          },
          "colorscale": [
           [
            0,
            "rgb(247,251,255)"
           ],
           [
            0.125,
            "rgb(222,235,247)"
           ],
           [
            0.25,
            "rgb(198,219,239)"
           ],
           [
            0.375,
            "rgb(158,202,225)"
           ],
           [
            0.5,
            "rgb(107,174,214)"
           ],
           [
            0.625,
            "rgb(66,146,198)"
           ],
           [
            0.75,
            "rgb(33,113,181)"
           ],
           [
            0.875,
            "rgb(8,81,156)"
           ],
           [
            1,
            "rgb(8,48,107)"
           ]
          ],
          "line": {
           "color": "Grey",
           "width": 0.5
          },
          "showscale": true
         },
         "mode": "markers",
         "showlegend": false,
         "type": "scatter",
         "x": [
          "entropy",
          "gini",
          "gini",
          "entropy",
          "entropy",
          "entropy",
          "entropy",
          "entropy",
          "entropy",
          "entropy",
          "gini",
          "entropy",
          "entropy",
          "entropy",
          "entropy",
          "entropy",
          "gini",
          "entropy",
          "entropy",
          "entropy",
          "entropy",
          "entropy",
          "entropy",
          "entropy",
          "entropy",
          "entropy",
          "entropy",
          "gini",
          "entropy",
          "entropy",
          "entropy",
          "entropy",
          "entropy"
         ],
         "xaxis": "x",
         "y": [
          0.6368953351626813,
          0.6390435123480988,
          0.6394041552332419,
          0.6341199529596236,
          0.6410740885927088,
          0.6322853782830262,
          0.6345041160329282,
          0.6386201489611917,
          0.6416542532340259,
          0.6128498627989024,
          0.6202900823206585,
          0.6419521756174049,
          0.6416228929831439,
          0.6412152097216778,
          0.6414974519796158,
          0.6392551940415523,
          0.6294002352018816,
          0.6413720109760878,
          0.6397099176793415,
          0.639968639749118,
          0.5925519404155233,
          0.6408624068992552,
          0.6415131321050569,
          0.639921599372795,
          0.6405252842022736,
          0.6410427283418267,
          0.6416542532340259,
          0.6402116816934535,
          0.6413955311642493,
          0.6376558212465699,
          0.6389964719717758,
          0.6417404939239514,
          0.6405017640141121
         ],
         "yaxis": "y"
        },
        {
         "marker": {
          "color": [
           0,
           1,
           2,
           3,
           4,
           5,
           6,
           7,
           8,
           9,
           10,
           11,
           12,
           13,
           14,
           15,
           16,
           17,
           18,
           19,
           20,
           21,
           22,
           23,
           24,
           25,
           26,
           27,
           28,
           29,
           30,
           31,
           32
          ],
          "colorbar": {
           "title": {
            "text": "#Trials"
           },
           "x": 1,
           "xpad": 40
          },
          "colorscale": [
           [
            0,
            "rgb(247,251,255)"
           ],
           [
            0.125,
            "rgb(222,235,247)"
           ],
           [
            0.25,
            "rgb(198,219,239)"
           ],
           [
            0.375,
            "rgb(158,202,225)"
           ],
           [
            0.5,
            "rgb(107,174,214)"
           ],
           [
            0.625,
            "rgb(66,146,198)"
           ],
           [
            0.75,
            "rgb(33,113,181)"
           ],
           [
            0.875,
            "rgb(8,81,156)"
           ],
           [
            1,
            "rgb(8,48,107)"
           ]
          ],
          "line": {
           "color": "Grey",
           "width": 0.5
          },
          "showscale": false
         },
         "mode": "markers",
         "showlegend": false,
         "type": "scatter",
         "x": [
          10,
          13,
          13,
          10,
          14,
          8,
          9,
          11,
          13,
          4,
          5,
          15,
          16,
          16,
          15,
          12,
          7,
          16,
          14,
          12,
          2,
          16,
          15,
          14,
          16,
          15,
          13,
          12,
          13,
          10,
          11,
          14,
          13
         ],
         "xaxis": "x2",
         "y": [
          0.6368953351626813,
          0.6390435123480988,
          0.6394041552332419,
          0.6341199529596236,
          0.6410740885927088,
          0.6322853782830262,
          0.6345041160329282,
          0.6386201489611917,
          0.6416542532340259,
          0.6128498627989024,
          0.6202900823206585,
          0.6419521756174049,
          0.6416228929831439,
          0.6412152097216778,
          0.6414974519796158,
          0.6392551940415523,
          0.6294002352018816,
          0.6413720109760878,
          0.6397099176793415,
          0.639968639749118,
          0.5925519404155233,
          0.6408624068992552,
          0.6415131321050569,
          0.639921599372795,
          0.6405252842022736,
          0.6410427283418267,
          0.6416542532340259,
          0.6402116816934535,
          0.6413955311642493,
          0.6376558212465699,
          0.6389964719717758,
          0.6417404939239514,
          0.6405017640141121
         ],
         "yaxis": "y2"
        },
        {
         "marker": {
          "color": [
           0,
           1,
           2,
           3,
           4,
           5,
           6,
           7,
           8,
           9,
           10,
           11,
           12,
           13,
           14,
           15,
           16,
           17,
           18,
           19,
           20,
           21,
           22,
           23,
           24,
           25,
           26,
           27,
           28,
           29,
           30,
           31,
           32
          ],
          "colorbar": {
           "title": {
            "text": "#Trials"
           },
           "x": 1,
           "xpad": 40
          },
          "colorscale": [
           [
            0,
            "rgb(247,251,255)"
           ],
           [
            0.125,
            "rgb(222,235,247)"
           ],
           [
            0.25,
            "rgb(198,219,239)"
           ],
           [
            0.375,
            "rgb(158,202,225)"
           ],
           [
            0.5,
            "rgb(107,174,214)"
           ],
           [
            0.625,
            "rgb(66,146,198)"
           ],
           [
            0.75,
            "rgb(33,113,181)"
           ],
           [
            0.875,
            "rgb(8,81,156)"
           ],
           [
            1,
            "rgb(8,48,107)"
           ]
          ],
          "line": {
           "color": "Grey",
           "width": 0.5
          },
          "showscale": false
         },
         "mode": "markers",
         "showlegend": false,
         "type": "scatter",
         "x": [
          3,
          2,
          6,
          4,
          5,
          7,
          2,
          7,
          7,
          4,
          8,
          5,
          6,
          8,
          5,
          6,
          7,
          4,
          8,
          6,
          3,
          6,
          5,
          7,
          6,
          5,
          7,
          7,
          8,
          3,
          7,
          6,
          6
         ],
         "xaxis": "x3",
         "y": [
          0.6368953351626813,
          0.6390435123480988,
          0.6394041552332419,
          0.6341199529596236,
          0.6410740885927088,
          0.6322853782830262,
          0.6345041160329282,
          0.6386201489611917,
          0.6416542532340259,
          0.6128498627989024,
          0.6202900823206585,
          0.6419521756174049,
          0.6416228929831439,
          0.6412152097216778,
          0.6414974519796158,
          0.6392551940415523,
          0.6294002352018816,
          0.6413720109760878,
          0.6397099176793415,
          0.639968639749118,
          0.5925519404155233,
          0.6408624068992552,
          0.6415131321050569,
          0.639921599372795,
          0.6405252842022736,
          0.6410427283418267,
          0.6416542532340259,
          0.6402116816934535,
          0.6413955311642493,
          0.6376558212465699,
          0.6389964719717758,
          0.6417404939239514,
          0.6405017640141121
         ],
         "yaxis": "y3"
        },
        {
         "marker": {
          "color": [
           0,
           1,
           2,
           3,
           4,
           5,
           6,
           7,
           8,
           9,
           10,
           11,
           12,
           13,
           14,
           15,
           16,
           17,
           18,
           19,
           20,
           21,
           22,
           23,
           24,
           25,
           26,
           27,
           28,
           29,
           30,
           31,
           32
          ],
          "colorbar": {
           "title": {
            "text": "#Trials"
           },
           "x": 1,
           "xpad": 40
          },
          "colorscale": [
           [
            0,
            "rgb(247,251,255)"
           ],
           [
            0.125,
            "rgb(222,235,247)"
           ],
           [
            0.25,
            "rgb(198,219,239)"
           ],
           [
            0.375,
            "rgb(158,202,225)"
           ],
           [
            0.5,
            "rgb(107,174,214)"
           ],
           [
            0.625,
            "rgb(66,146,198)"
           ],
           [
            0.75,
            "rgb(33,113,181)"
           ],
           [
            0.875,
            "rgb(8,81,156)"
           ],
           [
            1,
            "rgb(8,48,107)"
           ]
          ],
          "line": {
           "color": "Grey",
           "width": 0.5
          },
          "showscale": false
         },
         "mode": "markers",
         "showlegend": false,
         "type": "scatter",
         "x": [
          4,
          4,
          2,
          5,
          5,
          6,
          5,
          4,
          8,
          6,
          8,
          8,
          8,
          7,
          8,
          7,
          7,
          2,
          8,
          6,
          7,
          8,
          8,
          7,
          8,
          7,
          8,
          6,
          3,
          7,
          8,
          8,
          8
         ],
         "xaxis": "x4",
         "y": [
          0.6368953351626813,
          0.6390435123480988,
          0.6394041552332419,
          0.6341199529596236,
          0.6410740885927088,
          0.6322853782830262,
          0.6345041160329282,
          0.6386201489611917,
          0.6416542532340259,
          0.6128498627989024,
          0.6202900823206585,
          0.6419521756174049,
          0.6416228929831439,
          0.6412152097216778,
          0.6414974519796158,
          0.6392551940415523,
          0.6294002352018816,
          0.6413720109760878,
          0.6397099176793415,
          0.639968639749118,
          0.5925519404155233,
          0.6408624068992552,
          0.6415131321050569,
          0.639921599372795,
          0.6405252842022736,
          0.6410427283418267,
          0.6416542532340259,
          0.6402116816934535,
          0.6413955311642493,
          0.6376558212465699,
          0.6389964719717758,
          0.6417404939239514,
          0.6405017640141121
         ],
         "yaxis": "y4"
        },
        {
         "marker": {
          "color": [
           0,
           1,
           2,
           3,
           4,
           5,
           6,
           7,
           8,
           9,
           10,
           11,
           12,
           13,
           14,
           15,
           16,
           17,
           18,
           19,
           20,
           21,
           22,
           23,
           24,
           25,
           26,
           27,
           28,
           29,
           30,
           31,
           32
          ],
          "colorbar": {
           "title": {
            "text": "#Trials"
           },
           "x": 1,
           "xpad": 40
          },
          "colorscale": [
           [
            0,
            "rgb(247,251,255)"
           ],
           [
            0.125,
            "rgb(222,235,247)"
           ],
           [
            0.25,
            "rgb(198,219,239)"
           ],
           [
            0.375,
            "rgb(158,202,225)"
           ],
           [
            0.5,
            "rgb(107,174,214)"
           ],
           [
            0.625,
            "rgb(66,146,198)"
           ],
           [
            0.75,
            "rgb(33,113,181)"
           ],
           [
            0.875,
            "rgb(8,81,156)"
           ],
           [
            1,
            "rgb(8,48,107)"
           ]
          ],
          "line": {
           "color": "Grey",
           "width": 0.5
          },
          "showscale": false
         },
         "mode": "markers",
         "showlegend": false,
         "type": "scatter",
         "x": [
          109,
          35,
          63,
          25,
          77,
          74,
          65,
          72,
          83,
          46,
          120,
          96,
          98,
          92,
          124,
          95,
          86,
          107,
          56,
          111,
          83,
          99,
          100,
          85,
          116,
          103,
          88,
          89,
          80,
          63,
          112,
          92,
          92
         ],
         "xaxis": "x5",
         "y": [
          0.6368953351626813,
          0.6390435123480988,
          0.6394041552332419,
          0.6341199529596236,
          0.6410740885927088,
          0.6322853782830262,
          0.6345041160329282,
          0.6386201489611917,
          0.6416542532340259,
          0.6128498627989024,
          0.6202900823206585,
          0.6419521756174049,
          0.6416228929831439,
          0.6412152097216778,
          0.6414974519796158,
          0.6392551940415523,
          0.6294002352018816,
          0.6413720109760878,
          0.6397099176793415,
          0.639968639749118,
          0.5925519404155233,
          0.6408624068992552,
          0.6415131321050569,
          0.639921599372795,
          0.6405252842022736,
          0.6410427283418267,
          0.6416542532340259,
          0.6402116816934535,
          0.6413955311642493,
          0.6376558212465699,
          0.6389964719717758,
          0.6417404939239514,
          0.6405017640141121
         ],
         "yaxis": "y5"
        }
       ],
       "layout": {
        "template": {
         "data": {
          "bar": [
           {
            "error_x": {
             "color": "#2a3f5f"
            },
            "error_y": {
             "color": "#2a3f5f"
            },
            "marker": {
             "line": {
              "color": "#E5ECF6",
              "width": 0.5
             },
             "pattern": {
              "fillmode": "overlay",
              "size": 10,
              "solidity": 0.2
             }
            },
            "type": "bar"
           }
          ],
          "barpolar": [
           {
            "marker": {
             "line": {
              "color": "#E5ECF6",
              "width": 0.5
             },
             "pattern": {
              "fillmode": "overlay",
              "size": 10,
              "solidity": 0.2
             }
            },
            "type": "barpolar"
           }
          ],
          "carpet": [
           {
            "aaxis": {
             "endlinecolor": "#2a3f5f",
             "gridcolor": "white",
             "linecolor": "white",
             "minorgridcolor": "white",
             "startlinecolor": "#2a3f5f"
            },
            "baxis": {
             "endlinecolor": "#2a3f5f",
             "gridcolor": "white",
             "linecolor": "white",
             "minorgridcolor": "white",
             "startlinecolor": "#2a3f5f"
            },
            "type": "carpet"
           }
          ],
          "choropleth": [
           {
            "colorbar": {
             "outlinewidth": 0,
             "ticks": ""
            },
            "type": "choropleth"
           }
          ],
          "contour": [
           {
            "colorbar": {
             "outlinewidth": 0,
             "ticks": ""
            },
            "colorscale": [
             [
              0,
              "#0d0887"
             ],
             [
              0.1111111111111111,
              "#46039f"
             ],
             [
              0.2222222222222222,
              "#7201a8"
             ],
             [
              0.3333333333333333,
              "#9c179e"
             ],
             [
              0.4444444444444444,
              "#bd3786"
             ],
             [
              0.5555555555555556,
              "#d8576b"
             ],
             [
              0.6666666666666666,
              "#ed7953"
             ],
             [
              0.7777777777777778,
              "#fb9f3a"
             ],
             [
              0.8888888888888888,
              "#fdca26"
             ],
             [
              1,
              "#f0f921"
             ]
            ],
            "type": "contour"
           }
          ],
          "contourcarpet": [
           {
            "colorbar": {
             "outlinewidth": 0,
             "ticks": ""
            },
            "type": "contourcarpet"
           }
          ],
          "heatmap": [
           {
            "colorbar": {
             "outlinewidth": 0,
             "ticks": ""
            },
            "colorscale": [
             [
              0,
              "#0d0887"
             ],
             [
              0.1111111111111111,
              "#46039f"
             ],
             [
              0.2222222222222222,
              "#7201a8"
             ],
             [
              0.3333333333333333,
              "#9c179e"
             ],
             [
              0.4444444444444444,
              "#bd3786"
             ],
             [
              0.5555555555555556,
              "#d8576b"
             ],
             [
              0.6666666666666666,
              "#ed7953"
             ],
             [
              0.7777777777777778,
              "#fb9f3a"
             ],
             [
              0.8888888888888888,
              "#fdca26"
             ],
             [
              1,
              "#f0f921"
             ]
            ],
            "type": "heatmap"
           }
          ],
          "heatmapgl": [
           {
            "colorbar": {
             "outlinewidth": 0,
             "ticks": ""
            },
            "colorscale": [
             [
              0,
              "#0d0887"
             ],
             [
              0.1111111111111111,
              "#46039f"
             ],
             [
              0.2222222222222222,
              "#7201a8"
             ],
             [
              0.3333333333333333,
              "#9c179e"
             ],
             [
              0.4444444444444444,
              "#bd3786"
             ],
             [
              0.5555555555555556,
              "#d8576b"
             ],
             [
              0.6666666666666666,
              "#ed7953"
             ],
             [
              0.7777777777777778,
              "#fb9f3a"
             ],
             [
              0.8888888888888888,
              "#fdca26"
             ],
             [
              1,
              "#f0f921"
             ]
            ],
            "type": "heatmapgl"
           }
          ],
          "histogram": [
           {
            "marker": {
             "pattern": {
              "fillmode": "overlay",
              "size": 10,
              "solidity": 0.2
             }
            },
            "type": "histogram"
           }
          ],
          "histogram2d": [
           {
            "colorbar": {
             "outlinewidth": 0,
             "ticks": ""
            },
            "colorscale": [
             [
              0,
              "#0d0887"
             ],
             [
              0.1111111111111111,
              "#46039f"
             ],
             [
              0.2222222222222222,
              "#7201a8"
             ],
             [
              0.3333333333333333,
              "#9c179e"
             ],
             [
              0.4444444444444444,
              "#bd3786"
             ],
             [
              0.5555555555555556,
              "#d8576b"
             ],
             [
              0.6666666666666666,
              "#ed7953"
             ],
             [
              0.7777777777777778,
              "#fb9f3a"
             ],
             [
              0.8888888888888888,
              "#fdca26"
             ],
             [
              1,
              "#f0f921"
             ]
            ],
            "type": "histogram2d"
           }
          ],
          "histogram2dcontour": [
           {
            "colorbar": {
             "outlinewidth": 0,
             "ticks": ""
            },
            "colorscale": [
             [
              0,
              "#0d0887"
             ],
             [
              0.1111111111111111,
              "#46039f"
             ],
             [
              0.2222222222222222,
              "#7201a8"
             ],
             [
              0.3333333333333333,
              "#9c179e"
             ],
             [
              0.4444444444444444,
              "#bd3786"
             ],
             [
              0.5555555555555556,
              "#d8576b"
             ],
             [
              0.6666666666666666,
              "#ed7953"
             ],
             [
              0.7777777777777778,
              "#fb9f3a"
             ],
             [
              0.8888888888888888,
              "#fdca26"
             ],
             [
              1,
              "#f0f921"
             ]
            ],
            "type": "histogram2dcontour"
           }
          ],
          "mesh3d": [
           {
            "colorbar": {
             "outlinewidth": 0,
             "ticks": ""
            },
            "type": "mesh3d"
           }
          ],
          "parcoords": [
           {
            "line": {
             "colorbar": {
              "outlinewidth": 0,
              "ticks": ""
             }
            },
            "type": "parcoords"
           }
          ],
          "pie": [
           {
            "automargin": true,
            "type": "pie"
           }
          ],
          "scatter": [
           {
            "marker": {
             "colorbar": {
              "outlinewidth": 0,
              "ticks": ""
             }
            },
            "type": "scatter"
           }
          ],
          "scatter3d": [
           {
            "line": {
             "colorbar": {
              "outlinewidth": 0,
              "ticks": ""
             }
            },
            "marker": {
             "colorbar": {
              "outlinewidth": 0,
              "ticks": ""
             }
            },
            "type": "scatter3d"
           }
          ],
          "scattercarpet": [
           {
            "marker": {
             "colorbar": {
              "outlinewidth": 0,
              "ticks": ""
             }
            },
            "type": "scattercarpet"
           }
          ],
          "scattergeo": [
           {
            "marker": {
             "colorbar": {
              "outlinewidth": 0,
              "ticks": ""
             }
            },
            "type": "scattergeo"
           }
          ],
          "scattergl": [
           {
            "marker": {
             "colorbar": {
              "outlinewidth": 0,
              "ticks": ""
             }
            },
            "type": "scattergl"
           }
          ],
          "scattermapbox": [
           {
            "marker": {
             "colorbar": {
              "outlinewidth": 0,
              "ticks": ""
             }
            },
            "type": "scattermapbox"
           }
          ],
          "scatterpolar": [
           {
            "marker": {
             "colorbar": {
              "outlinewidth": 0,
              "ticks": ""
             }
            },
            "type": "scatterpolar"
           }
          ],
          "scatterpolargl": [
           {
            "marker": {
             "colorbar": {
              "outlinewidth": 0,
              "ticks": ""
             }
            },
            "type": "scatterpolargl"
           }
          ],
          "scatterternary": [
           {
            "marker": {
             "colorbar": {
              "outlinewidth": 0,
              "ticks": ""
             }
            },
            "type": "scatterternary"
           }
          ],
          "surface": [
           {
            "colorbar": {
             "outlinewidth": 0,
             "ticks": ""
            },
            "colorscale": [
             [
              0,
              "#0d0887"
             ],
             [
              0.1111111111111111,
              "#46039f"
             ],
             [
              0.2222222222222222,
              "#7201a8"
             ],
             [
              0.3333333333333333,
              "#9c179e"
             ],
             [
              0.4444444444444444,
              "#bd3786"
             ],
             [
              0.5555555555555556,
              "#d8576b"
             ],
             [
              0.6666666666666666,
              "#ed7953"
             ],
             [
              0.7777777777777778,
              "#fb9f3a"
             ],
             [
              0.8888888888888888,
              "#fdca26"
             ],
             [
              1,
              "#f0f921"
             ]
            ],
            "type": "surface"
           }
          ],
          "table": [
           {
            "cells": {
             "fill": {
              "color": "#EBF0F8"
             },
             "line": {
              "color": "white"
             }
            },
            "header": {
             "fill": {
              "color": "#C8D4E3"
             },
             "line": {
              "color": "white"
             }
            },
            "type": "table"
           }
          ]
         },
         "layout": {
          "annotationdefaults": {
           "arrowcolor": "#2a3f5f",
           "arrowhead": 0,
           "arrowwidth": 1
          },
          "autotypenumbers": "strict",
          "coloraxis": {
           "colorbar": {
            "outlinewidth": 0,
            "ticks": ""
           }
          },
          "colorscale": {
           "diverging": [
            [
             0,
             "#8e0152"
            ],
            [
             0.1,
             "#c51b7d"
            ],
            [
             0.2,
             "#de77ae"
            ],
            [
             0.3,
             "#f1b6da"
            ],
            [
             0.4,
             "#fde0ef"
            ],
            [
             0.5,
             "#f7f7f7"
            ],
            [
             0.6,
             "#e6f5d0"
            ],
            [
             0.7,
             "#b8e186"
            ],
            [
             0.8,
             "#7fbc41"
            ],
            [
             0.9,
             "#4d9221"
            ],
            [
             1,
             "#276419"
            ]
           ],
           "sequential": [
            [
             0,
             "#0d0887"
            ],
            [
             0.1111111111111111,
             "#46039f"
            ],
            [
             0.2222222222222222,
             "#7201a8"
            ],
            [
             0.3333333333333333,
             "#9c179e"
            ],
            [
             0.4444444444444444,
             "#bd3786"
            ],
            [
             0.5555555555555556,
             "#d8576b"
            ],
            [
             0.6666666666666666,
             "#ed7953"
            ],
            [
             0.7777777777777778,
             "#fb9f3a"
            ],
            [
             0.8888888888888888,
             "#fdca26"
            ],
            [
             1,
             "#f0f921"
            ]
           ],
           "sequentialminus": [
            [
             0,
             "#0d0887"
            ],
            [
             0.1111111111111111,
             "#46039f"
            ],
            [
             0.2222222222222222,
             "#7201a8"
            ],
            [
             0.3333333333333333,
             "#9c179e"
            ],
            [
             0.4444444444444444,
             "#bd3786"
            ],
            [
             0.5555555555555556,
             "#d8576b"
            ],
            [
             0.6666666666666666,
             "#ed7953"
            ],
            [
             0.7777777777777778,
             "#fb9f3a"
            ],
            [
             0.8888888888888888,
             "#fdca26"
            ],
            [
             1,
             "#f0f921"
            ]
           ]
          },
          "colorway": [
           "#636efa",
           "#EF553B",
           "#00cc96",
           "#ab63fa",
           "#FFA15A",
           "#19d3f3",
           "#FF6692",
           "#B6E880",
           "#FF97FF",
           "#FECB52"
          ],
          "font": {
           "color": "#2a3f5f"
          },
          "geo": {
           "bgcolor": "white",
           "lakecolor": "white",
           "landcolor": "#E5ECF6",
           "showlakes": true,
           "showland": true,
           "subunitcolor": "white"
          },
          "hoverlabel": {
           "align": "left"
          },
          "hovermode": "closest",
          "mapbox": {
           "style": "light"
          },
          "paper_bgcolor": "white",
          "plot_bgcolor": "#E5ECF6",
          "polar": {
           "angularaxis": {
            "gridcolor": "white",
            "linecolor": "white",
            "ticks": ""
           },
           "bgcolor": "#E5ECF6",
           "radialaxis": {
            "gridcolor": "white",
            "linecolor": "white",
            "ticks": ""
           }
          },
          "scene": {
           "xaxis": {
            "backgroundcolor": "#E5ECF6",
            "gridcolor": "white",
            "gridwidth": 2,
            "linecolor": "white",
            "showbackground": true,
            "ticks": "",
            "zerolinecolor": "white"
           },
           "yaxis": {
            "backgroundcolor": "#E5ECF6",
            "gridcolor": "white",
            "gridwidth": 2,
            "linecolor": "white",
            "showbackground": true,
            "ticks": "",
            "zerolinecolor": "white"
           },
           "zaxis": {
            "backgroundcolor": "#E5ECF6",
            "gridcolor": "white",
            "gridwidth": 2,
            "linecolor": "white",
            "showbackground": true,
            "ticks": "",
            "zerolinecolor": "white"
           }
          },
          "shapedefaults": {
           "line": {
            "color": "#2a3f5f"
           }
          },
          "ternary": {
           "aaxis": {
            "gridcolor": "white",
            "linecolor": "white",
            "ticks": ""
           },
           "baxis": {
            "gridcolor": "white",
            "linecolor": "white",
            "ticks": ""
           },
           "bgcolor": "#E5ECF6",
           "caxis": {
            "gridcolor": "white",
            "linecolor": "white",
            "ticks": ""
           }
          },
          "title": {
           "x": 0.05
          },
          "xaxis": {
           "automargin": true,
           "gridcolor": "white",
           "linecolor": "white",
           "ticks": "",
           "title": {
            "standoff": 15
           },
           "zerolinecolor": "white",
           "zerolinewidth": 2
          },
          "yaxis": {
           "automargin": true,
           "gridcolor": "white",
           "linecolor": "white",
           "ticks": "",
           "title": {
            "standoff": 15
           },
           "zerolinecolor": "white",
           "zerolinewidth": 2
          }
         }
        },
        "title": {
         "text": "Slice Plot"
        },
        "width": 1500,
        "xaxis": {
         "anchor": "y",
         "domain": [
          0,
          0.16799999999999998
         ],
         "title": {
          "text": "criterion"
         }
        },
        "xaxis2": {
         "anchor": "y2",
         "domain": [
          0.208,
          0.376
         ],
         "title": {
          "text": "max_depth"
         }
        },
        "xaxis3": {
         "anchor": "y3",
         "domain": [
          0.416,
          0.584
         ],
         "title": {
          "text": "min_samples_leaf"
         }
        },
        "xaxis4": {
         "anchor": "y4",
         "domain": [
          0.624,
          0.792
         ],
         "title": {
          "text": "min_samples_split"
         }
        },
        "xaxis5": {
         "anchor": "y5",
         "domain": [
          0.832,
          1
         ],
         "title": {
          "text": "n_estimators"
         }
        },
        "yaxis": {
         "anchor": "x",
         "domain": [
          0,
          1
         ],
         "title": {
          "text": "Objective Value"
         }
        },
        "yaxis2": {
         "anchor": "x2",
         "domain": [
          0,
          1
         ],
         "matches": "y",
         "showticklabels": false
        },
        "yaxis3": {
         "anchor": "x3",
         "domain": [
          0,
          1
         ],
         "matches": "y",
         "showticklabels": false
        },
        "yaxis4": {
         "anchor": "x4",
         "domain": [
          0,
          1
         ],
         "matches": "y",
         "showticklabels": false
        },
        "yaxis5": {
         "anchor": "x5",
         "domain": [
          0,
          1
         ],
         "matches": "y",
         "showticklabels": false
        }
       }
      }
     },
     "metadata": {},
     "output_type": "display_data"
    }
   ],
   "source": [
    "optuna.visualization.plot_slice(study_1)"
   ]
  },
  {
   "cell_type": "code",
   "execution_count": 16,
   "metadata": {},
   "outputs": [
    {
     "data": {
      "application/vnd.plotly.v1+json": {
       "config": {
        "plotlyServerURL": "https://plot.ly"
       },
       "data": [
        {
         "cliponaxis": false,
         "hovertemplate": [
          "criterion (CategoricalDistribution): 0.002867282468317447<extra></extra>",
          "min_samples_split (IntUniformDistribution): 0.004666303651944954<extra></extra>",
          "min_samples_leaf (IntUniformDistribution): 0.026386777020599137<extra></extra>",
          "n_estimators (IntUniformDistribution): 0.0464206758023868<extra></extra>",
          "max_depth (IntUniformDistribution): 0.9196589610567516<extra></extra>"
         ],
         "marker": {
          "color": [
           "rgb(66,146,198)",
           "rgb(8,81,156)",
           "rgb(8,81,156)",
           "rgb(8,81,156)",
           "rgb(8,81,156)"
          ]
         },
         "orientation": "h",
         "text": [
          "0.002867282468317447",
          "0.004666303651944954",
          "0.026386777020599137",
          "0.0464206758023868",
          "0.9196589610567516"
         ],
         "textposition": "outside",
         "texttemplate": "%{text:.2f}",
         "type": "bar",
         "x": [
          0.002867282468317447,
          0.004666303651944954,
          0.026386777020599137,
          0.0464206758023868,
          0.9196589610567516
         ],
         "y": [
          "criterion",
          "min_samples_split",
          "min_samples_leaf",
          "n_estimators",
          "max_depth"
         ]
        }
       ],
       "layout": {
        "showlegend": false,
        "template": {
         "data": {
          "bar": [
           {
            "error_x": {
             "color": "#2a3f5f"
            },
            "error_y": {
             "color": "#2a3f5f"
            },
            "marker": {
             "line": {
              "color": "#E5ECF6",
              "width": 0.5
             },
             "pattern": {
              "fillmode": "overlay",
              "size": 10,
              "solidity": 0.2
             }
            },
            "type": "bar"
           }
          ],
          "barpolar": [
           {
            "marker": {
             "line": {
              "color": "#E5ECF6",
              "width": 0.5
             },
             "pattern": {
              "fillmode": "overlay",
              "size": 10,
              "solidity": 0.2
             }
            },
            "type": "barpolar"
           }
          ],
          "carpet": [
           {
            "aaxis": {
             "endlinecolor": "#2a3f5f",
             "gridcolor": "white",
             "linecolor": "white",
             "minorgridcolor": "white",
             "startlinecolor": "#2a3f5f"
            },
            "baxis": {
             "endlinecolor": "#2a3f5f",
             "gridcolor": "white",
             "linecolor": "white",
             "minorgridcolor": "white",
             "startlinecolor": "#2a3f5f"
            },
            "type": "carpet"
           }
          ],
          "choropleth": [
           {
            "colorbar": {
             "outlinewidth": 0,
             "ticks": ""
            },
            "type": "choropleth"
           }
          ],
          "contour": [
           {
            "colorbar": {
             "outlinewidth": 0,
             "ticks": ""
            },
            "colorscale": [
             [
              0,
              "#0d0887"
             ],
             [
              0.1111111111111111,
              "#46039f"
             ],
             [
              0.2222222222222222,
              "#7201a8"
             ],
             [
              0.3333333333333333,
              "#9c179e"
             ],
             [
              0.4444444444444444,
              "#bd3786"
             ],
             [
              0.5555555555555556,
              "#d8576b"
             ],
             [
              0.6666666666666666,
              "#ed7953"
             ],
             [
              0.7777777777777778,
              "#fb9f3a"
             ],
             [
              0.8888888888888888,
              "#fdca26"
             ],
             [
              1,
              "#f0f921"
             ]
            ],
            "type": "contour"
           }
          ],
          "contourcarpet": [
           {
            "colorbar": {
             "outlinewidth": 0,
             "ticks": ""
            },
            "type": "contourcarpet"
           }
          ],
          "heatmap": [
           {
            "colorbar": {
             "outlinewidth": 0,
             "ticks": ""
            },
            "colorscale": [
             [
              0,
              "#0d0887"
             ],
             [
              0.1111111111111111,
              "#46039f"
             ],
             [
              0.2222222222222222,
              "#7201a8"
             ],
             [
              0.3333333333333333,
              "#9c179e"
             ],
             [
              0.4444444444444444,
              "#bd3786"
             ],
             [
              0.5555555555555556,
              "#d8576b"
             ],
             [
              0.6666666666666666,
              "#ed7953"
             ],
             [
              0.7777777777777778,
              "#fb9f3a"
             ],
             [
              0.8888888888888888,
              "#fdca26"
             ],
             [
              1,
              "#f0f921"
             ]
            ],
            "type": "heatmap"
           }
          ],
          "heatmapgl": [
           {
            "colorbar": {
             "outlinewidth": 0,
             "ticks": ""
            },
            "colorscale": [
             [
              0,
              "#0d0887"
             ],
             [
              0.1111111111111111,
              "#46039f"
             ],
             [
              0.2222222222222222,
              "#7201a8"
             ],
             [
              0.3333333333333333,
              "#9c179e"
             ],
             [
              0.4444444444444444,
              "#bd3786"
             ],
             [
              0.5555555555555556,
              "#d8576b"
             ],
             [
              0.6666666666666666,
              "#ed7953"
             ],
             [
              0.7777777777777778,
              "#fb9f3a"
             ],
             [
              0.8888888888888888,
              "#fdca26"
             ],
             [
              1,
              "#f0f921"
             ]
            ],
            "type": "heatmapgl"
           }
          ],
          "histogram": [
           {
            "marker": {
             "pattern": {
              "fillmode": "overlay",
              "size": 10,
              "solidity": 0.2
             }
            },
            "type": "histogram"
           }
          ],
          "histogram2d": [
           {
            "colorbar": {
             "outlinewidth": 0,
             "ticks": ""
            },
            "colorscale": [
             [
              0,
              "#0d0887"
             ],
             [
              0.1111111111111111,
              "#46039f"
             ],
             [
              0.2222222222222222,
              "#7201a8"
             ],
             [
              0.3333333333333333,
              "#9c179e"
             ],
             [
              0.4444444444444444,
              "#bd3786"
             ],
             [
              0.5555555555555556,
              "#d8576b"
             ],
             [
              0.6666666666666666,
              "#ed7953"
             ],
             [
              0.7777777777777778,
              "#fb9f3a"
             ],
             [
              0.8888888888888888,
              "#fdca26"
             ],
             [
              1,
              "#f0f921"
             ]
            ],
            "type": "histogram2d"
           }
          ],
          "histogram2dcontour": [
           {
            "colorbar": {
             "outlinewidth": 0,
             "ticks": ""
            },
            "colorscale": [
             [
              0,
              "#0d0887"
             ],
             [
              0.1111111111111111,
              "#46039f"
             ],
             [
              0.2222222222222222,
              "#7201a8"
             ],
             [
              0.3333333333333333,
              "#9c179e"
             ],
             [
              0.4444444444444444,
              "#bd3786"
             ],
             [
              0.5555555555555556,
              "#d8576b"
             ],
             [
              0.6666666666666666,
              "#ed7953"
             ],
             [
              0.7777777777777778,
              "#fb9f3a"
             ],
             [
              0.8888888888888888,
              "#fdca26"
             ],
             [
              1,
              "#f0f921"
             ]
            ],
            "type": "histogram2dcontour"
           }
          ],
          "mesh3d": [
           {
            "colorbar": {
             "outlinewidth": 0,
             "ticks": ""
            },
            "type": "mesh3d"
           }
          ],
          "parcoords": [
           {
            "line": {
             "colorbar": {
              "outlinewidth": 0,
              "ticks": ""
             }
            },
            "type": "parcoords"
           }
          ],
          "pie": [
           {
            "automargin": true,
            "type": "pie"
           }
          ],
          "scatter": [
           {
            "marker": {
             "colorbar": {
              "outlinewidth": 0,
              "ticks": ""
             }
            },
            "type": "scatter"
           }
          ],
          "scatter3d": [
           {
            "line": {
             "colorbar": {
              "outlinewidth": 0,
              "ticks": ""
             }
            },
            "marker": {
             "colorbar": {
              "outlinewidth": 0,
              "ticks": ""
             }
            },
            "type": "scatter3d"
           }
          ],
          "scattercarpet": [
           {
            "marker": {
             "colorbar": {
              "outlinewidth": 0,
              "ticks": ""
             }
            },
            "type": "scattercarpet"
           }
          ],
          "scattergeo": [
           {
            "marker": {
             "colorbar": {
              "outlinewidth": 0,
              "ticks": ""
             }
            },
            "type": "scattergeo"
           }
          ],
          "scattergl": [
           {
            "marker": {
             "colorbar": {
              "outlinewidth": 0,
              "ticks": ""
             }
            },
            "type": "scattergl"
           }
          ],
          "scattermapbox": [
           {
            "marker": {
             "colorbar": {
              "outlinewidth": 0,
              "ticks": ""
             }
            },
            "type": "scattermapbox"
           }
          ],
          "scatterpolar": [
           {
            "marker": {
             "colorbar": {
              "outlinewidth": 0,
              "ticks": ""
             }
            },
            "type": "scatterpolar"
           }
          ],
          "scatterpolargl": [
           {
            "marker": {
             "colorbar": {
              "outlinewidth": 0,
              "ticks": ""
             }
            },
            "type": "scatterpolargl"
           }
          ],
          "scatterternary": [
           {
            "marker": {
             "colorbar": {
              "outlinewidth": 0,
              "ticks": ""
             }
            },
            "type": "scatterternary"
           }
          ],
          "surface": [
           {
            "colorbar": {
             "outlinewidth": 0,
             "ticks": ""
            },
            "colorscale": [
             [
              0,
              "#0d0887"
             ],
             [
              0.1111111111111111,
              "#46039f"
             ],
             [
              0.2222222222222222,
              "#7201a8"
             ],
             [
              0.3333333333333333,
              "#9c179e"
             ],
             [
              0.4444444444444444,
              "#bd3786"
             ],
             [
              0.5555555555555556,
              "#d8576b"
             ],
             [
              0.6666666666666666,
              "#ed7953"
             ],
             [
              0.7777777777777778,
              "#fb9f3a"
             ],
             [
              0.8888888888888888,
              "#fdca26"
             ],
             [
              1,
              "#f0f921"
             ]
            ],
            "type": "surface"
           }
          ],
          "table": [
           {
            "cells": {
             "fill": {
              "color": "#EBF0F8"
             },
             "line": {
              "color": "white"
             }
            },
            "header": {
             "fill": {
              "color": "#C8D4E3"
             },
             "line": {
              "color": "white"
             }
            },
            "type": "table"
           }
          ]
         },
         "layout": {
          "annotationdefaults": {
           "arrowcolor": "#2a3f5f",
           "arrowhead": 0,
           "arrowwidth": 1
          },
          "autotypenumbers": "strict",
          "coloraxis": {
           "colorbar": {
            "outlinewidth": 0,
            "ticks": ""
           }
          },
          "colorscale": {
           "diverging": [
            [
             0,
             "#8e0152"
            ],
            [
             0.1,
             "#c51b7d"
            ],
            [
             0.2,
             "#de77ae"
            ],
            [
             0.3,
             "#f1b6da"
            ],
            [
             0.4,
             "#fde0ef"
            ],
            [
             0.5,
             "#f7f7f7"
            ],
            [
             0.6,
             "#e6f5d0"
            ],
            [
             0.7,
             "#b8e186"
            ],
            [
             0.8,
             "#7fbc41"
            ],
            [
             0.9,
             "#4d9221"
            ],
            [
             1,
             "#276419"
            ]
           ],
           "sequential": [
            [
             0,
             "#0d0887"
            ],
            [
             0.1111111111111111,
             "#46039f"
            ],
            [
             0.2222222222222222,
             "#7201a8"
            ],
            [
             0.3333333333333333,
             "#9c179e"
            ],
            [
             0.4444444444444444,
             "#bd3786"
            ],
            [
             0.5555555555555556,
             "#d8576b"
            ],
            [
             0.6666666666666666,
             "#ed7953"
            ],
            [
             0.7777777777777778,
             "#fb9f3a"
            ],
            [
             0.8888888888888888,
             "#fdca26"
            ],
            [
             1,
             "#f0f921"
            ]
           ],
           "sequentialminus": [
            [
             0,
             "#0d0887"
            ],
            [
             0.1111111111111111,
             "#46039f"
            ],
            [
             0.2222222222222222,
             "#7201a8"
            ],
            [
             0.3333333333333333,
             "#9c179e"
            ],
            [
             0.4444444444444444,
             "#bd3786"
            ],
            [
             0.5555555555555556,
             "#d8576b"
            ],
            [
             0.6666666666666666,
             "#ed7953"
            ],
            [
             0.7777777777777778,
             "#fb9f3a"
            ],
            [
             0.8888888888888888,
             "#fdca26"
            ],
            [
             1,
             "#f0f921"
            ]
           ]
          },
          "colorway": [
           "#636efa",
           "#EF553B",
           "#00cc96",
           "#ab63fa",
           "#FFA15A",
           "#19d3f3",
           "#FF6692",
           "#B6E880",
           "#FF97FF",
           "#FECB52"
          ],
          "font": {
           "color": "#2a3f5f"
          },
          "geo": {
           "bgcolor": "white",
           "lakecolor": "white",
           "landcolor": "#E5ECF6",
           "showlakes": true,
           "showland": true,
           "subunitcolor": "white"
          },
          "hoverlabel": {
           "align": "left"
          },
          "hovermode": "closest",
          "mapbox": {
           "style": "light"
          },
          "paper_bgcolor": "white",
          "plot_bgcolor": "#E5ECF6",
          "polar": {
           "angularaxis": {
            "gridcolor": "white",
            "linecolor": "white",
            "ticks": ""
           },
           "bgcolor": "#E5ECF6",
           "radialaxis": {
            "gridcolor": "white",
            "linecolor": "white",
            "ticks": ""
           }
          },
          "scene": {
           "xaxis": {
            "backgroundcolor": "#E5ECF6",
            "gridcolor": "white",
            "gridwidth": 2,
            "linecolor": "white",
            "showbackground": true,
            "ticks": "",
            "zerolinecolor": "white"
           },
           "yaxis": {
            "backgroundcolor": "#E5ECF6",
            "gridcolor": "white",
            "gridwidth": 2,
            "linecolor": "white",
            "showbackground": true,
            "ticks": "",
            "zerolinecolor": "white"
           },
           "zaxis": {
            "backgroundcolor": "#E5ECF6",
            "gridcolor": "white",
            "gridwidth": 2,
            "linecolor": "white",
            "showbackground": true,
            "ticks": "",
            "zerolinecolor": "white"
           }
          },
          "shapedefaults": {
           "line": {
            "color": "#2a3f5f"
           }
          },
          "ternary": {
           "aaxis": {
            "gridcolor": "white",
            "linecolor": "white",
            "ticks": ""
           },
           "baxis": {
            "gridcolor": "white",
            "linecolor": "white",
            "ticks": ""
           },
           "bgcolor": "#E5ECF6",
           "caxis": {
            "gridcolor": "white",
            "linecolor": "white",
            "ticks": ""
           }
          },
          "title": {
           "x": 0.05
          },
          "xaxis": {
           "automargin": true,
           "gridcolor": "white",
           "linecolor": "white",
           "ticks": "",
           "title": {
            "standoff": 15
           },
           "zerolinecolor": "white",
           "zerolinewidth": 2
          },
          "yaxis": {
           "automargin": true,
           "gridcolor": "white",
           "linecolor": "white",
           "ticks": "",
           "title": {
            "standoff": 15
           },
           "zerolinecolor": "white",
           "zerolinewidth": 2
          }
         }
        },
        "title": {
         "text": "Hyperparameter Importances"
        },
        "xaxis": {
         "title": {
          "text": "Importance for Objective Value"
         }
        },
        "yaxis": {
         "title": {
          "text": "Hyperparameter"
         }
        }
       }
      }
     },
     "metadata": {},
     "output_type": "display_data"
    }
   ],
   "source": [
    "optuna.visualization.plot_param_importances(study_1)"
   ]
  },
  {
   "cell_type": "code",
   "execution_count": 23,
   "metadata": {},
   "outputs": [
    {
     "data": {
      "image/png": "[encoded data removed]",
      "text/plain": [
       "<Figure size 432x288 with 1 Axes>"
      ]
     },
     "metadata": {
      "needs_background": "light"
     },
     "output_type": "display_data"
    },
    {
     "name": "stdout",
     "output_type": "stream",
     "text": [
      "Acurácia: 0.6429086632693062\n",
      "Recall: 0.5825950607604861\n",
      "Precision: 0.6625120359473627\n",
      "F1: 0.6199888200105125\n",
      "AUROC: 0.6974324947088796\n",
      "AURP: 0.6951357033971317\n",
      "\n",
      "\n"
     ]
    },
    {
     "data": {
      "text/plain": [
       "<sklearn.metrics._plot.confusion_matrix.ConfusionMatrixDisplay at 0x7f491aa5fa30>"
      ]
     },
     "execution_count": 23,
     "metadata": {},
     "output_type": "execute_result"
    },
    {
     "data": {
      "image/png": "[encoded data removed]",
      "text/plain": [
       "<Figure size 432x288 with 2 Axes>"
      ]
     },
     "metadata": {
      "needs_background": "light"
     },
     "output_type": "display_data"
    }
   ],
   "source": [
    "# Parâmetros default:\n",
    "# *,loss='deviance', \n",
    "# learning_rate=0.1, \n",
    "# n_estimators=100,\n",
    "# subsample=1.0, \n",
    "# criterion='friedman_mse', \n",
    "# min_samples_split=2,\n",
    "# min_samples_leaf=1, \n",
    "# min_weight_fraction_leaf=0.,\n",
    "# max_depth=3, \n",
    "# min_impurity_decrease=0.,\n",
    "# min_impurity_split=None, \n",
    "# random_state=None, \n",
    "# max_features=None, verbose=0,\n",
    "# max_leaf_nodes=None, \n",
    "# warm_start=False,\n",
    "# validation_fraction=0.1, \n",
    "# n_iter_no_change=None, \n",
    "# tol=1e-4,\n",
    "# ccp_alpha=0.0\n",
    "\n",
    "ds_dropado = ds.drop(labels=['IND_BOM_1_2', 'IND_BOM_1_1'], axis=1)\n",
    "df_treino = treino_ina.drop(['IND_BOM_1_2','IND_BOM_1_1'], axis=1).append(treino_adi.drop(['IND_BOM_1_2','IND_BOM_1_1'], axis=1))\n",
    "df_validacao = valid_ina.drop(['IND_BOM_1_2','IND_BOM_1_1'], axis=1).append(valid_adi.drop(['IND_BOM_1_2','IND_BOM_1_1'], axis=1))\n",
    "df_validacao.drop(columns=['INDEX'], axis=1, inplace=True)\n",
    "\n",
    "gradient_boost = GradientBoostingClassifier(n_estimators = 8, max_depth = 8, learning_rate=0.1)\n",
    "gradient_boost.fit(df_treino, [0]*len(treino_ina)+[1]*len(treino_adi))\n",
    "gb_pred_class = gradient_boost.predict(df_validacao)\n",
    "gb_pred_scores = gradient_boost.predict_proba(df_validacao)\n",
    "accuracy, recall, precision, f1, auroc, aupr = compute_performance_metrics([0]*len(valid_ina)+[1]*len(valid_adi), gb_pred_class, gb_pred_scores)\n",
    "print('Acurácia: {}\\nRecall: {}\\nPrecision: {}\\nF1: {}\\nAUROC: {}\\nAURP: {}\\n\\n'.format(accuracy, recall, precision, f1, auroc, aupr))\n",
    "\n",
    "df_teste = teste_ina.drop(['IND_BOM_1_2','IND_BOM_1_1'], axis=1).append(teste_adi.drop(['IND_BOM_1_2','IND_BOM_1_1'], axis=1))\n",
    "df_teste.drop(columns=['INDEX'], axis=1, inplace=True)\n",
    "plot_confusion_matrix(gradient_boost, df_teste, [0]*len(teste_ina)+[1]*len(teste_adi), normalize='true')"
   ]
  },
  {
   "cell_type": "code",
   "execution_count": 13,
   "metadata": {},
   "outputs": [
    {
     "data": {
      "text/plain": [
       "FrozenTrial(number=0, values=[0.6081301450411604], datetime_start=datetime.datetime(2021, 11, 26, 0, 43, 55, 308787), datetime_complete=datetime.datetime(2021, 11, 26, 0, 47, 35, 677947), params={'n_estimators': 15, 'max_depth': 46, 'loss': 'exponential', 'min_samples_leaf': 4, 'learning_rate': 0.1728224967273173, 'subsample': 0.2524415508422352}, distributions={'n_estimators': IntUniformDistribution(high=32, low=8, step=1), 'max_depth': IntUniformDistribution(high=64, low=16, step=1), 'loss': CategoricalDistribution(choices=('deviance', 'exponential')), 'min_samples_leaf': IntUniformDistribution(high=8, low=2, step=1), 'learning_rate': UniformDistribution(high=0.7, low=0.01), 'subsample': UniformDistribution(high=0.7, low=0.01)}, user_attrs={}, system_attrs={}, intermediate_values={}, trial_id=0, state=TrialState.COMPLETE, value=None)"
      ]
     },
     "execution_count": 13,
     "metadata": {},
     "output_type": "execute_result"
    }
   ],
   "source": [
    "study_2.best_trial"
   ]
  },
  {
   "cell_type": "code",
   "execution_count": null,
   "metadata": {},
   "outputs": [],
   "source": [
    "ds_dropado = ds.drop(labels=['IND_BOM_1_2', 'IND_BOM_1_1'], axis=1)\n",
    "df_treino = treino_ina.drop(['IND_BOM_1_2','IND_BOM_1_1'], axis=1).append(treino_adi.drop(['IND_BOM_1_2','IND_BOM_1_1'], axis=1))\n",
    "df_validacao = valid_ina.drop(['IND_BOM_1_2','IND_BOM_1_1'], axis=1).append(valid_adi.drop(['IND_BOM_1_2','IND_BOM_1_1'], axis=1))\n",
    "df_validacao.drop(columns=['INDEX'], axis=1, inplace=True)\n",
    "\n",
    "def gb(trial):\n",
    "    n_estimators = trial.suggest_int(\"n_estimators\", 8, 32)\n",
    "    max_depth = trial.suggest_int(\"max_depth\", 16, 64)\n",
    "    loss = trial.suggest_categorical(\"loss\", [\"deviance\", \"exponential\"])\n",
    "    min_samples_leaf = trial.suggest_int(\"min_samples_leaf\", 2, 8)\n",
    "    learning_rate = trial.suggest_float(\"learning_rate\", 0.01, 0.7)\n",
    "    subsample = trial.suggest_float(\"subsample\", 0.01, 0.7)\n",
    "    print('Gradient Boosting com {} estimadores e profundidade máxima {}, critério {}, min amostras de folhas {}, subsample de {} e taxa de aprendizagem {}\\n'.format(\n",
    "        n_estimators, max_depth, loss, min_samples_leaf, subsample, learning_rate\n",
    "    ))\n",
    "\n",
    "    gradient_boost = GradientBoostingClassifier(n_estimators = n_estimators, max_depth = max_depth, min_samples_leaf = min_samples_leaf, learning_rate = learning_rate, loss = loss, subsample = subsample)\n",
    "    gradient_boost.fit(df_treino, [0]*len(treino_ina)+[1]*len(treino_adi))\n",
    "    gb_pred_class = gradient_boost.predict(df_validacao)\n",
    "    gb_pred_scores = gradient_boost.predict_proba(df_validacao)\n",
    "    accuracy, recall, precision, f1, auroc, aupr = compute_performance_metrics([0]*len(valid_ina)+[1]*len(valid_adi), gb_pred_class, gb_pred_scores)\n",
    "    # print('Acurácia: {} | Recall: {} | Precision: {} | F1: {} | AUROC: {} | AURP: {}\\n'.format(accuracy, recall, precision, f1, auroc, aupr))\n",
    "    return accuracy\n",
    "\n",
    "study_2 = optuna.create_study(direction=\"maximize\")\n",
    "study_2.optimize(gb, n_trials=64)"
   ]
  },
  {
   "cell_type": "code",
   "execution_count": null,
   "metadata": {},
   "outputs": [],
   "source": [
    "optuna.visualization.plot_optimization_history(study_2)"
   ]
  },
  {
   "cell_type": "code",
   "execution_count": null,
   "metadata": {},
   "outputs": [],
   "source": [
    "optuna.visualization.plot_slice(study_2)"
   ]
  },
  {
   "cell_type": "code",
   "execution_count": null,
   "metadata": {},
   "outputs": [],
   "source": [
    "optuna.visualization.plot_param_importances(study_2)"
   ]
  }
 ],
 "metadata": {
  "interpreter": {
   "hash": "31f2aee4e71d21fbe5cf8b01ff0e069b9275f58929596ceb00d14d90e3e16cd6"
  },
  "kernelspec": {
   "display_name": "Python 3",
   "language": "python",
   "name": "python3"
  },
  "language_info": {
   "codemirror_mode": {
    "name": "ipython",
    "version": 3
   },
   "file_extension": ".py",
   "mimetype": "text/x-python",
   "name": "python",
   "nbconvert_exporter": "python",
   "pygments_lexer": "ipython3",
   "version": "3.8.10"
  }
 },
 "nbformat": 4,
 "nbformat_minor": 2
}
